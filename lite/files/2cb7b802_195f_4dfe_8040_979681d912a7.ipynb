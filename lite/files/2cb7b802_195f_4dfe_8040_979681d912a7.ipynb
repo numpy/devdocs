{
    "nbformat": 4,
    "nbformat_minor": 5,
    "metadata": {
        "kernelspec": {
            "display_name": "Python",
            "language": "python",
            "name": "python"
        },
        "language_info": {
            "name": "python"
        }
    },
    "cells": [
        {
            "id": "4c1c017f",
            "cell_type": "markdown",
            "source": "<div class='alert alert-warning'>\n\nNumPy's interactive examples are experimental and may not always work as expected, with high load times especially on low-resource platforms, and the version of NumPy might not be in sync with the one you are browsing the documentation for. If you encounter any issues, please report them on the [NumPy issue tracker](https://github.com/numpy/numpy/issues).\n\n</div>",
            "metadata": {}
        },
        {
            "id": "74cf81e3",
            "cell_type": "code",
            "metadata": {},
            "execution_count": null,
            "source": "clib.somefunc.argtypes = [np.ctypeslib.ndpointer(dtype=np.float64,\n                                                 ndim=1,\n                                                 flags='C_CONTIGUOUS')]\n#doctest: +SKIP\nclib.somefunc(np.array([1, 2, 3], dtype=np.float64))\n#doctest: +SKIP",
            "outputs": []
        }
    ]
}