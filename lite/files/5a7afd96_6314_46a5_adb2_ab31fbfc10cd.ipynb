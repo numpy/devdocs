{
    "nbformat": 4,
    "nbformat_minor": 5,
    "metadata": {
        "kernelspec": {
            "display_name": "Python",
            "language": "python",
            "name": "python"
        },
        "language_info": {
            "name": "python"
        }
    },
    "cells": [
        {
            "id": "2554311e",
            "cell_type": "markdown",
            "source": "<div class='alert alert-warning'>\n\nNumPy's interactive examples are experimental and may not always work as expected, with high load times especially on low-resource platforms, and the version of NumPy might not be in sync with the one you are browsing the documentation for. If you encounter any issues, please report them on the [NumPy issue tracker](https://github.com/numpy/numpy/issues).\n\n</div>",
            "metadata": {}
        },
        {
            "id": "69802ada",
            "cell_type": "code",
            "metadata": {},
            "execution_count": null,
            "source": "import numpy as np",
            "outputs": []
        },
        {
            "id": "c0c74611",
            "cell_type": "markdown",
            "source": "(We set the printing precision so the example can be auto-tested)\n",
            "metadata": {}
        },
        {
            "id": "a24ec7b8",
            "cell_type": "code",
            "metadata": {},
            "execution_count": null,
            "source": "np.set_printoptions(precision=4)",
            "outputs": []
        },
        {
            "id": "352091d2",
            "cell_type": "code",
            "metadata": {},
            "execution_count": null,
            "source": "np.emath.log10(10**1)",
            "outputs": [
                {
                    "output_type": "execute_result",
                    "metadata": {},
                    "data": {
                        "text/plain": "1.0"
                    },
                    "execution_count": null
                }
            ]
        },
        {
            "id": "5786269d",
            "cell_type": "code",
            "metadata": {},
            "execution_count": null,
            "source": "np.emath.log10([-10**1, -10**2, 10**2])",
            "outputs": [
                {
                    "output_type": "execute_result",
                    "metadata": {},
                    "data": {
                        "text/plain": "array([1.+1.3644j, 2.+1.3644j, 2.+0.j    ])"
                    },
                    "execution_count": null
                }
            ]
        }
    ]
}