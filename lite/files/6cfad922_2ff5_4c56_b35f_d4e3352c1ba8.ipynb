{
    "nbformat": 4,
    "nbformat_minor": 5,
    "metadata": {
        "kernelspec": {
            "display_name": "Python",
            "language": "python",
            "name": "python"
        },
        "language_info": {
            "name": "python"
        }
    },
    "cells": [
        {
            "id": "7a8ff958",
            "cell_type": "markdown",
            "source": "<div class='alert alert-warning'>\n\nNumPy's interactive examples are experimental and may not always work as expected, with high load times especially on low-resource platforms, and the version of NumPy might not be in sync with the one you are browsing the documentation for. If you encounter any issues, please report them on the [NumPy issue tracker](https://github.com/numpy/numpy/issues).\n\n</div>",
            "metadata": {}
        },
        {
            "id": "ea6d34a7",
            "cell_type": "code",
            "metadata": {},
            "execution_count": null,
            "source": "import numpy as np\nx = np.arange(10)\ny = x + 1\nit = np.nditer([x, y])\nnext(it)",
            "outputs": [
                {
                    "output_type": "execute_result",
                    "metadata": {},
                    "data": {
                        "text/plain": "(array(0), array(1))"
                    },
                    "execution_count": null
                }
            ]
        },
        {
            "id": "190bc967",
            "cell_type": "code",
            "metadata": {},
            "execution_count": null,
            "source": "it2 = it.copy()\nnext(it2)",
            "outputs": [
                {
                    "output_type": "execute_result",
                    "metadata": {},
                    "data": {
                        "text/plain": "(array(1), array(2))"
                    },
                    "execution_count": null
                }
            ]
        }
    ]
}