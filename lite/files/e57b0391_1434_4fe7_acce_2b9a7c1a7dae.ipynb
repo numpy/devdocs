{
    "nbformat": 4,
    "nbformat_minor": 5,
    "metadata": {
        "kernelspec": {
            "display_name": "Python",
            "language": "python",
            "name": "python"
        },
        "language_info": {
            "name": "python"
        }
    },
    "cells": [
        {
            "id": "c92878e6",
            "cell_type": "markdown",
            "source": "<div class='alert alert-warning'>\n\nNumPy's interactive examples are experimental and may not always work as expected, with high load times especially on low-resource platforms, and the version of NumPy might not be in sync with the one you are browsing the documentation for. If you encounter any issues, please report them on the [NumPy issue tracker](https://github.com/numpy/numpy/issues).\n\n</div>",
            "metadata": {}
        },
        {
            "id": "931d8fd6",
            "cell_type": "code",
            "metadata": {},
            "execution_count": null,
            "source": "import numpy as np",
            "outputs": []
        },
        {
            "id": "89d945b3",
            "cell_type": "markdown",
            "source": "For this sample array\n",
            "metadata": {}
        },
        {
            "id": "4e5a59bd",
            "cell_type": "code",
            "metadata": {},
            "execution_count": null,
            "source": "a = np.array([[10, 30, 20], [60, 40, 50]])",
            "outputs": []
        },
        {
            "id": "d12aa699",
            "cell_type": "markdown",
            "source": "We can sort either by using sort directly, or argsort and this function\n",
            "metadata": {}
        },
        {
            "id": "8a5fd8be",
            "cell_type": "code",
            "metadata": {},
            "execution_count": null,
            "source": "np.sort(a, axis=1)",
            "outputs": [
                {
                    "output_type": "execute_result",
                    "metadata": {},
                    "data": {
                        "text/plain": "array([[10, 20, 30],\n       [40, 50, 60]])"
                    },
                    "execution_count": null
                }
            ]
        },
        {
            "id": "2dec6db4",
            "cell_type": "code",
            "metadata": {},
            "execution_count": null,
            "source": "ai = np.argsort(a, axis=1)\nai",
            "outputs": [
                {
                    "output_type": "execute_result",
                    "metadata": {},
                    "data": {
                        "text/plain": "array([[0, 2, 1],\n       [1, 2, 0]])"
                    },
                    "execution_count": null
                }
            ]
        },
        {
            "id": "ffa877f0",
            "cell_type": "code",
            "metadata": {},
            "execution_count": null,
            "source": "np.take_along_axis(a, ai, axis=1)",
            "outputs": [
                {
                    "output_type": "execute_result",
                    "metadata": {},
                    "data": {
                        "text/plain": "array([[10, 20, 30],\n       [40, 50, 60]])"
                    },
                    "execution_count": null
                }
            ]
        },
        {
            "id": "8db1e79a",
            "cell_type": "markdown",
            "source": "The same works for max and min, if you maintain the trivial dimension\nwith ``keepdims``:\n",
            "metadata": {}
        },
        {
            "id": "5284aa84",
            "cell_type": "code",
            "metadata": {},
            "execution_count": null,
            "source": "np.max(a, axis=1, keepdims=True)",
            "outputs": [
                {
                    "output_type": "execute_result",
                    "metadata": {},
                    "data": {
                        "text/plain": "array([[30],\n       [60]])"
                    },
                    "execution_count": null
                }
            ]
        },
        {
            "id": "f99e74fb",
            "cell_type": "code",
            "metadata": {},
            "execution_count": null,
            "source": "ai = np.argmax(a, axis=1, keepdims=True)\nai",
            "outputs": [
                {
                    "output_type": "execute_result",
                    "metadata": {},
                    "data": {
                        "text/plain": "array([[1],\n       [0]])"
                    },
                    "execution_count": null
                }
            ]
        },
        {
            "id": "6f0f3260",
            "cell_type": "code",
            "metadata": {},
            "execution_count": null,
            "source": "np.take_along_axis(a, ai, axis=1)",
            "outputs": [
                {
                    "output_type": "execute_result",
                    "metadata": {},
                    "data": {
                        "text/plain": "array([[30],\n       [60]])"
                    },
                    "execution_count": null
                }
            ]
        },
        {
            "id": "4e16819e",
            "cell_type": "markdown",
            "source": "If we want to get the max and min at the same time, we can stack the\nindices first\n",
            "metadata": {}
        },
        {
            "id": "5f8f866d",
            "cell_type": "code",
            "metadata": {},
            "execution_count": null,
            "source": "ai_min = np.argmin(a, axis=1, keepdims=True)\nai_max = np.argmax(a, axis=1, keepdims=True)\nai = np.concatenate([ai_min, ai_max], axis=1)\nai",
            "outputs": [
                {
                    "output_type": "execute_result",
                    "metadata": {},
                    "data": {
                        "text/plain": "array([[0, 1],\n       [1, 0]])"
                    },
                    "execution_count": null
                }
            ]
        },
        {
            "id": "62bf50a3",
            "cell_type": "code",
            "metadata": {},
            "execution_count": null,
            "source": "np.take_along_axis(a, ai, axis=1)",
            "outputs": [
                {
                    "output_type": "execute_result",
                    "metadata": {},
                    "data": {
                        "text/plain": "array([[10, 30],\n       [40, 60]])"
                    },
                    "execution_count": null
                }
            ]
        }
    ]
}