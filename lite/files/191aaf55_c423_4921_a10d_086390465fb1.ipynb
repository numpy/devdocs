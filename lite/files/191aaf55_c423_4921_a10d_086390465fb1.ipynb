{
    "nbformat": 4,
    "nbformat_minor": 5,
    "metadata": {
        "kernelspec": {
            "display_name": "Python",
            "language": "python",
            "name": "python"
        },
        "language_info": {
            "name": "python"
        }
    },
    "cells": [
        {
            "id": "5c559eb3",
            "cell_type": "markdown",
            "source": "<div class='alert alert-warning'>\n\nNumPy's interactive examples are experimental and may not always work as expected, with high load times especially on low-resource platforms, and the version of NumPy might not be in sync with the one you are browsing the documentation for. If you encounter any issues, please report them on the [NumPy issue tracker](https://github.com/numpy/numpy/issues).\n\n</div>",
            "metadata": {}
        },
        {
            "id": "1b966f27",
            "cell_type": "code",
            "metadata": {},
            "execution_count": null,
            "source": "import numpy as np\nnp.set_printoptions(precision=4)",
            "outputs": []
        },
        {
            "id": "a637cb53",
            "cell_type": "code",
            "metadata": {},
            "execution_count": null,
            "source": "np.emath.arctanh(0.5)",
            "outputs": [
                {
                    "output_type": "execute_result",
                    "metadata": {},
                    "data": {
                        "text/plain": "0.5493061443340549"
                    },
                    "execution_count": null
                }
            ]
        },
        {
            "id": "26a77f8c",
            "cell_type": "code",
            "metadata": {},
            "execution_count": null,
            "source": "import warnings\nwith warnings.catch_warnings():\n    warnings.simplefilter('ignore', RuntimeWarning)\n    np.emath.arctanh(np.eye(2))",
            "outputs": [
                {
                    "output_type": "execute_result",
                    "metadata": {},
                    "data": {
                        "text/plain": "array([[inf,  0.],\n       [ 0., inf]])"
                    },
                    "execution_count": null
                }
            ]
        },
        {
            "id": "5ec05a81",
            "cell_type": "code",
            "metadata": {},
            "execution_count": null,
            "source": "np.emath.arctanh([1j])",
            "outputs": [
                {
                    "output_type": "execute_result",
                    "metadata": {},
                    "data": {
                        "text/plain": "array([0.+0.7854j])"
                    },
                    "execution_count": null
                }
            ]
        }
    ]
}