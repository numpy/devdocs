{
    "nbformat": 4,
    "nbformat_minor": 5,
    "metadata": {
        "kernelspec": {
            "display_name": "Python",
            "language": "python",
            "name": "python"
        },
        "language_info": {
            "name": "python"
        }
    },
    "cells": [
        {
            "id": "99dc7fe2",
            "cell_type": "markdown",
            "source": "<div class='alert alert-warning'>\n\nNumPy's interactive examples are experimental and may not always work as expected, with high load times especially on low-resource platforms, and the version of NumPy might not be in sync with the one you are browsing the documentation for. If you encounter any issues, please report them on the [NumPy issue tracker](https://github.com/numpy/numpy/issues).\n\n</div>",
            "metadata": {}
        },
        {
            "id": "6824bdbb",
            "cell_type": "code",
            "metadata": {},
            "execution_count": null,
            "source": "import numpy as np\nnp.promote_types('f4', 'f8')",
            "outputs": [
                {
                    "output_type": "execute_result",
                    "metadata": {},
                    "data": {
                        "text/plain": "dtype('float64')"
                    },
                    "execution_count": null
                }
            ]
        },
        {
            "id": "b519eb09",
            "cell_type": "code",
            "metadata": {},
            "execution_count": null,
            "source": "np.promote_types('i8', 'f4')",
            "outputs": [
                {
                    "output_type": "execute_result",
                    "metadata": {},
                    "data": {
                        "text/plain": "dtype('float64')"
                    },
                    "execution_count": null
                }
            ]
        },
        {
            "id": "804bee05",
            "cell_type": "code",
            "metadata": {},
            "execution_count": null,
            "source": "np.promote_types('>i8', '<c8')",
            "outputs": [
                {
                    "output_type": "execute_result",
                    "metadata": {},
                    "data": {
                        "text/plain": "dtype('complex128')"
                    },
                    "execution_count": null
                }
            ]
        },
        {
            "id": "cfde199c",
            "cell_type": "code",
            "metadata": {},
            "execution_count": null,
            "source": "np.promote_types('i4', 'S8')",
            "outputs": [
                {
                    "output_type": "execute_result",
                    "metadata": {},
                    "data": {
                        "text/plain": "dtype('S11')"
                    },
                    "execution_count": null
                }
            ]
        },
        {
            "id": "14ad5367",
            "cell_type": "markdown",
            "source": "An example of a non-associative case:\n",
            "metadata": {}
        },
        {
            "id": "a520e7a5",
            "cell_type": "code",
            "metadata": {},
            "execution_count": null,
            "source": "p = np.promote_types\np('S', p('i1', 'u1'))",
            "outputs": [
                {
                    "output_type": "execute_result",
                    "metadata": {},
                    "data": {
                        "text/plain": "dtype('S6')"
                    },
                    "execution_count": null
                }
            ]
        },
        {
            "id": "745a8cc1",
            "cell_type": "code",
            "metadata": {},
            "execution_count": null,
            "source": "p(p('S', 'i1'), 'u1')",
            "outputs": [
                {
                    "output_type": "execute_result",
                    "metadata": {},
                    "data": {
                        "text/plain": "dtype('S4')"
                    },
                    "execution_count": null
                }
            ]
        }
    ]
}