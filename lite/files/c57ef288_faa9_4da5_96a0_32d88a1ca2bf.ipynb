{
    "nbformat": 4,
    "nbformat_minor": 5,
    "metadata": {
        "kernelspec": {
            "display_name": "Python",
            "language": "python",
            "name": "python"
        },
        "language_info": {
            "name": "python"
        }
    },
    "cells": [
        {
            "id": "a8c07176",
            "cell_type": "markdown",
            "source": "<div class='alert alert-warning'>\n\nNumPy's interactive examples are experimental and may not always work as expected, with high load times especially on low-resource platforms, and the version of NumPy might not be in sync with the one you are browsing the documentation for. If you encounter any issues, please report them on the [NumPy issue tracker](https://github.com/numpy/numpy/issues).\n\n</div>",
            "metadata": {}
        },
        {
            "id": "ebae4571",
            "cell_type": "code",
            "metadata": {},
            "execution_count": null,
            "source": "import numpy as np\nnp.unravel_index([22, 41, 37], (7,6))",
            "outputs": [
                {
                    "output_type": "execute_result",
                    "metadata": {},
                    "data": {
                        "text/plain": "(array([3, 6, 6]), array([4, 5, 1]))"
                    },
                    "execution_count": null
                }
            ]
        },
        {
            "id": "b2058525",
            "cell_type": "code",
            "metadata": {},
            "execution_count": null,
            "source": "np.unravel_index([31, 41, 13], (7,6), order='F')",
            "outputs": [
                {
                    "output_type": "execute_result",
                    "metadata": {},
                    "data": {
                        "text/plain": "(array([3, 6, 6]), array([4, 5, 1]))"
                    },
                    "execution_count": null
                }
            ]
        },
        {
            "id": "9ef48db5",
            "cell_type": "code",
            "metadata": {},
            "execution_count": null,
            "source": "np.unravel_index(1621, (6,7,8,9))",
            "outputs": [
                {
                    "output_type": "execute_result",
                    "metadata": {},
                    "data": {
                        "text/plain": "(3, 1, 4, 1)"
                    },
                    "execution_count": null
                }
            ]
        }
    ]
}