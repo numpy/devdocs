{
    "nbformat": 4,
    "nbformat_minor": 5,
    "metadata": {
        "kernelspec": {
            "display_name": "Python",
            "language": "python",
            "name": "python"
        },
        "language_info": {
            "name": "python"
        }
    },
    "cells": [
        {
            "id": "10ecafd7",
            "cell_type": "markdown",
            "source": "<div class='alert alert-warning'>\n\nNumPy's interactive examples are experimental and may not always work as expected, with high load times especially on low-resource platforms, and the version of NumPy might not be in sync with the one you are browsing the documentation for. If you encounter any issues, please report them on the [NumPy issue tracker](https://github.com/numpy/numpy/issues).\n\n</div>",
            "metadata": {}
        },
        {
            "id": "0f177e67",
            "cell_type": "code",
            "metadata": {},
            "execution_count": null,
            "source": "x = np.matrix([[1, 2], [4, 3]])\nx.sum()",
            "outputs": [
                {
                    "output_type": "execute_result",
                    "metadata": {},
                    "data": {
                        "text/plain": "10"
                    },
                    "execution_count": null
                }
            ]
        },
        {
            "id": "1bff685d",
            "cell_type": "code",
            "metadata": {},
            "execution_count": null,
            "source": "x.sum(axis=1)",
            "outputs": [
                {
                    "output_type": "execute_result",
                    "metadata": {},
                    "data": {
                        "text/plain": "matrix([[3],\n        [7]])"
                    },
                    "execution_count": null
                }
            ]
        },
        {
            "id": "621dff87",
            "cell_type": "code",
            "metadata": {},
            "execution_count": null,
            "source": "x.sum(axis=1, dtype='float')",
            "outputs": [
                {
                    "output_type": "execute_result",
                    "metadata": {},
                    "data": {
                        "text/plain": "matrix([[3.],\n        [7.]])"
                    },
                    "execution_count": null
                }
            ]
        },
        {
            "id": "34bd0873",
            "cell_type": "code",
            "metadata": {},
            "execution_count": null,
            "source": "out = np.zeros((2, 1), dtype='float')\nx.sum(axis=1, dtype='float', out=np.asmatrix(out))",
            "outputs": [
                {
                    "output_type": "execute_result",
                    "metadata": {},
                    "data": {
                        "text/plain": "matrix([[3.],\n        [7.]])"
                    },
                    "execution_count": null
                }
            ]
        }
    ]
}