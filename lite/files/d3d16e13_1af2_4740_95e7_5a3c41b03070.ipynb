{
    "nbformat": 4,
    "nbformat_minor": 5,
    "metadata": {
        "kernelspec": {
            "display_name": "Python",
            "language": "python",
            "name": "python"
        },
        "language_info": {
            "name": "python"
        }
    },
    "cells": [
        {
            "id": "1eece98f",
            "cell_type": "markdown",
            "source": "<div class='alert alert-warning'>\n\nNumPy's interactive examples are experimental and may not always work as expected, with high load times especially on low-resource platforms, and the version of NumPy might not be in sync with the one you are browsing the documentation for. If you encounter any issues, please report them on the [NumPy issue tracker](https://github.com/numpy/numpy/issues).\n\n</div>",
            "metadata": {}
        },
        {
            "id": "9bf3fb5c",
            "cell_type": "code",
            "metadata": {},
            "execution_count": null,
            "source": "import numpy as np\ny = np.reshape(np.arange(2 * 3 * 4, dtype=np.int32), (2, 3, 4))\ny",
            "outputs": [
                {
                    "output_type": "execute_result",
                    "metadata": {},
                    "data": {
                        "text/plain": "array([[[ 0,  1,  2,  3],\n        [ 4,  5,  6,  7],\n        [ 8,  9, 10, 11]],\n       [[12, 13, 14, 15],\n        [16, 17, 18, 19],\n        [20, 21, 22, 23]]], dtype=np.int32)"
                    },
                    "execution_count": null
                }
            ]
        },
        {
            "id": "3aefc4a9",
            "cell_type": "code",
            "metadata": {},
            "execution_count": null,
            "source": "y.strides",
            "outputs": [
                {
                    "output_type": "execute_result",
                    "metadata": {},
                    "data": {
                        "text/plain": "(48, 16, 4)"
                    },
                    "execution_count": null
                }
            ]
        },
        {
            "id": "e0c5717d",
            "cell_type": "code",
            "metadata": {},
            "execution_count": null,
            "source": "y[1, 1, 1]",
            "outputs": [
                {
                    "output_type": "execute_result",
                    "metadata": {},
                    "data": {
                        "text/plain": "np.int32(17)"
                    },
                    "execution_count": null
                }
            ]
        },
        {
            "id": "c767210a",
            "cell_type": "code",
            "metadata": {},
            "execution_count": null,
            "source": "offset = sum(y.strides * np.array((1, 1, 1)))\noffset // y.itemsize",
            "outputs": [
                {
                    "output_type": "execute_result",
                    "metadata": {},
                    "data": {
                        "text/plain": "np.int64(17)"
                    },
                    "execution_count": null
                }
            ]
        },
        {
            "id": "f6bebc6a",
            "cell_type": "code",
            "metadata": {},
            "execution_count": null,
            "source": "x = np.reshape(np.arange(5*6*7*8, dtype=np.int32), (5, 6, 7, 8))\nx = x.transpose(2, 3, 1, 0)\nx.strides",
            "outputs": [
                {
                    "output_type": "execute_result",
                    "metadata": {},
                    "data": {
                        "text/plain": "(32, 4, 224, 1344)"
                    },
                    "execution_count": null
                }
            ]
        },
        {
            "id": "0fc69d19",
            "cell_type": "code",
            "metadata": {},
            "execution_count": null,
            "source": "i = np.array([3, 5, 2, 2], dtype=np.int32)\noffset = sum(i * x.strides)\nx[3, 5, 2, 2]",
            "outputs": [
                {
                    "output_type": "execute_result",
                    "metadata": {},
                    "data": {
                        "text/plain": "np.int32(813)"
                    },
                    "execution_count": null
                }
            ]
        },
        {
            "id": "b3cb5c81",
            "cell_type": "code",
            "metadata": {},
            "execution_count": null,
            "source": "offset // x.itemsize",
            "outputs": [
                {
                    "output_type": "execute_result",
                    "metadata": {},
                    "data": {
                        "text/plain": "np.int64(813)"
                    },
                    "execution_count": null
                }
            ]
        }
    ]
}