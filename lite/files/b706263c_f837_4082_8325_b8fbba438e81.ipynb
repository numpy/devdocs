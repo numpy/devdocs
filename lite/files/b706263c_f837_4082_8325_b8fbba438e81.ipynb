{
    "nbformat": 4,
    "nbformat_minor": 5,
    "metadata": {
        "kernelspec": {
            "display_name": "Python",
            "language": "python",
            "name": "python"
        },
        "language_info": {
            "name": "python"
        }
    },
    "cells": [
        {
            "id": "8071ffc6",
            "cell_type": "markdown",
            "source": "<div class='alert alert-warning'>\n\nNumPy's interactive examples are experimental and may not always work as expected, with high load times especially on low-resource platforms, and the version of NumPy might not be in sync with the one you are browsing the documentation for. If you encounter any issues, please report them on the [NumPy issue tracker](https://github.com/numpy/numpy/issues).\n\n</div>",
            "metadata": {}
        },
        {
            "id": "cd3701ae",
            "cell_type": "markdown",
            "source": "The first assert does not raise an exception:\n",
            "metadata": {}
        },
        {
            "id": "25df855b",
            "cell_type": "code",
            "metadata": {},
            "execution_count": null,
            "source": "np.testing.assert_array_equal([1.0,2.33333,np.nan],\n                              [np.exp(0),2.33333, np.nan])",
            "outputs": []
        },
        {
            "id": "7f0f3f76",
            "cell_type": "markdown",
            "source": "Assert fails with numerical imprecision with floats:\n",
            "metadata": {}
        },
        {
            "id": "bbc30374",
            "cell_type": "code",
            "metadata": {},
            "execution_count": null,
            "source": "np.testing.assert_array_equal([1.0,np.pi,np.nan],\n                              [1, np.sqrt(np.pi)**2, np.nan])",
            "outputs": [
                {
                    "output_type": "execute_result",
                    "metadata": {},
                    "data": {
                        "text/plain": "Traceback (most recent call last):\n    ...\nAssertionError:\nArrays are not equal\n<BLANKLINE>\nMismatched elements: 1 / 3 (33.3%)\nMismatch at index:\n [1]: 3.141592653589793 (ACTUAL), 3.1415926535897927 (DESIRED)\nMax absolute difference among violations: 4.4408921e-16\nMax relative difference among violations: 1.41357986e-16\n ACTUAL: array([1.      , 3.141593,      nan])\n DESIRED: array([1.      , 3.141593,      nan])"
                    },
                    "execution_count": null
                }
            ]
        },
        {
            "id": "7c01e30d",
            "cell_type": "markdown",
            "source": "Use `assert_allclose` or one of the nulp (number of floating point values)\nfunctions for these cases instead:\n",
            "metadata": {}
        },
        {
            "id": "3e1b5542",
            "cell_type": "code",
            "metadata": {},
            "execution_count": null,
            "source": "np.testing.assert_allclose([1.0,np.pi,np.nan],\n                           [1, np.sqrt(np.pi)**2, np.nan],\n                           rtol=1e-10, atol=0)",
            "outputs": []
        },
        {
            "id": "3641d49d",
            "cell_type": "markdown",
            "source": "As mentioned in the Notes section, `assert_array_equal` has special\nhandling for scalars. Here the test checks that each value in `x` is 3:\n",
            "metadata": {}
        },
        {
            "id": "f99f7a34",
            "cell_type": "code",
            "metadata": {},
            "execution_count": null,
            "source": "x = np.full((2, 5), fill_value=3)\nnp.testing.assert_array_equal(x, 3)",
            "outputs": []
        },
        {
            "id": "b76d87f9",
            "cell_type": "markdown",
            "source": "Use `strict` to raise an AssertionError when comparing a scalar with an\narray:\n",
            "metadata": {}
        },
        {
            "id": "1f227111",
            "cell_type": "code",
            "metadata": {},
            "execution_count": null,
            "source": "np.testing.assert_array_equal(x, 3, strict=True)",
            "outputs": [
                {
                    "output_type": "execute_result",
                    "metadata": {},
                    "data": {
                        "text/plain": "Traceback (most recent call last):\n    ...\nAssertionError:\nArrays are not equal\n<BLANKLINE>\n(shapes (2, 5), () mismatch)\n ACTUAL: array([[3, 3, 3, 3, 3],\n       [3, 3, 3, 3, 3]])\n DESIRED: array(3)"
                    },
                    "execution_count": null
                }
            ]
        },
        {
            "id": "430dbc28",
            "cell_type": "markdown",
            "source": "The `strict` parameter also ensures that the array data types match:\n",
            "metadata": {}
        },
        {
            "id": "e1993dad",
            "cell_type": "code",
            "metadata": {},
            "execution_count": null,
            "source": "x = np.array([2, 2, 2])\ny = np.array([2., 2., 2.], dtype=np.float32)\nnp.testing.assert_array_equal(x, y, strict=True)",
            "outputs": [
                {
                    "output_type": "execute_result",
                    "metadata": {},
                    "data": {
                        "text/plain": "Traceback (most recent call last):\n    ...\nAssertionError:\nArrays are not equal\n<BLANKLINE>\n(dtypes int64, float32 mismatch)\n ACTUAL: array([2, 2, 2])\n DESIRED: array([2., 2., 2.], dtype=float32)"
                    },
                    "execution_count": null
                }
            ]
        }
    ]
}