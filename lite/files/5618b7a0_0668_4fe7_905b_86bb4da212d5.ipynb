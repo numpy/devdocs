{
    "nbformat": 4,
    "nbformat_minor": 5,
    "metadata": {
        "kernelspec": {
            "display_name": "Python",
            "language": "python",
            "name": "python"
        },
        "language_info": {
            "name": "python"
        }
    },
    "cells": [
        {
            "id": "f9e2577d",
            "cell_type": "markdown",
            "source": "<div class='alert alert-warning'>\n\nNumPy's interactive examples are experimental and may not always work as expected, with high load times especially on low-resource platforms, and the version of NumPy might not be in sync with the one you are browsing the documentation for. If you encounter any issues, please report them on the [NumPy issue tracker](https://github.com/numpy/numpy/issues).\n\n</div>",
            "metadata": {}
        },
        {
            "id": "1bbb44cc",
            "cell_type": "markdown",
            "source": "Draw samples from the distribution:\n",
            "metadata": {}
        },
        {
            "id": "c4d6b9c8",
            "cell_type": "code",
            "metadata": {},
            "execution_count": null,
            "source": "rng = np.random.default_rng()\na = 5. # shape\nsamples = 1000\ns = rng.power(a, samples)",
            "outputs": []
        },
        {
            "id": "8d5788d6",
            "cell_type": "markdown",
            "source": "Display the histogram of the samples, along with\nthe probability density function:\n",
            "metadata": {}
        },
        {
            "id": "cb733088",
            "cell_type": "code",
            "metadata": {},
            "execution_count": null,
            "source": "import matplotlib.pyplot as plt\ncount, bins, _ = plt.hist(s, bins=30)\nx = np.linspace(0, 1, 100)\ny = a*x**(a-1.)\nnormed_y = samples*np.diff(bins)[0]*y\nplt.plot(x, normed_y)\nplt.show()",
            "outputs": []
        },
        {
            "id": "e2cfc86b",
            "cell_type": "markdown",
            "source": "Compare the power function distribution to the inverse of the Pareto.\n",
            "metadata": {}
        },
        {
            "id": "324790d1",
            "cell_type": "code",
            "metadata": {},
            "execution_count": null,
            "source": "from scipy import stats  # doctest: +SKIP\nrvs = rng.power(5, 1000000)\nrvsp = rng.pareto(5, 1000000)\nxx = np.linspace(0,1,100)\npowpdf = stats.powerlaw.pdf(xx,5)  # doctest: +SKIP",
            "outputs": []
        },
        {
            "id": "db72c16b",
            "cell_type": "code",
            "metadata": {},
            "execution_count": null,
            "source": "plt.figure()\nplt.hist(rvs, bins=50, density=True)\nplt.plot(xx,powpdf,'r-')  # doctest: +SKIP\nplt.title('power(5)')",
            "outputs": []
        },
        {
            "id": "c04bd317",
            "cell_type": "code",
            "metadata": {},
            "execution_count": null,
            "source": "plt.figure()\nplt.hist(1./(1.+rvsp), bins=50, density=True)\nplt.plot(xx,powpdf,'r-')  # doctest: +SKIP\nplt.title('inverse of 1 + Generator.pareto(5)')",
            "outputs": []
        },
        {
            "id": "5f511a86",
            "cell_type": "code",
            "metadata": {},
            "execution_count": null,
            "source": "plt.figure()\nplt.hist(1./(1.+rvsp), bins=50, density=True)\nplt.plot(xx,powpdf,'r-')  # doctest: +SKIP\nplt.title('inverse of stats.pareto(5)')",
            "outputs": []
        }
    ]
}