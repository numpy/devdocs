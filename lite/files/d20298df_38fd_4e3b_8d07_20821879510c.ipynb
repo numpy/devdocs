{
    "nbformat": 4,
    "nbformat_minor": 5,
    "metadata": {
        "kernelspec": {
            "display_name": "Python",
            "language": "python",
            "name": "python"
        },
        "language_info": {
            "name": "python"
        }
    },
    "cells": [
        {
            "id": "c20baeca",
            "cell_type": "markdown",
            "source": "<div class='alert alert-warning'>\n\nNumPy's interactive examples are experimental and may not always work as expected, with high load times especially on low-resource platforms, and the version of NumPy might not be in sync with the one you are browsing the documentation for. If you encounter any issues, please report them on the [NumPy issue tracker](https://github.com/numpy/numpy/issues).\n\n</div>",
            "metadata": {}
        },
        {
            "id": "2524f825",
            "cell_type": "code",
            "metadata": {},
            "execution_count": null,
            "source": "import numpy as np\na = np.ma.array([1e10, 1e-7, 42.0], mask=[0, 0, 1])\na",
            "outputs": [
                {
                    "output_type": "execute_result",
                    "metadata": {},
                    "data": {
                        "text/plain": "masked_array(data=[10000000000.0, 1e-07, --],\n             mask=[False, False,  True],\n       fill_value=1e+20)"
                    },
                    "execution_count": null
                }
            ]
        },
        {
            "id": "65103deb",
            "cell_type": "code",
            "metadata": {},
            "execution_count": null,
            "source": "b = np.ma.array([1e10, 1e-8, -42.0], mask=[0, 0, 1])\nnp.ma.allclose(a, b)",
            "outputs": [
                {
                    "output_type": "execute_result",
                    "metadata": {},
                    "data": {
                        "text/plain": "False"
                    },
                    "execution_count": null
                }
            ]
        },
        {
            "id": "2ac67ffd",
            "cell_type": "code",
            "metadata": {},
            "execution_count": null,
            "source": "a = np.ma.array([1e10, 1e-8, 42.0], mask=[0, 0, 1])\nb = np.ma.array([1.00001e10, 1e-9, -42.0], mask=[0, 0, 1])\nnp.ma.allclose(a, b)",
            "outputs": [
                {
                    "output_type": "execute_result",
                    "metadata": {},
                    "data": {
                        "text/plain": "True"
                    },
                    "execution_count": null
                }
            ]
        },
        {
            "id": "f30c7865",
            "cell_type": "code",
            "metadata": {},
            "execution_count": null,
            "source": "np.ma.allclose(a, b, masked_equal=False)",
            "outputs": [
                {
                    "output_type": "execute_result",
                    "metadata": {},
                    "data": {
                        "text/plain": "False"
                    },
                    "execution_count": null
                }
            ]
        },
        {
            "id": "146e5765",
            "cell_type": "markdown",
            "source": "Masked values are not compared directly.\n",
            "metadata": {}
        },
        {
            "id": "6dca1a0e",
            "cell_type": "code",
            "metadata": {},
            "execution_count": null,
            "source": "a = np.ma.array([1e10, 1e-8, 42.0], mask=[0, 0, 1])\nb = np.ma.array([1.00001e10, 1e-9, 42.0], mask=[0, 0, 1])\nnp.ma.allclose(a, b)",
            "outputs": [
                {
                    "output_type": "execute_result",
                    "metadata": {},
                    "data": {
                        "text/plain": "True"
                    },
                    "execution_count": null
                }
            ]
        },
        {
            "id": "4d2cb338",
            "cell_type": "code",
            "metadata": {},
            "execution_count": null,
            "source": "np.ma.allclose(a, b, masked_equal=False)",
            "outputs": [
                {
                    "output_type": "execute_result",
                    "metadata": {},
                    "data": {
                        "text/plain": "False"
                    },
                    "execution_count": null
                }
            ]
        }
    ]
}