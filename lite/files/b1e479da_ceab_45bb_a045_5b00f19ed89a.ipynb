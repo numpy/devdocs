{
    "nbformat": 4,
    "nbformat_minor": 5,
    "metadata": {
        "kernelspec": {
            "display_name": "Python",
            "language": "python",
            "name": "python"
        },
        "language_info": {
            "name": "python"
        }
    },
    "cells": [
        {
            "id": "b4b3f6b9",
            "cell_type": "markdown",
            "source": "<div class='alert alert-warning'>\n\nNumPy's interactive examples are experimental and may not always work as expected, with high load times especially on low-resource platforms, and the version of NumPy might not be in sync with the one you are browsing the documentation for. If you encounter any issues, please report them on the [NumPy issue tracker](https://github.com/numpy/numpy/issues).\n\n</div>",
            "metadata": {}
        },
        {
            "id": "23906c82",
            "cell_type": "code",
            "metadata": {},
            "execution_count": null,
            "source": "import numpy as np\nsignal = np.array([-2, 8, 6, 4, 1, 0, 3, 5], dtype=float)\nfourier = np.fft.fft(signal)\nn = signal.size\ntimestep = 0.1\nfreq = np.fft.fftfreq(n, d=timestep)\nfreq",
            "outputs": [
                {
                    "output_type": "execute_result",
                    "metadata": {},
                    "data": {
                        "text/plain": "array([ 0.  ,  1.25,  2.5 , ..., -3.75, -2.5 , -1.25])"
                    },
                    "execution_count": null
                }
            ]
        }
    ]
}