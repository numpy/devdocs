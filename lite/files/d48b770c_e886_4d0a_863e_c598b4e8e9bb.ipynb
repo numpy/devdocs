{
    "nbformat": 4,
    "nbformat_minor": 5,
    "metadata": {
        "kernelspec": {
            "display_name": "Python",
            "language": "python",
            "name": "python"
        },
        "language_info": {
            "name": "python"
        }
    },
    "cells": [
        {
            "id": "5a8c269b",
            "cell_type": "markdown",
            "source": "<div class='alert alert-warning'>\n\nNumPy's interactive examples are experimental and may not always work as expected, with high load times especially on low-resource platforms, and the version of NumPy might not be in sync with the one you are browsing the documentation for. If you encounter any issues, please report them on the [NumPy issue tracker](https://github.com/numpy/numpy/issues).\n\n</div>",
            "metadata": {}
        },
        {
            "id": "5faf40aa",
            "cell_type": "markdown",
            "source": "Putting values in a masked array:\n",
            "metadata": {}
        },
        {
            "id": "20f39364",
            "cell_type": "code",
            "metadata": {},
            "execution_count": null,
            "source": "a = np.ma.array([1, 2, 3, 4], mask=[False, True, False, False])\nnp.ma.put(a, [1, 3], [10, 30])\na",
            "outputs": [
                {
                    "output_type": "execute_result",
                    "metadata": {},
                    "data": {
                        "text/plain": "masked_array(data=[ 1, 10,  3, 30],\n             mask=False,\n       fill_value=999999)"
                    },
                    "execution_count": null
                }
            ]
        },
        {
            "id": "47be41c0",
            "cell_type": "markdown",
            "source": "Using put with a 2D array:\n",
            "metadata": {}
        },
        {
            "id": "f543491a",
            "cell_type": "code",
            "metadata": {},
            "execution_count": null,
            "source": "b = np.ma.array([[1, 2], [3, 4]], mask=[[False, True], [False, False]])\nnp.ma.put(b, [[0, 1], [1, 0]], [[10, 20], [30, 40]])\nb",
            "outputs": [
                {
                    "output_type": "execute_result",
                    "metadata": {},
                    "data": {
                        "text/plain": "masked_array(\n  data=[[40, 30],\n        [ 3,  4]],\n  mask=False,\n  fill_value=999999)"
                    },
                    "execution_count": null
                }
            ]
        }
    ]
}