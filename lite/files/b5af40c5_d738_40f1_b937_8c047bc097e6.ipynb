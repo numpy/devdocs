{
    "nbformat": 4,
    "nbformat_minor": 5,
    "metadata": {
        "kernelspec": {
            "display_name": "Python",
            "language": "python",
            "name": "python"
        },
        "language_info": {
            "name": "python"
        }
    },
    "cells": [
        {
            "id": "6d9f4f3f",
            "cell_type": "markdown",
            "source": "<div class='alert alert-warning'>\n\nNumPy's interactive examples are experimental and may not always work as expected, with high load times especially on low-resource platforms, and the version of NumPy might not be in sync with the one you are browsing the documentation for. If you encounter any issues, please report them on the [NumPy issue tracker](https://github.com/numpy/numpy/issues).\n\n</div>",
            "metadata": {}
        },
        {
            "id": "2e985bf7",
            "cell_type": "code",
            "metadata": {},
            "execution_count": null,
            "source": "from numpy.polynomial import legendre as L\nc = (1,2,3)\nL.legint(c)",
            "outputs": [
                {
                    "output_type": "execute_result",
                    "metadata": {},
                    "data": {
                        "text/plain": "array([ 0.33333333,  0.4       ,  0.66666667,  0.6       ]) # may vary"
                    },
                    "execution_count": null
                }
            ]
        },
        {
            "id": "23060eaa",
            "cell_type": "code",
            "metadata": {},
            "execution_count": null,
            "source": "L.legint(c, 3)",
            "outputs": [
                {
                    "output_type": "execute_result",
                    "metadata": {},
                    "data": {
                        "text/plain": "array([  1.66666667e-02,  -1.78571429e-02,   4.76190476e-02, # may vary\n         -1.73472348e-18,   1.90476190e-02,   9.52380952e-03])"
                    },
                    "execution_count": null
                }
            ]
        },
        {
            "id": "eabda720",
            "cell_type": "code",
            "metadata": {},
            "execution_count": null,
            "source": "L.legint(c, k=3)",
            "outputs": [
                {
                    "output_type": "execute_result",
                    "metadata": {},
                    "data": {
                        "text/plain": " array([ 3.33333333,  0.4       ,  0.66666667,  0.6       ]) # may vary"
                    },
                    "execution_count": null
                }
            ]
        },
        {
            "id": "6c2bb2f4",
            "cell_type": "code",
            "metadata": {},
            "execution_count": null,
            "source": "L.legint(c, lbnd=-2)",
            "outputs": [
                {
                    "output_type": "execute_result",
                    "metadata": {},
                    "data": {
                        "text/plain": "array([ 7.33333333,  0.4       ,  0.66666667,  0.6       ]) # may vary"
                    },
                    "execution_count": null
                }
            ]
        },
        {
            "id": "d43d7b37",
            "cell_type": "code",
            "metadata": {},
            "execution_count": null,
            "source": "L.legint(c, scl=2)",
            "outputs": [
                {
                    "output_type": "execute_result",
                    "metadata": {},
                    "data": {
                        "text/plain": "array([ 0.66666667,  0.8       ,  1.33333333,  1.2       ]) # may vary"
                    },
                    "execution_count": null
                }
            ]
        }
    ]
}