{
    "nbformat": 4,
    "nbformat_minor": 5,
    "metadata": {
        "kernelspec": {
            "display_name": "Python",
            "language": "python",
            "name": "python"
        },
        "language_info": {
            "name": "python"
        }
    },
    "cells": [
        {
            "id": "64257a03",
            "cell_type": "markdown",
            "source": "<div class='alert alert-warning'>\n\nNumPy's interactive examples are experimental and may not always work as expected, with high load times especially on low-resource platforms, and the version of NumPy might not be in sync with the one you are browsing the documentation for. If you encounter any issues, please report them on the [NumPy issue tracker](https://github.com/numpy/numpy/issues).\n\n</div>",
            "metadata": {}
        },
        {
            "id": "26984786",
            "cell_type": "markdown",
            "source": "With a context manager\n```\n\nwith np.testing.suppress_warnings() as sup:\nsup.filter(DeprecationWarning, \"Some text\")\nsup.filter(module=np.ma.core)\nlog = sup.record(FutureWarning, \"Does this occur?\")\ncommand_giving_warnings()\n# The FutureWarning was given once, the filtered warnings were\n# ignored. All other warnings abide outside settings (may be\n# printed/error)\nassert_(len(log) == 1)\nassert_(len(sup.log) == 1)  # also stored in log attribute\n\n```\nOr as a decorator\n```\n\nsup = np.testing.suppress_warnings()\nsup.filter(module=np.ma.core)  # module must match exactly\n@sup\ndef some_function():\n# do something which causes a warning in np.ma.core\npass\n```",
            "metadata": {}
        }
    ]
}