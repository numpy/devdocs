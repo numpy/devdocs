{
    "nbformat": 4,
    "nbformat_minor": 5,
    "metadata": {
        "kernelspec": {
            "display_name": "Python",
            "language": "python",
            "name": "python"
        },
        "language_info": {
            "name": "python"
        }
    },
    "cells": [
        {
            "id": "78cb94c7",
            "cell_type": "markdown",
            "source": "<div class='alert alert-warning'>\n\nNumPy's interactive examples are experimental and may not always work as expected, with high load times especially on low-resource platforms, and the version of NumPy might not be in sync with the one you are browsing the documentation for. If you encounter any issues, please report them on the [NumPy issue tracker](https://github.com/numpy/numpy/issues).\n\n</div>",
            "metadata": {}
        },
        {
            "id": "4716bf65",
            "cell_type": "code",
            "metadata": {},
            "execution_count": null,
            "source": "x = np.matrix(np.arange(12).reshape((3, 4)))\nx",
            "outputs": [
                {
                    "output_type": "execute_result",
                    "metadata": {},
                    "data": {
                        "text/plain": "matrix([[ 0,  1,  2,  3],\n        [ 4,  5,  6,  7],\n        [ 8,  9, 10, 11]])"
                    },
                    "execution_count": null
                }
            ]
        },
        {
            "id": "298056f7",
            "cell_type": "code",
            "metadata": {},
            "execution_count": null,
            "source": "x.var()",
            "outputs": [
                {
                    "output_type": "execute_result",
                    "metadata": {},
                    "data": {
                        "text/plain": "11.916666666666666"
                    },
                    "execution_count": null
                }
            ]
        },
        {
            "id": "91fa54d6",
            "cell_type": "code",
            "metadata": {},
            "execution_count": null,
            "source": "x.var(0)",
            "outputs": [
                {
                    "output_type": "execute_result",
                    "metadata": {},
                    "data": {
                        "text/plain": "matrix([[ 10.66666667,  10.66666667,  10.66666667,  10.66666667]]) # may vary"
                    },
                    "execution_count": null
                }
            ]
        },
        {
            "id": "99f411bd",
            "cell_type": "code",
            "metadata": {},
            "execution_count": null,
            "source": "x.var(1)",
            "outputs": [
                {
                    "output_type": "execute_result",
                    "metadata": {},
                    "data": {
                        "text/plain": "matrix([[1.25],\n        [1.25],\n        [1.25]])"
                    },
                    "execution_count": null
                }
            ]
        }
    ]
}