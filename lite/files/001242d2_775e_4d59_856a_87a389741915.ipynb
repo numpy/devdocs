{
    "nbformat": 4,
    "nbformat_minor": 5,
    "metadata": {
        "kernelspec": {
            "display_name": "Python",
            "language": "python",
            "name": "python"
        },
        "language_info": {
            "name": "python"
        }
    },
    "cells": [
        {
            "id": "adcd2b96",
            "cell_type": "markdown",
            "source": "<div class='alert alert-warning'>\n\nNumPy's interactive examples are experimental and may not always work as expected, with high load times especially on low-resource platforms, and the version of NumPy might not be in sync with the one you are browsing the documentation for. If you encounter any issues, please report them on the [NumPy issue tracker](https://github.com/numpy/numpy/issues).\n\n</div>",
            "metadata": {}
        },
        {
            "id": "70df2a03",
            "cell_type": "code",
            "metadata": {},
            "execution_count": null,
            "source": "import numpy as np\nc = np.array(['aAaAaA', '  aA  ', 'abBABba'])\nc",
            "outputs": [
                {
                    "output_type": "execute_result",
                    "metadata": {},
                    "data": {
                        "text/plain": "array(['aAaAaA', '  aA  ', 'abBABba'], dtype='<U7')\n# The 'a' variable is unstripped from c[1] because of leading whitespace."
                    },
                    "execution_count": null
                }
            ]
        },
        {
            "id": "b9962f61",
            "cell_type": "code",
            "metadata": {},
            "execution_count": null,
            "source": "np.strings.lstrip(c, 'a')",
            "outputs": [
                {
                    "output_type": "execute_result",
                    "metadata": {},
                    "data": {
                        "text/plain": "array(['AaAaA', '  aA  ', 'bBABba'], dtype='<U7')"
                    },
                    "execution_count": null
                }
            ]
        },
        {
            "id": "50762cb0",
            "cell_type": "code",
            "metadata": {},
            "execution_count": null,
            "source": "np.strings.lstrip(c, 'A') # leaves c unchanged",
            "outputs": [
                {
                    "output_type": "execute_result",
                    "metadata": {},
                    "data": {
                        "text/plain": "array(['aAaAaA', '  aA  ', 'abBABba'], dtype='<U7')"
                    },
                    "execution_count": null
                }
            ]
        },
        {
            "id": "0abbb2e7",
            "cell_type": "code",
            "metadata": {},
            "execution_count": null,
            "source": "(np.strings.lstrip(c, ' ') == np.strings.lstrip(c, '')).all()",
            "outputs": [
                {
                    "output_type": "execute_result",
                    "metadata": {},
                    "data": {
                        "text/plain": "np.False_"
                    },
                    "execution_count": null
                }
            ]
        },
        {
            "id": "ad3e07ea",
            "cell_type": "code",
            "metadata": {},
            "execution_count": null,
            "source": "(np.strings.lstrip(c, ' ') == np.strings.lstrip(c)).all()",
            "outputs": [
                {
                    "output_type": "execute_result",
                    "metadata": {},
                    "data": {
                        "text/plain": "np.True_"
                    },
                    "execution_count": null
                }
            ]
        }
    ]
}