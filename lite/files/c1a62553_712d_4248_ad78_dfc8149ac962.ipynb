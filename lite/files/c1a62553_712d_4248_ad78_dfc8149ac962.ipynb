{
    "nbformat": 4,
    "nbformat_minor": 5,
    "metadata": {
        "kernelspec": {
            "display_name": "Python",
            "language": "python",
            "name": "python"
        },
        "language_info": {
            "name": "python"
        }
    },
    "cells": [
        {
            "id": "1555fd2f",
            "cell_type": "markdown",
            "source": "<div class='alert alert-warning'>\n\nNumPy's interactive examples are experimental and may not always work as expected, with high load times especially on low-resource platforms, and the version of NumPy might not be in sync with the one you are browsing the documentation for. If you encounter any issues, please report them on the [NumPy issue tracker](https://github.com/numpy/numpy/issues).\n\n</div>",
            "metadata": {}
        },
        {
            "id": "6d83c533",
            "cell_type": "code",
            "metadata": {},
            "execution_count": null,
            "source": "import numpy as np\nx = np.array([1, 2, 4, 7, 0])\nnp.ediff1d(x)",
            "outputs": [
                {
                    "output_type": "execute_result",
                    "metadata": {},
                    "data": {
                        "text/plain": "array([ 1,  2,  3, -7])"
                    },
                    "execution_count": null
                }
            ]
        },
        {
            "id": "99b69fe3",
            "cell_type": "code",
            "metadata": {},
            "execution_count": null,
            "source": "np.ediff1d(x, to_begin=-99, to_end=np.array([88, 99]))",
            "outputs": [
                {
                    "output_type": "execute_result",
                    "metadata": {},
                    "data": {
                        "text/plain": "array([-99,   1,   2, ...,  -7,  88,  99])"
                    },
                    "execution_count": null
                }
            ]
        },
        {
            "id": "78ceea2e",
            "cell_type": "markdown",
            "source": "The returned array is always 1D.\n",
            "metadata": {}
        },
        {
            "id": "af989d2a",
            "cell_type": "code",
            "metadata": {},
            "execution_count": null,
            "source": "y = [[1, 2, 4], [1, 6, 24]]\nnp.ediff1d(y)",
            "outputs": [
                {
                    "output_type": "execute_result",
                    "metadata": {},
                    "data": {
                        "text/plain": "array([ 1,  2, -3,  5, 18])"
                    },
                    "execution_count": null
                }
            ]
        }
    ]
}