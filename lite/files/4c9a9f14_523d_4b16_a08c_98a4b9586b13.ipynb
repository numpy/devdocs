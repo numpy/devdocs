{
    "nbformat": 4,
    "nbformat_minor": 5,
    "metadata": {
        "kernelspec": {
            "display_name": "Python",
            "language": "python",
            "name": "python"
        },
        "language_info": {
            "name": "python"
        }
    },
    "cells": [
        {
            "id": "3dc2a03f",
            "cell_type": "markdown",
            "source": "<div class='alert alert-warning'>\n\nNumPy's interactive examples are experimental and may not always work as expected, with high load times especially on low-resource platforms, and the version of NumPy might not be in sync with the one you are browsing the documentation for. If you encounter any issues, please report them on the [NumPy issue tracker](https://github.com/numpy/numpy/issues).\n\n</div>",
            "metadata": {}
        },
        {
            "id": "520975c5",
            "cell_type": "code",
            "metadata": {},
            "execution_count": null,
            "source": "import numpy as np",
            "outputs": []
        },
        {
            "id": "0f877d36",
            "cell_type": "markdown",
            "source": "Create a 4 by 4 array\n",
            "metadata": {}
        },
        {
            "id": "1f9ba26f",
            "cell_type": "code",
            "metadata": {},
            "execution_count": null,
            "source": "a = np.arange(16).reshape(4, 4)\na",
            "outputs": [
                {
                    "output_type": "execute_result",
                    "metadata": {},
                    "data": {
                        "text/plain": "array([[ 0,  1,  2,  3],\n       [ 4,  5,  6,  7],\n       [ 8,  9, 10, 11],\n       [12, 13, 14, 15]])"
                    },
                    "execution_count": null
                }
            ]
        },
        {
            "id": "314e3edc",
            "cell_type": "markdown",
            "source": "Pass the array to get the indices of the lower triangular elements.\n",
            "metadata": {}
        },
        {
            "id": "1f8ee5ab",
            "cell_type": "code",
            "metadata": {},
            "execution_count": null,
            "source": "trili = np.tril_indices_from(a)\ntrili",
            "outputs": [
                {
                    "output_type": "execute_result",
                    "metadata": {},
                    "data": {
                        "text/plain": "(array([0, 1, 1, 2, 2, 2, 3, 3, 3, 3]), array([0, 0, 1, 0, 1, 2, 0, 1, 2, 3]))"
                    },
                    "execution_count": null
                }
            ]
        },
        {
            "id": "efbb403c",
            "cell_type": "code",
            "metadata": {},
            "execution_count": null,
            "source": "a[trili]",
            "outputs": [
                {
                    "output_type": "execute_result",
                    "metadata": {},
                    "data": {
                        "text/plain": "array([ 0,  4,  5,  8,  9, 10, 12, 13, 14, 15])"
                    },
                    "execution_count": null
                }
            ]
        },
        {
            "id": "a5f387ba",
            "cell_type": "markdown",
            "source": "This is syntactic sugar for tril_indices().\n",
            "metadata": {}
        },
        {
            "id": "4268173a",
            "cell_type": "code",
            "metadata": {},
            "execution_count": null,
            "source": "np.tril_indices(a.shape[0])",
            "outputs": [
                {
                    "output_type": "execute_result",
                    "metadata": {},
                    "data": {
                        "text/plain": "(array([0, 1, 1, 2, 2, 2, 3, 3, 3, 3]), array([0, 0, 1, 0, 1, 2, 0, 1, 2, 3]))"
                    },
                    "execution_count": null
                }
            ]
        },
        {
            "id": "437896c2",
            "cell_type": "markdown",
            "source": "Use the `k` parameter to return the indices for the lower triangular array\nup to the k-th diagonal.\n",
            "metadata": {}
        },
        {
            "id": "9ad150eb",
            "cell_type": "code",
            "metadata": {},
            "execution_count": null,
            "source": "trili1 = np.tril_indices_from(a, k=1)\na[trili1]",
            "outputs": [
                {
                    "output_type": "execute_result",
                    "metadata": {},
                    "data": {
                        "text/plain": "array([ 0,  1,  4,  5,  6,  8,  9, 10, 11, 12, 13, 14, 15])"
                    },
                    "execution_count": null
                }
            ]
        }
    ]
}