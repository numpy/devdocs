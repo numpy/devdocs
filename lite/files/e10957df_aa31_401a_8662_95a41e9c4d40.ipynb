{
    "nbformat": 4,
    "nbformat_minor": 5,
    "metadata": {
        "kernelspec": {
            "display_name": "Python",
            "language": "python",
            "name": "python"
        },
        "language_info": {
            "name": "python"
        }
    },
    "cells": [
        {
            "id": "45cfc319",
            "cell_type": "markdown",
            "source": "<div class='alert alert-warning'>\n\nNumPy's interactive examples are experimental and may not always work as expected, with high load times especially on low-resource platforms, and the version of NumPy might not be in sync with the one you are browsing the documentation for. If you encounter any issues, please report them on the [NumPy issue tracker](https://github.com/numpy/numpy/issues).\n\n</div>",
            "metadata": {}
        },
        {
            "id": "82eee549",
            "cell_type": "code",
            "metadata": {},
            "execution_count": null,
            "source": "np.random.random_integers(5)",
            "outputs": [
                {
                    "output_type": "execute_result",
                    "metadata": {},
                    "data": {
                        "text/plain": "4 # random"
                    },
                    "execution_count": null
                }
            ]
        },
        {
            "id": "63fe9b15",
            "cell_type": "code",
            "metadata": {},
            "execution_count": null,
            "source": "type(np.random.random_integers(5))",
            "outputs": [
                {
                    "output_type": "execute_result",
                    "metadata": {},
                    "data": {
                        "text/plain": "<class 'numpy.int64'>"
                    },
                    "execution_count": null
                }
            ]
        },
        {
            "id": "35f6f874",
            "cell_type": "code",
            "metadata": {},
            "execution_count": null,
            "source": "np.random.random_integers(5, size=(3,2))",
            "outputs": [
                {
                    "output_type": "execute_result",
                    "metadata": {},
                    "data": {
                        "text/plain": "array([[5, 4], # random\n       [3, 3],\n       [4, 5]])"
                    },
                    "execution_count": null
                }
            ]
        },
        {
            "id": "e41ce738",
            "cell_type": "markdown",
            "source": "Choose five random numbers from the set of five evenly-spaced\nnumbers between 0 and 2.5, inclusive (*i.e.*, from the set\n${0, 5/8, 10/8, 15/8, 20/8}$):\n",
            "metadata": {}
        },
        {
            "id": "fe1e3b42",
            "cell_type": "code",
            "metadata": {},
            "execution_count": null,
            "source": "2.5 * (np.random.random_integers(5, size=(5,)) - 1) / 4.",
            "outputs": [
                {
                    "output_type": "execute_result",
                    "metadata": {},
                    "data": {
                        "text/plain": "array([ 0.625,  1.25 ,  0.625,  0.625,  2.5  ]) # random"
                    },
                    "execution_count": null
                }
            ]
        },
        {
            "id": "677a70a6",
            "cell_type": "markdown",
            "source": "Roll two six sided dice 1000 times and sum the results:\n",
            "metadata": {}
        },
        {
            "id": "f2e73c68",
            "cell_type": "code",
            "metadata": {},
            "execution_count": null,
            "source": "d1 = np.random.random_integers(1, 6, 1000)\nd2 = np.random.random_integers(1, 6, 1000)\ndsums = d1 + d2",
            "outputs": []
        },
        {
            "id": "7aa3b720",
            "cell_type": "markdown",
            "source": "Display results as a histogram:\n",
            "metadata": {}
        },
        {
            "id": "d1bff98c",
            "cell_type": "code",
            "metadata": {},
            "execution_count": null,
            "source": "import matplotlib.pyplot as plt\ncount, bins, ignored = plt.hist(dsums, 11, density=True)\nplt.show()",
            "outputs": []
        }
    ]
}