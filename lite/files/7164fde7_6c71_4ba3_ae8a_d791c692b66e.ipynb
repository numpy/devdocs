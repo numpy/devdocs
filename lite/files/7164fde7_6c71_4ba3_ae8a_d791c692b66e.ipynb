{
    "nbformat": 4,
    "nbformat_minor": 5,
    "metadata": {
        "kernelspec": {
            "display_name": "Python",
            "language": "python",
            "name": "python"
        },
        "language_info": {
            "name": "python"
        }
    },
    "cells": [
        {
            "id": "62887ea1",
            "cell_type": "markdown",
            "source": "<div class='alert alert-warning'>\n\nNumPy's interactive examples are experimental and may not always work as expected, with high load times especially on low-resource platforms, and the version of NumPy might not be in sync with the one you are browsing the documentation for. If you encounter any issues, please report them on the [NumPy issue tracker](https://github.com/numpy/numpy/issues).\n\n</div>",
            "metadata": {}
        },
        {
            "id": "169af376",
            "cell_type": "code",
            "metadata": {},
            "execution_count": null,
            "source": "import numpy as np\nx = np.array([[0, 1], [2, 3]], dtype='<u2')\nx.tobytes()",
            "outputs": [
                {
                    "output_type": "execute_result",
                    "metadata": {},
                    "data": {
                        "text/plain": "b'\\x00\\x00\\x01\\x00\\x02\\x00\\x03\\x00'"
                    },
                    "execution_count": null
                }
            ]
        },
        {
            "id": "1c918a76",
            "cell_type": "code",
            "metadata": {},
            "execution_count": null,
            "source": "x.tobytes('C') == x.tobytes()",
            "outputs": [
                {
                    "output_type": "execute_result",
                    "metadata": {},
                    "data": {
                        "text/plain": "True"
                    },
                    "execution_count": null
                }
            ]
        },
        {
            "id": "2912762e",
            "cell_type": "code",
            "metadata": {},
            "execution_count": null,
            "source": "x.tobytes('F')",
            "outputs": [
                {
                    "output_type": "execute_result",
                    "metadata": {},
                    "data": {
                        "text/plain": "b'\\x00\\x00\\x02\\x00\\x01\\x00\\x03\\x00'"
                    },
                    "execution_count": null
                }
            ]
        }
    ]
}