{
    "nbformat": 4,
    "nbformat_minor": 5,
    "metadata": {
        "kernelspec": {
            "display_name": "Python",
            "language": "python",
            "name": "python"
        },
        "language_info": {
            "name": "python"
        }
    },
    "cells": [
        {
            "id": "cfe1b6c5",
            "cell_type": "markdown",
            "source": "<div class='alert alert-warning'>\n\nNumPy's interactive examples are experimental and may not always work as expected, with high load times especially on low-resource platforms, and the version of NumPy might not be in sync with the one you are browsing the documentation for. If you encounter any issues, please report them on the [NumPy issue tracker](https://github.com/numpy/numpy/issues).\n\n</div>",
            "metadata": {}
        },
        {
            "id": "35a99f5d",
            "cell_type": "code",
            "metadata": {},
            "execution_count": null,
            "source": "import numpy as np\nx = np.ma.MaskedArray([[4, 9, 2, 10],\n                       [6, 9, 7, 12]])",
            "outputs": []
        },
        {
            "id": "326ae12a",
            "cell_type": "code",
            "metadata": {},
            "execution_count": null,
            "source": "x.ptp(axis=1)",
            "outputs": [
                {
                    "output_type": "execute_result",
                    "metadata": {},
                    "data": {
                        "text/plain": "masked_array(data=[8, 6],\n             mask=False,\n       fill_value=999999)"
                    },
                    "execution_count": null
                }
            ]
        },
        {
            "id": "89e1e459",
            "cell_type": "code",
            "metadata": {},
            "execution_count": null,
            "source": "x.ptp(axis=0)",
            "outputs": [
                {
                    "output_type": "execute_result",
                    "metadata": {},
                    "data": {
                        "text/plain": "masked_array(data=[2, 0, 5, 2],\n             mask=False,\n       fill_value=999999)"
                    },
                    "execution_count": null
                }
            ]
        },
        {
            "id": "3f64cc93",
            "cell_type": "code",
            "metadata": {},
            "execution_count": null,
            "source": "x.ptp()",
            "outputs": [
                {
                    "output_type": "execute_result",
                    "metadata": {},
                    "data": {
                        "text/plain": "10"
                    },
                    "execution_count": null
                }
            ]
        },
        {
            "id": "33d7e13f",
            "cell_type": "markdown",
            "source": "This example shows that a negative value can be returned when\nthe input is an array of signed integers.\n",
            "metadata": {}
        },
        {
            "id": "5f0c04a2",
            "cell_type": "code",
            "metadata": {},
            "execution_count": null,
            "source": "y = np.ma.MaskedArray([[1, 127],\n                       [0, 127],\n                       [-1, 127],\n                       [-2, 127]], dtype=np.int8)\ny.ptp(axis=1)",
            "outputs": [
                {
                    "output_type": "execute_result",
                    "metadata": {},
                    "data": {
                        "text/plain": "masked_array(data=[ 126,  127, -128, -127],\n             mask=False,\n       fill_value=np.int64(999999),\n            dtype=int8)"
                    },
                    "execution_count": null
                }
            ]
        },
        {
            "id": "d676e723",
            "cell_type": "markdown",
            "source": "A work-around is to use the `view()` method to view the result as\nunsigned integers with the same bit width:\n",
            "metadata": {}
        },
        {
            "id": "745004c6",
            "cell_type": "code",
            "metadata": {},
            "execution_count": null,
            "source": "y.ptp(axis=1).view(np.uint8)",
            "outputs": [
                {
                    "output_type": "execute_result",
                    "metadata": {},
                    "data": {
                        "text/plain": "masked_array(data=[126, 127, 128, 129],\n             mask=False,\n       fill_value=np.uint64(999999),\n            dtype=uint8)"
                    },
                    "execution_count": null
                }
            ]
        }
    ]
}