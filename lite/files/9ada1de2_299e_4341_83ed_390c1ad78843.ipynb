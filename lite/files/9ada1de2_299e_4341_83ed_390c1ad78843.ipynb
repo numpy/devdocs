{
    "nbformat": 4,
    "nbformat_minor": 5,
    "metadata": {
        "kernelspec": {
            "display_name": "Python",
            "language": "python",
            "name": "python"
        },
        "language_info": {
            "name": "python"
        }
    },
    "cells": [
        {
            "id": "41b4a0a2",
            "cell_type": "markdown",
            "source": "<div class='alert alert-warning'>\n\nNumPy's interactive examples are experimental and may not always work as expected, with high load times especially on low-resource platforms, and the version of NumPy might not be in sync with the one you are browsing the documentation for. If you encounter any issues, please report them on the [NumPy issue tracker](https://github.com/numpy/numpy/issues).\n\n</div>",
            "metadata": {}
        },
        {
            "id": "c47e1154",
            "cell_type": "code",
            "metadata": {},
            "execution_count": null,
            "source": "import numpy as np\nfrom numpy.polynomial import polynomial as P\nx = np.linspace(-1,1,51)  # x \"data\": [-1, -0.96, ..., 0.96, 1]\nrng = np.random.default_rng()\nerr = rng.normal(size=len(x))\ny = x**3 - x + err  # x^3 - x + Gaussian noise\nc, stats = P.polyfit(x,y,3,full=True)\nc # c[0], c[1] approx. -1, c[2] should be approx. 0, c[3] approx. 1",
            "outputs": [
                {
                    "output_type": "execute_result",
                    "metadata": {},
                    "data": {
                        "text/plain": "array([ 0.23111996, -1.02785049, -0.2241444 ,  1.08405657]) # may vary"
                    },
                    "execution_count": null
                }
            ]
        },
        {
            "id": "ded875b5",
            "cell_type": "code",
            "metadata": {},
            "execution_count": null,
            "source": "stats # note the large SSR, explaining the rather poor results",
            "outputs": [
                {
                    "output_type": "execute_result",
                    "metadata": {},
                    "data": {
                        "text/plain": "[array([48.312088]),                                        # may vary\n 4,\n array([1.38446749, 1.32119158, 0.50443316, 0.28853036]),\n 1.1324274851176597e-14]"
                    },
                    "execution_count": null
                }
            ]
        },
        {
            "id": "7e2bf1db",
            "cell_type": "markdown",
            "source": "Same thing without the added noise\n",
            "metadata": {}
        },
        {
            "id": "37fc1e88",
            "cell_type": "code",
            "metadata": {},
            "execution_count": null,
            "source": "y = x**3 - x\nc, stats = P.polyfit(x,y,3,full=True)\nc # c[0], c[1] ~= -1, c[2] should be \"very close to 0\", c[3] ~= 1",
            "outputs": [
                {
                    "output_type": "execute_result",
                    "metadata": {},
                    "data": {
                        "text/plain": "array([-6.73496154e-17, -1.00000000e+00,  0.00000000e+00,  1.00000000e+00])"
                    },
                    "execution_count": null
                }
            ]
        },
        {
            "id": "73a180b5",
            "cell_type": "code",
            "metadata": {},
            "execution_count": null,
            "source": "stats # note the minuscule SSR",
            "outputs": [
                {
                    "output_type": "execute_result",
                    "metadata": {},
                    "data": {
                        "text/plain": "[array([8.79579319e-31]),\n np.int32(4),\n array([1.38446749, 1.32119158, 0.50443316, 0.28853036]),\n 1.1324274851176597e-14]"
                    },
                    "execution_count": null
                }
            ]
        }
    ]
}