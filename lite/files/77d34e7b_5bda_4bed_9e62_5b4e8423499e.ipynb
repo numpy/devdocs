{
    "nbformat": 4,
    "nbformat_minor": 5,
    "metadata": {
        "kernelspec": {
            "display_name": "Python",
            "language": "python",
            "name": "python"
        },
        "language_info": {
            "name": "python"
        }
    },
    "cells": [
        {
            "id": "68c36ba0",
            "cell_type": "markdown",
            "source": "<div class='alert alert-warning'>\n\nNumPy's interactive examples are experimental and may not always work as expected, with high load times especially on low-resource platforms, and the version of NumPy might not be in sync with the one you are browsing the documentation for. If you encounter any issues, please report them on the [NumPy issue tracker](https://github.com/numpy/numpy/issues).\n\n</div>",
            "metadata": {}
        },
        {
            "id": "aa1ece33",
            "cell_type": "code",
            "metadata": {},
            "execution_count": null,
            "source": "import numpy as np",
            "outputs": []
        },
        {
            "id": "21fded85",
            "cell_type": "markdown",
            "source": "The number 13 has the binary representation ``00001101``. Likewise,\n16 is represented by ``00010000``.  The bit-wise OR of 13 and 16 is\nthen ``00011101``, or 29:\n",
            "metadata": {}
        },
        {
            "id": "20c0a58a",
            "cell_type": "code",
            "metadata": {},
            "execution_count": null,
            "source": "np.bitwise_or(13, 16)",
            "outputs": [
                {
                    "output_type": "execute_result",
                    "metadata": {},
                    "data": {
                        "text/plain": "29"
                    },
                    "execution_count": null
                }
            ]
        },
        {
            "id": "11b30055",
            "cell_type": "code",
            "metadata": {},
            "execution_count": null,
            "source": "np.binary_repr(29)",
            "outputs": [
                {
                    "output_type": "execute_result",
                    "metadata": {},
                    "data": {
                        "text/plain": "'11101'"
                    },
                    "execution_count": null
                }
            ]
        },
        {
            "id": "facda955",
            "cell_type": "code",
            "metadata": {},
            "execution_count": null,
            "source": "np.bitwise_or(32, 2)",
            "outputs": [
                {
                    "output_type": "execute_result",
                    "metadata": {},
                    "data": {
                        "text/plain": "34"
                    },
                    "execution_count": null
                }
            ]
        },
        {
            "id": "838cd051",
            "cell_type": "code",
            "metadata": {},
            "execution_count": null,
            "source": "np.bitwise_or([33, 4], 1)",
            "outputs": [
                {
                    "output_type": "execute_result",
                    "metadata": {},
                    "data": {
                        "text/plain": "array([33,  5])"
                    },
                    "execution_count": null
                }
            ]
        },
        {
            "id": "65e0687a",
            "cell_type": "code",
            "metadata": {},
            "execution_count": null,
            "source": "np.bitwise_or([33, 4], [1, 2])",
            "outputs": [
                {
                    "output_type": "execute_result",
                    "metadata": {},
                    "data": {
                        "text/plain": "array([33,  6])"
                    },
                    "execution_count": null
                }
            ]
        },
        {
            "id": "8e2b9aec",
            "cell_type": "code",
            "metadata": {},
            "execution_count": null,
            "source": "np.bitwise_or(np.array([2, 5, 255]), np.array([4, 4, 4]))",
            "outputs": [
                {
                    "output_type": "execute_result",
                    "metadata": {},
                    "data": {
                        "text/plain": "array([  6,   5, 255])"
                    },
                    "execution_count": null
                }
            ]
        },
        {
            "id": "cd8ca958",
            "cell_type": "code",
            "metadata": {},
            "execution_count": null,
            "source": "np.array([2, 5, 255]) | np.array([4, 4, 4])",
            "outputs": [
                {
                    "output_type": "execute_result",
                    "metadata": {},
                    "data": {
                        "text/plain": "array([  6,   5, 255])"
                    },
                    "execution_count": null
                }
            ]
        },
        {
            "id": "6089304a",
            "cell_type": "code",
            "metadata": {},
            "execution_count": null,
            "source": "np.bitwise_or(np.array([2, 5, 255, 2147483647], dtype=np.int32),\n              np.array([4, 4, 4, 2147483647], dtype=np.int32))",
            "outputs": [
                {
                    "output_type": "execute_result",
                    "metadata": {},
                    "data": {
                        "text/plain": "array([         6,          5,        255, 2147483647], dtype=int32)"
                    },
                    "execution_count": null
                }
            ]
        },
        {
            "id": "6e789514",
            "cell_type": "code",
            "metadata": {},
            "execution_count": null,
            "source": "np.bitwise_or([True, True], [False, True])",
            "outputs": [
                {
                    "output_type": "execute_result",
                    "metadata": {},
                    "data": {
                        "text/plain": "array([ True,  True])"
                    },
                    "execution_count": null
                }
            ]
        },
        {
            "id": "f57e1c74",
            "cell_type": "markdown",
            "source": "The ``|`` operator can be used as a shorthand for ``np.bitwise_or`` on\nndarrays.\n",
            "metadata": {}
        },
        {
            "id": "9dd71241",
            "cell_type": "code",
            "metadata": {},
            "execution_count": null,
            "source": "x1 = np.array([2, 5, 255])\nx2 = np.array([4, 4, 4])\nx1 | x2",
            "outputs": [
                {
                    "output_type": "execute_result",
                    "metadata": {},
                    "data": {
                        "text/plain": "array([  6,   5, 255])"
                    },
                    "execution_count": null
                }
            ]
        }
    ]
}