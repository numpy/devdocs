{
    "nbformat": 4,
    "nbformat_minor": 5,
    "metadata": {
        "kernelspec": {
            "display_name": "Python",
            "language": "python",
            "name": "python"
        },
        "language_info": {
            "name": "python"
        }
    },
    "cells": [
        {
            "id": "5d1d57c7",
            "cell_type": "markdown",
            "source": "<div class='alert alert-warning'>\n\nNumPy's interactive examples are experimental and may not always work as expected, with high load times especially on low-resource platforms, and the version of NumPy might not be in sync with the one you are browsing the documentation for. If you encounter any issues, please report them on the [NumPy issue tracker](https://github.com/numpy/numpy/issues).\n\n</div>",
            "metadata": {}
        },
        {
            "id": "596269d3",
            "cell_type": "markdown",
            "source": "Draw samples from the distribution\n",
            "metadata": {}
        },
        {
            "id": "c078d9fc",
            "cell_type": "code",
            "metadata": {},
            "execution_count": null,
            "source": "loc, scale = 0., 1.\nrng = np.random.default_rng()\ns = rng.laplace(loc, scale, 1000)",
            "outputs": []
        },
        {
            "id": "1a6603b0",
            "cell_type": "markdown",
            "source": "Display the histogram of the samples, along with\nthe probability density function:\n",
            "metadata": {}
        },
        {
            "id": "41a118ca",
            "cell_type": "code",
            "metadata": {},
            "execution_count": null,
            "source": "import matplotlib.pyplot as plt\ncount, bins, _ = plt.hist(s, 30, density=True)\nx = np.arange(-8., 8., .01)\npdf = np.exp(-abs(x-loc)/scale)/(2.*scale)\nplt.plot(x, pdf)",
            "outputs": []
        },
        {
            "id": "36d15218",
            "cell_type": "markdown",
            "source": "Plot Gaussian for comparison:\n",
            "metadata": {}
        },
        {
            "id": "101a546d",
            "cell_type": "code",
            "metadata": {},
            "execution_count": null,
            "source": "g = (1/(scale * np.sqrt(2 * np.pi)) *\n     np.exp(-(x - loc)**2 / (2 * scale**2)))\nplt.plot(x,g)",
            "outputs": []
        }
    ]
}