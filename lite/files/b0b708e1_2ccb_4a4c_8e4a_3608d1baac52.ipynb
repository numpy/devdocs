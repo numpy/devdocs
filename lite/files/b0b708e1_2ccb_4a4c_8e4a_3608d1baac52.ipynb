{
    "nbformat": 4,
    "nbformat_minor": 5,
    "metadata": {
        "kernelspec": {
            "display_name": "Python",
            "language": "python",
            "name": "python"
        },
        "language_info": {
            "name": "python"
        }
    },
    "cells": [
        {
            "id": "a4dca537",
            "cell_type": "markdown",
            "source": "<div class='alert alert-warning'>\n\nNumPy's interactive examples are experimental and may not always work as expected, with high load times especially on low-resource platforms, and the version of NumPy might not be in sync with the one you are browsing the documentation for. If you encounter any issues, please report them on the [NumPy issue tracker](https://github.com/numpy/numpy/issues).\n\n</div>",
            "metadata": {}
        },
        {
            "id": "6f7c7c0b",
            "cell_type": "code",
            "metadata": {},
            "execution_count": null,
            "source": "import numpy as np\nA = np.array([[1,-2j],[2j,5]])\nA",
            "outputs": [
                {
                    "output_type": "execute_result",
                    "metadata": {},
                    "data": {
                        "text/plain": "array([[ 1.+0.j, -0.-2.j],\n       [ 0.+2.j,  5.+0.j]])"
                    },
                    "execution_count": null
                }
            ]
        },
        {
            "id": "719c36e7",
            "cell_type": "code",
            "metadata": {},
            "execution_count": null,
            "source": "L = np.linalg.cholesky(A)\nL",
            "outputs": [
                {
                    "output_type": "execute_result",
                    "metadata": {},
                    "data": {
                        "text/plain": "array([[1.+0.j, 0.+0.j],\n       [0.+2.j, 1.+0.j]])"
                    },
                    "execution_count": null
                }
            ]
        },
        {
            "id": "60bc7514",
            "cell_type": "code",
            "metadata": {},
            "execution_count": null,
            "source": "np.dot(L, L.T.conj()) # verify that L * L.H = A",
            "outputs": [
                {
                    "output_type": "execute_result",
                    "metadata": {},
                    "data": {
                        "text/plain": "array([[1.+0.j, 0.-2.j],\n       [0.+2.j, 5.+0.j]])"
                    },
                    "execution_count": null
                }
            ]
        },
        {
            "id": "6b28953e",
            "cell_type": "code",
            "metadata": {},
            "execution_count": null,
            "source": "A = [[1,-2j],[2j,5]] # what happens if A is only array_like?\nnp.linalg.cholesky(A) # an ndarray object is returned",
            "outputs": [
                {
                    "output_type": "execute_result",
                    "metadata": {},
                    "data": {
                        "text/plain": "array([[1.+0.j, 0.+0.j],\n       [0.+2.j, 1.+0.j]])"
                    },
                    "execution_count": null
                }
            ]
        },
        {
            "id": "10f77120",
            "cell_type": "code",
            "metadata": {},
            "execution_count": null,
            "source": "# But a matrix object is returned if A is a matrix object\nnp.linalg.cholesky(np.matrix(A))",
            "outputs": [
                {
                    "output_type": "execute_result",
                    "metadata": {},
                    "data": {
                        "text/plain": "matrix([[ 1.+0.j,  0.+0.j],\n        [ 0.+2.j,  1.+0.j]])"
                    },
                    "execution_count": null
                }
            ]
        },
        {
            "id": "5595f4c1",
            "cell_type": "code",
            "metadata": {},
            "execution_count": null,
            "source": "# The upper-triangular Cholesky factor can also be obtained.\nnp.linalg.cholesky(A, upper=True)",
            "outputs": [
                {
                    "output_type": "execute_result",
                    "metadata": {},
                    "data": {
                        "text/plain": "array([[1.-0.j, 0.-2.j],\n       [0.-0.j, 1.-0.j]])"
                    },
                    "execution_count": null
                }
            ]
        }
    ]
}