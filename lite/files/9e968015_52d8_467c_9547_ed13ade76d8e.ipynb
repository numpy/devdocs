{
    "nbformat": 4,
    "nbformat_minor": 5,
    "metadata": {
        "kernelspec": {
            "display_name": "Python",
            "language": "python",
            "name": "python"
        },
        "language_info": {
            "name": "python"
        }
    },
    "cells": [
        {
            "id": "8da679b2",
            "cell_type": "markdown",
            "source": "<div class='alert alert-warning'>\n\nNumPy's interactive examples are experimental and may not always work as expected, with high load times especially on low-resource platforms, and the version of NumPy might not be in sync with the one you are browsing the documentation for. If you encounter any issues, please report them on the [NumPy issue tracker](https://github.com/numpy/numpy/issues).\n\n</div>",
            "metadata": {}
        },
        {
            "id": "95871388",
            "cell_type": "code",
            "metadata": {},
            "execution_count": null,
            "source": "import torch  # doctest: +SKIP\nx = torch.arange(10)  # doctest: +SKIP\n# create a view of the torch tensor \"x\" in NumPy\ny = np.from_dlpack(x)  # doctest: +SKIP",
            "outputs": []
        }
    ]
}