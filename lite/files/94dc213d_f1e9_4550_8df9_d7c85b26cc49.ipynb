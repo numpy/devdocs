{
    "nbformat": 4,
    "nbformat_minor": 5,
    "metadata": {
        "kernelspec": {
            "display_name": "Python",
            "language": "python",
            "name": "python"
        },
        "language_info": {
            "name": "python"
        }
    },
    "cells": [
        {
            "id": "bac6abc9",
            "cell_type": "markdown",
            "source": "<div class='alert alert-warning'>\n\nNumPy's interactive examples are experimental and may not always work as expected, with high load times especially on low-resource platforms, and the version of NumPy might not be in sync with the one you are browsing the documentation for. If you encounter any issues, please report them on the [NumPy issue tracker](https://github.com/numpy/numpy/issues).\n\n</div>",
            "metadata": {}
        },
        {
            "id": "70f80718",
            "cell_type": "markdown",
            "source": "Draw samples from the distribution:\n",
            "metadata": {}
        },
        {
            "id": "702bea0d",
            "cell_type": "code",
            "metadata": {},
            "execution_count": null,
            "source": "rng = np.random.default_rng()\nn, p, size = 10, .5, 10000  \ns = rng.binomial(n, p, 10000)",
            "outputs": []
        },
        {
            "id": "2971d075",
            "cell_type": "markdown",
            "source": "Assume a company drills 9 wild-cat oil exploration wells, each with\nan estimated probability of success of ``p=0.1``. All nine wells fail. \nWhat is the probability of that happening?\n\nOver ``size = 20,000`` trials the probability of this happening \nis on average:\n",
            "metadata": {}
        },
        {
            "id": "2d14f124",
            "cell_type": "code",
            "metadata": {},
            "execution_count": null,
            "source": "n, p, size = 9, 0.1, 20000\nnp.sum(rng.binomial(n=n, p=p, size=size) == 0)/size",
            "outputs": [
                {
                    "output_type": "execute_result",
                    "metadata": {},
                    "data": {
                        "text/plain": "0.39015  # may vary"
                    },
                    "execution_count": null
                }
            ]
        },
        {
            "id": "d48cfea5",
            "cell_type": "markdown",
            "source": "The following can be used to visualize a sample with ``n=100``, \n``p=0.4`` and the corresponding probability density function:\n",
            "metadata": {}
        },
        {
            "id": "037a9bbb",
            "cell_type": "code",
            "metadata": {},
            "execution_count": null,
            "source": "import matplotlib.pyplot as plt\nfrom scipy.stats import binom\nn, p, size = 100, 0.4, 10000\nsample = rng.binomial(n, p, size=size)\ncount, bins, _ = plt.hist(sample, 30, density=True)\nx = np.arange(n)\ny = binom.pmf(x, n, p)\nplt.plot(x, y, linewidth=2, color='r')",
            "outputs": []
        }
    ]
}