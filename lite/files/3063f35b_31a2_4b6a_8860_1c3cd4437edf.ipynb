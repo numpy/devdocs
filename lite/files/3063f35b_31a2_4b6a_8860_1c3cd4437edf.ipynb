{
    "nbformat": 4,
    "nbformat_minor": 5,
    "metadata": {
        "kernelspec": {
            "display_name": "Python",
            "language": "python",
            "name": "python"
        },
        "language_info": {
            "name": "python"
        }
    },
    "cells": [
        {
            "id": "d1758a8d",
            "cell_type": "markdown",
            "source": "<div class='alert alert-warning'>\n\nNumPy's interactive examples are experimental and may not always work as expected, with high load times especially on low-resource platforms, and the version of NumPy might not be in sync with the one you are browsing the documentation for. If you encounter any issues, please report them on the [NumPy issue tracker](https://github.com/numpy/numpy/issues).\n\n</div>",
            "metadata": {}
        },
        {
            "id": "e75cd439",
            "cell_type": "code",
            "metadata": {},
            "execution_count": null,
            "source": "from numpy.polynomial import polyutils as pu\npu.mapparms((-1,1),(-1,1))",
            "outputs": [
                {
                    "output_type": "execute_result",
                    "metadata": {},
                    "data": {
                        "text/plain": "(0.0, 1.0)"
                    },
                    "execution_count": null
                }
            ]
        },
        {
            "id": "4e2b2f32",
            "cell_type": "code",
            "metadata": {},
            "execution_count": null,
            "source": "pu.mapparms((1,-1),(-1,1))",
            "outputs": [
                {
                    "output_type": "execute_result",
                    "metadata": {},
                    "data": {
                        "text/plain": "(-0.0, -1.0)"
                    },
                    "execution_count": null
                }
            ]
        },
        {
            "id": "f2bc212b",
            "cell_type": "code",
            "metadata": {},
            "execution_count": null,
            "source": "i = complex(0,1)\npu.mapparms((-i,-1),(1,i))",
            "outputs": [
                {
                    "output_type": "execute_result",
                    "metadata": {},
                    "data": {
                        "text/plain": "((1+1j), (1-0j))"
                    },
                    "execution_count": null
                }
            ]
        }
    ]
}