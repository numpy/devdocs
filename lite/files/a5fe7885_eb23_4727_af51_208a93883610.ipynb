{
    "nbformat": 4,
    "nbformat_minor": 5,
    "metadata": {
        "kernelspec": {
            "display_name": "Python",
            "language": "python",
            "name": "python"
        },
        "language_info": {
            "name": "python"
        }
    },
    "cells": [
        {
            "id": "0b8ae80a",
            "cell_type": "markdown",
            "source": "<div class='alert alert-warning'>\n\nNumPy's interactive examples are experimental and may not always work as expected, with high load times especially on low-resource platforms, and the version of NumPy might not be in sync with the one you are browsing the documentation for. If you encounter any issues, please report them on the [NumPy issue tracker](https://github.com/numpy/numpy/issues).\n\n</div>",
            "metadata": {}
        },
        {
            "id": "d0d45dc1",
            "cell_type": "code",
            "metadata": {},
            "execution_count": null,
            "source": "import numpy as np\narr = np.array([0, 0, 0, 1, 2, 3, 3, 4, 5])\nnp.histogram_bin_edges(arr, bins='auto', range=(0, 1))",
            "outputs": [
                {
                    "output_type": "execute_result",
                    "metadata": {},
                    "data": {
                        "text/plain": "array([0.  , 0.25, 0.5 , 0.75, 1.  ])"
                    },
                    "execution_count": null
                }
            ]
        },
        {
            "id": "89c67eb7",
            "cell_type": "code",
            "metadata": {},
            "execution_count": null,
            "source": "np.histogram_bin_edges(arr, bins=2)",
            "outputs": [
                {
                    "output_type": "execute_result",
                    "metadata": {},
                    "data": {
                        "text/plain": "array([0. , 2.5, 5. ])"
                    },
                    "execution_count": null
                }
            ]
        },
        {
            "id": "c4eaa495",
            "cell_type": "markdown",
            "source": "For consistency with histogram, an array of pre-computed bins is\npassed through unmodified:\n",
            "metadata": {}
        },
        {
            "id": "b2549fb1",
            "cell_type": "code",
            "metadata": {},
            "execution_count": null,
            "source": "np.histogram_bin_edges(arr, [1, 2])",
            "outputs": [
                {
                    "output_type": "execute_result",
                    "metadata": {},
                    "data": {
                        "text/plain": "array([1, 2])"
                    },
                    "execution_count": null
                }
            ]
        },
        {
            "id": "2ba6119a",
            "cell_type": "markdown",
            "source": "This function allows one set of bins to be computed, and reused across\nmultiple histograms:\n",
            "metadata": {}
        },
        {
            "id": "0698c0c9",
            "cell_type": "code",
            "metadata": {},
            "execution_count": null,
            "source": "shared_bins = np.histogram_bin_edges(arr, bins='auto')\nshared_bins",
            "outputs": [
                {
                    "output_type": "execute_result",
                    "metadata": {},
                    "data": {
                        "text/plain": "array([0., 1., 2., 3., 4., 5.])"
                    },
                    "execution_count": null
                }
            ]
        },
        {
            "id": "1fdfdc71",
            "cell_type": "code",
            "metadata": {},
            "execution_count": null,
            "source": "group_id = np.array([0, 1, 1, 0, 1, 1, 0, 1, 1])\nhist_0, _ = np.histogram(arr[group_id == 0], bins=shared_bins)\nhist_1, _ = np.histogram(arr[group_id == 1], bins=shared_bins)",
            "outputs": []
        },
        {
            "id": "67cd74bc",
            "cell_type": "code",
            "metadata": {},
            "execution_count": null,
            "source": "hist_0; hist_1",
            "outputs": [
                {
                    "output_type": "execute_result",
                    "metadata": {},
                    "data": {
                        "text/plain": "array([1, 1, 0, 1, 0])\narray([2, 0, 1, 1, 2])"
                    },
                    "execution_count": null
                }
            ]
        },
        {
            "id": "06d08a99",
            "cell_type": "markdown",
            "source": "Which gives more easily comparable results than using separate bins for\neach histogram:\n",
            "metadata": {}
        },
        {
            "id": "740127be",
            "cell_type": "code",
            "metadata": {},
            "execution_count": null,
            "source": "hist_0, bins_0 = np.histogram(arr[group_id == 0], bins='auto')\nhist_1, bins_1 = np.histogram(arr[group_id == 1], bins='auto')\nhist_0; hist_1",
            "outputs": [
                {
                    "output_type": "execute_result",
                    "metadata": {},
                    "data": {
                        "text/plain": "array([1, 1, 1])\narray([2, 1, 1, 2])"
                    },
                    "execution_count": null
                }
            ]
        },
        {
            "id": "56b47667",
            "cell_type": "code",
            "metadata": {},
            "execution_count": null,
            "source": "bins_0; bins_1",
            "outputs": [
                {
                    "output_type": "execute_result",
                    "metadata": {},
                    "data": {
                        "text/plain": "array([0., 1., 2., 3.])\narray([0.  , 1.25, 2.5 , 3.75, 5.  ])"
                    },
                    "execution_count": null
                }
            ]
        }
    ]
}