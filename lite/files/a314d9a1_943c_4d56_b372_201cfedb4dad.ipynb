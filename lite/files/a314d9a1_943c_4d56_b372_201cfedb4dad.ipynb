{
    "nbformat": 4,
    "nbformat_minor": 5,
    "metadata": {
        "kernelspec": {
            "display_name": "Python",
            "language": "python",
            "name": "python"
        },
        "language_info": {
            "name": "python"
        }
    },
    "cells": [
        {
            "id": "4fbd3e05",
            "cell_type": "markdown",
            "source": "<div class='alert alert-warning'>\n\nNumPy's interactive examples are experimental and may not always work as expected, with high load times especially on low-resource platforms, and the version of NumPy might not be in sync with the one you are browsing the documentation for. If you encounter any issues, please report them on the [NumPy issue tracker](https://github.com/numpy/numpy/issues).\n\n</div>",
            "metadata": {}
        },
        {
            "id": "1c4f053e",
            "cell_type": "code",
            "metadata": {},
            "execution_count": null,
            "source": "import numpy.polynomial.chebyshev as cheb\ncheb.chebroots((-1, 1,-1, 1)) # T3 - T2 + T1 - T0 has real roots",
            "outputs": [
                {
                    "output_type": "execute_result",
                    "metadata": {},
                    "data": {
                        "text/plain": "array([ -5.00000000e-01,   2.60860684e-17,   1.00000000e+00]) # may vary"
                    },
                    "execution_count": null
                }
            ]
        }
    ]
}