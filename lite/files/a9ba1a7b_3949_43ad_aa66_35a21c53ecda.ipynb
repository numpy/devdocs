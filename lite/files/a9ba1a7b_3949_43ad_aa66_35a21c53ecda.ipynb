{
    "nbformat": 4,
    "nbformat_minor": 5,
    "metadata": {
        "kernelspec": {
            "display_name": "Python",
            "language": "python",
            "name": "python"
        },
        "language_info": {
            "name": "python"
        }
    },
    "cells": [
        {
            "id": "32e33242",
            "cell_type": "markdown",
            "source": "<div class='alert alert-warning'>\n\nNumPy's interactive examples are experimental and may not always work as expected, with high load times especially on low-resource platforms, and the version of NumPy might not be in sync with the one you are browsing the documentation for. If you encounter any issues, please report them on the [NumPy issue tracker](https://github.com/numpy/numpy/issues).\n\n</div>",
            "metadata": {}
        },
        {
            "id": "0e7c0fd3",
            "cell_type": "code",
            "metadata": {},
            "execution_count": null,
            "source": "from numpy.random import Generator, PCG64\nrng = Generator(PCG64())\nrng.standard_normal()",
            "outputs": [
                {
                    "output_type": "execute_result",
                    "metadata": {},
                    "data": {
                        "text/plain": "-0.203  # random"
                    },
                    "execution_count": null
                }
            ]
        }
    ]
}