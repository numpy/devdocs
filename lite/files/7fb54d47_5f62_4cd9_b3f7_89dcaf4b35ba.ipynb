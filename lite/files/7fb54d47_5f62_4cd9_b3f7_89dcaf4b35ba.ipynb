{
    "nbformat": 4,
    "nbformat_minor": 5,
    "metadata": {
        "kernelspec": {
            "display_name": "Python",
            "language": "python",
            "name": "python"
        },
        "language_info": {
            "name": "python"
        }
    },
    "cells": [
        {
            "id": "eb7125db",
            "cell_type": "markdown",
            "source": "<div class='alert alert-warning'>\n\nNumPy's interactive examples are experimental and may not always work as expected, with high load times especially on low-resource platforms, and the version of NumPy might not be in sync with the one you are browsing the documentation for. If you encounter any issues, please report them on the [NumPy issue tracker](https://github.com/numpy/numpy/issues).\n\n</div>",
            "metadata": {}
        },
        {
            "id": "a0d2f198",
            "cell_type": "code",
            "metadata": {},
            "execution_count": null,
            "source": "import numpy as np\na = np.ma.arange(9).reshape((3, 3))\na[1, 0] = np.ma.masked\na[1, 2] = np.ma.masked\na[2, 1] = np.ma.masked\na",
            "outputs": [
                {
                    "output_type": "execute_result",
                    "metadata": {},
                    "data": {
                        "text/plain": "masked_array(\n  data=[[0, 1, 2],\n        [--, 4, --],\n        [6, --, 8]],\n  mask=[[False, False, False],\n        [ True, False,  True],\n        [False,  True, False]],\n  fill_value=999999)"
                    },
                    "execution_count": null
                }
            ]
        },
        {
            "id": "b923f10d",
            "cell_type": "code",
            "metadata": {},
            "execution_count": null,
            "source": "for index, x in np.ma.ndenumerate(a):\n    print(index, x)",
            "outputs": [
                {
                    "output_type": "execute_result",
                    "metadata": {},
                    "data": {
                        "text/plain": "(0, 0) 0\n(0, 1) 1\n(0, 2) 2\n(1, 1) 4\n(2, 0) 6\n(2, 2) 8"
                    },
                    "execution_count": null
                }
            ]
        },
        {
            "id": "9a7c9f2b",
            "cell_type": "code",
            "metadata": {},
            "execution_count": null,
            "source": "for index, x in np.ma.ndenumerate(a, compressed=False):\n    print(index, x)",
            "outputs": [
                {
                    "output_type": "execute_result",
                    "metadata": {},
                    "data": {
                        "text/plain": "(0, 0) 0\n(0, 1) 1\n(0, 2) 2\n(1, 0) --\n(1, 1) 4\n(1, 2) --\n(2, 0) 6\n(2, 1) --\n(2, 2) 8"
                    },
                    "execution_count": null
                }
            ]
        }
    ]
}