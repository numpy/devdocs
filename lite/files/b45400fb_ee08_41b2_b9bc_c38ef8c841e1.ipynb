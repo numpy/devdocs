{
    "nbformat": 4,
    "nbformat_minor": 5,
    "metadata": {
        "kernelspec": {
            "display_name": "Python",
            "language": "python",
            "name": "python"
        },
        "language_info": {
            "name": "python"
        }
    },
    "cells": [
        {
            "id": "c0f46fb4",
            "cell_type": "markdown",
            "source": "<div class='alert alert-warning'>\n\nNumPy's interactive examples are experimental and may not always work as expected, with high load times especially on low-resource platforms, and the version of NumPy might not be in sync with the one you are browsing the documentation for. If you encounter any issues, please report them on the [NumPy issue tracker](https://github.com/numpy/numpy/issues).\n\n</div>",
            "metadata": {}
        },
        {
            "id": "f8c99104",
            "cell_type": "code",
            "metadata": {},
            "execution_count": null,
            "source": "import numpy as np\nnp.floor_divide(7,3)",
            "outputs": [
                {
                    "output_type": "execute_result",
                    "metadata": {},
                    "data": {
                        "text/plain": "2"
                    },
                    "execution_count": null
                }
            ]
        },
        {
            "id": "fac719a2",
            "cell_type": "code",
            "metadata": {},
            "execution_count": null,
            "source": "np.floor_divide([1., 2., 3., 4.], 2.5)",
            "outputs": [
                {
                    "output_type": "execute_result",
                    "metadata": {},
                    "data": {
                        "text/plain": "array([ 0.,  0.,  1.,  1.])"
                    },
                    "execution_count": null
                }
            ]
        },
        {
            "id": "c4bc1e04",
            "cell_type": "markdown",
            "source": "The ``//`` operator can be used as a shorthand for ``np.floor_divide``\non ndarrays.\n",
            "metadata": {}
        },
        {
            "id": "13541c3e",
            "cell_type": "code",
            "metadata": {},
            "execution_count": null,
            "source": "x1 = np.array([1., 2., 3., 4.])\nx1 // 2.5",
            "outputs": [
                {
                    "output_type": "execute_result",
                    "metadata": {},
                    "data": {
                        "text/plain": "array([0., 0., 1., 1.])"
                    },
                    "execution_count": null
                }
            ]
        }
    ]
}