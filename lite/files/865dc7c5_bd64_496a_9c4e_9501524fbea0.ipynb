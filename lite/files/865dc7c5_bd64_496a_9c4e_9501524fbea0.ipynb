{
    "nbformat": 4,
    "nbformat_minor": 5,
    "metadata": {
        "kernelspec": {
            "display_name": "Python",
            "language": "python",
            "name": "python"
        },
        "language_info": {
            "name": "python"
        }
    },
    "cells": [
        {
            "id": "c363f4c4",
            "cell_type": "markdown",
            "source": "<div class='alert alert-warning'>\n\nNumPy's interactive examples are experimental and may not always work as expected, with high load times especially on low-resource platforms, and the version of NumPy might not be in sync with the one you are browsing the documentation for. If you encounter any issues, please report them on the [NumPy issue tracker](https://github.com/numpy/numpy/issues).\n\n</div>",
            "metadata": {}
        },
        {
            "id": "1ca53efa",
            "cell_type": "code",
            "metadata": {},
            "execution_count": null,
            "source": "import numpy as np\na = np.array(['aAaAaA', '  aA  ', 'abBABba'])\nnp.strings.rpartition(a, 'A')",
            "outputs": [
                {
                    "output_type": "execute_result",
                    "metadata": {},
                    "data": {
                        "text/plain": "(array(['aAaAa', '  a', 'abB'], dtype='<U5'),\n array(['A', 'A', 'A'], dtype='<U1'),\n array(['', '  ', 'Bba'], dtype='<U3'))"
                    },
                    "execution_count": null
                }
            ]
        }
    ]
}