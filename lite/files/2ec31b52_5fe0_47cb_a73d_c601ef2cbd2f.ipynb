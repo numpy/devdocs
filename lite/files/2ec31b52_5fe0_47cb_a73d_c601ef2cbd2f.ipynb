{
    "nbformat": 4,
    "nbformat_minor": 5,
    "metadata": {
        "kernelspec": {
            "display_name": "Python",
            "language": "python",
            "name": "python"
        },
        "language_info": {
            "name": "python"
        }
    },
    "cells": [
        {
            "id": "6a4f26a5",
            "cell_type": "markdown",
            "source": "<div class='alert alert-warning'>\n\nNumPy's interactive examples are experimental and may not always work as expected, with high load times especially on low-resource platforms, and the version of NumPy might not be in sync with the one you are browsing the documentation for. If you encounter any issues, please report them on the [NumPy issue tracker](https://github.com/numpy/numpy/issues).\n\n</div>",
            "metadata": {}
        },
        {
            "id": "11ffc647",
            "cell_type": "markdown",
            "source": "Draw samples from the distribution:\n",
            "metadata": {}
        },
        {
            "id": "c44b3d5d",
            "cell_type": "code",
            "metadata": {},
            "execution_count": null,
            "source": "shape, scale = 2., 1. # mean and width\ns = np.random.standard_gamma(shape, 1000000)",
            "outputs": []
        },
        {
            "id": "eec133d4",
            "cell_type": "markdown",
            "source": "Display the histogram of the samples, along with\nthe probability density function:\n",
            "metadata": {}
        },
        {
            "id": "0ce38900",
            "cell_type": "code",
            "metadata": {},
            "execution_count": null,
            "source": "import matplotlib.pyplot as plt\nimport scipy.special as sps  # doctest: +SKIP\ncount, bins, ignored = plt.hist(s, 50, density=True)\ny = bins**(shape-1) * ((np.exp(-bins/scale))/  # doctest: +SKIP\n                      (sps.gamma(shape) * scale**shape))\nplt.plot(bins, y, linewidth=2, color='r')  # doctest: +SKIP\nplt.show()",
            "outputs": []
        }
    ]
}