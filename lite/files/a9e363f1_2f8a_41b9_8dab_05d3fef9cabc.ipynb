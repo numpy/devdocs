{
    "nbformat": 4,
    "nbformat_minor": 5,
    "metadata": {
        "kernelspec": {
            "display_name": "Python",
            "language": "python",
            "name": "python"
        },
        "language_info": {
            "name": "python"
        }
    },
    "cells": [
        {
            "id": "ee658586",
            "cell_type": "markdown",
            "source": "<div class='alert alert-warning'>\n\nNumPy's interactive examples are experimental and may not always work as expected, with high load times especially on low-resource platforms, and the version of NumPy might not be in sync with the one you are browsing the documentation for. If you encounter any issues, please report them on the [NumPy issue tracker](https://github.com/numpy/numpy/issues).\n\n</div>",
            "metadata": {}
        },
        {
            "id": "1a69ee9f",
            "cell_type": "code",
            "metadata": {},
            "execution_count": null,
            "source": "import numpy as np\nimport numpy.ma as ma\na = np.arange(4)\na",
            "outputs": [
                {
                    "output_type": "execute_result",
                    "metadata": {},
                    "data": {
                        "text/plain": "array([0, 1, 2, 3])"
                    },
                    "execution_count": null
                }
            ]
        },
        {
            "id": "67b69558",
            "cell_type": "code",
            "metadata": {},
            "execution_count": null,
            "source": "ma.masked_where(a <= 2, a)",
            "outputs": [
                {
                    "output_type": "execute_result",
                    "metadata": {},
                    "data": {
                        "text/plain": "masked_array(data=[--, --, --, 3],\n             mask=[ True,  True,  True, False],\n       fill_value=999999)"
                    },
                    "execution_count": null
                }
            ]
        },
        {
            "id": "bf22913f",
            "cell_type": "markdown",
            "source": "Mask array `b` conditional on `a`.\n",
            "metadata": {}
        },
        {
            "id": "e7e80c91",
            "cell_type": "code",
            "metadata": {},
            "execution_count": null,
            "source": "b = ['a', 'b', 'c', 'd']\nma.masked_where(a == 2, b)",
            "outputs": [
                {
                    "output_type": "execute_result",
                    "metadata": {},
                    "data": {
                        "text/plain": "masked_array(data=['a', 'b', --, 'd'],\n             mask=[False, False,  True, False],\n       fill_value='N/A',\n            dtype='<U1')"
                    },
                    "execution_count": null
                }
            ]
        },
        {
            "id": "b56f6e52",
            "cell_type": "markdown",
            "source": "Effect of the `copy` argument.\n",
            "metadata": {}
        },
        {
            "id": "441e3232",
            "cell_type": "code",
            "metadata": {},
            "execution_count": null,
            "source": "c = ma.masked_where(a <= 2, a)\nc",
            "outputs": [
                {
                    "output_type": "execute_result",
                    "metadata": {},
                    "data": {
                        "text/plain": "masked_array(data=[--, --, --, 3],\n             mask=[ True,  True,  True, False],\n       fill_value=999999)"
                    },
                    "execution_count": null
                }
            ]
        },
        {
            "id": "ad309fb7",
            "cell_type": "code",
            "metadata": {},
            "execution_count": null,
            "source": "c[0] = 99\nc",
            "outputs": [
                {
                    "output_type": "execute_result",
                    "metadata": {},
                    "data": {
                        "text/plain": "masked_array(data=[99, --, --, 3],\n             mask=[False,  True,  True, False],\n       fill_value=999999)"
                    },
                    "execution_count": null
                }
            ]
        },
        {
            "id": "a925bc40",
            "cell_type": "code",
            "metadata": {},
            "execution_count": null,
            "source": "a",
            "outputs": [
                {
                    "output_type": "execute_result",
                    "metadata": {},
                    "data": {
                        "text/plain": "array([0, 1, 2, 3])"
                    },
                    "execution_count": null
                }
            ]
        },
        {
            "id": "98ecce16",
            "cell_type": "code",
            "metadata": {},
            "execution_count": null,
            "source": "c = ma.masked_where(a <= 2, a, copy=False)\nc[0] = 99\nc",
            "outputs": [
                {
                    "output_type": "execute_result",
                    "metadata": {},
                    "data": {
                        "text/plain": "masked_array(data=[99, --, --, 3],\n             mask=[False,  True,  True, False],\n       fill_value=999999)"
                    },
                    "execution_count": null
                }
            ]
        },
        {
            "id": "bece5846",
            "cell_type": "code",
            "metadata": {},
            "execution_count": null,
            "source": "a",
            "outputs": [
                {
                    "output_type": "execute_result",
                    "metadata": {},
                    "data": {
                        "text/plain": "array([99,  1,  2,  3])"
                    },
                    "execution_count": null
                }
            ]
        },
        {
            "id": "ccc13a31",
            "cell_type": "markdown",
            "source": "When `condition` or `a` contain masked values.\n",
            "metadata": {}
        },
        {
            "id": "ff2b77b7",
            "cell_type": "code",
            "metadata": {},
            "execution_count": null,
            "source": "a = np.arange(4)\na = ma.masked_where(a == 2, a)\na",
            "outputs": [
                {
                    "output_type": "execute_result",
                    "metadata": {},
                    "data": {
                        "text/plain": "masked_array(data=[0, 1, --, 3],\n             mask=[False, False,  True, False],\n       fill_value=999999)"
                    },
                    "execution_count": null
                }
            ]
        },
        {
            "id": "0a2aaa04",
            "cell_type": "code",
            "metadata": {},
            "execution_count": null,
            "source": "b = np.arange(4)\nb = ma.masked_where(b == 0, b)\nb",
            "outputs": [
                {
                    "output_type": "execute_result",
                    "metadata": {},
                    "data": {
                        "text/plain": "masked_array(data=[--, 1, 2, 3],\n             mask=[ True, False, False, False],\n       fill_value=999999)"
                    },
                    "execution_count": null
                }
            ]
        },
        {
            "id": "d1e0733c",
            "cell_type": "code",
            "metadata": {},
            "execution_count": null,
            "source": "ma.masked_where(a == 3, b)",
            "outputs": [
                {
                    "output_type": "execute_result",
                    "metadata": {},
                    "data": {
                        "text/plain": "masked_array(data=[--, 1, --, --],\n             mask=[ True, False,  True,  True],\n       fill_value=999999)"
                    },
                    "execution_count": null
                }
            ]
        }
    ]
}