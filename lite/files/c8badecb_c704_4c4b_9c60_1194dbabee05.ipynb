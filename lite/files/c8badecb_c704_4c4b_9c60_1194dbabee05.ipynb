{
    "nbformat": 4,
    "nbformat_minor": 5,
    "metadata": {
        "kernelspec": {
            "display_name": "Python",
            "language": "python",
            "name": "python"
        },
        "language_info": {
            "name": "python"
        }
    },
    "cells": [
        {
            "id": "bdf72d74",
            "cell_type": "markdown",
            "source": "<div class='alert alert-warning'>\n\nNumPy's interactive examples are experimental and may not always work as expected, with high load times especially on low-resource platforms, and the version of NumPy might not be in sync with the one you are browsing the documentation for. If you encounter any issues, please report them on the [NumPy issue tracker](https://github.com/numpy/numpy/issues).\n\n</div>",
            "metadata": {}
        },
        {
            "id": "91955f92",
            "cell_type": "code",
            "metadata": {},
            "execution_count": null,
            "source": "a = np.array([[1, 2, 3], [4, 5, 6], [7, 8, 9]])\na",
            "outputs": [
                {
                    "output_type": "execute_result",
                    "metadata": {},
                    "data": {
                        "text/plain": "array([[1, 2, 3],\n       [4, 5, 6],\n       [7, 8, 9]])"
                    },
                    "execution_count": null
                }
            ]
        },
        {
            "id": "60757ff1",
            "cell_type": "code",
            "metadata": {},
            "execution_count": null,
            "source": "np.rec.array(a)",
            "outputs": [
                {
                    "output_type": "execute_result",
                    "metadata": {},
                    "data": {
                        "text/plain": "rec.array([[1, 2, 3],\n           [4, 5, 6],\n           [7, 8, 9]],\n          dtype=int64)"
                    },
                    "execution_count": null
                }
            ]
        },
        {
            "id": "363a4cdf",
            "cell_type": "code",
            "metadata": {},
            "execution_count": null,
            "source": "b = [(1, 1), (2, 4), (3, 9)]\nc = np.rec.array(b, formats = ['i2', 'f2'], names = ('x', 'y'))\nc",
            "outputs": [
                {
                    "output_type": "execute_result",
                    "metadata": {},
                    "data": {
                        "text/plain": "rec.array([(1, 1.), (2, 4.), (3, 9.)],\n          dtype=[('x', '<i2'), ('y', '<f2')])"
                    },
                    "execution_count": null
                }
            ]
        },
        {
            "id": "57a1262b",
            "cell_type": "code",
            "metadata": {},
            "execution_count": null,
            "source": "c.x",
            "outputs": [
                {
                    "output_type": "execute_result",
                    "metadata": {},
                    "data": {
                        "text/plain": "array([1, 2, 3], dtype=int16)"
                    },
                    "execution_count": null
                }
            ]
        },
        {
            "id": "2bfd9dd0",
            "cell_type": "code",
            "metadata": {},
            "execution_count": null,
            "source": "c.y",
            "outputs": [
                {
                    "output_type": "execute_result",
                    "metadata": {},
                    "data": {
                        "text/plain": "array([1.,  4.,  9.], dtype=float16)"
                    },
                    "execution_count": null
                }
            ]
        },
        {
            "id": "ae9b1e7b",
            "cell_type": "code",
            "metadata": {},
            "execution_count": null,
            "source": "r = np.rec.array(['abc','def'], names=['col1','col2'])\nprint(r.col1)",
            "outputs": [
                {
                    "output_type": "execute_result",
                    "metadata": {},
                    "data": {
                        "text/plain": "abc"
                    },
                    "execution_count": null
                }
            ]
        },
        {
            "id": "81839bfc",
            "cell_type": "code",
            "metadata": {},
            "execution_count": null,
            "source": "r.col1",
            "outputs": [
                {
                    "output_type": "execute_result",
                    "metadata": {},
                    "data": {
                        "text/plain": "array('abc', dtype='<U3')"
                    },
                    "execution_count": null
                }
            ]
        },
        {
            "id": "a4baeb64",
            "cell_type": "code",
            "metadata": {},
            "execution_count": null,
            "source": "r.col2",
            "outputs": [
                {
                    "output_type": "execute_result",
                    "metadata": {},
                    "data": {
                        "text/plain": "array('def', dtype='<U3')"
                    },
                    "execution_count": null
                }
            ]
        }
    ]
}