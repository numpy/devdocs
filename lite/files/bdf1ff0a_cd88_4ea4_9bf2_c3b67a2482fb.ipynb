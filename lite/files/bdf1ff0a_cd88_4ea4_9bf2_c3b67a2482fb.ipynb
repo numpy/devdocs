{
    "nbformat": 4,
    "nbformat_minor": 5,
    "metadata": {
        "kernelspec": {
            "display_name": "Python",
            "language": "python",
            "name": "python"
        },
        "language_info": {
            "name": "python"
        }
    },
    "cells": [
        {
            "id": "b6ffd017",
            "cell_type": "markdown",
            "source": "<div class='alert alert-warning'>\n\nNumPy's interactive examples are experimental and may not always work as expected, with high load times especially on low-resource platforms, and the version of NumPy might not be in sync with the one you are browsing the documentation for. If you encounter any issues, please report them on the [NumPy issue tracker](https://github.com/numpy/numpy/issues).\n\n</div>",
            "metadata": {}
        },
        {
            "id": "6e2947e3",
            "cell_type": "code",
            "metadata": {},
            "execution_count": null,
            "source": "from numpy import polynomial as P\nc = P.Chebyshev(range(4))\nc",
            "outputs": [
                {
                    "output_type": "execute_result",
                    "metadata": {},
                    "data": {
                        "text/plain": "Chebyshev([0., 1., 2., 3.], domain=[-1.,  1.], window=[-1.,  1.], symbol='x')"
                    },
                    "execution_count": null
                }
            ]
        },
        {
            "id": "e3540f9d",
            "cell_type": "code",
            "metadata": {},
            "execution_count": null,
            "source": "p = c.convert(kind=P.Polynomial)\np",
            "outputs": [
                {
                    "output_type": "execute_result",
                    "metadata": {},
                    "data": {
                        "text/plain": "Polynomial([-2., -8.,  4., 12.], domain=[-1.,  1.], window=[-1.,  1.], ..."
                    },
                    "execution_count": null
                }
            ]
        },
        {
            "id": "eadf01c6",
            "cell_type": "code",
            "metadata": {},
            "execution_count": null,
            "source": "P.chebyshev.cheb2poly(range(4))",
            "outputs": [
                {
                    "output_type": "execute_result",
                    "metadata": {},
                    "data": {
                        "text/plain": "array([-2.,  -8.,   4.,  12.])"
                    },
                    "execution_count": null
                }
            ]
        }
    ]
}