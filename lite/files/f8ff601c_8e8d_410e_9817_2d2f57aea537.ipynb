{
    "nbformat": 4,
    "nbformat_minor": 5,
    "metadata": {
        "kernelspec": {
            "display_name": "Python",
            "language": "python",
            "name": "python"
        },
        "language_info": {
            "name": "python"
        }
    },
    "cells": [
        {
            "id": "9ae9e16b",
            "cell_type": "markdown",
            "source": "<div class='alert alert-warning'>\n\nNumPy's interactive examples are experimental and may not always work as expected, with high load times especially on low-resource platforms, and the version of NumPy might not be in sync with the one you are browsing the documentation for. If you encounter any issues, please report them on the [NumPy issue tracker](https://github.com/numpy/numpy/issues).\n\n</div>",
            "metadata": {}
        },
        {
            "id": "ee107129",
            "cell_type": "code",
            "metadata": {},
            "execution_count": null,
            "source": "import numpy as np\nimport ctypes\nx = np.array([[0, 1], [2, 3]], dtype=np.int32)\nx",
            "outputs": [
                {
                    "output_type": "execute_result",
                    "metadata": {},
                    "data": {
                        "text/plain": "array([[0, 1],\n       [2, 3]], dtype=int32)"
                    },
                    "execution_count": null
                }
            ]
        },
        {
            "id": "811d844b",
            "cell_type": "code",
            "metadata": {},
            "execution_count": null,
            "source": "x.ctypes.data",
            "outputs": [
                {
                    "output_type": "execute_result",
                    "metadata": {},
                    "data": {
                        "text/plain": "31962608 # may vary"
                    },
                    "execution_count": null
                }
            ]
        },
        {
            "id": "db259ce7",
            "cell_type": "code",
            "metadata": {},
            "execution_count": null,
            "source": "x.ctypes.data_as(ctypes.POINTER(ctypes.c_uint32))",
            "outputs": [
                {
                    "output_type": "execute_result",
                    "metadata": {},
                    "data": {
                        "text/plain": "<__main__.LP_c_uint object at 0x7ff2fc1fc200> # may vary"
                    },
                    "execution_count": null
                }
            ]
        },
        {
            "id": "fb108244",
            "cell_type": "code",
            "metadata": {},
            "execution_count": null,
            "source": "x.ctypes.data_as(ctypes.POINTER(ctypes.c_uint32)).contents",
            "outputs": [
                {
                    "output_type": "execute_result",
                    "metadata": {},
                    "data": {
                        "text/plain": "c_uint(0)"
                    },
                    "execution_count": null
                }
            ]
        },
        {
            "id": "7b79399f",
            "cell_type": "code",
            "metadata": {},
            "execution_count": null,
            "source": "x.ctypes.data_as(ctypes.POINTER(ctypes.c_uint64)).contents",
            "outputs": [
                {
                    "output_type": "execute_result",
                    "metadata": {},
                    "data": {
                        "text/plain": "c_ulong(4294967296)"
                    },
                    "execution_count": null
                }
            ]
        },
        {
            "id": "27562712",
            "cell_type": "code",
            "metadata": {},
            "execution_count": null,
            "source": "x.ctypes.shape",
            "outputs": [
                {
                    "output_type": "execute_result",
                    "metadata": {},
                    "data": {
                        "text/plain": "<numpy._core._internal.c_long_Array_2 object at 0x7ff2fc1fce60> # may vary"
                    },
                    "execution_count": null
                }
            ]
        },
        {
            "id": "9d41d6af",
            "cell_type": "code",
            "metadata": {},
            "execution_count": null,
            "source": "x.ctypes.strides",
            "outputs": [
                {
                    "output_type": "execute_result",
                    "metadata": {},
                    "data": {
                        "text/plain": "<numpy._core._internal.c_long_Array_2 object at 0x7ff2fc1ff320> # may vary"
                    },
                    "execution_count": null
                }
            ]
        }
    ]
}