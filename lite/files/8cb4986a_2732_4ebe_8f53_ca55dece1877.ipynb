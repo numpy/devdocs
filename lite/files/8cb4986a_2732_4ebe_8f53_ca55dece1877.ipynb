{
    "nbformat": 4,
    "nbformat_minor": 5,
    "metadata": {
        "kernelspec": {
            "display_name": "Python",
            "language": "python",
            "name": "python"
        },
        "language_info": {
            "name": "python"
        }
    },
    "cells": [
        {
            "id": "b52afa73",
            "cell_type": "markdown",
            "source": "<div class='alert alert-warning'>\n\nNumPy's interactive examples are experimental and may not always work as expected, with high load times especially on low-resource platforms, and the version of NumPy might not be in sync with the one you are browsing the documentation for. If you encounter any issues, please report them on the [NumPy issue tracker](https://github.com/numpy/numpy/issues).\n\n</div>",
            "metadata": {}
        },
        {
            "id": "bfea445a",
            "cell_type": "markdown",
            "source": "Solve the system of equations:\n``x0 + 2 * x1 = 1`` and\n``3 * x0 + 5 * x1 = 2``:\n",
            "metadata": {}
        },
        {
            "id": "e17d60a7",
            "cell_type": "code",
            "metadata": {},
            "execution_count": null,
            "source": "import numpy as np\na = np.array([[1, 2], [3, 5]])\nb = np.array([1, 2])\nx = np.linalg.solve(a, b)\nx",
            "outputs": [
                {
                    "output_type": "execute_result",
                    "metadata": {},
                    "data": {
                        "text/plain": "array([-1.,  1.])"
                    },
                    "execution_count": null
                }
            ]
        },
        {
            "id": "d7cd338a",
            "cell_type": "markdown",
            "source": "Check that the solution is correct:\n",
            "metadata": {}
        },
        {
            "id": "f1d97dd8",
            "cell_type": "code",
            "metadata": {},
            "execution_count": null,
            "source": "np.allclose(np.dot(a, x), b)",
            "outputs": [
                {
                    "output_type": "execute_result",
                    "metadata": {},
                    "data": {
                        "text/plain": "True"
                    },
                    "execution_count": null
                }
            ]
        }
    ]
}