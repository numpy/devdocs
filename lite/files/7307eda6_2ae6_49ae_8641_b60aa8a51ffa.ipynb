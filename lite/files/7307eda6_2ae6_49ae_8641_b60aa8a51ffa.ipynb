{
    "nbformat": 4,
    "nbformat_minor": 5,
    "metadata": {
        "kernelspec": {
            "display_name": "Python",
            "language": "python",
            "name": "python"
        },
        "language_info": {
            "name": "python"
        }
    },
    "cells": [
        {
            "id": "bbf13480",
            "cell_type": "markdown",
            "source": "<div class='alert alert-warning'>\n\nNumPy's interactive examples are experimental and may not always work as expected, with high load times especially on low-resource platforms, and the version of NumPy might not be in sync with the one you are browsing the documentation for. If you encounter any issues, please report them on the [NumPy issue tracker](https://github.com/numpy/numpy/issues).\n\n</div>",
            "metadata": {}
        },
        {
            "id": "dedefab3",
            "cell_type": "code",
            "metadata": {},
            "execution_count": null,
            "source": "x = np.matrix(np.arange(12).reshape((3,4)))\nz = x - 1j*x; z",
            "outputs": [
                {
                    "output_type": "execute_result",
                    "metadata": {},
                    "data": {
                        "text/plain": "matrix([[  0. +0.j,   1. -1.j,   2. -2.j,   3. -3.j],\n        [  4. -4.j,   5. -5.j,   6. -6.j,   7. -7.j],\n        [  8. -8.j,   9. -9.j,  10.-10.j,  11.-11.j]])"
                    },
                    "execution_count": null
                }
            ]
        },
        {
            "id": "7c93d658",
            "cell_type": "code",
            "metadata": {},
            "execution_count": null,
            "source": "z.getH()",
            "outputs": [
                {
                    "output_type": "execute_result",
                    "metadata": {},
                    "data": {
                        "text/plain": "matrix([[ 0. -0.j,  4. +4.j,  8. +8.j],\n        [ 1. +1.j,  5. +5.j,  9. +9.j],\n        [ 2. +2.j,  6. +6.j, 10.+10.j],\n        [ 3. +3.j,  7. +7.j, 11.+11.j]])"
                    },
                    "execution_count": null
                }
            ]
        }
    ]
}