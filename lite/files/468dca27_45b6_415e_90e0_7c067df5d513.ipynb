{
    "nbformat": 4,
    "nbformat_minor": 5,
    "metadata": {
        "kernelspec": {
            "display_name": "Python",
            "language": "python",
            "name": "python"
        },
        "language_info": {
            "name": "python"
        }
    },
    "cells": [
        {
            "id": "d2cdc893",
            "cell_type": "markdown",
            "source": "<div class='alert alert-warning'>\n\nNumPy's interactive examples are experimental and may not always work as expected, with high load times especially on low-resource platforms, and the version of NumPy might not be in sync with the one you are browsing the documentation for. If you encounter any issues, please report them on the [NumPy issue tracker](https://github.com/numpy/numpy/issues).\n\n</div>",
            "metadata": {}
        },
        {
            "id": "e3863537",
            "cell_type": "markdown",
            "source": "As an illustration, let's consider the following dataset:\n",
            "metadata": {}
        },
        {
            "id": "ecc077d4",
            "cell_type": "code",
            "metadata": {},
            "execution_count": null,
            "source": "import numpy as np\nimport numpy.ma as ma\nx = np.array([1, 2, 3, -1, 5])",
            "outputs": []
        },
        {
            "id": "85e9897c",
            "cell_type": "markdown",
            "source": "We wish to mark the fourth entry as invalid. The easiest is to create a masked\narray\n```\n\n```",
            "metadata": {}
        },
        {
            "id": "fb44854d",
            "cell_type": "code",
            "metadata": {},
            "execution_count": null,
            "source": "mx = ma.masked_array(x, mask=[0, 0, 0, 1, 0])",
            "outputs": []
        },
        {
            "id": "4136e89d",
            "cell_type": "markdown",
            "source": "We can now compute the mean of the dataset, without taking the invalid data\ninto account:\n",
            "metadata": {}
        },
        {
            "id": "aecfd5bb",
            "cell_type": "code",
            "metadata": {},
            "execution_count": null,
            "source": "mx.mean()",
            "outputs": [
                {
                    "output_type": "execute_result",
                    "metadata": {},
                    "data": {
                        "text/plain": "2.75"
                    },
                    "execution_count": null
                }
            ]
        }
    ]
}