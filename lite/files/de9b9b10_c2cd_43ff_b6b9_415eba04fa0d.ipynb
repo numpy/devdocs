{
    "nbformat": 4,
    "nbformat_minor": 5,
    "metadata": {
        "kernelspec": {
            "display_name": "Python",
            "language": "python",
            "name": "python"
        },
        "language_info": {
            "name": "python"
        }
    },
    "cells": [
        {
            "id": "99f50580",
            "cell_type": "markdown",
            "source": "<div class='alert alert-warning'>\n\nNumPy's interactive examples are experimental and may not always work as expected, with high load times especially on low-resource platforms, and the version of NumPy might not be in sync with the one you are browsing the documentation for. If you encounter any issues, please report them on the [NumPy issue tracker](https://github.com/numpy/numpy/issues).\n\n</div>",
            "metadata": {}
        },
        {
            "id": "59ba38db",
            "cell_type": "code",
            "metadata": {},
            "execution_count": null,
            "source": "import numpy as np\nnp.isfinite(1)",
            "outputs": [
                {
                    "output_type": "execute_result",
                    "metadata": {},
                    "data": {
                        "text/plain": "True"
                    },
                    "execution_count": null
                }
            ]
        },
        {
            "id": "40f13659",
            "cell_type": "code",
            "metadata": {},
            "execution_count": null,
            "source": "np.isfinite(0)",
            "outputs": [
                {
                    "output_type": "execute_result",
                    "metadata": {},
                    "data": {
                        "text/plain": "True"
                    },
                    "execution_count": null
                }
            ]
        },
        {
            "id": "56f900ab",
            "cell_type": "code",
            "metadata": {},
            "execution_count": null,
            "source": "np.isfinite(np.nan)",
            "outputs": [
                {
                    "output_type": "execute_result",
                    "metadata": {},
                    "data": {
                        "text/plain": "False"
                    },
                    "execution_count": null
                }
            ]
        },
        {
            "id": "de2c5e4e",
            "cell_type": "code",
            "metadata": {},
            "execution_count": null,
            "source": "np.isfinite(np.inf)",
            "outputs": [
                {
                    "output_type": "execute_result",
                    "metadata": {},
                    "data": {
                        "text/plain": "False"
                    },
                    "execution_count": null
                }
            ]
        },
        {
            "id": "3ee8fad0",
            "cell_type": "code",
            "metadata": {},
            "execution_count": null,
            "source": "np.isfinite(-np.inf)",
            "outputs": [
                {
                    "output_type": "execute_result",
                    "metadata": {},
                    "data": {
                        "text/plain": "False"
                    },
                    "execution_count": null
                }
            ]
        },
        {
            "id": "b33a1caa",
            "cell_type": "code",
            "metadata": {},
            "execution_count": null,
            "source": "np.isfinite([np.log(-1.),1.,np.log(0)])",
            "outputs": [
                {
                    "output_type": "execute_result",
                    "metadata": {},
                    "data": {
                        "text/plain": "array([False,  True, False])"
                    },
                    "execution_count": null
                }
            ]
        },
        {
            "id": "425019ec",
            "cell_type": "code",
            "metadata": {},
            "execution_count": null,
            "source": "x = np.array([-np.inf, 0., np.inf])\ny = np.array([2, 2, 2])\nnp.isfinite(x, y)",
            "outputs": [
                {
                    "output_type": "execute_result",
                    "metadata": {},
                    "data": {
                        "text/plain": "array([0, 1, 0])"
                    },
                    "execution_count": null
                }
            ]
        },
        {
            "id": "e6df68c1",
            "cell_type": "code",
            "metadata": {},
            "execution_count": null,
            "source": "y",
            "outputs": [
                {
                    "output_type": "execute_result",
                    "metadata": {},
                    "data": {
                        "text/plain": "array([0, 1, 0])"
                    },
                    "execution_count": null
                }
            ]
        }
    ]
}