{
    "nbformat": 4,
    "nbformat_minor": 5,
    "metadata": {
        "kernelspec": {
            "display_name": "Python",
            "language": "python",
            "name": "python"
        },
        "language_info": {
            "name": "python"
        }
    },
    "cells": [
        {
            "id": "2bd3419e",
            "cell_type": "markdown",
            "source": "<div class='alert alert-warning'>\n\nNumPy's interactive examples are experimental and may not always work as expected, with high load times especially on low-resource platforms, and the version of NumPy might not be in sync with the one you are browsing the documentation for. If you encounter any issues, please report them on the [NumPy issue tracker](https://github.com/numpy/numpy/issues).\n\n</div>",
            "metadata": {}
        },
        {
            "id": "a02aa78b",
            "cell_type": "code",
            "metadata": {},
            "execution_count": null,
            "source": "import numpy as np\nsignal = np.array([-2, 8, 6, 4, 1, 0, 3, 5, -3, 4], dtype=float)\nfourier = np.fft.rfft(signal)\nn = signal.size\nsample_rate = 100\nfreq = np.fft.fftfreq(n, d=1./sample_rate)\nfreq",
            "outputs": [
                {
                    "output_type": "execute_result",
                    "metadata": {},
                    "data": {
                        "text/plain": "array([  0.,  10.,  20., ..., -30., -20., -10.])"
                    },
                    "execution_count": null
                }
            ]
        },
        {
            "id": "61725e34",
            "cell_type": "code",
            "metadata": {},
            "execution_count": null,
            "source": "freq = np.fft.rfftfreq(n, d=1./sample_rate)\nfreq",
            "outputs": [
                {
                    "output_type": "execute_result",
                    "metadata": {},
                    "data": {
                        "text/plain": "array([  0.,  10.,  20.,  30.,  40.,  50.])"
                    },
                    "execution_count": null
                }
            ]
        }
    ]
}