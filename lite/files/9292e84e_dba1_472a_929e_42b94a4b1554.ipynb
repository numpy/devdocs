{
    "nbformat": 4,
    "nbformat_minor": 5,
    "metadata": {
        "kernelspec": {
            "display_name": "Python",
            "language": "python",
            "name": "python"
        },
        "language_info": {
            "name": "python"
        }
    },
    "cells": [
        {
            "id": "fe1c1ed8",
            "cell_type": "markdown",
            "source": "<div class='alert alert-warning'>\n\nNumPy's interactive examples are experimental and may not always work as expected, with high load times especially on low-resource platforms, and the version of NumPy might not be in sync with the one you are browsing the documentation for. If you encounter any issues, please report them on the [NumPy issue tracker](https://github.com/numpy/numpy/issues).\n\n</div>",
            "metadata": {}
        },
        {
            "id": "f677500d",
            "cell_type": "code",
            "metadata": {},
            "execution_count": null,
            "source": "import numpy as np\nx = np.array([[1,2,3]])\ny = np.array([[4],[5]])\nnp.broadcast_arrays(x, y)",
            "outputs": [
                {
                    "output_type": "execute_result",
                    "metadata": {},
                    "data": {
                        "text/plain": "(array([[1, 2, 3],\n        [1, 2, 3]]),\n array([[4, 4, 4],\n        [5, 5, 5]]))"
                    },
                    "execution_count": null
                }
            ]
        },
        {
            "id": "4505af46",
            "cell_type": "markdown",
            "source": "Here is a useful idiom for getting contiguous copies instead of\nnon-contiguous views.\n",
            "metadata": {}
        },
        {
            "id": "95f3637f",
            "cell_type": "code",
            "metadata": {},
            "execution_count": null,
            "source": "[np.array(a) for a in np.broadcast_arrays(x, y)]",
            "outputs": [
                {
                    "output_type": "execute_result",
                    "metadata": {},
                    "data": {
                        "text/plain": "[array([[1, 2, 3],\n        [1, 2, 3]]),\n array([[4, 4, 4],\n        [5, 5, 5]])]"
                    },
                    "execution_count": null
                }
            ]
        }
    ]
}