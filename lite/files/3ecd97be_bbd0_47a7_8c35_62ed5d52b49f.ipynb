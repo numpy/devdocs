{
    "nbformat": 4,
    "nbformat_minor": 5,
    "metadata": {
        "kernelspec": {
            "display_name": "Python",
            "language": "python",
            "name": "python"
        },
        "language_info": {
            "name": "python"
        }
    },
    "cells": [
        {
            "id": "973587d5",
            "cell_type": "markdown",
            "source": "<div class='alert alert-warning'>\n\nNumPy's interactive examples are experimental and may not always work as expected, with high load times especially on low-resource platforms, and the version of NumPy might not be in sync with the one you are browsing the documentation for. If you encounter any issues, please report them on the [NumPy issue tracker](https://github.com/numpy/numpy/issues).\n\n</div>",
            "metadata": {}
        },
        {
            "id": "b277ee7d",
            "cell_type": "code",
            "metadata": {},
            "execution_count": null,
            "source": "import numpy.polynomial.chebyshev as C\nC.chebline(3,2)",
            "outputs": [
                {
                    "output_type": "execute_result",
                    "metadata": {},
                    "data": {
                        "text/plain": "array([3, 2])"
                    },
                    "execution_count": null
                }
            ]
        },
        {
            "id": "6f6f85b1",
            "cell_type": "code",
            "metadata": {},
            "execution_count": null,
            "source": "C.chebval(-3, C.chebline(3,2)) # should be -3",
            "outputs": [
                {
                    "output_type": "execute_result",
                    "metadata": {},
                    "data": {
                        "text/plain": "-3.0"
                    },
                    "execution_count": null
                }
            ]
        }
    ]
}