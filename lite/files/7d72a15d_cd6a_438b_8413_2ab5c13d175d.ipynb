{
    "nbformat": 4,
    "nbformat_minor": 5,
    "metadata": {
        "kernelspec": {
            "display_name": "Python",
            "language": "python",
            "name": "python"
        },
        "language_info": {
            "name": "python"
        }
    },
    "cells": [
        {
            "id": "4493ddfa",
            "cell_type": "markdown",
            "source": "<div class='alert alert-warning'>\n\nNumPy's interactive examples are experimental and may not always work as expected, with high load times especially on low-resource platforms, and the version of NumPy might not be in sync with the one you are browsing the documentation for. If you encounter any issues, please report them on the [NumPy issue tracker](https://github.com/numpy/numpy/issues).\n\n</div>",
            "metadata": {}
        },
        {
            "id": "87804a53",
            "cell_type": "code",
            "metadata": {},
            "execution_count": null,
            "source": "import numpy as np\nx = np.array([1, 2, 3])\nx.view(ma.MaskedArray)",
            "outputs": [
                {
                    "output_type": "execute_result",
                    "metadata": {},
                    "data": {
                        "text/plain": "masked_array(data=[1, 2, 3],\n            mask=False,\n      fill_value=999999)"
                    },
                    "execution_count": null
                }
            ]
        },
        {
            "id": "873a6a7c",
            "cell_type": "code",
            "metadata": {},
            "execution_count": null,
            "source": "x = np.array([(1, 1.), (2, 2.)], dtype=[('a',int), ('b', float)])\nx.view(ma.MaskedArray)",
            "outputs": [
                {
                    "output_type": "execute_result",
                    "metadata": {},
                    "data": {
                        "text/plain": "masked_array(data=[(1, 1.0), (2, 2.0)],\n            mask=[(False, False), (False, False)],\n      fill_value=(999999, 1e+20),\n            dtype=[('a', '<i8'), ('b', '<f8')])"
                    },
                    "execution_count": null
                }
            ]
        }
    ]
}