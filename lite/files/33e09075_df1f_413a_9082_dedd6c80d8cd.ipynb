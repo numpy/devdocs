{
    "nbformat": 4,
    "nbformat_minor": 5,
    "metadata": {
        "kernelspec": {
            "display_name": "Python",
            "language": "python",
            "name": "python"
        },
        "language_info": {
            "name": "python"
        }
    },
    "cells": [
        {
            "id": "3fcd70fd",
            "cell_type": "markdown",
            "source": "<div class='alert alert-warning'>\n\nNumPy's interactive examples are experimental and may not always work as expected, with high load times especially on low-resource platforms, and the version of NumPy might not be in sync with the one you are browsing the documentation for. If you encounter any issues, please report them on the [NumPy issue tracker](https://github.com/numpy/numpy/issues).\n\n</div>",
            "metadata": {}
        },
        {
            "id": "2bad0add",
            "cell_type": "code",
            "metadata": {},
            "execution_count": null,
            "source": "import numpy as np\nimport numpy.ma as ma\nx = [0.31, 1.2, 0.01, 0.2, -0.4, -1.1]\nma.masked_inside(x, -0.3, 0.3)",
            "outputs": [
                {
                    "output_type": "execute_result",
                    "metadata": {},
                    "data": {
                        "text/plain": "masked_array(data=[0.31, 1.2, --, --, -0.4, -1.1],\n             mask=[False, False,  True,  True, False, False],\n       fill_value=1e+20)"
                    },
                    "execution_count": null
                }
            ]
        },
        {
            "id": "9c0b8da0",
            "cell_type": "markdown",
            "source": "The order of `v1` and `v2` doesn't matter.\n",
            "metadata": {}
        },
        {
            "id": "c24eb748",
            "cell_type": "code",
            "metadata": {},
            "execution_count": null,
            "source": "ma.masked_inside(x, 0.3, -0.3)",
            "outputs": [
                {
                    "output_type": "execute_result",
                    "metadata": {},
                    "data": {
                        "text/plain": "masked_array(data=[0.31, 1.2, --, --, -0.4, -1.1],\n             mask=[False, False,  True,  True, False, False],\n       fill_value=1e+20)"
                    },
                    "execution_count": null
                }
            ]
        }
    ]
}