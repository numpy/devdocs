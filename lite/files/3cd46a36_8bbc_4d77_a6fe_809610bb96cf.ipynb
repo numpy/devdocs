{
    "nbformat": 4,
    "nbformat_minor": 5,
    "metadata": {
        "kernelspec": {
            "display_name": "Python",
            "language": "python",
            "name": "python"
        },
        "language_info": {
            "name": "python"
        }
    },
    "cells": [
        {
            "id": "90adfb40",
            "cell_type": "markdown",
            "source": "<div class='alert alert-warning'>\n\nNumPy's interactive examples are experimental and may not always work as expected, with high load times especially on low-resource platforms, and the version of NumPy might not be in sync with the one you are browsing the documentation for. If you encounter any issues, please report them on the [NumPy issue tracker](https://github.com/numpy/numpy/issues).\n\n</div>",
            "metadata": {}
        },
        {
            "id": "9be0182a",
            "cell_type": "code",
            "metadata": {},
            "execution_count": null,
            "source": "import numpy as np\nfrom numpy.lib import recfunctions as rfn\na = np.array([(1, (2, [3.0, 30.])), (4, (5, [6.0, 60.]))],\n  dtype=[('a', int),('b', [('ba', float), ('bb', (float, 2))])])\nrfn.rename_fields(a, {'a':'A', 'bb':'BB'})",
            "outputs": [
                {
                    "output_type": "execute_result",
                    "metadata": {},
                    "data": {
                        "text/plain": "array([(1, (2., [ 3., 30.])), (4, (5., [ 6., 60.]))],\n      dtype=[('A', '<i8'), ('b', [('ba', '<f8'), ('BB', '<f8', (2,))])])"
                    },
                    "execution_count": null
                }
            ]
        }
    ]
}