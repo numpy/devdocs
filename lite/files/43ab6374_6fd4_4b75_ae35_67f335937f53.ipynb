{
    "nbformat": 4,
    "nbformat_minor": 5,
    "metadata": {
        "kernelspec": {
            "display_name": "Python",
            "language": "python",
            "name": "python"
        },
        "language_info": {
            "name": "python"
        }
    },
    "cells": [
        {
            "id": "103c8c54",
            "cell_type": "markdown",
            "source": "<div class='alert alert-warning'>\n\nNumPy's interactive examples are experimental and may not always work as expected, with high load times especially on low-resource platforms, and the version of NumPy might not be in sync with the one you are browsing the documentation for. If you encounter any issues, please report them on the [NumPy issue tracker](https://github.com/numpy/numpy/issues).\n\n</div>",
            "metadata": {}
        },
        {
            "id": "792dde0d",
            "cell_type": "code",
            "metadata": {},
            "execution_count": null,
            "source": "a = np.arange(4).reshape(2, 2); a",
            "outputs": [
                {
                    "output_type": "execute_result",
                    "metadata": {},
                    "data": {
                        "text/plain": "array([[0, 1],\n       [2, 3]])"
                    },
                    "execution_count": null
                }
            ]
        },
        {
            "id": "07570a0a",
            "cell_type": "code",
            "metadata": {},
            "execution_count": null,
            "source": "np.linalg.diagonal(a)",
            "outputs": [
                {
                    "output_type": "execute_result",
                    "metadata": {},
                    "data": {
                        "text/plain": "array([0, 3])"
                    },
                    "execution_count": null
                }
            ]
        },
        {
            "id": "34dd63e7",
            "cell_type": "markdown",
            "source": "A 3-D example:\n",
            "metadata": {}
        },
        {
            "id": "7ffd9153",
            "cell_type": "code",
            "metadata": {},
            "execution_count": null,
            "source": "a = np.arange(8).reshape(2, 2, 2); a",
            "outputs": [
                {
                    "output_type": "execute_result",
                    "metadata": {},
                    "data": {
                        "text/plain": "array([[[0, 1],\n        [2, 3]],\n       [[4, 5],\n        [6, 7]]])"
                    },
                    "execution_count": null
                }
            ]
        },
        {
            "id": "50de847e",
            "cell_type": "code",
            "metadata": {},
            "execution_count": null,
            "source": "np.linalg.diagonal(a)",
            "outputs": [
                {
                    "output_type": "execute_result",
                    "metadata": {},
                    "data": {
                        "text/plain": "array([[0, 3],\n       [4, 7]])"
                    },
                    "execution_count": null
                }
            ]
        },
        {
            "id": "b908b269",
            "cell_type": "markdown",
            "source": "Diagonals adjacent to the main diagonal can be obtained by using the\n`offset` argument:\n",
            "metadata": {}
        },
        {
            "id": "03f84f67",
            "cell_type": "code",
            "metadata": {},
            "execution_count": null,
            "source": "a = np.arange(9).reshape(3, 3)\na",
            "outputs": [
                {
                    "output_type": "execute_result",
                    "metadata": {},
                    "data": {
                        "text/plain": "array([[0, 1, 2],\n       [3, 4, 5],\n       [6, 7, 8]])"
                    },
                    "execution_count": null
                }
            ]
        },
        {
            "id": "7c07a14b",
            "cell_type": "code",
            "metadata": {},
            "execution_count": null,
            "source": "np.linalg.diagonal(a, offset=1)  # First superdiagonal",
            "outputs": [
                {
                    "output_type": "execute_result",
                    "metadata": {},
                    "data": {
                        "text/plain": "array([1, 5])"
                    },
                    "execution_count": null
                }
            ]
        },
        {
            "id": "d8b66fed",
            "cell_type": "code",
            "metadata": {},
            "execution_count": null,
            "source": "np.linalg.diagonal(a, offset=2)  # Second superdiagonal",
            "outputs": [
                {
                    "output_type": "execute_result",
                    "metadata": {},
                    "data": {
                        "text/plain": "array([2])"
                    },
                    "execution_count": null
                }
            ]
        },
        {
            "id": "3f607f30",
            "cell_type": "code",
            "metadata": {},
            "execution_count": null,
            "source": "np.linalg.diagonal(a, offset=-1)  # First subdiagonal",
            "outputs": [
                {
                    "output_type": "execute_result",
                    "metadata": {},
                    "data": {
                        "text/plain": "array([3, 7])"
                    },
                    "execution_count": null
                }
            ]
        },
        {
            "id": "b5f953de",
            "cell_type": "code",
            "metadata": {},
            "execution_count": null,
            "source": "np.linalg.diagonal(a, offset=-2)  # Second subdiagonal",
            "outputs": [
                {
                    "output_type": "execute_result",
                    "metadata": {},
                    "data": {
                        "text/plain": "array([6])"
                    },
                    "execution_count": null
                }
            ]
        },
        {
            "id": "5dc140c0",
            "cell_type": "markdown",
            "source": "The anti-diagonal can be obtained by reversing the order of elements\nusing either `numpy.flipud` or `numpy.fliplr`.\n",
            "metadata": {}
        },
        {
            "id": "5411ddf4",
            "cell_type": "code",
            "metadata": {},
            "execution_count": null,
            "source": "a = np.arange(9).reshape(3, 3)\na",
            "outputs": [
                {
                    "output_type": "execute_result",
                    "metadata": {},
                    "data": {
                        "text/plain": "array([[0, 1, 2],\n       [3, 4, 5],\n       [6, 7, 8]])"
                    },
                    "execution_count": null
                }
            ]
        },
        {
            "id": "6228bb1c",
            "cell_type": "code",
            "metadata": {},
            "execution_count": null,
            "source": "np.linalg.diagonal(np.fliplr(a))  # Horizontal flip",
            "outputs": [
                {
                    "output_type": "execute_result",
                    "metadata": {},
                    "data": {
                        "text/plain": "array([2, 4, 6])"
                    },
                    "execution_count": null
                }
            ]
        },
        {
            "id": "3b72065f",
            "cell_type": "code",
            "metadata": {},
            "execution_count": null,
            "source": "np.linalg.diagonal(np.flipud(a))  # Vertical flip",
            "outputs": [
                {
                    "output_type": "execute_result",
                    "metadata": {},
                    "data": {
                        "text/plain": "array([6, 4, 2])"
                    },
                    "execution_count": null
                }
            ]
        },
        {
            "id": "7cd30c13",
            "cell_type": "markdown",
            "source": "Note that the order in which the diagonal is retrieved varies depending\non the flip function.",
            "metadata": {}
        }
    ]
}