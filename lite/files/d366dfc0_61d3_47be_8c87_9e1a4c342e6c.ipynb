{
    "nbformat": 4,
    "nbformat_minor": 5,
    "metadata": {
        "kernelspec": {
            "display_name": "Python",
            "language": "python",
            "name": "python"
        },
        "language_info": {
            "name": "python"
        }
    },
    "cells": [
        {
            "id": "784f3e24",
            "cell_type": "markdown",
            "source": "<div class='alert alert-warning'>\n\nNumPy's interactive examples are experimental and may not always work as expected, with high load times especially on low-resource platforms, and the version of NumPy might not be in sync with the one you are browsing the documentation for. If you encounter any issues, please report them on the [NumPy issue tracker](https://github.com/numpy/numpy/issues).\n\n</div>",
            "metadata": {}
        },
        {
            "id": "e7cffb0b",
            "cell_type": "code",
            "metadata": {},
            "execution_count": null,
            "source": "import numpy as np\na = np.array([[1, 2], [3, 4]])\nnp.mean(a)",
            "outputs": [
                {
                    "output_type": "execute_result",
                    "metadata": {},
                    "data": {
                        "text/plain": "2.5"
                    },
                    "execution_count": null
                }
            ]
        },
        {
            "id": "c7fa86a5",
            "cell_type": "code",
            "metadata": {},
            "execution_count": null,
            "source": "np.mean(a, axis=0)",
            "outputs": [
                {
                    "output_type": "execute_result",
                    "metadata": {},
                    "data": {
                        "text/plain": "array([2., 3.])"
                    },
                    "execution_count": null
                }
            ]
        },
        {
            "id": "f9f71a35",
            "cell_type": "code",
            "metadata": {},
            "execution_count": null,
            "source": "np.mean(a, axis=1)",
            "outputs": [
                {
                    "output_type": "execute_result",
                    "metadata": {},
                    "data": {
                        "text/plain": "array([1.5, 3.5])"
                    },
                    "execution_count": null
                }
            ]
        },
        {
            "id": "1b162666",
            "cell_type": "markdown",
            "source": "In single precision, `mean` can be inaccurate:\n",
            "metadata": {}
        },
        {
            "id": "84c86ceb",
            "cell_type": "code",
            "metadata": {},
            "execution_count": null,
            "source": "a = np.zeros((2, 512*512), dtype=np.float32)\na[0, :] = 1.0\na[1, :] = 0.1\nnp.mean(a)",
            "outputs": [
                {
                    "output_type": "execute_result",
                    "metadata": {},
                    "data": {
                        "text/plain": "np.float32(0.54999924)"
                    },
                    "execution_count": null
                }
            ]
        },
        {
            "id": "4eb44b2b",
            "cell_type": "markdown",
            "source": "Computing the mean in float64 is more accurate:\n",
            "metadata": {}
        },
        {
            "id": "3dba273b",
            "cell_type": "code",
            "metadata": {},
            "execution_count": null,
            "source": "np.mean(a, dtype=np.float64)",
            "outputs": [
                {
                    "output_type": "execute_result",
                    "metadata": {},
                    "data": {
                        "text/plain": "0.55000000074505806 # may vary"
                    },
                    "execution_count": null
                }
            ]
        },
        {
            "id": "3f505c22",
            "cell_type": "markdown",
            "source": "Computing the mean in timedelta64 is available:\n",
            "metadata": {}
        },
        {
            "id": "7f15e0c0",
            "cell_type": "code",
            "metadata": {},
            "execution_count": null,
            "source": "b = np.array([1, 3], dtype=\"timedelta64[D]\")\nnp.mean(b)",
            "outputs": [
                {
                    "output_type": "execute_result",
                    "metadata": {},
                    "data": {
                        "text/plain": "np.timedelta64(2,'D')"
                    },
                    "execution_count": null
                }
            ]
        },
        {
            "id": "b68675f5",
            "cell_type": "markdown",
            "source": "Specifying a where argument:\n",
            "metadata": {}
        },
        {
            "id": "4ce90e4e",
            "cell_type": "code",
            "metadata": {},
            "execution_count": null,
            "source": "a = np.array([[5, 9, 13], [14, 10, 12], [11, 15, 19]])\nnp.mean(a)",
            "outputs": [
                {
                    "output_type": "execute_result",
                    "metadata": {},
                    "data": {
                        "text/plain": "12.0"
                    },
                    "execution_count": null
                }
            ]
        },
        {
            "id": "b49bfd84",
            "cell_type": "code",
            "metadata": {},
            "execution_count": null,
            "source": "np.mean(a, where=[[True], [False], [False]])",
            "outputs": [
                {
                    "output_type": "execute_result",
                    "metadata": {},
                    "data": {
                        "text/plain": "9.0"
                    },
                    "execution_count": null
                }
            ]
        }
    ]
}