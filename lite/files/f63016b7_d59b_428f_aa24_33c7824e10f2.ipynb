{
    "nbformat": 4,
    "nbformat_minor": 5,
    "metadata": {
        "kernelspec": {
            "display_name": "Python",
            "language": "python",
            "name": "python"
        },
        "language_info": {
            "name": "python"
        }
    },
    "cells": [
        {
            "id": "75ba5ce1",
            "cell_type": "markdown",
            "source": "<div class='alert alert-warning'>\n\nNumPy's interactive examples are experimental and may not always work as expected, with high load times especially on low-resource platforms, and the version of NumPy might not be in sync with the one you are browsing the documentation for. If you encounter any issues, please report them on the [NumPy issue tracker](https://github.com/numpy/numpy/issues).\n\n</div>",
            "metadata": {}
        },
        {
            "id": "9385e7ff",
            "cell_type": "code",
            "metadata": {},
            "execution_count": null,
            "source": "import numpy as np\nx = np.ma.array([[0, 1], [1, 1]], mask=[0, 1, 0, 1])\ny = np.ma.array([[1, 0], [0, 1]], mask=[0, 0, 1, 1])\nnp.ma.cov(x, y)",
            "outputs": [
                {
                    "output_type": "execute_result",
                    "metadata": {},
                    "data": {
                        "text/plain": "masked_array(\ndata=[[--, --, --, --],\n      [--, --, --, --],\n      [--, --, --, --],\n      [--, --, --, --]],\nmask=[[ True,  True,  True,  True],\n      [ True,  True,  True,  True],\n      [ True,  True,  True,  True],\n      [ True,  True,  True,  True]],\nfill_value=1e+20,\ndtype=float64)"
                    },
                    "execution_count": null
                }
            ]
        }
    ]
}