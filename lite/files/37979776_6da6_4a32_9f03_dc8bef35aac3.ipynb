{
    "nbformat": 4,
    "nbformat_minor": 5,
    "metadata": {
        "kernelspec": {
            "display_name": "Python",
            "language": "python",
            "name": "python"
        },
        "language_info": {
            "name": "python"
        }
    },
    "cells": [
        {
            "id": "36ab9b79",
            "cell_type": "markdown",
            "source": "<div class='alert alert-warning'>\n\nNumPy's interactive examples are experimental and may not always work as expected, with high load times especially on low-resource platforms, and the version of NumPy might not be in sync with the one you are browsing the documentation for. If you encounter any issues, please report them on the [NumPy issue tracker](https://github.com/numpy/numpy/issues).\n\n</div>",
            "metadata": {}
        },
        {
            "id": "b8d88631",
            "cell_type": "markdown",
            "source": "The Vandermonde matrix of degree ``deg = 5`` and sample points\n``x = [-1, 2, 3]`` contains the element-wise powers of `x`\nfrom 0 to 5 as its columns.\n",
            "metadata": {}
        },
        {
            "id": "dd0b1a19",
            "cell_type": "code",
            "metadata": {},
            "execution_count": null,
            "source": "from numpy.polynomial import polynomial as P\nx, deg = [-1, 2, 3], 5\nP.polyvander(x=x, deg=deg)",
            "outputs": [
                {
                    "output_type": "execute_result",
                    "metadata": {},
                    "data": {
                        "text/plain": "array([[  1.,  -1.,   1.,  -1.,   1.,  -1.],\n       [  1.,   2.,   4.,   8.,  16.,  32.],\n       [  1.,   3.,   9.,  27.,  81., 243.]])"
                    },
                    "execution_count": null
                }
            ]
        }
    ]
}