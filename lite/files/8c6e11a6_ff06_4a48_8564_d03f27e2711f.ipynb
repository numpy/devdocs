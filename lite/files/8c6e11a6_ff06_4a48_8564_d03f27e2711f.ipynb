{
    "nbformat": 4,
    "nbformat_minor": 5,
    "metadata": {
        "kernelspec": {
            "display_name": "Python",
            "language": "python",
            "name": "python"
        },
        "language_info": {
            "name": "python"
        }
    },
    "cells": [
        {
            "id": "a57ba282",
            "cell_type": "markdown",
            "source": "<div class='alert alert-warning'>\n\nNumPy's interactive examples are experimental and may not always work as expected, with high load times especially on low-resource platforms, and the version of NumPy might not be in sync with the one you are browsing the documentation for. If you encounter any issues, please report them on the [NumPy issue tracker](https://github.com/numpy/numpy/issues).\n\n</div>",
            "metadata": {}
        },
        {
            "id": "c2751913",
            "cell_type": "code",
            "metadata": {},
            "execution_count": null,
            "source": "import numpy as np\n# Some important days in July\nbdd = np.busdaycalendar(\n            holidays=['2011-07-01', '2011-07-04', '2011-07-17'])\n# Default is Monday to Friday weekdays\nbdd.weekmask",
            "outputs": [
                {
                    "output_type": "execute_result",
                    "metadata": {},
                    "data": {
                        "text/plain": "array([ True,  True,  True,  True,  True, False, False])"
                    },
                    "execution_count": null
                }
            ]
        },
        {
            "id": "d564283a",
            "cell_type": "code",
            "metadata": {},
            "execution_count": null,
            "source": "# Any holidays already on the weekend are removed\nbdd.holidays",
            "outputs": [
                {
                    "output_type": "execute_result",
                    "metadata": {},
                    "data": {
                        "text/plain": "array(['2011-07-01', '2011-07-04'], dtype='datetime64[D]')"
                    },
                    "execution_count": null
                }
            ]
        }
    ]
}