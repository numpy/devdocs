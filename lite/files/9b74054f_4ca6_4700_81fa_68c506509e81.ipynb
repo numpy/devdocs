{
    "nbformat": 4,
    "nbformat_minor": 5,
    "metadata": {
        "kernelspec": {
            "display_name": "Python",
            "language": "python",
            "name": "python"
        },
        "language_info": {
            "name": "python"
        }
    },
    "cells": [
        {
            "id": "0f72f724",
            "cell_type": "markdown",
            "source": "<div class='alert alert-warning'>\n\nNumPy's interactive examples are experimental and may not always work as expected, with high load times especially on low-resource platforms, and the version of NumPy might not be in sync with the one you are browsing the documentation for. If you encounter any issues, please report them on the [NumPy issue tracker](https://github.com/numpy/numpy/issues).\n\n</div>",
            "metadata": {}
        },
        {
            "id": "7c4ad1fb",
            "cell_type": "code",
            "metadata": {},
            "execution_count": null,
            "source": "import numpy as np\nnp.format_float_positional(np.float32(np.pi))",
            "outputs": [
                {
                    "output_type": "execute_result",
                    "metadata": {},
                    "data": {
                        "text/plain": "'3.1415927'"
                    },
                    "execution_count": null
                }
            ]
        },
        {
            "id": "99a2a3ec",
            "cell_type": "code",
            "metadata": {},
            "execution_count": null,
            "source": "np.format_float_positional(np.float16(np.pi))",
            "outputs": [
                {
                    "output_type": "execute_result",
                    "metadata": {},
                    "data": {
                        "text/plain": "'3.14'"
                    },
                    "execution_count": null
                }
            ]
        },
        {
            "id": "b0b60063",
            "cell_type": "code",
            "metadata": {},
            "execution_count": null,
            "source": "np.format_float_positional(np.float16(0.3))",
            "outputs": [
                {
                    "output_type": "execute_result",
                    "metadata": {},
                    "data": {
                        "text/plain": "'0.3'"
                    },
                    "execution_count": null
                }
            ]
        },
        {
            "id": "3d692d65",
            "cell_type": "code",
            "metadata": {},
            "execution_count": null,
            "source": "np.format_float_positional(np.float16(0.3), unique=False, precision=10)",
            "outputs": [
                {
                    "output_type": "execute_result",
                    "metadata": {},
                    "data": {
                        "text/plain": "'0.3000488281'"
                    },
                    "execution_count": null
                }
            ]
        }
    ]
}