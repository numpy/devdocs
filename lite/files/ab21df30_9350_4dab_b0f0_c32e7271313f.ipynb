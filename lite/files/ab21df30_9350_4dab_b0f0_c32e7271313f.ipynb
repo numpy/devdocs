{
    "nbformat": 4,
    "nbformat_minor": 5,
    "metadata": {
        "kernelspec": {
            "display_name": "Python",
            "language": "python",
            "name": "python"
        },
        "language_info": {
            "name": "python"
        }
    },
    "cells": [
        {
            "id": "37e394fd",
            "cell_type": "markdown",
            "source": "<div class='alert alert-warning'>\n\nNumPy's interactive examples are experimental and may not always work as expected, with high load times especially on low-resource platforms, and the version of NumPy might not be in sync with the one you are browsing the documentation for. If you encounter any issues, please report them on the [NumPy issue tracker](https://github.com/numpy/numpy/issues).\n\n</div>",
            "metadata": {}
        },
        {
            "id": "545b09c8",
            "cell_type": "code",
            "metadata": {},
            "execution_count": null,
            "source": "import numpy as np\nfrom numpy.linalg import matrix_power\ni = np.array([[0, 1], [-1, 0]]) # matrix equiv. of the imaginary unit\nmatrix_power(i, 3) # should = -i",
            "outputs": [
                {
                    "output_type": "execute_result",
                    "metadata": {},
                    "data": {
                        "text/plain": "array([[ 0, -1],\n       [ 1,  0]])"
                    },
                    "execution_count": null
                }
            ]
        },
        {
            "id": "03496087",
            "cell_type": "code",
            "metadata": {},
            "execution_count": null,
            "source": "matrix_power(i, 0)",
            "outputs": [
                {
                    "output_type": "execute_result",
                    "metadata": {},
                    "data": {
                        "text/plain": "array([[1, 0],\n       [0, 1]])"
                    },
                    "execution_count": null
                }
            ]
        },
        {
            "id": "431c7cd8",
            "cell_type": "code",
            "metadata": {},
            "execution_count": null,
            "source": "matrix_power(i, -3) # should = 1/(-i) = i, but w/ f.p. elements",
            "outputs": [
                {
                    "output_type": "execute_result",
                    "metadata": {},
                    "data": {
                        "text/plain": "array([[ 0.,  1.],\n       [-1.,  0.]])"
                    },
                    "execution_count": null
                }
            ]
        },
        {
            "id": "ed6aed8b",
            "cell_type": "markdown",
            "source": "Somewhat more sophisticated example\n",
            "metadata": {}
        },
        {
            "id": "65fc707c",
            "cell_type": "code",
            "metadata": {},
            "execution_count": null,
            "source": "q = np.zeros((4, 4))\nq[0:2, 0:2] = -i\nq[2:4, 2:4] = i\nq # one of the three quaternion units not equal to 1",
            "outputs": [
                {
                    "output_type": "execute_result",
                    "metadata": {},
                    "data": {
                        "text/plain": "array([[ 0., -1.,  0.,  0.],\n       [ 1.,  0.,  0.,  0.],\n       [ 0.,  0.,  0.,  1.],\n       [ 0.,  0., -1.,  0.]])"
                    },
                    "execution_count": null
                }
            ]
        },
        {
            "id": "656f043e",
            "cell_type": "code",
            "metadata": {},
            "execution_count": null,
            "source": "matrix_power(q, 2) # = -np.eye(4)",
            "outputs": [
                {
                    "output_type": "execute_result",
                    "metadata": {},
                    "data": {
                        "text/plain": "array([[-1.,  0.,  0.,  0.],\n       [ 0., -1.,  0.,  0.],\n       [ 0.,  0., -1.,  0.],\n       [ 0.,  0.,  0., -1.]])"
                    },
                    "execution_count": null
                }
            ]
        }
    ]
}