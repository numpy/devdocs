{
    "nbformat": 4,
    "nbformat_minor": 5,
    "metadata": {
        "kernelspec": {
            "display_name": "Python",
            "language": "python",
            "name": "python"
        },
        "language_info": {
            "name": "python"
        }
    },
    "cells": [
        {
            "id": "632f05b4",
            "cell_type": "markdown",
            "source": "<div class='alert alert-warning'>\n\nNumPy's interactive examples are experimental and may not always work as expected, with high load times especially on low-resource platforms, and the version of NumPy might not be in sync with the one you are browsing the documentation for. If you encounter any issues, please report them on the [NumPy issue tracker](https://github.com/numpy/numpy/issues).\n\n</div>",
            "metadata": {}
        },
        {
            "id": "ad9da49e",
            "cell_type": "code",
            "metadata": {},
            "execution_count": null,
            "source": "import numpy as np\nfrom math import pi\nnp.tan(np.array([-pi,pi/2,pi]))",
            "outputs": [
                {
                    "output_type": "execute_result",
                    "metadata": {},
                    "data": {
                        "text/plain": "array([  1.22460635e-16,   1.63317787e+16,  -1.22460635e-16])"
                    },
                    "execution_count": null
                }
            ]
        },
        {
            "id": "2d10a268",
            "cell_type": "code",
            "metadata": {},
            "execution_count": null,
            "source": "\n# Example of providing the optional output parameter illustrating\n# that what is returned is a reference to said parameter\nout1 = np.array([0], dtype='d')\nout2 = np.cos([0.1], out1)\nout2 is out1",
            "outputs": [
                {
                    "output_type": "execute_result",
                    "metadata": {},
                    "data": {
                        "text/plain": "True"
                    },
                    "execution_count": null
                }
            ]
        },
        {
            "id": "d4145d68",
            "cell_type": "code",
            "metadata": {},
            "execution_count": null,
            "source": "\n# Example of ValueError due to provision of shape mis-matched `out`\nnp.cos(np.zeros((3,3)),np.zeros((2,2)))",
            "outputs": [
                {
                    "output_type": "execute_result",
                    "metadata": {},
                    "data": {
                        "text/plain": "Traceback (most recent call last):\n  File \"<stdin>\", line 1, in <module>\nValueError: operands could not be broadcast together with shapes (3,3) (2,2)"
                    },
                    "execution_count": null
                }
            ]
        }
    ]
}