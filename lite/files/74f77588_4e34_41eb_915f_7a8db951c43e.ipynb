{
    "nbformat": 4,
    "nbformat_minor": 5,
    "metadata": {
        "kernelspec": {
            "display_name": "Python",
            "language": "python",
            "name": "python"
        },
        "language_info": {
            "name": "python"
        }
    },
    "cells": [
        {
            "id": "25266ac3",
            "cell_type": "markdown",
            "source": "<div class='alert alert-warning'>\n\nNumPy's interactive examples are experimental and may not always work as expected, with high load times especially on low-resource platforms, and the version of NumPy might not be in sync with the one you are browsing the documentation for. If you encounter any issues, please report them on the [NumPy issue tracker](https://github.com/numpy/numpy/issues).\n\n</div>",
            "metadata": {}
        },
        {
            "id": "d929a8a0",
            "cell_type": "code",
            "metadata": {},
            "execution_count": null,
            "source": "import numpy as np",
            "outputs": []
        },
        {
            "id": "719619e5",
            "cell_type": "code",
            "metadata": {},
            "execution_count": null,
            "source": "a = np.arange(3)\nb = np.arange(8).reshape(2,4)\nit = np.nditer([a, b, None], flags=['external_loop'],\n            op_axes=[[0, -1, -1], [-1, 0, 1], None])\nwith it:\n    for x, y, z in it:\n        z[...] = x*y\n    result = it.operands[2]  # same as z\n\nresult",
            "outputs": [
                {
                    "output_type": "execute_result",
                    "metadata": {},
                    "data": {
                        "text/plain": "array([[[ 0,  0,  0,  0],\n        [ 0,  0,  0,  0]],\n        [[ 0,  1,  2,  3],\n        [ 4,  5,  6,  7]],\n        [[ 0,  2,  4,  6],\n        [ 8, 10, 12, 14]]])"
                    },
                    "execution_count": null
                }
            ]
        }
    ]
}