{
    "nbformat": 4,
    "nbformat_minor": 5,
    "metadata": {
        "kernelspec": {
            "display_name": "Python",
            "language": "python",
            "name": "python"
        },
        "language_info": {
            "name": "python"
        }
    },
    "cells": [
        {
            "id": "5b61a5b0",
            "cell_type": "markdown",
            "source": "<div class='alert alert-warning'>\n\nNumPy's interactive examples are experimental and may not always work as expected, with high load times especially on low-resource platforms, and the version of NumPy might not be in sync with the one you are browsing the documentation for. If you encounter any issues, please report them on the [NumPy issue tracker](https://github.com/numpy/numpy/issues).\n\n</div>",
            "metadata": {}
        },
        {
            "id": "dd036e59",
            "cell_type": "code",
            "metadata": {},
            "execution_count": null,
            "source": "import numpy.matlib\na0 = np.array(1)\nnp.matlib.repmat(a0, 2, 3)",
            "outputs": [
                {
                    "output_type": "execute_result",
                    "metadata": {},
                    "data": {
                        "text/plain": "array([[1, 1, 1],\n       [1, 1, 1]])"
                    },
                    "execution_count": null
                }
            ]
        },
        {
            "id": "0bb0a981",
            "cell_type": "code",
            "metadata": {},
            "execution_count": null,
            "source": "a1 = np.arange(4)\nnp.matlib.repmat(a1, 2, 2)",
            "outputs": [
                {
                    "output_type": "execute_result",
                    "metadata": {},
                    "data": {
                        "text/plain": "array([[0, 1, 2, 3, 0, 1, 2, 3],\n       [0, 1, 2, 3, 0, 1, 2, 3]])"
                    },
                    "execution_count": null
                }
            ]
        },
        {
            "id": "51347c80",
            "cell_type": "code",
            "metadata": {},
            "execution_count": null,
            "source": "a2 = np.asmatrix(np.arange(6).reshape(2, 3))\nnp.matlib.repmat(a2, 2, 3)",
            "outputs": [
                {
                    "output_type": "execute_result",
                    "metadata": {},
                    "data": {
                        "text/plain": "matrix([[0, 1, 2, 0, 1, 2, 0, 1, 2],\n        [3, 4, 5, 3, 4, 5, 3, 4, 5],\n        [0, 1, 2, 0, 1, 2, 0, 1, 2],\n        [3, 4, 5, 3, 4, 5, 3, 4, 5]])"
                    },
                    "execution_count": null
                }
            ]
        }
    ]
}