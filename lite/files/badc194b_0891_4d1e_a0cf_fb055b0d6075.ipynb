{
    "nbformat": 4,
    "nbformat_minor": 5,
    "metadata": {
        "kernelspec": {
            "display_name": "Python",
            "language": "python",
            "name": "python"
        },
        "language_info": {
            "name": "python"
        }
    },
    "cells": [
        {
            "id": "6de62d38",
            "cell_type": "markdown",
            "source": "<div class='alert alert-warning'>\n\nNumPy's interactive examples are experimental and may not always work as expected, with high load times especially on low-resource platforms, and the version of NumPy might not be in sync with the one you are browsing the documentation for. If you encounter any issues, please report them on the [NumPy issue tracker](https://github.com/numpy/numpy/issues).\n\n</div>",
            "metadata": {}
        },
        {
            "id": "2eff5a22",
            "cell_type": "markdown",
            "source": "Draw samples from the distribution:\n",
            "metadata": {}
        },
        {
            "id": "eeede04a",
            "cell_type": "code",
            "metadata": {},
            "execution_count": null,
            "source": "ngood, nbad, nsamp = 100, 2, 10",
            "outputs": [
                {
                    "output_type": "execute_result",
                    "metadata": {},
                    "data": {
                        "text/plain": "# number of good, number of bad, and number of samples"
                    },
                    "execution_count": null
                }
            ]
        },
        {
            "id": "ac0c2f93",
            "cell_type": "code",
            "metadata": {},
            "execution_count": null,
            "source": "s = np.random.hypergeometric(ngood, nbad, nsamp, 1000)\nfrom matplotlib.pyplot import hist\nhist(s)",
            "outputs": [
                {
                    "output_type": "execute_result",
                    "metadata": {},
                    "data": {
                        "text/plain": "#   note that it is very unlikely to grab both bad items"
                    },
                    "execution_count": null
                }
            ]
        },
        {
            "id": "0ff434da",
            "cell_type": "markdown",
            "source": "Suppose you have an urn with 15 white and 15 black marbles.\nIf you pull 15 marbles at random, how likely is it that\n12 or more of them are one color?\n",
            "metadata": {}
        },
        {
            "id": "612a858c",
            "cell_type": "code",
            "metadata": {},
            "execution_count": null,
            "source": "s = np.random.hypergeometric(15, 15, 15, 100000)\nsum(s>=12)/100000. + sum(s<=3)/100000.",
            "outputs": [
                {
                    "output_type": "execute_result",
                    "metadata": {},
                    "data": {
                        "text/plain": "#   answer = 0.003 ... pretty unlikely!"
                    },
                    "execution_count": null
                }
            ]
        }
    ]
}