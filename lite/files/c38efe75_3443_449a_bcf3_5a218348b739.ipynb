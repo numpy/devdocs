{
    "nbformat": 4,
    "nbformat_minor": 5,
    "metadata": {
        "kernelspec": {
            "display_name": "Python",
            "language": "python",
            "name": "python"
        },
        "language_info": {
            "name": "python"
        }
    },
    "cells": [
        {
            "id": "e0aa0b47",
            "cell_type": "markdown",
            "source": "<div class='alert alert-warning'>\n\nNumPy's interactive examples are experimental and may not always work as expected, with high load times especially on low-resource platforms, and the version of NumPy might not be in sync with the one you are browsing the documentation for. If you encounter any issues, please report them on the [NumPy issue tracker](https://github.com/numpy/numpy/issues).\n\n</div>",
            "metadata": {}
        },
        {
            "id": "ab1897c4",
            "cell_type": "code",
            "metadata": {},
            "execution_count": null,
            "source": "from numpy.polynomial.hermite import hermroots, hermfromroots\ncoef = hermfromroots([-1, 0, 1])\ncoef",
            "outputs": [
                {
                    "output_type": "execute_result",
                    "metadata": {},
                    "data": {
                        "text/plain": "array([0.   ,  0.25 ,  0.   ,  0.125])"
                    },
                    "execution_count": null
                }
            ]
        },
        {
            "id": "d9d394f9",
            "cell_type": "code",
            "metadata": {},
            "execution_count": null,
            "source": "hermroots(coef)",
            "outputs": [
                {
                    "output_type": "execute_result",
                    "metadata": {},
                    "data": {
                        "text/plain": "array([-1.00000000e+00, -1.38777878e-17,  1.00000000e+00])"
                    },
                    "execution_count": null
                }
            ]
        }
    ]
}