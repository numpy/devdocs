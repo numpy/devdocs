{
    "nbformat": 4,
    "nbformat_minor": 5,
    "metadata": {
        "kernelspec": {
            "display_name": "Python",
            "language": "python",
            "name": "python"
        },
        "language_info": {
            "name": "python"
        }
    },
    "cells": [
        {
            "id": "31a125de",
            "cell_type": "markdown",
            "source": "<div class='alert alert-warning'>\n\nNumPy's interactive examples are experimental and may not always work as expected, with high load times especially on low-resource platforms, and the version of NumPy might not be in sync with the one you are browsing the documentation for. If you encounter any issues, please report them on the [NumPy issue tracker](https://github.com/numpy/numpy/issues).\n\n</div>",
            "metadata": {}
        },
        {
            "id": "c37fa400",
            "cell_type": "code",
            "metadata": {},
            "execution_count": null,
            "source": "import numpy as np\nnp.subtract(1.0, 4.0)",
            "outputs": [
                {
                    "output_type": "execute_result",
                    "metadata": {},
                    "data": {
                        "text/plain": "-3.0"
                    },
                    "execution_count": null
                }
            ]
        },
        {
            "id": "dbc08d88",
            "cell_type": "code",
            "metadata": {},
            "execution_count": null,
            "source": "x1 = np.arange(9.0).reshape((3, 3))\nx2 = np.arange(3.0)\nnp.subtract(x1, x2)",
            "outputs": [
                {
                    "output_type": "execute_result",
                    "metadata": {},
                    "data": {
                        "text/plain": "array([[ 0.,  0.,  0.],\n       [ 3.,  3.,  3.],\n       [ 6.,  6.,  6.]])"
                    },
                    "execution_count": null
                }
            ]
        },
        {
            "id": "fbb6b352",
            "cell_type": "markdown",
            "source": "The ``-`` operator can be used as a shorthand for ``np.subtract`` on\nndarrays.\n",
            "metadata": {}
        },
        {
            "id": "296f491b",
            "cell_type": "code",
            "metadata": {},
            "execution_count": null,
            "source": "x1 = np.arange(9.0).reshape((3, 3))\nx2 = np.arange(3.0)\nx1 - x2",
            "outputs": [
                {
                    "output_type": "execute_result",
                    "metadata": {},
                    "data": {
                        "text/plain": "array([[0., 0., 0.],\n       [3., 3., 3.],\n       [6., 6., 6.]])"
                    },
                    "execution_count": null
                }
            ]
        }
    ]
}