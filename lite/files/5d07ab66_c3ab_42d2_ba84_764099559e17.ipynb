{
    "nbformat": 4,
    "nbformat_minor": 5,
    "metadata": {
        "kernelspec": {
            "display_name": "Python",
            "language": "python",
            "name": "python"
        },
        "language_info": {
            "name": "python"
        }
    },
    "cells": [
        {
            "id": "727df636",
            "cell_type": "markdown",
            "source": "<div class='alert alert-warning'>\n\nNumPy's interactive examples are experimental and may not always work as expected, with high load times especially on low-resource platforms, and the version of NumPy might not be in sync with the one you are browsing the documentation for. If you encounter any issues, please report them on the [NumPy issue tracker](https://github.com/numpy/numpy/issues).\n\n</div>",
            "metadata": {}
        },
        {
            "id": "e9753296",
            "cell_type": "code",
            "metadata": {},
            "execution_count": null,
            "source": "import numpy as np\nx = np.arange(6, dtype=int)\nnp.full_like(x, 1)",
            "outputs": [
                {
                    "output_type": "execute_result",
                    "metadata": {},
                    "data": {
                        "text/plain": "array([1, 1, 1, 1, 1, 1])"
                    },
                    "execution_count": null
                }
            ]
        },
        {
            "id": "a907ece1",
            "cell_type": "code",
            "metadata": {},
            "execution_count": null,
            "source": "np.full_like(x, 0.1)",
            "outputs": [
                {
                    "output_type": "execute_result",
                    "metadata": {},
                    "data": {
                        "text/plain": "array([0, 0, 0, 0, 0, 0])"
                    },
                    "execution_count": null
                }
            ]
        },
        {
            "id": "2db8a4c5",
            "cell_type": "code",
            "metadata": {},
            "execution_count": null,
            "source": "np.full_like(x, 0.1, dtype=np.double)",
            "outputs": [
                {
                    "output_type": "execute_result",
                    "metadata": {},
                    "data": {
                        "text/plain": "array([0.1, 0.1, 0.1, 0.1, 0.1, 0.1])"
                    },
                    "execution_count": null
                }
            ]
        },
        {
            "id": "c9b6b6d8",
            "cell_type": "code",
            "metadata": {},
            "execution_count": null,
            "source": "np.full_like(x, np.nan, dtype=np.double)",
            "outputs": [
                {
                    "output_type": "execute_result",
                    "metadata": {},
                    "data": {
                        "text/plain": "array([nan, nan, nan, nan, nan, nan])"
                    },
                    "execution_count": null
                }
            ]
        },
        {
            "id": "bc50e346",
            "cell_type": "code",
            "metadata": {},
            "execution_count": null,
            "source": "y = np.arange(6, dtype=np.double)\nnp.full_like(y, 0.1)",
            "outputs": [
                {
                    "output_type": "execute_result",
                    "metadata": {},
                    "data": {
                        "text/plain": "array([0.1, 0.1, 0.1, 0.1, 0.1, 0.1])"
                    },
                    "execution_count": null
                }
            ]
        },
        {
            "id": "e0adf4c0",
            "cell_type": "code",
            "metadata": {},
            "execution_count": null,
            "source": "y = np.zeros([2, 2, 3], dtype=int)\nnp.full_like(y, [0, 0, 255])",
            "outputs": [
                {
                    "output_type": "execute_result",
                    "metadata": {},
                    "data": {
                        "text/plain": "array([[[  0,   0, 255],\n        [  0,   0, 255]],\n       [[  0,   0, 255],\n        [  0,   0, 255]]])"
                    },
                    "execution_count": null
                }
            ]
        }
    ]
}