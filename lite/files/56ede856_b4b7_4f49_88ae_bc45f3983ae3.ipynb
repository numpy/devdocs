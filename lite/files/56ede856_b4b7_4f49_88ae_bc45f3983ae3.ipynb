{
    "nbformat": 4,
    "nbformat_minor": 5,
    "metadata": {
        "kernelspec": {
            "display_name": "Python",
            "language": "python",
            "name": "python"
        },
        "language_info": {
            "name": "python"
        }
    },
    "cells": [
        {
            "id": "c260a6b5",
            "cell_type": "markdown",
            "source": "<div class='alert alert-warning'>\n\nNumPy's interactive examples are experimental and may not always work as expected, with high load times especially on low-resource platforms, and the version of NumPy might not be in sync with the one you are browsing the documentation for. If you encounter any issues, please report them on the [NumPy issue tracker](https://github.com/numpy/numpy/issues).\n\n</div>",
            "metadata": {}
        },
        {
            "id": "22088d27",
            "cell_type": "code",
            "metadata": {},
            "execution_count": null,
            "source": "np.char.isspace(list(\"a b c\"))",
            "outputs": [
                {
                    "output_type": "execute_result",
                    "metadata": {},
                    "data": {
                        "text/plain": "array([False,  True, False,  True, False])"
                    },
                    "execution_count": null
                }
            ]
        },
        {
            "id": "f34a05a4",
            "cell_type": "code",
            "metadata": {},
            "execution_count": null,
            "source": "np.char.isspace(b'\\x0a \\x0b \\x0c')",
            "outputs": [
                {
                    "output_type": "execute_result",
                    "metadata": {},
                    "data": {
                        "text/plain": "np.True_"
                    },
                    "execution_count": null
                }
            ]
        },
        {
            "id": "dd10fbdb",
            "cell_type": "code",
            "metadata": {},
            "execution_count": null,
            "source": "np.char.isspace(b'\\x0a \\x0b \\x0c N')",
            "outputs": [
                {
                    "output_type": "execute_result",
                    "metadata": {},
                    "data": {
                        "text/plain": "np.False_"
                    },
                    "execution_count": null
                }
            ]
        }
    ]
}