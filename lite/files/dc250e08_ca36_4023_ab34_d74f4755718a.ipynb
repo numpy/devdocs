{
    "nbformat": 4,
    "nbformat_minor": 5,
    "metadata": {
        "kernelspec": {
            "display_name": "Python",
            "language": "python",
            "name": "python"
        },
        "language_info": {
            "name": "python"
        }
    },
    "cells": [
        {
            "id": "2e4a6563",
            "cell_type": "markdown",
            "source": "<div class='alert alert-warning'>\n\nNumPy's interactive examples are experimental and may not always work as expected, with high load times especially on low-resource platforms, and the version of NumPy might not be in sync with the one you are browsing the documentation for. If you encounter any issues, please report them on the [NumPy issue tracker](https://github.com/numpy/numpy/issues).\n\n</div>",
            "metadata": {}
        },
        {
            "id": "108e81e0",
            "cell_type": "code",
            "metadata": {},
            "execution_count": null,
            "source": "x = np.matrix(np.arange(12).reshape((3,4))); x",
            "outputs": [
                {
                    "output_type": "execute_result",
                    "metadata": {},
                    "data": {
                        "text/plain": "matrix([[ 0,  1,  2,  3],\n        [ 4,  5,  6,  7],\n        [ 8,  9, 10, 11]])"
                    },
                    "execution_count": null
                }
            ]
        },
        {
            "id": "e82c581f",
            "cell_type": "code",
            "metadata": {},
            "execution_count": null,
            "source": "x.prod()",
            "outputs": [
                {
                    "output_type": "execute_result",
                    "metadata": {},
                    "data": {
                        "text/plain": "0"
                    },
                    "execution_count": null
                }
            ]
        },
        {
            "id": "0df0c4aa",
            "cell_type": "code",
            "metadata": {},
            "execution_count": null,
            "source": "x.prod(0)",
            "outputs": [
                {
                    "output_type": "execute_result",
                    "metadata": {},
                    "data": {
                        "text/plain": "matrix([[  0,  45, 120, 231]])"
                    },
                    "execution_count": null
                }
            ]
        },
        {
            "id": "375c6918",
            "cell_type": "code",
            "metadata": {},
            "execution_count": null,
            "source": "x.prod(1)",
            "outputs": [
                {
                    "output_type": "execute_result",
                    "metadata": {},
                    "data": {
                        "text/plain": "matrix([[   0],\n        [ 840],\n        [7920]])"
                    },
                    "execution_count": null
                }
            ]
        }
    ]
}