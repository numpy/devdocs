{
    "nbformat": 4,
    "nbformat_minor": 5,
    "metadata": {
        "kernelspec": {
            "display_name": "Python",
            "language": "python",
            "name": "python"
        },
        "language_info": {
            "name": "python"
        }
    },
    "cells": [
        {
            "id": "3f9563c9",
            "cell_type": "markdown",
            "source": "<div class='alert alert-warning'>\n\nNumPy's interactive examples are experimental and may not always work as expected, with high load times especially on low-resource platforms, and the version of NumPy might not be in sync with the one you are browsing the documentation for. If you encounter any issues, please report them on the [NumPy issue tracker](https://github.com/numpy/numpy/issues).\n\n</div>",
            "metadata": {}
        },
        {
            "id": "15d6a666",
            "cell_type": "code",
            "metadata": {},
            "execution_count": null,
            "source": "import numpy as np\nfrom numpy.lib import recfunctions as rfn\na = np.array([(1, (2, 3.0)), (4, (5, 6.0))],\n  dtype=[('a', np.int64), ('b', [('ba', np.double), ('bb', np.int64)])])\nrfn.drop_fields(a, 'a')",
            "outputs": [
                {
                    "output_type": "execute_result",
                    "metadata": {},
                    "data": {
                        "text/plain": "array([((2., 3),), ((5., 6),)],\n      dtype=[('b', [('ba', '<f8'), ('bb', '<i8')])])"
                    },
                    "execution_count": null
                }
            ]
        },
        {
            "id": "2b3ec9ef",
            "cell_type": "code",
            "metadata": {},
            "execution_count": null,
            "source": "rfn.drop_fields(a, 'ba')",
            "outputs": [
                {
                    "output_type": "execute_result",
                    "metadata": {},
                    "data": {
                        "text/plain": "array([(1, (3,)), (4, (6,))], dtype=[('a', '<i8'), ('b', [('bb', '<i8')])])"
                    },
                    "execution_count": null
                }
            ]
        },
        {
            "id": "d609d96f",
            "cell_type": "code",
            "metadata": {},
            "execution_count": null,
            "source": "rfn.drop_fields(a, ['ba', 'bb'])",
            "outputs": [
                {
                    "output_type": "execute_result",
                    "metadata": {},
                    "data": {
                        "text/plain": "array([(1,), (4,)], dtype=[('a', '<i8')])"
                    },
                    "execution_count": null
                }
            ]
        }
    ]
}