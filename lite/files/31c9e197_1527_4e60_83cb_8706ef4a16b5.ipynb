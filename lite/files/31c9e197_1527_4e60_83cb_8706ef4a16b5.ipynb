{
    "nbformat": 4,
    "nbformat_minor": 5,
    "metadata": {
        "kernelspec": {
            "display_name": "Python",
            "language": "python",
            "name": "python"
        },
        "language_info": {
            "name": "python"
        }
    },
    "cells": [
        {
            "id": "e90ae386",
            "cell_type": "markdown",
            "source": "<div class='alert alert-warning'>\n\nNumPy's interactive examples are experimental and may not always work as expected, with high load times especially on low-resource platforms, and the version of NumPy might not be in sync with the one you are browsing the documentation for. If you encounter any issues, please report them on the [NumPy issue tracker](https://github.com/numpy/numpy/issues).\n\n</div>",
            "metadata": {}
        },
        {
            "id": "2bbda8e0",
            "cell_type": "code",
            "metadata": {},
            "execution_count": null,
            "source": "import numpy.polynomial.chebyshev as C\nC.chebfromroots((-1,0,1)) # x^3 - x relative to the standard basis",
            "outputs": [
                {
                    "output_type": "execute_result",
                    "metadata": {},
                    "data": {
                        "text/plain": "array([ 0.  , -0.25,  0.  ,  0.25])"
                    },
                    "execution_count": null
                }
            ]
        },
        {
            "id": "99308bea",
            "cell_type": "code",
            "metadata": {},
            "execution_count": null,
            "source": "j = complex(0,1)\nC.chebfromroots((-j,j)) # x^2 + 1 relative to the standard basis",
            "outputs": [
                {
                    "output_type": "execute_result",
                    "metadata": {},
                    "data": {
                        "text/plain": "array([1.5+0.j, 0. +0.j, 0.5+0.j])"
                    },
                    "execution_count": null
                }
            ]
        }
    ]
}