{
    "nbformat": 4,
    "nbformat_minor": 5,
    "metadata": {
        "kernelspec": {
            "display_name": "Python",
            "language": "python",
            "name": "python"
        },
        "language_info": {
            "name": "python"
        }
    },
    "cells": [
        {
            "id": "8d5fa8a8",
            "cell_type": "markdown",
            "source": "<div class='alert alert-warning'>\n\nNumPy's interactive examples are experimental and may not always work as expected, with high load times especially on low-resource platforms, and the version of NumPy might not be in sync with the one you are browsing the documentation for. If you encounter any issues, please report them on the [NumPy issue tracker](https://github.com/numpy/numpy/issues).\n\n</div>",
            "metadata": {}
        },
        {
            "id": "b3335e4e",
            "cell_type": "markdown",
            "source": "Draw samples from the distribution:\n",
            "metadata": {}
        },
        {
            "id": "c3742924",
            "cell_type": "code",
            "metadata": {},
            "execution_count": null,
            "source": "rng = np.random.default_rng()\na = 5. # shape\ns = rng.weibull(a, 1000)",
            "outputs": []
        },
        {
            "id": "da427396",
            "cell_type": "markdown",
            "source": "Display the histogram of the samples, along with\nthe probability density function:\n",
            "metadata": {}
        },
        {
            "id": "22bfe835",
            "cell_type": "code",
            "metadata": {},
            "execution_count": null,
            "source": "import matplotlib.pyplot as plt\ndef weibull(x, n, a):\n    return (a / n) * (x / n)**(a - 1) * np.exp(-(x / n)**a)\ncount, bins, _ = plt.hist(rng.weibull(5., 1000))\nx = np.linspace(0, 2, 1000)\nbin_spacing = np.mean(np.diff(bins))\nplt.plot(x, weibull(x, 1., 5.) * bin_spacing * s.size, label='Weibull PDF')\nplt.legend()\nplt.show()",
            "outputs": []
        }
    ]
}