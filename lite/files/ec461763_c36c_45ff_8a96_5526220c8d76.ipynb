{
    "nbformat": 4,
    "nbformat_minor": 5,
    "metadata": {
        "kernelspec": {
            "display_name": "Python",
            "language": "python",
            "name": "python"
        },
        "language_info": {
            "name": "python"
        }
    },
    "cells": [
        {
            "id": "317752dd",
            "cell_type": "markdown",
            "source": "<div class='alert alert-warning'>\n\nNumPy's interactive examples are experimental and may not always work as expected, with high load times especially on low-resource platforms, and the version of NumPy might not be in sync with the one you are browsing the documentation for. If you encounter any issues, please report them on the [NumPy issue tracker](https://github.com/numpy/numpy/issues).\n\n</div>",
            "metadata": {}
        },
        {
            "id": "4b1de229",
            "cell_type": "code",
            "metadata": {},
            "execution_count": null,
            "source": "import numpy as np",
            "outputs": []
        },
        {
            "id": "5250180a",
            "cell_type": "markdown",
            "source": "Get the projected size along a given normal for an array of vectors.\n",
            "metadata": {}
        },
        {
            "id": "d8b00dd2",
            "cell_type": "code",
            "metadata": {},
            "execution_count": null,
            "source": "v = np.array([[0., 5., 0.], [0., 0., 10.], [0., 6., 8.]])\nn = np.array([0., 0.6, 0.8])\nnp.vecdot(v, n)",
            "outputs": [
                {
                    "output_type": "execute_result",
                    "metadata": {},
                    "data": {
                        "text/plain": "array([ 3.,  8., 10.])"
                    },
                    "execution_count": null
                }
            ]
        }
    ]
}