{
    "nbformat": 4,
    "nbformat_minor": 5,
    "metadata": {
        "kernelspec": {
            "display_name": "Python",
            "language": "python",
            "name": "python"
        },
        "language_info": {
            "name": "python"
        }
    },
    "cells": [
        {
            "id": "af062750",
            "cell_type": "markdown",
            "source": "<div class='alert alert-warning'>\n\nNumPy's interactive examples are experimental and may not always work as expected, with high load times especially on low-resource platforms, and the version of NumPy might not be in sync with the one you are browsing the documentation for. If you encounter any issues, please report them on the [NumPy issue tracker](https://github.com/numpy/numpy/issues).\n\n</div>",
            "metadata": {}
        },
        {
            "id": "cb8ff405",
            "cell_type": "code",
            "metadata": {},
            "execution_count": null,
            "source": "import numpy as np\nfrom numpy.polynomial.polynomial import polyval\npolyval(1, [1,2,3])",
            "outputs": [
                {
                    "output_type": "execute_result",
                    "metadata": {},
                    "data": {
                        "text/plain": "6.0"
                    },
                    "execution_count": null
                }
            ]
        },
        {
            "id": "b81ab918",
            "cell_type": "code",
            "metadata": {},
            "execution_count": null,
            "source": "a = np.arange(4).reshape(2,2)\na",
            "outputs": [
                {
                    "output_type": "execute_result",
                    "metadata": {},
                    "data": {
                        "text/plain": "array([[0, 1],\n       [2, 3]])"
                    },
                    "execution_count": null
                }
            ]
        },
        {
            "id": "900247b7",
            "cell_type": "code",
            "metadata": {},
            "execution_count": null,
            "source": "polyval(a, [1, 2, 3])",
            "outputs": [
                {
                    "output_type": "execute_result",
                    "metadata": {},
                    "data": {
                        "text/plain": "array([[ 1.,   6.],\n       [17.,  34.]])"
                    },
                    "execution_count": null
                }
            ]
        },
        {
            "id": "43c7132a",
            "cell_type": "code",
            "metadata": {},
            "execution_count": null,
            "source": "coef = np.arange(4).reshape(2, 2)  # multidimensional coefficients\ncoef",
            "outputs": [
                {
                    "output_type": "execute_result",
                    "metadata": {},
                    "data": {
                        "text/plain": "array([[0, 1],\n       [2, 3]])"
                    },
                    "execution_count": null
                }
            ]
        },
        {
            "id": "0d7903f2",
            "cell_type": "code",
            "metadata": {},
            "execution_count": null,
            "source": "polyval([1, 2], coef, tensor=True)",
            "outputs": [
                {
                    "output_type": "execute_result",
                    "metadata": {},
                    "data": {
                        "text/plain": "array([[2.,  4.],\n       [4.,  7.]])"
                    },
                    "execution_count": null
                }
            ]
        },
        {
            "id": "23eb07da",
            "cell_type": "code",
            "metadata": {},
            "execution_count": null,
            "source": "polyval([1, 2], coef, tensor=False)",
            "outputs": [
                {
                    "output_type": "execute_result",
                    "metadata": {},
                    "data": {
                        "text/plain": "array([2.,  7.])"
                    },
                    "execution_count": null
                }
            ]
        }
    ]
}