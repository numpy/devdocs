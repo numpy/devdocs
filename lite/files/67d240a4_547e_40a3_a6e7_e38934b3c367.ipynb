{
    "nbformat": 4,
    "nbformat_minor": 5,
    "metadata": {
        "kernelspec": {
            "display_name": "Python",
            "language": "python",
            "name": "python"
        },
        "language_info": {
            "name": "python"
        }
    },
    "cells": [
        {
            "id": "99c38f8e",
            "cell_type": "markdown",
            "source": "<div class='alert alert-warning'>\n\nNumPy's interactive examples are experimental and may not always work as expected, with high load times especially on low-resource platforms, and the version of NumPy might not be in sync with the one you are browsing the documentation for. If you encounter any issues, please report them on the [NumPy issue tracker](https://github.com/numpy/numpy/issues).\n\n</div>",
            "metadata": {}
        },
        {
            "id": "4e89042d",
            "cell_type": "code",
            "metadata": {},
            "execution_count": null,
            "source": "import numpy as np\nx = np.arange(6).reshape(2, 3)\nfl = x.flat\nfl.coords",
            "outputs": [
                {
                    "output_type": "execute_result",
                    "metadata": {},
                    "data": {
                        "text/plain": "(0, 0)"
                    },
                    "execution_count": null
                }
            ]
        },
        {
            "id": "dbe2dc16",
            "cell_type": "code",
            "metadata": {},
            "execution_count": null,
            "source": "next(fl)",
            "outputs": [
                {
                    "output_type": "execute_result",
                    "metadata": {},
                    "data": {
                        "text/plain": "0"
                    },
                    "execution_count": null
                }
            ]
        },
        {
            "id": "33bc7acd",
            "cell_type": "code",
            "metadata": {},
            "execution_count": null,
            "source": "fl.coords",
            "outputs": [
                {
                    "output_type": "execute_result",
                    "metadata": {},
                    "data": {
                        "text/plain": "(0, 1)"
                    },
                    "execution_count": null
                }
            ]
        }
    ]
}