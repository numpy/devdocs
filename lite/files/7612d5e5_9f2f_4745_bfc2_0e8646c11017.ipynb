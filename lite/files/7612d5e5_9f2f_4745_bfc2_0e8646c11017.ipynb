{
    "nbformat": 4,
    "nbformat_minor": 5,
    "metadata": {
        "kernelspec": {
            "display_name": "Python",
            "language": "python",
            "name": "python"
        },
        "language_info": {
            "name": "python"
        }
    },
    "cells": [
        {
            "id": "b432897b",
            "cell_type": "markdown",
            "source": "<div class='alert alert-warning'>\n\nNumPy's interactive examples are experimental and may not always work as expected, with high load times especially on low-resource platforms, and the version of NumPy might not be in sync with the one you are browsing the documentation for. If you encounter any issues, please report them on the [NumPy issue tracker](https://github.com/numpy/numpy/issues).\n\n</div>",
            "metadata": {}
        },
        {
            "id": "f9165174",
            "cell_type": "markdown",
            "source": "Note how the convolution operator flips the second array\nbefore \"sliding\" the two across one another:\n",
            "metadata": {}
        },
        {
            "id": "35871912",
            "cell_type": "code",
            "metadata": {},
            "execution_count": null,
            "source": "import numpy as np\nnp.convolve([1, 2, 3], [0, 1, 0.5])",
            "outputs": [
                {
                    "output_type": "execute_result",
                    "metadata": {},
                    "data": {
                        "text/plain": "array([0. , 1. , 2.5, 4. , 1.5])"
                    },
                    "execution_count": null
                }
            ]
        },
        {
            "id": "553c282d",
            "cell_type": "markdown",
            "source": "Only return the middle values of the convolution.\nContains boundary effects, where zeros are taken\ninto account:\n",
            "metadata": {}
        },
        {
            "id": "89dafa29",
            "cell_type": "code",
            "metadata": {},
            "execution_count": null,
            "source": "np.convolve([1,2,3],[0,1,0.5], 'same')",
            "outputs": [
                {
                    "output_type": "execute_result",
                    "metadata": {},
                    "data": {
                        "text/plain": "array([1. ,  2.5,  4. ])"
                    },
                    "execution_count": null
                }
            ]
        },
        {
            "id": "32d1b5f5",
            "cell_type": "markdown",
            "source": "The two arrays are of the same length, so there\nis only one position where they completely overlap:\n",
            "metadata": {}
        },
        {
            "id": "d18546f6",
            "cell_type": "code",
            "metadata": {},
            "execution_count": null,
            "source": "np.convolve([1,2,3],[0,1,0.5], 'valid')",
            "outputs": [
                {
                    "output_type": "execute_result",
                    "metadata": {},
                    "data": {
                        "text/plain": "array([2.5])"
                    },
                    "execution_count": null
                }
            ]
        }
    ]
}