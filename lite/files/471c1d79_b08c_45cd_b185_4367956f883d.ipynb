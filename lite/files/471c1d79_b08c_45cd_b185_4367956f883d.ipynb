{
    "nbformat": 4,
    "nbformat_minor": 5,
    "metadata": {
        "kernelspec": {
            "display_name": "Python",
            "language": "python",
            "name": "python"
        },
        "language_info": {
            "name": "python"
        }
    },
    "cells": [
        {
            "id": "fb4ef11e",
            "cell_type": "markdown",
            "source": "<div class='alert alert-warning'>\n\nNumPy's interactive examples are experimental and may not always work as expected, with high load times especially on low-resource platforms, and the version of NumPy might not be in sync with the one you are browsing the documentation for. If you encounter any issues, please report them on the [NumPy issue tracker](https://github.com/numpy/numpy/issues).\n\n</div>",
            "metadata": {}
        },
        {
            "id": "db287f12",
            "cell_type": "code",
            "metadata": {},
            "execution_count": null,
            "source": "import numpy as np\nx = np.ma.array(np.arange(5), mask=[0]*2 + [1]*3)\nx.compressed()",
            "outputs": [
                {
                    "output_type": "execute_result",
                    "metadata": {},
                    "data": {
                        "text/plain": "array([0, 1])"
                    },
                    "execution_count": null
                }
            ]
        },
        {
            "id": "13958a98",
            "cell_type": "code",
            "metadata": {},
            "execution_count": null,
            "source": "type(x.compressed())",
            "outputs": [
                {
                    "output_type": "execute_result",
                    "metadata": {},
                    "data": {
                        "text/plain": "<class 'numpy.ndarray'>"
                    },
                    "execution_count": null
                }
            ]
        },
        {
            "id": "af9a8b51",
            "cell_type": "markdown",
            "source": "N-D arrays are compressed to 1-D.\n",
            "metadata": {}
        },
        {
            "id": "847f173a",
            "cell_type": "code",
            "metadata": {},
            "execution_count": null,
            "source": "arr = [[1, 2], [3, 4]]\nmask = [[1, 0], [0, 1]]\nx = np.ma.array(arr, mask=mask)\nx.compressed()",
            "outputs": [
                {
                    "output_type": "execute_result",
                    "metadata": {},
                    "data": {
                        "text/plain": "array([2, 3])"
                    },
                    "execution_count": null
                }
            ]
        }
    ]
}