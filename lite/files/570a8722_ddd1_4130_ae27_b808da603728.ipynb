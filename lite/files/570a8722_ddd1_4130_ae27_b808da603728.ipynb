{
    "nbformat": 4,
    "nbformat_minor": 5,
    "metadata": {
        "kernelspec": {
            "display_name": "Python",
            "language": "python",
            "name": "python"
        },
        "language_info": {
            "name": "python"
        }
    },
    "cells": [
        {
            "id": "f00a4567",
            "cell_type": "markdown",
            "source": "<div class='alert alert-warning'>\n\nNumPy's interactive examples are experimental and may not always work as expected, with high load times especially on low-resource platforms, and the version of NumPy might not be in sync with the one you are browsing the documentation for. If you encounter any issues, please report them on the [NumPy issue tracker](https://github.com/numpy/numpy/issues).\n\n</div>",
            "metadata": {}
        },
        {
            "id": "a5fdae28",
            "cell_type": "code",
            "metadata": {},
            "execution_count": null,
            "source": "import numpy as np\nc=np.array(['a1B c','1b Ca','b Ca1','cA1b'],'S5'); c",
            "outputs": [
                {
                    "output_type": "execute_result",
                    "metadata": {},
                    "data": {
                        "text/plain": "array(['a1B c', '1b Ca', 'b Ca1', 'cA1b'],\n    dtype='|S5')"
                    },
                    "execution_count": null
                }
            ]
        },
        {
            "id": "888c9052",
            "cell_type": "code",
            "metadata": {},
            "execution_count": null,
            "source": "np.strings.swapcase(c)",
            "outputs": [
                {
                    "output_type": "execute_result",
                    "metadata": {},
                    "data": {
                        "text/plain": "array(['A1b C', '1B cA', 'B cA1', 'Ca1B'],\n    dtype='|S5')"
                    },
                    "execution_count": null
                }
            ]
        }
    ]
}