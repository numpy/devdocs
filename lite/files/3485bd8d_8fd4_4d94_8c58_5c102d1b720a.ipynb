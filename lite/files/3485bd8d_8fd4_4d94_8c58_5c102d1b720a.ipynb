{
    "nbformat": 4,
    "nbformat_minor": 5,
    "metadata": {
        "kernelspec": {
            "display_name": "Python",
            "language": "python",
            "name": "python"
        },
        "language_info": {
            "name": "python"
        }
    },
    "cells": [
        {
            "id": "05f57374",
            "cell_type": "markdown",
            "source": "<div class='alert alert-warning'>\n\nNumPy's interactive examples are experimental and may not always work as expected, with high load times especially on low-resource platforms, and the version of NumPy might not be in sync with the one you are browsing the documentation for. If you encounter any issues, please report them on the [NumPy issue tracker](https://github.com/numpy/numpy/issues).\n\n</div>",
            "metadata": {}
        },
        {
            "id": "cecf1dda",
            "cell_type": "code",
            "metadata": {},
            "execution_count": null,
            "source": "import numpy as np\nc = np.array(['a1b2','1b2a','b2a1','2a1b']); c",
            "outputs": [
                {
                    "output_type": "execute_result",
                    "metadata": {},
                    "data": {
                        "text/plain": "array(['a1b2', '1b2a', 'b2a1', '2a1b'], dtype='<U4')"
                    },
                    "execution_count": null
                }
            ]
        },
        {
            "id": "4ba2f758",
            "cell_type": "code",
            "metadata": {},
            "execution_count": null,
            "source": "np.strings.center(c, width=9)",
            "outputs": [
                {
                    "output_type": "execute_result",
                    "metadata": {},
                    "data": {
                        "text/plain": "array(['   a1b2  ', '   1b2a  ', '   b2a1  ', '   2a1b  '], dtype='<U9')"
                    },
                    "execution_count": null
                }
            ]
        },
        {
            "id": "d7ab004e",
            "cell_type": "code",
            "metadata": {},
            "execution_count": null,
            "source": "np.strings.center(c, width=9, fillchar='*')",
            "outputs": [
                {
                    "output_type": "execute_result",
                    "metadata": {},
                    "data": {
                        "text/plain": "array(['***a1b2**', '***1b2a**', '***b2a1**', '***2a1b**'], dtype='<U9')"
                    },
                    "execution_count": null
                }
            ]
        },
        {
            "id": "1e3af9ca",
            "cell_type": "code",
            "metadata": {},
            "execution_count": null,
            "source": "np.strings.center(c, width=1)",
            "outputs": [
                {
                    "output_type": "execute_result",
                    "metadata": {},
                    "data": {
                        "text/plain": "array(['a1b2', '1b2a', 'b2a1', '2a1b'], dtype='<U4')"
                    },
                    "execution_count": null
                }
            ]
        }
    ]
}