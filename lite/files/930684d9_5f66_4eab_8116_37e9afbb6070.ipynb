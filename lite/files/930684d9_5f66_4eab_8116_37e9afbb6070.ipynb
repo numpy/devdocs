{
    "nbformat": 4,
    "nbformat_minor": 5,
    "metadata": {
        "kernelspec": {
            "display_name": "Python",
            "language": "python",
            "name": "python"
        },
        "language_info": {
            "name": "python"
        }
    },
    "cells": [
        {
            "id": "c6d93f2d",
            "cell_type": "markdown",
            "source": "<div class='alert alert-warning'>\n\nNumPy's interactive examples are experimental and may not always work as expected, with high load times especially on low-resource platforms, and the version of NumPy might not be in sync with the one you are browsing the documentation for. If you encounter any issues, please report them on the [NumPy issue tracker](https://github.com/numpy/numpy/issues).\n\n</div>",
            "metadata": {}
        },
        {
            "id": "954202c4",
            "cell_type": "code",
            "metadata": {},
            "execution_count": null,
            "source": "rng = np.random.default_rng()\nrng.chisquare(2,4)",
            "outputs": [
                {
                    "output_type": "execute_result",
                    "metadata": {},
                    "data": {
                        "text/plain": "array([ 1.89920014,  9.00867716,  3.13710533,  5.62318272]) # random"
                    },
                    "execution_count": null
                }
            ]
        },
        {
            "id": "019f27b1",
            "cell_type": "markdown",
            "source": "The distribution of a chi-square random variable\nwith 20 degrees of freedom looks as follows:\n",
            "metadata": {}
        },
        {
            "id": "dfd8515a",
            "cell_type": "code",
            "metadata": {},
            "execution_count": null,
            "source": "import matplotlib.pyplot as plt\nimport scipy.stats as stats\ns = rng.chisquare(20, 10000)\ncount, bins, _ = plt.hist(s, 30, density=True)\nx = np.linspace(0, 60, 1000)\nplt.plot(x, stats.chi2.pdf(x, df=20))\nplt.xlim([0, 60])\nplt.show()",
            "outputs": []
        }
    ]
}