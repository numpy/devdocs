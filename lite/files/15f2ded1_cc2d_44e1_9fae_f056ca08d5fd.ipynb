{
    "nbformat": 4,
    "nbformat_minor": 5,
    "metadata": {
        "kernelspec": {
            "display_name": "Python",
            "language": "python",
            "name": "python"
        },
        "language_info": {
            "name": "python"
        }
    },
    "cells": [
        {
            "id": "ede690e5",
            "cell_type": "markdown",
            "source": "<div class='alert alert-warning'>\n\nNumPy's interactive examples are experimental and may not always work as expected, with high load times especially on low-resource platforms, and the version of NumPy might not be in sync with the one you are browsing the documentation for. If you encounter any issues, please report them on the [NumPy issue tracker](https://github.com/numpy/numpy/issues).\n\n</div>",
            "metadata": {}
        },
        {
            "id": "d85e3a93",
            "cell_type": "code",
            "metadata": {},
            "execution_count": null,
            "source": "import numpy as np\nnp.fromfunction(lambda i, j: i, (2, 2), dtype=float)",
            "outputs": [
                {
                    "output_type": "execute_result",
                    "metadata": {},
                    "data": {
                        "text/plain": "array([[0., 0.],\n       [1., 1.]])"
                    },
                    "execution_count": null
                }
            ]
        },
        {
            "id": "ca9e0801",
            "cell_type": "code",
            "metadata": {},
            "execution_count": null,
            "source": "np.fromfunction(lambda i, j: j, (2, 2), dtype=float)",
            "outputs": [
                {
                    "output_type": "execute_result",
                    "metadata": {},
                    "data": {
                        "text/plain": "array([[0., 1.],\n       [0., 1.]])"
                    },
                    "execution_count": null
                }
            ]
        },
        {
            "id": "116796ff",
            "cell_type": "code",
            "metadata": {},
            "execution_count": null,
            "source": "np.fromfunction(lambda i, j: i == j, (3, 3), dtype=int)",
            "outputs": [
                {
                    "output_type": "execute_result",
                    "metadata": {},
                    "data": {
                        "text/plain": "array([[ True, False, False],\n       [False,  True, False],\n       [False, False,  True]])"
                    },
                    "execution_count": null
                }
            ]
        },
        {
            "id": "583edd19",
            "cell_type": "code",
            "metadata": {},
            "execution_count": null,
            "source": "np.fromfunction(lambda i, j: i + j, (3, 3), dtype=int)",
            "outputs": [
                {
                    "output_type": "execute_result",
                    "metadata": {},
                    "data": {
                        "text/plain": "array([[0, 1, 2],\n       [1, 2, 3],\n       [2, 3, 4]])"
                    },
                    "execution_count": null
                }
            ]
        }
    ]
}