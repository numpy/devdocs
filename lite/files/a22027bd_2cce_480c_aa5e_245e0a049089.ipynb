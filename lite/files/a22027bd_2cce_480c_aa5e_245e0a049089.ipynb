{
    "nbformat": 4,
    "nbformat_minor": 5,
    "metadata": {
        "kernelspec": {
            "display_name": "Python",
            "language": "python",
            "name": "python"
        },
        "language_info": {
            "name": "python"
        }
    },
    "cells": [
        {
            "id": "ed031fb4",
            "cell_type": "markdown",
            "source": "<div class='alert alert-warning'>\n\nNumPy's interactive examples are experimental and may not always work as expected, with high load times especially on low-resource platforms, and the version of NumPy might not be in sync with the one you are browsing the documentation for. If you encounter any issues, please report them on the [NumPy issue tracker](https://github.com/numpy/numpy/issues).\n\n</div>",
            "metadata": {}
        },
        {
            "id": "61a648fb",
            "cell_type": "code",
            "metadata": {},
            "execution_count": null,
            "source": "import numpy as np\nprob1 = np.log(1e-50)\nprob2 = np.log(2.5e-50)\nprob12 = np.logaddexp(prob1, prob2)\nprob12",
            "outputs": [
                {
                    "output_type": "execute_result",
                    "metadata": {},
                    "data": {
                        "text/plain": "-113.87649168120691"
                    },
                    "execution_count": null
                }
            ]
        },
        {
            "id": "d9001140",
            "cell_type": "code",
            "metadata": {},
            "execution_count": null,
            "source": "np.exp(prob12)",
            "outputs": [
                {
                    "output_type": "execute_result",
                    "metadata": {},
                    "data": {
                        "text/plain": "3.5000000000000057e-50"
                    },
                    "execution_count": null
                }
            ]
        }
    ]
}