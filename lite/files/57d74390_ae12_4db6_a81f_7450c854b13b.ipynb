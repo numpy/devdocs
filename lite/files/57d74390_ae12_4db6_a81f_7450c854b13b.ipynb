{
    "nbformat": 4,
    "nbformat_minor": 5,
    "metadata": {
        "kernelspec": {
            "display_name": "Python",
            "language": "python",
            "name": "python"
        },
        "language_info": {
            "name": "python"
        }
    },
    "cells": [
        {
            "id": "5d692739",
            "cell_type": "markdown",
            "source": "<div class='alert alert-warning'>\n\nNumPy's interactive examples are experimental and may not always work as expected, with high load times especially on low-resource platforms, and the version of NumPy might not be in sync with the one you are browsing the documentation for. If you encounter any issues, please report them on the [NumPy issue tracker](https://github.com/numpy/numpy/issues).\n\n</div>",
            "metadata": {}
        },
        {
            "id": "b48b3d64",
            "cell_type": "markdown",
            "source": "Draw samples from the distribution:\n",
            "metadata": {}
        },
        {
            "id": "1cf8093d",
            "cell_type": "code",
            "metadata": {},
            "execution_count": null,
            "source": "mu, sigma = 3., 1. # mean and standard deviation\ns = np.random.lognormal(mu, sigma, 1000)",
            "outputs": []
        },
        {
            "id": "609dfabb",
            "cell_type": "markdown",
            "source": "Display the histogram of the samples, along with\nthe probability density function:\n",
            "metadata": {}
        },
        {
            "id": "79557d0d",
            "cell_type": "code",
            "metadata": {},
            "execution_count": null,
            "source": "import matplotlib.pyplot as plt\ncount, bins, ignored = plt.hist(s, 100, density=True, align='mid')",
            "outputs": []
        },
        {
            "id": "c8726e4b",
            "cell_type": "code",
            "metadata": {},
            "execution_count": null,
            "source": "x = np.linspace(min(bins), max(bins), 10000)\npdf = (np.exp(-(np.log(x) - mu)**2 / (2 * sigma**2))\n       / (x * sigma * np.sqrt(2 * np.pi)))",
            "outputs": []
        },
        {
            "id": "2f97c36c",
            "cell_type": "code",
            "metadata": {},
            "execution_count": null,
            "source": "plt.plot(x, pdf, linewidth=2, color='r')\nplt.axis('tight')\nplt.show()",
            "outputs": []
        },
        {
            "id": "9d48d96c",
            "cell_type": "markdown",
            "source": "Demonstrate that taking the products of random samples from a uniform\ndistribution can be fit well by a log-normal probability density\nfunction.\n",
            "metadata": {}
        },
        {
            "id": "641065fd",
            "cell_type": "code",
            "metadata": {},
            "execution_count": null,
            "source": "# Generate a thousand samples: each is the product of 100 random\n# values, drawn from a normal distribution.\nb = []\nfor i in range(1000):\n   a = 10. + np.random.standard_normal(100)\n   b.append(np.prod(a))",
            "outputs": []
        },
        {
            "id": "f6c5546f",
            "cell_type": "code",
            "metadata": {},
            "execution_count": null,
            "source": "b = np.array(b) / np.min(b) # scale values to be positive\ncount, bins, ignored = plt.hist(b, 100, density=True, align='mid')\nsigma = np.std(np.log(b))\nmu = np.mean(np.log(b))",
            "outputs": []
        },
        {
            "id": "5e28482a",
            "cell_type": "code",
            "metadata": {},
            "execution_count": null,
            "source": "x = np.linspace(min(bins), max(bins), 10000)\npdf = (np.exp(-(np.log(x) - mu)**2 / (2 * sigma**2))\n       / (x * sigma * np.sqrt(2 * np.pi)))",
            "outputs": []
        },
        {
            "id": "8bec5ccf",
            "cell_type": "code",
            "metadata": {},
            "execution_count": null,
            "source": "plt.plot(x, pdf, color='r', linewidth=2)\nplt.show()",
            "outputs": []
        }
    ]
}