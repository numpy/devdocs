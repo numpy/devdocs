{
    "nbformat": 4,
    "nbformat_minor": 5,
    "metadata": {
        "kernelspec": {
            "display_name": "Python",
            "language": "python",
            "name": "python"
        },
        "language_info": {
            "name": "python"
        }
    },
    "cells": [
        {
            "id": "220fee8a",
            "cell_type": "markdown",
            "source": "<div class='alert alert-warning'>\n\nNumPy's interactive examples are experimental and may not always work as expected, with high load times especially on low-resource platforms, and the version of NumPy might not be in sync with the one you are browsing the documentation for. If you encounter any issues, please report them on the [NumPy issue tracker](https://github.com/numpy/numpy/issues).\n\n</div>",
            "metadata": {}
        },
        {
            "id": "e95438d1",
            "cell_type": "code",
            "metadata": {},
            "execution_count": null,
            "source": "import numpy as np\nfrom matplotlib.image import NonUniformImage\nimport matplotlib.pyplot as plt",
            "outputs": []
        },
        {
            "id": "538f6ed9",
            "cell_type": "markdown",
            "source": "Construct a 2-D histogram with variable bin width. First define the bin\nedges:\n",
            "metadata": {}
        },
        {
            "id": "0d29f3c4",
            "cell_type": "code",
            "metadata": {},
            "execution_count": null,
            "source": "xedges = [0, 1, 3, 5]\nyedges = [0, 2, 3, 4, 6]",
            "outputs": []
        },
        {
            "id": "cf451b21",
            "cell_type": "markdown",
            "source": "Next we create a histogram H with random bin content:\n",
            "metadata": {}
        },
        {
            "id": "16467c4b",
            "cell_type": "code",
            "metadata": {},
            "execution_count": null,
            "source": "x = np.random.normal(2, 1, 100)\ny = np.random.normal(1, 1, 100)\nH, xedges, yedges = np.histogram2d(x, y, bins=(xedges, yedges))\n# Histogram does not follow Cartesian convention (see Notes),\n# therefore transpose H for visualization purposes.\nH = H.T",
            "outputs": []
        },
        {
            "id": "70eb8fc2",
            "cell_type": "markdown",
            "source": ":func:`imshow <matplotlib.pyplot.imshow>` can only display square bins:\n",
            "metadata": {}
        },
        {
            "id": "45a4bcce",
            "cell_type": "code",
            "metadata": {},
            "execution_count": null,
            "source": "fig = plt.figure(figsize=(7, 3))\nax = fig.add_subplot(131, title='imshow: square bins')\nplt.imshow(H, interpolation='nearest', origin='lower',\n        extent=[xedges[0], xedges[-1], yedges[0], yedges[-1]])",
            "outputs": [
                {
                    "output_type": "execute_result",
                    "metadata": {},
                    "data": {
                        "text/plain": "<matplotlib.image.AxesImage object at 0x...>"
                    },
                    "execution_count": null
                }
            ]
        },
        {
            "id": "f62b402b",
            "cell_type": "markdown",
            "source": ":func:`pcolormesh <matplotlib.pyplot.pcolormesh>` can display actual edges:\n",
            "metadata": {}
        },
        {
            "id": "e297d88e",
            "cell_type": "code",
            "metadata": {},
            "execution_count": null,
            "source": "ax = fig.add_subplot(132, title='pcolormesh: actual edges',\n        aspect='equal')\nX, Y = np.meshgrid(xedges, yedges)\nax.pcolormesh(X, Y, H)",
            "outputs": [
                {
                    "output_type": "execute_result",
                    "metadata": {},
                    "data": {
                        "text/plain": "<matplotlib.collections.QuadMesh object at 0x...>"
                    },
                    "execution_count": null
                }
            ]
        },
        {
            "id": "0ba072fa",
            "cell_type": "markdown",
            "source": ":class:`NonUniformImage <matplotlib.image.NonUniformImage>` can be used to\ndisplay actual bin edges with interpolation:\n",
            "metadata": {}
        },
        {
            "id": "77275638",
            "cell_type": "code",
            "metadata": {},
            "execution_count": null,
            "source": "ax = fig.add_subplot(133, title='NonUniformImage: interpolated',\n        aspect='equal', xlim=xedges[[0, -1]], ylim=yedges[[0, -1]])\nim = NonUniformImage(ax, interpolation='bilinear')\nxcenters = (xedges[:-1] + xedges[1:]) / 2\nycenters = (yedges[:-1] + yedges[1:]) / 2\nim.set_data(xcenters, ycenters, H)\nax.add_image(im)\nplt.show()",
            "outputs": []
        },
        {
            "id": "1a047463",
            "cell_type": "markdown",
            "source": "It is also possible to construct a 2-D histogram without specifying bin\nedges:\n",
            "metadata": {}
        },
        {
            "id": "ed1e23df",
            "cell_type": "code",
            "metadata": {},
            "execution_count": null,
            "source": "# Generate non-symmetric test data\nn = 10000\nx = np.linspace(1, 100, n)\ny = 2*np.log(x) + np.random.rand(n) - 0.5\n# Compute 2d histogram. Note the order of x/y and xedges/yedges\nH, yedges, xedges = np.histogram2d(y, x, bins=20)",
            "outputs": []
        },
        {
            "id": "94052867",
            "cell_type": "markdown",
            "source": "Now we can plot the histogram using\n:func:`pcolormesh <matplotlib.pyplot.pcolormesh>`, and a\n:func:`hexbin <matplotlib.pyplot.hexbin>` for comparison.\n",
            "metadata": {}
        },
        {
            "id": "5136d15f",
            "cell_type": "code",
            "metadata": {},
            "execution_count": null,
            "source": "# Plot histogram using pcolormesh\nfig, (ax1, ax2) = plt.subplots(ncols=2, sharey=True)\nax1.pcolormesh(xedges, yedges, H, cmap='rainbow')\nax1.plot(x, 2*np.log(x), 'k-')\nax1.set_xlim(x.min(), x.max())\nax1.set_ylim(y.min(), y.max())\nax1.set_xlabel('x')\nax1.set_ylabel('y')\nax1.set_title('histogram2d')\nax1.grid()",
            "outputs": []
        },
        {
            "id": "19393611",
            "cell_type": "code",
            "metadata": {},
            "execution_count": null,
            "source": "# Create hexbin plot for comparison\nax2.hexbin(x, y, gridsize=20, cmap='rainbow')\nax2.plot(x, 2*np.log(x), 'k-')\nax2.set_title('hexbin')\nax2.set_xlim(x.min(), x.max())\nax2.set_xlabel('x')\nax2.grid()",
            "outputs": []
        },
        {
            "id": "49abe75e",
            "cell_type": "code",
            "metadata": {},
            "execution_count": null,
            "source": "plt.show()",
            "outputs": []
        }
    ]
}