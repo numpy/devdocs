{
    "nbformat": 4,
    "nbformat_minor": 5,
    "metadata": {
        "kernelspec": {
            "display_name": "Python",
            "language": "python",
            "name": "python"
        },
        "language_info": {
            "name": "python"
        }
    },
    "cells": [
        {
            "id": "ab96fbf5",
            "cell_type": "markdown",
            "source": "<div class='alert alert-warning'>\n\nNumPy's interactive examples are experimental and may not always work as expected, with high load times especially on low-resource platforms, and the version of NumPy might not be in sync with the one you are browsing the documentation for. If you encounter any issues, please report them on the [NumPy issue tracker](https://github.com/numpy/numpy/issues).\n\n</div>",
            "metadata": {}
        },
        {
            "id": "24dd3629",
            "cell_type": "code",
            "metadata": {},
            "execution_count": null,
            "source": "import numpy as np\nrng = np.random.default_rng()\na = rng.normal(size=(9, 6))\nQ, R = np.linalg.qr(a)\nnp.allclose(a, np.dot(Q, R))  # a does equal QR",
            "outputs": [
                {
                    "output_type": "execute_result",
                    "metadata": {},
                    "data": {
                        "text/plain": "True"
                    },
                    "execution_count": null
                }
            ]
        },
        {
            "id": "600c5d2f",
            "cell_type": "code",
            "metadata": {},
            "execution_count": null,
            "source": "R2 = np.linalg.qr(a, mode='r')\nnp.allclose(R, R2)  # mode='r' returns the same R as mode='full'",
            "outputs": [
                {
                    "output_type": "execute_result",
                    "metadata": {},
                    "data": {
                        "text/plain": "True"
                    },
                    "execution_count": null
                }
            ]
        },
        {
            "id": "afde5201",
            "cell_type": "code",
            "metadata": {},
            "execution_count": null,
            "source": "a = np.random.normal(size=(3, 2, 2)) # Stack of 2 x 2 matrices as input\nQ, R = np.linalg.qr(a)\nQ.shape",
            "outputs": [
                {
                    "output_type": "execute_result",
                    "metadata": {},
                    "data": {
                        "text/plain": "(3, 2, 2)"
                    },
                    "execution_count": null
                }
            ]
        },
        {
            "id": "82ac7ca1",
            "cell_type": "code",
            "metadata": {},
            "execution_count": null,
            "source": "R.shape",
            "outputs": [
                {
                    "output_type": "execute_result",
                    "metadata": {},
                    "data": {
                        "text/plain": "(3, 2, 2)"
                    },
                    "execution_count": null
                }
            ]
        },
        {
            "id": "ff44506d",
            "cell_type": "code",
            "metadata": {},
            "execution_count": null,
            "source": "np.allclose(a, np.matmul(Q, R))",
            "outputs": [
                {
                    "output_type": "execute_result",
                    "metadata": {},
                    "data": {
                        "text/plain": "True"
                    },
                    "execution_count": null
                }
            ]
        },
        {
            "id": "edfdf8ec",
            "cell_type": "markdown",
            "source": "Example illustrating a common use of `qr`: solving of least squares\nproblems\n\nWhat are the least-squares-best `m` and `y0` in ``y = y0 + mx`` for\nthe following data: {(0,1), (1,0), (1,2), (2,1)}. (Graph the points\nand you'll see that it should be y0 = 0, m = 1.)  The answer is provided\nby solving the over-determined matrix equation ``Ax = b``, where\n```\n\nA = array([[0, 1], [1, 1], [1, 1], [2, 1]])\nx = array([[y0], [m]])\nb = array([[1], [0], [2], [1]])\n\n```\nIf A = QR such that Q is orthonormal (which is always possible via\nGram-Schmidt), then ``x = inv(R) * (Q.T) * b``.  (In numpy practice,\nhowever, we simply use `lstsq`.)\n",
            "metadata": {}
        },
        {
            "id": "2477411b",
            "cell_type": "code",
            "metadata": {},
            "execution_count": null,
            "source": "A = np.array([[0, 1], [1, 1], [1, 1], [2, 1]])\nA",
            "outputs": [
                {
                    "output_type": "execute_result",
                    "metadata": {},
                    "data": {
                        "text/plain": "array([[0, 1],\n       [1, 1],\n       [1, 1],\n       [2, 1]])"
                    },
                    "execution_count": null
                }
            ]
        },
        {
            "id": "f946e283",
            "cell_type": "code",
            "metadata": {},
            "execution_count": null,
            "source": "b = np.array([1, 2, 2, 3])\nQ, R = np.linalg.qr(A)\np = np.dot(Q.T, b)\nnp.dot(np.linalg.inv(R), p)",
            "outputs": [
                {
                    "output_type": "execute_result",
                    "metadata": {},
                    "data": {
                        "text/plain": "array([  1.,   1.])"
                    },
                    "execution_count": null
                }
            ]
        }
    ]
}