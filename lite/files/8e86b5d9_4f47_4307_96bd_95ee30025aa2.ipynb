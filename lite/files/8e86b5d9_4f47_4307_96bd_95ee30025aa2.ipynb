{
    "nbformat": 4,
    "nbformat_minor": 5,
    "metadata": {
        "kernelspec": {
            "display_name": "Python",
            "language": "python",
            "name": "python"
        },
        "language_info": {
            "name": "python"
        }
    },
    "cells": [
        {
            "id": "e70703b8",
            "cell_type": "markdown",
            "source": "<div class='alert alert-warning'>\n\nNumPy's interactive examples are experimental and may not always work as expected, with high load times especially on low-resource platforms, and the version of NumPy might not be in sync with the one you are browsing the documentation for. If you encounter any issues, please report them on the [NumPy issue tracker](https://github.com/numpy/numpy/issues).\n\n</div>",
            "metadata": {}
        },
        {
            "id": "8d149a38",
            "cell_type": "code",
            "metadata": {},
            "execution_count": null,
            "source": "from numpy.polynomial import polyutils as pu\npu.trimcoef((0,0,3,0,5,0,0))",
            "outputs": [
                {
                    "output_type": "execute_result",
                    "metadata": {},
                    "data": {
                        "text/plain": "array([0.,  0.,  3.,  0.,  5.])"
                    },
                    "execution_count": null
                }
            ]
        },
        {
            "id": "19861471",
            "cell_type": "code",
            "metadata": {},
            "execution_count": null,
            "source": "pu.trimcoef((0,0,1e-3,0,1e-5,0,0),1e-3) # item == tol is trimmed",
            "outputs": [
                {
                    "output_type": "execute_result",
                    "metadata": {},
                    "data": {
                        "text/plain": "array([0.])"
                    },
                    "execution_count": null
                }
            ]
        },
        {
            "id": "9a96d520",
            "cell_type": "code",
            "metadata": {},
            "execution_count": null,
            "source": "i = complex(0,1) # works for complex\npu.trimcoef((3e-4,1e-3*(1-i),5e-4,2e-5*(1+i)), 1e-3)",
            "outputs": [
                {
                    "output_type": "execute_result",
                    "metadata": {},
                    "data": {
                        "text/plain": "array([0.0003+0.j   , 0.001 -0.001j])"
                    },
                    "execution_count": null
                }
            ]
        }
    ]
}