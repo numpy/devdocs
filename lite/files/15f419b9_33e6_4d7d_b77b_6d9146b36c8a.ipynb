{
    "nbformat": 4,
    "nbformat_minor": 5,
    "metadata": {
        "kernelspec": {
            "display_name": "Python",
            "language": "python",
            "name": "python"
        },
        "language_info": {
            "name": "python"
        }
    },
    "cells": [
        {
            "id": "5102ab68",
            "cell_type": "markdown",
            "source": "<div class='alert alert-warning'>\n\nNumPy's interactive examples are experimental and may not always work as expected, with high load times especially on low-resource platforms, and the version of NumPy might not be in sync with the one you are browsing the documentation for. If you encounter any issues, please report them on the [NumPy issue tracker](https://github.com/numpy/numpy/issues).\n\n</div>",
            "metadata": {}
        },
        {
            "id": "c35b5488",
            "cell_type": "code",
            "metadata": {},
            "execution_count": null,
            "source": "np.random.seed(123)\nimport numpy.matlib\nnp.matlib.randn(1)",
            "outputs": [
                {
                    "output_type": "execute_result",
                    "metadata": {},
                    "data": {
                        "text/plain": "matrix([[-1.0856306]])"
                    },
                    "execution_count": null
                }
            ]
        },
        {
            "id": "763a2844",
            "cell_type": "code",
            "metadata": {},
            "execution_count": null,
            "source": "np.matlib.randn(1, 2, 3)",
            "outputs": [
                {
                    "output_type": "execute_result",
                    "metadata": {},
                    "data": {
                        "text/plain": "matrix([[ 0.99734545,  0.2829785 , -1.50629471],\n        [-0.57860025,  1.65143654, -2.42667924]])"
                    },
                    "execution_count": null
                }
            ]
        },
        {
            "id": "e238a4e9",
            "cell_type": "markdown",
            "source": "Two-by-four matrix of samples from the normal distribution with\nmean 3 and standard deviation 2.5:\n",
            "metadata": {}
        },
        {
            "id": "825bf4bf",
            "cell_type": "code",
            "metadata": {},
            "execution_count": null,
            "source": "2.5 * np.matlib.randn((2, 4)) + 3",
            "outputs": [
                {
                    "output_type": "execute_result",
                    "metadata": {},
                    "data": {
                        "text/plain": "matrix([[1.92771843, 6.16484065, 0.83314899, 1.30278462],\n        [2.76322758, 6.72847407, 1.40274501, 1.8900451 ]])"
                    },
                    "execution_count": null
                }
            ]
        }
    ]
}