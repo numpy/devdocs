{
    "nbformat": 4,
    "nbformat_minor": 5,
    "metadata": {
        "kernelspec": {
            "display_name": "Python",
            "language": "python",
            "name": "python"
        },
        "language_info": {
            "name": "python"
        }
    },
    "cells": [
        {
            "id": "661f3a4b",
            "cell_type": "markdown",
            "source": "<div class='alert alert-warning'>\n\nNumPy's interactive examples are experimental and may not always work as expected, with high load times especially on low-resource platforms, and the version of NumPy might not be in sync with the one you are browsing the documentation for. If you encounter any issues, please report them on the [NumPy issue tracker](https://github.com/numpy/numpy/issues).\n\n</div>",
            "metadata": {}
        },
        {
            "id": "98d50ed0",
            "cell_type": "code",
            "metadata": {},
            "execution_count": null,
            "source": "import numpy as np\nx = np.ma.MaskedArray([[4, 9, 2, 10],\n                       [6, 9, 7, 12]])",
            "outputs": []
        },
        {
            "id": "5fd52c5c",
            "cell_type": "code",
            "metadata": {},
            "execution_count": null,
            "source": "x.ptp(axis=1)",
            "outputs": [
                {
                    "output_type": "execute_result",
                    "metadata": {},
                    "data": {
                        "text/plain": "masked_array(data=[8, 6],\n             mask=False,\n       fill_value=999999)"
                    },
                    "execution_count": null
                }
            ]
        },
        {
            "id": "a0bb8851",
            "cell_type": "code",
            "metadata": {},
            "execution_count": null,
            "source": "x.ptp(axis=0)",
            "outputs": [
                {
                    "output_type": "execute_result",
                    "metadata": {},
                    "data": {
                        "text/plain": "masked_array(data=[2, 0, 5, 2],\n             mask=False,\n       fill_value=999999)"
                    },
                    "execution_count": null
                }
            ]
        },
        {
            "id": "cea39e81",
            "cell_type": "code",
            "metadata": {},
            "execution_count": null,
            "source": "x.ptp()",
            "outputs": [
                {
                    "output_type": "execute_result",
                    "metadata": {},
                    "data": {
                        "text/plain": "10"
                    },
                    "execution_count": null
                }
            ]
        },
        {
            "id": "3b264152",
            "cell_type": "markdown",
            "source": "This example shows that a negative value can be returned when\nthe input is an array of signed integers.\n",
            "metadata": {}
        },
        {
            "id": "157a25ed",
            "cell_type": "code",
            "metadata": {},
            "execution_count": null,
            "source": "y = np.ma.MaskedArray([[1, 127],\n                       [0, 127],\n                       [-1, 127],\n                       [-2, 127]], dtype=np.int8)\ny.ptp(axis=1)",
            "outputs": [
                {
                    "output_type": "execute_result",
                    "metadata": {},
                    "data": {
                        "text/plain": "masked_array(data=[ 126,  127, -128, -127],\n             mask=False,\n       fill_value=np.int64(999999),\n            dtype=int8)"
                    },
                    "execution_count": null
                }
            ]
        },
        {
            "id": "c6b3587d",
            "cell_type": "markdown",
            "source": "A work-around is to use the `view()` method to view the result as\nunsigned integers with the same bit width:\n",
            "metadata": {}
        },
        {
            "id": "bf9af365",
            "cell_type": "code",
            "metadata": {},
            "execution_count": null,
            "source": "y.ptp(axis=1).view(np.uint8)",
            "outputs": [
                {
                    "output_type": "execute_result",
                    "metadata": {},
                    "data": {
                        "text/plain": "masked_array(data=[126, 127, 128, 129],\n             mask=False,\n       fill_value=np.uint64(999999),\n            dtype=uint8)"
                    },
                    "execution_count": null
                }
            ]
        }
    ]
}