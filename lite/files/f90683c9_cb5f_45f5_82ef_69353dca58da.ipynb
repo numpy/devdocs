{
    "nbformat": 4,
    "nbformat_minor": 5,
    "metadata": {
        "kernelspec": {
            "display_name": "Python",
            "language": "python",
            "name": "python"
        },
        "language_info": {
            "name": "python"
        }
    },
    "cells": [
        {
            "id": "09fb898e",
            "cell_type": "markdown",
            "source": "<div class='alert alert-warning'>\n\nNumPy's interactive examples are experimental and may not always work as expected, with high load times especially on low-resource platforms, and the version of NumPy might not be in sync with the one you are browsing the documentation for. If you encounter any issues, please report them on the [NumPy issue tracker](https://github.com/numpy/numpy/issues).\n\n</div>",
            "metadata": {}
        },
        {
            "id": "4cd45c39",
            "cell_type": "code",
            "metadata": {},
            "execution_count": null,
            "source": "import numpy as np\nx = np.array([1e-16,1,2,3])\nnp.array2string(x, precision=2, separator=',',\n                      suppress_small=True)",
            "outputs": [
                {
                    "output_type": "execute_result",
                    "metadata": {},
                    "data": {
                        "text/plain": "'[0.,1.,2.,3.]'"
                    },
                    "execution_count": null
                }
            ]
        },
        {
            "id": "966ac206",
            "cell_type": "code",
            "metadata": {},
            "execution_count": null,
            "source": "x  = np.arange(3.)\nnp.array2string(x, formatter={'float_kind':lambda x: \"%.2f\" % x})",
            "outputs": [
                {
                    "output_type": "execute_result",
                    "metadata": {},
                    "data": {
                        "text/plain": "'[0.00 1.00 2.00]'"
                    },
                    "execution_count": null
                }
            ]
        },
        {
            "id": "641e801e",
            "cell_type": "code",
            "metadata": {},
            "execution_count": null,
            "source": "x  = np.arange(3)\nnp.array2string(x, formatter={'int':lambda x: hex(x)})",
            "outputs": [
                {
                    "output_type": "execute_result",
                    "metadata": {},
                    "data": {
                        "text/plain": "'[0x0 0x1 0x2]'"
                    },
                    "execution_count": null
                }
            ]
        }
    ]
}