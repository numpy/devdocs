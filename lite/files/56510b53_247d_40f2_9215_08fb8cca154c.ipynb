{
    "nbformat": 4,
    "nbformat_minor": 5,
    "metadata": {
        "kernelspec": {
            "display_name": "Python",
            "language": "python",
            "name": "python"
        },
        "language_info": {
            "name": "python"
        }
    },
    "cells": [
        {
            "id": "5db6e20f",
            "cell_type": "markdown",
            "source": "<div class='alert alert-warning'>\n\nNumPy's interactive examples are experimental and may not always work as expected, with high load times especially on low-resource platforms, and the version of NumPy might not be in sync with the one you are browsing the documentation for. If you encounter any issues, please report them on the [NumPy issue tracker](https://github.com/numpy/numpy/issues).\n\n</div>",
            "metadata": {}
        },
        {
            "id": "3e5ed031",
            "cell_type": "code",
            "metadata": {},
            "execution_count": null,
            "source": "from numpy import linalg as LA\na = np.arange(9) + 1\na",
            "outputs": [
                {
                    "output_type": "execute_result",
                    "metadata": {},
                    "data": {
                        "text/plain": "array([1, 2, 3, 4, 5, 6, 7, 8, 9])"
                    },
                    "execution_count": null
                }
            ]
        },
        {
            "id": "03b22d71",
            "cell_type": "code",
            "metadata": {},
            "execution_count": null,
            "source": "b = a.reshape((3, 3))\nb",
            "outputs": [
                {
                    "output_type": "execute_result",
                    "metadata": {},
                    "data": {
                        "text/plain": "array([[1, 2, 3],\n       [4, 5, 6],\n       [7, 8, 9]])"
                    },
                    "execution_count": null
                }
            ]
        },
        {
            "id": "0968e18a",
            "cell_type": "code",
            "metadata": {},
            "execution_count": null,
            "source": "LA.vector_norm(b)",
            "outputs": [
                {
                    "output_type": "execute_result",
                    "metadata": {},
                    "data": {
                        "text/plain": "16.881943016134134"
                    },
                    "execution_count": null
                }
            ]
        },
        {
            "id": "b18765cc",
            "cell_type": "code",
            "metadata": {},
            "execution_count": null,
            "source": "LA.vector_norm(b, ord=np.inf)",
            "outputs": [
                {
                    "output_type": "execute_result",
                    "metadata": {},
                    "data": {
                        "text/plain": "9.0"
                    },
                    "execution_count": null
                }
            ]
        },
        {
            "id": "3ccb1753",
            "cell_type": "code",
            "metadata": {},
            "execution_count": null,
            "source": "LA.vector_norm(b, ord=-np.inf)",
            "outputs": [
                {
                    "output_type": "execute_result",
                    "metadata": {},
                    "data": {
                        "text/plain": "1.0"
                    },
                    "execution_count": null
                }
            ]
        },
        {
            "id": "0b9257e6",
            "cell_type": "code",
            "metadata": {},
            "execution_count": null,
            "source": "LA.vector_norm(b, ord=0)",
            "outputs": [
                {
                    "output_type": "execute_result",
                    "metadata": {},
                    "data": {
                        "text/plain": "9.0"
                    },
                    "execution_count": null
                }
            ]
        },
        {
            "id": "2d0d20f9",
            "cell_type": "code",
            "metadata": {},
            "execution_count": null,
            "source": "LA.vector_norm(b, ord=1)",
            "outputs": [
                {
                    "output_type": "execute_result",
                    "metadata": {},
                    "data": {
                        "text/plain": "45.0"
                    },
                    "execution_count": null
                }
            ]
        },
        {
            "id": "33d48343",
            "cell_type": "code",
            "metadata": {},
            "execution_count": null,
            "source": "LA.vector_norm(b, ord=-1)",
            "outputs": [
                {
                    "output_type": "execute_result",
                    "metadata": {},
                    "data": {
                        "text/plain": "0.3534857623790153"
                    },
                    "execution_count": null
                }
            ]
        },
        {
            "id": "40b35a09",
            "cell_type": "code",
            "metadata": {},
            "execution_count": null,
            "source": "LA.vector_norm(b, ord=2)",
            "outputs": [
                {
                    "output_type": "execute_result",
                    "metadata": {},
                    "data": {
                        "text/plain": "16.881943016134134"
                    },
                    "execution_count": null
                }
            ]
        },
        {
            "id": "4663aa32",
            "cell_type": "code",
            "metadata": {},
            "execution_count": null,
            "source": "LA.vector_norm(b, ord=-2)",
            "outputs": [
                {
                    "output_type": "execute_result",
                    "metadata": {},
                    "data": {
                        "text/plain": "0.8058837395885292"
                    },
                    "execution_count": null
                }
            ]
        }
    ]
}