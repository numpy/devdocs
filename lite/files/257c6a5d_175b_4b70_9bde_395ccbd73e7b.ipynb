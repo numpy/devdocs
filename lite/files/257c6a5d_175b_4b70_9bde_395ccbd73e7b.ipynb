{
    "nbformat": 4,
    "nbformat_minor": 5,
    "metadata": {
        "kernelspec": {
            "display_name": "Python",
            "language": "python",
            "name": "python"
        },
        "language_info": {
            "name": "python"
        }
    },
    "cells": [
        {
            "id": "80bbb558",
            "cell_type": "markdown",
            "source": "<div class='alert alert-warning'>\n\nNumPy's interactive examples are experimental and may not always work as expected, with high load times especially on low-resource platforms, and the version of NumPy might not be in sync with the one you are browsing the documentation for. If you encounter any issues, please report them on the [NumPy issue tracker](https://github.com/numpy/numpy/issues).\n\n</div>",
            "metadata": {}
        },
        {
            "id": "ed85393a",
            "cell_type": "markdown",
            "source": "In a study, testing for a specific alternative to the null hypothesis\nrequires use of the Noncentral F distribution. We need to calculate the\narea in the tail of the distribution that exceeds the value of the F\ndistribution for the null hypothesis.  We'll plot the two probability\ndistributions for comparison.\n",
            "metadata": {}
        },
        {
            "id": "37151a1a",
            "cell_type": "code",
            "metadata": {},
            "execution_count": null,
            "source": "dfnum = 3 # between group deg of freedom\ndfden = 20 # within groups degrees of freedom\nnonc = 3.0\nnc_vals = np.random.noncentral_f(dfnum, dfden, nonc, 1000000)\nNF = np.histogram(nc_vals, bins=50, density=True)\nc_vals = np.random.f(dfnum, dfden, 1000000)\nF = np.histogram(c_vals, bins=50, density=True)\nimport matplotlib.pyplot as plt\nplt.plot(F[1][1:], F[0])\nplt.plot(NF[1][1:], NF[0])\nplt.show()",
            "outputs": []
        }
    ]
}