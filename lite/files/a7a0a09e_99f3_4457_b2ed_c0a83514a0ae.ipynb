{
    "nbformat": 4,
    "nbformat_minor": 5,
    "metadata": {
        "kernelspec": {
            "display_name": "Python",
            "language": "python",
            "name": "python"
        },
        "language_info": {
            "name": "python"
        }
    },
    "cells": [
        {
            "id": "e323fdbe",
            "cell_type": "markdown",
            "source": "<div class='alert alert-warning'>\n\nNumPy's interactive examples are experimental and may not always work as expected, with high load times especially on low-resource platforms, and the version of NumPy might not be in sync with the one you are browsing the documentation for. If you encounter any issues, please report them on the [NumPy issue tracker](https://github.com/numpy/numpy/issues).\n\n</div>",
            "metadata": {}
        },
        {
            "id": "d3da7da5",
            "cell_type": "code",
            "metadata": {},
            "execution_count": null,
            "source": "functions = [(\"test_bytes\", \"METH_O\", \"\"\"",
            "outputs": [
                {
                    "output_type": "execute_result",
                    "metadata": {},
                    "data": {
                        "text/plain": "    if ( !PyBytesCheck(args)) {\n        Py_RETURN_FALSE;\n    }\n    Py_RETURN_TRUE;\n\"\"\")]"
                    },
                    "execution_count": null
                }
            ]
        },
        {
            "id": "2726aa34",
            "cell_type": "code",
            "metadata": {},
            "execution_count": null,
            "source": "mod = build_and_import_extension(\"testme\", functions)\nassert not mod.test_bytes('abc')\nassert mod.test_bytes(b'abc')",
            "outputs": []
        }
    ]
}