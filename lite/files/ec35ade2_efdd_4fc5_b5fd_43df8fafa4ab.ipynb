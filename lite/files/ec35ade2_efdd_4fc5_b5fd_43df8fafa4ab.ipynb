{
    "nbformat": 4,
    "nbformat_minor": 5,
    "metadata": {
        "kernelspec": {
            "display_name": "Python",
            "language": "python",
            "name": "python"
        },
        "language_info": {
            "name": "python"
        }
    },
    "cells": [
        {
            "id": "8dc86af3",
            "cell_type": "markdown",
            "source": "<div class='alert alert-warning'>\n\nNumPy's interactive examples are experimental and may not always work as expected, with high load times especially on low-resource platforms, and the version of NumPy might not be in sync with the one you are browsing the documentation for. If you encounter any issues, please report them on the [NumPy issue tracker](https://github.com/numpy/numpy/issues).\n\n</div>",
            "metadata": {}
        },
        {
            "id": "2ac65bdc",
            "cell_type": "code",
            "metadata": {},
            "execution_count": null,
            "source": "import numpy as np\nx = np.arange(10)\nm = np.ma.masked_array(x, x>5)\nassert not m.hardmask",
            "outputs": []
        },
        {
            "id": "dc5a99bd",
            "cell_type": "markdown",
            "source": "Since `m` has a soft mask, assigning an element value unmasks that\nelement:\n",
            "metadata": {}
        },
        {
            "id": "ec70a7e3",
            "cell_type": "code",
            "metadata": {},
            "execution_count": null,
            "source": "m[8] = 42\nm",
            "outputs": [
                {
                    "output_type": "execute_result",
                    "metadata": {},
                    "data": {
                        "text/plain": "masked_array(data=[0, 1, 2, 3, 4, 5, --, --, 42, --],\n             mask=[False, False, False, False, False, False,\n                   True, True, False, True],\n       fill_value=999999)"
                    },
                    "execution_count": null
                }
            ]
        },
        {
            "id": "e71ef1f7",
            "cell_type": "markdown",
            "source": "After hardening, the mask is not affected by assignments:\n",
            "metadata": {}
        },
        {
            "id": "c8f81cb3",
            "cell_type": "code",
            "metadata": {},
            "execution_count": null,
            "source": "hardened = np.ma.harden_mask(m)\nassert m.hardmask and hardened is m\nm[:] = 23\nm",
            "outputs": [
                {
                    "output_type": "execute_result",
                    "metadata": {},
                    "data": {
                        "text/plain": "masked_array(data=[23, 23, 23, 23, 23, 23, --, --, 23, --],\n             mask=[False, False, False, False, False, False,\n                   True, True, False, True],\n       fill_value=999999)"
                    },
                    "execution_count": null
                }
            ]
        }
    ]
}