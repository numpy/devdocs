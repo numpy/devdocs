{
    "nbformat": 4,
    "nbformat_minor": 5,
    "metadata": {
        "kernelspec": {
            "display_name": "Python",
            "language": "python",
            "name": "python"
        },
        "language_info": {
            "name": "python"
        }
    },
    "cells": [
        {
            "id": "70228851",
            "cell_type": "markdown",
            "source": "<div class='alert alert-warning'>\n\nNumPy's interactive examples are experimental and may not always work as expected, with high load times especially on low-resource platforms, and the version of NumPy might not be in sync with the one you are browsing the documentation for. If you encounter any issues, please report them on the [NumPy issue tracker](https://github.com/numpy/numpy/issues).\n\n</div>",
            "metadata": {}
        },
        {
            "id": "cd7024ab",
            "cell_type": "code",
            "metadata": {},
            "execution_count": null,
            "source": "import numpy as np\na = np.ma.array([1, 2, 5, 4, 3],mask=[0, 1, 0, 1, 0])\n# Default\na.sort()\na",
            "outputs": [
                {
                    "output_type": "execute_result",
                    "metadata": {},
                    "data": {
                        "text/plain": "masked_array(data=[1, 3, 5, --, --],\n             mask=[False, False, False,  True,  True],\n       fill_value=999999)"
                    },
                    "execution_count": null
                }
            ]
        },
        {
            "id": "9976b149",
            "cell_type": "code",
            "metadata": {},
            "execution_count": null,
            "source": "a = np.ma.array([1, 2, 5, 4, 3],mask=[0, 1, 0, 1, 0])\n# Put missing values in the front\na.sort(endwith=False)\na",
            "outputs": [
                {
                    "output_type": "execute_result",
                    "metadata": {},
                    "data": {
                        "text/plain": "masked_array(data=[--, --, 1, 3, 5],\n             mask=[ True,  True, False, False, False],\n       fill_value=999999)"
                    },
                    "execution_count": null
                }
            ]
        },
        {
            "id": "f5d1b5b7",
            "cell_type": "code",
            "metadata": {},
            "execution_count": null,
            "source": "a = np.ma.array([1, 2, 5, 4, 3],mask=[0, 1, 0, 1, 0])\n# fill_value takes over endwith\na.sort(endwith=False, fill_value=3)\na",
            "outputs": [
                {
                    "output_type": "execute_result",
                    "metadata": {},
                    "data": {
                        "text/plain": "masked_array(data=[1, --, --, 3, 5],\n             mask=[False,  True,  True, False, False],\n       fill_value=999999)"
                    },
                    "execution_count": null
                }
            ]
        }
    ]
}