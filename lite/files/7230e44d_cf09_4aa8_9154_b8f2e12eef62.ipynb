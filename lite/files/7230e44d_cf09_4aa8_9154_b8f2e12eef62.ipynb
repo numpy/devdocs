{
    "nbformat": 4,
    "nbformat_minor": 5,
    "metadata": {
        "kernelspec": {
            "display_name": "Python",
            "language": "python",
            "name": "python"
        },
        "language_info": {
            "name": "python"
        }
    },
    "cells": [
        {
            "id": "3390011d",
            "cell_type": "markdown",
            "source": "<div class='alert alert-warning'>\n\nNumPy's interactive examples are experimental and may not always work as expected, with high load times especially on low-resource platforms, and the version of NumPy might not be in sync with the one you are browsing the documentation for. If you encounter any issues, please report them on the [NumPy issue tracker](https://github.com/numpy/numpy/issues).\n\n</div>",
            "metadata": {}
        },
        {
            "id": "26956c72",
            "cell_type": "code",
            "metadata": {},
            "execution_count": null,
            "source": "import numpy as np\nx = np.arange(6)\nx = x.reshape((2, 3))\nx",
            "outputs": [
                {
                    "output_type": "execute_result",
                    "metadata": {},
                    "data": {
                        "text/plain": "array([[0, 1, 2],\n       [3, 4, 5]])"
                    },
                    "execution_count": null
                }
            ]
        },
        {
            "id": "b6c64d14",
            "cell_type": "code",
            "metadata": {},
            "execution_count": null,
            "source": "np.zeros_like(x)",
            "outputs": [
                {
                    "output_type": "execute_result",
                    "metadata": {},
                    "data": {
                        "text/plain": "array([[0, 0, 0],\n       [0, 0, 0]])"
                    },
                    "execution_count": null
                }
            ]
        },
        {
            "id": "2deb5c2c",
            "cell_type": "code",
            "metadata": {},
            "execution_count": null,
            "source": "y = np.arange(3, dtype=float)\ny",
            "outputs": [
                {
                    "output_type": "execute_result",
                    "metadata": {},
                    "data": {
                        "text/plain": "array([0., 1., 2.])"
                    },
                    "execution_count": null
                }
            ]
        },
        {
            "id": "b97145ea",
            "cell_type": "code",
            "metadata": {},
            "execution_count": null,
            "source": "np.zeros_like(y)",
            "outputs": [
                {
                    "output_type": "execute_result",
                    "metadata": {},
                    "data": {
                        "text/plain": "array([0.,  0.,  0.])"
                    },
                    "execution_count": null
                }
            ]
        }
    ]
}