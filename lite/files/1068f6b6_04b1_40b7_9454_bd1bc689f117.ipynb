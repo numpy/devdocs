{
    "nbformat": 4,
    "nbformat_minor": 5,
    "metadata": {
        "kernelspec": {
            "display_name": "Python",
            "language": "python",
            "name": "python"
        },
        "language_info": {
            "name": "python"
        }
    },
    "cells": [
        {
            "id": "43124669",
            "cell_type": "markdown",
            "source": "<div class='alert alert-warning'>\n\nNumPy's interactive examples are experimental and may not always work as expected, with high load times especially on low-resource platforms, and the version of NumPy might not be in sync with the one you are browsing the documentation for. If you encounter any issues, please report them on the [NumPy issue tracker](https://github.com/numpy/numpy/issues).\n\n</div>",
            "metadata": {}
        },
        {
            "id": "dcdef481",
            "cell_type": "code",
            "metadata": {},
            "execution_count": null,
            "source": "import numpy as np\nnp.strings.join('-', 'osd')  # doctest: +SKIP",
            "outputs": [
                {
                    "output_type": "execute_result",
                    "metadata": {},
                    "data": {
                        "text/plain": "array('o-s-d', dtype='<U5')  # doctest: +SKIP"
                    },
                    "execution_count": null
                }
            ]
        },
        {
            "id": "0f425556",
            "cell_type": "code",
            "metadata": {},
            "execution_count": null,
            "source": "np.strings.join(['-', '.'], ['ghc', 'osd'])  # doctest: +SKIP",
            "outputs": [
                {
                    "output_type": "execute_result",
                    "metadata": {},
                    "data": {
                        "text/plain": "array(['g-h-c', 'o.s.d'], dtype='<U5')  # doctest: +SKIP"
                    },
                    "execution_count": null
                }
            ]
        }
    ]
}