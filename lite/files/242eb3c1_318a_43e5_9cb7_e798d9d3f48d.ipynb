{
    "nbformat": 4,
    "nbformat_minor": 5,
    "metadata": {
        "kernelspec": {
            "display_name": "Python",
            "language": "python",
            "name": "python"
        },
        "language_info": {
            "name": "python"
        }
    },
    "cells": [
        {
            "id": "392401d1",
            "cell_type": "markdown",
            "source": "<div class='alert alert-warning'>\n\nNumPy's interactive examples are experimental and may not always work as expected, with high load times especially on low-resource platforms, and the version of NumPy might not be in sync with the one you are browsing the documentation for. If you encounter any issues, please report them on the [NumPy issue tracker](https://github.com/numpy/numpy/issues).\n\n</div>",
            "metadata": {}
        },
        {
            "id": "aff72b29",
            "cell_type": "code",
            "metadata": {},
            "execution_count": null,
            "source": "import numpy as np\nnp.less([1, 2], [2, 2])",
            "outputs": [
                {
                    "output_type": "execute_result",
                    "metadata": {},
                    "data": {
                        "text/plain": "array([ True, False])"
                    },
                    "execution_count": null
                }
            ]
        },
        {
            "id": "876aee52",
            "cell_type": "markdown",
            "source": "The ``<`` operator can be used as a shorthand for ``np.less`` on ndarrays.\n",
            "metadata": {}
        },
        {
            "id": "f1a298cf",
            "cell_type": "code",
            "metadata": {},
            "execution_count": null,
            "source": "a = np.array([1, 2])\nb = np.array([2, 2])\na < b",
            "outputs": [
                {
                    "output_type": "execute_result",
                    "metadata": {},
                    "data": {
                        "text/plain": "array([ True, False])"
                    },
                    "execution_count": null
                }
            ]
        }
    ]
}