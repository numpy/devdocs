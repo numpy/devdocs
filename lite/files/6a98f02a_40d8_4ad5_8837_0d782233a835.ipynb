{
    "nbformat": 4,
    "nbformat_minor": 5,
    "metadata": {
        "kernelspec": {
            "display_name": "Python",
            "language": "python",
            "name": "python"
        },
        "language_info": {
            "name": "python"
        }
    },
    "cells": [
        {
            "id": "68a43490",
            "cell_type": "markdown",
            "source": "<div class='alert alert-warning'>\n\nNumPy's interactive examples are experimental and may not always work as expected, with high load times especially on low-resource platforms, and the version of NumPy might not be in sync with the one you are browsing the documentation for. If you encounter any issues, please report them on the [NumPy issue tracker](https://github.com/numpy/numpy/issues).\n\n</div>",
            "metadata": {}
        },
        {
            "id": "7ef3e2c1",
            "cell_type": "code",
            "metadata": {},
            "execution_count": null,
            "source": "from numpy import polynomial as P\nc = P.Legendre(range(4))\nc",
            "outputs": [
                {
                    "output_type": "execute_result",
                    "metadata": {},
                    "data": {
                        "text/plain": "Legendre([0., 1., 2., 3.], domain=[-1.,  1.], window=[-1.,  1.], symbol='x')"
                    },
                    "execution_count": null
                }
            ]
        },
        {
            "id": "36e8f661",
            "cell_type": "code",
            "metadata": {},
            "execution_count": null,
            "source": "p = c.convert(kind=P.Polynomial)\np",
            "outputs": [
                {
                    "output_type": "execute_result",
                    "metadata": {},
                    "data": {
                        "text/plain": "Polynomial([-1. , -3.5,  3. ,  7.5], domain=[-1.,  1.], window=[-1., ..."
                    },
                    "execution_count": null
                }
            ]
        },
        {
            "id": "87e44b46",
            "cell_type": "code",
            "metadata": {},
            "execution_count": null,
            "source": "P.legendre.leg2poly(range(4))",
            "outputs": [
                {
                    "output_type": "execute_result",
                    "metadata": {},
                    "data": {
                        "text/plain": "array([-1. , -3.5,  3. ,  7.5])"
                    },
                    "execution_count": null
                }
            ]
        }
    ]
}