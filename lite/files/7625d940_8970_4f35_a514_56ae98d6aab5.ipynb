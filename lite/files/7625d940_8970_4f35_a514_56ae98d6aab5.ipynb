{
    "nbformat": 4,
    "nbformat_minor": 5,
    "metadata": {
        "kernelspec": {
            "display_name": "Python",
            "language": "python",
            "name": "python"
        },
        "language_info": {
            "name": "python"
        }
    },
    "cells": [
        {
            "id": "fe9f4c31",
            "cell_type": "markdown",
            "source": "<div class='alert alert-warning'>\n\nNumPy's interactive examples are experimental and may not always work as expected, with high load times especially on low-resource platforms, and the version of NumPy might not be in sync with the one you are browsing the documentation for. If you encounter any issues, please report them on the [NumPy issue tracker](https://github.com/numpy/numpy/issues).\n\n</div>",
            "metadata": {}
        },
        {
            "id": "d05c13c6",
            "cell_type": "markdown",
            "source": "To take the running sum of four successive values:\n",
            "metadata": {}
        },
        {
            "id": "aa683360",
            "cell_type": "code",
            "metadata": {},
            "execution_count": null,
            "source": "import numpy as np\nnp.add.reduceat(np.arange(8),[0,4, 1,5, 2,6, 3,7])[::2]",
            "outputs": [
                {
                    "output_type": "execute_result",
                    "metadata": {},
                    "data": {
                        "text/plain": "array([ 6, 10, 14, 18])"
                    },
                    "execution_count": null
                }
            ]
        },
        {
            "id": "7d6fc784",
            "cell_type": "markdown",
            "source": "A 2-D example:\n",
            "metadata": {}
        },
        {
            "id": "bcee959b",
            "cell_type": "code",
            "metadata": {},
            "execution_count": null,
            "source": "x = np.linspace(0, 15, 16).reshape(4,4)\nx",
            "outputs": [
                {
                    "output_type": "execute_result",
                    "metadata": {},
                    "data": {
                        "text/plain": "array([[ 0.,   1.,   2.,   3.],\n       [ 4.,   5.,   6.,   7.],\n       [ 8.,   9.,  10.,  11.],\n       [12.,  13.,  14.,  15.]])"
                    },
                    "execution_count": null
                }
            ]
        },
        {
            "id": "ae84d33f",
            "cell_type": "markdown",
            "source": "```\n\n# reduce such that the result has the following five rows:\n# [row1 + row2 + row3]\n# [row4]\n# [row2]\n# [row3]\n# [row1 + row2 + row3 + row4]\n\n```",
            "metadata": {}
        },
        {
            "id": "d7471c72",
            "cell_type": "code",
            "metadata": {},
            "execution_count": null,
            "source": "np.add.reduceat(x, [0, 3, 1, 2, 0])",
            "outputs": [
                {
                    "output_type": "execute_result",
                    "metadata": {},
                    "data": {
                        "text/plain": "array([[12.,  15.,  18.,  21.],\n       [12.,  13.,  14.,  15.],\n       [ 4.,   5.,   6.,   7.],\n       [ 8.,   9.,  10.,  11.],\n       [24.,  28.,  32.,  36.]])"
                    },
                    "execution_count": null
                }
            ]
        },
        {
            "id": "bc353e38",
            "cell_type": "markdown",
            "source": "```\n\n# reduce such that result has the following two columns:\n# [col1 * col2 * col3, col4]\n\n```",
            "metadata": {}
        },
        {
            "id": "eb7bb9d1",
            "cell_type": "code",
            "metadata": {},
            "execution_count": null,
            "source": "np.multiply.reduceat(x, [0, 3], 1)",
            "outputs": [
                {
                    "output_type": "execute_result",
                    "metadata": {},
                    "data": {
                        "text/plain": "array([[   0.,     3.],\n       [ 120.,     7.],\n       [ 720.,    11.],\n       [2184.,    15.]])"
                    },
                    "execution_count": null
                }
            ]
        }
    ]
}