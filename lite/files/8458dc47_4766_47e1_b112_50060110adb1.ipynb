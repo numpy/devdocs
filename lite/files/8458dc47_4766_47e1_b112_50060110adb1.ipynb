{
    "nbformat": 4,
    "nbformat_minor": 5,
    "metadata": {
        "kernelspec": {
            "display_name": "Python",
            "language": "python",
            "name": "python"
        },
        "language_info": {
            "name": "python"
        }
    },
    "cells": [
        {
            "id": "6cf09573",
            "cell_type": "markdown",
            "source": "<div class='alert alert-warning'>\n\nNumPy's interactive examples are experimental and may not always work as expected, with high load times especially on low-resource platforms, and the version of NumPy might not be in sync with the one you are browsing the documentation for. If you encounter any issues, please report them on the [NumPy issue tracker](https://github.com/numpy/numpy/issues).\n\n</div>",
            "metadata": {}
        },
        {
            "id": "f5bff81c",
            "cell_type": "markdown",
            "source": "We can begin with a chain dot example. In this case, it is optimal to\ncontract the ``b`` and ``c`` tensors first as represented by the first\nelement of the path ``(1, 2)``. The resulting tensor is added to the end\nof the contraction and the remaining contraction ``(0, 1)`` is then\ncompleted.\n",
            "metadata": {}
        },
        {
            "id": "98e11c74",
            "cell_type": "code",
            "metadata": {},
            "execution_count": null,
            "source": "np.random.seed(123)\na = np.random.rand(2, 2)\nb = np.random.rand(2, 5)\nc = np.random.rand(5, 2)\npath_info = np.einsum_path('ij,jk,kl->il', a, b, c, optimize='greedy')\nprint(path_info[0])",
            "outputs": [
                {
                    "output_type": "execute_result",
                    "metadata": {},
                    "data": {
                        "text/plain": "['einsum_path', (1, 2), (0, 1)]"
                    },
                    "execution_count": null
                }
            ]
        },
        {
            "id": "513c8cb3",
            "cell_type": "code",
            "metadata": {},
            "execution_count": null,
            "source": "print(path_info[1])",
            "outputs": [
                {
                    "output_type": "execute_result",
                    "metadata": {},
                    "data": {
                        "text/plain": "  Complete contraction:  ij,jk,kl->il # may vary\n         Naive scaling:  4\n     Optimized scaling:  3\n      Naive FLOP count:  1.600e+02\n  Optimized FLOP count:  5.600e+01\n   Theoretical speedup:  2.857\n  Largest intermediate:  4.000e+00 elements\n-------------------------------------------------------------------------\nscaling                  current                                remaining\n-------------------------------------------------------------------------\n   3                   kl,jk->jl                                ij,jl->il\n   3                   jl,ij->il                                   il->il"
                    },
                    "execution_count": null
                }
            ]
        },
        {
            "id": "b0b8875d",
            "cell_type": "markdown",
            "source": "A more complex index transformation example.\n",
            "metadata": {}
        },
        {
            "id": "75c983a2",
            "cell_type": "code",
            "metadata": {},
            "execution_count": null,
            "source": "I = np.random.rand(10, 10, 10, 10)\nC = np.random.rand(10, 10)\npath_info = np.einsum_path('ea,fb,abcd,gc,hd->efgh', C, C, I, C, C,\n                           optimize='greedy')",
            "outputs": []
        },
        {
            "id": "0fd23fac",
            "cell_type": "code",
            "metadata": {},
            "execution_count": null,
            "source": "print(path_info[0])",
            "outputs": [
                {
                    "output_type": "execute_result",
                    "metadata": {},
                    "data": {
                        "text/plain": "['einsum_path', (0, 2), (0, 3), (0, 2), (0, 1)]"
                    },
                    "execution_count": null
                }
            ]
        },
        {
            "id": "d34bf9c1",
            "cell_type": "code",
            "metadata": {},
            "execution_count": null,
            "source": "print(path_info[1])",
            "outputs": [
                {
                    "output_type": "execute_result",
                    "metadata": {},
                    "data": {
                        "text/plain": "  Complete contraction:  ea,fb,abcd,gc,hd->efgh # may vary\n         Naive scaling:  8\n     Optimized scaling:  5\n      Naive FLOP count:  8.000e+08\n  Optimized FLOP count:  8.000e+05\n   Theoretical speedup:  1000.000\n  Largest intermediate:  1.000e+04 elements\n--------------------------------------------------------------------------\nscaling                  current                                remaining\n--------------------------------------------------------------------------\n   5               abcd,ea->bcde                      fb,gc,hd,bcde->efgh\n   5               bcde,fb->cdef                         gc,hd,cdef->efgh\n   5               cdef,gc->defg                            hd,defg->efgh\n   5               defg,hd->efgh                               efgh->efgh"
                    },
                    "execution_count": null
                }
            ]
        }
    ]
}