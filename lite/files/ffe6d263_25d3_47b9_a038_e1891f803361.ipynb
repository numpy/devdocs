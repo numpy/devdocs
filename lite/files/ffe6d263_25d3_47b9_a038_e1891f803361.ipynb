{
    "nbformat": 4,
    "nbformat_minor": 5,
    "metadata": {
        "kernelspec": {
            "display_name": "Python",
            "language": "python",
            "name": "python"
        },
        "language_info": {
            "name": "python"
        }
    },
    "cells": [
        {
            "id": "e3f763b0",
            "cell_type": "markdown",
            "source": "<div class='alert alert-warning'>\n\nNumPy's interactive examples are experimental and may not always work as expected, with high load times especially on low-resource platforms, and the version of NumPy might not be in sync with the one you are browsing the documentation for. If you encounter any issues, please report them on the [NumPy issue tracker](https://github.com/numpy/numpy/issues).\n\n</div>",
            "metadata": {}
        },
        {
            "id": "d914fca1",
            "cell_type": "code",
            "metadata": {},
            "execution_count": null,
            "source": "from numpy.polynomial import polynomial as P\nc1 = (1, 2, 3)\nc2 = (3, 2, 1)\nP.polydiv(c1, c2)",
            "outputs": [
                {
                    "output_type": "execute_result",
                    "metadata": {},
                    "data": {
                        "text/plain": "(array([3.]), array([-8., -4.]))"
                    },
                    "execution_count": null
                }
            ]
        },
        {
            "id": "de7e7ffb",
            "cell_type": "code",
            "metadata": {},
            "execution_count": null,
            "source": "P.polydiv(c2, c1)",
            "outputs": [
                {
                    "output_type": "execute_result",
                    "metadata": {},
                    "data": {
                        "text/plain": "(array([ 0.33333333]), array([ 2.66666667,  1.33333333]))  # may vary"
                    },
                    "execution_count": null
                }
            ]
        }
    ]
}