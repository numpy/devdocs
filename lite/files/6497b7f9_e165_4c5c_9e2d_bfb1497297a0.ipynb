{
    "nbformat": 4,
    "nbformat_minor": 5,
    "metadata": {
        "kernelspec": {
            "display_name": "Python",
            "language": "python",
            "name": "python"
        },
        "language_info": {
            "name": "python"
        }
    },
    "cells": [
        {
            "id": "eb3491b7",
            "cell_type": "markdown",
            "source": "<div class='alert alert-warning'>\n\nNumPy's interactive examples are experimental and may not always work as expected, with high load times especially on low-resource platforms, and the version of NumPy might not be in sync with the one you are browsing the documentation for. If you encounter any issues, please report them on the [NumPy issue tracker](https://github.com/numpy/numpy/issues).\n\n</div>",
            "metadata": {}
        },
        {
            "id": "ca5ba7db",
            "cell_type": "markdown",
            "source": "Illustration, using the fact that the eigenvalues of a diagonal matrix\nare its diagonal elements, that multiplying a matrix on the left\nby an orthogonal matrix, `Q`, and on the right by `Q.T` (the transpose\nof `Q`), preserves the eigenvalues of the \"middle\" matrix. In other words,\nif `Q` is orthogonal, then ``Q * A * Q.T`` has the same eigenvalues as\n``A``:\n",
            "metadata": {}
        },
        {
            "id": "efd4728a",
            "cell_type": "code",
            "metadata": {},
            "execution_count": null,
            "source": "import numpy as np\nfrom numpy import linalg as LA\nx = np.random.random()\nQ = np.array([[np.cos(x), -np.sin(x)], [np.sin(x), np.cos(x)]])\nLA.norm(Q[0, :]), LA.norm(Q[1, :]), np.dot(Q[0, :],Q[1, :])",
            "outputs": [
                {
                    "output_type": "execute_result",
                    "metadata": {},
                    "data": {
                        "text/plain": "(1.0, 1.0, 0.0)"
                    },
                    "execution_count": null
                }
            ]
        },
        {
            "id": "1b80da59",
            "cell_type": "markdown",
            "source": "Now multiply a diagonal matrix by ``Q`` on one side and\nby ``Q.T`` on the other:\n",
            "metadata": {}
        },
        {
            "id": "5012964a",
            "cell_type": "code",
            "metadata": {},
            "execution_count": null,
            "source": "D = np.diag((-1,1))\nLA.eigvals(D)",
            "outputs": [
                {
                    "output_type": "execute_result",
                    "metadata": {},
                    "data": {
                        "text/plain": "array([-1.,  1.])"
                    },
                    "execution_count": null
                }
            ]
        },
        {
            "id": "7c634f12",
            "cell_type": "code",
            "metadata": {},
            "execution_count": null,
            "source": "A = np.dot(Q, D)\nA = np.dot(A, Q.T)\nLA.eigvals(A)",
            "outputs": [
                {
                    "output_type": "execute_result",
                    "metadata": {},
                    "data": {
                        "text/plain": "array([ 1., -1.]) # random"
                    },
                    "execution_count": null
                }
            ]
        }
    ]
}