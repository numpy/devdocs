{
    "nbformat": 4,
    "nbformat_minor": 5,
    "metadata": {
        "kernelspec": {
            "display_name": "Python",
            "language": "python",
            "name": "python"
        },
        "language_info": {
            "name": "python"
        }
    },
    "cells": [
        {
            "id": "589a7d62",
            "cell_type": "markdown",
            "source": "<div class='alert alert-warning'>\n\nNumPy's interactive examples are experimental and may not always work as expected, with high load times especially on low-resource platforms, and the version of NumPy might not be in sync with the one you are browsing the documentation for. If you encounter any issues, please report them on the [NumPy issue tracker](https://github.com/numpy/numpy/issues).\n\n</div>",
            "metadata": {}
        },
        {
            "id": "580e19e7",
            "cell_type": "code",
            "metadata": {},
            "execution_count": null,
            "source": "from numpy.polynomial import chebyshev as C\nc = (1,2,3,4)\nC.chebder(c)",
            "outputs": [
                {
                    "output_type": "execute_result",
                    "metadata": {},
                    "data": {
                        "text/plain": "array([14., 12., 24.])"
                    },
                    "execution_count": null
                }
            ]
        },
        {
            "id": "e5035210",
            "cell_type": "code",
            "metadata": {},
            "execution_count": null,
            "source": "C.chebder(c,3)",
            "outputs": [
                {
                    "output_type": "execute_result",
                    "metadata": {},
                    "data": {
                        "text/plain": "array([96.])"
                    },
                    "execution_count": null
                }
            ]
        },
        {
            "id": "2aac3ae7",
            "cell_type": "code",
            "metadata": {},
            "execution_count": null,
            "source": "C.chebder(c,scl=-1)",
            "outputs": [
                {
                    "output_type": "execute_result",
                    "metadata": {},
                    "data": {
                        "text/plain": "array([-14., -12., -24.])"
                    },
                    "execution_count": null
                }
            ]
        },
        {
            "id": "c3481436",
            "cell_type": "code",
            "metadata": {},
            "execution_count": null,
            "source": "C.chebder(c,2,-1)",
            "outputs": [
                {
                    "output_type": "execute_result",
                    "metadata": {},
                    "data": {
                        "text/plain": "array([12.,  96.])"
                    },
                    "execution_count": null
                }
            ]
        }
    ]
}