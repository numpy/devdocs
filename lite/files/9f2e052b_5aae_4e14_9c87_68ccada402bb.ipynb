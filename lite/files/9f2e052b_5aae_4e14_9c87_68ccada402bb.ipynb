{
    "nbformat": 4,
    "nbformat_minor": 5,
    "metadata": {
        "kernelspec": {
            "display_name": "Python",
            "language": "python",
            "name": "python"
        },
        "language_info": {
            "name": "python"
        }
    },
    "cells": [
        {
            "id": "acd84092",
            "cell_type": "markdown",
            "source": "<div class='alert alert-warning'>\n\nNumPy's interactive examples are experimental and may not always work as expected, with high load times especially on low-resource platforms, and the version of NumPy might not be in sync with the one you are browsing the documentation for. If you encounter any issues, please report them on the [NumPy issue tracker](https://github.com/numpy/numpy/issues).\n\n</div>",
            "metadata": {}
        },
        {
            "id": "8075d9af",
            "cell_type": "code",
            "metadata": {},
            "execution_count": null,
            "source": "import numpy as np\na = np.arange(24).reshape(3,2,4) + 10\nfor val in a:\n    print('item:', val)",
            "outputs": [
                {
                    "output_type": "execute_result",
                    "metadata": {},
                    "data": {
                        "text/plain": "item: [[10 11 12 13]\n[14 15 16 17]]\nitem: [[18 19 20 21]\n[22 23 24 25]]\nitem: [[26 27 28 29]\n[30 31 32 33]]"
                    },
                    "execution_count": null
                }
            ]
        }
    ]
}