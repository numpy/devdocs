{
    "nbformat": 4,
    "nbformat_minor": 5,
    "metadata": {
        "kernelspec": {
            "display_name": "Python",
            "language": "python",
            "name": "python"
        },
        "language_info": {
            "name": "python"
        }
    },
    "cells": [
        {
            "id": "bbd313a3",
            "cell_type": "markdown",
            "source": "<div class='alert alert-warning'>\n\nNumPy's interactive examples are experimental and may not always work as expected, with high load times especially on low-resource platforms, and the version of NumPy might not be in sync with the one you are browsing the documentation for. If you encounter any issues, please report them on the [NumPy issue tracker](https://github.com/numpy/numpy/issues).\n\n</div>",
            "metadata": {}
        },
        {
            "id": "ccb78336",
            "cell_type": "markdown",
            "source": "Draw values from the distribution and plot the histogram\n",
            "metadata": {}
        },
        {
            "id": "ce822c2e",
            "cell_type": "code",
            "metadata": {},
            "execution_count": null,
            "source": "from matplotlib.pyplot import hist\nvalues = hist(np.random.rayleigh(3, 100000), bins=200, density=True)",
            "outputs": []
        },
        {
            "id": "d1865d2c",
            "cell_type": "markdown",
            "source": "Wave heights tend to follow a Rayleigh distribution. If the mean wave\nheight is 1 meter, what fraction of waves are likely to be larger than 3\nmeters?\n",
            "metadata": {}
        },
        {
            "id": "9312e103",
            "cell_type": "code",
            "metadata": {},
            "execution_count": null,
            "source": "meanvalue = 1\nmodevalue = np.sqrt(2 / np.pi) * meanvalue\ns = np.random.rayleigh(modevalue, 1000000)",
            "outputs": []
        },
        {
            "id": "3e843bba",
            "cell_type": "markdown",
            "source": "The percentage of waves larger than 3 meters is:\n",
            "metadata": {}
        },
        {
            "id": "19af4f32",
            "cell_type": "code",
            "metadata": {},
            "execution_count": null,
            "source": "100.*sum(s>3)/1000000.",
            "outputs": [
                {
                    "output_type": "execute_result",
                    "metadata": {},
                    "data": {
                        "text/plain": "0.087300000000000003 # random"
                    },
                    "execution_count": null
                }
            ]
        }
    ]
}