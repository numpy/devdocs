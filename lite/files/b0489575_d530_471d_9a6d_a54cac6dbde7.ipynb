{
    "nbformat": 4,
    "nbformat_minor": 5,
    "metadata": {
        "kernelspec": {
            "display_name": "Python",
            "language": "python",
            "name": "python"
        },
        "language_info": {
            "name": "python"
        }
    },
    "cells": [
        {
            "id": "2c593bbf",
            "cell_type": "markdown",
            "source": "<div class='alert alert-warning'>\n\nNumPy's interactive examples are experimental and may not always work as expected, with high load times especially on low-resource platforms, and the version of NumPy might not be in sync with the one you are browsing the documentation for. If you encounter any issues, please report them on the [NumPy issue tracker](https://github.com/numpy/numpy/issues).\n\n</div>",
            "metadata": {}
        },
        {
            "id": "f9762617",
            "cell_type": "code",
            "metadata": {},
            "execution_count": null,
            "source": "import numpy as np\nnp.sinh(0)",
            "outputs": [
                {
                    "output_type": "execute_result",
                    "metadata": {},
                    "data": {
                        "text/plain": "0.0"
                    },
                    "execution_count": null
                }
            ]
        },
        {
            "id": "2c36fb05",
            "cell_type": "code",
            "metadata": {},
            "execution_count": null,
            "source": "np.sinh(np.pi*1j/2)",
            "outputs": [
                {
                    "output_type": "execute_result",
                    "metadata": {},
                    "data": {
                        "text/plain": "1j"
                    },
                    "execution_count": null
                }
            ]
        },
        {
            "id": "206f3efb",
            "cell_type": "code",
            "metadata": {},
            "execution_count": null,
            "source": "np.sinh(np.pi*1j) # (exact value is 0)",
            "outputs": [
                {
                    "output_type": "execute_result",
                    "metadata": {},
                    "data": {
                        "text/plain": "1.2246063538223773e-016j"
                    },
                    "execution_count": null
                }
            ]
        },
        {
            "id": "0518b603",
            "cell_type": "code",
            "metadata": {},
            "execution_count": null,
            "source": "# Discrepancy due to vagaries of floating point arithmetic.",
            "outputs": []
        },
        {
            "id": "0de674e8",
            "cell_type": "code",
            "metadata": {},
            "execution_count": null,
            "source": "# Example of providing the optional output parameter\nout1 = np.array([0], dtype='d')\nout2 = np.sinh([0.1], out1)\nout2 is out1",
            "outputs": [
                {
                    "output_type": "execute_result",
                    "metadata": {},
                    "data": {
                        "text/plain": "True"
                    },
                    "execution_count": null
                }
            ]
        },
        {
            "id": "15cb542a",
            "cell_type": "code",
            "metadata": {},
            "execution_count": null,
            "source": "# Example of ValueError due to provision of shape mis-matched `out`\nnp.sinh(np.zeros((3,3)),np.zeros((2,2)))",
            "outputs": [
                {
                    "output_type": "execute_result",
                    "metadata": {},
                    "data": {
                        "text/plain": "Traceback (most recent call last):\n  File \"<stdin>\", line 1, in <module>\nValueError: operands could not be broadcast together with shapes (3,3) (2,2)"
                    },
                    "execution_count": null
                }
            ]
        }
    ]
}