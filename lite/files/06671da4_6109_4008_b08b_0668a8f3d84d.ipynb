{
    "nbformat": 4,
    "nbformat_minor": 5,
    "metadata": {
        "kernelspec": {
            "display_name": "Python",
            "language": "python",
            "name": "python"
        },
        "language_info": {
            "name": "python"
        }
    },
    "cells": [
        {
            "id": "191fa9cb",
            "cell_type": "markdown",
            "source": "<div class='alert alert-warning'>\n\nNumPy's interactive examples are experimental and may not always work as expected, with high load times especially on low-resource platforms, and the version of NumPy might not be in sync with the one you are browsing the documentation for. If you encounter any issues, please report them on the [NumPy issue tracker](https://github.com/numpy/numpy/issues).\n\n</div>",
            "metadata": {}
        },
        {
            "id": "685cbeec",
            "cell_type": "markdown",
            "source": "The derivative of the polynomial $x^3 + x^2 + x^1 + 1$ is:\n",
            "metadata": {}
        },
        {
            "id": "5b2527a8",
            "cell_type": "code",
            "metadata": {},
            "execution_count": null,
            "source": "import numpy as np",
            "outputs": []
        },
        {
            "id": "3dd36832",
            "cell_type": "code",
            "metadata": {},
            "execution_count": null,
            "source": "p = np.poly1d([1,1,1,1])\np2 = np.polyder(p)\np2",
            "outputs": [
                {
                    "output_type": "execute_result",
                    "metadata": {},
                    "data": {
                        "text/plain": "poly1d([3, 2, 1])"
                    },
                    "execution_count": null
                }
            ]
        },
        {
            "id": "9d09a261",
            "cell_type": "markdown",
            "source": "which evaluates to:\n",
            "metadata": {}
        },
        {
            "id": "6fd1440b",
            "cell_type": "code",
            "metadata": {},
            "execution_count": null,
            "source": "p2(2.)",
            "outputs": [
                {
                    "output_type": "execute_result",
                    "metadata": {},
                    "data": {
                        "text/plain": "17.0"
                    },
                    "execution_count": null
                }
            ]
        },
        {
            "id": "5f8f1548",
            "cell_type": "markdown",
            "source": "We can verify this, approximating the derivative with\n``(f(x + h) - f(x))/h``:\n",
            "metadata": {}
        },
        {
            "id": "5ee364d8",
            "cell_type": "code",
            "metadata": {},
            "execution_count": null,
            "source": "(p(2. + 0.001) - p(2.)) / 0.001",
            "outputs": [
                {
                    "output_type": "execute_result",
                    "metadata": {},
                    "data": {
                        "text/plain": "17.007000999997857"
                    },
                    "execution_count": null
                }
            ]
        },
        {
            "id": "5ac17d34",
            "cell_type": "markdown",
            "source": "The fourth-order derivative of a 3rd-order polynomial is zero:\n",
            "metadata": {}
        },
        {
            "id": "007fe63e",
            "cell_type": "code",
            "metadata": {},
            "execution_count": null,
            "source": "np.polyder(p, 2)",
            "outputs": [
                {
                    "output_type": "execute_result",
                    "metadata": {},
                    "data": {
                        "text/plain": "poly1d([6, 2])"
                    },
                    "execution_count": null
                }
            ]
        },
        {
            "id": "6b3a51ad",
            "cell_type": "code",
            "metadata": {},
            "execution_count": null,
            "source": "np.polyder(p, 3)",
            "outputs": [
                {
                    "output_type": "execute_result",
                    "metadata": {},
                    "data": {
                        "text/plain": "poly1d([6])"
                    },
                    "execution_count": null
                }
            ]
        },
        {
            "id": "1f13df24",
            "cell_type": "code",
            "metadata": {},
            "execution_count": null,
            "source": "np.polyder(p, 4)",
            "outputs": [
                {
                    "output_type": "execute_result",
                    "metadata": {},
                    "data": {
                        "text/plain": "poly1d([0])"
                    },
                    "execution_count": null
                }
            ]
        }
    ]
}