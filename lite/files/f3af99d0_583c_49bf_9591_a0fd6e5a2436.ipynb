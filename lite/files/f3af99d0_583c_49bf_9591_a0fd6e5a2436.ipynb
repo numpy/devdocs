{
    "nbformat": 4,
    "nbformat_minor": 5,
    "metadata": {
        "kernelspec": {
            "display_name": "Python",
            "language": "python",
            "name": "python"
        },
        "language_info": {
            "name": "python"
        }
    },
    "cells": [
        {
            "id": "34664f35",
            "cell_type": "markdown",
            "source": "<div class='alert alert-warning'>\n\nNumPy's interactive examples are experimental and may not always work as expected, with high load times especially on low-resource platforms, and the version of NumPy might not be in sync with the one you are browsing the documentation for. If you encounter any issues, please report them on the [NumPy issue tracker](https://github.com/numpy/numpy/issues).\n\n</div>",
            "metadata": {}
        },
        {
            "id": "8f2f8e44",
            "cell_type": "code",
            "metadata": {},
            "execution_count": null,
            "source": "rng = np.random.default_rng()\nrng.random()",
            "outputs": [
                {
                    "output_type": "execute_result",
                    "metadata": {},
                    "data": {
                        "text/plain": "0.47108547995356098 # random"
                    },
                    "execution_count": null
                }
            ]
        },
        {
            "id": "a2eca55d",
            "cell_type": "code",
            "metadata": {},
            "execution_count": null,
            "source": "type(rng.random())",
            "outputs": [
                {
                    "output_type": "execute_result",
                    "metadata": {},
                    "data": {
                        "text/plain": "<class 'float'>"
                    },
                    "execution_count": null
                }
            ]
        },
        {
            "id": "1096b60d",
            "cell_type": "code",
            "metadata": {},
            "execution_count": null,
            "source": "rng.random((5,))",
            "outputs": [
                {
                    "output_type": "execute_result",
                    "metadata": {},
                    "data": {
                        "text/plain": "array([ 0.30220482,  0.86820401,  0.1654503 ,  0.11659149,  0.54323428]) # random"
                    },
                    "execution_count": null
                }
            ]
        },
        {
            "id": "bb5a3a8e",
            "cell_type": "markdown",
            "source": "Three-by-two array of random numbers from [-5, 0):\n",
            "metadata": {}
        },
        {
            "id": "8d4a93a5",
            "cell_type": "code",
            "metadata": {},
            "execution_count": null,
            "source": "5 * rng.random((3, 2)) - 5",
            "outputs": [
                {
                    "output_type": "execute_result",
                    "metadata": {},
                    "data": {
                        "text/plain": "array([[-3.99149989, -0.52338984], # random\n       [-2.99091858, -0.79479508],\n       [-1.23204345, -1.75224494]])"
                    },
                    "execution_count": null
                }
            ]
        }
    ]
}