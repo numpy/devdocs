{
    "nbformat": 4,
    "nbformat_minor": 5,
    "metadata": {
        "kernelspec": {
            "display_name": "Python",
            "language": "python",
            "name": "python"
        },
        "language_info": {
            "name": "python"
        }
    },
    "cells": [
        {
            "id": "3c3f0af3",
            "cell_type": "markdown",
            "source": "<div class='alert alert-warning'>\n\nNumPy's interactive examples are experimental and may not always work as expected, with high load times especially on low-resource platforms, and the version of NumPy might not be in sync with the one you are browsing the documentation for. If you encounter any issues, please report them on the [NumPy issue tracker](https://github.com/numpy/numpy/issues).\n\n</div>",
            "metadata": {}
        },
        {
            "id": "e1f62dcc",
            "cell_type": "code",
            "metadata": {},
            "execution_count": null,
            "source": "np.random.random_sample()",
            "outputs": [
                {
                    "output_type": "execute_result",
                    "metadata": {},
                    "data": {
                        "text/plain": "0.47108547995356098 # random"
                    },
                    "execution_count": null
                }
            ]
        },
        {
            "id": "c7e38237",
            "cell_type": "code",
            "metadata": {},
            "execution_count": null,
            "source": "type(np.random.random_sample())",
            "outputs": [
                {
                    "output_type": "execute_result",
                    "metadata": {},
                    "data": {
                        "text/plain": "<class 'float'>"
                    },
                    "execution_count": null
                }
            ]
        },
        {
            "id": "6707bb59",
            "cell_type": "code",
            "metadata": {},
            "execution_count": null,
            "source": "np.random.random_sample((5,))",
            "outputs": [
                {
                    "output_type": "execute_result",
                    "metadata": {},
                    "data": {
                        "text/plain": "array([ 0.30220482,  0.86820401,  0.1654503 ,  0.11659149,  0.54323428]) # random"
                    },
                    "execution_count": null
                }
            ]
        },
        {
            "id": "c2f1fe33",
            "cell_type": "markdown",
            "source": "Three-by-two array of random numbers from [-5, 0):\n",
            "metadata": {}
        },
        {
            "id": "32a71acb",
            "cell_type": "code",
            "metadata": {},
            "execution_count": null,
            "source": "5 * np.random.random_sample((3, 2)) - 5",
            "outputs": [
                {
                    "output_type": "execute_result",
                    "metadata": {},
                    "data": {
                        "text/plain": "array([[-3.99149989, -0.52338984], # random\n       [-2.99091858, -0.79479508],\n       [-1.23204345, -1.75224494]])"
                    },
                    "execution_count": null
                }
            ]
        }
    ]
}