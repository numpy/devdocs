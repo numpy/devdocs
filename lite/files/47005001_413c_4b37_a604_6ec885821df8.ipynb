{
    "nbformat": 4,
    "nbformat_minor": 5,
    "metadata": {
        "kernelspec": {
            "display_name": "Python",
            "language": "python",
            "name": "python"
        },
        "language_info": {
            "name": "python"
        }
    },
    "cells": [
        {
            "id": "bba70cf7",
            "cell_type": "markdown",
            "source": "<div class='alert alert-warning'>\n\nNumPy's interactive examples are experimental and may not always work as expected, with high load times especially on low-resource platforms, and the version of NumPy might not be in sync with the one you are browsing the documentation for. If you encounter any issues, please report them on the [NumPy issue tracker](https://github.com/numpy/numpy/issues).\n\n</div>",
            "metadata": {}
        },
        {
            "id": "c019f2b7",
            "cell_type": "code",
            "metadata": {},
            "execution_count": null,
            "source": "self.cc_normalize_flags(['-march=armv8.2-a+fp16', '-march=armv8.2-a+dotprod'])",
            "outputs": [
                {
                    "output_type": "execute_result",
                    "metadata": {},
                    "data": {
                        "text/plain": "['armv8.2-a+fp16+dotprod']"
                    },
                    "execution_count": null
                }
            ]
        },
        {
            "id": "ddde9ac4",
            "cell_type": "code",
            "metadata": {},
            "execution_count": null,
            "source": "self.cc_normalize_flags(",
            "outputs": [
                {
                    "output_type": "execute_result",
                    "metadata": {},
                    "data": {
                        "text/plain": "    ['-msse', '-msse2', '-msse3', '-mssse3', '-msse4.1', '-msse4.2', '-mavx', '-march=core-avx2']\n)\n['-march=core-avx2']"
                    },
                    "execution_count": null
                }
            ]
        }
    ]
}