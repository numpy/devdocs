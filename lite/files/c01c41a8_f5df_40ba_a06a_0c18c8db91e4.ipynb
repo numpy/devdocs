{
    "nbformat": 4,
    "nbformat_minor": 5,
    "metadata": {
        "kernelspec": {
            "display_name": "Python",
            "language": "python",
            "name": "python"
        },
        "language_info": {
            "name": "python"
        }
    },
    "cells": [
        {
            "id": "3e765b9e",
            "cell_type": "markdown",
            "source": "<div class='alert alert-warning'>\n\nNumPy's interactive examples are experimental and may not always work as expected, with high load times especially on low-resource platforms, and the version of NumPy might not be in sync with the one you are browsing the documentation for. If you encounter any issues, please report them on the [NumPy issue tracker](https://github.com/numpy/numpy/issues).\n\n</div>",
            "metadata": {}
        },
        {
            "id": "a2299acd",
            "cell_type": "code",
            "metadata": {},
            "execution_count": null,
            "source": "import numpy as np\n# First business day in October 2011 (not accounting for holidays)\nnp.busday_offset('2011-10', 0, roll='forward')",
            "outputs": [
                {
                    "output_type": "execute_result",
                    "metadata": {},
                    "data": {
                        "text/plain": "np.datetime64('2011-10-03')"
                    },
                    "execution_count": null
                }
            ]
        },
        {
            "id": "f57512e5",
            "cell_type": "code",
            "metadata": {},
            "execution_count": null,
            "source": "# Last business day in February 2012 (not accounting for holidays)\nnp.busday_offset('2012-03', -1, roll='forward')",
            "outputs": [
                {
                    "output_type": "execute_result",
                    "metadata": {},
                    "data": {
                        "text/plain": "np.datetime64('2012-02-29')"
                    },
                    "execution_count": null
                }
            ]
        },
        {
            "id": "f56818fc",
            "cell_type": "code",
            "metadata": {},
            "execution_count": null,
            "source": "# Third Wednesday in January 2011\nnp.busday_offset('2011-01', 2, roll='forward', weekmask='Wed')",
            "outputs": [
                {
                    "output_type": "execute_result",
                    "metadata": {},
                    "data": {
                        "text/plain": "np.datetime64('2011-01-19')"
                    },
                    "execution_count": null
                }
            ]
        },
        {
            "id": "ee49440b",
            "cell_type": "code",
            "metadata": {},
            "execution_count": null,
            "source": "# 2012 Mother's Day in Canada and the U.S.\nnp.busday_offset('2012-05', 1, roll='forward', weekmask='Sun')",
            "outputs": [
                {
                    "output_type": "execute_result",
                    "metadata": {},
                    "data": {
                        "text/plain": "np.datetime64('2012-05-13')"
                    },
                    "execution_count": null
                }
            ]
        },
        {
            "id": "835a3d18",
            "cell_type": "code",
            "metadata": {},
            "execution_count": null,
            "source": "# First business day on or after a date\nnp.busday_offset('2011-03-20', 0, roll='forward')",
            "outputs": [
                {
                    "output_type": "execute_result",
                    "metadata": {},
                    "data": {
                        "text/plain": "np.datetime64('2011-03-21')"
                    },
                    "execution_count": null
                }
            ]
        },
        {
            "id": "54c8f22f",
            "cell_type": "code",
            "metadata": {},
            "execution_count": null,
            "source": "np.busday_offset('2011-03-22', 0, roll='forward')",
            "outputs": [
                {
                    "output_type": "execute_result",
                    "metadata": {},
                    "data": {
                        "text/plain": "np.datetime64('2011-03-22')"
                    },
                    "execution_count": null
                }
            ]
        },
        {
            "id": "1e3c09e2",
            "cell_type": "code",
            "metadata": {},
            "execution_count": null,
            "source": "# First business day after a date\nnp.busday_offset('2011-03-20', 1, roll='backward')",
            "outputs": [
                {
                    "output_type": "execute_result",
                    "metadata": {},
                    "data": {
                        "text/plain": "np.datetime64('2011-03-21')"
                    },
                    "execution_count": null
                }
            ]
        },
        {
            "id": "8208b119",
            "cell_type": "code",
            "metadata": {},
            "execution_count": null,
            "source": "np.busday_offset('2011-03-22', 1, roll='backward')",
            "outputs": [
                {
                    "output_type": "execute_result",
                    "metadata": {},
                    "data": {
                        "text/plain": "np.datetime64('2011-03-23')"
                    },
                    "execution_count": null
                }
            ]
        }
    ]
}