{
    "nbformat": 4,
    "nbformat_minor": 5,
    "metadata": {
        "kernelspec": {
            "display_name": "Python",
            "language": "python",
            "name": "python"
        },
        "language_info": {
            "name": "python"
        }
    },
    "cells": [
        {
            "id": "27b5656c",
            "cell_type": "markdown",
            "source": "<div class='alert alert-warning'>\n\nNumPy's interactive examples are experimental and may not always work as expected, with high load times especially on low-resource platforms, and the version of NumPy might not be in sync with the one you are browsing the documentation for. If you encounter any issues, please report them on the [NumPy issue tracker](https://github.com/numpy/numpy/issues).\n\n</div>",
            "metadata": {}
        },
        {
            "id": "19f6865c",
            "cell_type": "code",
            "metadata": {},
            "execution_count": null,
            "source": "import numpy as np\nnx, ny = (3, 2)\nx = np.linspace(0, 1, nx)\ny = np.linspace(0, 1, ny)\nxv, yv = np.meshgrid(x, y)\nxv",
            "outputs": [
                {
                    "output_type": "execute_result",
                    "metadata": {},
                    "data": {
                        "text/plain": "array([[0. , 0.5, 1. ],\n       [0. , 0.5, 1. ]])"
                    },
                    "execution_count": null
                }
            ]
        },
        {
            "id": "b5c4cd04",
            "cell_type": "code",
            "metadata": {},
            "execution_count": null,
            "source": "yv",
            "outputs": [
                {
                    "output_type": "execute_result",
                    "metadata": {},
                    "data": {
                        "text/plain": "array([[0.,  0.,  0.],\n       [1.,  1.,  1.]])"
                    },
                    "execution_count": null
                }
            ]
        },
        {
            "id": "aea35548",
            "cell_type": "markdown",
            "source": "The result of `meshgrid` is a coordinate grid:\n",
            "metadata": {}
        },
        {
            "id": "8ff6ee57",
            "cell_type": "code",
            "metadata": {},
            "execution_count": null,
            "source": "import matplotlib.pyplot as plt\nplt.plot(xv, yv, marker='o', color='k', linestyle='none')\nplt.show()",
            "outputs": []
        },
        {
            "id": "5975b93c",
            "cell_type": "markdown",
            "source": "You can create sparse output arrays to save memory and computation time.\n",
            "metadata": {}
        },
        {
            "id": "22a391a9",
            "cell_type": "code",
            "metadata": {},
            "execution_count": null,
            "source": "xv, yv = np.meshgrid(x, y, sparse=True)\nxv",
            "outputs": [
                {
                    "output_type": "execute_result",
                    "metadata": {},
                    "data": {
                        "text/plain": "array([[0. ,  0.5,  1. ]])"
                    },
                    "execution_count": null
                }
            ]
        },
        {
            "id": "9cbc7da1",
            "cell_type": "code",
            "metadata": {},
            "execution_count": null,
            "source": "yv",
            "outputs": [
                {
                    "output_type": "execute_result",
                    "metadata": {},
                    "data": {
                        "text/plain": "array([[0.],\n       [1.]])"
                    },
                    "execution_count": null
                }
            ]
        },
        {
            "id": "e933935c",
            "cell_type": "markdown",
            "source": "`meshgrid` is very useful to evaluate functions on a grid. If the\nfunction depends on all coordinates, both dense and sparse outputs can be\nused.\n",
            "metadata": {}
        },
        {
            "id": "4ee1be85",
            "cell_type": "code",
            "metadata": {},
            "execution_count": null,
            "source": "x = np.linspace(-5, 5, 101)\ny = np.linspace(-5, 5, 101)\n# full coordinate arrays\nxx, yy = np.meshgrid(x, y)\nzz = np.sqrt(xx**2 + yy**2)\nxx.shape, yy.shape, zz.shape",
            "outputs": [
                {
                    "output_type": "execute_result",
                    "metadata": {},
                    "data": {
                        "text/plain": "((101, 101), (101, 101), (101, 101))"
                    },
                    "execution_count": null
                }
            ]
        },
        {
            "id": "bcbf70dd",
            "cell_type": "code",
            "metadata": {},
            "execution_count": null,
            "source": "# sparse coordinate arrays\nxs, ys = np.meshgrid(x, y, sparse=True)\nzs = np.sqrt(xs**2 + ys**2)\nxs.shape, ys.shape, zs.shape",
            "outputs": [
                {
                    "output_type": "execute_result",
                    "metadata": {},
                    "data": {
                        "text/plain": "((1, 101), (101, 1), (101, 101))"
                    },
                    "execution_count": null
                }
            ]
        },
        {
            "id": "50cbeb2a",
            "cell_type": "code",
            "metadata": {},
            "execution_count": null,
            "source": "np.array_equal(zz, zs)",
            "outputs": [
                {
                    "output_type": "execute_result",
                    "metadata": {},
                    "data": {
                        "text/plain": "True"
                    },
                    "execution_count": null
                }
            ]
        },
        {
            "id": "61184941",
            "cell_type": "code",
            "metadata": {},
            "execution_count": null,
            "source": "h = plt.contourf(x, y, zs)\nplt.axis('scaled')\nplt.colorbar()\nplt.show()",
            "outputs": []
        }
    ]
}