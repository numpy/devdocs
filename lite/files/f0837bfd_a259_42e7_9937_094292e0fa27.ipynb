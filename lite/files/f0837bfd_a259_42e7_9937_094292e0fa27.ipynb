{
    "nbformat": 4,
    "nbformat_minor": 5,
    "metadata": {
        "kernelspec": {
            "display_name": "Python",
            "language": "python",
            "name": "python"
        },
        "language_info": {
            "name": "python"
        }
    },
    "cells": [
        {
            "id": "50086ca9",
            "cell_type": "markdown",
            "source": "<div class='alert alert-warning'>\n\nNumPy's interactive examples are experimental and may not always work as expected, with high load times especially on low-resource platforms, and the version of NumPy might not be in sync with the one you are browsing the documentation for. If you encounter any issues, please report them on the [NumPy issue tracker](https://github.com/numpy/numpy/issues).\n\n</div>",
            "metadata": {}
        },
        {
            "id": "879a9418",
            "cell_type": "code",
            "metadata": {},
            "execution_count": null,
            "source": "import numpy as np\nnp.ma.default_fill_value(1)",
            "outputs": [
                {
                    "output_type": "execute_result",
                    "metadata": {},
                    "data": {
                        "text/plain": "999999"
                    },
                    "execution_count": null
                }
            ]
        },
        {
            "id": "4512991b",
            "cell_type": "code",
            "metadata": {},
            "execution_count": null,
            "source": "np.ma.default_fill_value(np.array([1.1, 2., np.pi]))",
            "outputs": [
                {
                    "output_type": "execute_result",
                    "metadata": {},
                    "data": {
                        "text/plain": "1e+20"
                    },
                    "execution_count": null
                }
            ]
        },
        {
            "id": "767a9f30",
            "cell_type": "code",
            "metadata": {},
            "execution_count": null,
            "source": "np.ma.default_fill_value(np.dtype(complex))",
            "outputs": [
                {
                    "output_type": "execute_result",
                    "metadata": {},
                    "data": {
                        "text/plain": "(1e+20+0j)"
                    },
                    "execution_count": null
                }
            ]
        }
    ]
}