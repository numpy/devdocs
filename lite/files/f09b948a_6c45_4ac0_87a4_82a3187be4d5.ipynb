{
    "nbformat": 4,
    "nbformat_minor": 5,
    "metadata": {
        "kernelspec": {
            "display_name": "Python",
            "language": "python",
            "name": "python"
        },
        "language_info": {
            "name": "python"
        }
    },
    "cells": [
        {
            "id": "3b488f43",
            "cell_type": "markdown",
            "source": "<div class='alert alert-warning'>\n\nNumPy's interactive examples are experimental and may not always work as expected, with high load times especially on low-resource platforms, and the version of NumPy might not be in sync with the one you are browsing the documentation for. If you encounter any issues, please report them on the [NumPy issue tracker](https://github.com/numpy/numpy/issues).\n\n</div>",
            "metadata": {}
        },
        {
            "id": "5195b62e",
            "cell_type": "code",
            "metadata": {},
            "execution_count": null,
            "source": "a = np.arange(3 * 4 * 5 * 6).reshape(3, 4, 5, 6)\na_itor = np.lib.Arrayterator(a, 2)",
            "outputs": []
        },
        {
            "id": "75ee6cba",
            "cell_type": "code",
            "metadata": {},
            "execution_count": null,
            "source": "for subarr in a_itor.flat:\n    if not subarr:\n        print(subarr, type(subarr))\n",
            "outputs": [
                {
                    "output_type": "execute_result",
                    "metadata": {},
                    "data": {
                        "text/plain": "0 <class 'numpy.int64'>"
                    },
                    "execution_count": null
                }
            ]
        }
    ]
}