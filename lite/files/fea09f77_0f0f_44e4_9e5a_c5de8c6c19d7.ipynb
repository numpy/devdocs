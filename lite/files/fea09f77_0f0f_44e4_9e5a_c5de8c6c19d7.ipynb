{
    "nbformat": 4,
    "nbformat_minor": 5,
    "metadata": {
        "kernelspec": {
            "display_name": "Python",
            "language": "python",
            "name": "python"
        },
        "language_info": {
            "name": "python"
        }
    },
    "cells": [
        {
            "id": "ec2d3f28",
            "cell_type": "markdown",
            "source": "<div class='alert alert-warning'>\n\nNumPy's interactive examples are experimental and may not always work as expected, with high load times especially on low-resource platforms, and the version of NumPy might not be in sync with the one you are browsing the documentation for. If you encounter any issues, please report them on the [NumPy issue tracker](https://github.com/numpy/numpy/issues).\n\n</div>",
            "metadata": {}
        },
        {
            "id": "b712a5c4",
            "cell_type": "code",
            "metadata": {},
            "execution_count": null,
            "source": "import numpy as np",
            "outputs": []
        },
        {
            "id": "44e65cd9",
            "cell_type": "code",
            "metadata": {},
            "execution_count": null,
            "source": "np.is_busday(np.datetime64('2011-07-15'))  # a Friday",
            "outputs": [
                {
                    "output_type": "execute_result",
                    "metadata": {},
                    "data": {
                        "text/plain": "True"
                    },
                    "execution_count": null
                }
            ]
        },
        {
            "id": "8f27ec59",
            "cell_type": "code",
            "metadata": {},
            "execution_count": null,
            "source": "np.is_busday(np.datetime64('2011-07-16')) # a Saturday",
            "outputs": [
                {
                    "output_type": "execute_result",
                    "metadata": {},
                    "data": {
                        "text/plain": "False"
                    },
                    "execution_count": null
                }
            ]
        },
        {
            "id": "dac8fbef",
            "cell_type": "code",
            "metadata": {},
            "execution_count": null,
            "source": "np.is_busday(np.datetime64('2011-07-16'), weekmask=\"Sat Sun\")",
            "outputs": [
                {
                    "output_type": "execute_result",
                    "metadata": {},
                    "data": {
                        "text/plain": "True"
                    },
                    "execution_count": null
                }
            ]
        },
        {
            "id": "0e4318b8",
            "cell_type": "code",
            "metadata": {},
            "execution_count": null,
            "source": "a = np.arange(np.datetime64('2011-07-11'), np.datetime64('2011-07-18'))\nnp.is_busday(a)",
            "outputs": [
                {
                    "output_type": "execute_result",
                    "metadata": {},
                    "data": {
                        "text/plain": "array([ True,  True,  True,  True,  True, False, False])"
                    },
                    "execution_count": null
                }
            ]
        }
    ]
}