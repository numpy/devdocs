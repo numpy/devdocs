{
    "nbformat": 4,
    "nbformat_minor": 5,
    "metadata": {
        "kernelspec": {
            "display_name": "Python",
            "language": "python",
            "name": "python"
        },
        "language_info": {
            "name": "python"
        }
    },
    "cells": [
        {
            "id": "bf4570df",
            "cell_type": "markdown",
            "source": "<div class='alert alert-warning'>\n\nNumPy's interactive examples are experimental and may not always work as expected, with high load times especially on low-resource platforms, and the version of NumPy might not be in sync with the one you are browsing the documentation for. If you encounter any issues, please report them on the [NumPy issue tracker](https://github.com/numpy/numpy/issues).\n\n</div>",
            "metadata": {}
        },
        {
            "id": "465f3efa",
            "cell_type": "code",
            "metadata": {},
            "execution_count": null,
            "source": "import numpy as np\nnp.logical_xor(True, False)",
            "outputs": [
                {
                    "output_type": "execute_result",
                    "metadata": {},
                    "data": {
                        "text/plain": "True"
                    },
                    "execution_count": null
                }
            ]
        },
        {
            "id": "9b8f87c9",
            "cell_type": "code",
            "metadata": {},
            "execution_count": null,
            "source": "np.logical_xor([True, True, False, False], [True, False, True, False])",
            "outputs": [
                {
                    "output_type": "execute_result",
                    "metadata": {},
                    "data": {
                        "text/plain": "array([False,  True,  True, False])"
                    },
                    "execution_count": null
                }
            ]
        },
        {
            "id": "e8c8cbeb",
            "cell_type": "code",
            "metadata": {},
            "execution_count": null,
            "source": "x = np.arange(5)\nnp.logical_xor(x < 1, x > 3)",
            "outputs": [
                {
                    "output_type": "execute_result",
                    "metadata": {},
                    "data": {
                        "text/plain": "array([ True, False, False, False,  True])"
                    },
                    "execution_count": null
                }
            ]
        },
        {
            "id": "3e947e84",
            "cell_type": "markdown",
            "source": "Simple example showing support of broadcasting\n",
            "metadata": {}
        },
        {
            "id": "8004e1c1",
            "cell_type": "code",
            "metadata": {},
            "execution_count": null,
            "source": "np.logical_xor(0, np.eye(2))",
            "outputs": [
                {
                    "output_type": "execute_result",
                    "metadata": {},
                    "data": {
                        "text/plain": "array([[ True, False],\n       [False,  True]])"
                    },
                    "execution_count": null
                }
            ]
        }
    ]
}