{
    "nbformat": 4,
    "nbformat_minor": 5,
    "metadata": {
        "kernelspec": {
            "display_name": "Python",
            "language": "python",
            "name": "python"
        },
        "language_info": {
            "name": "python"
        }
    },
    "cells": [
        {
            "id": "8926aaa9",
            "cell_type": "markdown",
            "source": "<div class='alert alert-warning'>\n\nNumPy's interactive examples are experimental and may not always work as expected, with high load times especially on low-resource platforms, and the version of NumPy might not be in sync with the one you are browsing the documentation for. If you encounter any issues, please report them on the [NumPy issue tracker](https://github.com/numpy/numpy/issues).\n\n</div>",
            "metadata": {}
        },
        {
            "id": "4629d7e0",
            "cell_type": "code",
            "metadata": {},
            "execution_count": null,
            "source": "import numpy as np\na = np.array([1, 2])\na.fill(0)\na",
            "outputs": [
                {
                    "output_type": "execute_result",
                    "metadata": {},
                    "data": {
                        "text/plain": "array([0, 0])"
                    },
                    "execution_count": null
                }
            ]
        },
        {
            "id": "8b9f483a",
            "cell_type": "code",
            "metadata": {},
            "execution_count": null,
            "source": "a = np.empty(2)\na.fill(1)\na",
            "outputs": [
                {
                    "output_type": "execute_result",
                    "metadata": {},
                    "data": {
                        "text/plain": "array([1.,  1.])"
                    },
                    "execution_count": null
                }
            ]
        },
        {
            "id": "d05ab31f",
            "cell_type": "markdown",
            "source": "Fill expects a scalar value and always behaves the same as assigning\nto a single array element.  The following is a rare example where this\ndistinction is important:\n",
            "metadata": {}
        },
        {
            "id": "b805f540",
            "cell_type": "code",
            "metadata": {},
            "execution_count": null,
            "source": "a = np.array([None, None], dtype=object)\na[0] = np.array(3)\na",
            "outputs": [
                {
                    "output_type": "execute_result",
                    "metadata": {},
                    "data": {
                        "text/plain": "array([array(3), None], dtype=object)"
                    },
                    "execution_count": null
                }
            ]
        },
        {
            "id": "e578d222",
            "cell_type": "code",
            "metadata": {},
            "execution_count": null,
            "source": "a.fill(np.array(3))\na",
            "outputs": [
                {
                    "output_type": "execute_result",
                    "metadata": {},
                    "data": {
                        "text/plain": "array([array(3), array(3)], dtype=object)"
                    },
                    "execution_count": null
                }
            ]
        },
        {
            "id": "6bd91828",
            "cell_type": "markdown",
            "source": "Where other forms of assignments will unpack the array being assigned:\n",
            "metadata": {}
        },
        {
            "id": "57cf14ba",
            "cell_type": "code",
            "metadata": {},
            "execution_count": null,
            "source": "a[...] = np.array(3)\na",
            "outputs": [
                {
                    "output_type": "execute_result",
                    "metadata": {},
                    "data": {
                        "text/plain": "array([3, 3], dtype=object)"
                    },
                    "execution_count": null
                }
            ]
        }
    ]
}