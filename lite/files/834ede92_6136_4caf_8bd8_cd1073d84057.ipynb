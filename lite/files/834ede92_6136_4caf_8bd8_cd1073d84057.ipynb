{
    "nbformat": 4,
    "nbformat_minor": 5,
    "metadata": {
        "kernelspec": {
            "display_name": "Python",
            "language": "python",
            "name": "python"
        },
        "language_info": {
            "name": "python"
        }
    },
    "cells": [
        {
            "id": "a1cfde53",
            "cell_type": "markdown",
            "source": "<div class='alert alert-warning'>\n\nNumPy's interactive examples are experimental and may not always work as expected, with high load times especially on low-resource platforms, and the version of NumPy might not be in sync with the one you are browsing the documentation for. If you encounter any issues, please report them on the [NumPy issue tracker](https://github.com/numpy/numpy/issues).\n\n</div>",
            "metadata": {}
        },
        {
            "id": "344a77f8",
            "cell_type": "code",
            "metadata": {},
            "execution_count": null,
            "source": "import numpy as np\nimport numpy.ma as ma\nx = np.array([1, 1.1, 2, 1.1, 3])\nma.masked_values(x, 1.1)",
            "outputs": [
                {
                    "output_type": "execute_result",
                    "metadata": {},
                    "data": {
                        "text/plain": "masked_array(data=[1.0, --, 2.0, --, 3.0],\n             mask=[False,  True, False,  True, False],\n       fill_value=1.1)"
                    },
                    "execution_count": null
                }
            ]
        },
        {
            "id": "dabc0b9e",
            "cell_type": "markdown",
            "source": "Note that `mask` is set to ``nomask`` if possible.\n",
            "metadata": {}
        },
        {
            "id": "0820e42a",
            "cell_type": "code",
            "metadata": {},
            "execution_count": null,
            "source": "ma.masked_values(x, 2.1)",
            "outputs": [
                {
                    "output_type": "execute_result",
                    "metadata": {},
                    "data": {
                        "text/plain": "masked_array(data=[1. , 1.1, 2. , 1.1, 3. ],\n             mask=False,\n       fill_value=2.1)"
                    },
                    "execution_count": null
                }
            ]
        },
        {
            "id": "8f69fdf5",
            "cell_type": "markdown",
            "source": "Unlike `masked_equal`, `masked_values` can perform approximate equalities.\n",
            "metadata": {}
        },
        {
            "id": "08f09851",
            "cell_type": "code",
            "metadata": {},
            "execution_count": null,
            "source": "ma.masked_values(x, 2.1, atol=1e-1)",
            "outputs": [
                {
                    "output_type": "execute_result",
                    "metadata": {},
                    "data": {
                        "text/plain": "masked_array(data=[1.0, 1.1, --, 1.1, 3.0],\n             mask=[False, False,  True, False, False],\n       fill_value=2.1)"
                    },
                    "execution_count": null
                }
            ]
        }
    ]
}