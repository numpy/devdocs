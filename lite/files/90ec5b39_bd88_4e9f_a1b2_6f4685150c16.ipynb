{
    "nbformat": 4,
    "nbformat_minor": 5,
    "metadata": {
        "kernelspec": {
            "display_name": "Python",
            "language": "python",
            "name": "python"
        },
        "language_info": {
            "name": "python"
        }
    },
    "cells": [
        {
            "id": "0a73ec33",
            "cell_type": "markdown",
            "source": "<div class='alert alert-warning'>\n\nNumPy's interactive examples are experimental and may not always work as expected, with high load times especially on low-resource platforms, and the version of NumPy might not be in sync with the one you are browsing the documentation for. If you encounter any issues, please report them on the [NumPy issue tracker](https://github.com/numpy/numpy/issues).\n\n</div>",
            "metadata": {}
        },
        {
            "id": "ed329c91",
            "cell_type": "code",
            "metadata": {},
            "execution_count": null,
            "source": "import numpy as np\nx = np.ma.array(np.arange(9).reshape(3, 3), mask=[0] + [1, 0] * 4)\nrec = x.toflex()\nrec",
            "outputs": [
                {
                    "output_type": "execute_result",
                    "metadata": {},
                    "data": {
                        "text/plain": "array([[(0, False), (1,  True), (2, False)],\n       [(3,  True), (4, False), (5,  True)],\n       [(6, False), (7,  True), (8, False)]],\n      dtype=[('_data', '<i8'), ('_mask', '?')])"
                    },
                    "execution_count": null
                }
            ]
        },
        {
            "id": "d9fcb8b8",
            "cell_type": "code",
            "metadata": {},
            "execution_count": null,
            "source": "x2 = np.ma.fromflex(rec)\nx2",
            "outputs": [
                {
                    "output_type": "execute_result",
                    "metadata": {},
                    "data": {
                        "text/plain": "masked_array(\n  data=[[0, --, 2],\n        [--, 4, --],\n        [6, --, 8]],\n  mask=[[False,  True, False],\n        [ True, False,  True],\n        [False,  True, False]],\n  fill_value=999999)"
                    },
                    "execution_count": null
                }
            ]
        },
        {
            "id": "762017e0",
            "cell_type": "markdown",
            "source": "Extra fields can be present in the structured array but are discarded:\n",
            "metadata": {}
        },
        {
            "id": "3d58a98a",
            "cell_type": "code",
            "metadata": {},
            "execution_count": null,
            "source": "dt = [('_data', '<i4'), ('_mask', '|b1'), ('field3', '<f4')]\nrec2 = np.zeros((2, 2), dtype=dt)\nrec2",
            "outputs": [
                {
                    "output_type": "execute_result",
                    "metadata": {},
                    "data": {
                        "text/plain": "array([[(0, False, 0.), (0, False, 0.)],\n       [(0, False, 0.), (0, False, 0.)]],\n      dtype=[('_data', '<i4'), ('_mask', '?'), ('field3', '<f4')])"
                    },
                    "execution_count": null
                }
            ]
        },
        {
            "id": "69cb9de7",
            "cell_type": "code",
            "metadata": {},
            "execution_count": null,
            "source": "y = np.ma.fromflex(rec2)\ny",
            "outputs": [
                {
                    "output_type": "execute_result",
                    "metadata": {},
                    "data": {
                        "text/plain": "masked_array(\n  data=[[0, 0],\n        [0, 0]],\n  mask=[[False, False],\n        [False, False]],\n  fill_value=np.int64(999999),\n  dtype=int32)"
                    },
                    "execution_count": null
                }
            ]
        }
    ]
}