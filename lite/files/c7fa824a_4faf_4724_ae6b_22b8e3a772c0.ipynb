{
    "nbformat": 4,
    "nbformat_minor": 5,
    "metadata": {
        "kernelspec": {
            "display_name": "Python",
            "language": "python",
            "name": "python"
        },
        "language_info": {
            "name": "python"
        }
    },
    "cells": [
        {
            "id": "8e090022",
            "cell_type": "markdown",
            "source": "<div class='alert alert-warning'>\n\nNumPy's interactive examples are experimental and may not always work as expected, with high load times especially on low-resource platforms, and the version of NumPy might not be in sync with the one you are browsing the documentation for. If you encounter any issues, please report them on the [NumPy issue tracker](https://github.com/numpy/numpy/issues).\n\n</div>",
            "metadata": {}
        },
        {
            "id": "110f0bd8",
            "cell_type": "code",
            "metadata": {},
            "execution_count": null,
            "source": "import numpy as np",
            "outputs": []
        },
        {
            "id": "6f91a219",
            "cell_type": "code",
            "metadata": {},
            "execution_count": null,
            "source": "f16 = np.float16(\"0.1\")\nf32 = np.float32(f16)\nf64 = np.float64(f32)\nf16 == f32 == f64",
            "outputs": [
                {
                    "output_type": "execute_result",
                    "metadata": {},
                    "data": {
                        "text/plain": "True"
                    },
                    "execution_count": null
                }
            ]
        },
        {
            "id": "04d8d9ca",
            "cell_type": "code",
            "metadata": {},
            "execution_count": null,
            "source": "f16, f32, f64",
            "outputs": [
                {
                    "output_type": "execute_result",
                    "metadata": {},
                    "data": {
                        "text/plain": "(0.1, 0.099975586, 0.0999755859375)"
                    },
                    "execution_count": null
                }
            ]
        },
        {
            "id": "885ac873",
            "cell_type": "markdown",
            "source": "Note that none of these floats hold the exact value $\\frac{1}{10}$;\n``f16`` prints as ``0.1`` because it is as close to that value as possible,\nwhereas the other types do not as they have more precision and therefore have\ncloser values.\n\nConversely, floating-point scalars of different precisions which approximate\nthe same decimal value may compare unequal despite printing identically:\n",
            "metadata": {}
        },
        {
            "id": "79fa7d51",
            "cell_type": "code",
            "metadata": {},
            "execution_count": null,
            "source": "f16 = np.float16(\"0.1\")\nf32 = np.float32(\"0.1\")\nf64 = np.float64(\"0.1\")\nf16 == f32 == f64",
            "outputs": [
                {
                    "output_type": "execute_result",
                    "metadata": {},
                    "data": {
                        "text/plain": "False"
                    },
                    "execution_count": null
                }
            ]
        },
        {
            "id": "8777dfbf",
            "cell_type": "code",
            "metadata": {},
            "execution_count": null,
            "source": "f16, f32, f64",
            "outputs": [
                {
                    "output_type": "execute_result",
                    "metadata": {},
                    "data": {
                        "text/plain": "(0.1, 0.1, 0.1)"
                    },
                    "execution_count": null
                }
            ]
        }
    ]
}