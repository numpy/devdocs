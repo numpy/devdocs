{
    "nbformat": 4,
    "nbformat_minor": 5,
    "metadata": {
        "kernelspec": {
            "display_name": "Python",
            "language": "python",
            "name": "python"
        },
        "language_info": {
            "name": "python"
        }
    },
    "cells": [
        {
            "id": "d1f81bcb",
            "cell_type": "markdown",
            "source": "<div class='alert alert-warning'>\n\nNumPy's interactive examples are experimental and may not always work as expected, with high load times especially on low-resource platforms, and the version of NumPy might not be in sync with the one you are browsing the documentation for. If you encounter any issues, please report them on the [NumPy issue tracker](https://github.com/numpy/numpy/issues).\n\n</div>",
            "metadata": {}
        },
        {
            "id": "82c237a8",
            "cell_type": "code",
            "metadata": {},
            "execution_count": null,
            "source": "import numpy as np\nmask = np.array([0, 0, 1])\nnp.ma.flatten_mask(mask)",
            "outputs": [
                {
                    "output_type": "execute_result",
                    "metadata": {},
                    "data": {
                        "text/plain": "array([False, False,  True])"
                    },
                    "execution_count": null
                }
            ]
        },
        {
            "id": "a610bb7a",
            "cell_type": "code",
            "metadata": {},
            "execution_count": null,
            "source": "mask = np.array([(0, 0), (0, 1)], dtype=[('a', bool), ('b', bool)])\nnp.ma.flatten_mask(mask)",
            "outputs": [
                {
                    "output_type": "execute_result",
                    "metadata": {},
                    "data": {
                        "text/plain": "array([False, False, False,  True])"
                    },
                    "execution_count": null
                }
            ]
        },
        {
            "id": "153fd9dd",
            "cell_type": "code",
            "metadata": {},
            "execution_count": null,
            "source": "mdtype = [('a', bool), ('b', [('ba', bool), ('bb', bool)])]\nmask = np.array([(0, (0, 0)), (0, (0, 1))], dtype=mdtype)\nnp.ma.flatten_mask(mask)",
            "outputs": [
                {
                    "output_type": "execute_result",
                    "metadata": {},
                    "data": {
                        "text/plain": "array([False, False, False, False, False,  True])"
                    },
                    "execution_count": null
                }
            ]
        }
    ]
}