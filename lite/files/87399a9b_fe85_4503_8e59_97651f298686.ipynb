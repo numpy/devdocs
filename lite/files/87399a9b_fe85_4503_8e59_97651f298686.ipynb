{
    "nbformat": 4,
    "nbformat_minor": 5,
    "metadata": {
        "kernelspec": {
            "display_name": "Python",
            "language": "python",
            "name": "python"
        },
        "language_info": {
            "name": "python"
        }
    },
    "cells": [
        {
            "id": "df367faf",
            "cell_type": "markdown",
            "source": "<div class='alert alert-warning'>\n\nNumPy's interactive examples are experimental and may not always work as expected, with high load times especially on low-resource platforms, and the version of NumPy might not be in sync with the one you are browsing the documentation for. If you encounter any issues, please report them on the [NumPy issue tracker](https://github.com/numpy/numpy/issues).\n\n</div>",
            "metadata": {}
        },
        {
            "id": "1908465b",
            "cell_type": "code",
            "metadata": {},
            "execution_count": null,
            "source": "import numpy as np\nimport numpy.ma as ma\na = np.arange(4)\na",
            "outputs": [
                {
                    "output_type": "execute_result",
                    "metadata": {},
                    "data": {
                        "text/plain": "array([0, 1, 2, 3])"
                    },
                    "execution_count": null
                }
            ]
        },
        {
            "id": "daacc4d0",
            "cell_type": "code",
            "metadata": {},
            "execution_count": null,
            "source": "ma.masked_equal(a, 2)",
            "outputs": [
                {
                    "output_type": "execute_result",
                    "metadata": {},
                    "data": {
                        "text/plain": "masked_array(data=[0, 1, --, 3],\n             mask=[False, False,  True, False],\n       fill_value=2)"
                    },
                    "execution_count": null
                }
            ]
        }
    ]
}