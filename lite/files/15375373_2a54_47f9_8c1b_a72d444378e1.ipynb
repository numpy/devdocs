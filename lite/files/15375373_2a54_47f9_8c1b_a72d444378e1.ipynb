{
    "nbformat": 4,
    "nbformat_minor": 5,
    "metadata": {
        "kernelspec": {
            "display_name": "Python",
            "language": "python",
            "name": "python"
        },
        "language_info": {
            "name": "python"
        }
    },
    "cells": [
        {
            "id": "3e762736",
            "cell_type": "markdown",
            "source": "<div class='alert alert-warning'>\n\nNumPy's interactive examples are experimental and may not always work as expected, with high load times especially on low-resource platforms, and the version of NumPy might not be in sync with the one you are browsing the documentation for. If you encounter any issues, please report them on the [NumPy issue tracker](https://github.com/numpy/numpy/issues).\n\n</div>",
            "metadata": {}
        },
        {
            "id": "fa15a4c1",
            "cell_type": "code",
            "metadata": {},
            "execution_count": null,
            "source": "import numpy as np\na = np.array([1+1j, 1+0j, 4.5, 3, 2, 2j], dtype=complex)\nnp.isreal(a)",
            "outputs": [
                {
                    "output_type": "execute_result",
                    "metadata": {},
                    "data": {
                        "text/plain": "array([False,  True,  True,  True,  True, False])"
                    },
                    "execution_count": null
                }
            ]
        },
        {
            "id": "f4e76174",
            "cell_type": "markdown",
            "source": "The function does not work on string arrays.\n",
            "metadata": {}
        },
        {
            "id": "8a0a0a90",
            "cell_type": "code",
            "metadata": {},
            "execution_count": null,
            "source": "a = np.array([2j, \"a\"], dtype=\"U\")\nnp.isreal(a)  # Warns about non-elementwise comparison",
            "outputs": [
                {
                    "output_type": "execute_result",
                    "metadata": {},
                    "data": {
                        "text/plain": "False"
                    },
                    "execution_count": null
                }
            ]
        },
        {
            "id": "64f31b57",
            "cell_type": "markdown",
            "source": "Returns True for all elements in input array of ``dtype=object`` even if\nany of the elements is complex.\n",
            "metadata": {}
        },
        {
            "id": "ba5efff3",
            "cell_type": "code",
            "metadata": {},
            "execution_count": null,
            "source": "a = np.array([1, \"2\", 3+4j], dtype=object)\nnp.isreal(a)",
            "outputs": [
                {
                    "output_type": "execute_result",
                    "metadata": {},
                    "data": {
                        "text/plain": "array([ True,  True,  True])"
                    },
                    "execution_count": null
                }
            ]
        },
        {
            "id": "695fa4d9",
            "cell_type": "markdown",
            "source": "isreal should not be used with object arrays\n",
            "metadata": {}
        },
        {
            "id": "4e0990b9",
            "cell_type": "code",
            "metadata": {},
            "execution_count": null,
            "source": "a = np.array([1+2j, 2+1j], dtype=object)\nnp.isreal(a)",
            "outputs": [
                {
                    "output_type": "execute_result",
                    "metadata": {},
                    "data": {
                        "text/plain": "array([ True,  True])"
                    },
                    "execution_count": null
                }
            ]
        }
    ]
}