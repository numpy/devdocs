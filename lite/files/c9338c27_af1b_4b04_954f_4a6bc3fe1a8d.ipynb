{
    "nbformat": 4,
    "nbformat_minor": 5,
    "metadata": {
        "kernelspec": {
            "display_name": "Python",
            "language": "python",
            "name": "python"
        },
        "language_info": {
            "name": "python"
        }
    },
    "cells": [
        {
            "id": "85cc9979",
            "cell_type": "markdown",
            "source": "<div class='alert alert-warning'>\n\nNumPy's interactive examples are experimental and may not always work as expected, with high load times especially on low-resource platforms, and the version of NumPy might not be in sync with the one you are browsing the documentation for. If you encounter any issues, please report them on the [NumPy issue tracker](https://github.com/numpy/numpy/issues).\n\n</div>",
            "metadata": {}
        },
        {
            "id": "3c131118",
            "cell_type": "code",
            "metadata": {},
            "execution_count": null,
            "source": "import numpy as np\nx = np.arange(8.0)\nnp.array_split(x, 3)",
            "outputs": [
                {
                    "output_type": "execute_result",
                    "metadata": {},
                    "data": {
                        "text/plain": "[array([0.,  1.,  2.]), array([3.,  4.,  5.]), array([6.,  7.])]"
                    },
                    "execution_count": null
                }
            ]
        },
        {
            "id": "9c48db40",
            "cell_type": "code",
            "metadata": {},
            "execution_count": null,
            "source": "x = np.arange(9)\nnp.array_split(x, 4)",
            "outputs": [
                {
                    "output_type": "execute_result",
                    "metadata": {},
                    "data": {
                        "text/plain": "[array([0, 1, 2]), array([3, 4]), array([5, 6]), array([7, 8])]"
                    },
                    "execution_count": null
                }
            ]
        }
    ]
}