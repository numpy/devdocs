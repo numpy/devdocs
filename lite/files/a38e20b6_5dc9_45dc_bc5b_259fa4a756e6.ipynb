{
    "nbformat": 4,
    "nbformat_minor": 5,
    "metadata": {
        "kernelspec": {
            "display_name": "Python",
            "language": "python",
            "name": "python"
        },
        "language_info": {
            "name": "python"
        }
    },
    "cells": [
        {
            "id": "3e936a6b",
            "cell_type": "markdown",
            "source": "<div class='alert alert-warning'>\n\nNumPy's interactive examples are experimental and may not always work as expected, with high load times especially on low-resource platforms, and the version of NumPy might not be in sync with the one you are browsing the documentation for. If you encounter any issues, please report them on the [NumPy issue tracker](https://github.com/numpy/numpy/issues).\n\n</div>",
            "metadata": {}
        },
        {
            "id": "40deea64",
            "cell_type": "code",
            "metadata": {},
            "execution_count": null,
            "source": "import numpy.polynomial.chebyshev as C\nC.chebinterpolate(lambda x: np.tanh(x) + 0.5, 8)",
            "outputs": [
                {
                    "output_type": "execute_result",
                    "metadata": {},
                    "data": {
                        "text/plain": "array([  5.00000000e-01,   8.11675684e-01,  -9.86864911e-17,\n        -5.42457905e-02,  -2.71387850e-16,   4.51658839e-03,\n         2.46716228e-17,  -3.79694221e-04,  -3.26899002e-16])"
                    },
                    "execution_count": null
                }
            ]
        }
    ]
}