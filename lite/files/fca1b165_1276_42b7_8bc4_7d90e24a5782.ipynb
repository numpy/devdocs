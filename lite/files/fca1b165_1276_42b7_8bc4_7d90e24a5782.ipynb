{
    "nbformat": 4,
    "nbformat_minor": 5,
    "metadata": {
        "kernelspec": {
            "display_name": "Python",
            "language": "python",
            "name": "python"
        },
        "language_info": {
            "name": "python"
        }
    },
    "cells": [
        {
            "id": "426dd015",
            "cell_type": "markdown",
            "source": "<div class='alert alert-warning'>\n\nNumPy's interactive examples are experimental and may not always work as expected, with high load times especially on low-resource platforms, and the version of NumPy might not be in sync with the one you are browsing the documentation for. If you encounter any issues, please report them on the [NumPy issue tracker](https://github.com/numpy/numpy/issues).\n\n</div>",
            "metadata": {}
        },
        {
            "id": "a53a292a",
            "cell_type": "code",
            "metadata": {},
            "execution_count": null,
            "source": "import numpy as np\na = np.arange(4).reshape((2,2))\na",
            "outputs": [
                {
                    "output_type": "execute_result",
                    "metadata": {},
                    "data": {
                        "text/plain": "array([[0, 1],\n       [2, 3]])"
                    },
                    "execution_count": null
                }
            ]
        },
        {
            "id": "609096b8",
            "cell_type": "code",
            "metadata": {},
            "execution_count": null,
            "source": "np.min(a)           # Minimum of the flattened array",
            "outputs": [
                {
                    "output_type": "execute_result",
                    "metadata": {},
                    "data": {
                        "text/plain": "0"
                    },
                    "execution_count": null
                }
            ]
        },
        {
            "id": "b5e21d05",
            "cell_type": "code",
            "metadata": {},
            "execution_count": null,
            "source": "np.min(a, axis=0)   # Minima along the first axis",
            "outputs": [
                {
                    "output_type": "execute_result",
                    "metadata": {},
                    "data": {
                        "text/plain": "array([0, 1])"
                    },
                    "execution_count": null
                }
            ]
        },
        {
            "id": "57945549",
            "cell_type": "code",
            "metadata": {},
            "execution_count": null,
            "source": "np.min(a, axis=1)   # Minima along the second axis",
            "outputs": [
                {
                    "output_type": "execute_result",
                    "metadata": {},
                    "data": {
                        "text/plain": "array([0, 2])"
                    },
                    "execution_count": null
                }
            ]
        },
        {
            "id": "7ffebd8a",
            "cell_type": "code",
            "metadata": {},
            "execution_count": null,
            "source": "np.min(a, where=[False, True], initial=10, axis=0)",
            "outputs": [
                {
                    "output_type": "execute_result",
                    "metadata": {},
                    "data": {
                        "text/plain": "array([10,  1])"
                    },
                    "execution_count": null
                }
            ]
        },
        {
            "id": "294ede25",
            "cell_type": "code",
            "metadata": {},
            "execution_count": null,
            "source": "b = np.arange(5, dtype=float)\nb[2] = np.nan\nnp.min(b)",
            "outputs": [
                {
                    "output_type": "execute_result",
                    "metadata": {},
                    "data": {
                        "text/plain": "np.float64(nan)"
                    },
                    "execution_count": null
                }
            ]
        },
        {
            "id": "4db7fc5b",
            "cell_type": "code",
            "metadata": {},
            "execution_count": null,
            "source": "np.min(b, where=~np.isnan(b), initial=10)",
            "outputs": [
                {
                    "output_type": "execute_result",
                    "metadata": {},
                    "data": {
                        "text/plain": "0.0"
                    },
                    "execution_count": null
                }
            ]
        },
        {
            "id": "195d42eb",
            "cell_type": "code",
            "metadata": {},
            "execution_count": null,
            "source": "np.nanmin(b)",
            "outputs": [
                {
                    "output_type": "execute_result",
                    "metadata": {},
                    "data": {
                        "text/plain": "0.0"
                    },
                    "execution_count": null
                }
            ]
        },
        {
            "id": "858414d9",
            "cell_type": "code",
            "metadata": {},
            "execution_count": null,
            "source": "np.min([[-50], [10]], axis=-1, initial=0)",
            "outputs": [
                {
                    "output_type": "execute_result",
                    "metadata": {},
                    "data": {
                        "text/plain": "array([-50,   0])"
                    },
                    "execution_count": null
                }
            ]
        },
        {
            "id": "2d03c06c",
            "cell_type": "markdown",
            "source": "Notice that the initial value is used as one of the elements for which the\nminimum is determined, unlike for the default argument Python's max\nfunction, which is only used for empty iterables.\n\nNotice that this isn't the same as Python's ``default`` argument.\n",
            "metadata": {}
        },
        {
            "id": "e2933a56",
            "cell_type": "code",
            "metadata": {},
            "execution_count": null,
            "source": "np.min([6], initial=5)",
            "outputs": [
                {
                    "output_type": "execute_result",
                    "metadata": {},
                    "data": {
                        "text/plain": "5"
                    },
                    "execution_count": null
                }
            ]
        },
        {
            "id": "9ffaa809",
            "cell_type": "code",
            "metadata": {},
            "execution_count": null,
            "source": "min([6], default=5)",
            "outputs": [
                {
                    "output_type": "execute_result",
                    "metadata": {},
                    "data": {
                        "text/plain": "6"
                    },
                    "execution_count": null
                }
            ]
        }
    ]
}