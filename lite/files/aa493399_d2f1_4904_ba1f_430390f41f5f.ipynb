{
    "nbformat": 4,
    "nbformat_minor": 5,
    "metadata": {
        "kernelspec": {
            "display_name": "Python",
            "language": "python",
            "name": "python"
        },
        "language_info": {
            "name": "python"
        }
    },
    "cells": [
        {
            "id": "f0aa91e0",
            "cell_type": "markdown",
            "source": "<div class='alert alert-warning'>\n\nNumPy's interactive examples are experimental and may not always work as expected, with high load times especially on low-resource platforms, and the version of NumPy might not be in sync with the one you are browsing the documentation for. If you encounter any issues, please report them on the [NumPy issue tracker](https://github.com/numpy/numpy/issues).\n\n</div>",
            "metadata": {}
        },
        {
            "id": "22bfab6e",
            "cell_type": "code",
            "metadata": {},
            "execution_count": null,
            "source": "import numpy as np\nx = np.arange(16.0).reshape(4, 4)\nx",
            "outputs": [
                {
                    "output_type": "execute_result",
                    "metadata": {},
                    "data": {
                        "text/plain": "array([[ 0.,   1.,   2.,   3.],\n       [ 4.,   5.,   6.,   7.],\n       [ 8.,   9.,  10.,  11.],\n       [12.,  13.,  14.,  15.]])"
                    },
                    "execution_count": null
                }
            ]
        },
        {
            "id": "3b6c0aa2",
            "cell_type": "code",
            "metadata": {},
            "execution_count": null,
            "source": "np.vsplit(x, 2)",
            "outputs": [
                {
                    "output_type": "execute_result",
                    "metadata": {},
                    "data": {
                        "text/plain": "[array([[0., 1., 2., 3.],\n        [4., 5., 6., 7.]]),\n array([[ 8.,  9., 10., 11.],\n        [12., 13., 14., 15.]])]"
                    },
                    "execution_count": null
                }
            ]
        },
        {
            "id": "43a499bc",
            "cell_type": "code",
            "metadata": {},
            "execution_count": null,
            "source": "np.vsplit(x, np.array([3, 6]))",
            "outputs": [
                {
                    "output_type": "execute_result",
                    "metadata": {},
                    "data": {
                        "text/plain": "[array([[ 0.,  1.,  2.,  3.],\n        [ 4.,  5.,  6.,  7.],\n        [ 8.,  9., 10., 11.]]),\n array([[12., 13., 14., 15.]]),\n array([], shape=(0, 4), dtype=float64)]"
                    },
                    "execution_count": null
                }
            ]
        },
        {
            "id": "1001ec19",
            "cell_type": "markdown",
            "source": "With a higher dimensional array the split is still along the first axis.\n",
            "metadata": {}
        },
        {
            "id": "50be780b",
            "cell_type": "code",
            "metadata": {},
            "execution_count": null,
            "source": "x = np.arange(8.0).reshape(2, 2, 2)\nx",
            "outputs": [
                {
                    "output_type": "execute_result",
                    "metadata": {},
                    "data": {
                        "text/plain": "array([[[0.,  1.],\n        [2.,  3.]],\n       [[4.,  5.],\n        [6.,  7.]]])"
                    },
                    "execution_count": null
                }
            ]
        },
        {
            "id": "0f884d9e",
            "cell_type": "code",
            "metadata": {},
            "execution_count": null,
            "source": "np.vsplit(x, 2)",
            "outputs": [
                {
                    "output_type": "execute_result",
                    "metadata": {},
                    "data": {
                        "text/plain": "[array([[[0., 1.],\n         [2., 3.]]]),\n array([[[4., 5.],\n         [6., 7.]]])]"
                    },
                    "execution_count": null
                }
            ]
        }
    ]
}