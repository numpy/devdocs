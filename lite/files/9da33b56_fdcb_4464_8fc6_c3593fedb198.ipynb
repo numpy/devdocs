{
    "nbformat": 4,
    "nbformat_minor": 5,
    "metadata": {
        "kernelspec": {
            "display_name": "Python",
            "language": "python",
            "name": "python"
        },
        "language_info": {
            "name": "python"
        }
    },
    "cells": [
        {
            "id": "9162a1bc",
            "cell_type": "markdown",
            "source": "<div class='alert alert-warning'>\n\nNumPy's interactive examples are experimental and may not always work as expected, with high load times especially on low-resource platforms, and the version of NumPy might not be in sync with the one you are browsing the documentation for. If you encounter any issues, please report them on the [NumPy issue tracker](https://github.com/numpy/numpy/issues).\n\n</div>",
            "metadata": {}
        },
        {
            "id": "80c33b7e",
            "cell_type": "code",
            "metadata": {},
            "execution_count": null,
            "source": "self.feature_implies(\"SSE3\")",
            "outputs": [
                {
                    "output_type": "execute_result",
                    "metadata": {},
                    "data": {
                        "text/plain": "{'SSE', 'SSE2'}"
                    },
                    "execution_count": null
                }
            ]
        },
        {
            "id": "eebe9bf8",
            "cell_type": "code",
            "metadata": {},
            "execution_count": null,
            "source": "self.feature_implies(\"SSE2\")",
            "outputs": [
                {
                    "output_type": "execute_result",
                    "metadata": {},
                    "data": {
                        "text/plain": "{'SSE'}"
                    },
                    "execution_count": null
                }
            ]
        },
        {
            "id": "acd20ac7",
            "cell_type": "code",
            "metadata": {},
            "execution_count": null,
            "source": "self.feature_implies(\"SSE2\", keep_origins=True)",
            "outputs": [
                {
                    "output_type": "execute_result",
                    "metadata": {},
                    "data": {
                        "text/plain": "# 'SSE2' found here since 'SSE' and 'SSE2' imply each other\n{'SSE', 'SSE2'}"
                    },
                    "execution_count": null
                }
            ]
        }
    ]
}