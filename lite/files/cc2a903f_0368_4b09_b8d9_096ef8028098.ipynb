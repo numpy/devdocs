{
    "nbformat": 4,
    "nbformat_minor": 5,
    "metadata": {
        "kernelspec": {
            "display_name": "Python",
            "language": "python",
            "name": "python"
        },
        "language_info": {
            "name": "python"
        }
    },
    "cells": [
        {
            "id": "945c7ade",
            "cell_type": "markdown",
            "source": "<div class='alert alert-warning'>\n\nNumPy's interactive examples are experimental and may not always work as expected, with high load times especially on low-resource platforms, and the version of NumPy might not be in sync with the one you are browsing the documentation for. If you encounter any issues, please report them on the [NumPy issue tracker](https://github.com/numpy/numpy/issues).\n\n</div>",
            "metadata": {}
        },
        {
            "id": "6827ab2d",
            "cell_type": "code",
            "metadata": {},
            "execution_count": null,
            "source": "import numpy as np\na = np.array(['Grace Hopper Conference', 'Open Source Day'])\nnp.strings.str_len(a)",
            "outputs": [
                {
                    "output_type": "execute_result",
                    "metadata": {},
                    "data": {
                        "text/plain": "array([23, 15])"
                    },
                    "execution_count": null
                }
            ]
        },
        {
            "id": "fa17f057",
            "cell_type": "code",
            "metadata": {},
            "execution_count": null,
            "source": "a = np.array(['Р', 'о'])\nnp.strings.str_len(a)",
            "outputs": [
                {
                    "output_type": "execute_result",
                    "metadata": {},
                    "data": {
                        "text/plain": "array([1, 1])"
                    },
                    "execution_count": null
                }
            ]
        },
        {
            "id": "1d672c8c",
            "cell_type": "code",
            "metadata": {},
            "execution_count": null,
            "source": "a = np.array([['hello', 'world'], ['Р', 'о']])\nnp.strings.str_len(a)",
            "outputs": [
                {
                    "output_type": "execute_result",
                    "metadata": {},
                    "data": {
                        "text/plain": "array([[5, 5], [1, 1]])"
                    },
                    "execution_count": null
                }
            ]
        }
    ]
}