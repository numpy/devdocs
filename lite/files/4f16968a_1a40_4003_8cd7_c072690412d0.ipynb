{
    "nbformat": 4,
    "nbformat_minor": 5,
    "metadata": {
        "kernelspec": {
            "display_name": "Python",
            "language": "python",
            "name": "python"
        },
        "language_info": {
            "name": "python"
        }
    },
    "cells": [
        {
            "id": "ca4ea16c",
            "cell_type": "markdown",
            "source": "<div class='alert alert-warning'>\n\nNumPy's interactive examples are experimental and may not always work as expected, with high load times especially on low-resource platforms, and the version of NumPy might not be in sync with the one you are browsing the documentation for. If you encounter any issues, please report them on the [NumPy issue tracker](https://github.com/numpy/numpy/issues).\n\n</div>",
            "metadata": {}
        },
        {
            "id": "5bc45b2d",
            "cell_type": "code",
            "metadata": {},
            "execution_count": null,
            "source": "import numpy as np",
            "outputs": []
        },
        {
            "id": "e42240b3",
            "cell_type": "code",
            "metadata": {},
            "execution_count": null,
            "source": "x = np.array([('Sarah', (8.0, 7.0)), ('John', (6.0, 7.0))], dtype=dt)\nx[1]",
            "outputs": [
                {
                    "output_type": "execute_result",
                    "metadata": {},
                    "data": {
                        "text/plain": "('John', [6., 7.])"
                    },
                    "execution_count": null
                }
            ]
        },
        {
            "id": "b0f3d282",
            "cell_type": "code",
            "metadata": {},
            "execution_count": null,
            "source": "x[1]['grades']",
            "outputs": [
                {
                    "output_type": "execute_result",
                    "metadata": {},
                    "data": {
                        "text/plain": "array([6.,  7.])"
                    },
                    "execution_count": null
                }
            ]
        },
        {
            "id": "435c9223",
            "cell_type": "code",
            "metadata": {},
            "execution_count": null,
            "source": "type(x[1])",
            "outputs": [
                {
                    "output_type": "execute_result",
                    "metadata": {},
                    "data": {
                        "text/plain": "<class 'numpy.void'>"
                    },
                    "execution_count": null
                }
            ]
        },
        {
            "id": "39b6c86f",
            "cell_type": "code",
            "metadata": {},
            "execution_count": null,
            "source": "type(x[1]['grades'])",
            "outputs": [
                {
                    "output_type": "execute_result",
                    "metadata": {},
                    "data": {
                        "text/plain": "<class 'numpy.ndarray'>"
                    },
                    "execution_count": null
                }
            ]
        }
    ]
}