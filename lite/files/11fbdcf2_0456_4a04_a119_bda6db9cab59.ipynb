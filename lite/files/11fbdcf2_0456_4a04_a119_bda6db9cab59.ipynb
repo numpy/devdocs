{
    "nbformat": 4,
    "nbformat_minor": 5,
    "metadata": {
        "kernelspec": {
            "display_name": "Python",
            "language": "python",
            "name": "python"
        },
        "language_info": {
            "name": "python"
        }
    },
    "cells": [
        {
            "id": "ceee0553",
            "cell_type": "markdown",
            "source": "<div class='alert alert-warning'>\n\nNumPy's interactive examples are experimental and may not always work as expected, with high load times especially on low-resource platforms, and the version of NumPy might not be in sync with the one you are browsing the documentation for. If you encounter any issues, please report them on the [NumPy issue tracker](https://github.com/numpy/numpy/issues).\n\n</div>",
            "metadata": {}
        },
        {
            "id": "61c8723b",
            "cell_type": "code",
            "metadata": {},
            "execution_count": null,
            "source": "import numpy as np\narr = [[1, 2], [3, 4]]\nmask = [[1, 0], [0, 0]]\nx = np.ma.array(arr, mask=mask)\nnp.ma.putmask(x, x < 4, 10*x)\nx",
            "outputs": [
                {
                    "output_type": "execute_result",
                    "metadata": {},
                    "data": {
                        "text/plain": "masked_array(\n  data=[[--, 20],\n        [30, 4]],\n  mask=[[ True, False],\n        [False, False]],\n  fill_value=999999)"
                    },
                    "execution_count": null
                }
            ]
        },
        {
            "id": "b4ab61a6",
            "cell_type": "code",
            "metadata": {},
            "execution_count": null,
            "source": "x.data",
            "outputs": [
                {
                    "output_type": "execute_result",
                    "metadata": {},
                    "data": {
                        "text/plain": "array([[10, 20],\n       [30,  4]])"
                    },
                    "execution_count": null
                }
            ]
        }
    ]
}