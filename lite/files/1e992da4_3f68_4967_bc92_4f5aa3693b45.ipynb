{
    "nbformat": 4,
    "nbformat_minor": 5,
    "metadata": {
        "kernelspec": {
            "display_name": "Python",
            "language": "python",
            "name": "python"
        },
        "language_info": {
            "name": "python"
        }
    },
    "cells": [
        {
            "id": "a93fc960",
            "cell_type": "markdown",
            "source": "<div class='alert alert-warning'>\n\nNumPy's interactive examples are experimental and may not always work as expected, with high load times especially on low-resource platforms, and the version of NumPy might not be in sync with the one you are browsing the documentation for. If you encounter any issues, please report them on the [NumPy issue tracker](https://github.com/numpy/numpy/issues).\n\n</div>",
            "metadata": {}
        },
        {
            "id": "d81cac13",
            "cell_type": "markdown",
            "source": "Add files to the list of data_files to be included with the package.\n\n    >>> self.add_data_files('foo.dat',\n    ...     ('fun', ['gun.dat', 'nun/pun.dat', '/tmp/sun.dat']),\n    ...     'bar/cat.dat',\n    ...     '/full/path/to/can.dat')                   #doctest: +SKIP\n\nwill install these data files to\n```\n\n<package install directory>/\nfoo.dat\nfun/\ngun.dat\nnun/\npun.dat\nsun.dat\nbar/\ncar.dat\ncan.dat\n\n```\nwhere <package install directory> is the package (or sub-package)\ndirectory such as '/usr/lib/python2.4/site-packages/mypackage' ('C:\n\\Python2.4 \\Lib \\site-packages \\mypackage') or\n'/usr/lib/python2.4/site- packages/mypackage/mysubpackage' ('C:\n\\Python2.4 \\Lib \\site-packages \\mypackage \\mysubpackage').",
            "metadata": {}
        }
    ]
}