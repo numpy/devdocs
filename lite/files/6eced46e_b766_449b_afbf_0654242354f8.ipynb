{
    "nbformat": 4,
    "nbformat_minor": 5,
    "metadata": {
        "kernelspec": {
            "display_name": "Python",
            "language": "python",
            "name": "python"
        },
        "language_info": {
            "name": "python"
        }
    },
    "cells": [
        {
            "id": "d940edb2",
            "cell_type": "markdown",
            "source": "<div class='alert alert-warning'>\n\nNumPy's interactive examples are experimental and may not always work as expected, with high load times especially on low-resource platforms, and the version of NumPy might not be in sync with the one you are browsing the documentation for. If you encounter any issues, please report them on the [NumPy issue tracker](https://github.com/numpy/numpy/issues).\n\n</div>",
            "metadata": {}
        },
        {
            "id": "6fe5f6bc",
            "cell_type": "code",
            "metadata": {},
            "execution_count": null,
            "source": "import numpy as np\nnp.fmin([2, 3, 4], [1, 5, 2])",
            "outputs": [
                {
                    "output_type": "execute_result",
                    "metadata": {},
                    "data": {
                        "text/plain": "array([1, 3, 2])"
                    },
                    "execution_count": null
                }
            ]
        },
        {
            "id": "84d6acdf",
            "cell_type": "code",
            "metadata": {},
            "execution_count": null,
            "source": "np.fmin(np.eye(2), [0.5, 2])",
            "outputs": [
                {
                    "output_type": "execute_result",
                    "metadata": {},
                    "data": {
                        "text/plain": "array([[ 0.5,  0. ],\n       [ 0. ,  1. ]])"
                    },
                    "execution_count": null
                }
            ]
        },
        {
            "id": "d45324aa",
            "cell_type": "code",
            "metadata": {},
            "execution_count": null,
            "source": "np.fmin([np.nan, 0, np.nan],[0, np.nan, np.nan])",
            "outputs": [
                {
                    "output_type": "execute_result",
                    "metadata": {},
                    "data": {
                        "text/plain": "array([ 0.,  0., nan])"
                    },
                    "execution_count": null
                }
            ]
        }
    ]
}