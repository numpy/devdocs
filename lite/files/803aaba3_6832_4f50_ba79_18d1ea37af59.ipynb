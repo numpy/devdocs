{
    "nbformat": 4,
    "nbformat_minor": 5,
    "metadata": {
        "kernelspec": {
            "display_name": "Python",
            "language": "python",
            "name": "python"
        },
        "language_info": {
            "name": "python"
        }
    },
    "cells": [
        {
            "id": "e6a79843",
            "cell_type": "markdown",
            "source": "<div class='alert alert-warning'>\n\nNumPy's interactive examples are experimental and may not always work as expected, with high load times especially on low-resource platforms, and the version of NumPy might not be in sync with the one you are browsing the documentation for. If you encounter any issues, please report them on the [NumPy issue tracker](https://github.com/numpy/numpy/issues).\n\n</div>",
            "metadata": {}
        },
        {
            "id": "47497e80",
            "cell_type": "code",
            "metadata": {},
            "execution_count": null,
            "source": "import numpy as np\nimport numpy.ma as ma\nma.make_mask_none((3,))",
            "outputs": [
                {
                    "output_type": "execute_result",
                    "metadata": {},
                    "data": {
                        "text/plain": "array([False, False, False])"
                    },
                    "execution_count": null
                }
            ]
        },
        {
            "id": "42b1340d",
            "cell_type": "markdown",
            "source": "Defining a more complex dtype.\n",
            "metadata": {}
        },
        {
            "id": "7847d5d7",
            "cell_type": "code",
            "metadata": {},
            "execution_count": null,
            "source": "dtype = np.dtype({'names':['foo', 'bar'],\n                  'formats':[np.float32, np.int64]})\ndtype",
            "outputs": [
                {
                    "output_type": "execute_result",
                    "metadata": {},
                    "data": {
                        "text/plain": "dtype([('foo', '<f4'), ('bar', '<i8')])"
                    },
                    "execution_count": null
                }
            ]
        },
        {
            "id": "a54ef6ed",
            "cell_type": "code",
            "metadata": {},
            "execution_count": null,
            "source": "ma.make_mask_none((3,), dtype=dtype)",
            "outputs": [
                {
                    "output_type": "execute_result",
                    "metadata": {},
                    "data": {
                        "text/plain": "array([(False, False), (False, False), (False, False)],\n      dtype=[('foo', '|b1'), ('bar', '|b1')])"
                    },
                    "execution_count": null
                }
            ]
        }
    ]
}