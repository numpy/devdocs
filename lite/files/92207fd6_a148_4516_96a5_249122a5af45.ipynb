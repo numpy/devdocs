{
    "nbformat": 4,
    "nbformat_minor": 5,
    "metadata": {
        "kernelspec": {
            "display_name": "Python",
            "language": "python",
            "name": "python"
        },
        "language_info": {
            "name": "python"
        }
    },
    "cells": [
        {
            "id": "ba2ce943",
            "cell_type": "markdown",
            "source": "<div class='alert alert-warning'>\n\nNumPy's interactive examples are experimental and may not always work as expected, with high load times especially on low-resource platforms, and the version of NumPy might not be in sync with the one you are browsing the documentation for. If you encounter any issues, please report them on the [NumPy issue tracker](https://github.com/numpy/numpy/issues).\n\n</div>",
            "metadata": {}
        },
        {
            "id": "25bc5562",
            "cell_type": "code",
            "metadata": {},
            "execution_count": null,
            "source": "import numpy as np\nimport numpy.ma as ma\nx = [11.2, -3.973, 0.801, -1.41]\nmask = [0, 0, 0, 1]\nmasked_x = ma.masked_array(x, mask)\nmasked_x",
            "outputs": [
                {
                    "output_type": "execute_result",
                    "metadata": {},
                    "data": {
                        "text/plain": "masked_array(data=[11.2, -3.973, 0.801, --],\n             mask=[False, False, False, True],\n    fill_value=1e+20)"
                    },
                    "execution_count": null
                }
            ]
        },
        {
            "id": "0335865c",
            "cell_type": "code",
            "metadata": {},
            "execution_count": null,
            "source": "ma.round_(masked_x)",
            "outputs": [
                {
                    "output_type": "execute_result",
                    "metadata": {},
                    "data": {
                        "text/plain": "masked_array(data=[11.0, -4.0, 1.0, --],\n             mask=[False, False, False, True],\n    fill_value=1e+20)"
                    },
                    "execution_count": null
                }
            ]
        },
        {
            "id": "8d29fcb9",
            "cell_type": "code",
            "metadata": {},
            "execution_count": null,
            "source": "ma.round(masked_x, decimals=1)",
            "outputs": [
                {
                    "output_type": "execute_result",
                    "metadata": {},
                    "data": {
                        "text/plain": "masked_array(data=[11.2, -4.0, 0.8, --],\n             mask=[False, False, False, True],\n    fill_value=1e+20)"
                    },
                    "execution_count": null
                }
            ]
        },
        {
            "id": "2d21f6a3",
            "cell_type": "code",
            "metadata": {},
            "execution_count": null,
            "source": "ma.round_(masked_x, decimals=-1)",
            "outputs": [
                {
                    "output_type": "execute_result",
                    "metadata": {},
                    "data": {
                        "text/plain": "masked_array(data=[10.0, -0.0, 0.0, --],\n             mask=[False, False, False, True],\n    fill_value=1e+20)"
                    },
                    "execution_count": null
                }
            ]
        }
    ]
}