{
    "nbformat": 4,
    "nbformat_minor": 5,
    "metadata": {
        "kernelspec": {
            "display_name": "Python",
            "language": "python",
            "name": "python"
        },
        "language_info": {
            "name": "python"
        }
    },
    "cells": [
        {
            "id": "3260a59d",
            "cell_type": "markdown",
            "source": "<div class='alert alert-warning'>\n\nNumPy's interactive examples are experimental and may not always work as expected, with high load times especially on low-resource platforms, and the version of NumPy might not be in sync with the one you are browsing the documentation for. If you encounter any issues, please report them on the [NumPy issue tracker](https://github.com/numpy/numpy/issues).\n\n</div>",
            "metadata": {}
        },
        {
            "id": "c0fb6cc0",
            "cell_type": "code",
            "metadata": {},
            "execution_count": null,
            "source": "import numpy as np\na = np.arange(12).reshape((3, 4))\nmask = np.zeros_like(a)\nmask[1:, :-1] = 1; mask[0, 1] = 1; mask[-1, 0] = 0\nma = np.ma.array(a, mask=mask)\nma",
            "outputs": [
                {
                    "output_type": "execute_result",
                    "metadata": {},
                    "data": {
                        "text/plain": "masked_array(\n  data=[[0, --, 2, 3],\n        [--, --, --, 7],\n        [8, --, --, 11]],\n  mask=[[False,  True, False, False],\n        [ True,  True,  True, False],\n        [False,  True,  True, False]],\n  fill_value=999999)"
                    },
                    "execution_count": null
                }
            ]
        },
        {
            "id": "acbeb447",
            "cell_type": "code",
            "metadata": {},
            "execution_count": null,
            "source": "np.array(ma[~ma.mask])",
            "outputs": [
                {
                    "output_type": "execute_result",
                    "metadata": {},
                    "data": {
                        "text/plain": "array([ 0,  2,  3,  7, 8, 11])"
                    },
                    "execution_count": null
                }
            ]
        },
        {
            "id": "f9bea2a9",
            "cell_type": "code",
            "metadata": {},
            "execution_count": null,
            "source": "np.ma.notmasked_contiguous(ma)",
            "outputs": [
                {
                    "output_type": "execute_result",
                    "metadata": {},
                    "data": {
                        "text/plain": "[slice(0, 1, None), slice(2, 4, None), slice(7, 9, None), slice(11, 12, None)]"
                    },
                    "execution_count": null
                }
            ]
        },
        {
            "id": "ddf21ccb",
            "cell_type": "code",
            "metadata": {},
            "execution_count": null,
            "source": "np.ma.notmasked_contiguous(ma, axis=0)",
            "outputs": [
                {
                    "output_type": "execute_result",
                    "metadata": {},
                    "data": {
                        "text/plain": "[[slice(0, 1, None), slice(2, 3, None)], [], [slice(0, 1, None)], [slice(0, 3, None)]]"
                    },
                    "execution_count": null
                }
            ]
        },
        {
            "id": "5aaf3c45",
            "cell_type": "code",
            "metadata": {},
            "execution_count": null,
            "source": "np.ma.notmasked_contiguous(ma, axis=1)",
            "outputs": [
                {
                    "output_type": "execute_result",
                    "metadata": {},
                    "data": {
                        "text/plain": "[[slice(0, 1, None), slice(2, 4, None)], [slice(3, 4, None)], [slice(0, 1, None), slice(3, 4, None)]]"
                    },
                    "execution_count": null
                }
            ]
        }
    ]
}