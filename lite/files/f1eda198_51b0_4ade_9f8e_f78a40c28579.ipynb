{
    "nbformat": 4,
    "nbformat_minor": 5,
    "metadata": {
        "kernelspec": {
            "display_name": "Python",
            "language": "python",
            "name": "python"
        },
        "language_info": {
            "name": "python"
        }
    },
    "cells": [
        {
            "id": "453ed046",
            "cell_type": "markdown",
            "source": "<div class='alert alert-warning'>\n\nNumPy's interactive examples are experimental and may not always work as expected, with high load times especially on low-resource platforms, and the version of NumPy might not be in sync with the one you are browsing the documentation for. If you encounter any issues, please report them on the [NumPy issue tracker](https://github.com/numpy/numpy/issues).\n\n</div>",
            "metadata": {}
        },
        {
            "id": "e32e1dc3",
            "cell_type": "markdown",
            "source": "Draw ten thousand values from the geometric distribution,\nwith the probability of an individual success equal to 0.35:\n",
            "metadata": {}
        },
        {
            "id": "ad9cc559",
            "cell_type": "code",
            "metadata": {},
            "execution_count": null,
            "source": "z = np.random.geometric(p=0.35, size=10000)",
            "outputs": []
        },
        {
            "id": "78ceea1e",
            "cell_type": "markdown",
            "source": "How many trials succeeded after a single run?\n",
            "metadata": {}
        },
        {
            "id": "c18f1c2a",
            "cell_type": "code",
            "metadata": {},
            "execution_count": null,
            "source": "(z == 1).sum() / 10000.",
            "outputs": [
                {
                    "output_type": "execute_result",
                    "metadata": {},
                    "data": {
                        "text/plain": "0.34889999999999999 #random"
                    },
                    "execution_count": null
                }
            ]
        }
    ]
}