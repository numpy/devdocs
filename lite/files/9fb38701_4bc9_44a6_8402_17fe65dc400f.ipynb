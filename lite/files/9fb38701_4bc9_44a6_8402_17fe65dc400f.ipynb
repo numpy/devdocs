{
    "nbformat": 4,
    "nbformat_minor": 5,
    "metadata": {
        "kernelspec": {
            "display_name": "Python",
            "language": "python",
            "name": "python"
        },
        "language_info": {
            "name": "python"
        }
    },
    "cells": [
        {
            "id": "ff29c856",
            "cell_type": "markdown",
            "source": "<div class='alert alert-warning'>\n\nNumPy's interactive examples are experimental and may not always work as expected, with high load times especially on low-resource platforms, and the version of NumPy might not be in sync with the one you are browsing the documentation for. If you encounter any issues, please report them on the [NumPy issue tracker](https://github.com/numpy/numpy/issues).\n\n</div>",
            "metadata": {}
        },
        {
            "id": "50a2c1f5",
            "cell_type": "code",
            "metadata": {},
            "execution_count": null,
            "source": "self.feature_c_preprocessor(\"SSE3\")",
            "outputs": [
                {
                    "output_type": "execute_result",
                    "metadata": {},
                    "data": {
                        "text/plain": "/** SSE3 **/\n#define NPY_HAVE_SSE3 1\n#include <pmmintrin.h>"
                    },
                    "execution_count": null
                }
            ]
        }
    ]
}