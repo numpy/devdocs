{
    "nbformat": 4,
    "nbformat_minor": 5,
    "metadata": {
        "kernelspec": {
            "display_name": "Python",
            "language": "python",
            "name": "python"
        },
        "language_info": {
            "name": "python"
        }
    },
    "cells": [
        {
            "id": "0fb86197",
            "cell_type": "markdown",
            "source": "<div class='alert alert-warning'>\n\nNumPy's interactive examples are experimental and may not always work as expected, with high load times especially on low-resource platforms, and the version of NumPy might not be in sync with the one you are browsing the documentation for. If you encounter any issues, please report them on the [NumPy issue tracker](https://github.com/numpy/numpy/issues).\n\n</div>",
            "metadata": {}
        },
        {
            "id": "5b9014ef",
            "cell_type": "code",
            "metadata": {},
            "execution_count": null,
            "source": "import numpy as np\nnp.fft.ifft([1, -1j, -1, 1j])",
            "outputs": [
                {
                    "output_type": "execute_result",
                    "metadata": {},
                    "data": {
                        "text/plain": "array([0.+0.j,  1.+0.j,  0.+0.j,  0.+0.j]) # may vary"
                    },
                    "execution_count": null
                }
            ]
        },
        {
            "id": "601cbff1",
            "cell_type": "code",
            "metadata": {},
            "execution_count": null,
            "source": "np.fft.irfft([1, -1j, -1])",
            "outputs": [
                {
                    "output_type": "execute_result",
                    "metadata": {},
                    "data": {
                        "text/plain": "array([0.,  1.,  0.,  0.])"
                    },
                    "execution_count": null
                }
            ]
        },
        {
            "id": "5975d27f",
            "cell_type": "markdown",
            "source": "Notice how the last term in the input to the ordinary `ifft` is the\ncomplex conjugate of the second term, and the output has zero imaginary\npart everywhere.  When calling `irfft`, the negative frequencies are not\nspecified, and the output array is purely real.",
            "metadata": {}
        }
    ]
}