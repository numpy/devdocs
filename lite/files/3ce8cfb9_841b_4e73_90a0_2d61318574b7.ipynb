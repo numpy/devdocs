{
    "nbformat": 4,
    "nbformat_minor": 5,
    "metadata": {
        "kernelspec": {
            "display_name": "Python",
            "language": "python",
            "name": "python"
        },
        "language_info": {
            "name": "python"
        }
    },
    "cells": [
        {
            "id": "356600c2",
            "cell_type": "markdown",
            "source": "<div class='alert alert-warning'>\n\nNumPy's interactive examples are experimental and may not always work as expected, with high load times especially on low-resource platforms, and the version of NumPy might not be in sync with the one you are browsing the documentation for. If you encounter any issues, please report them on the [NumPy issue tracker](https://github.com/numpy/numpy/issues).\n\n</div>",
            "metadata": {}
        },
        {
            "id": "dab3f71e",
            "cell_type": "code",
            "metadata": {},
            "execution_count": null,
            "source": "import numpy.ma as ma\nx = ma.array([1, 2, 3], mask=[0, 0, 1], hard_mask=True)\nx",
            "outputs": [
                {
                    "output_type": "execute_result",
                    "metadata": {},
                    "data": {
                        "text/plain": "masked_array(data=[1, 2, --],\n               mask=[False, False,  True],\n         fill_value=999999)"
                    },
                    "execution_count": null
                }
            ]
        },
        {
            "id": "c15ec4f3",
            "cell_type": "code",
            "metadata": {},
            "execution_count": null,
            "source": "x[-1] = 5\nx",
            "outputs": [
                {
                    "output_type": "execute_result",
                    "metadata": {},
                    "data": {
                        "text/plain": "masked_array(data=[1, 2, --],\n               mask=[False, False,  True],\n         fill_value=999999)"
                    },
                    "execution_count": null
                }
            ]
        },
        {
            "id": "4b1aafa0",
            "cell_type": "code",
            "metadata": {},
            "execution_count": null,
            "source": "x.soften_mask()",
            "outputs": [
                {
                    "output_type": "execute_result",
                    "metadata": {},
                    "data": {
                        "text/plain": "masked_array(data=[1, 2, --],\n               mask=[False, False,  True],\n         fill_value=999999)"
                    },
                    "execution_count": null
                }
            ]
        },
        {
            "id": "85ab1fc6",
            "cell_type": "code",
            "metadata": {},
            "execution_count": null,
            "source": "x[-1] = 5\nx",
            "outputs": [
                {
                    "output_type": "execute_result",
                    "metadata": {},
                    "data": {
                        "text/plain": "masked_array(data=[1, 2, 5],\n               mask=[False, False, False],\n         fill_value=999999)"
                    },
                    "execution_count": null
                }
            ]
        },
        {
            "id": "75a3e0bb",
            "cell_type": "code",
            "metadata": {},
            "execution_count": null,
            "source": "x.harden_mask()",
            "outputs": [
                {
                    "output_type": "execute_result",
                    "metadata": {},
                    "data": {
                        "text/plain": "masked_array(data=[1, 2, 5],\n               mask=[False, False, False],\n         fill_value=999999)"
                    },
                    "execution_count": null
                }
            ]
        }
    ]
}