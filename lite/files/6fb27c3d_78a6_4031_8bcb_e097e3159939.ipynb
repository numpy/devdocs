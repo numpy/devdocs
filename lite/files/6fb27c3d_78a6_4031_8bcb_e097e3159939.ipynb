{
    "nbformat": 4,
    "nbformat_minor": 5,
    "metadata": {
        "kernelspec": {
            "display_name": "Python",
            "language": "python",
            "name": "python"
        },
        "language_info": {
            "name": "python"
        }
    },
    "cells": [
        {
            "id": "fb822c97",
            "cell_type": "markdown",
            "source": "<div class='alert alert-warning'>\n\nNumPy's interactive examples are experimental and may not always work as expected, with high load times especially on low-resource platforms, and the version of NumPy might not be in sync with the one you are browsing the documentation for. If you encounter any issues, please report them on the [NumPy issue tracker](https://github.com/numpy/numpy/issues).\n\n</div>",
            "metadata": {}
        },
        {
            "id": "ee3d52dd",
            "cell_type": "code",
            "metadata": {},
            "execution_count": null,
            "source": "import numpy as np\nx = np.array(\"Numpy is nice!\")\nnp.strings.split(x, \" \")  # doctest: +SKIP",
            "outputs": [
                {
                    "output_type": "execute_result",
                    "metadata": {},
                    "data": {
                        "text/plain": "array(list(['Numpy', 'is', 'nice!']), dtype=object)  # doctest: +SKIP"
                    },
                    "execution_count": null
                }
            ]
        },
        {
            "id": "fed16de2",
            "cell_type": "code",
            "metadata": {},
            "execution_count": null,
            "source": "np.strings.split(x, \" \", 1)  # doctest: +SKIP",
            "outputs": [
                {
                    "output_type": "execute_result",
                    "metadata": {},
                    "data": {
                        "text/plain": "array(list(['Numpy', 'is nice!']), dtype=object)  # doctest: +SKIP"
                    },
                    "execution_count": null
                }
            ]
        }
    ]
}