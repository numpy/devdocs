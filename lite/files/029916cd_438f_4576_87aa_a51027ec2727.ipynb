{
    "nbformat": 4,
    "nbformat_minor": 5,
    "metadata": {
        "kernelspec": {
            "display_name": "Python",
            "language": "python",
            "name": "python"
        },
        "language_info": {
            "name": "python"
        }
    },
    "cells": [
        {
            "id": "5129c501",
            "cell_type": "markdown",
            "source": "<div class='alert alert-warning'>\n\nNumPy's interactive examples are experimental and may not always work as expected, with high load times especially on low-resource platforms, and the version of NumPy might not be in sync with the one you are browsing the documentation for. If you encounter any issues, please report them on the [NumPy issue tracker](https://github.com/numpy/numpy/issues).\n\n</div>",
            "metadata": {}
        },
        {
            "id": "e7223682",
            "cell_type": "markdown",
            "source": "These examples illustrate the low-level `ndarray` constructor.  Refer\nto the `See Also` section above for easier ways of constructing an\nndarray.\n\nFirst mode, `buffer` is None:\n",
            "metadata": {}
        },
        {
            "id": "f0c33148",
            "cell_type": "code",
            "metadata": {},
            "execution_count": null,
            "source": "import numpy as np\nnp.ndarray(shape=(2,2), dtype=float, order='F')",
            "outputs": [
                {
                    "output_type": "execute_result",
                    "metadata": {},
                    "data": {
                        "text/plain": "array([[0.0e+000, 0.0e+000], # random\n       [     nan, 2.5e-323]])"
                    },
                    "execution_count": null
                }
            ]
        },
        {
            "id": "e2158b63",
            "cell_type": "markdown",
            "source": "Second mode:\n",
            "metadata": {}
        },
        {
            "id": "95d543b4",
            "cell_type": "code",
            "metadata": {},
            "execution_count": null,
            "source": "np.ndarray((2,), buffer=np.array([1,2,3]),\n           offset=np.int_().itemsize,\n           dtype=int) # offset = 1*itemsize, i.e. skip first element",
            "outputs": [
                {
                    "output_type": "execute_result",
                    "metadata": {},
                    "data": {
                        "text/plain": "array([2, 3])"
                    },
                    "execution_count": null
                }
            ]
        }
    ]
}