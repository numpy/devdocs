{
    "nbformat": 4,
    "nbformat_minor": 5,
    "metadata": {
        "kernelspec": {
            "display_name": "Python",
            "language": "python",
            "name": "python"
        },
        "language_info": {
            "name": "python"
        }
    },
    "cells": [
        {
            "id": "bf9d607b",
            "cell_type": "markdown",
            "source": "<div class='alert alert-warning'>\n\nNumPy's interactive examples are experimental and may not always work as expected, with high load times especially on low-resource platforms, and the version of NumPy might not be in sync with the one you are browsing the documentation for. If you encounter any issues, please report them on the [NumPy issue tracker](https://github.com/numpy/numpy/issues).\n\n</div>",
            "metadata": {}
        },
        {
            "id": "a2f4e172",
            "cell_type": "markdown",
            "source": "The :mod:`numpy.ma` module can be used as an addition to :mod:`numpy`:\n",
            "metadata": {}
        },
        {
            "id": "ef6ded68",
            "cell_type": "code",
            "metadata": {},
            "execution_count": null,
            "source": "import numpy as np\nimport numpy.ma as ma",
            "outputs": []
        },
        {
            "id": "cf57e49a",
            "cell_type": "markdown",
            "source": "To create an array with the second element invalid, we would do\n```\n\n```",
            "metadata": {}
        },
        {
            "id": "4bc5c500",
            "cell_type": "code",
            "metadata": {},
            "execution_count": null,
            "source": "y = ma.array([1, 2, 3], mask = [0, 1, 0])",
            "outputs": []
        },
        {
            "id": "a974c21a",
            "cell_type": "markdown",
            "source": "To create a masked array where all values close to 1.e20 are invalid, we would\ndo:\n",
            "metadata": {}
        },
        {
            "id": "8dc0733a",
            "cell_type": "code",
            "metadata": {},
            "execution_count": null,
            "source": "z = ma.masked_values([1.0, 1.e20, 3.0, 4.0], 1.e20)",
            "outputs": []
        }
    ]
}