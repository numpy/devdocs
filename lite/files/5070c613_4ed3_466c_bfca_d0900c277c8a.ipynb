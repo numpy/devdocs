{
    "nbformat": 4,
    "nbformat_minor": 5,
    "metadata": {
        "kernelspec": {
            "display_name": "Python",
            "language": "python",
            "name": "python"
        },
        "language_info": {
            "name": "python"
        }
    },
    "cells": [
        {
            "id": "682137ae",
            "cell_type": "markdown",
            "source": "<div class='alert alert-warning'>\n\nNumPy's interactive examples are experimental and may not always work as expected, with high load times especially on low-resource platforms, and the version of NumPy might not be in sync with the one you are browsing the documentation for. If you encounter any issues, please report them on the [NumPy issue tracker](https://github.com/numpy/numpy/issues).\n\n</div>",
            "metadata": {}
        },
        {
            "id": "9f46a33a",
            "cell_type": "markdown",
            "source": "Construct an ndarray:\n",
            "metadata": {}
        },
        {
            "id": "915a3a4e",
            "cell_type": "code",
            "metadata": {},
            "execution_count": null,
            "source": "import numpy as np\ndt = np.dtype([('time', [('min', np.int64), ('sec', np.int64)]),\n               ('temp', float)])\nx = np.zeros((1,), dtype=dt)\nx['time']['min'] = 10; x['temp'] = 98.25\nx",
            "outputs": [
                {
                    "output_type": "execute_result",
                    "metadata": {},
                    "data": {
                        "text/plain": "array([((10, 0), 98.25)],\n      dtype=[('time', [('min', '<i8'), ('sec', '<i8')]), ('temp', '<f8')])"
                    },
                    "execution_count": null
                }
            ]
        },
        {
            "id": "ea19123a",
            "cell_type": "markdown",
            "source": "Save the raw data to disk:\n",
            "metadata": {}
        },
        {
            "id": "954af9e2",
            "cell_type": "code",
            "metadata": {},
            "execution_count": null,
            "source": "import tempfile\nfname = tempfile.mkstemp()[1]\nx.tofile(fname)",
            "outputs": []
        },
        {
            "id": "e20e6af5",
            "cell_type": "markdown",
            "source": "Read the raw data from disk:\n",
            "metadata": {}
        },
        {
            "id": "677b9589",
            "cell_type": "code",
            "metadata": {},
            "execution_count": null,
            "source": "np.fromfile(fname, dtype=dt)",
            "outputs": [
                {
                    "output_type": "execute_result",
                    "metadata": {},
                    "data": {
                        "text/plain": "array([((10, 0), 98.25)],\n      dtype=[('time', [('min', '<i8'), ('sec', '<i8')]), ('temp', '<f8')])"
                    },
                    "execution_count": null
                }
            ]
        },
        {
            "id": "15908f40",
            "cell_type": "markdown",
            "source": "The recommended way to store and load data:\n",
            "metadata": {}
        },
        {
            "id": "0a9fab69",
            "cell_type": "code",
            "metadata": {},
            "execution_count": null,
            "source": "np.save(fname, x)\nnp.load(fname + '.npy')",
            "outputs": [
                {
                    "output_type": "execute_result",
                    "metadata": {},
                    "data": {
                        "text/plain": "array([((10, 0), 98.25)],\n      dtype=[('time', [('min', '<i8'), ('sec', '<i8')]), ('temp', '<f8')])"
                    },
                    "execution_count": null
                }
            ]
        }
    ]
}