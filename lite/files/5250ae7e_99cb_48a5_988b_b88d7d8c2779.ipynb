{
    "nbformat": 4,
    "nbformat_minor": 5,
    "metadata": {
        "kernelspec": {
            "display_name": "Python",
            "language": "python",
            "name": "python"
        },
        "language_info": {
            "name": "python"
        }
    },
    "cells": [
        {
            "id": "65ee4ef7",
            "cell_type": "markdown",
            "source": "<div class='alert alert-warning'>\n\nNumPy's interactive examples are experimental and may not always work as expected, with high load times especially on low-resource platforms, and the version of NumPy might not be in sync with the one you are browsing the documentation for. If you encounter any issues, please report them on the [NumPy issue tracker](https://github.com/numpy/numpy/issues).\n\n</div>",
            "metadata": {}
        },
        {
            "id": "fc58957e",
            "cell_type": "code",
            "metadata": {},
            "execution_count": null,
            "source": "import numpy as np\nnp.count_nonzero(np.eye(4))",
            "outputs": [
                {
                    "output_type": "execute_result",
                    "metadata": {},
                    "data": {
                        "text/plain": "np.int64(4)"
                    },
                    "execution_count": null
                }
            ]
        },
        {
            "id": "ba1c9016",
            "cell_type": "code",
            "metadata": {},
            "execution_count": null,
            "source": "a = np.array([[0, 1, 7, 0],\n              [3, 0, 2, 19]])\nnp.count_nonzero(a)",
            "outputs": [
                {
                    "output_type": "execute_result",
                    "metadata": {},
                    "data": {
                        "text/plain": "np.int64(5)"
                    },
                    "execution_count": null
                }
            ]
        },
        {
            "id": "95dd9700",
            "cell_type": "code",
            "metadata": {},
            "execution_count": null,
            "source": "np.count_nonzero(a, axis=0)",
            "outputs": [
                {
                    "output_type": "execute_result",
                    "metadata": {},
                    "data": {
                        "text/plain": "array([1, 1, 2, 1])"
                    },
                    "execution_count": null
                }
            ]
        },
        {
            "id": "8494e58e",
            "cell_type": "code",
            "metadata": {},
            "execution_count": null,
            "source": "np.count_nonzero(a, axis=1)",
            "outputs": [
                {
                    "output_type": "execute_result",
                    "metadata": {},
                    "data": {
                        "text/plain": "array([2, 3])"
                    },
                    "execution_count": null
                }
            ]
        },
        {
            "id": "db5a8f01",
            "cell_type": "code",
            "metadata": {},
            "execution_count": null,
            "source": "np.count_nonzero(a, axis=1, keepdims=True)",
            "outputs": [
                {
                    "output_type": "execute_result",
                    "metadata": {},
                    "data": {
                        "text/plain": "array([[2],\n       [3]])"
                    },
                    "execution_count": null
                }
            ]
        }
    ]
}