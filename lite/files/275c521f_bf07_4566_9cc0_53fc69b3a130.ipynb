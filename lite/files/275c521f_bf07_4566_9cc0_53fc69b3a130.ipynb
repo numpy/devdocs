{
    "nbformat": 4,
    "nbformat_minor": 5,
    "metadata": {
        "kernelspec": {
            "display_name": "Python",
            "language": "python",
            "name": "python"
        },
        "language_info": {
            "name": "python"
        }
    },
    "cells": [
        {
            "id": "6077bef9",
            "cell_type": "markdown",
            "source": "<div class='alert alert-warning'>\n\nNumPy's interactive examples are experimental and may not always work as expected, with high load times especially on low-resource platforms, and the version of NumPy might not be in sync with the one you are browsing the documentation for. If you encounter any issues, please report them on the [NumPy issue tracker](https://github.com/numpy/numpy/issues).\n\n</div>",
            "metadata": {}
        },
        {
            "id": "afc39529",
            "cell_type": "code",
            "metadata": {},
            "execution_count": null,
            "source": "np.random.standard_normal()",
            "outputs": [
                {
                    "output_type": "execute_result",
                    "metadata": {},
                    "data": {
                        "text/plain": "2.1923875335537315 #random"
                    },
                    "execution_count": null
                }
            ]
        },
        {
            "id": "1197ae29",
            "cell_type": "code",
            "metadata": {},
            "execution_count": null,
            "source": "s = np.random.standard_normal(8000)\ns",
            "outputs": [
                {
                    "output_type": "execute_result",
                    "metadata": {},
                    "data": {
                        "text/plain": "array([ 0.6888893 ,  0.78096262, -0.89086505, ...,  0.49876311,  # random\n       -0.38672696, -0.4685006 ])                                # random"
                    },
                    "execution_count": null
                }
            ]
        },
        {
            "id": "cbd8e9d9",
            "cell_type": "code",
            "metadata": {},
            "execution_count": null,
            "source": "s.shape",
            "outputs": [
                {
                    "output_type": "execute_result",
                    "metadata": {},
                    "data": {
                        "text/plain": "(8000,)"
                    },
                    "execution_count": null
                }
            ]
        },
        {
            "id": "3618c419",
            "cell_type": "code",
            "metadata": {},
            "execution_count": null,
            "source": "s = np.random.standard_normal(size=(3, 4, 2))\ns.shape",
            "outputs": [
                {
                    "output_type": "execute_result",
                    "metadata": {},
                    "data": {
                        "text/plain": "(3, 4, 2)"
                    },
                    "execution_count": null
                }
            ]
        },
        {
            "id": "83b4c12d",
            "cell_type": "markdown",
            "source": "Two-by-four array of samples from the normal distribution with\nmean 3 and standard deviation 2.5:\n",
            "metadata": {}
        },
        {
            "id": "dfbcb29b",
            "cell_type": "code",
            "metadata": {},
            "execution_count": null,
            "source": "3 + 2.5 * np.random.standard_normal(size=(2, 4))",
            "outputs": [
                {
                    "output_type": "execute_result",
                    "metadata": {},
                    "data": {
                        "text/plain": "array([[-4.49401501,  4.00950034, -1.81814867,  7.29718677],   # random\n       [ 0.39924804,  4.68456316,  4.99394529,  4.84057254]])  # random"
                    },
                    "execution_count": null
                }
            ]
        }
    ]
}