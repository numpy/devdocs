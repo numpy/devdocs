{
    "nbformat": 4,
    "nbformat_minor": 5,
    "metadata": {
        "kernelspec": {
            "display_name": "Python",
            "language": "python",
            "name": "python"
        },
        "language_info": {
            "name": "python"
        }
    },
    "cells": [
        {
            "id": "49097047",
            "cell_type": "markdown",
            "source": "<div class='alert alert-warning'>\n\nNumPy's interactive examples are experimental and may not always work as expected, with high load times especially on low-resource platforms, and the version of NumPy might not be in sync with the one you are browsing the documentation for. If you encounter any issues, please report them on the [NumPy issue tracker](https://github.com/numpy/numpy/issues).\n\n</div>",
            "metadata": {}
        },
        {
            "id": "b405e889",
            "cell_type": "code",
            "metadata": {},
            "execution_count": null,
            "source": "import numpy as np\na = [1, 2, 3, 4, 5]\nnp.pad(a, (2, 3), 'constant', constant_values=(4, 6))",
            "outputs": [
                {
                    "output_type": "execute_result",
                    "metadata": {},
                    "data": {
                        "text/plain": "array([4, 4, 1, ..., 6, 6, 6])"
                    },
                    "execution_count": null
                }
            ]
        },
        {
            "id": "696de397",
            "cell_type": "code",
            "metadata": {},
            "execution_count": null,
            "source": "np.pad(a, (2, 3), 'edge')",
            "outputs": [
                {
                    "output_type": "execute_result",
                    "metadata": {},
                    "data": {
                        "text/plain": "array([1, 1, 1, ..., 5, 5, 5])"
                    },
                    "execution_count": null
                }
            ]
        },
        {
            "id": "f53514df",
            "cell_type": "code",
            "metadata": {},
            "execution_count": null,
            "source": "np.pad(a, (2, 3), 'linear_ramp', end_values=(5, -4))",
            "outputs": [
                {
                    "output_type": "execute_result",
                    "metadata": {},
                    "data": {
                        "text/plain": "array([ 5,  3,  1,  2,  3,  4,  5,  2, -1, -4])"
                    },
                    "execution_count": null
                }
            ]
        },
        {
            "id": "78d63f5c",
            "cell_type": "code",
            "metadata": {},
            "execution_count": null,
            "source": "np.pad(a, (2,), 'maximum')",
            "outputs": [
                {
                    "output_type": "execute_result",
                    "metadata": {},
                    "data": {
                        "text/plain": "array([5, 5, 1, 2, 3, 4, 5, 5, 5])"
                    },
                    "execution_count": null
                }
            ]
        },
        {
            "id": "b142f782",
            "cell_type": "code",
            "metadata": {},
            "execution_count": null,
            "source": "np.pad(a, (2,), 'mean')",
            "outputs": [
                {
                    "output_type": "execute_result",
                    "metadata": {},
                    "data": {
                        "text/plain": "array([3, 3, 1, 2, 3, 4, 5, 3, 3])"
                    },
                    "execution_count": null
                }
            ]
        },
        {
            "id": "7043573d",
            "cell_type": "code",
            "metadata": {},
            "execution_count": null,
            "source": "np.pad(a, (2,), 'median')",
            "outputs": [
                {
                    "output_type": "execute_result",
                    "metadata": {},
                    "data": {
                        "text/plain": "array([3, 3, 1, 2, 3, 4, 5, 3, 3])"
                    },
                    "execution_count": null
                }
            ]
        },
        {
            "id": "e9ae667d",
            "cell_type": "code",
            "metadata": {},
            "execution_count": null,
            "source": "a = [[1, 2], [3, 4]]\nnp.pad(a, ((3, 2), (2, 3)), 'minimum')",
            "outputs": [
                {
                    "output_type": "execute_result",
                    "metadata": {},
                    "data": {
                        "text/plain": "array([[1, 1, 1, 2, 1, 1, 1],\n       [1, 1, 1, 2, 1, 1, 1],\n       [1, 1, 1, 2, 1, 1, 1],\n       [1, 1, 1, 2, 1, 1, 1],\n       [3, 3, 3, 4, 3, 3, 3],\n       [1, 1, 1, 2, 1, 1, 1],\n       [1, 1, 1, 2, 1, 1, 1]])"
                    },
                    "execution_count": null
                }
            ]
        },
        {
            "id": "d40da28f",
            "cell_type": "code",
            "metadata": {},
            "execution_count": null,
            "source": "a = [1, 2, 3, 4, 5]\nnp.pad(a, (2, 3), 'reflect')",
            "outputs": [
                {
                    "output_type": "execute_result",
                    "metadata": {},
                    "data": {
                        "text/plain": "array([3, 2, 1, 2, 3, 4, 5, 4, 3, 2])"
                    },
                    "execution_count": null
                }
            ]
        },
        {
            "id": "78d56c14",
            "cell_type": "code",
            "metadata": {},
            "execution_count": null,
            "source": "np.pad(a, (2, 3), 'reflect', reflect_type='odd')",
            "outputs": [
                {
                    "output_type": "execute_result",
                    "metadata": {},
                    "data": {
                        "text/plain": "array([-1,  0,  1,  2,  3,  4,  5,  6,  7,  8])"
                    },
                    "execution_count": null
                }
            ]
        },
        {
            "id": "90222aac",
            "cell_type": "code",
            "metadata": {},
            "execution_count": null,
            "source": "np.pad(a, (2, 3), 'symmetric')",
            "outputs": [
                {
                    "output_type": "execute_result",
                    "metadata": {},
                    "data": {
                        "text/plain": "array([2, 1, 1, 2, 3, 4, 5, 5, 4, 3])"
                    },
                    "execution_count": null
                }
            ]
        },
        {
            "id": "6528e045",
            "cell_type": "code",
            "metadata": {},
            "execution_count": null,
            "source": "np.pad(a, (2, 3), 'symmetric', reflect_type='odd')",
            "outputs": [
                {
                    "output_type": "execute_result",
                    "metadata": {},
                    "data": {
                        "text/plain": "array([0, 1, 1, 2, 3, 4, 5, 5, 6, 7])"
                    },
                    "execution_count": null
                }
            ]
        },
        {
            "id": "9db2cc98",
            "cell_type": "code",
            "metadata": {},
            "execution_count": null,
            "source": "np.pad(a, (2, 3), 'wrap')",
            "outputs": [
                {
                    "output_type": "execute_result",
                    "metadata": {},
                    "data": {
                        "text/plain": "array([4, 5, 1, 2, 3, 4, 5, 1, 2, 3])"
                    },
                    "execution_count": null
                }
            ]
        },
        {
            "id": "499840f8",
            "cell_type": "code",
            "metadata": {},
            "execution_count": null,
            "source": "def pad_with(vector, pad_width, iaxis, kwargs):\n    pad_value = kwargs.get('padder', 10)\n    vector[:pad_width[0]] = pad_value\n    vector[-pad_width[1]:] = pad_value\na = np.arange(6)\na = a.reshape((2, 3))\nnp.pad(a, 2, pad_with)",
            "outputs": [
                {
                    "output_type": "execute_result",
                    "metadata": {},
                    "data": {
                        "text/plain": "array([[10, 10, 10, 10, 10, 10, 10],\n       [10, 10, 10, 10, 10, 10, 10],\n       [10, 10,  0,  1,  2, 10, 10],\n       [10, 10,  3,  4,  5, 10, 10],\n       [10, 10, 10, 10, 10, 10, 10],\n       [10, 10, 10, 10, 10, 10, 10]])"
                    },
                    "execution_count": null
                }
            ]
        },
        {
            "id": "3ee24a5b",
            "cell_type": "code",
            "metadata": {},
            "execution_count": null,
            "source": "np.pad(a, 2, pad_with, padder=100)",
            "outputs": [
                {
                    "output_type": "execute_result",
                    "metadata": {},
                    "data": {
                        "text/plain": "array([[100, 100, 100, 100, 100, 100, 100],\n       [100, 100, 100, 100, 100, 100, 100],\n       [100, 100,   0,   1,   2, 100, 100],\n       [100, 100,   3,   4,   5, 100, 100],\n       [100, 100, 100, 100, 100, 100, 100],\n       [100, 100, 100, 100, 100, 100, 100]])"
                    },
                    "execution_count": null
                }
            ]
        },
        {
            "id": "7d65fdae",
            "cell_type": "code",
            "metadata": {},
            "execution_count": null,
            "source": "a = np.arange(1, 7).reshape(2, 3)\nnp.pad(a, {1: (1, 2)})",
            "outputs": [
                {
                    "output_type": "execute_result",
                    "metadata": {},
                    "data": {
                        "text/plain": "array([[0, 1, 2, 3, 0, 0],\n       [0, 4, 5, 6, 0, 0]])"
                    },
                    "execution_count": null
                }
            ]
        },
        {
            "id": "b4d55be3",
            "cell_type": "code",
            "metadata": {},
            "execution_count": null,
            "source": "np.pad(a, {-1: 2})",
            "outputs": [
                {
                    "output_type": "execute_result",
                    "metadata": {},
                    "data": {
                        "text/plain": "array([[0, 0, 1, 2, 3, 0, 0],\n       [0, 0, 4, 5, 6, 0, 0]])"
                    },
                    "execution_count": null
                }
            ]
        },
        {
            "id": "61f87e1e",
            "cell_type": "code",
            "metadata": {},
            "execution_count": null,
            "source": "np.pad(a, {0: (3, 0)})",
            "outputs": [
                {
                    "output_type": "execute_result",
                    "metadata": {},
                    "data": {
                        "text/plain": "array([[0, 0, 0],\n       [0, 0, 0],\n       [0, 0, 0],\n       [1, 2, 3],\n       [4, 5, 6]])"
                    },
                    "execution_count": null
                }
            ]
        },
        {
            "id": "45d2c246",
            "cell_type": "code",
            "metadata": {},
            "execution_count": null,
            "source": "np.pad(a, {0: (3, 0), 1: 2})",
            "outputs": [
                {
                    "output_type": "execute_result",
                    "metadata": {},
                    "data": {
                        "text/plain": "array([[0, 0, 0, 0, 0, 0, 0],\n       [0, 0, 0, 0, 0, 0, 0],\n       [0, 0, 0, 0, 0, 0, 0],\n       [0, 0, 1, 2, 3, 0, 0],\n       [0, 0, 4, 5, 6, 0, 0]])"
                    },
                    "execution_count": null
                }
            ]
        }
    ]
}