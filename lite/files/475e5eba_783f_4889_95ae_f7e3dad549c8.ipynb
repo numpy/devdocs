{
    "nbformat": 4,
    "nbformat_minor": 5,
    "metadata": {
        "kernelspec": {
            "display_name": "Python",
            "language": "python",
            "name": "python"
        },
        "language_info": {
            "name": "python"
        }
    },
    "cells": [
        {
            "id": "48880de9",
            "cell_type": "markdown",
            "source": "<div class='alert alert-warning'>\n\nNumPy's interactive examples are experimental and may not always work as expected, with high load times especially on low-resource platforms, and the version of NumPy might not be in sync with the one you are browsing the documentation for. If you encounter any issues, please report them on the [NumPy issue tracker](https://github.com/numpy/numpy/issues).\n\n</div>",
            "metadata": {}
        },
        {
            "id": "8817a3dc",
            "cell_type": "code",
            "metadata": {},
            "execution_count": null,
            "source": "import numpy as np\nimport numpy.ma as ma\na = ma.masked_values([1, 2, 3], 2)\nb = ma.masked_values([[4, 5, 6], [7, 8, 9]], 7)\nma.append(a, b)",
            "outputs": [
                {
                    "output_type": "execute_result",
                    "metadata": {},
                    "data": {
                        "text/plain": "masked_array(data=[1, --, 3, 4, 5, 6, --, 8, 9],\n             mask=[False,  True, False, False, False, False,  True, False,\n                   False],\n       fill_value=999999)"
                    },
                    "execution_count": null
                }
            ]
        }
    ]
}