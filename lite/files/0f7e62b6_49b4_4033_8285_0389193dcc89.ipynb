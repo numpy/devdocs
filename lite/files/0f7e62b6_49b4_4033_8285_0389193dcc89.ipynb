{
    "nbformat": 4,
    "nbformat_minor": 5,
    "metadata": {
        "kernelspec": {
            "display_name": "Python",
            "language": "python",
            "name": "python"
        },
        "language_info": {
            "name": "python"
        }
    },
    "cells": [
        {
            "id": "b614cac4",
            "cell_type": "markdown",
            "source": "<div class='alert alert-warning'>\n\nNumPy's interactive examples are experimental and may not always work as expected, with high load times especially on low-resource platforms, and the version of NumPy might not be in sync with the one you are browsing the documentation for. If you encounter any issues, please report them on the [NumPy issue tracker](https://github.com/numpy/numpy/issues).\n\n</div>",
            "metadata": {}
        },
        {
            "id": "46b6597e",
            "cell_type": "code",
            "metadata": {},
            "execution_count": null,
            "source": "import numpy as np\ncharar = np.char.chararray((3, 3))\ncharar[:] = 'a'\ncharar",
            "outputs": [
                {
                    "output_type": "execute_result",
                    "metadata": {},
                    "data": {
                        "text/plain": "chararray([[b'a', b'a', b'a'],\n           [b'a', b'a', b'a'],\n           [b'a', b'a', b'a']], dtype='|S1')"
                    },
                    "execution_count": null
                }
            ]
        },
        {
            "id": "bf93fb31",
            "cell_type": "code",
            "metadata": {},
            "execution_count": null,
            "source": "charar = np.char.chararray(charar.shape, itemsize=5)\ncharar[:] = 'abc'\ncharar",
            "outputs": [
                {
                    "output_type": "execute_result",
                    "metadata": {},
                    "data": {
                        "text/plain": "chararray([[b'abc', b'abc', b'abc'],\n           [b'abc', b'abc', b'abc'],\n           [b'abc', b'abc', b'abc']], dtype='|S5')"
                    },
                    "execution_count": null
                }
            ]
        }
    ]
}