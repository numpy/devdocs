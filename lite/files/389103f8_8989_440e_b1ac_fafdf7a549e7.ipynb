{
    "nbformat": 4,
    "nbformat_minor": 5,
    "metadata": {
        "kernelspec": {
            "display_name": "Python",
            "language": "python",
            "name": "python"
        },
        "language_info": {
            "name": "python"
        }
    },
    "cells": [
        {
            "id": "7fec07c6",
            "cell_type": "markdown",
            "source": "<div class='alert alert-warning'>\n\nNumPy's interactive examples are experimental and may not always work as expected, with high load times especially on low-resource platforms, and the version of NumPy might not be in sync with the one you are browsing the documentation for. If you encounter any issues, please report them on the [NumPy issue tracker](https://github.com/numpy/numpy/issues).\n\n</div>",
            "metadata": {}
        },
        {
            "id": "711055b3",
            "cell_type": "code",
            "metadata": {},
            "execution_count": null,
            "source": "import warnings\ndef deprecated_func(num):\n    warnings.warn(\"Please upgrade\", DeprecationWarning)\n    return num*num\nwith np.testing.assert_warns(DeprecationWarning):\n    assert deprecated_func(4) == 16\n# or passing a func\nret = np.testing.assert_warns(DeprecationWarning, deprecated_func, 4)\nassert ret == 16",
            "outputs": []
        }
    ]
}