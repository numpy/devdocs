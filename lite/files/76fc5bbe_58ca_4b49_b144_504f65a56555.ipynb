{
    "nbformat": 4,
    "nbformat_minor": 5,
    "metadata": {
        "kernelspec": {
            "display_name": "Python",
            "language": "python",
            "name": "python"
        },
        "language_info": {
            "name": "python"
        }
    },
    "cells": [
        {
            "id": "4a1f792c",
            "cell_type": "markdown",
            "source": "<div class='alert alert-warning'>\n\nNumPy's interactive examples are experimental and may not always work as expected, with high load times especially on low-resource platforms, and the version of NumPy might not be in sync with the one you are browsing the documentation for. If you encounter any issues, please report them on the [NumPy issue tracker](https://github.com/numpy/numpy/issues).\n\n</div>",
            "metadata": {}
        },
        {
            "id": "8c1abf25",
            "cell_type": "code",
            "metadata": {},
            "execution_count": null,
            "source": "x = ma.array([1, 2, 3])\nx[0] = ma.masked\nx",
            "outputs": [
                {
                    "output_type": "execute_result",
                    "metadata": {},
                    "data": {
                        "text/plain": "masked_array(data=[--, 2, 3],\n             mask=[ True, False, False],\n       fill_value=999999)"
                    },
                    "execution_count": null
                }
            ]
        },
        {
            "id": "76b91091",
            "cell_type": "code",
            "metadata": {},
            "execution_count": null,
            "source": "y = ma.array([[1, 2, 3], [4, 5, 6], [7, 8, 9]])\ny[(0, 1, 2), (1, 2, 0)] = ma.masked\ny",
            "outputs": [
                {
                    "output_type": "execute_result",
                    "metadata": {},
                    "data": {
                        "text/plain": "masked_array(\n  data=[[1, --, 3],\n        [4, 5, --],\n        [--, 8, 9]],\n  mask=[[False,  True, False],\n        [False, False,  True],\n        [ True, False, False]],\n  fill_value=999999)"
                    },
                    "execution_count": null
                }
            ]
        },
        {
            "id": "048c313c",
            "cell_type": "code",
            "metadata": {},
            "execution_count": null,
            "source": "z = ma.array([1, 2, 3, 4])\nz[:-2] = ma.masked\nz",
            "outputs": [
                {
                    "output_type": "execute_result",
                    "metadata": {},
                    "data": {
                        "text/plain": "masked_array(data=[--, --, 3, 4],\n             mask=[ True,  True, False, False],\n       fill_value=999999)"
                    },
                    "execution_count": null
                }
            ]
        }
    ]
}