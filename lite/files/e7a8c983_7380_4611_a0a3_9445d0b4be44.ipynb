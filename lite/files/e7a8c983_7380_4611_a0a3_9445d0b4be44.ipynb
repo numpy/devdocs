{
    "nbformat": 4,
    "nbformat_minor": 5,
    "metadata": {
        "kernelspec": {
            "display_name": "Python",
            "language": "python",
            "name": "python"
        },
        "language_info": {
            "name": "python"
        }
    },
    "cells": [
        {
            "id": "61607587",
            "cell_type": "markdown",
            "source": "<div class='alert alert-warning'>\n\nNumPy's interactive examples are experimental and may not always work as expected, with high load times especially on low-resource platforms, and the version of NumPy might not be in sync with the one you are browsing the documentation for. If you encounter any issues, please report them on the [NumPy issue tracker](https://github.com/numpy/numpy/issues).\n\n</div>",
            "metadata": {}
        },
        {
            "id": "81ec1f02",
            "cell_type": "code",
            "metadata": {},
            "execution_count": null,
            "source": "import numpy as np\nx = np.array([(-1, 2)], dtype=[('a', np.int8), ('b', np.int8)])",
            "outputs": []
        },
        {
            "id": "300726a7",
            "cell_type": "markdown",
            "source": "Viewing array data using a different type and dtype:\n",
            "metadata": {}
        },
        {
            "id": "acef091d",
            "cell_type": "code",
            "metadata": {},
            "execution_count": null,
            "source": "nonneg = np.dtype([(\"a\", np.uint8), (\"b\", np.uint8)])\ny = x.view(dtype=nonneg, type=np.recarray)\nx[\"a\"]",
            "outputs": [
                {
                    "output_type": "execute_result",
                    "metadata": {},
                    "data": {
                        "text/plain": "array([-1], dtype=int8)"
                    },
                    "execution_count": null
                }
            ]
        },
        {
            "id": "75952611",
            "cell_type": "code",
            "metadata": {},
            "execution_count": null,
            "source": "y.a",
            "outputs": [
                {
                    "output_type": "execute_result",
                    "metadata": {},
                    "data": {
                        "text/plain": "array([255], dtype=uint8)"
                    },
                    "execution_count": null
                }
            ]
        },
        {
            "id": "00e0ebd8",
            "cell_type": "markdown",
            "source": "Creating a view on a structured array so it can be used in calculations\n",
            "metadata": {}
        },
        {
            "id": "44499fca",
            "cell_type": "code",
            "metadata": {},
            "execution_count": null,
            "source": "x = np.array([(1, 2),(3,4)], dtype=[('a', np.int8), ('b', np.int8)])\nxv = x.view(dtype=np.int8).reshape(-1,2)\nxv",
            "outputs": [
                {
                    "output_type": "execute_result",
                    "metadata": {},
                    "data": {
                        "text/plain": "array([[1, 2],\n       [3, 4]], dtype=int8)"
                    },
                    "execution_count": null
                }
            ]
        },
        {
            "id": "34588b09",
            "cell_type": "code",
            "metadata": {},
            "execution_count": null,
            "source": "xv.mean(0)",
            "outputs": [
                {
                    "output_type": "execute_result",
                    "metadata": {},
                    "data": {
                        "text/plain": "array([2.,  3.])"
                    },
                    "execution_count": null
                }
            ]
        },
        {
            "id": "1a11ab54",
            "cell_type": "markdown",
            "source": "Making changes to the view changes the underlying array\n",
            "metadata": {}
        },
        {
            "id": "99ee9d8a",
            "cell_type": "code",
            "metadata": {},
            "execution_count": null,
            "source": "xv[0,1] = 20\nx",
            "outputs": [
                {
                    "output_type": "execute_result",
                    "metadata": {},
                    "data": {
                        "text/plain": "array([(1, 20), (3,  4)], dtype=[('a', 'i1'), ('b', 'i1')])"
                    },
                    "execution_count": null
                }
            ]
        },
        {
            "id": "26e47907",
            "cell_type": "markdown",
            "source": "Using a view to convert an array to a recarray:\n",
            "metadata": {}
        },
        {
            "id": "9eb34a9b",
            "cell_type": "code",
            "metadata": {},
            "execution_count": null,
            "source": "z = x.view(np.recarray)\nz.a",
            "outputs": [
                {
                    "output_type": "execute_result",
                    "metadata": {},
                    "data": {
                        "text/plain": "array([1, 3], dtype=int8)"
                    },
                    "execution_count": null
                }
            ]
        },
        {
            "id": "9b2e8683",
            "cell_type": "markdown",
            "source": "Views share data:\n",
            "metadata": {}
        },
        {
            "id": "8c75299b",
            "cell_type": "code",
            "metadata": {},
            "execution_count": null,
            "source": "x[0] = (9, 10)\nz[0]",
            "outputs": [
                {
                    "output_type": "execute_result",
                    "metadata": {},
                    "data": {
                        "text/plain": "np.record((9, 10), dtype=[('a', 'i1'), ('b', 'i1')])"
                    },
                    "execution_count": null
                }
            ]
        },
        {
            "id": "fbbadce0",
            "cell_type": "markdown",
            "source": "Views that change the dtype size (bytes per entry) should normally be\navoided on arrays defined by slices, transposes, fortran-ordering, etc.:\n",
            "metadata": {}
        },
        {
            "id": "9443a33a",
            "cell_type": "code",
            "metadata": {},
            "execution_count": null,
            "source": "x = np.array([[1, 2, 3], [4, 5, 6]], dtype=np.int16)\ny = x[:, ::2]\ny",
            "outputs": [
                {
                    "output_type": "execute_result",
                    "metadata": {},
                    "data": {
                        "text/plain": "array([[1, 3],\n       [4, 6]], dtype=int16)"
                    },
                    "execution_count": null
                }
            ]
        },
        {
            "id": "39ca85eb",
            "cell_type": "code",
            "metadata": {},
            "execution_count": null,
            "source": "y.view(dtype=[('width', np.int16), ('length', np.int16)])",
            "outputs": [
                {
                    "output_type": "execute_result",
                    "metadata": {},
                    "data": {
                        "text/plain": "Traceback (most recent call last):\n    ...\nValueError: To change to a dtype of a different size, the last axis must be contiguous"
                    },
                    "execution_count": null
                }
            ]
        },
        {
            "id": "ca0d2e52",
            "cell_type": "code",
            "metadata": {},
            "execution_count": null,
            "source": "z = y.copy()\nz.view(dtype=[('width', np.int16), ('length', np.int16)])",
            "outputs": [
                {
                    "output_type": "execute_result",
                    "metadata": {},
                    "data": {
                        "text/plain": "array([[(1, 3)],\n       [(4, 6)]], dtype=[('width', '<i2'), ('length', '<i2')])"
                    },
                    "execution_count": null
                }
            ]
        },
        {
            "id": "58abd023",
            "cell_type": "markdown",
            "source": "However, views that change dtype are totally fine for arrays with a\ncontiguous last axis, even if the rest of the axes are not C-contiguous:\n",
            "metadata": {}
        },
        {
            "id": "dd845955",
            "cell_type": "code",
            "metadata": {},
            "execution_count": null,
            "source": "x = np.arange(2 * 3 * 4, dtype=np.int8).reshape(2, 3, 4)\nx.transpose(1, 0, 2).view(np.int16)",
            "outputs": [
                {
                    "output_type": "execute_result",
                    "metadata": {},
                    "data": {
                        "text/plain": "array([[[ 256,  770],\n        [3340, 3854]],\n<BLANKLINE>\n       [[1284, 1798],\n        [4368, 4882]],\n<BLANKLINE>\n       [[2312, 2826],\n        [5396, 5910]]], dtype=int16)"
                    },
                    "execution_count": null
                }
            ]
        }
    ]
}