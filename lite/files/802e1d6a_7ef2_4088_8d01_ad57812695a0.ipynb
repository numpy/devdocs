{
    "nbformat": 4,
    "nbformat_minor": 5,
    "metadata": {
        "kernelspec": {
            "display_name": "Python",
            "language": "python",
            "name": "python"
        },
        "language_info": {
            "name": "python"
        }
    },
    "cells": [
        {
            "id": "3976421b",
            "cell_type": "markdown",
            "source": "<div class='alert alert-warning'>\n\nNumPy's interactive examples are experimental and may not always work as expected, with high load times especially on low-resource platforms, and the version of NumPy might not be in sync with the one you are browsing the documentation for. If you encounter any issues, please report them on the [NumPy issue tracker](https://github.com/numpy/numpy/issues).\n\n</div>",
            "metadata": {}
        },
        {
            "id": "5194b5a5",
            "cell_type": "code",
            "metadata": {},
            "execution_count": null,
            "source": "import numpy as np\nx = np.arange(6).reshape(2, 3)\nnp.putmask(x, x>2, x**2)\nx",
            "outputs": [
                {
                    "output_type": "execute_result",
                    "metadata": {},
                    "data": {
                        "text/plain": "array([[ 0,  1,  2],\n       [ 9, 16, 25]])"
                    },
                    "execution_count": null
                }
            ]
        },
        {
            "id": "85654c11",
            "cell_type": "markdown",
            "source": "If `values` is smaller than `a` it is repeated:\n",
            "metadata": {}
        },
        {
            "id": "eeafd046",
            "cell_type": "code",
            "metadata": {},
            "execution_count": null,
            "source": "x = np.arange(5)\nnp.putmask(x, x>1, [-33, -44])\nx",
            "outputs": [
                {
                    "output_type": "execute_result",
                    "metadata": {},
                    "data": {
                        "text/plain": "array([  0,   1, -33, -44, -33])"
                    },
                    "execution_count": null
                }
            ]
        }
    ]
}