{
    "nbformat": 4,
    "nbformat_minor": 5,
    "metadata": {
        "kernelspec": {
            "display_name": "Python",
            "language": "python",
            "name": "python"
        },
        "language_info": {
            "name": "python"
        }
    },
    "cells": [
        {
            "id": "43ed06d5",
            "cell_type": "markdown",
            "source": "<div class='alert alert-warning'>\n\nNumPy's interactive examples are experimental and may not always work as expected, with high load times especially on low-resource platforms, and the version of NumPy might not be in sync with the one you are browsing the documentation for. If you encounter any issues, please report them on the [NumPy issue tracker](https://github.com/numpy/numpy/issues).\n\n</div>",
            "metadata": {}
        },
        {
            "id": "fa65a452",
            "cell_type": "code",
            "metadata": {},
            "execution_count": null,
            "source": "import numpy as np\nnp.polymul([1, 2, 3], [9, 5, 1])",
            "outputs": [
                {
                    "output_type": "execute_result",
                    "metadata": {},
                    "data": {
                        "text/plain": "array([ 9, 23, 38, 17,  3])"
                    },
                    "execution_count": null
                }
            ]
        },
        {
            "id": "bc7c15f5",
            "cell_type": "markdown",
            "source": "Using poly1d objects:\n",
            "metadata": {}
        },
        {
            "id": "d799fdfc",
            "cell_type": "code",
            "metadata": {},
            "execution_count": null,
            "source": "p1 = np.poly1d([1, 2, 3])\np2 = np.poly1d([9, 5, 1])\nprint(p1)",
            "outputs": [
                {
                    "output_type": "execute_result",
                    "metadata": {},
                    "data": {
                        "text/plain": "   2\n1 x + 2 x + 3"
                    },
                    "execution_count": null
                }
            ]
        },
        {
            "id": "f6d669b9",
            "cell_type": "code",
            "metadata": {},
            "execution_count": null,
            "source": "print(p2)",
            "outputs": [
                {
                    "output_type": "execute_result",
                    "metadata": {},
                    "data": {
                        "text/plain": "   2\n9 x + 5 x + 1"
                    },
                    "execution_count": null
                }
            ]
        },
        {
            "id": "c2c9bf1a",
            "cell_type": "code",
            "metadata": {},
            "execution_count": null,
            "source": "print(np.polymul(p1, p2))",
            "outputs": [
                {
                    "output_type": "execute_result",
                    "metadata": {},
                    "data": {
                        "text/plain": "   4      3      2\n9 x + 23 x + 38 x + 17 x + 3"
                    },
                    "execution_count": null
                }
            ]
        }
    ]
}