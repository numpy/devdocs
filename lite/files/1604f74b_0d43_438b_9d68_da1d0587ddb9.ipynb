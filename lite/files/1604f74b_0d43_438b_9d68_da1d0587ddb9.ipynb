{
    "nbformat": 4,
    "nbformat_minor": 5,
    "metadata": {
        "kernelspec": {
            "display_name": "Python",
            "language": "python",
            "name": "python"
        },
        "language_info": {
            "name": "python"
        }
    },
    "cells": [
        {
            "id": "4d0cb36f",
            "cell_type": "markdown",
            "source": "<div class='alert alert-warning'>\n\nNumPy's interactive examples are experimental and may not always work as expected, with high load times especially on low-resource platforms, and the version of NumPy might not be in sync with the one you are browsing the documentation for. If you encounter any issues, please report them on the [NumPy issue tracker](https://github.com/numpy/numpy/issues).\n\n</div>",
            "metadata": {}
        },
        {
            "id": "df72e972",
            "cell_type": "code",
            "metadata": {},
            "execution_count": null,
            "source": "import numpy as np\nfrom io import StringIO\ntext = StringIO(\"1312 foo\\n1534  bar\\n444   qux\")",
            "outputs": []
        },
        {
            "id": "a1333603",
            "cell_type": "code",
            "metadata": {},
            "execution_count": null,
            "source": "regexp = r\"(\\d+)\\s+(...)\"  # match [digits, whitespace, anything]\noutput = np.fromregex(text, regexp,\n                      [('num', np.int64), ('key', 'S3')])\noutput",
            "outputs": [
                {
                    "output_type": "execute_result",
                    "metadata": {},
                    "data": {
                        "text/plain": "array([(1312, b'foo'), (1534, b'bar'), ( 444, b'qux')],\n      dtype=[('num', '<i8'), ('key', 'S3')])"
                    },
                    "execution_count": null
                }
            ]
        },
        {
            "id": "686bf089",
            "cell_type": "code",
            "metadata": {},
            "execution_count": null,
            "source": "output['num']",
            "outputs": [
                {
                    "output_type": "execute_result",
                    "metadata": {},
                    "data": {
                        "text/plain": "array([1312, 1534,  444])"
                    },
                    "execution_count": null
                }
            ]
        }
    ]
}