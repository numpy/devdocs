{
    "nbformat": 4,
    "nbformat_minor": 5,
    "metadata": {
        "kernelspec": {
            "display_name": "Python",
            "language": "python",
            "name": "python"
        },
        "language_info": {
            "name": "python"
        }
    },
    "cells": [
        {
            "id": "24c4530d",
            "cell_type": "markdown",
            "source": "<div class='alert alert-warning'>\n\nNumPy's interactive examples are experimental and may not always work as expected, with high load times especially on low-resource platforms, and the version of NumPy might not be in sync with the one you are browsing the documentation for. If you encounter any issues, please report them on the [NumPy issue tracker](https://github.com/numpy/numpy/issues).\n\n</div>",
            "metadata": {}
        },
        {
            "id": "70e06590",
            "cell_type": "code",
            "metadata": {},
            "execution_count": null,
            "source": "import numpy as np\nx = np.array([1, 2, 3, 5])\nN = 3\nnp.vander(x, N)",
            "outputs": [
                {
                    "output_type": "execute_result",
                    "metadata": {},
                    "data": {
                        "text/plain": "array([[ 1,  1,  1],\n       [ 4,  2,  1],\n       [ 9,  3,  1],\n       [25,  5,  1]])"
                    },
                    "execution_count": null
                }
            ]
        },
        {
            "id": "56b27f65",
            "cell_type": "code",
            "metadata": {},
            "execution_count": null,
            "source": "np.column_stack([x**(N-1-i) for i in range(N)])",
            "outputs": [
                {
                    "output_type": "execute_result",
                    "metadata": {},
                    "data": {
                        "text/plain": "array([[ 1,  1,  1],\n       [ 4,  2,  1],\n       [ 9,  3,  1],\n       [25,  5,  1]])"
                    },
                    "execution_count": null
                }
            ]
        },
        {
            "id": "dd4b9f26",
            "cell_type": "code",
            "metadata": {},
            "execution_count": null,
            "source": "x = np.array([1, 2, 3, 5])\nnp.vander(x)",
            "outputs": [
                {
                    "output_type": "execute_result",
                    "metadata": {},
                    "data": {
                        "text/plain": "array([[  1,   1,   1,   1],\n       [  8,   4,   2,   1],\n       [ 27,   9,   3,   1],\n       [125,  25,   5,   1]])"
                    },
                    "execution_count": null
                }
            ]
        },
        {
            "id": "a913211e",
            "cell_type": "code",
            "metadata": {},
            "execution_count": null,
            "source": "np.vander(x, increasing=True)",
            "outputs": [
                {
                    "output_type": "execute_result",
                    "metadata": {},
                    "data": {
                        "text/plain": "array([[  1,   1,   1,   1],\n       [  1,   2,   4,   8],\n       [  1,   3,   9,  27],\n       [  1,   5,  25, 125]])"
                    },
                    "execution_count": null
                }
            ]
        },
        {
            "id": "dd360c0d",
            "cell_type": "markdown",
            "source": "The determinant of a square Vandermonde matrix is the product\nof the differences between the values of the input vector:\n",
            "metadata": {}
        },
        {
            "id": "245b7a35",
            "cell_type": "code",
            "metadata": {},
            "execution_count": null,
            "source": "np.linalg.det(np.vander(x))",
            "outputs": [
                {
                    "output_type": "execute_result",
                    "metadata": {},
                    "data": {
                        "text/plain": "48.000000000000043 # may vary"
                    },
                    "execution_count": null
                }
            ]
        },
        {
            "id": "dc7ccc62",
            "cell_type": "code",
            "metadata": {},
            "execution_count": null,
            "source": "(5-3)*(5-2)*(5-1)*(3-2)*(3-1)*(2-1)",
            "outputs": [
                {
                    "output_type": "execute_result",
                    "metadata": {},
                    "data": {
                        "text/plain": "48"
                    },
                    "execution_count": null
                }
            ]
        }
    ]
}