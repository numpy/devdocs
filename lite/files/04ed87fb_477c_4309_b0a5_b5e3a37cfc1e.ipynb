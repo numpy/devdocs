{
    "nbformat": 4,
    "nbformat_minor": 5,
    "metadata": {
        "kernelspec": {
            "display_name": "Python",
            "language": "python",
            "name": "python"
        },
        "language_info": {
            "name": "python"
        }
    },
    "cells": [
        {
            "id": "14b0054d",
            "cell_type": "markdown",
            "source": "<div class='alert alert-warning'>\n\nNumPy's interactive examples are experimental and may not always work as expected, with high load times especially on low-resource platforms, and the version of NumPy might not be in sync with the one you are browsing the documentation for. If you encounter any issues, please report them on the [NumPy issue tracker](https://github.com/numpy/numpy/issues).\n\n</div>",
            "metadata": {}
        },
        {
            "id": "e2253f24",
            "cell_type": "code",
            "metadata": {},
            "execution_count": null,
            "source": "from numpy.polynomial import legendre as L\nc1 = (1,2,3)\nc2 = (3,2,1)\nL.legdiv(c1,c2) # quotient \"intuitive,\" remainder not",
            "outputs": [
                {
                    "output_type": "execute_result",
                    "metadata": {},
                    "data": {
                        "text/plain": "(array([3.]), array([-8., -4.]))"
                    },
                    "execution_count": null
                }
            ]
        },
        {
            "id": "92dc9de0",
            "cell_type": "code",
            "metadata": {},
            "execution_count": null,
            "source": "c2 = (0,1,2,3)\nL.legdiv(c2,c1) # neither \"intuitive\"",
            "outputs": [
                {
                    "output_type": "execute_result",
                    "metadata": {},
                    "data": {
                        "text/plain": "(array([-0.07407407,  1.66666667]), array([-1.03703704, -2.51851852])) # may vary"
                    },
                    "execution_count": null
                }
            ]
        }
    ]
}