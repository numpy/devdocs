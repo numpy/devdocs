{
    "nbformat": 4,
    "nbformat_minor": 5,
    "metadata": {
        "kernelspec": {
            "display_name": "Python",
            "language": "python",
            "name": "python"
        },
        "language_info": {
            "name": "python"
        }
    },
    "cells": [
        {
            "id": "c91c4aae",
            "cell_type": "markdown",
            "source": "<div class='alert alert-warning'>\n\nNumPy's interactive examples are experimental and may not always work as expected, with high load times especially on low-resource platforms, and the version of NumPy might not be in sync with the one you are browsing the documentation for. If you encounter any issues, please report them on the [NumPy issue tracker](https://github.com/numpy/numpy/issues).\n\n</div>",
            "metadata": {}
        },
        {
            "id": "f7adfcc3",
            "cell_type": "code",
            "metadata": {},
            "execution_count": null,
            "source": "import numpy as np\na = np.ma.array([[1, 2, 3], [4, 5, 6]], mask=[[1, 0, 0], [0, 0, 0]])\nb = np.ma.array([[1, 2], [3, 4], [5, 6]], mask=[[1, 0], [0, 0], [0, 0]])\nnp.ma.dot(a, b)",
            "outputs": [
                {
                    "output_type": "execute_result",
                    "metadata": {},
                    "data": {
                        "text/plain": "masked_array(\n  data=[[21, 26],\n        [45, 64]],\n  mask=[[False, False],\n        [False, False]],\n  fill_value=999999)"
                    },
                    "execution_count": null
                }
            ]
        },
        {
            "id": "6c089108",
            "cell_type": "code",
            "metadata": {},
            "execution_count": null,
            "source": "np.ma.dot(a, b, strict=True)",
            "outputs": [
                {
                    "output_type": "execute_result",
                    "metadata": {},
                    "data": {
                        "text/plain": "masked_array(\n  data=[[--, --],\n        [--, 64]],\n  mask=[[ True,  True],\n        [ True, False]],\n  fill_value=999999)"
                    },
                    "execution_count": null
                }
            ]
        }
    ]
}