{
    "nbformat": 4,
    "nbformat_minor": 5,
    "metadata": {
        "kernelspec": {
            "display_name": "Python",
            "language": "python",
            "name": "python"
        },
        "language_info": {
            "name": "python"
        }
    },
    "cells": [
        {
            "id": "930eb93d",
            "cell_type": "markdown",
            "source": "<div class='alert alert-warning'>\n\nNumPy's interactive examples are experimental and may not always work as expected, with high load times especially on low-resource platforms, and the version of NumPy might not be in sync with the one you are browsing the documentation for. If you encounter any issues, please report them on the [NumPy issue tracker](https://github.com/numpy/numpy/issues).\n\n</div>",
            "metadata": {}
        },
        {
            "id": "f7aa550a",
            "cell_type": "code",
            "metadata": {},
            "execution_count": null,
            "source": "import numpy as np\na = np.arange(24).reshape(2,3,4)\na",
            "outputs": [
                {
                    "output_type": "execute_result",
                    "metadata": {},
                    "data": {
                        "text/plain": "array([[[ 0,  1,  2,  3],\n        [ 4,  5,  6,  7],\n        [ 8,  9, 10, 11]],\n       [[12, 13, 14, 15],\n        [16, 17, 18, 19],\n        [20, 21, 22, 23]]])"
                    },
                    "execution_count": null
                }
            ]
        },
        {
            "id": "f44d0c64",
            "cell_type": "markdown",
            "source": "Sum over axes 0 and 2. The result has same number of dimensions\nas the original array:\n",
            "metadata": {}
        },
        {
            "id": "c8387704",
            "cell_type": "code",
            "metadata": {},
            "execution_count": null,
            "source": "np.apply_over_axes(np.sum, a, [0,2])",
            "outputs": [
                {
                    "output_type": "execute_result",
                    "metadata": {},
                    "data": {
                        "text/plain": "array([[[ 60],\n        [ 92],\n        [124]]])"
                    },
                    "execution_count": null
                }
            ]
        },
        {
            "id": "660fdd1d",
            "cell_type": "markdown",
            "source": "Tuple axis arguments to ufuncs are equivalent:\n",
            "metadata": {}
        },
        {
            "id": "7eb87f76",
            "cell_type": "code",
            "metadata": {},
            "execution_count": null,
            "source": "np.sum(a, axis=(0,2), keepdims=True)",
            "outputs": [
                {
                    "output_type": "execute_result",
                    "metadata": {},
                    "data": {
                        "text/plain": "array([[[ 60],\n        [ 92],\n        [124]]])"
                    },
                    "execution_count": null
                }
            ]
        }
    ]
}