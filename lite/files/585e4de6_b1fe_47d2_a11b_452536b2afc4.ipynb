{
    "nbformat": 4,
    "nbformat_minor": 5,
    "metadata": {
        "kernelspec": {
            "display_name": "Python",
            "language": "python",
            "name": "python"
        },
        "language_info": {
            "name": "python"
        }
    },
    "cells": [
        {
            "id": "f23130ed",
            "cell_type": "markdown",
            "source": "<div class='alert alert-warning'>\n\nNumPy's interactive examples are experimental and may not always work as expected, with high load times especially on low-resource platforms, and the version of NumPy might not be in sync with the one you are browsing the documentation for. If you encounter any issues, please report them on the [NumPy issue tracker](https://github.com/numpy/numpy/issues).\n\n</div>",
            "metadata": {}
        },
        {
            "id": "33183b42",
            "cell_type": "code",
            "metadata": {},
            "execution_count": null,
            "source": "import numpy as np\nfrom numpy.polynomial import polyutils as pu\na = np.arange(4)\npu.as_series(a)",
            "outputs": [
                {
                    "output_type": "execute_result",
                    "metadata": {},
                    "data": {
                        "text/plain": "[array([0.]), array([1.]), array([2.]), array([3.])]"
                    },
                    "execution_count": null
                }
            ]
        },
        {
            "id": "aae1b096",
            "cell_type": "code",
            "metadata": {},
            "execution_count": null,
            "source": "b = np.arange(6).reshape((2,3))\npu.as_series(b)",
            "outputs": [
                {
                    "output_type": "execute_result",
                    "metadata": {},
                    "data": {
                        "text/plain": "[array([0., 1., 2.]), array([3., 4., 5.])]"
                    },
                    "execution_count": null
                }
            ]
        },
        {
            "id": "ea1eaf46",
            "cell_type": "code",
            "metadata": {},
            "execution_count": null,
            "source": "pu.as_series((1, np.arange(3), np.arange(2, dtype=np.float16)))",
            "outputs": [
                {
                    "output_type": "execute_result",
                    "metadata": {},
                    "data": {
                        "text/plain": "[array([1.]), array([0., 1., 2.]), array([0., 1.])]"
                    },
                    "execution_count": null
                }
            ]
        },
        {
            "id": "774949fd",
            "cell_type": "code",
            "metadata": {},
            "execution_count": null,
            "source": "pu.as_series([2, [1.1, 0.]])",
            "outputs": [
                {
                    "output_type": "execute_result",
                    "metadata": {},
                    "data": {
                        "text/plain": "[array([2.]), array([1.1])]"
                    },
                    "execution_count": null
                }
            ]
        },
        {
            "id": "87f9e466",
            "cell_type": "code",
            "metadata": {},
            "execution_count": null,
            "source": "pu.as_series([2, [1.1, 0.]], trim=False)",
            "outputs": [
                {
                    "output_type": "execute_result",
                    "metadata": {},
                    "data": {
                        "text/plain": "[array([2.]), array([1.1, 0. ])]"
                    },
                    "execution_count": null
                }
            ]
        }
    ]
}