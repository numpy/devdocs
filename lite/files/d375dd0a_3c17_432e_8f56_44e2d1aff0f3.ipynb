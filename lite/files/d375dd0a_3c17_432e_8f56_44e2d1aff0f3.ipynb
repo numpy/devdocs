{
    "nbformat": 4,
    "nbformat_minor": 5,
    "metadata": {
        "kernelspec": {
            "display_name": "Python",
            "language": "python",
            "name": "python"
        },
        "language_info": {
            "name": "python"
        }
    },
    "cells": [
        {
            "id": "40046a9f",
            "cell_type": "markdown",
            "source": "<div class='alert alert-warning'>\n\nNumPy's interactive examples are experimental and may not always work as expected, with high load times especially on low-resource platforms, and the version of NumPy might not be in sync with the one you are browsing the documentation for. If you encounter any issues, please report them on the [NumPy issue tracker](https://github.com/numpy/numpy/issues).\n\n</div>",
            "metadata": {}
        },
        {
            "id": "51284383",
            "cell_type": "markdown",
            "source": "Datetimes and complex numbers are incompatible classes and cannot be\npromoted:\n",
            "metadata": {}
        },
        {
            "id": "210be94b",
            "cell_type": "code",
            "metadata": {},
            "execution_count": null,
            "source": "import numpy as np\nnp.result_type(np.dtype(\"M8[s]\"), np.complex128)  # doctest: +IGNORE_EXCEPTION_DETAIL",
            "outputs": [
                {
                    "output_type": "execute_result",
                    "metadata": {},
                    "data": {
                        "text/plain": "Traceback (most recent call last):\n ...\nDTypePromotionError: The DType <class 'numpy.dtype[datetime64]'> could not\nbe promoted by <class 'numpy.dtype[complex128]'>. This means that no common\nDType exists for the given inputs. For example they cannot be stored in a\nsingle array unless the dtype is `object`. The full list of DTypes is:\n(<class 'numpy.dtype[datetime64]'>, <class 'numpy.dtype[complex128]'>)"
                    },
                    "execution_count": null
                }
            ]
        },
        {
            "id": "c467c7d4",
            "cell_type": "markdown",
            "source": "For example for structured dtypes, the structure can mismatch and the\nsame ``DTypePromotionError`` is given when two structured dtypes with\na mismatch in their number of fields is given:\n",
            "metadata": {}
        },
        {
            "id": "ba15d882",
            "cell_type": "code",
            "metadata": {},
            "execution_count": null,
            "source": "dtype1 = np.dtype([(\"field1\", np.float64), (\"field2\", np.int64)])\ndtype2 = np.dtype([(\"field1\", np.float64)])\nnp.promote_types(dtype1, dtype2)  # doctest: +IGNORE_EXCEPTION_DETAIL",
            "outputs": [
                {
                    "output_type": "execute_result",
                    "metadata": {},
                    "data": {
                        "text/plain": "Traceback (most recent call last):\n ...\nDTypePromotionError: field names `('field1', 'field2')` and `('field1',)`\nmismatch."
                    },
                    "execution_count": null
                }
            ]
        }
    ]
}