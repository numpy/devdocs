{
    "nbformat": 4,
    "nbformat_minor": 5,
    "metadata": {
        "kernelspec": {
            "display_name": "Python",
            "language": "python",
            "name": "python"
        },
        "language_info": {
            "name": "python"
        }
    },
    "cells": [
        {
            "id": "03916eb6",
            "cell_type": "markdown",
            "source": "<div class='alert alert-warning'>\n\nNumPy's interactive examples are experimental and may not always work as expected, with high load times especially on low-resource platforms, and the version of NumPy might not be in sync with the one you are browsing the documentation for. If you encounter any issues, please report them on the [NumPy issue tracker](https://github.com/numpy/numpy/issues).\n\n</div>",
            "metadata": {}
        },
        {
            "id": "4e817856",
            "cell_type": "code",
            "metadata": {},
            "execution_count": null,
            "source": "import numpy as np",
            "outputs": []
        },
        {
            "id": "afe876ee",
            "cell_type": "code",
            "metadata": {},
            "execution_count": null,
            "source": "from numpy.lib import recfunctions as rfn\ndt = np.dtype([('a', 'i4'), ('b', 'f4,u2'), ('c', 'f4', 2)])\na = np.arange(20).reshape((4,5))\na",
            "outputs": [
                {
                    "output_type": "execute_result",
                    "metadata": {},
                    "data": {
                        "text/plain": "array([[ 0,  1,  2,  3,  4],\n       [ 5,  6,  7,  8,  9],\n       [10, 11, 12, 13, 14],\n       [15, 16, 17, 18, 19]])"
                    },
                    "execution_count": null
                }
            ]
        },
        {
            "id": "43b01e23",
            "cell_type": "code",
            "metadata": {},
            "execution_count": null,
            "source": "rfn.unstructured_to_structured(a, dt)",
            "outputs": [
                {
                    "output_type": "execute_result",
                    "metadata": {},
                    "data": {
                        "text/plain": "array([( 0, ( 1.,  2), [ 3.,  4.]), ( 5, ( 6.,  7), [ 8.,  9.]),\n       (10, (11., 12), [13., 14.]), (15, (16., 17), [18., 19.])],\n      dtype=[('a', '<i4'), ('b', [('f0', '<f4'), ('f1', '<u2')]), ('c', '<f4', (2,))])"
                    },
                    "execution_count": null
                }
            ]
        }
    ]
}