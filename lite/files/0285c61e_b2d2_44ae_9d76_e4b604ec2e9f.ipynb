{
    "nbformat": 4,
    "nbformat_minor": 5,
    "metadata": {
        "kernelspec": {
            "display_name": "Python",
            "language": "python",
            "name": "python"
        },
        "language_info": {
            "name": "python"
        }
    },
    "cells": [
        {
            "id": "dc2d3739",
            "cell_type": "markdown",
            "source": "<div class='alert alert-warning'>\n\nNumPy's interactive examples are experimental and may not always work as expected, with high load times especially on low-resource platforms, and the version of NumPy might not be in sync with the one you are browsing the documentation for. If you encounter any issues, please report them on the [NumPy issue tracker](https://github.com/numpy/numpy/issues).\n\n</div>",
            "metadata": {}
        },
        {
            "id": "96189e96",
            "cell_type": "code",
            "metadata": {},
            "execution_count": null,
            "source": "import numpy as np\ngrid = np.indices((2, 3))\ngrid.shape",
            "outputs": [
                {
                    "output_type": "execute_result",
                    "metadata": {},
                    "data": {
                        "text/plain": "(2, 2, 3)"
                    },
                    "execution_count": null
                }
            ]
        },
        {
            "id": "c69d870f",
            "cell_type": "code",
            "metadata": {},
            "execution_count": null,
            "source": "grid[0]        # row indices",
            "outputs": [
                {
                    "output_type": "execute_result",
                    "metadata": {},
                    "data": {
                        "text/plain": "array([[0, 0, 0],\n       [1, 1, 1]])"
                    },
                    "execution_count": null
                }
            ]
        },
        {
            "id": "b978771e",
            "cell_type": "code",
            "metadata": {},
            "execution_count": null,
            "source": "grid[1]        # column indices",
            "outputs": [
                {
                    "output_type": "execute_result",
                    "metadata": {},
                    "data": {
                        "text/plain": "array([[0, 1, 2],\n       [0, 1, 2]])"
                    },
                    "execution_count": null
                }
            ]
        },
        {
            "id": "bdac03f5",
            "cell_type": "markdown",
            "source": "The indices can be used as an index into an array.\n",
            "metadata": {}
        },
        {
            "id": "1425653a",
            "cell_type": "code",
            "metadata": {},
            "execution_count": null,
            "source": "x = np.arange(20).reshape(5, 4)\nrow, col = np.indices((2, 3))\nx[row, col]",
            "outputs": [
                {
                    "output_type": "execute_result",
                    "metadata": {},
                    "data": {
                        "text/plain": "array([[0, 1, 2],\n       [4, 5, 6]])"
                    },
                    "execution_count": null
                }
            ]
        },
        {
            "id": "4c0f2ee4",
            "cell_type": "markdown",
            "source": "Note that it would be more straightforward in the above example to\nextract the required elements directly with ``x[:2, :3]``.\n\nIf sparse is set to true, the grid will be returned in a sparse\nrepresentation.\n",
            "metadata": {}
        },
        {
            "id": "21ec62df",
            "cell_type": "code",
            "metadata": {},
            "execution_count": null,
            "source": "i, j = np.indices((2, 3), sparse=True)\ni.shape",
            "outputs": [
                {
                    "output_type": "execute_result",
                    "metadata": {},
                    "data": {
                        "text/plain": "(2, 1)"
                    },
                    "execution_count": null
                }
            ]
        },
        {
            "id": "20fe9236",
            "cell_type": "code",
            "metadata": {},
            "execution_count": null,
            "source": "j.shape",
            "outputs": [
                {
                    "output_type": "execute_result",
                    "metadata": {},
                    "data": {
                        "text/plain": "(1, 3)"
                    },
                    "execution_count": null
                }
            ]
        },
        {
            "id": "b1094298",
            "cell_type": "code",
            "metadata": {},
            "execution_count": null,
            "source": "i        # row indices",
            "outputs": [
                {
                    "output_type": "execute_result",
                    "metadata": {},
                    "data": {
                        "text/plain": "array([[0],\n       [1]])"
                    },
                    "execution_count": null
                }
            ]
        },
        {
            "id": "9c4fe866",
            "cell_type": "code",
            "metadata": {},
            "execution_count": null,
            "source": "j        # column indices",
            "outputs": [
                {
                    "output_type": "execute_result",
                    "metadata": {},
                    "data": {
                        "text/plain": "array([[0, 1, 2]])"
                    },
                    "execution_count": null
                }
            ]
        }
    ]
}