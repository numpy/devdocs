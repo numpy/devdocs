{
    "nbformat": 4,
    "nbformat_minor": 5,
    "metadata": {
        "kernelspec": {
            "display_name": "Python",
            "language": "python",
            "name": "python"
        },
        "language_info": {
            "name": "python"
        }
    },
    "cells": [
        {
            "id": "ca52a333",
            "cell_type": "markdown",
            "source": "<div class='alert alert-warning'>\n\nNumPy's interactive examples are experimental and may not always work as expected, with high load times especially on low-resource platforms, and the version of NumPy might not be in sync with the one you are browsing the documentation for. If you encounter any issues, please report them on the [NumPy issue tracker](https://github.com/numpy/numpy/issues).\n\n</div>",
            "metadata": {}
        },
        {
            "id": "55adc4a5",
            "cell_type": "code",
            "metadata": {},
            "execution_count": null,
            "source": "np.multiply.outer([1, 2, 3], [4, 5, 6])",
            "outputs": [
                {
                    "output_type": "execute_result",
                    "metadata": {},
                    "data": {
                        "text/plain": "array([[ 4,  5,  6],\n       [ 8, 10, 12],\n       [12, 15, 18]])"
                    },
                    "execution_count": null
                }
            ]
        },
        {
            "id": "2f06f4d6",
            "cell_type": "markdown",
            "source": "A multi-dimensional example:\n",
            "metadata": {}
        },
        {
            "id": "1a01c41f",
            "cell_type": "code",
            "metadata": {},
            "execution_count": null,
            "source": "A = np.array([[1, 2, 3], [4, 5, 6]])\nA.shape",
            "outputs": [
                {
                    "output_type": "execute_result",
                    "metadata": {},
                    "data": {
                        "text/plain": "(2, 3)"
                    },
                    "execution_count": null
                }
            ]
        },
        {
            "id": "6885b9a0",
            "cell_type": "code",
            "metadata": {},
            "execution_count": null,
            "source": "B = np.array([[1, 2, 3, 4]])\nB.shape",
            "outputs": [
                {
                    "output_type": "execute_result",
                    "metadata": {},
                    "data": {
                        "text/plain": "(1, 4)"
                    },
                    "execution_count": null
                }
            ]
        },
        {
            "id": "3b1c8a9a",
            "cell_type": "code",
            "metadata": {},
            "execution_count": null,
            "source": "C = np.multiply.outer(A, B)\nC.shape; C",
            "outputs": [
                {
                    "output_type": "execute_result",
                    "metadata": {},
                    "data": {
                        "text/plain": "(2, 3, 1, 4)\narray([[[[ 1,  2,  3,  4]],\n        [[ 2,  4,  6,  8]],\n        [[ 3,  6,  9, 12]]],\n       [[[ 4,  8, 12, 16]],\n        [[ 5, 10, 15, 20]],\n        [[ 6, 12, 18, 24]]]])"
                    },
                    "execution_count": null
                }
            ]
        }
    ]
}