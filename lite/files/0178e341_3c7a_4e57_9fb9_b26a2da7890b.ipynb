{
    "nbformat": 4,
    "nbformat_minor": 5,
    "metadata": {
        "kernelspec": {
            "display_name": "Python",
            "language": "python",
            "name": "python"
        },
        "language_info": {
            "name": "python"
        }
    },
    "cells": [
        {
            "id": "b6bcb441",
            "cell_type": "markdown",
            "source": "<div class='alert alert-warning'>\n\nNumPy's interactive examples are experimental and may not always work as expected, with high load times especially on low-resource platforms, and the version of NumPy might not be in sync with the one you are browsing the documentation for. If you encounter any issues, please report them on the [NumPy issue tracker](https://github.com/numpy/numpy/issues).\n\n</div>",
            "metadata": {}
        },
        {
            "id": "f76ab95b",
            "cell_type": "code",
            "metadata": {},
            "execution_count": null,
            "source": "import numpy as np\na = np.arange(10)\na",
            "outputs": [
                {
                    "output_type": "execute_result",
                    "metadata": {},
                    "data": {
                        "text/plain": "array([0, 1, 2, 3, 4, 5, 6, 7, 8, 9])"
                    },
                    "execution_count": null
                }
            ]
        },
        {
            "id": "1b337e74",
            "cell_type": "code",
            "metadata": {},
            "execution_count": null,
            "source": "np.where(a < 5, a, 10*a)",
            "outputs": [
                {
                    "output_type": "execute_result",
                    "metadata": {},
                    "data": {
                        "text/plain": "array([ 0,  1,  2,  3,  4, 50, 60, 70, 80, 90])"
                    },
                    "execution_count": null
                }
            ]
        },
        {
            "id": "ac92aebc",
            "cell_type": "markdown",
            "source": "This can be used on multidimensional arrays too:\n",
            "metadata": {}
        },
        {
            "id": "1592cb38",
            "cell_type": "code",
            "metadata": {},
            "execution_count": null,
            "source": "np.where([[True, False], [True, True]],\n         [[1, 2], [3, 4]],\n         [[9, 8], [7, 6]])",
            "outputs": [
                {
                    "output_type": "execute_result",
                    "metadata": {},
                    "data": {
                        "text/plain": "array([[1, 8],\n       [3, 4]])"
                    },
                    "execution_count": null
                }
            ]
        },
        {
            "id": "82dc3b21",
            "cell_type": "markdown",
            "source": "The shapes of x, y, and the condition are broadcast together:\n",
            "metadata": {}
        },
        {
            "id": "bf689668",
            "cell_type": "code",
            "metadata": {},
            "execution_count": null,
            "source": "x, y = np.ogrid[:3, :4]\nnp.where(x < y, x, 10 + y)  # both x and 10+y are broadcast",
            "outputs": [
                {
                    "output_type": "execute_result",
                    "metadata": {},
                    "data": {
                        "text/plain": "array([[10,  0,  0,  0],\n       [10, 11,  1,  1],\n       [10, 11, 12,  2]])"
                    },
                    "execution_count": null
                }
            ]
        },
        {
            "id": "fe844d42",
            "cell_type": "code",
            "metadata": {},
            "execution_count": null,
            "source": "a = np.array([[0, 1, 2],\n              [0, 2, 4],\n              [0, 3, 6]])\nnp.where(a < 4, a, -1)  # -1 is broadcast",
            "outputs": [
                {
                    "output_type": "execute_result",
                    "metadata": {},
                    "data": {
                        "text/plain": "array([[ 0,  1,  2],\n       [ 0,  2, -1],\n       [ 0,  3, -1]])"
                    },
                    "execution_count": null
                }
            ]
        }
    ]
}