{
    "nbformat": 4,
    "nbformat_minor": 5,
    "metadata": {
        "kernelspec": {
            "display_name": "Python",
            "language": "python",
            "name": "python"
        },
        "language_info": {
            "name": "python"
        }
    },
    "cells": [
        {
            "id": "e8ea2d46",
            "cell_type": "markdown",
            "source": "<div class='alert alert-warning'>\n\nNumPy's interactive examples are experimental and may not always work as expected, with high load times especially on low-resource platforms, and the version of NumPy might not be in sync with the one you are browsing the documentation for. If you encounter any issues, please report them on the [NumPy issue tracker](https://github.com/numpy/numpy/issues).\n\n</div>",
            "metadata": {}
        },
        {
            "id": "706ed0d6",
            "cell_type": "code",
            "metadata": {},
            "execution_count": null,
            "source": "import numpy as np\nx = np.array([1, 2, 2.5])\nx",
            "outputs": [
                {
                    "output_type": "execute_result",
                    "metadata": {},
                    "data": {
                        "text/plain": "array([1. ,  2. ,  2.5])"
                    },
                    "execution_count": null
                }
            ]
        },
        {
            "id": "a737ecaf",
            "cell_type": "code",
            "metadata": {},
            "execution_count": null,
            "source": "x.astype(int)",
            "outputs": [
                {
                    "output_type": "execute_result",
                    "metadata": {},
                    "data": {
                        "text/plain": "array([1, 2, 2])"
                    },
                    "execution_count": null
                }
            ]
        },
        {
            "id": "1405b242",
            "cell_type": "code",
            "metadata": {},
            "execution_count": null,
            "source": "x.astype(int, casting=\"same_value\")\n",
            "outputs": [
                {
                    "output_type": "execute_result",
                    "metadata": {},
                    "data": {
                        "text/plain": "Traceback (most recent call last):\nValueError: could not cast 'same_value' double to long"
                    },
                    "execution_count": null
                }
            ]
        },
        {
            "id": "c5424727",
            "cell_type": "code",
            "metadata": {},
            "execution_count": null,
            "source": "x[:2].astype(int, casting=\"same_value\")",
            "outputs": [
                {
                    "output_type": "execute_result",
                    "metadata": {},
                    "data": {
                        "text/plain": "array([1, 2])"
                    },
                    "execution_count": null
                }
            ]
        }
    ]
}