{
    "nbformat": 4,
    "nbformat_minor": 5,
    "metadata": {
        "kernelspec": {
            "display_name": "Python",
            "language": "python",
            "name": "python"
        },
        "language_info": {
            "name": "python"
        }
    },
    "cells": [
        {
            "id": "6b2adf38",
            "cell_type": "markdown",
            "source": "<div class='alert alert-warning'>\n\nNumPy's interactive examples are experimental and may not always work as expected, with high load times especially on low-resource platforms, and the version of NumPy might not be in sync with the one you are browsing the documentation for. If you encounter any issues, please report them on the [NumPy issue tracker](https://github.com/numpy/numpy/issues).\n\n</div>",
            "metadata": {}
        },
        {
            "id": "1bd63dd0",
            "cell_type": "code",
            "metadata": {},
            "execution_count": null,
            "source": "import numpy as np",
            "outputs": []
        },
        {
            "id": "bc821468",
            "cell_type": "markdown",
            "source": "In this example we generate two random arrays, ``xarr`` and ``yarr``, and\ncompute the row-wise and column-wise Pearson correlation coefficients,\n``R``. Since ``rowvar`` is  true by  default, we first find the row-wise\nPearson correlation coefficients between the variables of ``xarr``.\n",
            "metadata": {}
        },
        {
            "id": "a5aa2904",
            "cell_type": "code",
            "metadata": {},
            "execution_count": null,
            "source": "import numpy as np\nrng = np.random.default_rng(seed=42)\nxarr = rng.random((3, 3))\nxarr",
            "outputs": [
                {
                    "output_type": "execute_result",
                    "metadata": {},
                    "data": {
                        "text/plain": "array([[0.77395605, 0.43887844, 0.85859792],\n       [0.69736803, 0.09417735, 0.97562235],\n       [0.7611397 , 0.78606431, 0.12811363]])"
                    },
                    "execution_count": null
                }
            ]
        },
        {
            "id": "074a375b",
            "cell_type": "code",
            "metadata": {},
            "execution_count": null,
            "source": "R1 = np.corrcoef(xarr)\nR1",
            "outputs": [
                {
                    "output_type": "execute_result",
                    "metadata": {},
                    "data": {
                        "text/plain": "array([[ 1.        ,  0.99256089, -0.68080986],\n       [ 0.99256089,  1.        , -0.76492172],\n       [-0.68080986, -0.76492172,  1.        ]])"
                    },
                    "execution_count": null
                }
            ]
        },
        {
            "id": "5b154128",
            "cell_type": "markdown",
            "source": "If we add another set of variables and observations ``yarr``, we can\ncompute the row-wise Pearson correlation coefficients between the\nvariables in ``xarr`` and ``yarr``.\n",
            "metadata": {}
        },
        {
            "id": "294efe56",
            "cell_type": "code",
            "metadata": {},
            "execution_count": null,
            "source": "yarr = rng.random((3, 3))\nyarr",
            "outputs": [
                {
                    "output_type": "execute_result",
                    "metadata": {},
                    "data": {
                        "text/plain": "array([[0.45038594, 0.37079802, 0.92676499],\n       [0.64386512, 0.82276161, 0.4434142 ],\n       [0.22723872, 0.55458479, 0.06381726]])"
                    },
                    "execution_count": null
                }
            ]
        },
        {
            "id": "2376b308",
            "cell_type": "code",
            "metadata": {},
            "execution_count": null,
            "source": "R2 = np.corrcoef(xarr, yarr)\nR2",
            "outputs": [
                {
                    "output_type": "execute_result",
                    "metadata": {},
                    "data": {
                        "text/plain": "array([[ 1.        ,  0.99256089, -0.68080986,  0.75008178, -0.934284  ,\n        -0.99004057],\n       [ 0.99256089,  1.        , -0.76492172,  0.82502011, -0.97074098,\n        -0.99981569],\n       [-0.68080986, -0.76492172,  1.        , -0.99507202,  0.89721355,\n         0.77714685],\n       [ 0.75008178,  0.82502011, -0.99507202,  1.        , -0.93657855,\n        -0.83571711],\n       [-0.934284  , -0.97074098,  0.89721355, -0.93657855,  1.        ,\n         0.97517215],\n       [-0.99004057, -0.99981569,  0.77714685, -0.83571711,  0.97517215,\n         1.        ]])"
                    },
                    "execution_count": null
                }
            ]
        },
        {
            "id": "fe614382",
            "cell_type": "markdown",
            "source": "Finally if we use the option ``rowvar=False``, the columns are now\nbeing treated as the variables and we will find the column-wise Pearson\ncorrelation coefficients between variables in ``xarr`` and ``yarr``.\n",
            "metadata": {}
        },
        {
            "id": "4045ad43",
            "cell_type": "code",
            "metadata": {},
            "execution_count": null,
            "source": "R3 = np.corrcoef(xarr, yarr, rowvar=False)\nR3",
            "outputs": [
                {
                    "output_type": "execute_result",
                    "metadata": {},
                    "data": {
                        "text/plain": "array([[ 1.        ,  0.77598074, -0.47458546, -0.75078643, -0.9665554 ,\n         0.22423734],\n       [ 0.77598074,  1.        , -0.92346708, -0.99923895, -0.58826587,\n        -0.44069024],\n       [-0.47458546, -0.92346708,  1.        ,  0.93773029,  0.23297648,\n         0.75137473],\n       [-0.75078643, -0.99923895,  0.93773029,  1.        ,  0.55627469,\n         0.47536961],\n       [-0.9665554 , -0.58826587,  0.23297648,  0.55627469,  1.        ,\n        -0.46666491],\n       [ 0.22423734, -0.44069024,  0.75137473,  0.47536961, -0.46666491,\n         1.        ]])"
                    },
                    "execution_count": null
                }
            ]
        }
    ]
}