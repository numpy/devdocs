{
    "nbformat": 4,
    "nbformat_minor": 5,
    "metadata": {
        "kernelspec": {
            "display_name": "Python",
            "language": "python",
            "name": "python"
        },
        "language_info": {
            "name": "python"
        }
    },
    "cells": [
        {
            "id": "a74364e6",
            "cell_type": "markdown",
            "source": "<div class='alert alert-warning'>\n\nNumPy's interactive examples are experimental and may not always work as expected, with high load times especially on low-resource platforms, and the version of NumPy might not be in sync with the one you are browsing the documentation for. If you encounter any issues, please report them on the [NumPy issue tracker](https://github.com/numpy/numpy/issues).\n\n</div>",
            "metadata": {}
        },
        {
            "id": "9bb666fc",
            "cell_type": "markdown",
            "source": "Data type with fields ``r``, ``g``, ``b``, ``a``, each being\nan 8-bit unsigned integer:\n",
            "metadata": {}
        },
        {
            "id": "ab5b9309",
            "cell_type": "code",
            "metadata": {},
            "execution_count": null,
            "source": "import numpy as np",
            "outputs": []
        },
        {
            "id": "6772a458",
            "cell_type": "code",
            "metadata": {},
            "execution_count": null,
            "source": "dt = np.dtype({'names': ['r','g','b','a'],\n               'formats': [np.uint8, np.uint8, np.uint8, np.uint8]})",
            "outputs": []
        },
        {
            "id": "305cdb45",
            "cell_type": "markdown",
            "source": "Data type with fields ``r`` and ``b`` (with the given titles),\nboth being 8-bit unsigned integers, the first at byte position\n0 from the start of the field and the second at position 2:\n",
            "metadata": {}
        },
        {
            "id": "516fd336",
            "cell_type": "code",
            "metadata": {},
            "execution_count": null,
            "source": "dt = np.dtype({'names': ['r','b'], 'formats': ['u1', 'u1'],\n               'offsets': [0, 2],\n               'titles': ['Red pixel', 'Blue pixel']})",
            "outputs": []
        }
    ]
}