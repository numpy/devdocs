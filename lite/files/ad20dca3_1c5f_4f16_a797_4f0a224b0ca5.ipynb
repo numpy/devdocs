{
    "nbformat": 4,
    "nbformat_minor": 5,
    "metadata": {
        "kernelspec": {
            "display_name": "Python",
            "language": "python",
            "name": "python"
        },
        "language_info": {
            "name": "python"
        }
    },
    "cells": [
        {
            "id": "ec4873a9",
            "cell_type": "markdown",
            "source": "<div class='alert alert-warning'>\n\nNumPy's interactive examples are experimental and may not always work as expected, with high load times especially on low-resource platforms, and the version of NumPy might not be in sync with the one you are browsing the documentation for. If you encounter any issues, please report them on the [NumPy issue tracker](https://github.com/numpy/numpy/issues).\n\n</div>",
            "metadata": {}
        },
        {
            "id": "cde8b63e",
            "cell_type": "code",
            "metadata": {},
            "execution_count": null,
            "source": "import numpy as np\nfrom numpy.lib import recfunctions as rfn\nrfn.merge_arrays((np.array([1, 2]), np.array([10., 20., 30.])))",
            "outputs": [
                {
                    "output_type": "execute_result",
                    "metadata": {},
                    "data": {
                        "text/plain": "array([( 1, 10.), ( 2, 20.), (-1, 30.)],\n      dtype=[('f0', '<i8'), ('f1', '<f8')])"
                    },
                    "execution_count": null
                }
            ]
        },
        {
            "id": "812f5a93",
            "cell_type": "code",
            "metadata": {},
            "execution_count": null,
            "source": "rfn.merge_arrays((np.array([1, 2], dtype=np.int64),\n        np.array([10., 20., 30.])), usemask=False)",
            "outputs": [
                {
                    "output_type": "execute_result",
                    "metadata": {},
                    "data": {
                        "text/plain": " array([(1, 10.0), (2, 20.0), (-1, 30.0)],\n         dtype=[('f0', '<i8'), ('f1', '<f8')])"
                    },
                    "execution_count": null
                }
            ]
        },
        {
            "id": "9d6586fe",
            "cell_type": "code",
            "metadata": {},
            "execution_count": null,
            "source": "rfn.merge_arrays((np.array([1, 2]).view([('a', np.int64)]),\n              np.array([10., 20., 30.])),\n             usemask=False, asrecarray=True)",
            "outputs": [
                {
                    "output_type": "execute_result",
                    "metadata": {},
                    "data": {
                        "text/plain": "rec.array([( 1, 10.), ( 2, 20.), (-1, 30.)],\n          dtype=[('a', '<i8'), ('f1', '<f8')])"
                    },
                    "execution_count": null
                }
            ]
        }
    ]
}