{
    "nbformat": 4,
    "nbformat_minor": 5,
    "metadata": {
        "kernelspec": {
            "display_name": "Python",
            "language": "python",
            "name": "python"
        },
        "language_info": {
            "name": "python"
        }
    },
    "cells": [
        {
            "id": "b02b972c",
            "cell_type": "markdown",
            "source": "<div class='alert alert-warning'>\n\nNumPy's interactive examples are experimental and may not always work as expected, with high load times especially on low-resource platforms, and the version of NumPy might not be in sync with the one you are browsing the documentation for. If you encounter any issues, please report them on the [NumPy issue tracker](https://github.com/numpy/numpy/issues).\n\n</div>",
            "metadata": {}
        },
        {
            "id": "c7bc8273",
            "cell_type": "code",
            "metadata": {},
            "execution_count": null,
            "source": "import numpy as np\nc = np.array(['aAaAaA', '  aA  ', 'abBABba'])\nc",
            "outputs": [
                {
                    "output_type": "execute_result",
                    "metadata": {},
                    "data": {
                        "text/plain": "array(['aAaAaA', '  aA  ', 'abBABba'], dtype='<U7')\n# The 'a' variable is unstripped from c[1] because of leading whitespace."
                    },
                    "execution_count": null
                }
            ]
        },
        {
            "id": "3afce0ff",
            "cell_type": "code",
            "metadata": {},
            "execution_count": null,
            "source": "np.strings.lstrip(c, 'a')",
            "outputs": [
                {
                    "output_type": "execute_result",
                    "metadata": {},
                    "data": {
                        "text/plain": "array(['AaAaA', '  aA  ', 'bBABba'], dtype='<U7')"
                    },
                    "execution_count": null
                }
            ]
        },
        {
            "id": "abd78d9f",
            "cell_type": "code",
            "metadata": {},
            "execution_count": null,
            "source": "np.strings.lstrip(c, 'A') # leaves c unchanged",
            "outputs": [
                {
                    "output_type": "execute_result",
                    "metadata": {},
                    "data": {
                        "text/plain": "array(['aAaAaA', '  aA  ', 'abBABba'], dtype='<U7')"
                    },
                    "execution_count": null
                }
            ]
        },
        {
            "id": "e7d34564",
            "cell_type": "code",
            "metadata": {},
            "execution_count": null,
            "source": "(np.strings.lstrip(c, ' ') == np.strings.lstrip(c, '')).all()",
            "outputs": [
                {
                    "output_type": "execute_result",
                    "metadata": {},
                    "data": {
                        "text/plain": "np.False_"
                    },
                    "execution_count": null
                }
            ]
        },
        {
            "id": "6d8b473d",
            "cell_type": "code",
            "metadata": {},
            "execution_count": null,
            "source": "(np.strings.lstrip(c, ' ') == np.strings.lstrip(c)).all()",
            "outputs": [
                {
                    "output_type": "execute_result",
                    "metadata": {},
                    "data": {
                        "text/plain": "np.True_"
                    },
                    "execution_count": null
                }
            ]
        }
    ]
}