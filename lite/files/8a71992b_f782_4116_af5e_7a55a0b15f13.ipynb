{
    "nbformat": 4,
    "nbformat_minor": 5,
    "metadata": {
        "kernelspec": {
            "display_name": "Python",
            "language": "python",
            "name": "python"
        },
        "language_info": {
            "name": "python"
        }
    },
    "cells": [
        {
            "id": "ff3b789f",
            "cell_type": "markdown",
            "source": "<div class='alert alert-warning'>\n\nNumPy's interactive examples are experimental and may not always work as expected, with high load times especially on low-resource platforms, and the version of NumPy might not be in sync with the one you are browsing the documentation for. If you encounter any issues, please report them on the [NumPy issue tracker](https://github.com/numpy/numpy/issues).\n\n</div>",
            "metadata": {}
        },
        {
            "id": "d36e32eb",
            "cell_type": "code",
            "metadata": {},
            "execution_count": null,
            "source": "import numpy as np",
            "outputs": []
        },
        {
            "id": "0e28b5d9",
            "cell_type": "markdown",
            "source": "We expect the arccos of 1 to be 0, and of -1 to be pi:\n",
            "metadata": {}
        },
        {
            "id": "91e2bd62",
            "cell_type": "code",
            "metadata": {},
            "execution_count": null,
            "source": "np.arccos([1, -1])",
            "outputs": [
                {
                    "output_type": "execute_result",
                    "metadata": {},
                    "data": {
                        "text/plain": "array([ 0.        ,  3.14159265])"
                    },
                    "execution_count": null
                }
            ]
        },
        {
            "id": "88ff89f0",
            "cell_type": "markdown",
            "source": "Plot arccos:\n",
            "metadata": {}
        },
        {
            "id": "9e9d492a",
            "cell_type": "code",
            "metadata": {},
            "execution_count": null,
            "source": "import matplotlib.pyplot as plt\nx = np.linspace(-1, 1, num=100)\nplt.plot(x, np.arccos(x))\nplt.axis('tight')\nplt.show()",
            "outputs": []
        }
    ]
}