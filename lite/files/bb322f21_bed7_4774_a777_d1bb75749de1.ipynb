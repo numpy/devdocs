{
    "nbformat": 4,
    "nbformat_minor": 5,
    "metadata": {
        "kernelspec": {
            "display_name": "Python",
            "language": "python",
            "name": "python"
        },
        "language_info": {
            "name": "python"
        }
    },
    "cells": [
        {
            "id": "6baf4f27",
            "cell_type": "markdown",
            "source": "<div class='alert alert-warning'>\n\nNumPy's interactive examples are experimental and may not always work as expected, with high load times especially on low-resource platforms, and the version of NumPy might not be in sync with the one you are browsing the documentation for. If you encounter any issues, please report them on the [NumPy issue tracker](https://github.com/numpy/numpy/issues).\n\n</div>",
            "metadata": {}
        },
        {
            "id": "cfae9d63",
            "cell_type": "code",
            "metadata": {},
            "execution_count": null,
            "source": "from numpy.testing import assert_almost_equal\nassert_almost_equal(2.3333333333333, 2.33333334)\nassert_almost_equal(2.3333333333333, 2.33333334, decimal=10)",
            "outputs": [
                {
                    "output_type": "execute_result",
                    "metadata": {},
                    "data": {
                        "text/plain": "Traceback (most recent call last):\n    ...\nAssertionError:\nArrays are not almost equal to 10 decimals\n ACTUAL: 2.3333333333333\n DESIRED: 2.33333334"
                    },
                    "execution_count": null
                }
            ]
        },
        {
            "id": "12442952",
            "cell_type": "code",
            "metadata": {},
            "execution_count": null,
            "source": "assert_almost_equal(np.array([1.0,2.3333333333333]),\n                    np.array([1.0,2.33333334]), decimal=9)",
            "outputs": [
                {
                    "output_type": "execute_result",
                    "metadata": {},
                    "data": {
                        "text/plain": "Traceback (most recent call last):\n    ...\nAssertionError:\nArrays are not almost equal to 9 decimals\n<BLANKLINE>\nMismatched elements: 1 / 2 (50%)\nMismatch at index:\n [1]: 2.3333333333333 (ACTUAL), 2.33333334 (DESIRED)\nMax absolute difference among violations: 6.66669964e-09\nMax relative difference among violations: 2.85715698e-09\n ACTUAL: array([1.         , 2.333333333])\n DESIRED: array([1.        , 2.33333334])"
                    },
                    "execution_count": null
                }
            ]
        }
    ]
}