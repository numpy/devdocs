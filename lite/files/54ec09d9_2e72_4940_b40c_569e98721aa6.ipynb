{
    "nbformat": 4,
    "nbformat_minor": 5,
    "metadata": {
        "kernelspec": {
            "display_name": "Python",
            "language": "python",
            "name": "python"
        },
        "language_info": {
            "name": "python"
        }
    },
    "cells": [
        {
            "id": "40742a74",
            "cell_type": "markdown",
            "source": "<div class='alert alert-warning'>\n\nNumPy's interactive examples are experimental and may not always work as expected, with high load times especially on low-resource platforms, and the version of NumPy might not be in sync with the one you are browsing the documentation for. If you encounter any issues, please report them on the [NumPy issue tracker](https://github.com/numpy/numpy/issues).\n\n</div>",
            "metadata": {}
        },
        {
            "id": "e3d82b69",
            "cell_type": "code",
            "metadata": {},
            "execution_count": null,
            "source": "import numpy as np\nnp.less_equal([4, 2, 1], [2, 2, 2])",
            "outputs": [
                {
                    "output_type": "execute_result",
                    "metadata": {},
                    "data": {
                        "text/plain": "array([False,  True,  True])"
                    },
                    "execution_count": null
                }
            ]
        },
        {
            "id": "db6dfce4",
            "cell_type": "markdown",
            "source": "The ``<=`` operator can be used as a shorthand for ``np.less_equal`` on\nndarrays.\n",
            "metadata": {}
        },
        {
            "id": "f44d320d",
            "cell_type": "code",
            "metadata": {},
            "execution_count": null,
            "source": "a = np.array([4, 2, 1])\nb = np.array([2, 2, 2])\na <= b",
            "outputs": [
                {
                    "output_type": "execute_result",
                    "metadata": {},
                    "data": {
                        "text/plain": "array([False,  True,  True])"
                    },
                    "execution_count": null
                }
            ]
        }
    ]
}