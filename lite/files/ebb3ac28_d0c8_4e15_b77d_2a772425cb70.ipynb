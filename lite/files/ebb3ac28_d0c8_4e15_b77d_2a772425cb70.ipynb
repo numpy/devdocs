{
    "nbformat": 4,
    "nbformat_minor": 5,
    "metadata": {
        "kernelspec": {
            "display_name": "Python",
            "language": "python",
            "name": "python"
        },
        "language_info": {
            "name": "python"
        }
    },
    "cells": [
        {
            "id": "ca299efb",
            "cell_type": "markdown",
            "source": "<div class='alert alert-warning'>\n\nNumPy's interactive examples are experimental and may not always work as expected, with high load times especially on low-resource platforms, and the version of NumPy might not be in sync with the one you are browsing the documentation for. If you encounter any issues, please report them on the [NumPy issue tracker](https://github.com/numpy/numpy/issues).\n\n</div>",
            "metadata": {}
        },
        {
            "id": "f49a8f66",
            "cell_type": "code",
            "metadata": {},
            "execution_count": null,
            "source": "import numpy as np\nnp.binary_repr(10)",
            "outputs": [
                {
                    "output_type": "execute_result",
                    "metadata": {},
                    "data": {
                        "text/plain": "'1010'"
                    },
                    "execution_count": null
                }
            ]
        },
        {
            "id": "4551af27",
            "cell_type": "code",
            "metadata": {},
            "execution_count": null,
            "source": "np.right_shift(10, 1)",
            "outputs": [
                {
                    "output_type": "execute_result",
                    "metadata": {},
                    "data": {
                        "text/plain": "5"
                    },
                    "execution_count": null
                }
            ]
        },
        {
            "id": "3060c08f",
            "cell_type": "code",
            "metadata": {},
            "execution_count": null,
            "source": "np.binary_repr(5)",
            "outputs": [
                {
                    "output_type": "execute_result",
                    "metadata": {},
                    "data": {
                        "text/plain": "'101'"
                    },
                    "execution_count": null
                }
            ]
        },
        {
            "id": "b7f066e5",
            "cell_type": "code",
            "metadata": {},
            "execution_count": null,
            "source": "np.right_shift(10, [1,2,3])",
            "outputs": [
                {
                    "output_type": "execute_result",
                    "metadata": {},
                    "data": {
                        "text/plain": "array([5, 2, 1])"
                    },
                    "execution_count": null
                }
            ]
        },
        {
            "id": "d4b1cf15",
            "cell_type": "markdown",
            "source": "The ``>>`` operator can be used as a shorthand for ``np.right_shift`` on\nndarrays.\n",
            "metadata": {}
        },
        {
            "id": "09207828",
            "cell_type": "code",
            "metadata": {},
            "execution_count": null,
            "source": "x1 = 10\nx2 = np.array([1,2,3])\nx1 >> x2",
            "outputs": [
                {
                    "output_type": "execute_result",
                    "metadata": {},
                    "data": {
                        "text/plain": "array([5, 2, 1])"
                    },
                    "execution_count": null
                }
            ]
        }
    ]
}