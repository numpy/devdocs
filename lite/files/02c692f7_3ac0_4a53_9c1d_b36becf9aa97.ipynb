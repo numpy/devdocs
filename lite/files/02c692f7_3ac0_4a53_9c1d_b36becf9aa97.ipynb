{
    "nbformat": 4,
    "nbformat_minor": 5,
    "metadata": {
        "kernelspec": {
            "display_name": "Python",
            "language": "python",
            "name": "python"
        },
        "language_info": {
            "name": "python"
        }
    },
    "cells": [
        {
            "id": "27b77794",
            "cell_type": "markdown",
            "source": "<div class='alert alert-warning'>\n\nNumPy's interactive examples are experimental and may not always work as expected, with high load times especially on low-resource platforms, and the version of NumPy might not be in sync with the one you are browsing the documentation for. If you encounter any issues, please report them on the [NumPy issue tracker](https://github.com/numpy/numpy/issues).\n\n</div>",
            "metadata": {}
        },
        {
            "id": "7a64bccd",
            "cell_type": "code",
            "metadata": {},
            "execution_count": null,
            "source": "np.random.randn()",
            "outputs": [
                {
                    "output_type": "execute_result",
                    "metadata": {},
                    "data": {
                        "text/plain": "2.1923875335537315  # random"
                    },
                    "execution_count": null
                }
            ]
        },
        {
            "id": "610e17f7",
            "cell_type": "markdown",
            "source": "Two-by-four array of samples from the normal distribution with\nmean 3 and standard deviation 2.5:\n",
            "metadata": {}
        },
        {
            "id": "f4dd5a88",
            "cell_type": "code",
            "metadata": {},
            "execution_count": null,
            "source": "3 + 2.5 * np.random.randn(2, 4)",
            "outputs": [
                {
                    "output_type": "execute_result",
                    "metadata": {},
                    "data": {
                        "text/plain": "array([[-4.49401501,  4.00950034, -1.81814867,  7.29718677],   # random\n       [ 0.39924804,  4.68456316,  4.99394529,  4.84057254]])  # random"
                    },
                    "execution_count": null
                }
            ]
        }
    ]
}