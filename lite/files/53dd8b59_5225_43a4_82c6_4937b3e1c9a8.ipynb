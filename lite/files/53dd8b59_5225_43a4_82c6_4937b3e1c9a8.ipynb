{
    "nbformat": 4,
    "nbformat_minor": 5,
    "metadata": {
        "kernelspec": {
            "display_name": "Python",
            "language": "python",
            "name": "python"
        },
        "language_info": {
            "name": "python"
        }
    },
    "cells": [
        {
            "id": "890338dd",
            "cell_type": "markdown",
            "source": "<div class='alert alert-warning'>\n\nNumPy's interactive examples are experimental and may not always work as expected, with high load times especially on low-resource platforms, and the version of NumPy might not be in sync with the one you are browsing the documentation for. If you encounter any issues, please report them on the [NumPy issue tracker](https://github.com/numpy/numpy/issues).\n\n</div>",
            "metadata": {}
        },
        {
            "id": "4c75104e",
            "cell_type": "markdown",
            "source": "This API requires passing dtypes, define them for convenience:\n",
            "metadata": {}
        },
        {
            "id": "a3d58a06",
            "cell_type": "code",
            "metadata": {},
            "execution_count": null,
            "source": "import numpy as np\nint32 = np.dtype(\"int32\")\nfloat32 = np.dtype(\"float32\")",
            "outputs": []
        },
        {
            "id": "41d8e7e5",
            "cell_type": "markdown",
            "source": "The typical ufunc call does not pass an output dtype.  `numpy.add` has two\ninputs and one output, so leave the output as ``None`` (not provided):\n",
            "metadata": {}
        },
        {
            "id": "cc761ae3",
            "cell_type": "code",
            "metadata": {},
            "execution_count": null,
            "source": "np.add.resolve_dtypes((int32, float32, None))",
            "outputs": [
                {
                    "output_type": "execute_result",
                    "metadata": {},
                    "data": {
                        "text/plain": "(dtype('float64'), dtype('float64'), dtype('float64'))"
                    },
                    "execution_count": null
                }
            ]
        },
        {
            "id": "02ef1bc3",
            "cell_type": "markdown",
            "source": "The loop found uses \"float64\" for all operands (including the output), the\nfirst input would be cast.\n\n``resolve_dtypes`` supports \"weak\" handling for Python scalars by passing\n``int``, ``float``, or ``complex``:\n",
            "metadata": {}
        },
        {
            "id": "9efe4a43",
            "cell_type": "code",
            "metadata": {},
            "execution_count": null,
            "source": "np.add.resolve_dtypes((float32, float, None))",
            "outputs": [
                {
                    "output_type": "execute_result",
                    "metadata": {},
                    "data": {
                        "text/plain": "(dtype('float32'), dtype('float32'), dtype('float32'))"
                    },
                    "execution_count": null
                }
            ]
        },
        {
            "id": "41501852",
            "cell_type": "markdown",
            "source": "Where the Python ``float`` behaves similar to a Python value ``0.0``\nin a ufunc call.  (See :ref:`NEP 50 <NEP50>` for details.)",
            "metadata": {}
        }
    ]
}