{
    "nbformat": 4,
    "nbformat_minor": 5,
    "metadata": {
        "kernelspec": {
            "display_name": "Python",
            "language": "python",
            "name": "python"
        },
        "language_info": {
            "name": "python"
        }
    },
    "cells": [
        {
            "id": "af3a8f33",
            "cell_type": "markdown",
            "source": "<div class='alert alert-warning'>\n\nNumPy's interactive examples are experimental and may not always work as expected, with high load times especially on low-resource platforms, and the version of NumPy might not be in sync with the one you are browsing the documentation for. If you encounter any issues, please report them on the [NumPy issue tracker](https://github.com/numpy/numpy/issues).\n\n</div>",
            "metadata": {}
        },
        {
            "id": "e9d1741b",
            "cell_type": "code",
            "metadata": {},
            "execution_count": null,
            "source": "import numpy as np\na = np.array([[10, 7, 4], [3, 2, 1]])\na",
            "outputs": [
                {
                    "output_type": "execute_result",
                    "metadata": {},
                    "data": {
                        "text/plain": "array([[10,  7,  4],\n       [ 3,  2,  1]])"
                    },
                    "execution_count": null
                }
            ]
        },
        {
            "id": "e429d137",
            "cell_type": "code",
            "metadata": {},
            "execution_count": null,
            "source": "np.percentile(a, 50)",
            "outputs": [
                {
                    "output_type": "execute_result",
                    "metadata": {},
                    "data": {
                        "text/plain": "3.5"
                    },
                    "execution_count": null
                }
            ]
        },
        {
            "id": "9dc7a846",
            "cell_type": "code",
            "metadata": {},
            "execution_count": null,
            "source": "np.percentile(a, 50, axis=0)",
            "outputs": [
                {
                    "output_type": "execute_result",
                    "metadata": {},
                    "data": {
                        "text/plain": "array([6.5, 4.5, 2.5])"
                    },
                    "execution_count": null
                }
            ]
        },
        {
            "id": "30de0cfc",
            "cell_type": "code",
            "metadata": {},
            "execution_count": null,
            "source": "np.percentile(a, 50, axis=1)",
            "outputs": [
                {
                    "output_type": "execute_result",
                    "metadata": {},
                    "data": {
                        "text/plain": "array([7.,  2.])"
                    },
                    "execution_count": null
                }
            ]
        },
        {
            "id": "0c7e4ece",
            "cell_type": "code",
            "metadata": {},
            "execution_count": null,
            "source": "np.percentile(a, 50, axis=1, keepdims=True)",
            "outputs": [
                {
                    "output_type": "execute_result",
                    "metadata": {},
                    "data": {
                        "text/plain": "array([[7.],\n       [2.]])"
                    },
                    "execution_count": null
                }
            ]
        },
        {
            "id": "a689356e",
            "cell_type": "code",
            "metadata": {},
            "execution_count": null,
            "source": "m = np.percentile(a, 50, axis=0)\nout = np.zeros_like(m)\nnp.percentile(a, 50, axis=0, out=out)",
            "outputs": [
                {
                    "output_type": "execute_result",
                    "metadata": {},
                    "data": {
                        "text/plain": "array([6.5, 4.5, 2.5])"
                    },
                    "execution_count": null
                }
            ]
        },
        {
            "id": "7ed03113",
            "cell_type": "code",
            "metadata": {},
            "execution_count": null,
            "source": "m",
            "outputs": [
                {
                    "output_type": "execute_result",
                    "metadata": {},
                    "data": {
                        "text/plain": "array([6.5, 4.5, 2.5])"
                    },
                    "execution_count": null
                }
            ]
        },
        {
            "id": "8192a19d",
            "cell_type": "code",
            "metadata": {},
            "execution_count": null,
            "source": "b = a.copy()\nnp.percentile(b, 50, axis=1, overwrite_input=True)",
            "outputs": [
                {
                    "output_type": "execute_result",
                    "metadata": {},
                    "data": {
                        "text/plain": "array([7.,  2.])"
                    },
                    "execution_count": null
                }
            ]
        },
        {
            "id": "75601baa",
            "cell_type": "code",
            "metadata": {},
            "execution_count": null,
            "source": "assert not np.all(a == b)",
            "outputs": []
        },
        {
            "id": "9d88e00a",
            "cell_type": "markdown",
            "source": "The different methods can be visualized graphically:\n\n.. code-block:: python\n\n    import matplotlib.pyplot as plt\n\n    a = np.arange(4)\n    p = np.linspace(0, 100, 6001)\n    ax = plt.gca()\n    lines = [\n        ('linear', '-', 'C0'),\n        ('inverted_cdf', ':', 'C1'),\n        # Almost the same as `inverted_cdf`:\n        ('averaged_inverted_cdf', '-.', 'C1'),\n        ('closest_observation', ':', 'C2'),\n        ('interpolated_inverted_cdf', '--', 'C1'),\n        ('hazen', '--', 'C3'),\n        ('weibull', '-.', 'C4'),\n        ('median_unbiased', '--', 'C5'),\n        ('normal_unbiased', '-.', 'C6'),\n        ]\n    for method, style, color in lines:\n        ax.plot(\n            p, np.percentile(a, p, method=method),\n            label=method, linestyle=style, color=color)\n    ax.set(\n        title='Percentiles for different methods and data: ' + str(a),\n        xlabel='Percentile',\n        ylabel='Estimated percentile value',\n        yticks=a)\n    ax.legend(bbox_to_anchor=(1.03, 1))\n    plt.tight_layout()\n    plt.show()\n",
            "metadata": {}
        }
    ]
}