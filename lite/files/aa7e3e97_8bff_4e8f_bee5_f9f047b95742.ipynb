{
    "nbformat": 4,
    "nbformat_minor": 5,
    "metadata": {
        "kernelspec": {
            "display_name": "Python",
            "language": "python",
            "name": "python"
        },
        "language_info": {
            "name": "python"
        }
    },
    "cells": [
        {
            "id": "b0fd3923",
            "cell_type": "markdown",
            "source": "<div class='alert alert-warning'>\n\nNumPy's interactive examples are experimental and may not always work as expected, with high load times especially on low-resource platforms, and the version of NumPy might not be in sync with the one you are browsing the documentation for. If you encounter any issues, please report them on the [NumPy issue tracker](https://github.com/numpy/numpy/issues).\n\n</div>",
            "metadata": {}
        },
        {
            "id": "ffbc321b",
            "cell_type": "markdown",
            "source": "Draw samples from the distribution:\n",
            "metadata": {}
        },
        {
            "id": "4639836f",
            "cell_type": "code",
            "metadata": {},
            "execution_count": null,
            "source": "a = .6\ns = np.random.logseries(a, 10000)\nimport matplotlib.pyplot as plt\ncount, bins, ignored = plt.hist(s)",
            "outputs": []
        },
        {
            "id": "bd697f8b",
            "cell_type": "markdown",
            "source": "#   plot against distribution\n",
            "metadata": {}
        },
        {
            "id": "2da7cbca",
            "cell_type": "code",
            "metadata": {},
            "execution_count": null,
            "source": "def logseries(k, p):\n    return -p**k/(k*np.log(1-p))\nplt.plot(bins, logseries(bins, a)*count.max()/\n         logseries(bins, a).max(), 'r')\nplt.show()",
            "outputs": []
        }
    ]
}