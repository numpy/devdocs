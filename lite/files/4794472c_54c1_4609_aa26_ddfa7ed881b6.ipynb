{
    "nbformat": 4,
    "nbformat_minor": 5,
    "metadata": {
        "kernelspec": {
            "display_name": "Python",
            "language": "python",
            "name": "python"
        },
        "language_info": {
            "name": "python"
        }
    },
    "cells": [
        {
            "id": "53ea2198",
            "cell_type": "markdown",
            "source": "<div class='alert alert-warning'>\n\nNumPy's interactive examples are experimental and may not always work as expected, with high load times especially on low-resource platforms, and the version of NumPy might not be in sync with the one you are browsing the documentation for. If you encounter any issues, please report them on the [NumPy issue tracker](https://github.com/numpy/numpy/issues).\n\n</div>",
            "metadata": {}
        },
        {
            "id": "44b5e18f",
            "cell_type": "markdown",
            "source": "For a 1D array, ``a.tolist()`` is almost the same as ``list(a)``,\nexcept that ``tolist`` changes numpy scalars to Python scalars:\n",
            "metadata": {}
        },
        {
            "id": "4e698c7f",
            "cell_type": "code",
            "metadata": {},
            "execution_count": null,
            "source": "import numpy as np\na = np.uint32([1, 2])\na_list = list(a)\na_list",
            "outputs": [
                {
                    "output_type": "execute_result",
                    "metadata": {},
                    "data": {
                        "text/plain": "[np.uint32(1), np.uint32(2)]"
                    },
                    "execution_count": null
                }
            ]
        },
        {
            "id": "3295850e",
            "cell_type": "code",
            "metadata": {},
            "execution_count": null,
            "source": "type(a_list[0])",
            "outputs": [
                {
                    "output_type": "execute_result",
                    "metadata": {},
                    "data": {
                        "text/plain": "<class 'numpy.uint32'>"
                    },
                    "execution_count": null
                }
            ]
        },
        {
            "id": "ba4a7ec6",
            "cell_type": "code",
            "metadata": {},
            "execution_count": null,
            "source": "a_tolist = a.tolist()\na_tolist",
            "outputs": [
                {
                    "output_type": "execute_result",
                    "metadata": {},
                    "data": {
                        "text/plain": "[1, 2]"
                    },
                    "execution_count": null
                }
            ]
        },
        {
            "id": "e4c0a6b1",
            "cell_type": "code",
            "metadata": {},
            "execution_count": null,
            "source": "type(a_tolist[0])",
            "outputs": [
                {
                    "output_type": "execute_result",
                    "metadata": {},
                    "data": {
                        "text/plain": "<class 'int'>"
                    },
                    "execution_count": null
                }
            ]
        },
        {
            "id": "fc61fb31",
            "cell_type": "markdown",
            "source": "Additionally, for a 2D array, ``tolist`` applies recursively:\n",
            "metadata": {}
        },
        {
            "id": "0a03828b",
            "cell_type": "code",
            "metadata": {},
            "execution_count": null,
            "source": "a = np.array([[1, 2], [3, 4]])\nlist(a)",
            "outputs": [
                {
                    "output_type": "execute_result",
                    "metadata": {},
                    "data": {
                        "text/plain": "[array([1, 2]), array([3, 4])]"
                    },
                    "execution_count": null
                }
            ]
        },
        {
            "id": "3ebfd94c",
            "cell_type": "code",
            "metadata": {},
            "execution_count": null,
            "source": "a.tolist()",
            "outputs": [
                {
                    "output_type": "execute_result",
                    "metadata": {},
                    "data": {
                        "text/plain": "[[1, 2], [3, 4]]"
                    },
                    "execution_count": null
                }
            ]
        },
        {
            "id": "61b76169",
            "cell_type": "markdown",
            "source": "The base case for this recursion is a 0D array:\n",
            "metadata": {}
        },
        {
            "id": "f6bd5079",
            "cell_type": "code",
            "metadata": {},
            "execution_count": null,
            "source": "a = np.array(1)\nlist(a)",
            "outputs": [
                {
                    "output_type": "execute_result",
                    "metadata": {},
                    "data": {
                        "text/plain": "Traceback (most recent call last):\n  ...\nTypeError: iteration over a 0-d array"
                    },
                    "execution_count": null
                }
            ]
        },
        {
            "id": "71634ad8",
            "cell_type": "code",
            "metadata": {},
            "execution_count": null,
            "source": "a.tolist()",
            "outputs": [
                {
                    "output_type": "execute_result",
                    "metadata": {},
                    "data": {
                        "text/plain": "1"
                    },
                    "execution_count": null
                }
            ]
        }
    ]
}