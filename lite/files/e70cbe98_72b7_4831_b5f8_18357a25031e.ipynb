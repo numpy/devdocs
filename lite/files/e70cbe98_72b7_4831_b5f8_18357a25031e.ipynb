{
    "nbformat": 4,
    "nbformat_minor": 5,
    "metadata": {
        "kernelspec": {
            "display_name": "Python",
            "language": "python",
            "name": "python"
        },
        "language_info": {
            "name": "python"
        }
    },
    "cells": [
        {
            "id": "8ac8c848",
            "cell_type": "markdown",
            "source": "<div class='alert alert-warning'>\n\nNumPy's interactive examples are experimental and may not always work as expected, with high load times especially on low-resource platforms, and the version of NumPy might not be in sync with the one you are browsing the documentation for. If you encounter any issues, please report them on the [NumPy issue tracker](https://github.com/numpy/numpy/issues).\n\n</div>",
            "metadata": {}
        },
        {
            "id": "970ea3c0",
            "cell_type": "markdown",
            "source": "Consider four points in different quadrants:\n",
            "metadata": {}
        },
        {
            "id": "e9e14620",
            "cell_type": "code",
            "metadata": {},
            "execution_count": null,
            "source": "import numpy as np\nx = np.array([-1, +1, +1, -1])\ny = np.array([-1, -1, +1, +1])\nnp.arctan2(y, x) * 180 / np.pi",
            "outputs": [
                {
                    "output_type": "execute_result",
                    "metadata": {},
                    "data": {
                        "text/plain": "array([-135.,  -45.,   45.,  135.])"
                    },
                    "execution_count": null
                }
            ]
        },
        {
            "id": "c5956f91",
            "cell_type": "markdown",
            "source": "Note the order of the parameters. `arctan2` is defined also when `x2` = 0\nand at several other special points, obtaining values in\nthe range ``[-pi, pi]``:\n",
            "metadata": {}
        },
        {
            "id": "96b582e2",
            "cell_type": "code",
            "metadata": {},
            "execution_count": null,
            "source": "np.arctan2([1., -1.], [0., 0.])",
            "outputs": [
                {
                    "output_type": "execute_result",
                    "metadata": {},
                    "data": {
                        "text/plain": "array([ 1.57079633, -1.57079633])"
                    },
                    "execution_count": null
                }
            ]
        },
        {
            "id": "f5d38573",
            "cell_type": "code",
            "metadata": {},
            "execution_count": null,
            "source": "np.arctan2([0., 0., np.inf], [+0., -0., np.inf])",
            "outputs": [
                {
                    "output_type": "execute_result",
                    "metadata": {},
                    "data": {
                        "text/plain": "array([0.        , 3.14159265, 0.78539816])"
                    },
                    "execution_count": null
                }
            ]
        }
    ]
}