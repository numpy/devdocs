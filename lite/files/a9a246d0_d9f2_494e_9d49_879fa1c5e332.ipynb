{
    "nbformat": 4,
    "nbformat_minor": 5,
    "metadata": {
        "kernelspec": {
            "display_name": "Python",
            "language": "python",
            "name": "python"
        },
        "language_info": {
            "name": "python"
        }
    },
    "cells": [
        {
            "id": "9a25fbac",
            "cell_type": "markdown",
            "source": "<div class='alert alert-warning'>\n\nNumPy's interactive examples are experimental and may not always work as expected, with high load times especially on low-resource platforms, and the version of NumPy might not be in sync with the one you are browsing the documentation for. If you encounter any issues, please report them on the [NumPy issue tracker](https://github.com/numpy/numpy/issues).\n\n</div>",
            "metadata": {}
        },
        {
            "id": "a30bec25",
            "cell_type": "markdown",
            "source": "Draw values from the distribution and plot the histogram:\n",
            "metadata": {}
        },
        {
            "id": "5c16fbf0",
            "cell_type": "code",
            "metadata": {},
            "execution_count": null,
            "source": "import matplotlib.pyplot as plt\nrng = np.random.default_rng()\nh = plt.hist(rng.wald(3, 2, 100000), bins=200, density=True)\nplt.show()",
            "outputs": []
        }
    ]
}