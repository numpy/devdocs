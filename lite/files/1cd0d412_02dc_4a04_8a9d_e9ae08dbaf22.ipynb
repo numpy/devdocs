{
    "nbformat": 4,
    "nbformat_minor": 5,
    "metadata": {
        "kernelspec": {
            "display_name": "Python",
            "language": "python",
            "name": "python"
        },
        "language_info": {
            "name": "python"
        }
    },
    "cells": [
        {
            "id": "44630c68",
            "cell_type": "markdown",
            "source": "<div class='alert alert-warning'>\n\nNumPy's interactive examples are experimental and may not always work as expected, with high load times especially on low-resource platforms, and the version of NumPy might not be in sync with the one you are browsing the documentation for. If you encounter any issues, please report them on the [NumPy issue tracker](https://github.com/numpy/numpy/issues).\n\n</div>",
            "metadata": {}
        },
        {
            "id": "a3ae1922",
            "cell_type": "code",
            "metadata": {},
            "execution_count": null,
            "source": "import numpy as np\nnp.copysign(1.3, -1)",
            "outputs": [
                {
                    "output_type": "execute_result",
                    "metadata": {},
                    "data": {
                        "text/plain": "-1.3"
                    },
                    "execution_count": null
                }
            ]
        },
        {
            "id": "a509c4d0",
            "cell_type": "code",
            "metadata": {},
            "execution_count": null,
            "source": "1/np.copysign(0, 1)",
            "outputs": [
                {
                    "output_type": "execute_result",
                    "metadata": {},
                    "data": {
                        "text/plain": "inf"
                    },
                    "execution_count": null
                }
            ]
        },
        {
            "id": "0817a8b0",
            "cell_type": "code",
            "metadata": {},
            "execution_count": null,
            "source": "1/np.copysign(0, -1)",
            "outputs": [
                {
                    "output_type": "execute_result",
                    "metadata": {},
                    "data": {
                        "text/plain": "-inf"
                    },
                    "execution_count": null
                }
            ]
        },
        {
            "id": "d89f7b5e",
            "cell_type": "code",
            "metadata": {},
            "execution_count": null,
            "source": "np.copysign([-1, 0, 1], -1.1)",
            "outputs": [
                {
                    "output_type": "execute_result",
                    "metadata": {},
                    "data": {
                        "text/plain": "array([-1., -0., -1.])"
                    },
                    "execution_count": null
                }
            ]
        },
        {
            "id": "a6ec0e46",
            "cell_type": "code",
            "metadata": {},
            "execution_count": null,
            "source": "np.copysign([-1, 0, 1], np.arange(3)-1)",
            "outputs": [
                {
                    "output_type": "execute_result",
                    "metadata": {},
                    "data": {
                        "text/plain": "array([-1.,  0.,  1.])"
                    },
                    "execution_count": null
                }
            ]
        }
    ]
}