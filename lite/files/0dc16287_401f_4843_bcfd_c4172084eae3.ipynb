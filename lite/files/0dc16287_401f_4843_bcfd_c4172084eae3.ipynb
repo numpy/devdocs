{
    "nbformat": 4,
    "nbformat_minor": 5,
    "metadata": {
        "kernelspec": {
            "display_name": "Python",
            "language": "python",
            "name": "python"
        },
        "language_info": {
            "name": "python"
        }
    },
    "cells": [
        {
            "id": "17ee3cd9",
            "cell_type": "markdown",
            "source": "<div class='alert alert-warning'>\n\nNumPy's interactive examples are experimental and may not always work as expected, with high load times especially on low-resource platforms, and the version of NumPy might not be in sync with the one you are browsing the documentation for. If you encounter any issues, please report them on the [NumPy issue tracker](https://github.com/numpy/numpy/issues).\n\n</div>",
            "metadata": {}
        },
        {
            "id": "2e711eff",
            "cell_type": "code",
            "metadata": {},
            "execution_count": null,
            "source": "x = [1e-5, 1e-3, 1e-1]\ny = np.arccos(np.cos(x))\nnp.testing.assert_allclose(x, y, rtol=1e-5, atol=0)",
            "outputs": []
        },
        {
            "id": "7a09575b",
            "cell_type": "markdown",
            "source": "As mentioned in the Notes section, `assert_allclose` has special\nhandling for scalars. Here, the test checks that the value of `numpy.sin`\nis nearly zero at integer multiples of π.\n",
            "metadata": {}
        },
        {
            "id": "03a0cf2f",
            "cell_type": "code",
            "metadata": {},
            "execution_count": null,
            "source": "x = np.arange(3) * np.pi\nnp.testing.assert_allclose(np.sin(x), 0, atol=1e-15)",
            "outputs": []
        },
        {
            "id": "e4330714",
            "cell_type": "markdown",
            "source": "Use `strict` to raise an ``AssertionError`` when comparing an array\nwith one or more dimensions against a scalar.\n",
            "metadata": {}
        },
        {
            "id": "52234cd4",
            "cell_type": "code",
            "metadata": {},
            "execution_count": null,
            "source": "np.testing.assert_allclose(np.sin(x), 0, atol=1e-15, strict=True)",
            "outputs": [
                {
                    "output_type": "execute_result",
                    "metadata": {},
                    "data": {
                        "text/plain": "Traceback (most recent call last):\n    ...\nAssertionError:\nNot equal to tolerance rtol=1e-07, atol=1e-15\n<BLANKLINE>\n(shapes (3,), () mismatch)\n ACTUAL: array([ 0.000000e+00,  1.224647e-16, -2.449294e-16])\n DESIRED: array(0)"
                    },
                    "execution_count": null
                }
            ]
        },
        {
            "id": "793ce856",
            "cell_type": "markdown",
            "source": "The `strict` parameter also ensures that the array data types match:\n",
            "metadata": {}
        },
        {
            "id": "ac6698c9",
            "cell_type": "code",
            "metadata": {},
            "execution_count": null,
            "source": "y = np.zeros(3, dtype=np.float32)\nnp.testing.assert_allclose(np.sin(x), y, atol=1e-15, strict=True)",
            "outputs": [
                {
                    "output_type": "execute_result",
                    "metadata": {},
                    "data": {
                        "text/plain": "Traceback (most recent call last):\n    ...\nAssertionError:\nNot equal to tolerance rtol=1e-07, atol=1e-15\n<BLANKLINE>\n(dtypes float64, float32 mismatch)\n ACTUAL: array([ 0.000000e+00,  1.224647e-16, -2.449294e-16])\n DESIRED: array([0., 0., 0.], dtype=float32)"
                    },
                    "execution_count": null
                }
            ]
        }
    ]
}