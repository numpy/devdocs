{
    "nbformat": 4,
    "nbformat_minor": 5,
    "metadata": {
        "kernelspec": {
            "display_name": "Python",
            "language": "python",
            "name": "python"
        },
        "language_info": {
            "name": "python"
        }
    },
    "cells": [
        {
            "id": "2ced336f",
            "cell_type": "markdown",
            "source": "<div class='alert alert-warning'>\n\nNumPy's interactive examples are experimental and may not always work as expected, with high load times especially on low-resource platforms, and the version of NumPy might not be in sync with the one you are browsing the documentation for. If you encounter any issues, please report them on the [NumPy issue tracker](https://github.com/numpy/numpy/issues).\n\n</div>",
            "metadata": {}
        },
        {
            "id": "3ef33590",
            "cell_type": "code",
            "metadata": {},
            "execution_count": null,
            "source": "import sys\nsys_is_le = sys.byteorder == 'little'\nnative_code = '<' if sys_is_le else '>'\nswapped_code = '>' if sys_is_le else '<'\nimport numpy as np\nnative_dt = np.dtype(native_code+'i2')\nswapped_dt = np.dtype(swapped_code+'i2')\nnative_dt.newbyteorder('S') == swapped_dt",
            "outputs": [
                {
                    "output_type": "execute_result",
                    "metadata": {},
                    "data": {
                        "text/plain": "True"
                    },
                    "execution_count": null
                }
            ]
        },
        {
            "id": "8d603625",
            "cell_type": "code",
            "metadata": {},
            "execution_count": null,
            "source": "native_dt.newbyteorder() == swapped_dt",
            "outputs": [
                {
                    "output_type": "execute_result",
                    "metadata": {},
                    "data": {
                        "text/plain": "True"
                    },
                    "execution_count": null
                }
            ]
        },
        {
            "id": "a26fca80",
            "cell_type": "code",
            "metadata": {},
            "execution_count": null,
            "source": "native_dt == swapped_dt.newbyteorder('S')",
            "outputs": [
                {
                    "output_type": "execute_result",
                    "metadata": {},
                    "data": {
                        "text/plain": "True"
                    },
                    "execution_count": null
                }
            ]
        },
        {
            "id": "50b08751",
            "cell_type": "code",
            "metadata": {},
            "execution_count": null,
            "source": "native_dt == swapped_dt.newbyteorder('=')",
            "outputs": [
                {
                    "output_type": "execute_result",
                    "metadata": {},
                    "data": {
                        "text/plain": "True"
                    },
                    "execution_count": null
                }
            ]
        },
        {
            "id": "41ec2ba6",
            "cell_type": "code",
            "metadata": {},
            "execution_count": null,
            "source": "native_dt == swapped_dt.newbyteorder('N')",
            "outputs": [
                {
                    "output_type": "execute_result",
                    "metadata": {},
                    "data": {
                        "text/plain": "True"
                    },
                    "execution_count": null
                }
            ]
        },
        {
            "id": "8af5da0a",
            "cell_type": "code",
            "metadata": {},
            "execution_count": null,
            "source": "native_dt == native_dt.newbyteorder('|')",
            "outputs": [
                {
                    "output_type": "execute_result",
                    "metadata": {},
                    "data": {
                        "text/plain": "True"
                    },
                    "execution_count": null
                }
            ]
        },
        {
            "id": "f53ccffb",
            "cell_type": "code",
            "metadata": {},
            "execution_count": null,
            "source": "np.dtype('<i2') == native_dt.newbyteorder('<')",
            "outputs": [
                {
                    "output_type": "execute_result",
                    "metadata": {},
                    "data": {
                        "text/plain": "True"
                    },
                    "execution_count": null
                }
            ]
        },
        {
            "id": "71734368",
            "cell_type": "code",
            "metadata": {},
            "execution_count": null,
            "source": "np.dtype('<i2') == native_dt.newbyteorder('L')",
            "outputs": [
                {
                    "output_type": "execute_result",
                    "metadata": {},
                    "data": {
                        "text/plain": "True"
                    },
                    "execution_count": null
                }
            ]
        },
        {
            "id": "811f1d93",
            "cell_type": "code",
            "metadata": {},
            "execution_count": null,
            "source": "np.dtype('>i2') == native_dt.newbyteorder('>')",
            "outputs": [
                {
                    "output_type": "execute_result",
                    "metadata": {},
                    "data": {
                        "text/plain": "True"
                    },
                    "execution_count": null
                }
            ]
        },
        {
            "id": "8d0566fd",
            "cell_type": "code",
            "metadata": {},
            "execution_count": null,
            "source": "np.dtype('>i2') == native_dt.newbyteorder('B')",
            "outputs": [
                {
                    "output_type": "execute_result",
                    "metadata": {},
                    "data": {
                        "text/plain": "True"
                    },
                    "execution_count": null
                }
            ]
        }
    ]
}