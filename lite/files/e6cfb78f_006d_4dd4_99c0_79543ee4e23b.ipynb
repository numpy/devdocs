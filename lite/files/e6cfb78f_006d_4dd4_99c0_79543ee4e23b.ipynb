{
    "nbformat": 4,
    "nbformat_minor": 5,
    "metadata": {
        "kernelspec": {
            "display_name": "Python",
            "language": "python",
            "name": "python"
        },
        "language_info": {
            "name": "python"
        }
    },
    "cells": [
        {
            "id": "511848e5",
            "cell_type": "markdown",
            "source": "<div class='alert alert-warning'>\n\nNumPy's interactive examples are experimental and may not always work as expected, with high load times especially on low-resource platforms, and the version of NumPy might not be in sync with the one you are browsing the documentation for. If you encounter any issues, please report them on the [NumPy issue tracker](https://github.com/numpy/numpy/issues).\n\n</div>",
            "metadata": {}
        },
        {
            "id": "5c3e8476",
            "cell_type": "code",
            "metadata": {},
            "execution_count": null,
            "source": "import numpy as np\na = np.ma.array([4, 3, 5, 7, 6, 8], mask=[0, 0, 1, 0, 1, 0])\nindices = [0, 1, 4]\nnp.ma.take(a, indices)",
            "outputs": [
                {
                    "output_type": "execute_result",
                    "metadata": {},
                    "data": {
                        "text/plain": "masked_array(data=[4, 3, --],\n            mask=[False, False,  True],\n    fill_value=999999)"
                    },
                    "execution_count": null
                }
            ]
        },
        {
            "id": "58f0224a",
            "cell_type": "markdown",
            "source": "When `indices` is not one-dimensional, the output also has these dimensions:\n",
            "metadata": {}
        },
        {
            "id": "4c378f75",
            "cell_type": "code",
            "metadata": {},
            "execution_count": null,
            "source": "np.ma.take(a, [[0, 1], [2, 3]])",
            "outputs": [
                {
                    "output_type": "execute_result",
                    "metadata": {},
                    "data": {
                        "text/plain": "masked_array(data=[[4, 3],\n                [--, 7]],\n            mask=[[False, False],\n                [ True, False]],\n    fill_value=999999)"
                    },
                    "execution_count": null
                }
            ]
        }
    ]
}