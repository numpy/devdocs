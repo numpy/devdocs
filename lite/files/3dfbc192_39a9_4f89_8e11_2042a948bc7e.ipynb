{
    "nbformat": 4,
    "nbformat_minor": 5,
    "metadata": {
        "kernelspec": {
            "display_name": "Python",
            "language": "python",
            "name": "python"
        },
        "language_info": {
            "name": "python"
        }
    },
    "cells": [
        {
            "id": "5628ab01",
            "cell_type": "markdown",
            "source": "<div class='alert alert-warning'>\n\nNumPy's interactive examples are experimental and may not always work as expected, with high load times especially on low-resource platforms, and the version of NumPy might not be in sync with the one you are browsing the documentation for. If you encounter any issues, please report them on the [NumPy issue tracker](https://github.com/numpy/numpy/issues).\n\n</div>",
            "metadata": {}
        },
        {
            "id": "9bd378fa",
            "cell_type": "markdown",
            "source": "The base of an array that owns its memory is None:\n",
            "metadata": {}
        },
        {
            "id": "a432f958",
            "cell_type": "code",
            "metadata": {},
            "execution_count": null,
            "source": "import numpy as np\nx = np.array([1,2,3,4])\nx.base is None",
            "outputs": [
                {
                    "output_type": "execute_result",
                    "metadata": {},
                    "data": {
                        "text/plain": "True"
                    },
                    "execution_count": null
                }
            ]
        },
        {
            "id": "1153a848",
            "cell_type": "markdown",
            "source": "Slicing creates a view, whose memory is shared with x:\n",
            "metadata": {}
        },
        {
            "id": "0a290ac7",
            "cell_type": "code",
            "metadata": {},
            "execution_count": null,
            "source": "y = x[2:]\ny.base is x",
            "outputs": [
                {
                    "output_type": "execute_result",
                    "metadata": {},
                    "data": {
                        "text/plain": "True"
                    },
                    "execution_count": null
                }
            ]
        }
    ]
}