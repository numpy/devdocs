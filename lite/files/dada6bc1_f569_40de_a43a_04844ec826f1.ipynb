{
    "nbformat": 4,
    "nbformat_minor": 5,
    "metadata": {
        "kernelspec": {
            "display_name": "Python",
            "language": "python",
            "name": "python"
        },
        "language_info": {
            "name": "python"
        }
    },
    "cells": [
        {
            "id": "a799da52",
            "cell_type": "markdown",
            "source": "<div class='alert alert-warning'>\n\nNumPy's interactive examples are experimental and may not always work as expected, with high load times especially on low-resource platforms, and the version of NumPy might not be in sync with the one you are browsing the documentation for. If you encounter any issues, please report them on the [NumPy issue tracker](https://github.com/numpy/numpy/issues).\n\n</div>",
            "metadata": {}
        },
        {
            "id": "360258ef",
            "cell_type": "code",
            "metadata": {},
            "execution_count": null,
            "source": "import numpy as np\nc = np.array(['aAaAaA', '  aA  ', 'abBABba'])\nc",
            "outputs": [
                {
                    "output_type": "execute_result",
                    "metadata": {},
                    "data": {
                        "text/plain": "array(['aAaAaA', '  aA  ', 'abBABba'], dtype='<U7')"
                    },
                    "execution_count": null
                }
            ]
        },
        {
            "id": "5164bfe6",
            "cell_type": "code",
            "metadata": {},
            "execution_count": null,
            "source": "np.strings.count(c, 'A')",
            "outputs": [
                {
                    "output_type": "execute_result",
                    "metadata": {},
                    "data": {
                        "text/plain": "array([3, 1, 1])"
                    },
                    "execution_count": null
                }
            ]
        },
        {
            "id": "4ebdc8f6",
            "cell_type": "code",
            "metadata": {},
            "execution_count": null,
            "source": "np.strings.count(c, 'aA')",
            "outputs": [
                {
                    "output_type": "execute_result",
                    "metadata": {},
                    "data": {
                        "text/plain": "array([3, 1, 0])"
                    },
                    "execution_count": null
                }
            ]
        },
        {
            "id": "d3b5f90a",
            "cell_type": "code",
            "metadata": {},
            "execution_count": null,
            "source": "np.strings.count(c, 'A', start=1, end=4)",
            "outputs": [
                {
                    "output_type": "execute_result",
                    "metadata": {},
                    "data": {
                        "text/plain": "array([2, 1, 1])"
                    },
                    "execution_count": null
                }
            ]
        },
        {
            "id": "de77a4a9",
            "cell_type": "code",
            "metadata": {},
            "execution_count": null,
            "source": "np.strings.count(c, 'A', start=1, end=3)",
            "outputs": [
                {
                    "output_type": "execute_result",
                    "metadata": {},
                    "data": {
                        "text/plain": "array([1, 0, 0])"
                    },
                    "execution_count": null
                }
            ]
        }
    ]
}