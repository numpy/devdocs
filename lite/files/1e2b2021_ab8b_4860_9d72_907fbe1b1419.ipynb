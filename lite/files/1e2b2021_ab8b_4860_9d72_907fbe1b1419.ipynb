{
    "nbformat": 4,
    "nbformat_minor": 5,
    "metadata": {
        "kernelspec": {
            "display_name": "Python",
            "language": "python",
            "name": "python"
        },
        "language_info": {
            "name": "python"
        }
    },
    "cells": [
        {
            "id": "ffbe7a8c",
            "cell_type": "markdown",
            "source": "<div class='alert alert-warning'>\n\nNumPy's interactive examples are experimental and may not always work as expected, with high load times especially on low-resource platforms, and the version of NumPy might not be in sync with the one you are browsing the documentation for. If you encounter any issues, please report them on the [NumPy issue tracker](https://github.com/numpy/numpy/issues).\n\n</div>",
            "metadata": {}
        },
        {
            "id": "8793104b",
            "cell_type": "code",
            "metadata": {},
            "execution_count": null,
            "source": "import numpy as np\nnp.minimum([2, 3, 4], [1, 5, 2])",
            "outputs": [
                {
                    "output_type": "execute_result",
                    "metadata": {},
                    "data": {
                        "text/plain": "array([1, 3, 2])"
                    },
                    "execution_count": null
                }
            ]
        },
        {
            "id": "e462ca76",
            "cell_type": "code",
            "metadata": {},
            "execution_count": null,
            "source": "np.minimum(np.eye(2), [0.5, 2]) # broadcasting",
            "outputs": [
                {
                    "output_type": "execute_result",
                    "metadata": {},
                    "data": {
                        "text/plain": "array([[ 0.5,  0. ],\n       [ 0. ,  1. ]])"
                    },
                    "execution_count": null
                }
            ]
        },
        {
            "id": "7c66da1c",
            "cell_type": "code",
            "metadata": {},
            "execution_count": null,
            "source": "np.minimum([np.nan, 0, np.nan],[0, np.nan, np.nan])",
            "outputs": [
                {
                    "output_type": "execute_result",
                    "metadata": {},
                    "data": {
                        "text/plain": "array([nan, nan, nan])"
                    },
                    "execution_count": null
                }
            ]
        },
        {
            "id": "487dc702",
            "cell_type": "code",
            "metadata": {},
            "execution_count": null,
            "source": "np.minimum(-np.inf, 1)",
            "outputs": [
                {
                    "output_type": "execute_result",
                    "metadata": {},
                    "data": {
                        "text/plain": "-inf"
                    },
                    "execution_count": null
                }
            ]
        }
    ]
}