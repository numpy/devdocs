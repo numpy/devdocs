{
    "nbformat": 4,
    "nbformat_minor": 5,
    "metadata": {
        "kernelspec": {
            "display_name": "Python",
            "language": "python",
            "name": "python"
        },
        "language_info": {
            "name": "python"
        }
    },
    "cells": [
        {
            "id": "5a124e71",
            "cell_type": "markdown",
            "source": "<div class='alert alert-warning'>\n\nNumPy's interactive examples are experimental and may not always work as expected, with high load times especially on low-resource platforms, and the version of NumPy might not be in sync with the one you are browsing the documentation for. If you encounter any issues, please report them on the [NumPy issue tracker](https://github.com/numpy/numpy/issues).\n\n</div>",
            "metadata": {}
        },
        {
            "id": "84f29d81",
            "cell_type": "code",
            "metadata": {},
            "execution_count": null,
            "source": "import numpy as np\nnp.array([1, 2, 3])",
            "outputs": [
                {
                    "output_type": "execute_result",
                    "metadata": {},
                    "data": {
                        "text/plain": "array([1, 2, 3])"
                    },
                    "execution_count": null
                }
            ]
        },
        {
            "id": "083c7370",
            "cell_type": "markdown",
            "source": "Upcasting:\n",
            "metadata": {}
        },
        {
            "id": "a6748182",
            "cell_type": "code",
            "metadata": {},
            "execution_count": null,
            "source": "np.array([1, 2, 3.0])",
            "outputs": [
                {
                    "output_type": "execute_result",
                    "metadata": {},
                    "data": {
                        "text/plain": "array([ 1.,  2.,  3.])"
                    },
                    "execution_count": null
                }
            ]
        },
        {
            "id": "09289ed1",
            "cell_type": "markdown",
            "source": "More than one dimension:\n",
            "metadata": {}
        },
        {
            "id": "292577c4",
            "cell_type": "code",
            "metadata": {},
            "execution_count": null,
            "source": "np.array([[1, 2], [3, 4]])",
            "outputs": [
                {
                    "output_type": "execute_result",
                    "metadata": {},
                    "data": {
                        "text/plain": "array([[1, 2],\n       [3, 4]])"
                    },
                    "execution_count": null
                }
            ]
        },
        {
            "id": "a626c4ea",
            "cell_type": "markdown",
            "source": "Minimum dimensions 2:\n",
            "metadata": {}
        },
        {
            "id": "4b844624",
            "cell_type": "code",
            "metadata": {},
            "execution_count": null,
            "source": "np.array([1, 2, 3], ndmin=2)",
            "outputs": [
                {
                    "output_type": "execute_result",
                    "metadata": {},
                    "data": {
                        "text/plain": "array([[1, 2, 3]])"
                    },
                    "execution_count": null
                }
            ]
        },
        {
            "id": "6cd75501",
            "cell_type": "markdown",
            "source": "Type provided:\n",
            "metadata": {}
        },
        {
            "id": "bde291cf",
            "cell_type": "code",
            "metadata": {},
            "execution_count": null,
            "source": "np.array([1, 2, 3], dtype=complex)",
            "outputs": [
                {
                    "output_type": "execute_result",
                    "metadata": {},
                    "data": {
                        "text/plain": "array([ 1.+0.j,  2.+0.j,  3.+0.j])"
                    },
                    "execution_count": null
                }
            ]
        },
        {
            "id": "03f56d67",
            "cell_type": "markdown",
            "source": "Data-type consisting of more than one element:\n",
            "metadata": {}
        },
        {
            "id": "18bc175c",
            "cell_type": "code",
            "metadata": {},
            "execution_count": null,
            "source": "x = np.array([(1,2),(3,4)],dtype=[('a','<i4'),('b','<i4')])\nx['a']",
            "outputs": [
                {
                    "output_type": "execute_result",
                    "metadata": {},
                    "data": {
                        "text/plain": "array([1, 3], dtype=int32)"
                    },
                    "execution_count": null
                }
            ]
        },
        {
            "id": "c709b194",
            "cell_type": "markdown",
            "source": "Creating an array from sub-classes:\n",
            "metadata": {}
        },
        {
            "id": "9e87e186",
            "cell_type": "code",
            "metadata": {},
            "execution_count": null,
            "source": "np.array(np.asmatrix('1 2; 3 4'))",
            "outputs": [
                {
                    "output_type": "execute_result",
                    "metadata": {},
                    "data": {
                        "text/plain": "array([[1, 2],\n       [3, 4]])"
                    },
                    "execution_count": null
                }
            ]
        },
        {
            "id": "6fe8712d",
            "cell_type": "code",
            "metadata": {},
            "execution_count": null,
            "source": "np.array(np.asmatrix('1 2; 3 4'), subok=True)",
            "outputs": [
                {
                    "output_type": "execute_result",
                    "metadata": {},
                    "data": {
                        "text/plain": "matrix([[1, 2],\n        [3, 4]])"
                    },
                    "execution_count": null
                }
            ]
        },
        {
            "id": "09c55b29",
            "cell_type": "markdown",
            "source": "Limiting the maximum dimensions with ``ndmax``:\n",
            "metadata": {}
        },
        {
            "id": "bcbb0fda",
            "cell_type": "code",
            "metadata": {},
            "execution_count": null,
            "source": "a = np.array([[1, 2], [3, 4]], dtype=object, ndmax=2)\na",
            "outputs": [
                {
                    "output_type": "execute_result",
                    "metadata": {},
                    "data": {
                        "text/plain": "array([[1, 2],\n       [3, 4]], dtype=object)"
                    },
                    "execution_count": null
                }
            ]
        },
        {
            "id": "dab3aa33",
            "cell_type": "code",
            "metadata": {},
            "execution_count": null,
            "source": "a.shape",
            "outputs": [
                {
                    "output_type": "execute_result",
                    "metadata": {},
                    "data": {
                        "text/plain": "(2, 2)"
                    },
                    "execution_count": null
                }
            ]
        },
        {
            "id": "4150aa8b",
            "cell_type": "code",
            "metadata": {},
            "execution_count": null,
            "source": "b = np.array([[1, 2], [3, 4]], dtype=object, ndmax=1)\nb",
            "outputs": [
                {
                    "output_type": "execute_result",
                    "metadata": {},
                    "data": {
                        "text/plain": "array([list([1, 2]), list([3, 4])], dtype=object)"
                    },
                    "execution_count": null
                }
            ]
        },
        {
            "id": "d57e2dd0",
            "cell_type": "code",
            "metadata": {},
            "execution_count": null,
            "source": "b.shape",
            "outputs": [
                {
                    "output_type": "execute_result",
                    "metadata": {},
                    "data": {
                        "text/plain": "(2,)"
                    },
                    "execution_count": null
                }
            ]
        }
    ]
}