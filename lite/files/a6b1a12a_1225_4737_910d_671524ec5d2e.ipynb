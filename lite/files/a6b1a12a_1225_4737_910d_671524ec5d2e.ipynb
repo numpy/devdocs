{
    "nbformat": 4,
    "nbformat_minor": 5,
    "metadata": {
        "kernelspec": {
            "display_name": "Python",
            "language": "python",
            "name": "python"
        },
        "language_info": {
            "name": "python"
        }
    },
    "cells": [
        {
            "id": "eadfe893",
            "cell_type": "markdown",
            "source": "<div class='alert alert-warning'>\n\nNumPy's interactive examples are experimental and may not always work as expected, with high load times especially on low-resource platforms, and the version of NumPy might not be in sync with the one you are browsing the documentation for. If you encounter any issues, please report them on the [NumPy issue tracker](https://github.com/numpy/numpy/issues).\n\n</div>",
            "metadata": {}
        },
        {
            "id": "5440cc9f",
            "cell_type": "code",
            "metadata": {},
            "execution_count": null,
            "source": "import numpy as np\nx = np.eye(3)\nx.getfield(np.float64)",
            "outputs": [
                {
                    "output_type": "execute_result",
                    "metadata": {},
                    "data": {
                        "text/plain": "array([[1.,  0.,  0.],\n       [0.,  1.,  0.],\n       [0.,  0.,  1.]])"
                    },
                    "execution_count": null
                }
            ]
        },
        {
            "id": "ad65cf9e",
            "cell_type": "code",
            "metadata": {},
            "execution_count": null,
            "source": "x.setfield(3, np.int32)\nx.getfield(np.int32)",
            "outputs": [
                {
                    "output_type": "execute_result",
                    "metadata": {},
                    "data": {
                        "text/plain": "array([[3, 3, 3],\n       [3, 3, 3],\n       [3, 3, 3]], dtype=int32)"
                    },
                    "execution_count": null
                }
            ]
        },
        {
            "id": "56dc6c15",
            "cell_type": "code",
            "metadata": {},
            "execution_count": null,
            "source": "x",
            "outputs": [
                {
                    "output_type": "execute_result",
                    "metadata": {},
                    "data": {
                        "text/plain": "array([[1.0e+000, 1.5e-323, 1.5e-323],\n       [1.5e-323, 1.0e+000, 1.5e-323],\n       [1.5e-323, 1.5e-323, 1.0e+000]])"
                    },
                    "execution_count": null
                }
            ]
        },
        {
            "id": "345df865",
            "cell_type": "code",
            "metadata": {},
            "execution_count": null,
            "source": "x.setfield(np.eye(3), np.int32)\nx",
            "outputs": [
                {
                    "output_type": "execute_result",
                    "metadata": {},
                    "data": {
                        "text/plain": "array([[1.,  0.,  0.],\n       [0.,  1.,  0.],\n       [0.,  0.,  1.]])"
                    },
                    "execution_count": null
                }
            ]
        }
    ]
}