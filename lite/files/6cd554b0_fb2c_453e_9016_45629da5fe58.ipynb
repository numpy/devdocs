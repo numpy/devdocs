{
    "nbformat": 4,
    "nbformat_minor": 5,
    "metadata": {
        "kernelspec": {
            "display_name": "Python",
            "language": "python",
            "name": "python"
        },
        "language_info": {
            "name": "python"
        }
    },
    "cells": [
        {
            "id": "a73c6b36",
            "cell_type": "markdown",
            "source": "<div class='alert alert-warning'>\n\nNumPy's interactive examples are experimental and may not always work as expected, with high load times especially on low-resource platforms, and the version of NumPy might not be in sync with the one you are browsing the documentation for. If you encounter any issues, please report them on the [NumPy issue tracker](https://github.com/numpy/numpy/issues).\n\n</div>",
            "metadata": {}
        },
        {
            "id": "16dc9f29",
            "cell_type": "markdown",
            "source": "It is equivalent to ``reshape(-1, order=order)``.\n",
            "metadata": {}
        },
        {
            "id": "d2f6e7cd",
            "cell_type": "code",
            "metadata": {},
            "execution_count": null,
            "source": "import numpy as np\nx = np.array([[1, 2, 3], [4, 5, 6]])\nnp.ravel(x)",
            "outputs": [
                {
                    "output_type": "execute_result",
                    "metadata": {},
                    "data": {
                        "text/plain": "array([1, 2, 3, 4, 5, 6])"
                    },
                    "execution_count": null
                }
            ]
        },
        {
            "id": "f2ed9c8e",
            "cell_type": "code",
            "metadata": {},
            "execution_count": null,
            "source": "x.reshape(-1)",
            "outputs": [
                {
                    "output_type": "execute_result",
                    "metadata": {},
                    "data": {
                        "text/plain": "array([1, 2, 3, 4, 5, 6])"
                    },
                    "execution_count": null
                }
            ]
        },
        {
            "id": "42d6560b",
            "cell_type": "code",
            "metadata": {},
            "execution_count": null,
            "source": "np.ravel(x, order='F')",
            "outputs": [
                {
                    "output_type": "execute_result",
                    "metadata": {},
                    "data": {
                        "text/plain": "array([1, 4, 2, 5, 3, 6])"
                    },
                    "execution_count": null
                }
            ]
        },
        {
            "id": "5b920aaa",
            "cell_type": "markdown",
            "source": "When ``order`` is 'A', it will preserve the array's 'C' or 'F' ordering:\n",
            "metadata": {}
        },
        {
            "id": "9d2117ae",
            "cell_type": "code",
            "metadata": {},
            "execution_count": null,
            "source": "np.ravel(x.T)",
            "outputs": [
                {
                    "output_type": "execute_result",
                    "metadata": {},
                    "data": {
                        "text/plain": "array([1, 4, 2, 5, 3, 6])"
                    },
                    "execution_count": null
                }
            ]
        },
        {
            "id": "54575e9f",
            "cell_type": "code",
            "metadata": {},
            "execution_count": null,
            "source": "np.ravel(x.T, order='A')",
            "outputs": [
                {
                    "output_type": "execute_result",
                    "metadata": {},
                    "data": {
                        "text/plain": "array([1, 2, 3, 4, 5, 6])"
                    },
                    "execution_count": null
                }
            ]
        },
        {
            "id": "62e434b8",
            "cell_type": "markdown",
            "source": "When ``order`` is 'K', it will preserve orderings that are neither 'C'\nnor 'F', but won't reverse axes:\n",
            "metadata": {}
        },
        {
            "id": "3bd2f4e8",
            "cell_type": "code",
            "metadata": {},
            "execution_count": null,
            "source": "a = np.arange(3)[::-1]; a",
            "outputs": [
                {
                    "output_type": "execute_result",
                    "metadata": {},
                    "data": {
                        "text/plain": "array([2, 1, 0])"
                    },
                    "execution_count": null
                }
            ]
        },
        {
            "id": "726038e8",
            "cell_type": "code",
            "metadata": {},
            "execution_count": null,
            "source": "a.ravel(order='C')",
            "outputs": [
                {
                    "output_type": "execute_result",
                    "metadata": {},
                    "data": {
                        "text/plain": "array([2, 1, 0])"
                    },
                    "execution_count": null
                }
            ]
        },
        {
            "id": "c7d9bf27",
            "cell_type": "code",
            "metadata": {},
            "execution_count": null,
            "source": "a.ravel(order='K')",
            "outputs": [
                {
                    "output_type": "execute_result",
                    "metadata": {},
                    "data": {
                        "text/plain": "array([2, 1, 0])"
                    },
                    "execution_count": null
                }
            ]
        },
        {
            "id": "39cc5de1",
            "cell_type": "code",
            "metadata": {},
            "execution_count": null,
            "source": "a = np.arange(12).reshape(2,3,2).swapaxes(1,2); a",
            "outputs": [
                {
                    "output_type": "execute_result",
                    "metadata": {},
                    "data": {
                        "text/plain": "array([[[ 0,  2,  4],\n        [ 1,  3,  5]],\n       [[ 6,  8, 10],\n        [ 7,  9, 11]]])"
                    },
                    "execution_count": null
                }
            ]
        },
        {
            "id": "40a324ed",
            "cell_type": "code",
            "metadata": {},
            "execution_count": null,
            "source": "a.ravel(order='C')",
            "outputs": [
                {
                    "output_type": "execute_result",
                    "metadata": {},
                    "data": {
                        "text/plain": "array([ 0,  2,  4,  1,  3,  5,  6,  8, 10,  7,  9, 11])"
                    },
                    "execution_count": null
                }
            ]
        },
        {
            "id": "d3ed39e7",
            "cell_type": "code",
            "metadata": {},
            "execution_count": null,
            "source": "a.ravel(order='K')",
            "outputs": [
                {
                    "output_type": "execute_result",
                    "metadata": {},
                    "data": {
                        "text/plain": "array([ 0,  1,  2,  3,  4,  5,  6,  7,  8,  9, 10, 11])"
                    },
                    "execution_count": null
                }
            ]
        }
    ]
}