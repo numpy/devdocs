{
    "nbformat": 4,
    "nbformat_minor": 5,
    "metadata": {
        "kernelspec": {
            "display_name": "Python",
            "language": "python",
            "name": "python"
        },
        "language_info": {
            "name": "python"
        }
    },
    "cells": [
        {
            "id": "fbd87a1e",
            "cell_type": "markdown",
            "source": "<div class='alert alert-warning'>\n\nNumPy's interactive examples are experimental and may not always work as expected, with high load times especially on low-resource platforms, and the version of NumPy might not be in sync with the one you are browsing the documentation for. If you encounter any issues, please report them on the [NumPy issue tracker](https://github.com/numpy/numpy/issues).\n\n</div>",
            "metadata": {}
        },
        {
            "id": "a4a4c8b2",
            "cell_type": "code",
            "metadata": {},
            "execution_count": null,
            "source": "import numpy as np\nimport numpy.ma as ma\nm = ma.masked_equal([0, 1, 0, 2, 3], 0)\nm",
            "outputs": [
                {
                    "output_type": "execute_result",
                    "metadata": {},
                    "data": {
                        "text/plain": "masked_array(data=[--, 1, --, 2, 3],\n             mask=[ True, False,  True, False, False],\n       fill_value=0)"
                    },
                    "execution_count": null
                }
            ]
        },
        {
            "id": "b6005e15",
            "cell_type": "code",
            "metadata": {},
            "execution_count": null,
            "source": "ma.is_mask(m)",
            "outputs": [
                {
                    "output_type": "execute_result",
                    "metadata": {},
                    "data": {
                        "text/plain": "False"
                    },
                    "execution_count": null
                }
            ]
        },
        {
            "id": "7d5cf119",
            "cell_type": "code",
            "metadata": {},
            "execution_count": null,
            "source": "ma.is_mask(m.mask)",
            "outputs": [
                {
                    "output_type": "execute_result",
                    "metadata": {},
                    "data": {
                        "text/plain": "True"
                    },
                    "execution_count": null
                }
            ]
        },
        {
            "id": "773578ee",
            "cell_type": "markdown",
            "source": "Input must be an ndarray (or have similar attributes)\nfor it to be considered a valid mask.\n",
            "metadata": {}
        },
        {
            "id": "976d64d1",
            "cell_type": "code",
            "metadata": {},
            "execution_count": null,
            "source": "m = [False, True, False]\nma.is_mask(m)",
            "outputs": [
                {
                    "output_type": "execute_result",
                    "metadata": {},
                    "data": {
                        "text/plain": "False"
                    },
                    "execution_count": null
                }
            ]
        },
        {
            "id": "86fc0f29",
            "cell_type": "code",
            "metadata": {},
            "execution_count": null,
            "source": "m = np.array([False, True, False])\nm",
            "outputs": [
                {
                    "output_type": "execute_result",
                    "metadata": {},
                    "data": {
                        "text/plain": "array([False,  True, False])"
                    },
                    "execution_count": null
                }
            ]
        },
        {
            "id": "e712fc8a",
            "cell_type": "code",
            "metadata": {},
            "execution_count": null,
            "source": "ma.is_mask(m)",
            "outputs": [
                {
                    "output_type": "execute_result",
                    "metadata": {},
                    "data": {
                        "text/plain": "True"
                    },
                    "execution_count": null
                }
            ]
        },
        {
            "id": "cc3299c0",
            "cell_type": "markdown",
            "source": "Arrays with complex dtypes don't return True.\n",
            "metadata": {}
        },
        {
            "id": "c10babb9",
            "cell_type": "code",
            "metadata": {},
            "execution_count": null,
            "source": "dtype = np.dtype({'names':['monty', 'pithon'],\n                  'formats':[bool, bool]})\ndtype",
            "outputs": [
                {
                    "output_type": "execute_result",
                    "metadata": {},
                    "data": {
                        "text/plain": "dtype([('monty', '|b1'), ('pithon', '|b1')])"
                    },
                    "execution_count": null
                }
            ]
        },
        {
            "id": "5e53e575",
            "cell_type": "code",
            "metadata": {},
            "execution_count": null,
            "source": "m = np.array([(True, False), (False, True), (True, False)],\n             dtype=dtype)\nm",
            "outputs": [
                {
                    "output_type": "execute_result",
                    "metadata": {},
                    "data": {
                        "text/plain": "array([( True, False), (False,  True), ( True, False)],\n      dtype=[('monty', '?'), ('pithon', '?')])"
                    },
                    "execution_count": null
                }
            ]
        },
        {
            "id": "08b58039",
            "cell_type": "code",
            "metadata": {},
            "execution_count": null,
            "source": "ma.is_mask(m)",
            "outputs": [
                {
                    "output_type": "execute_result",
                    "metadata": {},
                    "data": {
                        "text/plain": "False"
                    },
                    "execution_count": null
                }
            ]
        }
    ]
}