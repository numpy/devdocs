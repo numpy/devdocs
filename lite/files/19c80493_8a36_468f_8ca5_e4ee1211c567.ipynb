{
    "nbformat": 4,
    "nbformat_minor": 5,
    "metadata": {
        "kernelspec": {
            "display_name": "Python",
            "language": "python",
            "name": "python"
        },
        "language_info": {
            "name": "python"
        }
    },
    "cells": [
        {
            "id": "64ee2d00",
            "cell_type": "markdown",
            "source": "<div class='alert alert-warning'>\n\nNumPy's interactive examples are experimental and may not always work as expected, with high load times especially on low-resource platforms, and the version of NumPy might not be in sync with the one you are browsing the documentation for. If you encounter any issues, please report them on the [NumPy issue tracker](https://github.com/numpy/numpy/issues).\n\n</div>",
            "metadata": {}
        },
        {
            "id": "9bd4d577",
            "cell_type": "code",
            "metadata": {},
            "execution_count": null,
            "source": "import numpy.matlib\nnp.matlib.zeros((2, 3))",
            "outputs": [
                {
                    "output_type": "execute_result",
                    "metadata": {},
                    "data": {
                        "text/plain": "matrix([[0.,  0.,  0.],\n        [0.,  0.,  0.]])"
                    },
                    "execution_count": null
                }
            ]
        },
        {
            "id": "fe4f2e1e",
            "cell_type": "code",
            "metadata": {},
            "execution_count": null,
            "source": "np.matlib.zeros(2)",
            "outputs": [
                {
                    "output_type": "execute_result",
                    "metadata": {},
                    "data": {
                        "text/plain": "matrix([[0.,  0.]])"
                    },
                    "execution_count": null
                }
            ]
        }
    ]
}