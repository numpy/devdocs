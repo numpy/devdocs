{
    "nbformat": 4,
    "nbformat_minor": 5,
    "metadata": {
        "kernelspec": {
            "display_name": "Python",
            "language": "python",
            "name": "python"
        },
        "language_info": {
            "name": "python"
        }
    },
    "cells": [
        {
            "id": "4af9b9b9",
            "cell_type": "markdown",
            "source": "<div class='alert alert-warning'>\n\nNumPy's interactive examples are experimental and may not always work as expected, with high load times especially on low-resource platforms, and the version of NumPy might not be in sync with the one you are browsing the documentation for. If you encounter any issues, please report them on the [NumPy issue tracker](https://github.com/numpy/numpy/issues).\n\n</div>",
            "metadata": {}
        },
        {
            "id": "934a490b",
            "cell_type": "code",
            "metadata": {},
            "execution_count": null,
            "source": "import numpy as np\nfrom numpy.lib import recfunctions as rfn\nndtype = [('a', int)]\na = np.ma.array([1, 1, 1, 2, 2, 3, 3],\n        mask=[0, 0, 1, 0, 0, 0, 1]).view(ndtype)\nrfn.find_duplicates(a, ignoremask=True, return_index=True)",
            "outputs": [
                {
                    "output_type": "execute_result",
                    "metadata": {},
                    "data": {
                        "text/plain": "(masked_array(data=[(1,), (1,), (2,), (2,)],\n             mask=[(False,), (False,), (False,), (False,)],\n       fill_value=(999999,),\n            dtype=[('a', '<i8')]), array([0, 1, 3, 4]))"
                    },
                    "execution_count": null
                }
            ]
        }
    ]
}