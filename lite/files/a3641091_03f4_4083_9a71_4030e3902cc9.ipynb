{
    "nbformat": 4,
    "nbformat_minor": 5,
    "metadata": {
        "kernelspec": {
            "display_name": "Python",
            "language": "python",
            "name": "python"
        },
        "language_info": {
            "name": "python"
        }
    },
    "cells": [
        {
            "id": "94b40cef",
            "cell_type": "markdown",
            "source": "<div class='alert alert-warning'>\n\nNumPy's interactive examples are experimental and may not always work as expected, with high load times especially on low-resource platforms, and the version of NumPy might not be in sync with the one you are browsing the documentation for. If you encounter any issues, please report them on the [NumPy issue tracker](https://github.com/numpy/numpy/issues).\n\n</div>",
            "metadata": {}
        },
        {
            "id": "cea14a8f",
            "cell_type": "code",
            "metadata": {},
            "execution_count": null,
            "source": "import numpy as np",
            "outputs": []
        },
        {
            "id": "fd0b713e",
            "cell_type": "code",
            "metadata": {},
            "execution_count": null,
            "source": "np.busday_offset('2011-06-23', 1)",
            "outputs": [
                {
                    "output_type": "execute_result",
                    "metadata": {},
                    "data": {
                        "text/plain": "np.datetime64('2011-06-24')"
                    },
                    "execution_count": null
                }
            ]
        },
        {
            "id": "6698e7e8",
            "cell_type": "code",
            "metadata": {},
            "execution_count": null,
            "source": "np.busday_offset('2011-06-23', 2)",
            "outputs": [
                {
                    "output_type": "execute_result",
                    "metadata": {},
                    "data": {
                        "text/plain": "np.datetime64('2011-06-27')"
                    },
                    "execution_count": null
                }
            ]
        }
    ]
}