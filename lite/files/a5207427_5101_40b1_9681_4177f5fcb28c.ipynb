{
    "nbformat": 4,
    "nbformat_minor": 5,
    "metadata": {
        "kernelspec": {
            "display_name": "Python",
            "language": "python",
            "name": "python"
        },
        "language_info": {
            "name": "python"
        }
    },
    "cells": [
        {
            "id": "a1932d5b",
            "cell_type": "markdown",
            "source": "<div class='alert alert-warning'>\n\nNumPy's interactive examples are experimental and may not always work as expected, with high load times especially on low-resource platforms, and the version of NumPy might not be in sync with the one you are browsing the documentation for. If you encounter any issues, please report them on the [NumPy issue tracker](https://github.com/numpy/numpy/issues).\n\n</div>",
            "metadata": {}
        },
        {
            "id": "5cc7074d",
            "cell_type": "code",
            "metadata": {},
            "execution_count": null,
            "source": "import numpy as np\nx = np.ma.array(np.arange(8), mask=[0]*4 + [1]*4)\nnp.ma.median(x)",
            "outputs": [
                {
                    "output_type": "execute_result",
                    "metadata": {},
                    "data": {
                        "text/plain": "1.5"
                    },
                    "execution_count": null
                }
            ]
        },
        {
            "id": "10a58f4b",
            "cell_type": "code",
            "metadata": {},
            "execution_count": null,
            "source": "x = np.ma.array(np.arange(10).reshape(2, 5), mask=[0]*6 + [1]*4)\nnp.ma.median(x)",
            "outputs": [
                {
                    "output_type": "execute_result",
                    "metadata": {},
                    "data": {
                        "text/plain": "2.5"
                    },
                    "execution_count": null
                }
            ]
        },
        {
            "id": "16cba1cb",
            "cell_type": "code",
            "metadata": {},
            "execution_count": null,
            "source": "np.ma.median(x, axis=-1, overwrite_input=True)",
            "outputs": [
                {
                    "output_type": "execute_result",
                    "metadata": {},
                    "data": {
                        "text/plain": "masked_array(data=[2.0, 5.0],\n             mask=[False, False],\n       fill_value=1e+20)"
                    },
                    "execution_count": null
                }
            ]
        }
    ]
}