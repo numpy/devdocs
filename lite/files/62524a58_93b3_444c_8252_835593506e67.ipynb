{
    "nbformat": 4,
    "nbformat_minor": 5,
    "metadata": {
        "kernelspec": {
            "display_name": "Python",
            "language": "python",
            "name": "python"
        },
        "language_info": {
            "name": "python"
        }
    },
    "cells": [
        {
            "id": "2332ab1e",
            "cell_type": "markdown",
            "source": "<div class='alert alert-warning'>\n\nNumPy's interactive examples are experimental and may not always work as expected, with high load times especially on low-resource platforms, and the version of NumPy might not be in sync with the one you are browsing the documentation for. If you encounter any issues, please report them on the [NumPy issue tracker](https://github.com/numpy/numpy/issues).\n\n</div>",
            "metadata": {}
        },
        {
            "id": "0cd990f0",
            "cell_type": "markdown",
            "source": "Consider four points in different quadrants:\n",
            "metadata": {}
        },
        {
            "id": "79f6c16d",
            "cell_type": "code",
            "metadata": {},
            "execution_count": null,
            "source": "import numpy as np\nx = np.array([-1, +1, +1, -1])\ny = np.array([-1, -1, +1, +1])\nnp.arctan2(y, x) * 180 / np.pi",
            "outputs": [
                {
                    "output_type": "execute_result",
                    "metadata": {},
                    "data": {
                        "text/plain": "array([-135.,  -45.,   45.,  135.])"
                    },
                    "execution_count": null
                }
            ]
        },
        {
            "id": "de444b10",
            "cell_type": "markdown",
            "source": "Note the order of the parameters. `arctan2` is defined also when `x2` = 0\nand at several other special points, obtaining values in\nthe range ``[-pi, pi]``:\n",
            "metadata": {}
        },
        {
            "id": "9440bab4",
            "cell_type": "code",
            "metadata": {},
            "execution_count": null,
            "source": "np.arctan2([1., -1.], [0., 0.])",
            "outputs": [
                {
                    "output_type": "execute_result",
                    "metadata": {},
                    "data": {
                        "text/plain": "array([ 1.57079633, -1.57079633])"
                    },
                    "execution_count": null
                }
            ]
        },
        {
            "id": "853d4596",
            "cell_type": "code",
            "metadata": {},
            "execution_count": null,
            "source": "np.arctan2([0., 0., np.inf], [+0., -0., np.inf])",
            "outputs": [
                {
                    "output_type": "execute_result",
                    "metadata": {},
                    "data": {
                        "text/plain": "array([0.        , 3.14159265, 0.78539816])"
                    },
                    "execution_count": null
                }
            ]
        }
    ]
}