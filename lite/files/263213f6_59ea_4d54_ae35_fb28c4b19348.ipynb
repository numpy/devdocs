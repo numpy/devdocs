{
    "nbformat": 4,
    "nbformat_minor": 5,
    "metadata": {
        "kernelspec": {
            "display_name": "Python",
            "language": "python",
            "name": "python"
        },
        "language_info": {
            "name": "python"
        }
    },
    "cells": [
        {
            "id": "4ab2e04e",
            "cell_type": "markdown",
            "source": "<div class='alert alert-warning'>\n\nNumPy's interactive examples are experimental and may not always work as expected, with high load times especially on low-resource platforms, and the version of NumPy might not be in sync with the one you are browsing the documentation for. If you encounter any issues, please report them on the [NumPy issue tracker](https://github.com/numpy/numpy/issues).\n\n</div>",
            "metadata": {}
        },
        {
            "id": "ae2987c7",
            "cell_type": "code",
            "metadata": {},
            "execution_count": null,
            "source": "import numpy as np\nA = np.array([4, 5, 6])\nB = [1, 2, 3]\nnp.copyto(A, B)\nA",
            "outputs": [
                {
                    "output_type": "execute_result",
                    "metadata": {},
                    "data": {
                        "text/plain": "array([1, 2, 3])"
                    },
                    "execution_count": null
                }
            ]
        },
        {
            "id": "12452ae3",
            "cell_type": "code",
            "metadata": {},
            "execution_count": null,
            "source": "A = np.array([[1, 2, 3], [4, 5, 6]])\nB = [[4, 5, 6], [7, 8, 9]]\nnp.copyto(A, B)\nA",
            "outputs": [
                {
                    "output_type": "execute_result",
                    "metadata": {},
                    "data": {
                        "text/plain": "array([[4, 5, 6],\n       [7, 8, 9]])"
                    },
                    "execution_count": null
                }
            ]
        }
    ]
}