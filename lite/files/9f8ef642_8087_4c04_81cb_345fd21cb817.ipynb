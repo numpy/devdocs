{
    "nbformat": 4,
    "nbformat_minor": 5,
    "metadata": {
        "kernelspec": {
            "display_name": "Python",
            "language": "python",
            "name": "python"
        },
        "language_info": {
            "name": "python"
        }
    },
    "cells": [
        {
            "id": "067025c6",
            "cell_type": "markdown",
            "source": "<div class='alert alert-warning'>\n\nNumPy's interactive examples are experimental and may not always work as expected, with high load times especially on low-resource platforms, and the version of NumPy might not be in sync with the one you are browsing the documentation for. If you encounter any issues, please report them on the [NumPy issue tracker](https://github.com/numpy/numpy/issues).\n\n</div>",
            "metadata": {}
        },
        {
            "id": "717cfbe9",
            "cell_type": "markdown",
            "source": "32-bit integer, whose first two bytes are interpreted as an integer\nvia field ``real``, and the following two bytes via field ``imag``.\n",
            "metadata": {}
        },
        {
            "id": "feaa143c",
            "cell_type": "code",
            "metadata": {},
            "execution_count": null,
            "source": "import numpy as np",
            "outputs": []
        },
        {
            "id": "336f0e5f",
            "cell_type": "code",
            "metadata": {},
            "execution_count": null,
            "source": "dt = np.dtype((np.int32,{'real':(np.int16, 0),'imag':(np.int16, 2)}))",
            "outputs": []
        },
        {
            "id": "1dbc72c3",
            "cell_type": "markdown",
            "source": "32-bit integer, which is interpreted as consisting of a sub-array\nof shape ``(4,)`` containing 8-bit integers:\n",
            "metadata": {}
        },
        {
            "id": "5abc413a",
            "cell_type": "code",
            "metadata": {},
            "execution_count": null,
            "source": "dt = np.dtype((np.int32, (np.int8, 4)))",
            "outputs": []
        },
        {
            "id": "faaab7cf",
            "cell_type": "markdown",
            "source": "32-bit integer, containing fields ``r``, ``g``, ``b``, ``a`` that\ninterpret the 4 bytes in the integer as four unsigned integers:\n",
            "metadata": {}
        },
        {
            "id": "58792f9b",
            "cell_type": "code",
            "metadata": {},
            "execution_count": null,
            "source": "dt = np.dtype(('i4', [('r','u1'),('g','u1'),('b','u1'),('a','u1')]))",
            "outputs": []
        }
    ]
}