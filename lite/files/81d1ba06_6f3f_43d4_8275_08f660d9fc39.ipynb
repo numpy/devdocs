{
    "nbformat": 4,
    "nbformat_minor": 5,
    "metadata": {
        "kernelspec": {
            "display_name": "Python",
            "language": "python",
            "name": "python"
        },
        "language_info": {
            "name": "python"
        }
    },
    "cells": [
        {
            "id": "bf7972cf",
            "cell_type": "markdown",
            "source": "<div class='alert alert-warning'>\n\nNumPy's interactive examples are experimental and may not always work as expected, with high load times especially on low-resource platforms, and the version of NumPy might not be in sync with the one you are browsing the documentation for. If you encounter any issues, please report them on the [NumPy issue tracker](https://github.com/numpy/numpy/issues).\n\n</div>",
            "metadata": {}
        },
        {
            "id": "c38affda",
            "cell_type": "code",
            "metadata": {},
            "execution_count": null,
            "source": "x1=np.array([1,2,3,4])\nx2=np.array(['a','dd','xyz','12'])\nx3=np.array([1.1,2,3,4])\nr = np.rec.fromarrays([x1,x2,x3],names='a,b,c')\nprint(r[1])",
            "outputs": [
                {
                    "output_type": "execute_result",
                    "metadata": {},
                    "data": {
                        "text/plain": "(2, 'dd', 2.0) # may vary"
                    },
                    "execution_count": null
                }
            ]
        },
        {
            "id": "66b14398",
            "cell_type": "code",
            "metadata": {},
            "execution_count": null,
            "source": "x1[1]=34\nr.a",
            "outputs": [
                {
                    "output_type": "execute_result",
                    "metadata": {},
                    "data": {
                        "text/plain": "array([1, 2, 3, 4])"
                    },
                    "execution_count": null
                }
            ]
        },
        {
            "id": "684297fa",
            "cell_type": "code",
            "metadata": {},
            "execution_count": null,
            "source": "x1 = np.array([1, 2, 3, 4])\nx2 = np.array(['a', 'dd', 'xyz', '12'])\nx3 = np.array([1.1, 2, 3,4])\nr = np.rec.fromarrays(\n    [x1, x2, x3],\n    dtype=np.dtype([('a', np.int32), ('b', 'S3'), ('c', np.float32)]))\nr",
            "outputs": [
                {
                    "output_type": "execute_result",
                    "metadata": {},
                    "data": {
                        "text/plain": "rec.array([(1, b'a', 1.1), (2, b'dd', 2. ), (3, b'xyz', 3. ),\n           (4, b'12', 4. )],\n          dtype=[('a', '<i4'), ('b', 'S3'), ('c', '<f4')])"
                    },
                    "execution_count": null
                }
            ]
        }
    ]
}