{
    "nbformat": 4,
    "nbformat_minor": 5,
    "metadata": {
        "kernelspec": {
            "display_name": "Python",
            "language": "python",
            "name": "python"
        },
        "language_info": {
            "name": "python"
        }
    },
    "cells": [
        {
            "id": "a09e5b31",
            "cell_type": "markdown",
            "source": "<div class='alert alert-warning'>\n\nNumPy's interactive examples are experimental and may not always work as expected, with high load times especially on low-resource platforms, and the version of NumPy might not be in sync with the one you are browsing the documentation for. If you encounter any issues, please report them on the [NumPy issue tracker](https://github.com/numpy/numpy/issues).\n\n</div>",
            "metadata": {}
        },
        {
            "id": "ae675eec",
            "cell_type": "code",
            "metadata": {},
            "execution_count": null,
            "source": "from numpy.polynomial import chebyshev as C\nc = (1,2,3)\nC.chebint(c)",
            "outputs": [
                {
                    "output_type": "execute_result",
                    "metadata": {},
                    "data": {
                        "text/plain": "array([ 0.5, -0.5,  0.5,  0.5])"
                    },
                    "execution_count": null
                }
            ]
        },
        {
            "id": "9781f6b0",
            "cell_type": "code",
            "metadata": {},
            "execution_count": null,
            "source": "C.chebint(c,3)",
            "outputs": [
                {
                    "output_type": "execute_result",
                    "metadata": {},
                    "data": {
                        "text/plain": "array([ 0.03125   , -0.1875    ,  0.04166667, -0.05208333,  0.01041667, # may vary\n    0.00625   ])"
                    },
                    "execution_count": null
                }
            ]
        },
        {
            "id": "93f839c3",
            "cell_type": "code",
            "metadata": {},
            "execution_count": null,
            "source": "C.chebint(c, k=3)",
            "outputs": [
                {
                    "output_type": "execute_result",
                    "metadata": {},
                    "data": {
                        "text/plain": "array([ 3.5, -0.5,  0.5,  0.5])"
                    },
                    "execution_count": null
                }
            ]
        },
        {
            "id": "da5dc763",
            "cell_type": "code",
            "metadata": {},
            "execution_count": null,
            "source": "C.chebint(c,lbnd=-2)",
            "outputs": [
                {
                    "output_type": "execute_result",
                    "metadata": {},
                    "data": {
                        "text/plain": "array([ 8.5, -0.5,  0.5,  0.5])"
                    },
                    "execution_count": null
                }
            ]
        },
        {
            "id": "59cb5373",
            "cell_type": "code",
            "metadata": {},
            "execution_count": null,
            "source": "C.chebint(c,scl=-2)",
            "outputs": [
                {
                    "output_type": "execute_result",
                    "metadata": {},
                    "data": {
                        "text/plain": "array([-1.,  1., -1., -1.])"
                    },
                    "execution_count": null
                }
            ]
        }
    ]
}