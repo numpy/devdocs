{
    "nbformat": 4,
    "nbformat_minor": 5,
    "metadata": {
        "kernelspec": {
            "display_name": "Python",
            "language": "python",
            "name": "python"
        },
        "language_info": {
            "name": "python"
        }
    },
    "cells": [
        {
            "id": "864ebfa7",
            "cell_type": "markdown",
            "source": "<div class='alert alert-warning'>\n\nNumPy's interactive examples are experimental and may not always work as expected, with high load times especially on low-resource platforms, and the version of NumPy might not be in sync with the one you are browsing the documentation for. If you encounter any issues, please report them on the [NumPy issue tracker](https://github.com/numpy/numpy/issues).\n\n</div>",
            "metadata": {}
        },
        {
            "id": "176a23a5",
            "cell_type": "code",
            "metadata": {},
            "execution_count": null,
            "source": "import numpy as np\nnp.equal([0, 1, 3], np.arange(3))",
            "outputs": [
                {
                    "output_type": "execute_result",
                    "metadata": {},
                    "data": {
                        "text/plain": "array([ True,  True, False])"
                    },
                    "execution_count": null
                }
            ]
        },
        {
            "id": "33cfc2ef",
            "cell_type": "markdown",
            "source": "What is compared are values, not types. So an int (1) and an array of\nlength one can evaluate as True:\n",
            "metadata": {}
        },
        {
            "id": "b4f80d6b",
            "cell_type": "code",
            "metadata": {},
            "execution_count": null,
            "source": "np.equal(1, np.ones(1))",
            "outputs": [
                {
                    "output_type": "execute_result",
                    "metadata": {},
                    "data": {
                        "text/plain": "array([ True])"
                    },
                    "execution_count": null
                }
            ]
        },
        {
            "id": "e8cb36fc",
            "cell_type": "markdown",
            "source": "The ``==`` operator can be used as a shorthand for ``np.equal`` on\nndarrays.\n",
            "metadata": {}
        },
        {
            "id": "16685570",
            "cell_type": "code",
            "metadata": {},
            "execution_count": null,
            "source": "a = np.array([2, 4, 6])\nb = np.array([2, 4, 2])\na == b",
            "outputs": [
                {
                    "output_type": "execute_result",
                    "metadata": {},
                    "data": {
                        "text/plain": "array([ True,  True, False])"
                    },
                    "execution_count": null
                }
            ]
        }
    ]
}