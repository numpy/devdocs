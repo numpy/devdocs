{
    "nbformat": 4,
    "nbformat_minor": 5,
    "metadata": {
        "kernelspec": {
            "display_name": "Python",
            "language": "python",
            "name": "python"
        },
        "language_info": {
            "name": "python"
        }
    },
    "cells": [
        {
            "id": "4f314da3",
            "cell_type": "markdown",
            "source": "<div class='alert alert-warning'>\n\nNumPy's interactive examples are experimental and may not always work as expected, with high load times especially on low-resource platforms, and the version of NumPy might not be in sync with the one you are browsing the documentation for. If you encounter any issues, please report them on the [NumPy issue tracker](https://github.com/numpy/numpy/issues).\n\n</div>",
            "metadata": {}
        },
        {
            "id": "40cfc958",
            "cell_type": "code",
            "metadata": {},
            "execution_count": null,
            "source": "import numpy as np\na = np.array([[1, np.nan], [3, 4]])\nnp.nanmean(a)",
            "outputs": [
                {
                    "output_type": "execute_result",
                    "metadata": {},
                    "data": {
                        "text/plain": "2.6666666666666665"
                    },
                    "execution_count": null
                }
            ]
        },
        {
            "id": "669a83d8",
            "cell_type": "code",
            "metadata": {},
            "execution_count": null,
            "source": "np.nanmean(a, axis=0)",
            "outputs": [
                {
                    "output_type": "execute_result",
                    "metadata": {},
                    "data": {
                        "text/plain": "array([2.,  4.])"
                    },
                    "execution_count": null
                }
            ]
        },
        {
            "id": "8f5bad34",
            "cell_type": "code",
            "metadata": {},
            "execution_count": null,
            "source": "np.nanmean(a, axis=1)",
            "outputs": [
                {
                    "output_type": "execute_result",
                    "metadata": {},
                    "data": {
                        "text/plain": "array([1.,  3.5]) # may vary"
                    },
                    "execution_count": null
                }
            ]
        }
    ]
}