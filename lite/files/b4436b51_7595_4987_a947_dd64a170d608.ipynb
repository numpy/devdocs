{
    "nbformat": 4,
    "nbformat_minor": 5,
    "metadata": {
        "kernelspec": {
            "display_name": "Python",
            "language": "python",
            "name": "python"
        },
        "language_info": {
            "name": "python"
        }
    },
    "cells": [
        {
            "id": "0972a2e7",
            "cell_type": "markdown",
            "source": "<div class='alert alert-warning'>\n\nNumPy's interactive examples are experimental and may not always work as expected, with high load times especially on low-resource platforms, and the version of NumPy might not be in sync with the one you are browsing the documentation for. If you encounter any issues, please report them on the [NumPy issue tracker](https://github.com/numpy/numpy/issues).\n\n</div>",
            "metadata": {}
        },
        {
            "id": "d7996760",
            "cell_type": "markdown",
            "source": "Plot the magnitude and phase of ``exp(x)`` in the complex plane:\n",
            "metadata": {}
        },
        {
            "id": "d6b35400",
            "cell_type": "code",
            "metadata": {},
            "execution_count": null,
            "source": "import numpy as np",
            "outputs": []
        },
        {
            "id": "d0c0a8f1",
            "cell_type": "code",
            "metadata": {},
            "execution_count": null,
            "source": "import matplotlib.pyplot as plt\nimport numpy as np",
            "outputs": []
        },
        {
            "id": "f8bf3cae",
            "cell_type": "code",
            "metadata": {},
            "execution_count": null,
            "source": "x = np.linspace(-2*np.pi, 2*np.pi, 100)\nxx = x + 1j * x[:, np.newaxis] # a + ib over complex plane\nout = np.exp(xx)",
            "outputs": []
        },
        {
            "id": "531cb776",
            "cell_type": "code",
            "metadata": {},
            "execution_count": null,
            "source": "plt.subplot(121)\nplt.imshow(np.abs(out),\n           extent=[-2*np.pi, 2*np.pi, -2*np.pi, 2*np.pi], cmap='gray')\nplt.title('Magnitude of exp(x)')",
            "outputs": []
        },
        {
            "id": "2052a780",
            "cell_type": "code",
            "metadata": {},
            "execution_count": null,
            "source": "plt.subplot(122)\nplt.imshow(np.angle(out),\n           extent=[-2*np.pi, 2*np.pi, -2*np.pi, 2*np.pi], cmap='hsv')\nplt.title('Phase (angle) of exp(x)')\nplt.show()",
            "outputs": []
        }
    ]
}