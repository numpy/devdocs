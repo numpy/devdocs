{
    "nbformat": 4,
    "nbformat_minor": 5,
    "metadata": {
        "kernelspec": {
            "display_name": "Python",
            "language": "python",
            "name": "python"
        },
        "language_info": {
            "name": "python"
        }
    },
    "cells": [
        {
            "id": "84215712",
            "cell_type": "markdown",
            "source": "<div class='alert alert-warning'>\n\nNumPy's interactive examples are experimental and may not always work as expected, with high load times especially on low-resource platforms, and the version of NumPy might not be in sync with the one you are browsing the documentation for. If you encounter any issues, please report them on the [NumPy issue tracker](https://github.com/numpy/numpy/issues).\n\n</div>",
            "metadata": {}
        },
        {
            "id": "d57b9008",
            "cell_type": "markdown",
            "source": "Converting a ctypes integer array:\n",
            "metadata": {}
        },
        {
            "id": "9057b55d",
            "cell_type": "code",
            "metadata": {},
            "execution_count": null,
            "source": "import ctypes\nctypes_array = (ctypes.c_int * 5)(0, 1, 2, 3, 4)\nnp_array = np.ctypeslib.as_array(ctypes_array)\nnp_array",
            "outputs": [
                {
                    "output_type": "execute_result",
                    "metadata": {},
                    "data": {
                        "text/plain": "array([0, 1, 2, 3, 4], dtype=int32)"
                    },
                    "execution_count": null
                }
            ]
        },
        {
            "id": "697eaf50",
            "cell_type": "markdown",
            "source": "Converting a ctypes POINTER:\n",
            "metadata": {}
        },
        {
            "id": "eb5ee3a0",
            "cell_type": "code",
            "metadata": {},
            "execution_count": null,
            "source": "import ctypes\nbuffer = (ctypes.c_int * 5)(0, 1, 2, 3, 4)\npointer = ctypes.cast(buffer, ctypes.POINTER(ctypes.c_int))\nnp_array = np.ctypeslib.as_array(pointer, (5,))\nnp_array",
            "outputs": [
                {
                    "output_type": "execute_result",
                    "metadata": {},
                    "data": {
                        "text/plain": "array([0, 1, 2, 3, 4], dtype=int32)"
                    },
                    "execution_count": null
                }
            ]
        }
    ]
}