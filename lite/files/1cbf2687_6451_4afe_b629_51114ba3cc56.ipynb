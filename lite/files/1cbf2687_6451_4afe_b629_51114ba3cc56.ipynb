{
    "nbformat": 4,
    "nbformat_minor": 5,
    "metadata": {
        "kernelspec": {
            "display_name": "Python",
            "language": "python",
            "name": "python"
        },
        "language_info": {
            "name": "python"
        }
    },
    "cells": [
        {
            "id": "8ff15f7d",
            "cell_type": "markdown",
            "source": "<div class='alert alert-warning'>\n\nNumPy's interactive examples are experimental and may not always work as expected, with high load times especially on low-resource platforms, and the version of NumPy might not be in sync with the one you are browsing the documentation for. If you encounter any issues, please report them on the [NumPy issue tracker](https://github.com/numpy/numpy/issues).\n\n</div>",
            "metadata": {}
        },
        {
            "id": "319bef63",
            "cell_type": "code",
            "metadata": {},
            "execution_count": null,
            "source": "import numpy as np\nx = y = z = np.arange(0.0,5.0,1.0)\nnp.savetxt('test.out', x, delimiter=',')   # X is an array\nnp.savetxt('test.out', (x,y,z))   # x,y,z equal sized 1D arrays\nnp.savetxt('test.out', x, fmt='%1.4e')   # use exponential notation",
            "outputs": []
        }
    ]
}