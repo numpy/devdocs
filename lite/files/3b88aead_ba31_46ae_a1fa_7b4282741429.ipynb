{
    "nbformat": 4,
    "nbformat_minor": 5,
    "metadata": {
        "kernelspec": {
            "display_name": "Python",
            "language": "python",
            "name": "python"
        },
        "language_info": {
            "name": "python"
        }
    },
    "cells": [
        {
            "id": "1b5260fc",
            "cell_type": "markdown",
            "source": "<div class='alert alert-warning'>\n\nNumPy's interactive examples are experimental and may not always work as expected, with high load times especially on low-resource platforms, and the version of NumPy might not be in sync with the one you are browsing the documentation for. If you encounter any issues, please report them on the [NumPy issue tracker](https://github.com/numpy/numpy/issues).\n\n</div>",
            "metadata": {}
        },
        {
            "id": "2f5ce009",
            "cell_type": "markdown",
            "source": "Draw samples from the distribution:\n",
            "metadata": {}
        },
        {
            "id": "7151b3fd",
            "cell_type": "code",
            "metadata": {},
            "execution_count": null,
            "source": "rng = np.random.default_rng()\nlam, size = 5, 10000\ns = rng.poisson(lam=lam, size=size)",
            "outputs": []
        },
        {
            "id": "d01eb41b",
            "cell_type": "markdown",
            "source": "Verify the mean and variance, which should be approximately ``lam``:\n",
            "metadata": {}
        },
        {
            "id": "39d00802",
            "cell_type": "code",
            "metadata": {},
            "execution_count": null,
            "source": "s.mean(), s.var()",
            "outputs": [
                {
                    "output_type": "execute_result",
                    "metadata": {},
                    "data": {
                        "text/plain": "(4.9917 5.1088311)  # may vary"
                    },
                    "execution_count": null
                }
            ]
        },
        {
            "id": "0ef09cd9",
            "cell_type": "markdown",
            "source": "Display the histogram and probability mass function:\n",
            "metadata": {}
        },
        {
            "id": "f9797a2c",
            "cell_type": "code",
            "metadata": {},
            "execution_count": null,
            "source": "import matplotlib.pyplot as plt\nfrom scipy import stats\nx = np.arange(0, 21)\npmf = stats.poisson.pmf(x, mu=lam)\nplt.hist(s, bins=x, density=True, width=0.5)\nplt.stem(x, pmf, 'C1-')\nplt.show()",
            "outputs": []
        },
        {
            "id": "bad2398c",
            "cell_type": "markdown",
            "source": "Draw each 100 values for lambda 100 and 500:\n",
            "metadata": {}
        },
        {
            "id": "6011fa1c",
            "cell_type": "code",
            "metadata": {},
            "execution_count": null,
            "source": "s = rng.poisson(lam=(100., 500.), size=(100, 2))",
            "outputs": []
        }
    ]
}