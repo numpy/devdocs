{
    "nbformat": 4,
    "nbformat_minor": 5,
    "metadata": {
        "kernelspec": {
            "display_name": "Python",
            "language": "python",
            "name": "python"
        },
        "language_info": {
            "name": "python"
        }
    },
    "cells": [
        {
            "id": "0ea647af",
            "cell_type": "markdown",
            "source": "<div class='alert alert-warning'>\n\nNumPy's interactive examples are experimental and may not always work as expected, with high load times especially on low-resource platforms, and the version of NumPy might not be in sync with the one you are browsing the documentation for. If you encounter any issues, please report them on the [NumPy issue tracker](https://github.com/numpy/numpy/issues).\n\n</div>",
            "metadata": {}
        },
        {
            "id": "9199d306",
            "cell_type": "code",
            "metadata": {},
            "execution_count": null,
            "source": "import numpy.ma as ma\nx = ma.array([1, 2, 3], mask=[0, 0, 1])\nx.mask = True\nx",
            "outputs": [
                {
                    "output_type": "execute_result",
                    "metadata": {},
                    "data": {
                        "text/plain": "masked_array(data=[--, --, --],\n             mask=[ True,  True,  True],\n       fill_value=999999,\n            dtype=int64)"
                    },
                    "execution_count": null
                }
            ]
        },
        {
            "id": "aaa9fd56",
            "cell_type": "markdown",
            "source": "Finally, specific entries can be masked and/or unmasked by assigning to the\nmask a sequence of booleans:\n",
            "metadata": {}
        },
        {
            "id": "7577bc9b",
            "cell_type": "code",
            "metadata": {},
            "execution_count": null,
            "source": "x = ma.array([1, 2, 3])\nx.mask = [0, 1, 0]\nx",
            "outputs": [
                {
                    "output_type": "execute_result",
                    "metadata": {},
                    "data": {
                        "text/plain": "masked_array(data=[1, --, 3],\n             mask=[False,  True, False],\n       fill_value=999999)"
                    },
                    "execution_count": null
                }
            ]
        }
    ]
}