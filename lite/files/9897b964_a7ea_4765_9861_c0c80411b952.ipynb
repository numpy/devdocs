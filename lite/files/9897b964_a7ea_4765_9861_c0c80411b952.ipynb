{
    "nbformat": 4,
    "nbformat_minor": 5,
    "metadata": {
        "kernelspec": {
            "display_name": "Python",
            "language": "python",
            "name": "python"
        },
        "language_info": {
            "name": "python"
        }
    },
    "cells": [
        {
            "id": "a43eca8a",
            "cell_type": "markdown",
            "source": "<div class='alert alert-warning'>\n\nNumPy's interactive examples are experimental and may not always work as expected, with high load times especially on low-resource platforms, and the version of NumPy might not be in sync with the one you are browsing the documentation for. If you encounter any issues, please report them on the [NumPy issue tracker](https://github.com/numpy/numpy/issues).\n\n</div>",
            "metadata": {}
        },
        {
            "id": "f3e3a9e9",
            "cell_type": "code",
            "metadata": {},
            "execution_count": null,
            "source": "import numpy as np\nnp.mintypecode(['d', 'f', 'S'])",
            "outputs": [
                {
                    "output_type": "execute_result",
                    "metadata": {},
                    "data": {
                        "text/plain": "'d'"
                    },
                    "execution_count": null
                }
            ]
        },
        {
            "id": "e1880243",
            "cell_type": "code",
            "metadata": {},
            "execution_count": null,
            "source": "x = np.array([1.1, 2-3.j])\nnp.mintypecode(x)",
            "outputs": [
                {
                    "output_type": "execute_result",
                    "metadata": {},
                    "data": {
                        "text/plain": "'D'"
                    },
                    "execution_count": null
                }
            ]
        },
        {
            "id": "87604fda",
            "cell_type": "code",
            "metadata": {},
            "execution_count": null,
            "source": "np.mintypecode('abceh', default='G')",
            "outputs": [
                {
                    "output_type": "execute_result",
                    "metadata": {},
                    "data": {
                        "text/plain": "'G'"
                    },
                    "execution_count": null
                }
            ]
        }
    ]
}