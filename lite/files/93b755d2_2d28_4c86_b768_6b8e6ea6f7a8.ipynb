{
    "nbformat": 4,
    "nbformat_minor": 5,
    "metadata": {
        "kernelspec": {
            "display_name": "Python",
            "language": "python",
            "name": "python"
        },
        "language_info": {
            "name": "python"
        }
    },
    "cells": [
        {
            "id": "fb025c11",
            "cell_type": "markdown",
            "source": "<div class='alert alert-warning'>\n\nNumPy's interactive examples are experimental and may not always work as expected, with high load times especially on low-resource platforms, and the version of NumPy might not be in sync with the one you are browsing the documentation for. If you encounter any issues, please report them on the [NumPy issue tracker](https://github.com/numpy/numpy/issues).\n\n</div>",
            "metadata": {}
        },
        {
            "id": "d778bc95",
            "cell_type": "code",
            "metadata": {},
            "execution_count": null,
            "source": "import numpy as np\nx = np.ma.array(np.arange(9).reshape(3, 3), mask=[[1, 0, 0],\n                                                  [1, 0, 0],\n                                                  [0, 0, 0]])\nx",
            "outputs": [
                {
                    "output_type": "execute_result",
                    "metadata": {},
                    "data": {
                        "text/plain": "masked_array(\n  data=[[--, 1, 2],\n        [--, 4, 5],\n        [6, 7, 8]],\n  mask=[[ True, False, False],\n        [ True, False, False],\n        [False, False, False]],\n  fill_value=999999)"
                    },
                    "execution_count": null
                }
            ]
        },
        {
            "id": "93b8408c",
            "cell_type": "code",
            "metadata": {},
            "execution_count": null,
            "source": "np.ma.compress_rowcols(x)",
            "outputs": [
                {
                    "output_type": "execute_result",
                    "metadata": {},
                    "data": {
                        "text/plain": "array([[7, 8]])"
                    },
                    "execution_count": null
                }
            ]
        },
        {
            "id": "07e3654e",
            "cell_type": "code",
            "metadata": {},
            "execution_count": null,
            "source": "np.ma.compress_rowcols(x, 0)",
            "outputs": [
                {
                    "output_type": "execute_result",
                    "metadata": {},
                    "data": {
                        "text/plain": "array([[6, 7, 8]])"
                    },
                    "execution_count": null
                }
            ]
        },
        {
            "id": "4e047f8d",
            "cell_type": "code",
            "metadata": {},
            "execution_count": null,
            "source": "np.ma.compress_rowcols(x, 1)",
            "outputs": [
                {
                    "output_type": "execute_result",
                    "metadata": {},
                    "data": {
                        "text/plain": "array([[1, 2],\n       [4, 5],\n       [7, 8]])"
                    },
                    "execution_count": null
                }
            ]
        }
    ]
}