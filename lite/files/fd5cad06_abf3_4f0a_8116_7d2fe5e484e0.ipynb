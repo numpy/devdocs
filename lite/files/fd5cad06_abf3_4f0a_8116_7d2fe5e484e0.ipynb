{
    "nbformat": 4,
    "nbformat_minor": 5,
    "metadata": {
        "kernelspec": {
            "display_name": "Python",
            "language": "python",
            "name": "python"
        },
        "language_info": {
            "name": "python"
        }
    },
    "cells": [
        {
            "id": "d3dd0396",
            "cell_type": "markdown",
            "source": "<div class='alert alert-warning'>\n\nNumPy's interactive examples are experimental and may not always work as expected, with high load times especially on low-resource platforms, and the version of NumPy might not be in sync with the one you are browsing the documentation for. If you encounter any issues, please report them on the [NumPy issue tracker](https://github.com/numpy/numpy/issues).\n\n</div>",
            "metadata": {}
        },
        {
            "id": "0862dfb3",
            "cell_type": "code",
            "metadata": {},
            "execution_count": null,
            "source": "import numpy as np\nc = np.array(['a1b2','1b2a','b2a1','2a1b'],'S4'); c",
            "outputs": [
                {
                    "output_type": "execute_result",
                    "metadata": {},
                    "data": {
                        "text/plain": "array(['a1b2', '1b2a', 'b2a1', '2a1b'],\n    dtype='|S4')"
                    },
                    "execution_count": null
                }
            ]
        },
        {
            "id": "edab8aa2",
            "cell_type": "code",
            "metadata": {},
            "execution_count": null,
            "source": "np.strings.capitalize(c)",
            "outputs": [
                {
                    "output_type": "execute_result",
                    "metadata": {},
                    "data": {
                        "text/plain": "array(['A1b2', '1b2a', 'B2a1', '2a1b'],\n    dtype='|S4')"
                    },
                    "execution_count": null
                }
            ]
        }
    ]
}