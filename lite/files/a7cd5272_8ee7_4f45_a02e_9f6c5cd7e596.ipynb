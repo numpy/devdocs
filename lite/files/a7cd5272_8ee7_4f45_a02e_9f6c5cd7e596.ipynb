{
    "nbformat": 4,
    "nbformat_minor": 5,
    "metadata": {
        "kernelspec": {
            "display_name": "Python",
            "language": "python",
            "name": "python"
        },
        "language_info": {
            "name": "python"
        }
    },
    "cells": [
        {
            "id": "41092c48",
            "cell_type": "markdown",
            "source": "<div class='alert alert-warning'>\n\nNumPy's interactive examples are experimental and may not always work as expected, with high load times especially on low-resource platforms, and the version of NumPy might not be in sync with the one you are browsing the documentation for. If you encounter any issues, please report them on the [NumPy issue tracker](https://github.com/numpy/numpy/issues).\n\n</div>",
            "metadata": {}
        },
        {
            "id": "43d691ba",
            "cell_type": "code",
            "metadata": {},
            "execution_count": null,
            "source": "c = np.matrix([[1], [2]])\nc",
            "outputs": [
                {
                    "output_type": "execute_result",
                    "metadata": {},
                    "data": {
                        "text/plain": "matrix([[1],\n        [2]])"
                    },
                    "execution_count": null
                }
            ]
        },
        {
            "id": "785b21ae",
            "cell_type": "code",
            "metadata": {},
            "execution_count": null,
            "source": "c.squeeze()",
            "outputs": [
                {
                    "output_type": "execute_result",
                    "metadata": {},
                    "data": {
                        "text/plain": "matrix([[1, 2]])"
                    },
                    "execution_count": null
                }
            ]
        },
        {
            "id": "4761b684",
            "cell_type": "code",
            "metadata": {},
            "execution_count": null,
            "source": "r = c.T\nr",
            "outputs": [
                {
                    "output_type": "execute_result",
                    "metadata": {},
                    "data": {
                        "text/plain": "matrix([[1, 2]])"
                    },
                    "execution_count": null
                }
            ]
        },
        {
            "id": "2b8de62c",
            "cell_type": "code",
            "metadata": {},
            "execution_count": null,
            "source": "r.squeeze()",
            "outputs": [
                {
                    "output_type": "execute_result",
                    "metadata": {},
                    "data": {
                        "text/plain": "matrix([[1, 2]])"
                    },
                    "execution_count": null
                }
            ]
        },
        {
            "id": "f1762739",
            "cell_type": "code",
            "metadata": {},
            "execution_count": null,
            "source": "m = np.matrix([[1, 2], [3, 4]])\nm.squeeze()",
            "outputs": [
                {
                    "output_type": "execute_result",
                    "metadata": {},
                    "data": {
                        "text/plain": "matrix([[1, 2],\n        [3, 4]])"
                    },
                    "execution_count": null
                }
            ]
        }
    ]
}