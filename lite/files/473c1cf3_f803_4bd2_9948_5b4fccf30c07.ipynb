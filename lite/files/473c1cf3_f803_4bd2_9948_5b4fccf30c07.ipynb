{
    "nbformat": 4,
    "nbformat_minor": 5,
    "metadata": {
        "kernelspec": {
            "display_name": "Python",
            "language": "python",
            "name": "python"
        },
        "language_info": {
            "name": "python"
        }
    },
    "cells": [
        {
            "id": "ea239e34",
            "cell_type": "markdown",
            "source": "<div class='alert alert-warning'>\n\nNumPy's interactive examples are experimental and may not always work as expected, with high load times especially on low-resource platforms, and the version of NumPy might not be in sync with the one you are browsing the documentation for. If you encounter any issues, please report them on the [NumPy issue tracker](https://github.com/numpy/numpy/issues).\n\n</div>",
            "metadata": {}
        },
        {
            "id": "f8f92da5",
            "cell_type": "markdown",
            "source": "the first assert does not raise an exception\n",
            "metadata": {}
        },
        {
            "id": "b739eca4",
            "cell_type": "code",
            "metadata": {},
            "execution_count": null,
            "source": "np.testing.assert_array_almost_equal([1.0,2.333,np.nan],\n                                     [1.0,2.333,np.nan])",
            "outputs": []
        },
        {
            "id": "e5c7df58",
            "cell_type": "code",
            "metadata": {},
            "execution_count": null,
            "source": "np.testing.assert_array_almost_equal([1.0,2.33333,np.nan],\n                                     [1.0,2.33339,np.nan], decimal=5)",
            "outputs": [
                {
                    "output_type": "execute_result",
                    "metadata": {},
                    "data": {
                        "text/plain": "Traceback (most recent call last):\n    ...\nAssertionError:\nArrays are not almost equal to 5 decimals\n<BLANKLINE>\nMismatched elements: 1 / 3 (33.3%)\nMismatch at index:\n [1]: 2.33333 (ACTUAL), 2.33339 (DESIRED)\nMax absolute difference among violations: 6.e-05\nMax relative difference among violations: 2.57136612e-05\n ACTUAL: array([1.     , 2.33333,     nan])\n DESIRED: array([1.     , 2.33339,     nan])"
                    },
                    "execution_count": null
                }
            ]
        },
        {
            "id": "b395c99c",
            "cell_type": "code",
            "metadata": {},
            "execution_count": null,
            "source": "np.testing.assert_array_almost_equal([1.0,2.33333,np.nan],\n                                     [1.0,2.33333, 5], decimal=5)",
            "outputs": [
                {
                    "output_type": "execute_result",
                    "metadata": {},
                    "data": {
                        "text/plain": "Traceback (most recent call last):\n    ...\nAssertionError:\nArrays are not almost equal to 5 decimals\n<BLANKLINE>\nnan location mismatch:\n ACTUAL: array([1.     , 2.33333,     nan])\n DESIRED: array([1.     , 2.33333, 5.     ])"
                    },
                    "execution_count": null
                }
            ]
        }
    ]
}