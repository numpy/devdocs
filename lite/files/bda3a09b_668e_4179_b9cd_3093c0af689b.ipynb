{
    "nbformat": 4,
    "nbformat_minor": 5,
    "metadata": {
        "kernelspec": {
            "display_name": "Python",
            "language": "python",
            "name": "python"
        },
        "language_info": {
            "name": "python"
        }
    },
    "cells": [
        {
            "id": "49ad2e45",
            "cell_type": "markdown",
            "source": "<div class='alert alert-warning'>\n\nNumPy's interactive examples are experimental and may not always work as expected, with high load times especially on low-resource platforms, and the version of NumPy might not be in sync with the one you are browsing the documentation for. If you encounter any issues, please report them on the [NumPy issue tracker](https://github.com/numpy/numpy/issues).\n\n</div>",
            "metadata": {}
        },
        {
            "id": "edcb8614",
            "cell_type": "code",
            "metadata": {},
            "execution_count": null,
            "source": "import numpy as np\na = np.array([[1,4], [3,1]])\na.sort(axis=1)\na",
            "outputs": [
                {
                    "output_type": "execute_result",
                    "metadata": {},
                    "data": {
                        "text/plain": "array([[1, 4],\n       [1, 3]])"
                    },
                    "execution_count": null
                }
            ]
        },
        {
            "id": "79c2865b",
            "cell_type": "code",
            "metadata": {},
            "execution_count": null,
            "source": "a.sort(axis=0)\na",
            "outputs": [
                {
                    "output_type": "execute_result",
                    "metadata": {},
                    "data": {
                        "text/plain": "array([[1, 3],\n       [1, 4]])"
                    },
                    "execution_count": null
                }
            ]
        },
        {
            "id": "a4943ef7",
            "cell_type": "markdown",
            "source": "Use the `order` keyword to specify a field to use when sorting a\nstructured array:\n",
            "metadata": {}
        },
        {
            "id": "3083cf38",
            "cell_type": "code",
            "metadata": {},
            "execution_count": null,
            "source": "a = np.array([('a', 2), ('c', 1)], dtype=[('x', 'S1'), ('y', int)])\na.sort(order='y')\na",
            "outputs": [
                {
                    "output_type": "execute_result",
                    "metadata": {},
                    "data": {
                        "text/plain": "array([(b'c', 1), (b'a', 2)],\n      dtype=[('x', 'S1'), ('y', '<i8')])"
                    },
                    "execution_count": null
                }
            ]
        }
    ]
}