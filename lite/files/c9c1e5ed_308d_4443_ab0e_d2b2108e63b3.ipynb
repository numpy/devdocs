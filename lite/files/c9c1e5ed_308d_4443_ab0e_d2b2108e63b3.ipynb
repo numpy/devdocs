{
    "nbformat": 4,
    "nbformat_minor": 5,
    "metadata": {
        "kernelspec": {
            "display_name": "Python",
            "language": "python",
            "name": "python"
        },
        "language_info": {
            "name": "python"
        }
    },
    "cells": [
        {
            "id": "db42fe6e",
            "cell_type": "markdown",
            "source": "<div class='alert alert-warning'>\n\nNumPy's interactive examples are experimental and may not always work as expected, with high load times especially on low-resource platforms, and the version of NumPy might not be in sync with the one you are browsing the documentation for. If you encounter any issues, please report them on the [NumPy issue tracker](https://github.com/numpy/numpy/issues).\n\n</div>",
            "metadata": {}
        },
        {
            "id": "aaaff60f",
            "cell_type": "code",
            "metadata": {},
            "execution_count": null,
            "source": "from numpy.polynomial.hermite import hermvander3d\nx = np.array([-1, 0, 1])\ny = np.array([-1, 0, 1])\nz = np.array([-1, 0, 1])\nhermvander3d(x, y, z, [0, 1, 2])",
            "outputs": [
                {
                    "output_type": "execute_result",
                    "metadata": {},
                    "data": {
                        "text/plain": "array([[ 1., -2.,  2., -2.,  4., -4.],\n       [ 1.,  0., -2.,  0.,  0., -0.],\n       [ 1.,  2.,  2.,  2.,  4.,  4.]])"
                    },
                    "execution_count": null
                }
            ]
        }
    ]
}