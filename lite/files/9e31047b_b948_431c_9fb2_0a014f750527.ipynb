{
    "nbformat": 4,
    "nbformat_minor": 5,
    "metadata": {
        "kernelspec": {
            "display_name": "Python",
            "language": "python",
            "name": "python"
        },
        "language_info": {
            "name": "python"
        }
    },
    "cells": [
        {
            "id": "152bbb5b",
            "cell_type": "markdown",
            "source": "<div class='alert alert-warning'>\n\nNumPy's interactive examples are experimental and may not always work as expected, with high load times especially on low-resource platforms, and the version of NumPy might not be in sync with the one you are browsing the documentation for. If you encounter any issues, please report them on the [NumPy issue tracker](https://github.com/numpy/numpy/issues).\n\n</div>",
            "metadata": {}
        },
        {
            "id": "e4ce94b3",
            "cell_type": "code",
            "metadata": {},
            "execution_count": null,
            "source": "import numpy as np\na = np.array([[1,2,3], [4,5,6]])\nnp.reshape(a, 6)",
            "outputs": [
                {
                    "output_type": "execute_result",
                    "metadata": {},
                    "data": {
                        "text/plain": "array([1, 2, 3, 4, 5, 6])"
                    },
                    "execution_count": null
                }
            ]
        },
        {
            "id": "5313c6c9",
            "cell_type": "code",
            "metadata": {},
            "execution_count": null,
            "source": "np.reshape(a, 6, order='F')",
            "outputs": [
                {
                    "output_type": "execute_result",
                    "metadata": {},
                    "data": {
                        "text/plain": "array([1, 4, 2, 5, 3, 6])"
                    },
                    "execution_count": null
                }
            ]
        },
        {
            "id": "e919a415",
            "cell_type": "code",
            "metadata": {},
            "execution_count": null,
            "source": "np.reshape(a, (3,-1))       # the unspecified value is inferred to be 2",
            "outputs": [
                {
                    "output_type": "execute_result",
                    "metadata": {},
                    "data": {
                        "text/plain": "array([[1, 2],\n       [3, 4],\n       [5, 6]])"
                    },
                    "execution_count": null
                }
            ]
        }
    ]
}