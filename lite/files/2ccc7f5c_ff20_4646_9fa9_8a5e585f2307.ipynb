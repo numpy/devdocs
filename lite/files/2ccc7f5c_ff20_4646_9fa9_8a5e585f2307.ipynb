{
    "nbformat": 4,
    "nbformat_minor": 5,
    "metadata": {
        "kernelspec": {
            "display_name": "Python",
            "language": "python",
            "name": "python"
        },
        "language_info": {
            "name": "python"
        }
    },
    "cells": [
        {
            "id": "de2812b0",
            "cell_type": "markdown",
            "source": "<div class='alert alert-warning'>\n\nNumPy's interactive examples are experimental and may not always work as expected, with high load times especially on low-resource platforms, and the version of NumPy might not be in sync with the one you are browsing the documentation for. If you encounter any issues, please report them on the [NumPy issue tracker](https://github.com/numpy/numpy/issues).\n\n</div>",
            "metadata": {}
        },
        {
            "id": "b60a02c4",
            "cell_type": "code",
            "metadata": {},
            "execution_count": null,
            "source": "import numpy as np\nnp.sqrt([1,4,9])",
            "outputs": [
                {
                    "output_type": "execute_result",
                    "metadata": {},
                    "data": {
                        "text/plain": "array([ 1.,  2.,  3.])"
                    },
                    "execution_count": null
                }
            ]
        },
        {
            "id": "0cac2304",
            "cell_type": "code",
            "metadata": {},
            "execution_count": null,
            "source": "np.sqrt([4, -1, -3+4J])",
            "outputs": [
                {
                    "output_type": "execute_result",
                    "metadata": {},
                    "data": {
                        "text/plain": "array([ 2.+0.j,  0.+1.j,  1.+2.j])"
                    },
                    "execution_count": null
                }
            ]
        },
        {
            "id": "128d735f",
            "cell_type": "code",
            "metadata": {},
            "execution_count": null,
            "source": "np.sqrt([4, -1, np.inf])",
            "outputs": [
                {
                    "output_type": "execute_result",
                    "metadata": {},
                    "data": {
                        "text/plain": "array([ 2., nan, inf])"
                    },
                    "execution_count": null
                }
            ]
        }
    ]
}