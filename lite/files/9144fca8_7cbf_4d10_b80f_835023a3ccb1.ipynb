{
    "nbformat": 4,
    "nbformat_minor": 5,
    "metadata": {
        "kernelspec": {
            "display_name": "Python",
            "language": "python",
            "name": "python"
        },
        "language_info": {
            "name": "python"
        }
    },
    "cells": [
        {
            "id": "2ff72aea",
            "cell_type": "markdown",
            "source": "<div class='alert alert-warning'>\n\nNumPy's interactive examples are experimental and may not always work as expected, with high load times especially on low-resource platforms, and the version of NumPy might not be in sync with the one you are browsing the documentation for. If you encounter any issues, please report them on the [NumPy issue tracker](https://github.com/numpy/numpy/issues).\n\n</div>",
            "metadata": {}
        },
        {
            "id": "1ece0e8f",
            "cell_type": "markdown",
            "source": "Below is a typical usage example: `NBitBase` is herein used for annotating\na function that takes a float and integer of arbitrary precision\nas arguments and returns a new float of whichever precision is largest\n(*e.g.* ``np.float16 + np.int64 -> np.float64``).\n\n.. code-block:: python\n\n    >>> from typing import TypeVar, TYPE_CHECKING\n    >>> import numpy as np\n    >>> import numpy.typing as npt\n\n    >>> S = TypeVar(\"S\", bound=npt.NBitBase)\n    >>> T = TypeVar(\"T\", bound=npt.NBitBase)\n\n    >>> def add(a: np.floating[S], b: np.integer[T]) -> np.floating[S | T]:\n    ...     return a + b\n\n    >>> a = np.float16()\n    >>> b = np.int64()\n    >>> out = add(a, b)\n\n    >>> if TYPE_CHECKING:\n    ...     reveal_locals()\n    ...     # note: Revealed local types are:\n    ...     # note:     a: numpy.floating[numpy.typing._16Bit*]\n    ...     # note:     b: numpy.signedinteger[numpy.typing._64Bit*]\n    ...     # note:     out: numpy.floating[numpy.typing._64Bit*]",
            "metadata": {}
        }
    ]
}