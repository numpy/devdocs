{
    "nbformat": 4,
    "nbformat_minor": 5,
    "metadata": {
        "kernelspec": {
            "display_name": "Python",
            "language": "python",
            "name": "python"
        },
        "language_info": {
            "name": "python"
        }
    },
    "cells": [
        {
            "id": "26dfe5bd",
            "cell_type": "markdown",
            "source": "<div class='alert alert-warning'>\n\nNumPy's interactive examples are experimental and may not always work as expected, with high load times especially on low-resource platforms, and the version of NumPy might not be in sync with the one you are browsing the documentation for. If you encounter any issues, please report them on the [NumPy issue tracker](https://github.com/numpy/numpy/issues).\n\n</div>",
            "metadata": {}
        },
        {
            "id": "70590c0d",
            "cell_type": "code",
            "metadata": {},
            "execution_count": null,
            "source": "import numpy as np",
            "outputs": []
        },
        {
            "id": "007f2906",
            "cell_type": "markdown",
            "source": "The number 13 is represented by ``00001101``.  Likewise, 17 is\nrepresented by ``00010001``.  The bit-wise AND of 13 and 17 is\ntherefore ``000000001``, or 1:\n",
            "metadata": {}
        },
        {
            "id": "c693ad4f",
            "cell_type": "code",
            "metadata": {},
            "execution_count": null,
            "source": "np.bitwise_and(13, 17)",
            "outputs": [
                {
                    "output_type": "execute_result",
                    "metadata": {},
                    "data": {
                        "text/plain": "1"
                    },
                    "execution_count": null
                }
            ]
        },
        {
            "id": "4ff8cef6",
            "cell_type": "code",
            "metadata": {},
            "execution_count": null,
            "source": "np.bitwise_and(14, 13)",
            "outputs": [
                {
                    "output_type": "execute_result",
                    "metadata": {},
                    "data": {
                        "text/plain": "12"
                    },
                    "execution_count": null
                }
            ]
        },
        {
            "id": "e1ffadce",
            "cell_type": "code",
            "metadata": {},
            "execution_count": null,
            "source": "np.binary_repr(12)",
            "outputs": [
                {
                    "output_type": "execute_result",
                    "metadata": {},
                    "data": {
                        "text/plain": "'1100'"
                    },
                    "execution_count": null
                }
            ]
        },
        {
            "id": "0ed692cf",
            "cell_type": "code",
            "metadata": {},
            "execution_count": null,
            "source": "np.bitwise_and([14,3], 13)",
            "outputs": [
                {
                    "output_type": "execute_result",
                    "metadata": {},
                    "data": {
                        "text/plain": "array([12,  1])"
                    },
                    "execution_count": null
                }
            ]
        },
        {
            "id": "5a66381f",
            "cell_type": "code",
            "metadata": {},
            "execution_count": null,
            "source": "np.bitwise_and([11,7], [4,25])",
            "outputs": [
                {
                    "output_type": "execute_result",
                    "metadata": {},
                    "data": {
                        "text/plain": "array([0, 1])"
                    },
                    "execution_count": null
                }
            ]
        },
        {
            "id": "5c8861c1",
            "cell_type": "code",
            "metadata": {},
            "execution_count": null,
            "source": "np.bitwise_and(np.array([2,5,255]), np.array([3,14,16]))",
            "outputs": [
                {
                    "output_type": "execute_result",
                    "metadata": {},
                    "data": {
                        "text/plain": "array([ 2,  4, 16])"
                    },
                    "execution_count": null
                }
            ]
        },
        {
            "id": "724cc9d2",
            "cell_type": "code",
            "metadata": {},
            "execution_count": null,
            "source": "np.bitwise_and([True, True], [False, True])",
            "outputs": [
                {
                    "output_type": "execute_result",
                    "metadata": {},
                    "data": {
                        "text/plain": "array([False,  True])"
                    },
                    "execution_count": null
                }
            ]
        },
        {
            "id": "6004875b",
            "cell_type": "markdown",
            "source": "The ``&`` operator can be used as a shorthand for ``np.bitwise_and`` on\nndarrays.\n",
            "metadata": {}
        },
        {
            "id": "eee023d6",
            "cell_type": "code",
            "metadata": {},
            "execution_count": null,
            "source": "x1 = np.array([2, 5, 255])\nx2 = np.array([3, 14, 16])\nx1 & x2",
            "outputs": [
                {
                    "output_type": "execute_result",
                    "metadata": {},
                    "data": {
                        "text/plain": "array([ 2,  4, 16])"
                    },
                    "execution_count": null
                }
            ]
        }
    ]
}