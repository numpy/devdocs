{
    "nbformat": 4,
    "nbformat_minor": 5,
    "metadata": {
        "kernelspec": {
            "display_name": "Python",
            "language": "python",
            "name": "python"
        },
        "language_info": {
            "name": "python"
        }
    },
    "cells": [
        {
            "id": "bb4ee85e",
            "cell_type": "markdown",
            "source": "<div class='alert alert-warning'>\n\nNumPy's interactive examples are experimental and may not always work as expected, with high load times especially on low-resource platforms, and the version of NumPy might not be in sync with the one you are browsing the documentation for. If you encounter any issues, please report them on the [NumPy issue tracker](https://github.com/numpy/numpy/issues).\n\n</div>",
            "metadata": {}
        },
        {
            "id": "24242745",
            "cell_type": "code",
            "metadata": {},
            "execution_count": null,
            "source": "import numpy as np\na = np.array([1,2,3])\nnp.cumprod(a) # intermediate results 1, 1*2\n              # total product 1*2*3 = 6",
            "outputs": [
                {
                    "output_type": "execute_result",
                    "metadata": {},
                    "data": {
                        "text/plain": "array([1, 2, 6])"
                    },
                    "execution_count": null
                }
            ]
        },
        {
            "id": "d8a8352d",
            "cell_type": "code",
            "metadata": {},
            "execution_count": null,
            "source": "a = np.array([[1, 2, 3], [4, 5, 6]])\nnp.cumprod(a, dtype=float) # specify type of output",
            "outputs": [
                {
                    "output_type": "execute_result",
                    "metadata": {},
                    "data": {
                        "text/plain": "array([   1.,    2.,    6.,   24.,  120.,  720.])"
                    },
                    "execution_count": null
                }
            ]
        },
        {
            "id": "20fb7979",
            "cell_type": "markdown",
            "source": "The cumulative product for each column (i.e., over the rows) of `a`:\n",
            "metadata": {}
        },
        {
            "id": "7698737f",
            "cell_type": "code",
            "metadata": {},
            "execution_count": null,
            "source": "np.cumprod(a, axis=0)",
            "outputs": [
                {
                    "output_type": "execute_result",
                    "metadata": {},
                    "data": {
                        "text/plain": "array([[ 1,  2,  3],\n       [ 4, 10, 18]])"
                    },
                    "execution_count": null
                }
            ]
        },
        {
            "id": "4d05c2c3",
            "cell_type": "markdown",
            "source": "The cumulative product for each row (i.e. over the columns) of `a`:\n",
            "metadata": {}
        },
        {
            "id": "e96610ad",
            "cell_type": "code",
            "metadata": {},
            "execution_count": null,
            "source": "np.cumprod(a,axis=1)",
            "outputs": [
                {
                    "output_type": "execute_result",
                    "metadata": {},
                    "data": {
                        "text/plain": "array([[  1,   2,   6],\n       [  4,  20, 120]])"
                    },
                    "execution_count": null
                }
            ]
        }
    ]
}