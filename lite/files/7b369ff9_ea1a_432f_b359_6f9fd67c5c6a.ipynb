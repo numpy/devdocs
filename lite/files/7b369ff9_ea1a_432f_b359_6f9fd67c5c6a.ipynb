{
    "nbformat": 4,
    "nbformat_minor": 5,
    "metadata": {
        "kernelspec": {
            "display_name": "Python",
            "language": "python",
            "name": "python"
        },
        "language_info": {
            "name": "python"
        }
    },
    "cells": [
        {
            "id": "fefa56a4",
            "cell_type": "markdown",
            "source": "<div class='alert alert-warning'>\n\nNumPy's interactive examples are experimental and may not always work as expected, with high load times especially on low-resource platforms, and the version of NumPy might not be in sync with the one you are browsing the documentation for. If you encounter any issues, please report them on the [NumPy issue tracker](https://github.com/numpy/numpy/issues).\n\n</div>",
            "metadata": {}
        },
        {
            "id": "56f3aad9",
            "cell_type": "code",
            "metadata": {},
            "execution_count": null,
            "source": "import numpy as np\nx = np.array([1, 2, 2.5])\nx",
            "outputs": [
                {
                    "output_type": "execute_result",
                    "metadata": {},
                    "data": {
                        "text/plain": "array([1. ,  2. ,  2.5])"
                    },
                    "execution_count": null
                }
            ]
        },
        {
            "id": "2c9f3431",
            "cell_type": "code",
            "metadata": {},
            "execution_count": null,
            "source": "x.astype(int)",
            "outputs": [
                {
                    "output_type": "execute_result",
                    "metadata": {},
                    "data": {
                        "text/plain": "array([1, 2, 2])"
                    },
                    "execution_count": null
                }
            ]
        },
        {
            "id": "80630276",
            "cell_type": "code",
            "metadata": {},
            "execution_count": null,
            "source": "x.astype(int, casting=\"same_value\")\n",
            "outputs": [
                {
                    "output_type": "execute_result",
                    "metadata": {},
                    "data": {
                        "text/plain": "Traceback (most recent call last):\nValueError: could not cast 'same_value' double to long"
                    },
                    "execution_count": null
                }
            ]
        },
        {
            "id": "2cad2b41",
            "cell_type": "code",
            "metadata": {},
            "execution_count": null,
            "source": "x[:2].astype(int, casting=\"same_value\")",
            "outputs": [
                {
                    "output_type": "execute_result",
                    "metadata": {},
                    "data": {
                        "text/plain": "array([1, 2])"
                    },
                    "execution_count": null
                }
            ]
        }
    ]
}