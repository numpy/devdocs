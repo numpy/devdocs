{
    "nbformat": 4,
    "nbformat_minor": 5,
    "metadata": {
        "kernelspec": {
            "display_name": "Python",
            "language": "python",
            "name": "python"
        },
        "language_info": {
            "name": "python"
        }
    },
    "cells": [
        {
            "id": "ae09a2bf",
            "cell_type": "markdown",
            "source": "<div class='alert alert-warning'>\n\nNumPy's interactive examples are experimental and may not always work as expected, with high load times especially on low-resource platforms, and the version of NumPy might not be in sync with the one you are browsing the documentation for. If you encounter any issues, please report them on the [NumPy issue tracker](https://github.com/numpy/numpy/issues).\n\n</div>",
            "metadata": {}
        },
        {
            "id": "aa2b19e5",
            "cell_type": "markdown",
            "source": "Floating point precision can be set:\n",
            "metadata": {}
        },
        {
            "id": "f397e746",
            "cell_type": "code",
            "metadata": {},
            "execution_count": null,
            "source": "import numpy as np\nnp.set_printoptions(precision=4)\nnp.array([1.123456789])",
            "outputs": [
                {
                    "output_type": "execute_result",
                    "metadata": {},
                    "data": {
                        "text/plain": "[1.1235]"
                    },
                    "execution_count": null
                }
            ]
        },
        {
            "id": "0c294958",
            "cell_type": "markdown",
            "source": "Long arrays can be summarised:\n",
            "metadata": {}
        },
        {
            "id": "e4915922",
            "cell_type": "code",
            "metadata": {},
            "execution_count": null,
            "source": "np.set_printoptions(threshold=5)\nnp.arange(10)",
            "outputs": [
                {
                    "output_type": "execute_result",
                    "metadata": {},
                    "data": {
                        "text/plain": "array([0, 1, 2, ..., 7, 8, 9], shape=(10,))"
                    },
                    "execution_count": null
                }
            ]
        },
        {
            "id": "7a5f27d5",
            "cell_type": "markdown",
            "source": "Small results can be suppressed:\n",
            "metadata": {}
        },
        {
            "id": "c57c9ade",
            "cell_type": "code",
            "metadata": {},
            "execution_count": null,
            "source": "eps = np.finfo(float).eps\nx = np.arange(4.)\nx**2 - (x + eps)**2",
            "outputs": [
                {
                    "output_type": "execute_result",
                    "metadata": {},
                    "data": {
                        "text/plain": "array([-4.9304e-32, -4.4409e-16,  0.0000e+00,  0.0000e+00])"
                    },
                    "execution_count": null
                }
            ]
        },
        {
            "id": "6d6fc250",
            "cell_type": "code",
            "metadata": {},
            "execution_count": null,
            "source": "np.set_printoptions(suppress=True)\nx**2 - (x + eps)**2",
            "outputs": [
                {
                    "output_type": "execute_result",
                    "metadata": {},
                    "data": {
                        "text/plain": "array([-0., -0.,  0.,  0.])"
                    },
                    "execution_count": null
                }
            ]
        },
        {
            "id": "9e165c8e",
            "cell_type": "markdown",
            "source": "A custom formatter can be used to display array elements as desired:\n",
            "metadata": {}
        },
        {
            "id": "7f481fc5",
            "cell_type": "code",
            "metadata": {},
            "execution_count": null,
            "source": "np.set_printoptions(formatter={'all':lambda x: 'int: '+str(-x)})\nx = np.arange(3)\nx",
            "outputs": [
                {
                    "output_type": "execute_result",
                    "metadata": {},
                    "data": {
                        "text/plain": "array([int: 0, int: -1, int: -2])"
                    },
                    "execution_count": null
                }
            ]
        },
        {
            "id": "1becf60f",
            "cell_type": "code",
            "metadata": {},
            "execution_count": null,
            "source": "np.set_printoptions()  # formatter gets reset\nx",
            "outputs": [
                {
                    "output_type": "execute_result",
                    "metadata": {},
                    "data": {
                        "text/plain": "array([0, 1, 2])"
                    },
                    "execution_count": null
                }
            ]
        },
        {
            "id": "44bd12b0",
            "cell_type": "markdown",
            "source": "To put back the default options, you can use:\n",
            "metadata": {}
        },
        {
            "id": "a4e1b6d5",
            "cell_type": "code",
            "metadata": {},
            "execution_count": null,
            "source": "np.set_printoptions(edgeitems=3, infstr='inf',\nlinewidth=75, nanstr='nan', precision=8,\nsuppress=False, threshold=1000, formatter=None)",
            "outputs": []
        },
        {
            "id": "8180edd0",
            "cell_type": "markdown",
            "source": "Also to temporarily override options, use `printoptions`\nas a context manager:\n",
            "metadata": {}
        },
        {
            "id": "f3926e01",
            "cell_type": "code",
            "metadata": {},
            "execution_count": null,
            "source": "with np.printoptions(precision=2, suppress=True, threshold=5):\n    np.linspace(0, 10, 10)",
            "outputs": [
                {
                    "output_type": "execute_result",
                    "metadata": {},
                    "data": {
                        "text/plain": "array([ 0.  ,  1.11,  2.22, ...,  7.78,  8.89, 10.  ], shape=(10,))"
                    },
                    "execution_count": null
                }
            ]
        }
    ]
}