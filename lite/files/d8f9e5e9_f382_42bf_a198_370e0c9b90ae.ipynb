{
    "nbformat": 4,
    "nbformat_minor": 5,
    "metadata": {
        "kernelspec": {
            "display_name": "Python",
            "language": "python",
            "name": "python"
        },
        "language_info": {
            "name": "python"
        }
    },
    "cells": [
        {
            "id": "af3dc07e",
            "cell_type": "markdown",
            "source": "<div class='alert alert-warning'>\n\nNumPy's interactive examples are experimental and may not always work as expected, with high load times especially on low-resource platforms, and the version of NumPy might not be in sync with the one you are browsing the documentation for. If you encounter any issues, please report them on the [NumPy issue tracker](https://github.com/numpy/numpy/issues).\n\n</div>",
            "metadata": {}
        },
        {
            "id": "f14ad508",
            "cell_type": "code",
            "metadata": {},
            "execution_count": null,
            "source": "rng = np.random.default_rng()\nrng.integers(2, size=10)",
            "outputs": [
                {
                    "output_type": "execute_result",
                    "metadata": {},
                    "data": {
                        "text/plain": "array([1, 0, 0, 0, 1, 1, 0, 0, 1, 0])  # random"
                    },
                    "execution_count": null
                }
            ]
        },
        {
            "id": "b876e1de",
            "cell_type": "code",
            "metadata": {},
            "execution_count": null,
            "source": "rng.integers(1, size=10)",
            "outputs": [
                {
                    "output_type": "execute_result",
                    "metadata": {},
                    "data": {
                        "text/plain": "array([0, 0, 0, 0, 0, 0, 0, 0, 0, 0])"
                    },
                    "execution_count": null
                }
            ]
        },
        {
            "id": "f7f6955d",
            "cell_type": "markdown",
            "source": "Generate a 2 x 4 array of ints between 0 and 4, inclusive:\n",
            "metadata": {}
        },
        {
            "id": "9b30bd5e",
            "cell_type": "code",
            "metadata": {},
            "execution_count": null,
            "source": "rng.integers(5, size=(2, 4))",
            "outputs": [
                {
                    "output_type": "execute_result",
                    "metadata": {},
                    "data": {
                        "text/plain": "array([[4, 0, 2, 1],\n       [3, 2, 2, 0]])  # random"
                    },
                    "execution_count": null
                }
            ]
        },
        {
            "id": "3376797c",
            "cell_type": "markdown",
            "source": "Generate a 1 x 3 array with 3 different upper bounds\n",
            "metadata": {}
        },
        {
            "id": "395f4339",
            "cell_type": "code",
            "metadata": {},
            "execution_count": null,
            "source": "rng.integers(1, [3, 5, 10])",
            "outputs": [
                {
                    "output_type": "execute_result",
                    "metadata": {},
                    "data": {
                        "text/plain": "array([2, 2, 9])  # random"
                    },
                    "execution_count": null
                }
            ]
        },
        {
            "id": "0ea05cc6",
            "cell_type": "markdown",
            "source": "Generate a 1 by 3 array with 3 different lower bounds\n",
            "metadata": {}
        },
        {
            "id": "720861eb",
            "cell_type": "code",
            "metadata": {},
            "execution_count": null,
            "source": "rng.integers([1, 5, 7], 10)",
            "outputs": [
                {
                    "output_type": "execute_result",
                    "metadata": {},
                    "data": {
                        "text/plain": "array([9, 8, 7])  # random"
                    },
                    "execution_count": null
                }
            ]
        },
        {
            "id": "c1f988bb",
            "cell_type": "markdown",
            "source": "Generate a 2 by 4 array using broadcasting with dtype of uint8\n",
            "metadata": {}
        },
        {
            "id": "056a6b90",
            "cell_type": "code",
            "metadata": {},
            "execution_count": null,
            "source": "rng.integers([1, 3, 5, 7], [[10], [20]], dtype=np.uint8)",
            "outputs": [
                {
                    "output_type": "execute_result",
                    "metadata": {},
                    "data": {
                        "text/plain": "array([[ 8,  6,  9,  7],\n       [ 1, 16,  9, 12]], dtype=uint8)  # random"
                    },
                    "execution_count": null
                }
            ]
        }
    ]
}