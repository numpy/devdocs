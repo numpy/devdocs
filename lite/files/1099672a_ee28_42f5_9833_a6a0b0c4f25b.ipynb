{
    "nbformat": 4,
    "nbformat_minor": 5,
    "metadata": {
        "kernelspec": {
            "display_name": "Python",
            "language": "python",
            "name": "python"
        },
        "language_info": {
            "name": "python"
        }
    },
    "cells": [
        {
            "id": "12d7b555",
            "cell_type": "markdown",
            "source": "<div class='alert alert-warning'>\n\nNumPy's interactive examples are experimental and may not always work as expected, with high load times especially on low-resource platforms, and the version of NumPy might not be in sync with the one you are browsing the documentation for. If you encounter any issues, please report them on the [NumPy issue tracker](https://github.com/numpy/numpy/issues).\n\n</div>",
            "metadata": {}
        },
        {
            "id": "6fbccb3f",
            "cell_type": "code",
            "metadata": {},
            "execution_count": null,
            "source": "import numpy as np\nnp.newaxis is None",
            "outputs": [
                {
                    "output_type": "execute_result",
                    "metadata": {},
                    "data": {
                        "text/plain": "True"
                    },
                    "execution_count": null
                }
            ]
        },
        {
            "id": "d456fc6e",
            "cell_type": "code",
            "metadata": {},
            "execution_count": null,
            "source": "x = np.arange(3)\nx",
            "outputs": [
                {
                    "output_type": "execute_result",
                    "metadata": {},
                    "data": {
                        "text/plain": "array([0, 1, 2])"
                    },
                    "execution_count": null
                }
            ]
        },
        {
            "id": "9f178302",
            "cell_type": "code",
            "metadata": {},
            "execution_count": null,
            "source": "x[:, np.newaxis]",
            "outputs": [
                {
                    "output_type": "execute_result",
                    "metadata": {},
                    "data": {
                        "text/plain": "array([[0],\n[1],\n[2]])"
                    },
                    "execution_count": null
                }
            ]
        },
        {
            "id": "2e7ec625",
            "cell_type": "code",
            "metadata": {},
            "execution_count": null,
            "source": "x[:, np.newaxis, np.newaxis]",
            "outputs": [
                {
                    "output_type": "execute_result",
                    "metadata": {},
                    "data": {
                        "text/plain": "array([[[0]],\n[[1]],\n[[2]]])"
                    },
                    "execution_count": null
                }
            ]
        },
        {
            "id": "ec86ac62",
            "cell_type": "code",
            "metadata": {},
            "execution_count": null,
            "source": "x[:, np.newaxis] * x",
            "outputs": [
                {
                    "output_type": "execute_result",
                    "metadata": {},
                    "data": {
                        "text/plain": "array([[0, 0, 0],\n    [0, 1, 2],\n    [0, 2, 4]])"
                    },
                    "execution_count": null
                }
            ]
        },
        {
            "id": "d9b03b68",
            "cell_type": "markdown",
            "source": "Outer product, same as ``outer(x, y)``:\n",
            "metadata": {}
        },
        {
            "id": "ac8e7723",
            "cell_type": "code",
            "metadata": {},
            "execution_count": null,
            "source": "y = np.arange(3, 6)\nx[:, np.newaxis] * y",
            "outputs": [
                {
                    "output_type": "execute_result",
                    "metadata": {},
                    "data": {
                        "text/plain": "array([[ 0,  0,  0],\n    [ 3,  4,  5],\n    [ 6,  8, 10]])"
                    },
                    "execution_count": null
                }
            ]
        },
        {
            "id": "22aa0e13",
            "cell_type": "markdown",
            "source": "``x[np.newaxis, :]`` is equivalent to ``x[np.newaxis]`` and ``x[None]``:\n",
            "metadata": {}
        },
        {
            "id": "ad8523d6",
            "cell_type": "code",
            "metadata": {},
            "execution_count": null,
            "source": "x[np.newaxis, :].shape",
            "outputs": [
                {
                    "output_type": "execute_result",
                    "metadata": {},
                    "data": {
                        "text/plain": "(1, 3)"
                    },
                    "execution_count": null
                }
            ]
        },
        {
            "id": "8e7b1efb",
            "cell_type": "code",
            "metadata": {},
            "execution_count": null,
            "source": "x[np.newaxis].shape",
            "outputs": [
                {
                    "output_type": "execute_result",
                    "metadata": {},
                    "data": {
                        "text/plain": "(1, 3)"
                    },
                    "execution_count": null
                }
            ]
        },
        {
            "id": "7c8aeb1a",
            "cell_type": "code",
            "metadata": {},
            "execution_count": null,
            "source": "x[None].shape",
            "outputs": [
                {
                    "output_type": "execute_result",
                    "metadata": {},
                    "data": {
                        "text/plain": "(1, 3)"
                    },
                    "execution_count": null
                }
            ]
        },
        {
            "id": "190ad5e3",
            "cell_type": "code",
            "metadata": {},
            "execution_count": null,
            "source": "x[:, np.newaxis].shape",
            "outputs": [
                {
                    "output_type": "execute_result",
                    "metadata": {},
                    "data": {
                        "text/plain": "(3, 1)"
                    },
                    "execution_count": null
                }
            ]
        }
    ]
}