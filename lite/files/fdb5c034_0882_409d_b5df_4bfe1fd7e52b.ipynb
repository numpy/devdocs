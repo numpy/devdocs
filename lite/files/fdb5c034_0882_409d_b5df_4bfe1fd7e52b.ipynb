{
    "nbformat": 4,
    "nbformat_minor": 5,
    "metadata": {
        "kernelspec": {
            "display_name": "Python",
            "language": "python",
            "name": "python"
        },
        "language_info": {
            "name": "python"
        }
    },
    "cells": [
        {
            "id": "7ac9f5b3",
            "cell_type": "markdown",
            "source": "<div class='alert alert-warning'>\n\nNumPy's interactive examples are experimental and may not always work as expected, with high load times especially on low-resource platforms, and the version of NumPy might not be in sync with the one you are browsing the documentation for. If you encounter any issues, please report them on the [NumPy issue tracker](https://github.com/numpy/numpy/issues).\n\n</div>",
            "metadata": {}
        },
        {
            "id": "baba48f9",
            "cell_type": "markdown",
            "source": "Shrinking an array: array is flattened (in the order that the data are\nstored in memory), resized, and reshaped:\n",
            "metadata": {}
        },
        {
            "id": "0225291a",
            "cell_type": "code",
            "metadata": {},
            "execution_count": null,
            "source": "import numpy as np",
            "outputs": []
        },
        {
            "id": "24868bef",
            "cell_type": "code",
            "metadata": {},
            "execution_count": null,
            "source": "a = np.array([[0, 1], [2, 3]], order='C')\na.resize((2, 1))\na",
            "outputs": [
                {
                    "output_type": "execute_result",
                    "metadata": {},
                    "data": {
                        "text/plain": "array([[0],\n       [1]])"
                    },
                    "execution_count": null
                }
            ]
        },
        {
            "id": "79d7d21a",
            "cell_type": "code",
            "metadata": {},
            "execution_count": null,
            "source": "a = np.array([[0, 1], [2, 3]], order='F')\na.resize((2, 1))\na",
            "outputs": [
                {
                    "output_type": "execute_result",
                    "metadata": {},
                    "data": {
                        "text/plain": "array([[0],\n       [2]])"
                    },
                    "execution_count": null
                }
            ]
        },
        {
            "id": "ff4e3ae5",
            "cell_type": "markdown",
            "source": "Enlarging an array: as above, but missing entries are filled with zeros:\n",
            "metadata": {}
        },
        {
            "id": "280ab6aa",
            "cell_type": "code",
            "metadata": {},
            "execution_count": null,
            "source": "b = np.array([[0, 1], [2, 3]])\nb.resize(2, 3) # new_shape parameter doesn't have to be a tuple\nb",
            "outputs": [
                {
                    "output_type": "execute_result",
                    "metadata": {},
                    "data": {
                        "text/plain": "array([[0, 1, 2],\n       [3, 0, 0]])"
                    },
                    "execution_count": null
                }
            ]
        },
        {
            "id": "8da31f09",
            "cell_type": "markdown",
            "source": "Referencing an array prevents resizing...\n",
            "metadata": {}
        },
        {
            "id": "5e98b280",
            "cell_type": "code",
            "metadata": {},
            "execution_count": null,
            "source": "c = a\na.resize((1, 1))\n",
            "outputs": [
                {
                    "output_type": "execute_result",
                    "metadata": {},
                    "data": {
                        "text/plain": "Traceback (most recent call last):\nValueError: cannot resize an array that references or is referenced ..."
                    },
                    "execution_count": null
                }
            ]
        },
        {
            "id": "8a64c97b",
            "cell_type": "markdown",
            "source": "Unless `refcheck` is False:\n",
            "metadata": {}
        },
        {
            "id": "235a4b58",
            "cell_type": "code",
            "metadata": {},
            "execution_count": null,
            "source": "a.resize((1, 1), refcheck=False)\na",
            "outputs": [
                {
                    "output_type": "execute_result",
                    "metadata": {},
                    "data": {
                        "text/plain": "array([[0]])"
                    },
                    "execution_count": null
                }
            ]
        },
        {
            "id": "c63e084c",
            "cell_type": "code",
            "metadata": {},
            "execution_count": null,
            "source": "c",
            "outputs": [
                {
                    "output_type": "execute_result",
                    "metadata": {},
                    "data": {
                        "text/plain": "array([[0]])"
                    },
                    "execution_count": null
                }
            ]
        }
    ]
}