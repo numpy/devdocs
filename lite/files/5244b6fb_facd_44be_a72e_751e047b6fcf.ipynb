{
    "nbformat": 4,
    "nbformat_minor": 5,
    "metadata": {
        "kernelspec": {
            "display_name": "Python",
            "language": "python",
            "name": "python"
        },
        "language_info": {
            "name": "python"
        }
    },
    "cells": [
        {
            "id": "2bf9df6c",
            "cell_type": "markdown",
            "source": "<div class='alert alert-warning'>\n\nNumPy's interactive examples are experimental and may not always work as expected, with high load times especially on low-resource platforms, and the version of NumPy might not be in sync with the one you are browsing the documentation for. If you encounter any issues, please report them on the [NumPy issue tracker](https://github.com/numpy/numpy/issues).\n\n</div>",
            "metadata": {}
        },
        {
            "id": "8d35a4ac",
            "cell_type": "markdown",
            "source": ".. math:: \\frac{3x^2 + 5x + 2}{2x + 1} = 1.5x + 1.75, remainder 0.25\n",
            "metadata": {}
        },
        {
            "id": "2d3953e0",
            "cell_type": "code",
            "metadata": {},
            "execution_count": null,
            "source": "import numpy as np",
            "outputs": []
        },
        {
            "id": "86a7ceca",
            "cell_type": "code",
            "metadata": {},
            "execution_count": null,
            "source": "x = np.array([3.0, 5.0, 2.0])\ny = np.array([2.0, 1.0])\nnp.polydiv(x, y)",
            "outputs": [
                {
                    "output_type": "execute_result",
                    "metadata": {},
                    "data": {
                        "text/plain": "(array([1.5 , 1.75]), array([0.25]))"
                    },
                    "execution_count": null
                }
            ]
        }
    ]
}