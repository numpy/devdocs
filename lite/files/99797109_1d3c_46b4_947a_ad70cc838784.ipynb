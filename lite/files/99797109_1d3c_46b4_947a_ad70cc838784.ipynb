{
    "nbformat": 4,
    "nbformat_minor": 5,
    "metadata": {
        "kernelspec": {
            "display_name": "Python",
            "language": "python",
            "name": "python"
        },
        "language_info": {
            "name": "python"
        }
    },
    "cells": [
        {
            "id": "f1ef1d7e",
            "cell_type": "markdown",
            "source": "<div class='alert alert-warning'>\n\nNumPy's interactive examples are experimental and may not always work as expected, with high load times especially on low-resource platforms, and the version of NumPy might not be in sync with the one you are browsing the documentation for. If you encounter any issues, please report them on the [NumPy issue tracker](https://github.com/numpy/numpy/issues).\n\n</div>",
            "metadata": {}
        },
        {
            "id": "38b7c054",
            "cell_type": "code",
            "metadata": {},
            "execution_count": null,
            "source": "import numpy as np",
            "outputs": []
        },
        {
            "id": "62e6bc5d",
            "cell_type": "code",
            "metadata": {},
            "execution_count": null,
            "source": "dt = np.dtype('i4')   # 32-bit signed integer\ndt = np.dtype('f8')   # 64-bit floating-point number\ndt = np.dtype('c16')  # 128-bit complex floating-point number\ndt = np.dtype('S25')  # 25-length zero-terminated bytes\ndt = np.dtype('U25')  # 25-character string",
            "outputs": []
        }
    ]
}