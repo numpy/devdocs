{
    "nbformat": 4,
    "nbformat_minor": 5,
    "metadata": {
        "kernelspec": {
            "display_name": "Python",
            "language": "python",
            "name": "python"
        },
        "language_info": {
            "name": "python"
        }
    },
    "cells": [
        {
            "id": "c7a94496",
            "cell_type": "markdown",
            "source": "<div class='alert alert-warning'>\n\nNumPy's interactive examples are experimental and may not always work as expected, with high load times especially on low-resource platforms, and the version of NumPy might not be in sync with the one you are browsing the documentation for. If you encounter any issues, please report them on the [NumPy issue tracker](https://github.com/numpy/numpy/issues).\n\n</div>",
            "metadata": {}
        },
        {
            "id": "e6a76ea2",
            "cell_type": "code",
            "metadata": {},
            "execution_count": null,
            "source": "import numpy as np\nfrom numpy.linalg import inv\na = np.array([[1., 2.], [3., 4.]])\nainv = inv(a)\nnp.allclose(a @ ainv, np.eye(2))",
            "outputs": [
                {
                    "output_type": "execute_result",
                    "metadata": {},
                    "data": {
                        "text/plain": "True"
                    },
                    "execution_count": null
                }
            ]
        },
        {
            "id": "6dce8342",
            "cell_type": "code",
            "metadata": {},
            "execution_count": null,
            "source": "np.allclose(ainv @ a, np.eye(2))",
            "outputs": [
                {
                    "output_type": "execute_result",
                    "metadata": {},
                    "data": {
                        "text/plain": "True"
                    },
                    "execution_count": null
                }
            ]
        },
        {
            "id": "26d7ebd6",
            "cell_type": "markdown",
            "source": "If a is a matrix object, then the return value is a matrix as well:\n",
            "metadata": {}
        },
        {
            "id": "66630983",
            "cell_type": "code",
            "metadata": {},
            "execution_count": null,
            "source": "ainv = inv(np.matrix(a))\nainv",
            "outputs": [
                {
                    "output_type": "execute_result",
                    "metadata": {},
                    "data": {
                        "text/plain": "matrix([[-2. ,  1. ],\n        [ 1.5, -0.5]])"
                    },
                    "execution_count": null
                }
            ]
        },
        {
            "id": "f5340297",
            "cell_type": "markdown",
            "source": "Inverses of several matrices can be computed at once:\n",
            "metadata": {}
        },
        {
            "id": "0007e643",
            "cell_type": "code",
            "metadata": {},
            "execution_count": null,
            "source": "a = np.array([[[1., 2.], [3., 4.]], [[1, 3], [3, 5]]])\ninv(a)",
            "outputs": [
                {
                    "output_type": "execute_result",
                    "metadata": {},
                    "data": {
                        "text/plain": "array([[[-2.  ,  1.  ],\n        [ 1.5 , -0.5 ]],\n       [[-1.25,  0.75],\n        [ 0.75, -0.25]]])"
                    },
                    "execution_count": null
                }
            ]
        },
        {
            "id": "e61e013c",
            "cell_type": "markdown",
            "source": "If a matrix is close to singular, the computed inverse may not satisfy\n``a @ ainv = ainv @ a = eye(a.shape[0])`` even if a `LinAlgError`\nis not raised:\n",
            "metadata": {}
        },
        {
            "id": "5b1590ba",
            "cell_type": "code",
            "metadata": {},
            "execution_count": null,
            "source": "a = np.array([[2,4,6],[2,0,2],[6,8,14]])\ninv(a)  # No errors raised",
            "outputs": [
                {
                    "output_type": "execute_result",
                    "metadata": {},
                    "data": {
                        "text/plain": "array([[-1.12589991e+15, -5.62949953e+14,  5.62949953e+14],\n   [-1.12589991e+15, -5.62949953e+14,  5.62949953e+14],\n   [ 1.12589991e+15,  5.62949953e+14, -5.62949953e+14]])"
                    },
                    "execution_count": null
                }
            ]
        },
        {
            "id": "088a2fba",
            "cell_type": "code",
            "metadata": {},
            "execution_count": null,
            "source": "a @ inv(a)",
            "outputs": [
                {
                    "output_type": "execute_result",
                    "metadata": {},
                    "data": {
                        "text/plain": "array([[ 0.   , -0.5  ,  0.   ],  # may vary\n       [-0.5  ,  0.625,  0.25 ],\n       [ 0.   ,  0.   ,  1.   ]])"
                    },
                    "execution_count": null
                }
            ]
        },
        {
            "id": "b110046e",
            "cell_type": "markdown",
            "source": "To detect ill-conditioned matrices, you can use `numpy.linalg.cond` to\ncompute its *condition number* [1]. The larger the condition number, the\nmore ill-conditioned the matrix is. As a rule of thumb, if the condition\nnumber ``cond(a) = 10**k``, then you may lose up to ``k`` digits of\naccuracy on top of what would be lost to the numerical method due to loss\nof precision from arithmetic methods.\n",
            "metadata": {}
        },
        {
            "id": "d33833e5",
            "cell_type": "code",
            "metadata": {},
            "execution_count": null,
            "source": "from numpy.linalg import cond\ncond(a)",
            "outputs": [
                {
                    "output_type": "execute_result",
                    "metadata": {},
                    "data": {
                        "text/plain": "np.float64(8.659885634118668e+17)  # may vary"
                    },
                    "execution_count": null
                }
            ]
        },
        {
            "id": "28829dda",
            "cell_type": "markdown",
            "source": "It is also possible to detect ill-conditioning by inspecting the matrix's\nsingular values directly. The ratio between the largest and the smallest\nsingular value is the condition number:\n",
            "metadata": {}
        },
        {
            "id": "fbd7c197",
            "cell_type": "code",
            "metadata": {},
            "execution_count": null,
            "source": "from numpy.linalg import svd\nsigma = svd(a, compute_uv=False)  # Do not compute singular vectors\nsigma.max()/sigma.min()",
            "outputs": [
                {
                    "output_type": "execute_result",
                    "metadata": {},
                    "data": {
                        "text/plain": "8.659885634118668e+17  # may vary"
                    },
                    "execution_count": null
                }
            ]
        }
    ]
}