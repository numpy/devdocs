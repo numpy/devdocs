{
    "nbformat": 4,
    "nbformat_minor": 5,
    "metadata": {
        "kernelspec": {
            "display_name": "Python",
            "language": "python",
            "name": "python"
        },
        "language_info": {
            "name": "python"
        }
    },
    "cells": [
        {
            "id": "1499f8a5",
            "cell_type": "markdown",
            "source": "<div class='alert alert-warning'>\n\nNumPy's interactive examples are experimental and may not always work as expected, with high load times especially on low-resource platforms, and the version of NumPy might not be in sync with the one you are browsing the documentation for. If you encounter any issues, please report them on the [NumPy issue tracker](https://github.com/numpy/numpy/issues).\n\n</div>",
            "metadata": {}
        },
        {
            "id": "4d71ca20",
            "cell_type": "markdown",
            "source": "Taking an example cited in Wikipedia, this distribution can be used if\none wanted to cut strings (each of initial length 1.0) into K pieces\nwith different lengths, where each piece had, on average, a designated\naverage length, but allowing some variation in the relative sizes of\nthe pieces.\n",
            "metadata": {}
        },
        {
            "id": "d39357ac",
            "cell_type": "code",
            "metadata": {},
            "execution_count": null,
            "source": "rng = np.random.default_rng()\ns = rng.dirichlet((10, 5, 3), 20).transpose()",
            "outputs": []
        },
        {
            "id": "f227646b",
            "cell_type": "code",
            "metadata": {},
            "execution_count": null,
            "source": "import matplotlib.pyplot as plt\nplt.barh(range(20), s[0])\nplt.barh(range(20), s[1], left=s[0], color='g')\nplt.barh(range(20), s[2], left=s[0]+s[1], color='r')\nplt.title(\"Lengths of Strings\")",
            "outputs": []
        }
    ]
}