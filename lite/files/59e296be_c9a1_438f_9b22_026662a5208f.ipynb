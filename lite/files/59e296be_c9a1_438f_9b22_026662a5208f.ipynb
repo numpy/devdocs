{
    "nbformat": 4,
    "nbformat_minor": 5,
    "metadata": {
        "kernelspec": {
            "display_name": "Python",
            "language": "python",
            "name": "python"
        },
        "language_info": {
            "name": "python"
        }
    },
    "cells": [
        {
            "id": "0bec0183",
            "cell_type": "markdown",
            "source": "<div class='alert alert-warning'>\n\nNumPy's interactive examples are experimental and may not always work as expected, with high load times especially on low-resource platforms, and the version of NumPy might not be in sync with the one you are browsing the documentation for. If you encounter any issues, please report them on the [NumPy issue tracker](https://github.com/numpy/numpy/issues).\n\n</div>",
            "metadata": {}
        },
        {
            "id": "f9ea1843",
            "cell_type": "code",
            "metadata": {},
            "execution_count": null,
            "source": "import numpy as np\nfrom numpy.lib.stride_tricks import sliding_window_view\nx = np.arange(6)\nx.shape",
            "outputs": [
                {
                    "output_type": "execute_result",
                    "metadata": {},
                    "data": {
                        "text/plain": "(6,)"
                    },
                    "execution_count": null
                }
            ]
        },
        {
            "id": "df5149be",
            "cell_type": "code",
            "metadata": {},
            "execution_count": null,
            "source": "v = sliding_window_view(x, 3)\nv.shape",
            "outputs": [
                {
                    "output_type": "execute_result",
                    "metadata": {},
                    "data": {
                        "text/plain": "(4, 3)"
                    },
                    "execution_count": null
                }
            ]
        },
        {
            "id": "f684a9a9",
            "cell_type": "code",
            "metadata": {},
            "execution_count": null,
            "source": "v",
            "outputs": [
                {
                    "output_type": "execute_result",
                    "metadata": {},
                    "data": {
                        "text/plain": "array([[0, 1, 2],\n       [1, 2, 3],\n       [2, 3, 4],\n       [3, 4, 5]])"
                    },
                    "execution_count": null
                }
            ]
        },
        {
            "id": "2b750199",
            "cell_type": "markdown",
            "source": "This also works in more dimensions, e.g.\n",
            "metadata": {}
        },
        {
            "id": "c5d60a28",
            "cell_type": "code",
            "metadata": {},
            "execution_count": null,
            "source": "i, j = np.ogrid[:3, :4]\nx = 10*i + j\nx.shape",
            "outputs": [
                {
                    "output_type": "execute_result",
                    "metadata": {},
                    "data": {
                        "text/plain": "(3, 4)"
                    },
                    "execution_count": null
                }
            ]
        },
        {
            "id": "2ad5285e",
            "cell_type": "code",
            "metadata": {},
            "execution_count": null,
            "source": "x",
            "outputs": [
                {
                    "output_type": "execute_result",
                    "metadata": {},
                    "data": {
                        "text/plain": "array([[ 0,  1,  2,  3],\n       [10, 11, 12, 13],\n       [20, 21, 22, 23]])"
                    },
                    "execution_count": null
                }
            ]
        },
        {
            "id": "81e8e5fe",
            "cell_type": "code",
            "metadata": {},
            "execution_count": null,
            "source": "shape = (2,2)\nv = sliding_window_view(x, shape)\nv.shape",
            "outputs": [
                {
                    "output_type": "execute_result",
                    "metadata": {},
                    "data": {
                        "text/plain": "(2, 3, 2, 2)"
                    },
                    "execution_count": null
                }
            ]
        },
        {
            "id": "c3a65352",
            "cell_type": "code",
            "metadata": {},
            "execution_count": null,
            "source": "v",
            "outputs": [
                {
                    "output_type": "execute_result",
                    "metadata": {},
                    "data": {
                        "text/plain": "array([[[[ 0,  1],\n         [10, 11]],\n        [[ 1,  2],\n         [11, 12]],\n        [[ 2,  3],\n         [12, 13]]],\n       [[[10, 11],\n         [20, 21]],\n        [[11, 12],\n         [21, 22]],\n        [[12, 13],\n         [22, 23]]]])"
                    },
                    "execution_count": null
                }
            ]
        },
        {
            "id": "c03f0985",
            "cell_type": "markdown",
            "source": "The axis can be specified explicitly:\n",
            "metadata": {}
        },
        {
            "id": "dc74a223",
            "cell_type": "code",
            "metadata": {},
            "execution_count": null,
            "source": "v = sliding_window_view(x, 3, 0)\nv.shape",
            "outputs": [
                {
                    "output_type": "execute_result",
                    "metadata": {},
                    "data": {
                        "text/plain": "(1, 4, 3)"
                    },
                    "execution_count": null
                }
            ]
        },
        {
            "id": "b6c6a61e",
            "cell_type": "code",
            "metadata": {},
            "execution_count": null,
            "source": "v",
            "outputs": [
                {
                    "output_type": "execute_result",
                    "metadata": {},
                    "data": {
                        "text/plain": "array([[[ 0, 10, 20],\n        [ 1, 11, 21],\n        [ 2, 12, 22],\n        [ 3, 13, 23]]])"
                    },
                    "execution_count": null
                }
            ]
        },
        {
            "id": "4f54303b",
            "cell_type": "markdown",
            "source": "The same axis can be used several times. In that case, every use reduces\nthe corresponding original dimension:\n",
            "metadata": {}
        },
        {
            "id": "6403670d",
            "cell_type": "code",
            "metadata": {},
            "execution_count": null,
            "source": "v = sliding_window_view(x, (2, 3), (1, 1))\nv.shape",
            "outputs": [
                {
                    "output_type": "execute_result",
                    "metadata": {},
                    "data": {
                        "text/plain": "(3, 1, 2, 3)"
                    },
                    "execution_count": null
                }
            ]
        },
        {
            "id": "f895ee37",
            "cell_type": "code",
            "metadata": {},
            "execution_count": null,
            "source": "v",
            "outputs": [
                {
                    "output_type": "execute_result",
                    "metadata": {},
                    "data": {
                        "text/plain": "array([[[[ 0,  1,  2],\n         [ 1,  2,  3]]],\n       [[[10, 11, 12],\n         [11, 12, 13]]],\n       [[[20, 21, 22],\n         [21, 22, 23]]]])"
                    },
                    "execution_count": null
                }
            ]
        },
        {
            "id": "2899eb0d",
            "cell_type": "markdown",
            "source": "Combining with stepped slicing (`::step`), this can be used to take sliding\nviews which skip elements:\n",
            "metadata": {}
        },
        {
            "id": "9a09f86b",
            "cell_type": "code",
            "metadata": {},
            "execution_count": null,
            "source": "x = np.arange(7)\nsliding_window_view(x, 5)[:, ::2]",
            "outputs": [
                {
                    "output_type": "execute_result",
                    "metadata": {},
                    "data": {
                        "text/plain": "array([[0, 2, 4],\n       [1, 3, 5],\n       [2, 4, 6]])"
                    },
                    "execution_count": null
                }
            ]
        },
        {
            "id": "f9681f70",
            "cell_type": "markdown",
            "source": "or views which move by multiple elements\n",
            "metadata": {}
        },
        {
            "id": "42ca9a09",
            "cell_type": "code",
            "metadata": {},
            "execution_count": null,
            "source": "x = np.arange(7)\nsliding_window_view(x, 3)[::2, :]",
            "outputs": [
                {
                    "output_type": "execute_result",
                    "metadata": {},
                    "data": {
                        "text/plain": "array([[0, 1, 2],\n       [2, 3, 4],\n       [4, 5, 6]])"
                    },
                    "execution_count": null
                }
            ]
        },
        {
            "id": "17ecd124",
            "cell_type": "markdown",
            "source": "A common application of `sliding_window_view` is the calculation of running\nstatistics. The simplest example is the\n[moving average](https://en.wikipedia.org/wiki/Moving_average):\n",
            "metadata": {}
        },
        {
            "id": "0b8ff98d",
            "cell_type": "code",
            "metadata": {},
            "execution_count": null,
            "source": "x = np.arange(6)\nx.shape",
            "outputs": [
                {
                    "output_type": "execute_result",
                    "metadata": {},
                    "data": {
                        "text/plain": "(6,)"
                    },
                    "execution_count": null
                }
            ]
        },
        {
            "id": "f85355ca",
            "cell_type": "code",
            "metadata": {},
            "execution_count": null,
            "source": "v = sliding_window_view(x, 3)\nv.shape",
            "outputs": [
                {
                    "output_type": "execute_result",
                    "metadata": {},
                    "data": {
                        "text/plain": "(4, 3)"
                    },
                    "execution_count": null
                }
            ]
        },
        {
            "id": "2ceb0af7",
            "cell_type": "code",
            "metadata": {},
            "execution_count": null,
            "source": "v",
            "outputs": [
                {
                    "output_type": "execute_result",
                    "metadata": {},
                    "data": {
                        "text/plain": "array([[0, 1, 2],\n       [1, 2, 3],\n       [2, 3, 4],\n       [3, 4, 5]])"
                    },
                    "execution_count": null
                }
            ]
        },
        {
            "id": "296dcb10",
            "cell_type": "code",
            "metadata": {},
            "execution_count": null,
            "source": "moving_average = v.mean(axis=-1)\nmoving_average",
            "outputs": [
                {
                    "output_type": "execute_result",
                    "metadata": {},
                    "data": {
                        "text/plain": "array([1., 2., 3., 4.])"
                    },
                    "execution_count": null
                }
            ]
        },
        {
            "id": "c5ffb762",
            "cell_type": "markdown",
            "source": "The two examples below demonstrate the effect of ``writeable=True``.\n\nCreating a view with the default ``writeable=False`` and then writing to\nit raises an error.\n",
            "metadata": {}
        },
        {
            "id": "306423a4",
            "cell_type": "code",
            "metadata": {},
            "execution_count": null,
            "source": "v = sliding_window_view(x, 3)\nv[0,1] = 10\n",
            "outputs": [
                {
                    "output_type": "execute_result",
                    "metadata": {},
                    "data": {
                        "text/plain": "Traceback (most recent call last):\nValueError: assignment destination is read-only"
                    },
                    "execution_count": null
                }
            ]
        },
        {
            "id": "a6ab7e0f",
            "cell_type": "markdown",
            "source": "Creating a view with ``writeable=True`` and then writing to it changes\nthe original array and multiple view positions.\n",
            "metadata": {}
        },
        {
            "id": "fcd6290b",
            "cell_type": "code",
            "metadata": {},
            "execution_count": null,
            "source": "x = np.arange(6)  # reset x for the second example\nv = sliding_window_view(x, 3, writeable=True)\nv[0,1] = 10\nx",
            "outputs": [
                {
                    "output_type": "execute_result",
                    "metadata": {},
                    "data": {
                        "text/plain": "array([ 0, 10,  2,  3,  4,  5])"
                    },
                    "execution_count": null
                }
            ]
        },
        {
            "id": "ea01f264",
            "cell_type": "code",
            "metadata": {},
            "execution_count": null,
            "source": "v",
            "outputs": [
                {
                    "output_type": "execute_result",
                    "metadata": {},
                    "data": {
                        "text/plain": "array([[ 0, 10,  2],\n       [10,  2,  3],\n       [ 2,  3,  4],\n       [ 3,  4,  5]])"
                    },
                    "execution_count": null
                }
            ]
        },
        {
            "id": "01366278",
            "cell_type": "markdown",
            "source": "Note that a sliding window approach is often **not** optimal (see Notes).",
            "metadata": {}
        }
    ]
}