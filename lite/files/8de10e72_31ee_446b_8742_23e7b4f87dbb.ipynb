{
    "nbformat": 4,
    "nbformat_minor": 5,
    "metadata": {
        "kernelspec": {
            "display_name": "Python",
            "language": "python",
            "name": "python"
        },
        "language_info": {
            "name": "python"
        }
    },
    "cells": [
        {
            "id": "17b89515",
            "cell_type": "markdown",
            "source": "<div class='alert alert-warning'>\n\nNumPy's interactive examples are experimental and may not always work as expected, with high load times especially on low-resource platforms, and the version of NumPy might not be in sync with the one you are browsing the documentation for. If you encounter any issues, please report them on the [NumPy issue tracker](https://github.com/numpy/numpy/issues).\n\n</div>",
            "metadata": {}
        },
        {
            "id": "846530d4",
            "cell_type": "code",
            "metadata": {},
            "execution_count": null,
            "source": "import numpy as np\nimport secrets\nsecrets.randbits(128)  #doctest: +SKIP",
            "outputs": [
                {
                    "output_type": "execute_result",
                    "metadata": {},
                    "data": {
                        "text/plain": "122807528840384100672342137672332424406  # may vary"
                    },
                    "execution_count": null
                }
            ]
        },
        {
            "id": "47be02a2",
            "cell_type": "code",
            "metadata": {},
            "execution_count": null,
            "source": "rng1 = np.random.default_rng(122807528840384100672342137672332424406)\nrng1.random()",
            "outputs": [
                {
                    "output_type": "execute_result",
                    "metadata": {},
                    "data": {
                        "text/plain": "0.5363922081269535"
                    },
                    "execution_count": null
                }
            ]
        },
        {
            "id": "bae34c43",
            "cell_type": "code",
            "metadata": {},
            "execution_count": null,
            "source": "rng2 = np.random.default_rng(122807528840384100672342137672332424406)\nrng2.random()",
            "outputs": [
                {
                    "output_type": "execute_result",
                    "metadata": {},
                    "data": {
                        "text/plain": "0.5363922081269535"
                    },
                    "execution_count": null
                }
            ]
        }
    ]
}