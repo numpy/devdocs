{
    "nbformat": 4,
    "nbformat_minor": 5,
    "metadata": {
        "kernelspec": {
            "display_name": "Python",
            "language": "python",
            "name": "python"
        },
        "language_info": {
            "name": "python"
        }
    },
    "cells": [
        {
            "id": "cbd48f5e",
            "cell_type": "markdown",
            "source": "<div class='alert alert-warning'>\n\nNumPy's interactive examples are experimental and may not always work as expected, with high load times especially on low-resource platforms, and the version of NumPy might not be in sync with the one you are browsing the documentation for. If you encounter any issues, please report them on the [NumPy issue tracker](https://github.com/numpy/numpy/issues).\n\n</div>",
            "metadata": {}
        },
        {
            "id": "74429e23",
            "cell_type": "code",
            "metadata": {},
            "execution_count": null,
            "source": "import numpy as np\nx = np.array([(-1, 2)], dtype=[('a', np.int8), ('b', np.int8)])",
            "outputs": []
        },
        {
            "id": "d54c341c",
            "cell_type": "markdown",
            "source": "Viewing array data using a different type and dtype:\n",
            "metadata": {}
        },
        {
            "id": "780b4fa7",
            "cell_type": "code",
            "metadata": {},
            "execution_count": null,
            "source": "nonneg = np.dtype([(\"a\", np.uint8), (\"b\", np.uint8)])\ny = x.view(dtype=nonneg, type=np.recarray)\nx[\"a\"]",
            "outputs": [
                {
                    "output_type": "execute_result",
                    "metadata": {},
                    "data": {
                        "text/plain": "array([-1], dtype=int8)"
                    },
                    "execution_count": null
                }
            ]
        },
        {
            "id": "65e23924",
            "cell_type": "code",
            "metadata": {},
            "execution_count": null,
            "source": "y.a",
            "outputs": [
                {
                    "output_type": "execute_result",
                    "metadata": {},
                    "data": {
                        "text/plain": "array([255], dtype=uint8)"
                    },
                    "execution_count": null
                }
            ]
        },
        {
            "id": "ed5c3756",
            "cell_type": "markdown",
            "source": "Creating a view on a structured array so it can be used in calculations\n",
            "metadata": {}
        },
        {
            "id": "78c2b131",
            "cell_type": "code",
            "metadata": {},
            "execution_count": null,
            "source": "x = np.array([(1, 2),(3,4)], dtype=[('a', np.int8), ('b', np.int8)])\nxv = x.view(dtype=np.int8).reshape(-1,2)\nxv",
            "outputs": [
                {
                    "output_type": "execute_result",
                    "metadata": {},
                    "data": {
                        "text/plain": "array([[1, 2],\n       [3, 4]], dtype=int8)"
                    },
                    "execution_count": null
                }
            ]
        },
        {
            "id": "6d35e712",
            "cell_type": "code",
            "metadata": {},
            "execution_count": null,
            "source": "xv.mean(0)",
            "outputs": [
                {
                    "output_type": "execute_result",
                    "metadata": {},
                    "data": {
                        "text/plain": "array([2.,  3.])"
                    },
                    "execution_count": null
                }
            ]
        },
        {
            "id": "a81ff919",
            "cell_type": "markdown",
            "source": "Making changes to the view changes the underlying array\n",
            "metadata": {}
        },
        {
            "id": "e1863ffb",
            "cell_type": "code",
            "metadata": {},
            "execution_count": null,
            "source": "xv[0,1] = 20\nx",
            "outputs": [
                {
                    "output_type": "execute_result",
                    "metadata": {},
                    "data": {
                        "text/plain": "array([(1, 20), (3,  4)], dtype=[('a', 'i1'), ('b', 'i1')])"
                    },
                    "execution_count": null
                }
            ]
        },
        {
            "id": "96c91dd0",
            "cell_type": "markdown",
            "source": "Using a view to convert an array to a recarray:\n",
            "metadata": {}
        },
        {
            "id": "66372f71",
            "cell_type": "code",
            "metadata": {},
            "execution_count": null,
            "source": "z = x.view(np.recarray)\nz.a",
            "outputs": [
                {
                    "output_type": "execute_result",
                    "metadata": {},
                    "data": {
                        "text/plain": "array([1, 3], dtype=int8)"
                    },
                    "execution_count": null
                }
            ]
        },
        {
            "id": "dffc2e97",
            "cell_type": "markdown",
            "source": "Views share data:\n",
            "metadata": {}
        },
        {
            "id": "31eb3ad4",
            "cell_type": "code",
            "metadata": {},
            "execution_count": null,
            "source": "x[0] = (9, 10)\nz[0]",
            "outputs": [
                {
                    "output_type": "execute_result",
                    "metadata": {},
                    "data": {
                        "text/plain": "np.record((9, 10), dtype=[('a', 'i1'), ('b', 'i1')])"
                    },
                    "execution_count": null
                }
            ]
        },
        {
            "id": "a202e51c",
            "cell_type": "markdown",
            "source": "Views that change the dtype size (bytes per entry) should normally be\navoided on arrays defined by slices, transposes, fortran-ordering, etc.:\n",
            "metadata": {}
        },
        {
            "id": "7db081a8",
            "cell_type": "code",
            "metadata": {},
            "execution_count": null,
            "source": "x = np.array([[1, 2, 3], [4, 5, 6]], dtype=np.int16)\ny = x[:, ::2]\ny",
            "outputs": [
                {
                    "output_type": "execute_result",
                    "metadata": {},
                    "data": {
                        "text/plain": "array([[1, 3],\n       [4, 6]], dtype=int16)"
                    },
                    "execution_count": null
                }
            ]
        },
        {
            "id": "21b41233",
            "cell_type": "code",
            "metadata": {},
            "execution_count": null,
            "source": "y.view(dtype=[('width', np.int16), ('length', np.int16)])",
            "outputs": [
                {
                    "output_type": "execute_result",
                    "metadata": {},
                    "data": {
                        "text/plain": "Traceback (most recent call last):\n    ...\nValueError: To change to a dtype of a different size, the last axis must be contiguous"
                    },
                    "execution_count": null
                }
            ]
        },
        {
            "id": "cb680a68",
            "cell_type": "code",
            "metadata": {},
            "execution_count": null,
            "source": "z = y.copy()\nz.view(dtype=[('width', np.int16), ('length', np.int16)])",
            "outputs": [
                {
                    "output_type": "execute_result",
                    "metadata": {},
                    "data": {
                        "text/plain": "array([[(1, 3)],\n       [(4, 6)]], dtype=[('width', '<i2'), ('length', '<i2')])"
                    },
                    "execution_count": null
                }
            ]
        },
        {
            "id": "a7aa7d8d",
            "cell_type": "markdown",
            "source": "However, views that change dtype are totally fine for arrays with a\ncontiguous last axis, even if the rest of the axes are not C-contiguous:\n",
            "metadata": {}
        },
        {
            "id": "97853462",
            "cell_type": "code",
            "metadata": {},
            "execution_count": null,
            "source": "x = np.arange(2 * 3 * 4, dtype=np.int8).reshape(2, 3, 4)\nx.transpose(1, 0, 2).view(np.int16)",
            "outputs": [
                {
                    "output_type": "execute_result",
                    "metadata": {},
                    "data": {
                        "text/plain": "array([[[ 256,  770],\n        [3340, 3854]],\n<BLANKLINE>\n       [[1284, 1798],\n        [4368, 4882]],\n<BLANKLINE>\n       [[2312, 2826],\n        [5396, 5910]]], dtype=int16)"
                    },
                    "execution_count": null
                }
            ]
        }
    ]
}