{
    "nbformat": 4,
    "nbformat_minor": 5,
    "metadata": {
        "kernelspec": {
            "display_name": "Python",
            "language": "python",
            "name": "python"
        },
        "language_info": {
            "name": "python"
        }
    },
    "cells": [
        {
            "id": "43f06d3a",
            "cell_type": "markdown",
            "source": "<div class='alert alert-warning'>\n\nNumPy's interactive examples are experimental and may not always work as expected, with high load times especially on low-resource platforms, and the version of NumPy might not be in sync with the one you are browsing the documentation for. If you encounter any issues, please report them on the [NumPy issue tracker](https://github.com/numpy/numpy/issues).\n\n</div>",
            "metadata": {}
        },
        {
            "id": "56651ce9",
            "cell_type": "code",
            "metadata": {},
            "execution_count": null,
            "source": "import numpy as np\nnp.finfo(float).eps",
            "outputs": [
                {
                    "output_type": "execute_result",
                    "metadata": {},
                    "data": {
                        "text/plain": "2.2204460492503131e-16 # may vary"
                    },
                    "execution_count": null
                }
            ]
        },
        {
            "id": "64e854f8",
            "cell_type": "code",
            "metadata": {},
            "execution_count": null,
            "source": "np.real_if_close([2.1 + 4e-14j, 5.2 + 3e-15j], tol=1000)",
            "outputs": [
                {
                    "output_type": "execute_result",
                    "metadata": {},
                    "data": {
                        "text/plain": "array([2.1, 5.2])"
                    },
                    "execution_count": null
                }
            ]
        },
        {
            "id": "86773e1a",
            "cell_type": "code",
            "metadata": {},
            "execution_count": null,
            "source": "np.real_if_close([2.1 + 4e-13j, 5.2 + 3e-15j], tol=1000)",
            "outputs": [
                {
                    "output_type": "execute_result",
                    "metadata": {},
                    "data": {
                        "text/plain": "array([2.1+4.e-13j, 5.2 + 3e-15j])"
                    },
                    "execution_count": null
                }
            ]
        }
    ]
}