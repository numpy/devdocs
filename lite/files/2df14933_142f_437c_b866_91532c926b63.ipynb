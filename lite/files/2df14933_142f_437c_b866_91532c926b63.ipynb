{
    "nbformat": 4,
    "nbformat_minor": 5,
    "metadata": {
        "kernelspec": {
            "display_name": "Python",
            "language": "python",
            "name": "python"
        },
        "language_info": {
            "name": "python"
        }
    },
    "cells": [
        {
            "id": "3f7ac2a8",
            "cell_type": "markdown",
            "source": "<div class='alert alert-warning'>\n\nNumPy's interactive examples are experimental and may not always work as expected, with high load times especially on low-resource platforms, and the version of NumPy might not be in sync with the one you are browsing the documentation for. If you encounter any issues, please report them on the [NumPy issue tracker](https://github.com/numpy/numpy/issues).\n\n</div>",
            "metadata": {}
        },
        {
            "id": "8c60d7c0",
            "cell_type": "markdown",
            "source": "The command ``f2py -m scalar scalar.f`` can be executed from Python as\nfollows.\n\n.. literalinclude:: ../../source/f2py/code/results/run_main_session.dat\n    :language: python",
            "metadata": {}
        }
    ]
}