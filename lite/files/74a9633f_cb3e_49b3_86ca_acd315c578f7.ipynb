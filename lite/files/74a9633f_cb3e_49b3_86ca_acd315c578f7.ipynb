{
    "nbformat": 4,
    "nbformat_minor": 5,
    "metadata": {
        "kernelspec": {
            "display_name": "Python",
            "language": "python",
            "name": "python"
        },
        "language_info": {
            "name": "python"
        }
    },
    "cells": [
        {
            "id": "68840381",
            "cell_type": "markdown",
            "source": "<div class='alert alert-warning'>\n\nNumPy's interactive examples are experimental and may not always work as expected, with high load times especially on low-resource platforms, and the version of NumPy might not be in sync with the one you are browsing the documentation for. If you encounter any issues, please report them on the [NumPy issue tracker](https://github.com/numpy/numpy/issues).\n\n</div>",
            "metadata": {}
        },
        {
            "id": "fceceb13",
            "cell_type": "code",
            "metadata": {},
            "execution_count": null,
            "source": "import numpy as np\nrng = np.random.default_rng()",
            "outputs": []
        },
        {
            "id": "3580a51a",
            "cell_type": "markdown",
            "source": "Generate one random float uniformly distributed over the range $[0, 1)$:\n",
            "metadata": {}
        },
        {
            "id": "e35edf2c",
            "cell_type": "code",
            "metadata": {},
            "execution_count": null,
            "source": "rng.random()  #doctest: +SKIP",
            "outputs": [
                {
                    "output_type": "execute_result",
                    "metadata": {},
                    "data": {
                        "text/plain": "0.06369197489564249  # may vary"
                    },
                    "execution_count": null
                }
            ]
        },
        {
            "id": "31850d99",
            "cell_type": "markdown",
            "source": "Generate an array of 10 numbers according to a unit Gaussian distribution:\n",
            "metadata": {}
        },
        {
            "id": "9d61e162",
            "cell_type": "code",
            "metadata": {},
            "execution_count": null,
            "source": "rng.standard_normal(10)  #doctest: +SKIP",
            "outputs": [
                {
                    "output_type": "execute_result",
                    "metadata": {},
                    "data": {
                        "text/plain": "array([-0.31018314, -1.8922078 , -0.3628523 , -0.63526532,  0.43181166,  # may vary\n        0.51640373,  1.25693945,  0.07779185,  0.84090247, -2.13406828])"
                    },
                    "execution_count": null
                }
            ]
        },
        {
            "id": "609e6820",
            "cell_type": "markdown",
            "source": "Generate an array of 5 integers uniformly over the range $[0, 10)$:\n",
            "metadata": {}
        },
        {
            "id": "391e7e6e",
            "cell_type": "code",
            "metadata": {},
            "execution_count": null,
            "source": "rng.integers(low=0, high=10, size=5)  #doctest: +SKIP",
            "outputs": [
                {
                    "output_type": "execute_result",
                    "metadata": {},
                    "data": {
                        "text/plain": "array([8, 7, 6, 2, 0])  # may vary"
                    },
                    "execution_count": null
                }
            ]
        }
    ]
}