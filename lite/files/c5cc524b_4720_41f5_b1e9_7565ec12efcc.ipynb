{
    "nbformat": 4,
    "nbformat_minor": 5,
    "metadata": {
        "kernelspec": {
            "display_name": "Python",
            "language": "python",
            "name": "python"
        },
        "language_info": {
            "name": "python"
        }
    },
    "cells": [
        {
            "id": "84cdb221",
            "cell_type": "markdown",
            "source": "<div class='alert alert-warning'>\n\nNumPy's interactive examples are experimental and may not always work as expected, with high load times especially on low-resource platforms, and the version of NumPy might not be in sync with the one you are browsing the documentation for. If you encounter any issues, please report them on the [NumPy issue tracker](https://github.com/numpy/numpy/issues).\n\n</div>",
            "metadata": {}
        },
        {
            "id": "1c65ad6a",
            "cell_type": "code",
            "metadata": {},
            "execution_count": null,
            "source": "import numpy as np\nnp.unique([1, 1, 2, 2, 3, 3])",
            "outputs": [
                {
                    "output_type": "execute_result",
                    "metadata": {},
                    "data": {
                        "text/plain": "array([1, 2, 3])"
                    },
                    "execution_count": null
                }
            ]
        },
        {
            "id": "623864ab",
            "cell_type": "code",
            "metadata": {},
            "execution_count": null,
            "source": "a = np.array([[1, 1], [2, 3]])\nnp.unique(a)",
            "outputs": [
                {
                    "output_type": "execute_result",
                    "metadata": {},
                    "data": {
                        "text/plain": "array([1, 2, 3])"
                    },
                    "execution_count": null
                }
            ]
        },
        {
            "id": "e072cf08",
            "cell_type": "markdown",
            "source": "Return the unique rows of a 2D array\n",
            "metadata": {}
        },
        {
            "id": "42bb1e0f",
            "cell_type": "code",
            "metadata": {},
            "execution_count": null,
            "source": "a = np.array([[1, 0, 0], [1, 0, 0], [2, 3, 4]])\nnp.unique(a, axis=0)",
            "outputs": [
                {
                    "output_type": "execute_result",
                    "metadata": {},
                    "data": {
                        "text/plain": "array([[1, 0, 0], [2, 3, 4]])"
                    },
                    "execution_count": null
                }
            ]
        },
        {
            "id": "926225a0",
            "cell_type": "markdown",
            "source": "Return the indices of the original array that give the unique values:\n",
            "metadata": {}
        },
        {
            "id": "ce028ece",
            "cell_type": "code",
            "metadata": {},
            "execution_count": null,
            "source": "a = np.array(['a', 'b', 'b', 'c', 'a'])\nu, indices = np.unique(a, return_index=True)\nu",
            "outputs": [
                {
                    "output_type": "execute_result",
                    "metadata": {},
                    "data": {
                        "text/plain": "array(['a', 'b', 'c'], dtype='<U1')"
                    },
                    "execution_count": null
                }
            ]
        },
        {
            "id": "b49cbcf5",
            "cell_type": "code",
            "metadata": {},
            "execution_count": null,
            "source": "indices",
            "outputs": [
                {
                    "output_type": "execute_result",
                    "metadata": {},
                    "data": {
                        "text/plain": "array([0, 1, 3])"
                    },
                    "execution_count": null
                }
            ]
        },
        {
            "id": "67cf7c64",
            "cell_type": "code",
            "metadata": {},
            "execution_count": null,
            "source": "a[indices]",
            "outputs": [
                {
                    "output_type": "execute_result",
                    "metadata": {},
                    "data": {
                        "text/plain": "array(['a', 'b', 'c'], dtype='<U1')"
                    },
                    "execution_count": null
                }
            ]
        },
        {
            "id": "87121e20",
            "cell_type": "markdown",
            "source": "Reconstruct the input array from the unique values and inverse:\n",
            "metadata": {}
        },
        {
            "id": "a8c4b7ec",
            "cell_type": "code",
            "metadata": {},
            "execution_count": null,
            "source": "a = np.array([1, 2, 6, 4, 2, 3, 2])\nu, indices = np.unique(a, return_inverse=True)\nu",
            "outputs": [
                {
                    "output_type": "execute_result",
                    "metadata": {},
                    "data": {
                        "text/plain": "array([1, 2, 3, 4, 6])"
                    },
                    "execution_count": null
                }
            ]
        },
        {
            "id": "09cbdbf5",
            "cell_type": "code",
            "metadata": {},
            "execution_count": null,
            "source": "indices",
            "outputs": [
                {
                    "output_type": "execute_result",
                    "metadata": {},
                    "data": {
                        "text/plain": "array([0, 1, 4, 3, 1, 2, 1])"
                    },
                    "execution_count": null
                }
            ]
        },
        {
            "id": "11fc3112",
            "cell_type": "code",
            "metadata": {},
            "execution_count": null,
            "source": "u[indices]",
            "outputs": [
                {
                    "output_type": "execute_result",
                    "metadata": {},
                    "data": {
                        "text/plain": "array([1, 2, 6, 4, 2, 3, 2])"
                    },
                    "execution_count": null
                }
            ]
        },
        {
            "id": "fc44acda",
            "cell_type": "markdown",
            "source": "Reconstruct the input values from the unique values and counts:\n",
            "metadata": {}
        },
        {
            "id": "a0e799ea",
            "cell_type": "code",
            "metadata": {},
            "execution_count": null,
            "source": "a = np.array([1, 2, 6, 4, 2, 3, 2])\nvalues, counts = np.unique(a, return_counts=True)\nvalues",
            "outputs": [
                {
                    "output_type": "execute_result",
                    "metadata": {},
                    "data": {
                        "text/plain": "array([1, 2, 3, 4, 6])"
                    },
                    "execution_count": null
                }
            ]
        },
        {
            "id": "6cc92c84",
            "cell_type": "code",
            "metadata": {},
            "execution_count": null,
            "source": "counts",
            "outputs": [
                {
                    "output_type": "execute_result",
                    "metadata": {},
                    "data": {
                        "text/plain": "array([1, 3, 1, 1, 1])"
                    },
                    "execution_count": null
                }
            ]
        },
        {
            "id": "da352cd8",
            "cell_type": "code",
            "metadata": {},
            "execution_count": null,
            "source": "np.repeat(values, counts)",
            "outputs": [
                {
                    "output_type": "execute_result",
                    "metadata": {},
                    "data": {
                        "text/plain": "array([1, 2, 2, 2, 3, 4, 6])    # original order not preserved"
                    },
                    "execution_count": null
                }
            ]
        }
    ]
}