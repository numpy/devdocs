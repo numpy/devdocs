{
    "nbformat": 4,
    "nbformat_minor": 5,
    "metadata": {
        "kernelspec": {
            "display_name": "Python",
            "language": "python",
            "name": "python"
        },
        "language_info": {
            "name": "python"
        }
    },
    "cells": [
        {
            "id": "8ec90371",
            "cell_type": "markdown",
            "source": "<div class='alert alert-warning'>\n\nNumPy's interactive examples are experimental and may not always work as expected, with high load times especially on low-resource platforms, and the version of NumPy might not be in sync with the one you are browsing the documentation for. If you encounter any issues, please report them on the [NumPy issue tracker](https://github.com/numpy/numpy/issues).\n\n</div>",
            "metadata": {}
        },
        {
            "id": "1cfce14a",
            "cell_type": "code",
            "metadata": {},
            "execution_count": null,
            "source": "import numpy as np",
            "outputs": []
        },
        {
            "id": "4a727f7f",
            "cell_type": "code",
            "metadata": {},
            "execution_count": null,
            "source": "from numpy.lib import recfunctions as rfn\na = np.ones(4, dtype=[('a', 'i4'), ('b', 'f8'), ('c', 'u1')])\nrfn.require_fields(a, [('b', 'f4'), ('c', 'u1')])",
            "outputs": [
                {
                    "output_type": "execute_result",
                    "metadata": {},
                    "data": {
                        "text/plain": "array([(1., 1), (1., 1), (1., 1), (1., 1)],\n  dtype=[('b', '<f4'), ('c', 'u1')])"
                    },
                    "execution_count": null
                }
            ]
        },
        {
            "id": "161d3031",
            "cell_type": "code",
            "metadata": {},
            "execution_count": null,
            "source": "rfn.require_fields(a, [('b', 'f4'), ('newf', 'u1')])",
            "outputs": [
                {
                    "output_type": "execute_result",
                    "metadata": {},
                    "data": {
                        "text/plain": "array([(1., 0), (1., 0), (1., 0), (1., 0)],\n  dtype=[('b', '<f4'), ('newf', 'u1')])"
                    },
                    "execution_count": null
                }
            ]
        }
    ]
}