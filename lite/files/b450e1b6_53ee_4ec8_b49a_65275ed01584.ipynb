{
    "nbformat": 4,
    "nbformat_minor": 5,
    "metadata": {
        "kernelspec": {
            "display_name": "Python",
            "language": "python",
            "name": "python"
        },
        "language_info": {
            "name": "python"
        }
    },
    "cells": [
        {
            "id": "ca647228",
            "cell_type": "markdown",
            "source": "<div class='alert alert-warning'>\n\nNumPy's interactive examples are experimental and may not always work as expected, with high load times especially on low-resource platforms, and the version of NumPy might not be in sync with the one you are browsing the documentation for. If you encounter any issues, please report them on the [NumPy issue tracker](https://github.com/numpy/numpy/issues).\n\n</div>",
            "metadata": {}
        },
        {
            "id": "139ad8c8",
            "cell_type": "markdown",
            "source": "Draw values from the distribution and plot the histogram:\n",
            "metadata": {}
        },
        {
            "id": "596e91fb",
            "cell_type": "code",
            "metadata": {},
            "execution_count": null,
            "source": "import matplotlib.pyplot as plt\nh = plt.hist(np.random.wald(3, 2, 100000), bins=200, density=True)\nplt.show()",
            "outputs": []
        }
    ]
}