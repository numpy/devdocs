{
    "nbformat": 4,
    "nbformat_minor": 5,
    "metadata": {
        "kernelspec": {
            "display_name": "Python",
            "language": "python",
            "name": "python"
        },
        "language_info": {
            "name": "python"
        }
    },
    "cells": [
        {
            "id": "e99f0e4f",
            "cell_type": "markdown",
            "source": "<div class='alert alert-warning'>\n\nNumPy's interactive examples are experimental and may not always work as expected, with high load times especially on low-resource platforms, and the version of NumPy might not be in sync with the one you are browsing the documentation for. If you encounter any issues, please report them on the [NumPy issue tracker](https://github.com/numpy/numpy/issues).\n\n</div>",
            "metadata": {}
        },
        {
            "id": "198d9da9",
            "cell_type": "code",
            "metadata": {},
            "execution_count": null,
            "source": "import numpy as np\na = np.ma.array([1., 2., 3., 4.], mask=[False, False, True, True])\nnp.ma.average(a, weights=[3, 1, 0, 0])",
            "outputs": [
                {
                    "output_type": "execute_result",
                    "metadata": {},
                    "data": {
                        "text/plain": "1.25"
                    },
                    "execution_count": null
                }
            ]
        },
        {
            "id": "9cc723d5",
            "cell_type": "code",
            "metadata": {},
            "execution_count": null,
            "source": "x = np.ma.arange(6.).reshape(3, 2)\nx",
            "outputs": [
                {
                    "output_type": "execute_result",
                    "metadata": {},
                    "data": {
                        "text/plain": "masked_array(\n  data=[[0., 1.],\n        [2., 3.],\n        [4., 5.]],\n  mask=False,\n  fill_value=1e+20)"
                    },
                    "execution_count": null
                }
            ]
        },
        {
            "id": "33147cc2",
            "cell_type": "code",
            "metadata": {},
            "execution_count": null,
            "source": "data = np.arange(8).reshape((2, 2, 2))\ndata",
            "outputs": [
                {
                    "output_type": "execute_result",
                    "metadata": {},
                    "data": {
                        "text/plain": "array([[[0, 1],\n        [2, 3]],\n       [[4, 5],\n        [6, 7]]])"
                    },
                    "execution_count": null
                }
            ]
        },
        {
            "id": "5e6d0316",
            "cell_type": "code",
            "metadata": {},
            "execution_count": null,
            "source": "np.ma.average(data, axis=(0, 1), weights=[[1./4, 3./4], [1., 1./2]])",
            "outputs": [
                {
                    "output_type": "execute_result",
                    "metadata": {},
                    "data": {
                        "text/plain": "masked_array(data=[3.4, 4.4],\n         mask=[False, False],\n   fill_value=1e+20)"
                    },
                    "execution_count": null
                }
            ]
        },
        {
            "id": "848a09ff",
            "cell_type": "code",
            "metadata": {},
            "execution_count": null,
            "source": "np.ma.average(data, axis=0, weights=[[1./4, 3./4], [1., 1./2]])",
            "outputs": [
                {
                    "output_type": "execute_result",
                    "metadata": {},
                    "data": {
                        "text/plain": "Traceback (most recent call last):\n    ...\nValueError: Shape of weights must be consistent\nwith shape of a along specified axis."
                    },
                    "execution_count": null
                }
            ]
        },
        {
            "id": "9d94733f",
            "cell_type": "code",
            "metadata": {},
            "execution_count": null,
            "source": "avg, sumweights = np.ma.average(x, axis=0, weights=[1, 2, 3],\n                                returned=True)\navg",
            "outputs": [
                {
                    "output_type": "execute_result",
                    "metadata": {},
                    "data": {
                        "text/plain": "masked_array(data=[2.6666666666666665, 3.6666666666666665],\n             mask=[False, False],\n       fill_value=1e+20)"
                    },
                    "execution_count": null
                }
            ]
        },
        {
            "id": "de5a2cb2",
            "cell_type": "markdown",
            "source": "With ``keepdims=True``, the following result has shape (3, 1).\n",
            "metadata": {}
        },
        {
            "id": "bad4272e",
            "cell_type": "code",
            "metadata": {},
            "execution_count": null,
            "source": "np.ma.average(x, axis=1, keepdims=True)",
            "outputs": [
                {
                    "output_type": "execute_result",
                    "metadata": {},
                    "data": {
                        "text/plain": "masked_array(\n  data=[[0.5],\n        [2.5],\n        [4.5]],\n  mask=False,\n  fill_value=1e+20)"
                    },
                    "execution_count": null
                }
            ]
        }
    ]
}