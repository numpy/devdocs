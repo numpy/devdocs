{
    "nbformat": 4,
    "nbformat_minor": 5,
    "metadata": {
        "kernelspec": {
            "display_name": "Python",
            "language": "python",
            "name": "python"
        },
        "language_info": {
            "name": "python"
        }
    },
    "cells": [
        {
            "id": "dec2ff35",
            "cell_type": "markdown",
            "source": "<div class='alert alert-warning'>\n\nNumPy's interactive examples are experimental and may not always work as expected, with high load times especially on low-resource platforms, and the version of NumPy might not be in sync with the one you are browsing the documentation for. If you encounter any issues, please report them on the [NumPy issue tracker](https://github.com/numpy/numpy/issues).\n\n</div>",
            "metadata": {}
        },
        {
            "id": "a404a452",
            "cell_type": "code",
            "metadata": {},
            "execution_count": null,
            "source": "np.random.seed(123)\nimport numpy.matlib\nnp.matlib.rand(2, 3)",
            "outputs": [
                {
                    "output_type": "execute_result",
                    "metadata": {},
                    "data": {
                        "text/plain": "matrix([[0.69646919, 0.28613933, 0.22685145],\n        [0.55131477, 0.71946897, 0.42310646]])"
                    },
                    "execution_count": null
                }
            ]
        },
        {
            "id": "211eec2a",
            "cell_type": "code",
            "metadata": {},
            "execution_count": null,
            "source": "np.matlib.rand((2, 3))",
            "outputs": [
                {
                    "output_type": "execute_result",
                    "metadata": {},
                    "data": {
                        "text/plain": "matrix([[0.9807642 , 0.68482974, 0.4809319 ],\n        [0.39211752, 0.34317802, 0.72904971]])"
                    },
                    "execution_count": null
                }
            ]
        },
        {
            "id": "f70e9b7f",
            "cell_type": "markdown",
            "source": "If the first argument is a tuple, other arguments are ignored:\n",
            "metadata": {}
        },
        {
            "id": "a1f74831",
            "cell_type": "code",
            "metadata": {},
            "execution_count": null,
            "source": "np.matlib.rand((2, 3), 4)",
            "outputs": [
                {
                    "output_type": "execute_result",
                    "metadata": {},
                    "data": {
                        "text/plain": "matrix([[0.43857224, 0.0596779 , 0.39804426],\n        [0.73799541, 0.18249173, 0.17545176]])"
                    },
                    "execution_count": null
                }
            ]
        }
    ]
}