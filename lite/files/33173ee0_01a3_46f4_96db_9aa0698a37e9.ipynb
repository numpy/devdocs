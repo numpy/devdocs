{
    "nbformat": 4,
    "nbformat_minor": 5,
    "metadata": {
        "kernelspec": {
            "display_name": "Python",
            "language": "python",
            "name": "python"
        },
        "language_info": {
            "name": "python"
        }
    },
    "cells": [
        {
            "id": "dc14f84e",
            "cell_type": "markdown",
            "source": "<div class='alert alert-warning'>\n\nNumPy's interactive examples are experimental and may not always work as expected, with high load times especially on low-resource platforms, and the version of NumPy might not be in sync with the one you are browsing the documentation for. If you encounter any issues, please report them on the [NumPy issue tracker](https://github.com/numpy/numpy/issues).\n\n</div>",
            "metadata": {}
        },
        {
            "id": "03de54d5",
            "cell_type": "markdown",
            "source": "Draw samples from the distribution:\n",
            "metadata": {}
        },
        {
            "id": "c91cf8f7",
            "cell_type": "code",
            "metadata": {},
            "execution_count": null,
            "source": "mu, beta = 0, 0.1 # location and scale\ns = np.random.gumbel(mu, beta, 1000)",
            "outputs": []
        },
        {
            "id": "62710a9a",
            "cell_type": "markdown",
            "source": "Display the histogram of the samples, along with\nthe probability density function:\n",
            "metadata": {}
        },
        {
            "id": "37536924",
            "cell_type": "code",
            "metadata": {},
            "execution_count": null,
            "source": "import matplotlib.pyplot as plt\ncount, bins, ignored = plt.hist(s, 30, density=True)\nplt.plot(bins, (1/beta)*np.exp(-(bins - mu)/beta)\n         * np.exp( -np.exp( -(bins - mu) /beta) ),\n         linewidth=2, color='r')\nplt.show()",
            "outputs": []
        },
        {
            "id": "e02db451",
            "cell_type": "markdown",
            "source": "Show how an extreme value distribution can arise from a Gaussian process\nand compare to a Gaussian:\n",
            "metadata": {}
        },
        {
            "id": "54d7f2a8",
            "cell_type": "code",
            "metadata": {},
            "execution_count": null,
            "source": "means = []\nmaxima = []\nfor i in range(0,1000) :\n   a = np.random.normal(mu, beta, 1000)\n   means.append(a.mean())\n   maxima.append(a.max())\ncount, bins, ignored = plt.hist(maxima, 30, density=True)\nbeta = np.std(maxima) * np.sqrt(6) / np.pi\nmu = np.mean(maxima) - 0.57721*beta\nplt.plot(bins, (1/beta)*np.exp(-(bins - mu)/beta)\n         * np.exp(-np.exp(-(bins - mu)/beta)),\n         linewidth=2, color='r')\nplt.plot(bins, 1/(beta * np.sqrt(2 * np.pi))\n         * np.exp(-(bins - mu)**2 / (2 * beta**2)),\n         linewidth=2, color='g')\nplt.show()",
            "outputs": []
        }
    ]
}