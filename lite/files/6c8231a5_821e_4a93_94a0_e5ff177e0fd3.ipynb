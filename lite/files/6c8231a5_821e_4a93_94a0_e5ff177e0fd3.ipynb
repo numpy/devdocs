{
    "nbformat": 4,
    "nbformat_minor": 5,
    "metadata": {
        "kernelspec": {
            "display_name": "Python",
            "language": "python",
            "name": "python"
        },
        "language_info": {
            "name": "python"
        }
    },
    "cells": [
        {
            "id": "618974c6",
            "cell_type": "markdown",
            "source": "<div class='alert alert-warning'>\n\nNumPy's interactive examples are experimental and may not always work as expected, with high load times especially on low-resource platforms, and the version of NumPy might not be in sync with the one you are browsing the documentation for. If you encounter any issues, please report them on the [NumPy issue tracker](https://github.com/numpy/numpy/issues).\n\n</div>",
            "metadata": {}
        },
        {
            "id": "8e4cd900",
            "cell_type": "code",
            "metadata": {},
            "execution_count": null,
            "source": "import numpy as np\nnp.geomspace(1, 1000, num=4)",
            "outputs": [
                {
                    "output_type": "execute_result",
                    "metadata": {},
                    "data": {
                        "text/plain": "array([    1.,    10.,   100.,  1000.])"
                    },
                    "execution_count": null
                }
            ]
        },
        {
            "id": "5fcbdf88",
            "cell_type": "code",
            "metadata": {},
            "execution_count": null,
            "source": "np.geomspace(1, 1000, num=3, endpoint=False)",
            "outputs": [
                {
                    "output_type": "execute_result",
                    "metadata": {},
                    "data": {
                        "text/plain": "array([   1.,   10.,  100.])"
                    },
                    "execution_count": null
                }
            ]
        },
        {
            "id": "da1ec012",
            "cell_type": "code",
            "metadata": {},
            "execution_count": null,
            "source": "np.geomspace(1, 1000, num=4, endpoint=False)",
            "outputs": [
                {
                    "output_type": "execute_result",
                    "metadata": {},
                    "data": {
                        "text/plain": "array([   1.        ,    5.62341325,   31.6227766 ,  177.827941  ])"
                    },
                    "execution_count": null
                }
            ]
        },
        {
            "id": "037403a8",
            "cell_type": "code",
            "metadata": {},
            "execution_count": null,
            "source": "np.geomspace(1, 256, num=9)",
            "outputs": [
                {
                    "output_type": "execute_result",
                    "metadata": {},
                    "data": {
                        "text/plain": "array([   1.,    2.,    4.,    8.,   16.,   32.,   64.,  128.,  256.])"
                    },
                    "execution_count": null
                }
            ]
        },
        {
            "id": "4797439f",
            "cell_type": "markdown",
            "source": "Note that the above may not produce exact integers:\n",
            "metadata": {}
        },
        {
            "id": "55a8fb3d",
            "cell_type": "code",
            "metadata": {},
            "execution_count": null,
            "source": "np.geomspace(1, 256, num=9, dtype=int)",
            "outputs": [
                {
                    "output_type": "execute_result",
                    "metadata": {},
                    "data": {
                        "text/plain": "array([  1,   2,   4,   7,  16,  32,  63, 127, 256])"
                    },
                    "execution_count": null
                }
            ]
        },
        {
            "id": "5b0161db",
            "cell_type": "code",
            "metadata": {},
            "execution_count": null,
            "source": "np.around(np.geomspace(1, 256, num=9)).astype(int)",
            "outputs": [
                {
                    "output_type": "execute_result",
                    "metadata": {},
                    "data": {
                        "text/plain": "array([  1,   2,   4,   8,  16,  32,  64, 128, 256])"
                    },
                    "execution_count": null
                }
            ]
        },
        {
            "id": "3b798dfa",
            "cell_type": "markdown",
            "source": "Negative, decreasing, and complex inputs are allowed:\n",
            "metadata": {}
        },
        {
            "id": "c19afe1b",
            "cell_type": "code",
            "metadata": {},
            "execution_count": null,
            "source": "np.geomspace(1000, 1, num=4)",
            "outputs": [
                {
                    "output_type": "execute_result",
                    "metadata": {},
                    "data": {
                        "text/plain": "array([1000.,  100.,   10.,    1.])"
                    },
                    "execution_count": null
                }
            ]
        },
        {
            "id": "96743244",
            "cell_type": "code",
            "metadata": {},
            "execution_count": null,
            "source": "np.geomspace(-1000, -1, num=4)",
            "outputs": [
                {
                    "output_type": "execute_result",
                    "metadata": {},
                    "data": {
                        "text/plain": "array([-1000.,  -100.,   -10.,    -1.])"
                    },
                    "execution_count": null
                }
            ]
        },
        {
            "id": "d66a1cd8",
            "cell_type": "code",
            "metadata": {},
            "execution_count": null,
            "source": "np.geomspace(1j, 1000j, num=4)  # Straight line",
            "outputs": [
                {
                    "output_type": "execute_result",
                    "metadata": {},
                    "data": {
                        "text/plain": "array([0.   +1.j, 0.  +10.j, 0. +100.j, 0.+1000.j])"
                    },
                    "execution_count": null
                }
            ]
        },
        {
            "id": "4c25f34f",
            "cell_type": "code",
            "metadata": {},
            "execution_count": null,
            "source": "np.geomspace(-1+0j, 1+0j, num=5)  # Circle",
            "outputs": [
                {
                    "output_type": "execute_result",
                    "metadata": {},
                    "data": {
                        "text/plain": "array([-1.00000000e+00+1.22464680e-16j, -7.07106781e-01+7.07106781e-01j,\n        6.12323400e-17+1.00000000e+00j,  7.07106781e-01+7.07106781e-01j,\n        1.00000000e+00+0.00000000e+00j])"
                    },
                    "execution_count": null
                }
            ]
        },
        {
            "id": "13583785",
            "cell_type": "markdown",
            "source": "Graphical illustration of `endpoint` parameter:\n",
            "metadata": {}
        },
        {
            "id": "ea512953",
            "cell_type": "code",
            "metadata": {},
            "execution_count": null,
            "source": "import matplotlib.pyplot as plt\nN = 10\ny = np.zeros(N)\nplt.semilogx(np.geomspace(1, 1000, N, endpoint=True), y + 1, 'o')",
            "outputs": [
                {
                    "output_type": "execute_result",
                    "metadata": {},
                    "data": {
                        "text/plain": "[<matplotlib.lines.Line2D object at 0x...>]"
                    },
                    "execution_count": null
                }
            ]
        },
        {
            "id": "f385ad79",
            "cell_type": "code",
            "metadata": {},
            "execution_count": null,
            "source": "plt.semilogx(np.geomspace(1, 1000, N, endpoint=False), y + 2, 'o')",
            "outputs": [
                {
                    "output_type": "execute_result",
                    "metadata": {},
                    "data": {
                        "text/plain": "[<matplotlib.lines.Line2D object at 0x...>]"
                    },
                    "execution_count": null
                }
            ]
        },
        {
            "id": "dd72f7f5",
            "cell_type": "code",
            "metadata": {},
            "execution_count": null,
            "source": "plt.axis([0.5, 2000, 0, 3])",
            "outputs": [
                {
                    "output_type": "execute_result",
                    "metadata": {},
                    "data": {
                        "text/plain": "[0.5, 2000, 0, 3]"
                    },
                    "execution_count": null
                }
            ]
        },
        {
            "id": "b72400ee",
            "cell_type": "code",
            "metadata": {},
            "execution_count": null,
            "source": "plt.grid(True, color='0.7', linestyle='-', which='both', axis='both')\nplt.show()",
            "outputs": []
        }
    ]
}