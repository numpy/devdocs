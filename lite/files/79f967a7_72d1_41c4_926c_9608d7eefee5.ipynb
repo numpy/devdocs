{
    "nbformat": 4,
    "nbformat_minor": 5,
    "metadata": {
        "kernelspec": {
            "display_name": "Python",
            "language": "python",
            "name": "python"
        },
        "language_info": {
            "name": "python"
        }
    },
    "cells": [
        {
            "id": "d7c8875f",
            "cell_type": "markdown",
            "source": "<div class='alert alert-warning'>\n\nNumPy's interactive examples are experimental and may not always work as expected, with high load times especially on low-resource platforms, and the version of NumPy might not be in sync with the one you are browsing the documentation for. If you encounter any issues, please report them on the [NumPy issue tracker](https://github.com/numpy/numpy/issues).\n\n</div>",
            "metadata": {}
        },
        {
            "id": "0941d339",
            "cell_type": "markdown",
            "source": "Draw samples from the distribution:\n",
            "metadata": {}
        },
        {
            "id": "9fd11dc3",
            "cell_type": "code",
            "metadata": {},
            "execution_count": null,
            "source": "loc, scale = 10, 1\nrng = np.random.default_rng()\ns = rng.logistic(loc, scale, 10000)\nimport matplotlib.pyplot as plt\ncount, bins, _ = plt.hist(s, bins=50, label='Sampled data')",
            "outputs": []
        },
        {
            "id": "32061e0a",
            "cell_type": "markdown",
            "source": "#   plot sampled data against the exact distribution\n",
            "metadata": {}
        },
        {
            "id": "9c4d1870",
            "cell_type": "code",
            "metadata": {},
            "execution_count": null,
            "source": "def logistic(x, loc, scale):\n    return np.exp((loc-x)/scale)/(scale*(1+np.exp((loc-x)/scale))**2)\nlogistic_values  = logistic(bins, loc, scale)\nbin_spacing = np.mean(np.diff(bins))\nplt.plot(bins, logistic_values  * bin_spacing * s.size, label='Logistic PDF')\nplt.legend()\nplt.show()",
            "outputs": []
        }
    ]
}