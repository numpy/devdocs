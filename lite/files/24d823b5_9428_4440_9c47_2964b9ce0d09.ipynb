{
    "nbformat": 4,
    "nbformat_minor": 5,
    "metadata": {
        "kernelspec": {
            "display_name": "Python",
            "language": "python",
            "name": "python"
        },
        "language_info": {
            "name": "python"
        }
    },
    "cells": [
        {
            "id": "f7b24bc3",
            "cell_type": "markdown",
            "source": "<div class='alert alert-warning'>\n\nNumPy's interactive examples are experimental and may not always work as expected, with high load times especially on low-resource platforms, and the version of NumPy might not be in sync with the one you are browsing the documentation for. If you encounter any issues, please report them on the [NumPy issue tracker](https://github.com/numpy/numpy/issues).\n\n</div>",
            "metadata": {}
        },
        {
            "id": "27cdc5b3",
            "cell_type": "code",
            "metadata": {},
            "execution_count": null,
            "source": "import numpy as np\na = np.arange(6).reshape(2,3)\na.argmax()",
            "outputs": [
                {
                    "output_type": "execute_result",
                    "metadata": {},
                    "data": {
                        "text/plain": "5"
                    },
                    "execution_count": null
                }
            ]
        },
        {
            "id": "a79bd7a6",
            "cell_type": "code",
            "metadata": {},
            "execution_count": null,
            "source": "a.argmax(0)",
            "outputs": [
                {
                    "output_type": "execute_result",
                    "metadata": {},
                    "data": {
                        "text/plain": "array([1, 1, 1])"
                    },
                    "execution_count": null
                }
            ]
        },
        {
            "id": "7667276a",
            "cell_type": "code",
            "metadata": {},
            "execution_count": null,
            "source": "a.argmax(1)",
            "outputs": [
                {
                    "output_type": "execute_result",
                    "metadata": {},
                    "data": {
                        "text/plain": "array([2, 2])"
                    },
                    "execution_count": null
                }
            ]
        }
    ]
}