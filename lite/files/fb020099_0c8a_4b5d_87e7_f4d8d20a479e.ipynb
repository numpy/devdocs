{
    "nbformat": 4,
    "nbformat_minor": 5,
    "metadata": {
        "kernelspec": {
            "display_name": "Python",
            "language": "python",
            "name": "python"
        },
        "language_info": {
            "name": "python"
        }
    },
    "cells": [
        {
            "id": "ff78f711",
            "cell_type": "markdown",
            "source": "<div class='alert alert-warning'>\n\nNumPy's interactive examples are experimental and may not always work as expected, with high load times especially on low-resource platforms, and the version of NumPy might not be in sync with the one you are browsing the documentation for. If you encounter any issues, please report them on the [NumPy issue tracker](https://github.com/numpy/numpy/issues).\n\n</div>",
            "metadata": {}
        },
        {
            "id": "24331a29",
            "cell_type": "code",
            "metadata": {},
            "execution_count": null,
            "source": "import warnings\nwith np.testing.clear_and_catch_warnings(\n        modules=[np._core.fromnumeric]):\n    warnings.simplefilter('always')\n    warnings.filterwarnings('ignore', module='np._core.fromnumeric')\n    # do something that raises a warning but ignore those in\n    # np._core.fromnumeric",
            "outputs": []
        }
    ]
}