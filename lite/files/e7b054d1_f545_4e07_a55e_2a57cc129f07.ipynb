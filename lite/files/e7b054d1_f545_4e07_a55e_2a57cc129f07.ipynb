{
    "nbformat": 4,
    "nbformat_minor": 5,
    "metadata": {
        "kernelspec": {
            "display_name": "Python",
            "language": "python",
            "name": "python"
        },
        "language_info": {
            "name": "python"
        }
    },
    "cells": [
        {
            "id": "7d06d6b7",
            "cell_type": "markdown",
            "source": "<div class='alert alert-warning'>\n\nNumPy's interactive examples are experimental and may not always work as expected, with high load times especially on low-resource platforms, and the version of NumPy might not be in sync with the one you are browsing the documentation for. If you encounter any issues, please report them on the [NumPy issue tracker](https://github.com/numpy/numpy/issues).\n\n</div>",
            "metadata": {}
        },
        {
            "id": "c17901ad",
            "cell_type": "code",
            "metadata": {},
            "execution_count": null,
            "source": "from numpy.polynomial import chebyshev as C\nc1 = (1,2,3)\nc2 = (3,2,1)\nC.chebdiv(c1,c2) # quotient \"intuitive,\" remainder not",
            "outputs": [
                {
                    "output_type": "execute_result",
                    "metadata": {},
                    "data": {
                        "text/plain": "(array([3.]), array([-8., -4.]))"
                    },
                    "execution_count": null
                }
            ]
        },
        {
            "id": "692e5cc4",
            "cell_type": "code",
            "metadata": {},
            "execution_count": null,
            "source": "c2 = (0,1,2,3)\nC.chebdiv(c2,c1) # neither \"intuitive\"",
            "outputs": [
                {
                    "output_type": "execute_result",
                    "metadata": {},
                    "data": {
                        "text/plain": "(array([0., 2.]), array([-2., -4.]))"
                    },
                    "execution_count": null
                }
            ]
        }
    ]
}