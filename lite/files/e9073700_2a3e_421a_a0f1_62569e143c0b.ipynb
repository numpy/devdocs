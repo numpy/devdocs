{
    "nbformat": 4,
    "nbformat_minor": 5,
    "metadata": {
        "kernelspec": {
            "display_name": "Python",
            "language": "python",
            "name": "python"
        },
        "language_info": {
            "name": "python"
        }
    },
    "cells": [
        {
            "id": "64e2baa0",
            "cell_type": "markdown",
            "source": "<div class='alert alert-warning'>\n\nNumPy's interactive examples are experimental and may not always work as expected, with high load times especially on low-resource platforms, and the version of NumPy might not be in sync with the one you are browsing the documentation for. If you encounter any issues, please report them on the [NumPy issue tracker](https://github.com/numpy/numpy/issues).\n\n</div>",
            "metadata": {}
        },
        {
            "id": "00ee2c27",
            "cell_type": "code",
            "metadata": {},
            "execution_count": null,
            "source": "import numpy as np",
            "outputs": []
        },
        {
            "id": "46b9197a",
            "cell_type": "code",
            "metadata": {},
            "execution_count": null,
            "source": "np.array_equal([1, 2], [1, 2])",
            "outputs": [
                {
                    "output_type": "execute_result",
                    "metadata": {},
                    "data": {
                        "text/plain": "True"
                    },
                    "execution_count": null
                }
            ]
        },
        {
            "id": "0f0a93b2",
            "cell_type": "code",
            "metadata": {},
            "execution_count": null,
            "source": "np.array_equal(np.array([1, 2]), np.array([1, 2]))",
            "outputs": [
                {
                    "output_type": "execute_result",
                    "metadata": {},
                    "data": {
                        "text/plain": "True"
                    },
                    "execution_count": null
                }
            ]
        },
        {
            "id": "c072c047",
            "cell_type": "code",
            "metadata": {},
            "execution_count": null,
            "source": "np.array_equal([1, 2], [1, 2, 3])",
            "outputs": [
                {
                    "output_type": "execute_result",
                    "metadata": {},
                    "data": {
                        "text/plain": "False"
                    },
                    "execution_count": null
                }
            ]
        },
        {
            "id": "d17c6de1",
            "cell_type": "code",
            "metadata": {},
            "execution_count": null,
            "source": "np.array_equal([1, 2], [1, 4])",
            "outputs": [
                {
                    "output_type": "execute_result",
                    "metadata": {},
                    "data": {
                        "text/plain": "False"
                    },
                    "execution_count": null
                }
            ]
        },
        {
            "id": "e95a6c05",
            "cell_type": "code",
            "metadata": {},
            "execution_count": null,
            "source": "a = np.array([1, np.nan])\nnp.array_equal(a, a)",
            "outputs": [
                {
                    "output_type": "execute_result",
                    "metadata": {},
                    "data": {
                        "text/plain": "False"
                    },
                    "execution_count": null
                }
            ]
        },
        {
            "id": "d78ec194",
            "cell_type": "code",
            "metadata": {},
            "execution_count": null,
            "source": "np.array_equal(a, a, equal_nan=True)",
            "outputs": [
                {
                    "output_type": "execute_result",
                    "metadata": {},
                    "data": {
                        "text/plain": "True"
                    },
                    "execution_count": null
                }
            ]
        },
        {
            "id": "05153417",
            "cell_type": "markdown",
            "source": "When ``equal_nan`` is True, complex values with nan components are\nconsidered equal if either the real *or* the imaginary components are nan.\n",
            "metadata": {}
        },
        {
            "id": "81669cf7",
            "cell_type": "code",
            "metadata": {},
            "execution_count": null,
            "source": "a = np.array([1 + 1j])\nb = a.copy()\na.real = np.nan\nb.imag = np.nan\nnp.array_equal(a, b, equal_nan=True)",
            "outputs": [
                {
                    "output_type": "execute_result",
                    "metadata": {},
                    "data": {
                        "text/plain": "True"
                    },
                    "execution_count": null
                }
            ]
        }
    ]
}