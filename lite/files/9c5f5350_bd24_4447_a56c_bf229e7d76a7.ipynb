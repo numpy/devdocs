{
    "nbformat": 4,
    "nbformat_minor": 5,
    "metadata": {
        "kernelspec": {
            "display_name": "Python",
            "language": "python",
            "name": "python"
        },
        "language_info": {
            "name": "python"
        }
    },
    "cells": [
        {
            "id": "67b941ee",
            "cell_type": "markdown",
            "source": "<div class='alert alert-warning'>\n\nNumPy's interactive examples are experimental and may not always work as expected, with high load times especially on low-resource platforms, and the version of NumPy might not be in sync with the one you are browsing the documentation for. If you encounter any issues, please report them on the [NumPy issue tracker](https://github.com/numpy/numpy/issues).\n\n</div>",
            "metadata": {}
        },
        {
            "id": "bbc3fad3",
            "cell_type": "code",
            "metadata": {},
            "execution_count": null,
            "source": "import numpy as np\nfreqs = np.fft.fftfreq(10, 0.1)\nfreqs",
            "outputs": [
                {
                    "output_type": "execute_result",
                    "metadata": {},
                    "data": {
                        "text/plain": "array([ 0.,  1.,  2., ..., -3., -2., -1.])"
                    },
                    "execution_count": null
                }
            ]
        },
        {
            "id": "1326c905",
            "cell_type": "code",
            "metadata": {},
            "execution_count": null,
            "source": "np.fft.fftshift(freqs)",
            "outputs": [
                {
                    "output_type": "execute_result",
                    "metadata": {},
                    "data": {
                        "text/plain": "array([-5., -4., -3., -2., -1.,  0.,  1.,  2.,  3.,  4.])"
                    },
                    "execution_count": null
                }
            ]
        },
        {
            "id": "a1c3599d",
            "cell_type": "markdown",
            "source": "Shift the zero-frequency component only along the second axis:\n",
            "metadata": {}
        },
        {
            "id": "6c208914",
            "cell_type": "code",
            "metadata": {},
            "execution_count": null,
            "source": "freqs = np.fft.fftfreq(9, d=1./9).reshape(3, 3)\nfreqs",
            "outputs": [
                {
                    "output_type": "execute_result",
                    "metadata": {},
                    "data": {
                        "text/plain": "array([[ 0.,  1.,  2.],\n       [ 3.,  4., -4.],\n       [-3., -2., -1.]])"
                    },
                    "execution_count": null
                }
            ]
        },
        {
            "id": "56748528",
            "cell_type": "code",
            "metadata": {},
            "execution_count": null,
            "source": "np.fft.fftshift(freqs, axes=(1,))",
            "outputs": [
                {
                    "output_type": "execute_result",
                    "metadata": {},
                    "data": {
                        "text/plain": "array([[ 2.,  0.,  1.],\n       [-4.,  3.,  4.],\n       [-1., -3., -2.]])"
                    },
                    "execution_count": null
                }
            ]
        }
    ]
}