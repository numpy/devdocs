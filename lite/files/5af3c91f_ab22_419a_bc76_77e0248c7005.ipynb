{
    "nbformat": 4,
    "nbformat_minor": 5,
    "metadata": {
        "kernelspec": {
            "display_name": "Python",
            "language": "python",
            "name": "python"
        },
        "language_info": {
            "name": "python"
        }
    },
    "cells": [
        {
            "id": "88d1fc47",
            "cell_type": "markdown",
            "source": "<div class='alert alert-warning'>\n\nNumPy's interactive examples are experimental and may not always work as expected, with high load times especially on low-resource platforms, and the version of NumPy might not be in sync with the one you are browsing the documentation for. If you encounter any issues, please report them on the [NumPy issue tracker](https://github.com/numpy/numpy/issues).\n\n</div>",
            "metadata": {}
        },
        {
            "id": "34e651cd",
            "cell_type": "code",
            "metadata": {},
            "execution_count": null,
            "source": "import numpy as np\na = np.arange(6).reshape(3, 2)\na",
            "outputs": [
                {
                    "output_type": "execute_result",
                    "metadata": {},
                    "data": {
                        "text/plain": "array([[0, 1],\n       [2, 3],\n       [4, 5]])"
                    },
                    "execution_count": null
                }
            ]
        },
        {
            "id": "a7e81352",
            "cell_type": "code",
            "metadata": {},
            "execution_count": null,
            "source": "np.insert(a, 1, 6)",
            "outputs": [
                {
                    "output_type": "execute_result",
                    "metadata": {},
                    "data": {
                        "text/plain": "array([0, 6, 1, 2, 3, 4, 5])"
                    },
                    "execution_count": null
                }
            ]
        },
        {
            "id": "b7112905",
            "cell_type": "code",
            "metadata": {},
            "execution_count": null,
            "source": "np.insert(a, 1, 6, axis=1)",
            "outputs": [
                {
                    "output_type": "execute_result",
                    "metadata": {},
                    "data": {
                        "text/plain": "array([[0, 6, 1],\n       [2, 6, 3],\n       [4, 6, 5]])"
                    },
                    "execution_count": null
                }
            ]
        },
        {
            "id": "b494da0a",
            "cell_type": "markdown",
            "source": "Difference between sequence and scalars,\nshowing how ``obj=[1]`` behaves different from ``obj=1``:\n",
            "metadata": {}
        },
        {
            "id": "7c356696",
            "cell_type": "code",
            "metadata": {},
            "execution_count": null,
            "source": "np.insert(a, [1], [[7],[8],[9]], axis=1)",
            "outputs": [
                {
                    "output_type": "execute_result",
                    "metadata": {},
                    "data": {
                        "text/plain": "array([[0, 7, 1],\n       [2, 8, 3],\n       [4, 9, 5]])"
                    },
                    "execution_count": null
                }
            ]
        },
        {
            "id": "d960798d",
            "cell_type": "code",
            "metadata": {},
            "execution_count": null,
            "source": "np.insert(a, 1, [[7],[8],[9]], axis=1)",
            "outputs": [
                {
                    "output_type": "execute_result",
                    "metadata": {},
                    "data": {
                        "text/plain": "array([[0, 7, 8, 9, 1],\n       [2, 7, 8, 9, 3],\n       [4, 7, 8, 9, 5]])"
                    },
                    "execution_count": null
                }
            ]
        },
        {
            "id": "bb86b851",
            "cell_type": "code",
            "metadata": {},
            "execution_count": null,
            "source": "np.array_equal(np.insert(a, 1, [7, 8, 9], axis=1),\n               np.insert(a, [1], [[7],[8],[9]], axis=1))",
            "outputs": [
                {
                    "output_type": "execute_result",
                    "metadata": {},
                    "data": {
                        "text/plain": "True"
                    },
                    "execution_count": null
                }
            ]
        },
        {
            "id": "764a4471",
            "cell_type": "code",
            "metadata": {},
            "execution_count": null,
            "source": "b = a.flatten()\nb",
            "outputs": [
                {
                    "output_type": "execute_result",
                    "metadata": {},
                    "data": {
                        "text/plain": "array([0, 1, 2, 3, 4, 5])"
                    },
                    "execution_count": null
                }
            ]
        },
        {
            "id": "c78fe85c",
            "cell_type": "code",
            "metadata": {},
            "execution_count": null,
            "source": "np.insert(b, [2, 2], [6, 7])",
            "outputs": [
                {
                    "output_type": "execute_result",
                    "metadata": {},
                    "data": {
                        "text/plain": "array([0, 1, 6, 7, 2, 3, 4, 5])"
                    },
                    "execution_count": null
                }
            ]
        },
        {
            "id": "14693b72",
            "cell_type": "code",
            "metadata": {},
            "execution_count": null,
            "source": "np.insert(b, slice(2, 4), [7, 8])",
            "outputs": [
                {
                    "output_type": "execute_result",
                    "metadata": {},
                    "data": {
                        "text/plain": "array([0, 1, 7, 2, 8, 3, 4, 5])"
                    },
                    "execution_count": null
                }
            ]
        },
        {
            "id": "10df975f",
            "cell_type": "code",
            "metadata": {},
            "execution_count": null,
            "source": "np.insert(b, [2, 2], [7.13, False]) # type casting",
            "outputs": [
                {
                    "output_type": "execute_result",
                    "metadata": {},
                    "data": {
                        "text/plain": "array([0, 1, 7, 0, 2, 3, 4, 5])"
                    },
                    "execution_count": null
                }
            ]
        },
        {
            "id": "b6eebc42",
            "cell_type": "code",
            "metadata": {},
            "execution_count": null,
            "source": "x = np.arange(8).reshape(2, 4)\nidx = (1, 3)\nnp.insert(x, idx, 999, axis=1)",
            "outputs": [
                {
                    "output_type": "execute_result",
                    "metadata": {},
                    "data": {
                        "text/plain": "array([[  0, 999,   1,   2, 999,   3],\n       [  4, 999,   5,   6, 999,   7]])"
                    },
                    "execution_count": null
                }
            ]
        }
    ]
}