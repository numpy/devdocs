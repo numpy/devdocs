{
    "nbformat": 4,
    "nbformat_minor": 5,
    "metadata": {
        "kernelspec": {
            "display_name": "Python",
            "language": "python",
            "name": "python"
        },
        "language_info": {
            "name": "python"
        }
    },
    "cells": [
        {
            "id": "afb8d3e5",
            "cell_type": "markdown",
            "source": "<div class='alert alert-warning'>\n\nNumPy's interactive examples are experimental and may not always work as expected, with high load times especially on low-resource platforms, and the version of NumPy might not be in sync with the one you are browsing the documentation for. If you encounter any issues, please report them on the [NumPy issue tracker](https://github.com/numpy/numpy/issues).\n\n</div>",
            "metadata": {}
        },
        {
            "id": "a26eb650",
            "cell_type": "code",
            "metadata": {},
            "execution_count": null,
            "source": "import numpy as np",
            "outputs": []
        },
        {
            "id": "de1d0b75",
            "cell_type": "code",
            "metadata": {},
            "execution_count": null,
            "source": "a = np.memmap('newfile.dat', dtype=float, mode='w+', shape=1000)\na[10] = 10.0\na[30] = 30.0\ndel a",
            "outputs": []
        },
        {
            "id": "855aded2",
            "cell_type": "code",
            "metadata": {},
            "execution_count": null,
            "source": "b = np.fromfile('newfile.dat', dtype=float)\nprint(b[10], b[30])",
            "outputs": [
                {
                    "output_type": "execute_result",
                    "metadata": {},
                    "data": {
                        "text/plain": "10.0 30.0"
                    },
                    "execution_count": null
                }
            ]
        },
        {
            "id": "00a4a2a8",
            "cell_type": "code",
            "metadata": {},
            "execution_count": null,
            "source": "a = np.memmap('newfile.dat', dtype=float)\nprint(a[10], a[30])",
            "outputs": [
                {
                    "output_type": "execute_result",
                    "metadata": {},
                    "data": {
                        "text/plain": "10.0 30.0"
                    },
                    "execution_count": null
                }
            ]
        }
    ]
}