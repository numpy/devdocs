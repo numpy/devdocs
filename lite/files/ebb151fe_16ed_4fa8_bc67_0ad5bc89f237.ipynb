{
    "nbformat": 4,
    "nbformat_minor": 5,
    "metadata": {
        "kernelspec": {
            "display_name": "Python",
            "language": "python",
            "name": "python"
        },
        "language_info": {
            "name": "python"
        }
    },
    "cells": [
        {
            "id": "f1a5ab89",
            "cell_type": "markdown",
            "source": "<div class='alert alert-warning'>\n\nNumPy's interactive examples are experimental and may not always work as expected, with high load times especially on low-resource platforms, and the version of NumPy might not be in sync with the one you are browsing the documentation for. If you encounter any issues, please report them on the [NumPy issue tracker](https://github.com/numpy/numpy/issues).\n\n</div>",
            "metadata": {}
        },
        {
            "id": "187df6e4",
            "cell_type": "markdown",
            "source": "Vector cross-product.\n",
            "metadata": {}
        },
        {
            "id": "5dbce5df",
            "cell_type": "code",
            "metadata": {},
            "execution_count": null,
            "source": "import numpy as np\nx = [1, 2, 3]\ny = [4, 5, 6]\nnp.cross(x, y)",
            "outputs": [
                {
                    "output_type": "execute_result",
                    "metadata": {},
                    "data": {
                        "text/plain": "array([-3,  6, -3])"
                    },
                    "execution_count": null
                }
            ]
        },
        {
            "id": "761220c6",
            "cell_type": "markdown",
            "source": "One vector with dimension 2.\n",
            "metadata": {}
        },
        {
            "id": "5459406a",
            "cell_type": "code",
            "metadata": {},
            "execution_count": null,
            "source": "x = [1, 2]\ny = [4, 5, 6]\nnp.cross(x, y)",
            "outputs": [
                {
                    "output_type": "execute_result",
                    "metadata": {},
                    "data": {
                        "text/plain": "array([12, -6, -3])"
                    },
                    "execution_count": null
                }
            ]
        },
        {
            "id": "20d86126",
            "cell_type": "markdown",
            "source": "Equivalently:\n",
            "metadata": {}
        },
        {
            "id": "8c3a2edd",
            "cell_type": "code",
            "metadata": {},
            "execution_count": null,
            "source": "x = [1, 2, 0]\ny = [4, 5, 6]\nnp.cross(x, y)",
            "outputs": [
                {
                    "output_type": "execute_result",
                    "metadata": {},
                    "data": {
                        "text/plain": "array([12, -6, -3])"
                    },
                    "execution_count": null
                }
            ]
        },
        {
            "id": "66ee2e61",
            "cell_type": "markdown",
            "source": "Both vectors with dimension 2.\n",
            "metadata": {}
        },
        {
            "id": "43910bbc",
            "cell_type": "code",
            "metadata": {},
            "execution_count": null,
            "source": "x = [1,2]\ny = [4,5]\nnp.cross(x, y)",
            "outputs": [
                {
                    "output_type": "execute_result",
                    "metadata": {},
                    "data": {
                        "text/plain": "array(-3)"
                    },
                    "execution_count": null
                }
            ]
        },
        {
            "id": "24df2f64",
            "cell_type": "markdown",
            "source": "Multiple vector cross-products. Note that the direction of the cross\nproduct vector is defined by the *right-hand rule*.\n",
            "metadata": {}
        },
        {
            "id": "ae5e8321",
            "cell_type": "code",
            "metadata": {},
            "execution_count": null,
            "source": "x = np.array([[1,2,3], [4,5,6]])\ny = np.array([[4,5,6], [1,2,3]])\nnp.cross(x, y)",
            "outputs": [
                {
                    "output_type": "execute_result",
                    "metadata": {},
                    "data": {
                        "text/plain": "array([[-3,  6, -3],\n       [ 3, -6,  3]])"
                    },
                    "execution_count": null
                }
            ]
        },
        {
            "id": "d4973a46",
            "cell_type": "markdown",
            "source": "The orientation of `c` can be changed using the `axisc` keyword.\n",
            "metadata": {}
        },
        {
            "id": "2a095c6a",
            "cell_type": "code",
            "metadata": {},
            "execution_count": null,
            "source": "np.cross(x, y, axisc=0)",
            "outputs": [
                {
                    "output_type": "execute_result",
                    "metadata": {},
                    "data": {
                        "text/plain": "array([[-3,  3],\n       [ 6, -6],\n       [-3,  3]])"
                    },
                    "execution_count": null
                }
            ]
        },
        {
            "id": "09707782",
            "cell_type": "markdown",
            "source": "Change the vector definition of `x` and `y` using `axisa` and `axisb`.\n",
            "metadata": {}
        },
        {
            "id": "5136dbef",
            "cell_type": "code",
            "metadata": {},
            "execution_count": null,
            "source": "x = np.array([[1,2,3], [4,5,6], [7, 8, 9]])\ny = np.array([[7, 8, 9], [4,5,6], [1,2,3]])\nnp.cross(x, y)",
            "outputs": [
                {
                    "output_type": "execute_result",
                    "metadata": {},
                    "data": {
                        "text/plain": "array([[ -6,  12,  -6],\n       [  0,   0,   0],\n       [  6, -12,   6]])"
                    },
                    "execution_count": null
                }
            ]
        },
        {
            "id": "afe18933",
            "cell_type": "code",
            "metadata": {},
            "execution_count": null,
            "source": "np.cross(x, y, axisa=0, axisb=0)",
            "outputs": [
                {
                    "output_type": "execute_result",
                    "metadata": {},
                    "data": {
                        "text/plain": "array([[-24,  48, -24],\n       [-30,  60, -30],\n       [-36,  72, -36]])"
                    },
                    "execution_count": null
                }
            ]
        }
    ]
}