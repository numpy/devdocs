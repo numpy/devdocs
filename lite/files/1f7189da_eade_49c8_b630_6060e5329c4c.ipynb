{
    "nbformat": 4,
    "nbformat_minor": 5,
    "metadata": {
        "kernelspec": {
            "display_name": "Python",
            "language": "python",
            "name": "python"
        },
        "language_info": {
            "name": "python"
        }
    },
    "cells": [
        {
            "id": "898857be",
            "cell_type": "markdown",
            "source": "<div class='alert alert-warning'>\n\nNumPy's interactive examples are experimental and may not always work as expected, with high load times especially on low-resource platforms, and the version of NumPy might not be in sync with the one you are browsing the documentation for. If you encounter any issues, please report them on the [NumPy issue tracker](https://github.com/numpy/numpy/issues).\n\n</div>",
            "metadata": {}
        },
        {
            "id": "21296860",
            "cell_type": "code",
            "metadata": {},
            "execution_count": null,
            "source": "np.common_type(np.arange(2, dtype=np.float32))",
            "outputs": [
                {
                    "output_type": "execute_result",
                    "metadata": {},
                    "data": {
                        "text/plain": "<class 'numpy.float32'>"
                    },
                    "execution_count": null
                }
            ]
        },
        {
            "id": "8e265663",
            "cell_type": "code",
            "metadata": {},
            "execution_count": null,
            "source": "np.common_type(np.arange(2, dtype=np.float32), np.arange(2))",
            "outputs": [
                {
                    "output_type": "execute_result",
                    "metadata": {},
                    "data": {
                        "text/plain": "<class 'numpy.float64'>"
                    },
                    "execution_count": null
                }
            ]
        },
        {
            "id": "86cc1693",
            "cell_type": "code",
            "metadata": {},
            "execution_count": null,
            "source": "np.common_type(np.arange(4), np.array([45, 6.j]), np.array([45.0]))",
            "outputs": [
                {
                    "output_type": "execute_result",
                    "metadata": {},
                    "data": {
                        "text/plain": "<class 'numpy.complex128'>"
                    },
                    "execution_count": null
                }
            ]
        }
    ]
}