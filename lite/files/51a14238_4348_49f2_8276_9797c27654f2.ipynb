{
    "nbformat": 4,
    "nbformat_minor": 5,
    "metadata": {
        "kernelspec": {
            "display_name": "Python",
            "language": "python",
            "name": "python"
        },
        "language_info": {
            "name": "python"
        }
    },
    "cells": [
        {
            "id": "1c53ad6d",
            "cell_type": "markdown",
            "source": "<div class='alert alert-warning'>\n\nNumPy's interactive examples are experimental and may not always work as expected, with high load times especially on low-resource platforms, and the version of NumPy might not be in sync with the one you are browsing the documentation for. If you encounter any issues, please report them on the [NumPy issue tracker](https://github.com/numpy/numpy/issues).\n\n</div>",
            "metadata": {}
        },
        {
            "id": "47103c02",
            "cell_type": "code",
            "metadata": {},
            "execution_count": null,
            "source": "import numpy as np",
            "outputs": []
        },
        {
            "id": "0ab6c742",
            "cell_type": "code",
            "metadata": {},
            "execution_count": null,
            "source": "from numpy.lib import recfunctions as rfn\ndef print_offsets(d):\n    print(\"offsets:\", [d.fields[name][1] for name in d.names])\n    print(\"itemsize:\", d.itemsize)\n\ndt = np.dtype('u1, <i8, <f8', align=True)\ndt",
            "outputs": [
                {
                    "output_type": "execute_result",
                    "metadata": {},
                    "data": {
                        "text/plain": "dtype({'names': ['f0', 'f1', 'f2'], 'formats': ['u1', '<i8', '<f8'], 'offsets': [0, 8, 16], 'itemsize': 24}, align=True)"
                    },
                    "execution_count": null
                }
            ]
        },
        {
            "id": "73bd194a",
            "cell_type": "code",
            "metadata": {},
            "execution_count": null,
            "source": "print_offsets(dt)",
            "outputs": [
                {
                    "output_type": "execute_result",
                    "metadata": {},
                    "data": {
                        "text/plain": "offsets: [0, 8, 16]\nitemsize: 24"
                    },
                    "execution_count": null
                }
            ]
        },
        {
            "id": "bb7f561a",
            "cell_type": "code",
            "metadata": {},
            "execution_count": null,
            "source": "packed_dt = rfn.repack_fields(dt)\npacked_dt",
            "outputs": [
                {
                    "output_type": "execute_result",
                    "metadata": {},
                    "data": {
                        "text/plain": "dtype([('f0', 'u1'), ('f1', '<i8'), ('f2', '<f8')])"
                    },
                    "execution_count": null
                }
            ]
        },
        {
            "id": "2a609e06",
            "cell_type": "code",
            "metadata": {},
            "execution_count": null,
            "source": "print_offsets(packed_dt)",
            "outputs": [
                {
                    "output_type": "execute_result",
                    "metadata": {},
                    "data": {
                        "text/plain": "offsets: [0, 1, 9]\nitemsize: 17"
                    },
                    "execution_count": null
                }
            ]
        }
    ]
}