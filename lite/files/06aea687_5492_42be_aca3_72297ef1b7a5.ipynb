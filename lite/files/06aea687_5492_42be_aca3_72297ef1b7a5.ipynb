{
    "nbformat": 4,
    "nbformat_minor": 5,
    "metadata": {
        "kernelspec": {
            "display_name": "Python",
            "language": "python",
            "name": "python"
        },
        "language_info": {
            "name": "python"
        }
    },
    "cells": [
        {
            "id": "d3b5df7f",
            "cell_type": "markdown",
            "source": "<div class='alert alert-warning'>\n\nNumPy's interactive examples are experimental and may not always work as expected, with high load times especially on low-resource platforms, and the version of NumPy might not be in sync with the one you are browsing the documentation for. If you encounter any issues, please report them on the [NumPy issue tracker](https://github.com/numpy/numpy/issues).\n\n</div>",
            "metadata": {}
        },
        {
            "id": "4dcc236f",
            "cell_type": "code",
            "metadata": {},
            "execution_count": null,
            "source": "import numpy as np\nnp.nansum(1)",
            "outputs": [
                {
                    "output_type": "execute_result",
                    "metadata": {},
                    "data": {
                        "text/plain": "1"
                    },
                    "execution_count": null
                }
            ]
        },
        {
            "id": "2a4f3860",
            "cell_type": "code",
            "metadata": {},
            "execution_count": null,
            "source": "np.nansum([1])",
            "outputs": [
                {
                    "output_type": "execute_result",
                    "metadata": {},
                    "data": {
                        "text/plain": "1"
                    },
                    "execution_count": null
                }
            ]
        },
        {
            "id": "92c5b476",
            "cell_type": "code",
            "metadata": {},
            "execution_count": null,
            "source": "np.nansum([1, np.nan])",
            "outputs": [
                {
                    "output_type": "execute_result",
                    "metadata": {},
                    "data": {
                        "text/plain": "1.0"
                    },
                    "execution_count": null
                }
            ]
        },
        {
            "id": "608ae499",
            "cell_type": "code",
            "metadata": {},
            "execution_count": null,
            "source": "a = np.array([[1, 1], [1, np.nan]])\nnp.nansum(a)",
            "outputs": [
                {
                    "output_type": "execute_result",
                    "metadata": {},
                    "data": {
                        "text/plain": "3.0"
                    },
                    "execution_count": null
                }
            ]
        },
        {
            "id": "ce9c8d3f",
            "cell_type": "code",
            "metadata": {},
            "execution_count": null,
            "source": "np.nansum(a, axis=0)",
            "outputs": [
                {
                    "output_type": "execute_result",
                    "metadata": {},
                    "data": {
                        "text/plain": "array([2.,  1.])"
                    },
                    "execution_count": null
                }
            ]
        },
        {
            "id": "f10bd281",
            "cell_type": "code",
            "metadata": {},
            "execution_count": null,
            "source": "np.nansum([1, np.nan, np.inf])",
            "outputs": [
                {
                    "output_type": "execute_result",
                    "metadata": {},
                    "data": {
                        "text/plain": "inf"
                    },
                    "execution_count": null
                }
            ]
        },
        {
            "id": "daab5853",
            "cell_type": "code",
            "metadata": {},
            "execution_count": null,
            "source": "np.nansum([1, np.nan, -np.inf])",
            "outputs": [
                {
                    "output_type": "execute_result",
                    "metadata": {},
                    "data": {
                        "text/plain": "-inf"
                    },
                    "execution_count": null
                }
            ]
        },
        {
            "id": "c7b41acf",
            "cell_type": "code",
            "metadata": {},
            "execution_count": null,
            "source": "with np.errstate(invalid=\"ignore\"):\n    np.nansum([1, np.nan, np.inf, -np.inf]) # both +/- infinity present",
            "outputs": [
                {
                    "output_type": "execute_result",
                    "metadata": {},
                    "data": {
                        "text/plain": "np.float64(nan)"
                    },
                    "execution_count": null
                }
            ]
        }
    ]
}