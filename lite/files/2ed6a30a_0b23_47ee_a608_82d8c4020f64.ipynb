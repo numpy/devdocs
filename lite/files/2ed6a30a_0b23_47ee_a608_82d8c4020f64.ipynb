{
    "nbformat": 4,
    "nbformat_minor": 5,
    "metadata": {
        "kernelspec": {
            "display_name": "Python",
            "language": "python",
            "name": "python"
        },
        "language_info": {
            "name": "python"
        }
    },
    "cells": [
        {
            "id": "524eac8e",
            "cell_type": "markdown",
            "source": "<div class='alert alert-warning'>\n\nNumPy's interactive examples are experimental and may not always work as expected, with high load times especially on low-resource platforms, and the version of NumPy might not be in sync with the one you are browsing the documentation for. If you encounter any issues, please report them on the [NumPy issue tracker](https://github.com/numpy/numpy/issues).\n\n</div>",
            "metadata": {}
        },
        {
            "id": "9e5096f3",
            "cell_type": "code",
            "metadata": {},
            "execution_count": null,
            "source": "import numpy as np\nx = np.ma.array([[1,2 ], [3, 4]], mask=[0]*4)\nx.mask",
            "outputs": [
                {
                    "output_type": "execute_result",
                    "metadata": {},
                    "data": {
                        "text/plain": "array([[False, False],\n       [False, False]])"
                    },
                    "execution_count": null
                }
            ]
        },
        {
            "id": "a569a905",
            "cell_type": "code",
            "metadata": {},
            "execution_count": null,
            "source": "x.shrink_mask()",
            "outputs": [
                {
                    "output_type": "execute_result",
                    "metadata": {},
                    "data": {
                        "text/plain": "masked_array(\n  data=[[1, 2],\n        [3, 4]],\n  mask=False,\n  fill_value=999999)"
                    },
                    "execution_count": null
                }
            ]
        },
        {
            "id": "b0db75e9",
            "cell_type": "code",
            "metadata": {},
            "execution_count": null,
            "source": "x.mask",
            "outputs": [
                {
                    "output_type": "execute_result",
                    "metadata": {},
                    "data": {
                        "text/plain": "False"
                    },
                    "execution_count": null
                }
            ]
        }
    ]
}