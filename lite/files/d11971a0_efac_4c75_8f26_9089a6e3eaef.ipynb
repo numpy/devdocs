{
    "nbformat": 4,
    "nbformat_minor": 5,
    "metadata": {
        "kernelspec": {
            "display_name": "Python",
            "language": "python",
            "name": "python"
        },
        "language_info": {
            "name": "python"
        }
    },
    "cells": [
        {
            "id": "d6efcbab",
            "cell_type": "markdown",
            "source": "<div class='alert alert-warning'>\n\nNumPy's interactive examples are experimental and may not always work as expected, with high load times especially on low-resource platforms, and the version of NumPy might not be in sync with the one you are browsing the documentation for. If you encounter any issues, please report them on the [NumPy issue tracker](https://github.com/numpy/numpy/issues).\n\n</div>",
            "metadata": {}
        },
        {
            "id": "8e633eb9",
            "cell_type": "code",
            "metadata": {},
            "execution_count": null,
            "source": "a = np.arange(25).reshape(5,5)\nb = np.arange(5)\nc = np.arange(6).reshape(2,3)",
            "outputs": []
        },
        {
            "id": "c77c4eae",
            "cell_type": "markdown",
            "source": "Trace of a matrix:\n",
            "metadata": {}
        },
        {
            "id": "f4a3b7b2",
            "cell_type": "code",
            "metadata": {},
            "execution_count": null,
            "source": "np.einsum('ii', a)",
            "outputs": [
                {
                    "output_type": "execute_result",
                    "metadata": {},
                    "data": {
                        "text/plain": "60"
                    },
                    "execution_count": null
                }
            ]
        },
        {
            "id": "52d30558",
            "cell_type": "code",
            "metadata": {},
            "execution_count": null,
            "source": "np.einsum(a, [0,0])",
            "outputs": [
                {
                    "output_type": "execute_result",
                    "metadata": {},
                    "data": {
                        "text/plain": "60"
                    },
                    "execution_count": null
                }
            ]
        },
        {
            "id": "1b026f7a",
            "cell_type": "code",
            "metadata": {},
            "execution_count": null,
            "source": "np.trace(a)",
            "outputs": [
                {
                    "output_type": "execute_result",
                    "metadata": {},
                    "data": {
                        "text/plain": "60"
                    },
                    "execution_count": null
                }
            ]
        },
        {
            "id": "2b5e915c",
            "cell_type": "markdown",
            "source": "Extract the diagonal (requires explicit form):\n",
            "metadata": {}
        },
        {
            "id": "d0b69cda",
            "cell_type": "code",
            "metadata": {},
            "execution_count": null,
            "source": "np.einsum('ii->i', a)",
            "outputs": [
                {
                    "output_type": "execute_result",
                    "metadata": {},
                    "data": {
                        "text/plain": "array([ 0,  6, 12, 18, 24])"
                    },
                    "execution_count": null
                }
            ]
        },
        {
            "id": "e0bf1a8a",
            "cell_type": "code",
            "metadata": {},
            "execution_count": null,
            "source": "np.einsum(a, [0,0], [0])",
            "outputs": [
                {
                    "output_type": "execute_result",
                    "metadata": {},
                    "data": {
                        "text/plain": "array([ 0,  6, 12, 18, 24])"
                    },
                    "execution_count": null
                }
            ]
        },
        {
            "id": "5677f615",
            "cell_type": "code",
            "metadata": {},
            "execution_count": null,
            "source": "np.diag(a)",
            "outputs": [
                {
                    "output_type": "execute_result",
                    "metadata": {},
                    "data": {
                        "text/plain": "array([ 0,  6, 12, 18, 24])"
                    },
                    "execution_count": null
                }
            ]
        },
        {
            "id": "f38654fc",
            "cell_type": "markdown",
            "source": "Sum over an axis (requires explicit form):\n",
            "metadata": {}
        },
        {
            "id": "019ca305",
            "cell_type": "code",
            "metadata": {},
            "execution_count": null,
            "source": "np.einsum('ij->i', a)",
            "outputs": [
                {
                    "output_type": "execute_result",
                    "metadata": {},
                    "data": {
                        "text/plain": "array([ 10,  35,  60,  85, 110])"
                    },
                    "execution_count": null
                }
            ]
        },
        {
            "id": "66915259",
            "cell_type": "code",
            "metadata": {},
            "execution_count": null,
            "source": "np.einsum(a, [0,1], [0])",
            "outputs": [
                {
                    "output_type": "execute_result",
                    "metadata": {},
                    "data": {
                        "text/plain": "array([ 10,  35,  60,  85, 110])"
                    },
                    "execution_count": null
                }
            ]
        },
        {
            "id": "3ce94b03",
            "cell_type": "code",
            "metadata": {},
            "execution_count": null,
            "source": "np.sum(a, axis=1)",
            "outputs": [
                {
                    "output_type": "execute_result",
                    "metadata": {},
                    "data": {
                        "text/plain": "array([ 10,  35,  60,  85, 110])"
                    },
                    "execution_count": null
                }
            ]
        },
        {
            "id": "2f477494",
            "cell_type": "markdown",
            "source": "For higher dimensional arrays summing a single axis can be done\nwith ellipsis:\n",
            "metadata": {}
        },
        {
            "id": "98de5244",
            "cell_type": "code",
            "metadata": {},
            "execution_count": null,
            "source": "np.einsum('...j->...', a)",
            "outputs": [
                {
                    "output_type": "execute_result",
                    "metadata": {},
                    "data": {
                        "text/plain": "array([ 10,  35,  60,  85, 110])"
                    },
                    "execution_count": null
                }
            ]
        },
        {
            "id": "6f1b7989",
            "cell_type": "code",
            "metadata": {},
            "execution_count": null,
            "source": "np.einsum(a, [Ellipsis,1], [Ellipsis])",
            "outputs": [
                {
                    "output_type": "execute_result",
                    "metadata": {},
                    "data": {
                        "text/plain": "array([ 10,  35,  60,  85, 110])"
                    },
                    "execution_count": null
                }
            ]
        },
        {
            "id": "4f8e0125",
            "cell_type": "markdown",
            "source": "Compute a matrix transpose, or reorder any number of axes:\n",
            "metadata": {}
        },
        {
            "id": "7111051b",
            "cell_type": "code",
            "metadata": {},
            "execution_count": null,
            "source": "np.einsum('ji', c)",
            "outputs": [
                {
                    "output_type": "execute_result",
                    "metadata": {},
                    "data": {
                        "text/plain": "array([[0, 3],\n       [1, 4],\n       [2, 5]])"
                    },
                    "execution_count": null
                }
            ]
        },
        {
            "id": "d4abe3db",
            "cell_type": "code",
            "metadata": {},
            "execution_count": null,
            "source": "np.einsum('ij->ji', c)",
            "outputs": [
                {
                    "output_type": "execute_result",
                    "metadata": {},
                    "data": {
                        "text/plain": "array([[0, 3],\n       [1, 4],\n       [2, 5]])"
                    },
                    "execution_count": null
                }
            ]
        },
        {
            "id": "8b941b3d",
            "cell_type": "code",
            "metadata": {},
            "execution_count": null,
            "source": "np.einsum(c, [1,0])",
            "outputs": [
                {
                    "output_type": "execute_result",
                    "metadata": {},
                    "data": {
                        "text/plain": "array([[0, 3],\n       [1, 4],\n       [2, 5]])"
                    },
                    "execution_count": null
                }
            ]
        },
        {
            "id": "411d5fdd",
            "cell_type": "code",
            "metadata": {},
            "execution_count": null,
            "source": "np.transpose(c)",
            "outputs": [
                {
                    "output_type": "execute_result",
                    "metadata": {},
                    "data": {
                        "text/plain": "array([[0, 3],\n       [1, 4],\n       [2, 5]])"
                    },
                    "execution_count": null
                }
            ]
        },
        {
            "id": "06db736a",
            "cell_type": "markdown",
            "source": "Vector inner products:\n",
            "metadata": {}
        },
        {
            "id": "f533c49d",
            "cell_type": "code",
            "metadata": {},
            "execution_count": null,
            "source": "np.einsum('i,i', b, b)",
            "outputs": [
                {
                    "output_type": "execute_result",
                    "metadata": {},
                    "data": {
                        "text/plain": "30"
                    },
                    "execution_count": null
                }
            ]
        },
        {
            "id": "f3bf04d4",
            "cell_type": "code",
            "metadata": {},
            "execution_count": null,
            "source": "np.einsum(b, [0], b, [0])",
            "outputs": [
                {
                    "output_type": "execute_result",
                    "metadata": {},
                    "data": {
                        "text/plain": "30"
                    },
                    "execution_count": null
                }
            ]
        },
        {
            "id": "5aed0a0b",
            "cell_type": "code",
            "metadata": {},
            "execution_count": null,
            "source": "np.inner(b,b)",
            "outputs": [
                {
                    "output_type": "execute_result",
                    "metadata": {},
                    "data": {
                        "text/plain": "30"
                    },
                    "execution_count": null
                }
            ]
        },
        {
            "id": "a5c95436",
            "cell_type": "markdown",
            "source": "Matrix vector multiplication:\n",
            "metadata": {}
        },
        {
            "id": "3cba7d4d",
            "cell_type": "code",
            "metadata": {},
            "execution_count": null,
            "source": "np.einsum('ij,j', a, b)",
            "outputs": [
                {
                    "output_type": "execute_result",
                    "metadata": {},
                    "data": {
                        "text/plain": "array([ 30,  80, 130, 180, 230])"
                    },
                    "execution_count": null
                }
            ]
        },
        {
            "id": "47ec5f96",
            "cell_type": "code",
            "metadata": {},
            "execution_count": null,
            "source": "np.einsum(a, [0,1], b, [1])",
            "outputs": [
                {
                    "output_type": "execute_result",
                    "metadata": {},
                    "data": {
                        "text/plain": "array([ 30,  80, 130, 180, 230])"
                    },
                    "execution_count": null
                }
            ]
        },
        {
            "id": "b893aae7",
            "cell_type": "code",
            "metadata": {},
            "execution_count": null,
            "source": "np.dot(a, b)",
            "outputs": [
                {
                    "output_type": "execute_result",
                    "metadata": {},
                    "data": {
                        "text/plain": "array([ 30,  80, 130, 180, 230])"
                    },
                    "execution_count": null
                }
            ]
        },
        {
            "id": "3613aad8",
            "cell_type": "code",
            "metadata": {},
            "execution_count": null,
            "source": "np.einsum('...j,j', a, b)",
            "outputs": [
                {
                    "output_type": "execute_result",
                    "metadata": {},
                    "data": {
                        "text/plain": "array([ 30,  80, 130, 180, 230])"
                    },
                    "execution_count": null
                }
            ]
        },
        {
            "id": "5254c74e",
            "cell_type": "markdown",
            "source": "Broadcasting and scalar multiplication:\n",
            "metadata": {}
        },
        {
            "id": "d7e7e904",
            "cell_type": "code",
            "metadata": {},
            "execution_count": null,
            "source": "np.einsum('..., ...', 3, c)",
            "outputs": [
                {
                    "output_type": "execute_result",
                    "metadata": {},
                    "data": {
                        "text/plain": "array([[ 0,  3,  6],\n       [ 9, 12, 15]])"
                    },
                    "execution_count": null
                }
            ]
        },
        {
            "id": "0c8a6bf9",
            "cell_type": "code",
            "metadata": {},
            "execution_count": null,
            "source": "np.einsum(',ij', 3, c)",
            "outputs": [
                {
                    "output_type": "execute_result",
                    "metadata": {},
                    "data": {
                        "text/plain": "array([[ 0,  3,  6],\n       [ 9, 12, 15]])"
                    },
                    "execution_count": null
                }
            ]
        },
        {
            "id": "7fa33d0f",
            "cell_type": "code",
            "metadata": {},
            "execution_count": null,
            "source": "np.einsum(3, [Ellipsis], c, [Ellipsis])",
            "outputs": [
                {
                    "output_type": "execute_result",
                    "metadata": {},
                    "data": {
                        "text/plain": "array([[ 0,  3,  6],\n       [ 9, 12, 15]])"
                    },
                    "execution_count": null
                }
            ]
        },
        {
            "id": "d7339a8d",
            "cell_type": "code",
            "metadata": {},
            "execution_count": null,
            "source": "np.multiply(3, c)",
            "outputs": [
                {
                    "output_type": "execute_result",
                    "metadata": {},
                    "data": {
                        "text/plain": "array([[ 0,  3,  6],\n       [ 9, 12, 15]])"
                    },
                    "execution_count": null
                }
            ]
        },
        {
            "id": "525ede86",
            "cell_type": "markdown",
            "source": "Vector outer product:\n",
            "metadata": {}
        },
        {
            "id": "22436b7a",
            "cell_type": "code",
            "metadata": {},
            "execution_count": null,
            "source": "np.einsum('i,j', np.arange(2)+1, b)",
            "outputs": [
                {
                    "output_type": "execute_result",
                    "metadata": {},
                    "data": {
                        "text/plain": "array([[0, 1, 2, 3, 4],\n       [0, 2, 4, 6, 8]])"
                    },
                    "execution_count": null
                }
            ]
        },
        {
            "id": "7afeda3a",
            "cell_type": "code",
            "metadata": {},
            "execution_count": null,
            "source": "np.einsum(np.arange(2)+1, [0], b, [1])",
            "outputs": [
                {
                    "output_type": "execute_result",
                    "metadata": {},
                    "data": {
                        "text/plain": "array([[0, 1, 2, 3, 4],\n       [0, 2, 4, 6, 8]])"
                    },
                    "execution_count": null
                }
            ]
        },
        {
            "id": "41969756",
            "cell_type": "code",
            "metadata": {},
            "execution_count": null,
            "source": "np.outer(np.arange(2)+1, b)",
            "outputs": [
                {
                    "output_type": "execute_result",
                    "metadata": {},
                    "data": {
                        "text/plain": "array([[0, 1, 2, 3, 4],\n       [0, 2, 4, 6, 8]])"
                    },
                    "execution_count": null
                }
            ]
        },
        {
            "id": "7a66a624",
            "cell_type": "markdown",
            "source": "Tensor contraction:\n",
            "metadata": {}
        },
        {
            "id": "49e28f6b",
            "cell_type": "code",
            "metadata": {},
            "execution_count": null,
            "source": "a = np.arange(60.).reshape(3,4,5)\nb = np.arange(24.).reshape(4,3,2)\nnp.einsum('ijk,jil->kl', a, b)",
            "outputs": [
                {
                    "output_type": "execute_result",
                    "metadata": {},
                    "data": {
                        "text/plain": "array([[4400., 4730.],\n       [4532., 4874.],\n       [4664., 5018.],\n       [4796., 5162.],\n       [4928., 5306.]])"
                    },
                    "execution_count": null
                }
            ]
        },
        {
            "id": "1c728fbd",
            "cell_type": "code",
            "metadata": {},
            "execution_count": null,
            "source": "np.einsum(a, [0,1,2], b, [1,0,3], [2,3])",
            "outputs": [
                {
                    "output_type": "execute_result",
                    "metadata": {},
                    "data": {
                        "text/plain": "array([[4400., 4730.],\n       [4532., 4874.],\n       [4664., 5018.],\n       [4796., 5162.],\n       [4928., 5306.]])"
                    },
                    "execution_count": null
                }
            ]
        },
        {
            "id": "56d639b0",
            "cell_type": "code",
            "metadata": {},
            "execution_count": null,
            "source": "np.tensordot(a,b, axes=([1,0],[0,1]))",
            "outputs": [
                {
                    "output_type": "execute_result",
                    "metadata": {},
                    "data": {
                        "text/plain": "array([[4400., 4730.],\n       [4532., 4874.],\n       [4664., 5018.],\n       [4796., 5162.],\n       [4928., 5306.]])"
                    },
                    "execution_count": null
                }
            ]
        },
        {
            "id": "dbee93ff",
            "cell_type": "markdown",
            "source": "Writeable returned arrays (since version 1.10.0):\n",
            "metadata": {}
        },
        {
            "id": "0dbff9cd",
            "cell_type": "code",
            "metadata": {},
            "execution_count": null,
            "source": "a = np.zeros((3, 3))\nnp.einsum('ii->i', a)[:] = 1\na",
            "outputs": [
                {
                    "output_type": "execute_result",
                    "metadata": {},
                    "data": {
                        "text/plain": "array([[1., 0., 0.],\n       [0., 1., 0.],\n       [0., 0., 1.]])"
                    },
                    "execution_count": null
                }
            ]
        },
        {
            "id": "7c215f3b",
            "cell_type": "markdown",
            "source": "Example of ellipsis use:\n",
            "metadata": {}
        },
        {
            "id": "da3238a5",
            "cell_type": "code",
            "metadata": {},
            "execution_count": null,
            "source": "a = np.arange(6).reshape((3,2))\nb = np.arange(12).reshape((4,3))\nnp.einsum('ki,jk->ij', a, b)",
            "outputs": [
                {
                    "output_type": "execute_result",
                    "metadata": {},
                    "data": {
                        "text/plain": "array([[10, 28, 46, 64],\n       [13, 40, 67, 94]])"
                    },
                    "execution_count": null
                }
            ]
        },
        {
            "id": "bb01db5c",
            "cell_type": "code",
            "metadata": {},
            "execution_count": null,
            "source": "np.einsum('ki,...k->i...', a, b)",
            "outputs": [
                {
                    "output_type": "execute_result",
                    "metadata": {},
                    "data": {
                        "text/plain": "array([[10, 28, 46, 64],\n       [13, 40, 67, 94]])"
                    },
                    "execution_count": null
                }
            ]
        },
        {
            "id": "6f6565b6",
            "cell_type": "code",
            "metadata": {},
            "execution_count": null,
            "source": "np.einsum('k...,jk', a, b)",
            "outputs": [
                {
                    "output_type": "execute_result",
                    "metadata": {},
                    "data": {
                        "text/plain": "array([[10, 28, 46, 64],\n       [13, 40, 67, 94]])"
                    },
                    "execution_count": null
                }
            ]
        },
        {
            "id": "3ca965df",
            "cell_type": "markdown",
            "source": "Chained array operations. For more complicated contractions, speed ups\nmight be achieved by repeatedly computing a 'greedy' path or pre-computing\nthe 'optimal' path and repeatedly applying it, using an `einsum_path`\ninsertion (since version 1.12.0). Performance improvements can be\nparticularly significant with larger arrays:\n",
            "metadata": {}
        },
        {
            "id": "f2537503",
            "cell_type": "code",
            "metadata": {},
            "execution_count": null,
            "source": "a = np.ones(64).reshape(2,4,8)",
            "outputs": []
        },
        {
            "id": "e6362179",
            "cell_type": "markdown",
            "source": "Basic `einsum`: ~1520ms  (benchmarked on 3.1GHz Intel i5.)\n",
            "metadata": {}
        },
        {
            "id": "3703edd8",
            "cell_type": "code",
            "metadata": {},
            "execution_count": null,
            "source": "for iteration in range(500):\n    _ = np.einsum('ijk,ilm,njm,nlk,abc->',a,a,a,a,a)",
            "outputs": []
        },
        {
            "id": "0bd2a767",
            "cell_type": "markdown",
            "source": "Sub-optimal `einsum` (due to repeated path calculation time): ~330ms\n",
            "metadata": {}
        },
        {
            "id": "76d3def0",
            "cell_type": "code",
            "metadata": {},
            "execution_count": null,
            "source": "for iteration in range(500):\n    _ = np.einsum('ijk,ilm,njm,nlk,abc->',a,a,a,a,a,\n        optimize='optimal')",
            "outputs": []
        },
        {
            "id": "5e6daacd",
            "cell_type": "markdown",
            "source": "Greedy `einsum` (faster optimal path approximation): ~160ms\n",
            "metadata": {}
        },
        {
            "id": "a6d5e962",
            "cell_type": "code",
            "metadata": {},
            "execution_count": null,
            "source": "for iteration in range(500):\n    _ = np.einsum('ijk,ilm,njm,nlk,abc->',a,a,a,a,a, optimize='greedy')",
            "outputs": []
        },
        {
            "id": "7abc8a7f",
            "cell_type": "markdown",
            "source": "Optimal `einsum` (best usage pattern in some use cases): ~110ms\n",
            "metadata": {}
        },
        {
            "id": "78e74753",
            "cell_type": "code",
            "metadata": {},
            "execution_count": null,
            "source": "path = np.einsum_path('ijk,ilm,njm,nlk,abc->',a,a,a,a,a,\n    optimize='optimal')[0]\nfor iteration in range(500):\n    _ = np.einsum('ijk,ilm,njm,nlk,abc->',a,a,a,a,a, optimize=path)",
            "outputs": []
        }
    ]
}