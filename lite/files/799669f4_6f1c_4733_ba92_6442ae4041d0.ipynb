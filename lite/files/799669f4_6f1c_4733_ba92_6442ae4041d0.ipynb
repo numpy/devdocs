{
    "nbformat": 4,
    "nbformat_minor": 5,
    "metadata": {
        "kernelspec": {
            "display_name": "Python",
            "language": "python",
            "name": "python"
        },
        "language_info": {
            "name": "python"
        }
    },
    "cells": [
        {
            "id": "3efab327",
            "cell_type": "markdown",
            "source": "<div class='alert alert-warning'>\n\nNumPy's interactive examples are experimental and may not always work as expected, with high load times especially on low-resource platforms, and the version of NumPy might not be in sync with the one you are browsing the documentation for. If you encounter any issues, please report them on the [NumPy issue tracker](https://github.com/numpy/numpy/issues).\n\n</div>",
            "metadata": {}
        },
        {
            "id": "9a471e4b",
            "cell_type": "markdown",
            "source": "Draw samples from the distribution:\n",
            "metadata": {}
        },
        {
            "id": "1c3b75b5",
            "cell_type": "code",
            "metadata": {},
            "execution_count": null,
            "source": "mu, sigma = 0, 0.1 # mean and standard deviation\ns = np.random.normal(mu, sigma, 1000)",
            "outputs": []
        },
        {
            "id": "6ac686bb",
            "cell_type": "markdown",
            "source": "Verify the mean and the standard deviation:\n",
            "metadata": {}
        },
        {
            "id": "1ae94aa6",
            "cell_type": "code",
            "metadata": {},
            "execution_count": null,
            "source": "abs(mu - np.mean(s))",
            "outputs": [
                {
                    "output_type": "execute_result",
                    "metadata": {},
                    "data": {
                        "text/plain": "0.0  # may vary"
                    },
                    "execution_count": null
                }
            ]
        },
        {
            "id": "e872c7d3",
            "cell_type": "code",
            "metadata": {},
            "execution_count": null,
            "source": "abs(sigma - np.std(s, ddof=1))",
            "outputs": [
                {
                    "output_type": "execute_result",
                    "metadata": {},
                    "data": {
                        "text/plain": "0.0  # may vary"
                    },
                    "execution_count": null
                }
            ]
        },
        {
            "id": "9776811e",
            "cell_type": "markdown",
            "source": "Display the histogram of the samples, along with\nthe probability density function:\n",
            "metadata": {}
        },
        {
            "id": "14ec841e",
            "cell_type": "code",
            "metadata": {},
            "execution_count": null,
            "source": "import matplotlib.pyplot as plt\ncount, bins, ignored = plt.hist(s, 30, density=True)\nplt.plot(bins, 1/(sigma * np.sqrt(2 * np.pi)) *\n               np.exp( - (bins - mu)**2 / (2 * sigma**2) ),\n         linewidth=2, color='r')\nplt.show()",
            "outputs": []
        },
        {
            "id": "618fd288",
            "cell_type": "markdown",
            "source": "Two-by-four array of samples from the normal distribution with\nmean 3 and standard deviation 2.5:\n",
            "metadata": {}
        },
        {
            "id": "b9a237ab",
            "cell_type": "code",
            "metadata": {},
            "execution_count": null,
            "source": "np.random.normal(3, 2.5, size=(2, 4))",
            "outputs": [
                {
                    "output_type": "execute_result",
                    "metadata": {},
                    "data": {
                        "text/plain": "array([[-4.49401501,  4.00950034, -1.81814867,  7.29718677],   # random\n       [ 0.39924804,  4.68456316,  4.99394529,  4.84057254]])  # random"
                    },
                    "execution_count": null
                }
            ]
        }
    ]
}