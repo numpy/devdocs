{
    "nbformat": 4,
    "nbformat_minor": 5,
    "metadata": {
        "kernelspec": {
            "display_name": "Python",
            "language": "python",
            "name": "python"
        },
        "language_info": {
            "name": "python"
        }
    },
    "cells": [
        {
            "id": "d15c4680",
            "cell_type": "markdown",
            "source": "<div class='alert alert-warning'>\n\nNumPy's interactive examples are experimental and may not always work as expected, with high load times especially on low-resource platforms, and the version of NumPy might not be in sync with the one you are browsing the documentation for. If you encounter any issues, please report them on the [NumPy issue tracker](https://github.com/numpy/numpy/issues).\n\n</div>",
            "metadata": {}
        },
        {
            "id": "85d620c6",
            "cell_type": "code",
            "metadata": {},
            "execution_count": null,
            "source": "import numpy as np\na = [1, 2, 1000, 2, 3]\nmask = [0, 0, 1, 0, 0]\nmasked_a = np.ma.masked_array(a, mask)\nmasked_a",
            "outputs": [
                {
                    "output_type": "execute_result",
                    "metadata": {},
                    "data": {
                        "text/plain": "masked_array(data=[1, 2, --, 2, 3],\n            mask=[False, False,  True, False, False],\n    fill_value=999999)"
                    },
                    "execution_count": null
                }
            ]
        },
        {
            "id": "5f651414",
            "cell_type": "code",
            "metadata": {},
            "execution_count": null,
            "source": "np.ma.unique(masked_a)",
            "outputs": [
                {
                    "output_type": "execute_result",
                    "metadata": {},
                    "data": {
                        "text/plain": "masked_array(data=[1, 2, 3, --],\n            mask=[False, False, False,  True],\n    fill_value=999999)"
                    },
                    "execution_count": null
                }
            ]
        },
        {
            "id": "d0d8507e",
            "cell_type": "code",
            "metadata": {},
            "execution_count": null,
            "source": "np.ma.unique(masked_a, return_index=True)",
            "outputs": [
                {
                    "output_type": "execute_result",
                    "metadata": {},
                    "data": {
                        "text/plain": "(masked_array(data=[1, 2, 3, --],\n            mask=[False, False, False,  True],\n    fill_value=999999), array([0, 1, 4, 2]))"
                    },
                    "execution_count": null
                }
            ]
        },
        {
            "id": "b355f298",
            "cell_type": "code",
            "metadata": {},
            "execution_count": null,
            "source": "np.ma.unique(masked_a, return_inverse=True)",
            "outputs": [
                {
                    "output_type": "execute_result",
                    "metadata": {},
                    "data": {
                        "text/plain": "(masked_array(data=[1, 2, 3, --],\n            mask=[False, False, False,  True],\n    fill_value=999999), array([0, 1, 3, 1, 2]))"
                    },
                    "execution_count": null
                }
            ]
        },
        {
            "id": "2abc65af",
            "cell_type": "code",
            "metadata": {},
            "execution_count": null,
            "source": "np.ma.unique(masked_a, return_index=True, return_inverse=True)",
            "outputs": [
                {
                    "output_type": "execute_result",
                    "metadata": {},
                    "data": {
                        "text/plain": "(masked_array(data=[1, 2, 3, --],\n            mask=[False, False, False,  True],\n    fill_value=999999), array([0, 1, 4, 2]), array([0, 1, 3, 1, 2]))"
                    },
                    "execution_count": null
                }
            ]
        }
    ]
}