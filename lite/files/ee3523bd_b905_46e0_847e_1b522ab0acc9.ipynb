{
    "nbformat": 4,
    "nbformat_minor": 5,
    "metadata": {
        "kernelspec": {
            "display_name": "Python",
            "language": "python",
            "name": "python"
        },
        "language_info": {
            "name": "python"
        }
    },
    "cells": [
        {
            "id": "45588e00",
            "cell_type": "markdown",
            "source": "<div class='alert alert-warning'>\n\nNumPy's interactive examples are experimental and may not always work as expected, with high load times especially on low-resource platforms, and the version of NumPy might not be in sync with the one you are browsing the documentation for. If you encounter any issues, please report them on the [NumPy issue tracker](https://github.com/numpy/numpy/issues).\n\n</div>",
            "metadata": {}
        },
        {
            "id": "46872e20",
            "cell_type": "code",
            "metadata": {},
            "execution_count": null,
            "source": "import numpy as np\nx = np.ma.array([1, 2, 3], mask=[0, 1, 1])\nx.ids()",
            "outputs": [
                {
                    "output_type": "execute_result",
                    "metadata": {},
                    "data": {
                        "text/plain": "(166670640, 166659832) # may vary"
                    },
                    "execution_count": null
                }
            ]
        },
        {
            "id": "5d04e5ce",
            "cell_type": "markdown",
            "source": "If the array has no mask, the address of `nomask` is returned. This address\nis typically not close to the data in memory:\n",
            "metadata": {}
        },
        {
            "id": "5c81bd23",
            "cell_type": "code",
            "metadata": {},
            "execution_count": null,
            "source": "x = np.ma.array([1, 2, 3])\nx.ids()",
            "outputs": [
                {
                    "output_type": "execute_result",
                    "metadata": {},
                    "data": {
                        "text/plain": "(166691080, 3083169284) # may vary"
                    },
                    "execution_count": null
                }
            ]
        }
    ]
}