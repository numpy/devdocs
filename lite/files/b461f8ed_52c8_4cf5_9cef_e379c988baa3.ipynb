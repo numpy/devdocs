{
    "nbformat": 4,
    "nbformat_minor": 5,
    "metadata": {
        "kernelspec": {
            "display_name": "Python",
            "language": "python",
            "name": "python"
        },
        "language_info": {
            "name": "python"
        }
    },
    "cells": [
        {
            "id": "e886a727",
            "cell_type": "markdown",
            "source": "<div class='alert alert-warning'>\n\nNumPy's interactive examples are experimental and may not always work as expected, with high load times especially on low-resource platforms, and the version of NumPy might not be in sync with the one you are browsing the documentation for. If you encounter any issues, please report them on the [NumPy issue tracker](https://github.com/numpy/numpy/issues).\n\n</div>",
            "metadata": {}
        },
        {
            "id": "95e0388c",
            "cell_type": "code",
            "metadata": {},
            "execution_count": null,
            "source": "import numpy as np\nc=np.array(['a1b c','1b ca','b ca1','ca1b'],'S5'); c",
            "outputs": [
                {
                    "output_type": "execute_result",
                    "metadata": {},
                    "data": {
                        "text/plain": "array(['a1b c', '1b ca', 'b ca1', 'ca1b'],\n    dtype='|S5')"
                    },
                    "execution_count": null
                }
            ]
        },
        {
            "id": "ca754172",
            "cell_type": "code",
            "metadata": {},
            "execution_count": null,
            "source": "np.strings.title(c)",
            "outputs": [
                {
                    "output_type": "execute_result",
                    "metadata": {},
                    "data": {
                        "text/plain": "array(['A1B C', '1B Ca', 'B Ca1', 'Ca1B'],\n    dtype='|S5')"
                    },
                    "execution_count": null
                }
            ]
        }
    ]
}