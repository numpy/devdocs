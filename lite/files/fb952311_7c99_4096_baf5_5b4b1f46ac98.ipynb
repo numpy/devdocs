{
    "nbformat": 4,
    "nbformat_minor": 5,
    "metadata": {
        "kernelspec": {
            "display_name": "Python",
            "language": "python",
            "name": "python"
        },
        "language_info": {
            "name": "python"
        }
    },
    "cells": [
        {
            "id": "1ee7da90",
            "cell_type": "markdown",
            "source": "<div class='alert alert-warning'>\n\nNumPy's interactive examples are experimental and may not always work as expected, with high load times especially on low-resource platforms, and the version of NumPy might not be in sync with the one you are browsing the documentation for. If you encounter any issues, please report them on the [NumPy issue tracker](https://github.com/numpy/numpy/issues).\n\n</div>",
            "metadata": {}
        },
        {
            "id": "8c7af404",
            "cell_type": "code",
            "metadata": {},
            "execution_count": null,
            "source": "import numpy as np",
            "outputs": []
        },
        {
            "id": "5b38ad19",
            "cell_type": "code",
            "metadata": {},
            "execution_count": null,
            "source": "np.busday_count(np.datetime64('2011-07-11'), np.datetime64('2011-07-18'))",
            "outputs": [
                {
                    "output_type": "execute_result",
                    "metadata": {},
                    "data": {
                        "text/plain": "5"
                    },
                    "execution_count": null
                }
            ]
        },
        {
            "id": "b011fd1c",
            "cell_type": "code",
            "metadata": {},
            "execution_count": null,
            "source": "np.busday_count(np.datetime64('2011-07-18'), np.datetime64('2011-07-11'))",
            "outputs": [
                {
                    "output_type": "execute_result",
                    "metadata": {},
                    "data": {
                        "text/plain": "-5"
                    },
                    "execution_count": null
                }
            ]
        }
    ]
}