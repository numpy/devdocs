{
    "nbformat": 4,
    "nbformat_minor": 5,
    "metadata": {
        "kernelspec": {
            "display_name": "Python",
            "language": "python",
            "name": "python"
        },
        "language_info": {
            "name": "python"
        }
    },
    "cells": [
        {
            "id": "d6da95b1",
            "cell_type": "markdown",
            "source": "<div class='alert alert-warning'>\n\nNumPy's interactive examples are experimental and may not always work as expected, with high load times especially on low-resource platforms, and the version of NumPy might not be in sync with the one you are browsing the documentation for. If you encounter any issues, please report them on the [NumPy issue tracker](https://github.com/numpy/numpy/issues).\n\n</div>",
            "metadata": {}
        },
        {
            "id": "b574a403",
            "cell_type": "code",
            "metadata": {},
            "execution_count": null,
            "source": "import numpy as np\na = np.array([[10., 7., 4.], [3., 2., 1.]])\na[0][1] = np.nan\na",
            "outputs": [
                {
                    "output_type": "execute_result",
                    "metadata": {},
                    "data": {
                        "text/plain": "array([[10.,  nan,   4.],\n      [ 3.,   2.,   1.]])"
                    },
                    "execution_count": null
                }
            ]
        },
        {
            "id": "77cd1c5b",
            "cell_type": "code",
            "metadata": {},
            "execution_count": null,
            "source": "np.percentile(a, 50)",
            "outputs": [
                {
                    "output_type": "execute_result",
                    "metadata": {},
                    "data": {
                        "text/plain": "np.float64(nan)"
                    },
                    "execution_count": null
                }
            ]
        },
        {
            "id": "8b59f56a",
            "cell_type": "code",
            "metadata": {},
            "execution_count": null,
            "source": "np.nanpercentile(a, 50)",
            "outputs": [
                {
                    "output_type": "execute_result",
                    "metadata": {},
                    "data": {
                        "text/plain": "3.0"
                    },
                    "execution_count": null
                }
            ]
        },
        {
            "id": "27c0e263",
            "cell_type": "code",
            "metadata": {},
            "execution_count": null,
            "source": "np.nanpercentile(a, 50, axis=0)",
            "outputs": [
                {
                    "output_type": "execute_result",
                    "metadata": {},
                    "data": {
                        "text/plain": "array([6.5, 2. , 2.5])"
                    },
                    "execution_count": null
                }
            ]
        },
        {
            "id": "f96c052a",
            "cell_type": "code",
            "metadata": {},
            "execution_count": null,
            "source": "np.nanpercentile(a, 50, axis=1, keepdims=True)",
            "outputs": [
                {
                    "output_type": "execute_result",
                    "metadata": {},
                    "data": {
                        "text/plain": "array([[7.],\n       [2.]])"
                    },
                    "execution_count": null
                }
            ]
        },
        {
            "id": "d13a4d29",
            "cell_type": "code",
            "metadata": {},
            "execution_count": null,
            "source": "m = np.nanpercentile(a, 50, axis=0)\nout = np.zeros_like(m)\nnp.nanpercentile(a, 50, axis=0, out=out)",
            "outputs": [
                {
                    "output_type": "execute_result",
                    "metadata": {},
                    "data": {
                        "text/plain": "array([6.5, 2. , 2.5])"
                    },
                    "execution_count": null
                }
            ]
        },
        {
            "id": "a0419e50",
            "cell_type": "code",
            "metadata": {},
            "execution_count": null,
            "source": "m",
            "outputs": [
                {
                    "output_type": "execute_result",
                    "metadata": {},
                    "data": {
                        "text/plain": "array([6.5,  2. ,  2.5])"
                    },
                    "execution_count": null
                }
            ]
        },
        {
            "id": "bd5b0e0f",
            "cell_type": "code",
            "metadata": {},
            "execution_count": null,
            "source": "b = a.copy()\nnp.nanpercentile(b, 50, axis=1, overwrite_input=True)",
            "outputs": [
                {
                    "output_type": "execute_result",
                    "metadata": {},
                    "data": {
                        "text/plain": "array([7., 2.])"
                    },
                    "execution_count": null
                }
            ]
        },
        {
            "id": "33b150f6",
            "cell_type": "code",
            "metadata": {},
            "execution_count": null,
            "source": "assert not np.all(a==b)",
            "outputs": []
        }
    ]
}