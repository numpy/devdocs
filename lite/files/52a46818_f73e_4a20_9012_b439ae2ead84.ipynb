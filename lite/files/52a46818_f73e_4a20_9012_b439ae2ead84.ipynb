{
    "nbformat": 4,
    "nbformat_minor": 5,
    "metadata": {
        "kernelspec": {
            "display_name": "Python",
            "language": "python",
            "name": "python"
        },
        "language_info": {
            "name": "python"
        }
    },
    "cells": [
        {
            "id": "e5a27aad",
            "cell_type": "markdown",
            "source": "<div class='alert alert-warning'>\n\nNumPy's interactive examples are experimental and may not always work as expected, with high load times especially on low-resource platforms, and the version of NumPy might not be in sync with the one you are browsing the documentation for. If you encounter any issues, please report them on the [NumPy issue tracker](https://github.com/numpy/numpy/issues).\n\n</div>",
            "metadata": {}
        },
        {
            "id": "93f2bcba",
            "cell_type": "markdown",
            "source": "One dimensional array:\n",
            "metadata": {}
        },
        {
            "id": "1c2174b6",
            "cell_type": "code",
            "metadata": {},
            "execution_count": null,
            "source": "import numpy as np\nx = np.array([3, 1, 2])\nnp.argsort(x)",
            "outputs": [
                {
                    "output_type": "execute_result",
                    "metadata": {},
                    "data": {
                        "text/plain": "array([1, 2, 0])"
                    },
                    "execution_count": null
                }
            ]
        },
        {
            "id": "998471af",
            "cell_type": "markdown",
            "source": "Two-dimensional array:\n",
            "metadata": {}
        },
        {
            "id": "919a72db",
            "cell_type": "code",
            "metadata": {},
            "execution_count": null,
            "source": "x = np.array([[0, 3], [2, 2]])\nx",
            "outputs": [
                {
                    "output_type": "execute_result",
                    "metadata": {},
                    "data": {
                        "text/plain": "array([[0, 3],\n       [2, 2]])"
                    },
                    "execution_count": null
                }
            ]
        },
        {
            "id": "4ddf0511",
            "cell_type": "code",
            "metadata": {},
            "execution_count": null,
            "source": "ind = np.argsort(x, axis=0)  # sorts along first axis (down)\nind",
            "outputs": [
                {
                    "output_type": "execute_result",
                    "metadata": {},
                    "data": {
                        "text/plain": "array([[0, 1],\n       [1, 0]])"
                    },
                    "execution_count": null
                }
            ]
        },
        {
            "id": "3b7875d1",
            "cell_type": "code",
            "metadata": {},
            "execution_count": null,
            "source": "np.take_along_axis(x, ind, axis=0)  # same as np.sort(x, axis=0)",
            "outputs": [
                {
                    "output_type": "execute_result",
                    "metadata": {},
                    "data": {
                        "text/plain": "array([[0, 2],\n       [2, 3]])"
                    },
                    "execution_count": null
                }
            ]
        },
        {
            "id": "015b2cd9",
            "cell_type": "code",
            "metadata": {},
            "execution_count": null,
            "source": "ind = np.argsort(x, axis=1)  # sorts along last axis (across)\nind",
            "outputs": [
                {
                    "output_type": "execute_result",
                    "metadata": {},
                    "data": {
                        "text/plain": "array([[0, 1],\n       [0, 1]])"
                    },
                    "execution_count": null
                }
            ]
        },
        {
            "id": "66219c6c",
            "cell_type": "code",
            "metadata": {},
            "execution_count": null,
            "source": "np.take_along_axis(x, ind, axis=1)  # same as np.sort(x, axis=1)",
            "outputs": [
                {
                    "output_type": "execute_result",
                    "metadata": {},
                    "data": {
                        "text/plain": "array([[0, 3],\n       [2, 2]])"
                    },
                    "execution_count": null
                }
            ]
        },
        {
            "id": "092bbfe1",
            "cell_type": "markdown",
            "source": "Indices of the sorted elements of a N-dimensional array:\n",
            "metadata": {}
        },
        {
            "id": "274a7e66",
            "cell_type": "code",
            "metadata": {},
            "execution_count": null,
            "source": "ind = np.unravel_index(np.argsort(x, axis=None), x.shape)\nind",
            "outputs": [
                {
                    "output_type": "execute_result",
                    "metadata": {},
                    "data": {
                        "text/plain": "(array([0, 1, 1, 0]), array([0, 0, 1, 1]))"
                    },
                    "execution_count": null
                }
            ]
        },
        {
            "id": "85911dff",
            "cell_type": "code",
            "metadata": {},
            "execution_count": null,
            "source": "x[ind]  # same as np.sort(x, axis=None)",
            "outputs": [
                {
                    "output_type": "execute_result",
                    "metadata": {},
                    "data": {
                        "text/plain": "array([0, 2, 2, 3])"
                    },
                    "execution_count": null
                }
            ]
        },
        {
            "id": "265c6c69",
            "cell_type": "markdown",
            "source": "Sorting with keys:\n",
            "metadata": {}
        },
        {
            "id": "24c34e6e",
            "cell_type": "code",
            "metadata": {},
            "execution_count": null,
            "source": "x = np.array([(1, 0), (0, 1)], dtype=[('x', '<i4'), ('y', '<i4')])\nx",
            "outputs": [
                {
                    "output_type": "execute_result",
                    "metadata": {},
                    "data": {
                        "text/plain": "array([(1, 0), (0, 1)],\n      dtype=[('x', '<i4'), ('y', '<i4')])"
                    },
                    "execution_count": null
                }
            ]
        },
        {
            "id": "fe1e1652",
            "cell_type": "code",
            "metadata": {},
            "execution_count": null,
            "source": "np.argsort(x, order=('x','y'))",
            "outputs": [
                {
                    "output_type": "execute_result",
                    "metadata": {},
                    "data": {
                        "text/plain": "array([1, 0])"
                    },
                    "execution_count": null
                }
            ]
        },
        {
            "id": "bacba3fe",
            "cell_type": "code",
            "metadata": {},
            "execution_count": null,
            "source": "np.argsort(x, order=('y','x'))",
            "outputs": [
                {
                    "output_type": "execute_result",
                    "metadata": {},
                    "data": {
                        "text/plain": "array([0, 1])"
                    },
                    "execution_count": null
                }
            ]
        }
    ]
}