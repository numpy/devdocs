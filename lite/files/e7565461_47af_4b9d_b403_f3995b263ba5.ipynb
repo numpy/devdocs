{
    "nbformat": 4,
    "nbformat_minor": 5,
    "metadata": {
        "kernelspec": {
            "display_name": "Python",
            "language": "python",
            "name": "python"
        },
        "language_info": {
            "name": "python"
        }
    },
    "cells": [
        {
            "id": "5ecc8068",
            "cell_type": "markdown",
            "source": "<div class='alert alert-warning'>\n\nNumPy's interactive examples are experimental and may not always work as expected, with high load times especially on low-resource platforms, and the version of NumPy might not be in sync with the one you are browsing the documentation for. If you encounter any issues, please report them on the [NumPy issue tracker](https://github.com/numpy/numpy/issues).\n\n</div>",
            "metadata": {}
        },
        {
            "id": "1b39cf60",
            "cell_type": "code",
            "metadata": {},
            "execution_count": null,
            "source": "import numpy.ma as ma\nx = [[1., -2., 3.], [0.2, -0.7, 0.1]]\nmask = [[1, 1, 0], [0, 0, 1]]\nmasked_x = ma.masked_array(x, mask)\nmasked_x",
            "outputs": [
                {
                    "output_type": "execute_result",
                    "metadata": {},
                    "data": {
                        "text/plain": "masked_array(\n  data=[[--, --, 3.0],\n        [0.2, -0.7, --]],\n  mask=[[ True,  True, False],\n        [False, False,  True]],\n  fill_value=1e+20)"
                    },
                    "execution_count": null
                }
            ]
        },
        {
            "id": "fc4fbb44",
            "cell_type": "code",
            "metadata": {},
            "execution_count": null,
            "source": "ma.min(masked_x)",
            "outputs": [
                {
                    "output_type": "execute_result",
                    "metadata": {},
                    "data": {
                        "text/plain": "-0.7"
                    },
                    "execution_count": null
                }
            ]
        },
        {
            "id": "c275ee54",
            "cell_type": "code",
            "metadata": {},
            "execution_count": null,
            "source": "ma.min(masked_x, axis=-1)",
            "outputs": [
                {
                    "output_type": "execute_result",
                    "metadata": {},
                    "data": {
                        "text/plain": "masked_array(data=[3.0, -0.7],\n             mask=[False, False],\n        fill_value=1e+20)"
                    },
                    "execution_count": null
                }
            ]
        },
        {
            "id": "2defceb9",
            "cell_type": "code",
            "metadata": {},
            "execution_count": null,
            "source": "ma.min(masked_x, axis=0, keepdims=True)",
            "outputs": [
                {
                    "output_type": "execute_result",
                    "metadata": {},
                    "data": {
                        "text/plain": "masked_array(data=[[0.2, -0.7, 3.0]],\n             mask=[[False, False, False]],\n        fill_value=1e+20)"
                    },
                    "execution_count": null
                }
            ]
        },
        {
            "id": "8f66b85e",
            "cell_type": "code",
            "metadata": {},
            "execution_count": null,
            "source": "mask = [[1, 1, 1,], [1, 1, 1]]\nmasked_x = ma.masked_array(x, mask)\nma.min(masked_x, axis=0)",
            "outputs": [
                {
                    "output_type": "execute_result",
                    "metadata": {},
                    "data": {
                        "text/plain": "masked_array(data=[--, --, --],\n             mask=[ True,  True,  True],\n        fill_value=1e+20,\n            dtype=float64)"
                    },
                    "execution_count": null
                }
            ]
        }
    ]
}