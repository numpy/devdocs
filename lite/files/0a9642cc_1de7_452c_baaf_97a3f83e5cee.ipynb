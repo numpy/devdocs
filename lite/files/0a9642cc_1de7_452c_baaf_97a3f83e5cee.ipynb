{
    "nbformat": 4,
    "nbformat_minor": 5,
    "metadata": {
        "kernelspec": {
            "display_name": "Python",
            "language": "python",
            "name": "python"
        },
        "language_info": {
            "name": "python"
        }
    },
    "cells": [
        {
            "id": "62187496",
            "cell_type": "markdown",
            "source": "<div class='alert alert-warning'>\n\nNumPy's interactive examples are experimental and may not always work as expected, with high load times especially on low-resource platforms, and the version of NumPy might not be in sync with the one you are browsing the documentation for. If you encounter any issues, please report them on the [NumPy issue tracker](https://github.com/numpy/numpy/issues).\n\n</div>",
            "metadata": {}
        },
        {
            "id": "60e9496f",
            "cell_type": "code",
            "metadata": {},
            "execution_count": null,
            "source": "np.random.bytes(10)",
            "outputs": [
                {
                    "output_type": "execute_result",
                    "metadata": {},
                    "data": {
                        "text/plain": "b' eh\\x85\\x022SZ\\xbf\\xa4' #random"
                    },
                    "execution_count": null
                }
            ]
        }
    ]
}