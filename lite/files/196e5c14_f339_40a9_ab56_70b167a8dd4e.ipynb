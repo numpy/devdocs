{
    "nbformat": 4,
    "nbformat_minor": 5,
    "metadata": {
        "kernelspec": {
            "display_name": "Python",
            "language": "python",
            "name": "python"
        },
        "language_info": {
            "name": "python"
        }
    },
    "cells": [
        {
            "id": "9e81e426",
            "cell_type": "markdown",
            "source": "<div class='alert alert-warning'>\n\nNumPy's interactive examples are experimental and may not always work as expected, with high load times especially on low-resource platforms, and the version of NumPy might not be in sync with the one you are browsing the documentation for. If you encounter any issues, please report them on the [NumPy issue tracker](https://github.com/numpy/numpy/issues).\n\n</div>",
            "metadata": {}
        },
        {
            "id": "643e684f",
            "cell_type": "code",
            "metadata": {},
            "execution_count": null,
            "source": "import numpy as np",
            "outputs": []
        },
        {
            "id": "1a410d82",
            "cell_type": "markdown",
            "source": "(We set the printing precision so the example can be auto-tested)\n",
            "metadata": {}
        },
        {
            "id": "b3b5973d",
            "cell_type": "code",
            "metadata": {},
            "execution_count": null,
            "source": "np.set_printoptions(precision=4)",
            "outputs": []
        },
        {
            "id": "65c2f3f6",
            "cell_type": "code",
            "metadata": {},
            "execution_count": null,
            "source": "np.emath.log10(10**1)",
            "outputs": [
                {
                    "output_type": "execute_result",
                    "metadata": {},
                    "data": {
                        "text/plain": "1.0"
                    },
                    "execution_count": null
                }
            ]
        },
        {
            "id": "ccefc0b4",
            "cell_type": "code",
            "metadata": {},
            "execution_count": null,
            "source": "np.emath.log10([-10**1, -10**2, 10**2])",
            "outputs": [
                {
                    "output_type": "execute_result",
                    "metadata": {},
                    "data": {
                        "text/plain": "array([1.+1.3644j, 2.+1.3644j, 2.+0.j    ])"
                    },
                    "execution_count": null
                }
            ]
        }
    ]
}