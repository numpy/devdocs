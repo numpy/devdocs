{
    "nbformat": 4,
    "nbformat_minor": 5,
    "metadata": {
        "kernelspec": {
            "display_name": "Python",
            "language": "python",
            "name": "python"
        },
        "language_info": {
            "name": "python"
        }
    },
    "cells": [
        {
            "id": "79d022c3",
            "cell_type": "markdown",
            "source": "<div class='alert alert-warning'>\n\nNumPy's interactive examples are experimental and may not always work as expected, with high load times especially on low-resource platforms, and the version of NumPy might not be in sync with the one you are browsing the documentation for. If you encounter any issues, please report them on the [NumPy issue tracker](https://github.com/numpy/numpy/issues).\n\n</div>",
            "metadata": {}
        },
        {
            "id": "06ffa033",
            "cell_type": "code",
            "metadata": {},
            "execution_count": null,
            "source": "import numpy as np\nx = np.ma.array([1., -1, np.nan, np.inf], mask=[1] + [0]*3)\nx",
            "outputs": [
                {
                    "output_type": "execute_result",
                    "metadata": {},
                    "data": {
                        "text/plain": "masked_array(data=[--, -1.0, nan, inf],\n             mask=[ True, False, False, False],\n       fill_value=1e+20)"
                    },
                    "execution_count": null
                }
            ]
        },
        {
            "id": "df557438",
            "cell_type": "code",
            "metadata": {},
            "execution_count": null,
            "source": "np.ma.fix_invalid(x)",
            "outputs": [
                {
                    "output_type": "execute_result",
                    "metadata": {},
                    "data": {
                        "text/plain": "masked_array(data=[--, -1.0, --, --],\n             mask=[ True, False,  True,  True],\n       fill_value=1e+20)"
                    },
                    "execution_count": null
                }
            ]
        },
        {
            "id": "e1b636f8",
            "cell_type": "code",
            "metadata": {},
            "execution_count": null,
            "source": "fixed = np.ma.fix_invalid(x)\nfixed.data",
            "outputs": [
                {
                    "output_type": "execute_result",
                    "metadata": {},
                    "data": {
                        "text/plain": "array([ 1.e+00, -1.e+00,  1.e+20,  1.e+20])"
                    },
                    "execution_count": null
                }
            ]
        },
        {
            "id": "39074e85",
            "cell_type": "code",
            "metadata": {},
            "execution_count": null,
            "source": "x.data",
            "outputs": [
                {
                    "output_type": "execute_result",
                    "metadata": {},
                    "data": {
                        "text/plain": "array([ 1., -1., nan, inf])"
                    },
                    "execution_count": null
                }
            ]
        }
    ]
}