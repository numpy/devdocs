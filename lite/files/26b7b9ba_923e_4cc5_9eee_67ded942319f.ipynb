{
    "nbformat": 4,
    "nbformat_minor": 5,
    "metadata": {
        "kernelspec": {
            "display_name": "Python",
            "language": "python",
            "name": "python"
        },
        "language_info": {
            "name": "python"
        }
    },
    "cells": [
        {
            "id": "ec65bf57",
            "cell_type": "markdown",
            "source": "<div class='alert alert-warning'>\n\nNumPy's interactive examples are experimental and may not always work as expected, with high load times especially on low-resource platforms, and the version of NumPy might not be in sync with the one you are browsing the documentation for. If you encounter any issues, please report them on the [NumPy issue tracker](https://github.com/numpy/numpy/issues).\n\n</div>",
            "metadata": {}
        },
        {
            "id": "17a420ca",
            "cell_type": "code",
            "metadata": {},
            "execution_count": null,
            "source": "import numpy as np\na = np.array([[1, 2], [3, 4]])\na",
            "outputs": [
                {
                    "output_type": "execute_result",
                    "metadata": {},
                    "data": {
                        "text/plain": "array([[1, 2],\n       [3, 4]])"
                    },
                    "execution_count": null
                }
            ]
        },
        {
            "id": "be51da7c",
            "cell_type": "code",
            "metadata": {},
            "execution_count": null,
            "source": "np.transpose(a)",
            "outputs": [
                {
                    "output_type": "execute_result",
                    "metadata": {},
                    "data": {
                        "text/plain": "array([[1, 3],\n       [2, 4]])"
                    },
                    "execution_count": null
                }
            ]
        },
        {
            "id": "d885d1d5",
            "cell_type": "code",
            "metadata": {},
            "execution_count": null,
            "source": "a = np.array([1, 2, 3, 4])\na",
            "outputs": [
                {
                    "output_type": "execute_result",
                    "metadata": {},
                    "data": {
                        "text/plain": "array([1, 2, 3, 4])"
                    },
                    "execution_count": null
                }
            ]
        },
        {
            "id": "f84eaa29",
            "cell_type": "code",
            "metadata": {},
            "execution_count": null,
            "source": "np.transpose(a)",
            "outputs": [
                {
                    "output_type": "execute_result",
                    "metadata": {},
                    "data": {
                        "text/plain": "array([1, 2, 3, 4])"
                    },
                    "execution_count": null
                }
            ]
        },
        {
            "id": "43968789",
            "cell_type": "code",
            "metadata": {},
            "execution_count": null,
            "source": "a = np.ones((1, 2, 3))\nnp.transpose(a, (1, 0, 2)).shape",
            "outputs": [
                {
                    "output_type": "execute_result",
                    "metadata": {},
                    "data": {
                        "text/plain": "(2, 1, 3)"
                    },
                    "execution_count": null
                }
            ]
        },
        {
            "id": "83d10c58",
            "cell_type": "code",
            "metadata": {},
            "execution_count": null,
            "source": "a = np.ones((2, 3, 4, 5))\nnp.transpose(a).shape",
            "outputs": [
                {
                    "output_type": "execute_result",
                    "metadata": {},
                    "data": {
                        "text/plain": "(5, 4, 3, 2)"
                    },
                    "execution_count": null
                }
            ]
        },
        {
            "id": "f9923fb3",
            "cell_type": "code",
            "metadata": {},
            "execution_count": null,
            "source": "a = np.arange(3*4*5).reshape((3, 4, 5))\nnp.transpose(a, (-1, 0, -2)).shape",
            "outputs": [
                {
                    "output_type": "execute_result",
                    "metadata": {},
                    "data": {
                        "text/plain": "(5, 3, 4)"
                    },
                    "execution_count": null
                }
            ]
        }
    ]
}