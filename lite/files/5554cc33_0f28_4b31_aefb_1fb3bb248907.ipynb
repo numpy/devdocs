{
    "nbformat": 4,
    "nbformat_minor": 5,
    "metadata": {
        "kernelspec": {
            "display_name": "Python",
            "language": "python",
            "name": "python"
        },
        "language_info": {
            "name": "python"
        }
    },
    "cells": [
        {
            "id": "1793761c",
            "cell_type": "markdown",
            "source": "<div class='alert alert-warning'>\n\nNumPy's interactive examples are experimental and may not always work as expected, with high load times especially on low-resource platforms, and the version of NumPy might not be in sync with the one you are browsing the documentation for. If you encounter any issues, please report them on the [NumPy issue tracker](https://github.com/numpy/numpy/issues).\n\n</div>",
            "metadata": {}
        },
        {
            "id": "1f5056c8",
            "cell_type": "code",
            "metadata": {},
            "execution_count": null,
            "source": "import numpy as np\na = np.ma.arange(24).reshape(2,3,4)\na[:,0,1] = np.ma.masked\na[:,1,:] = np.ma.masked\na",
            "outputs": [
                {
                    "output_type": "execute_result",
                    "metadata": {},
                    "data": {
                        "text/plain": "masked_array(\n  data=[[[0, --, 2, 3],\n         [--, --, --, --],\n         [8, 9, 10, 11]],\n        [[12, --, 14, 15],\n         [--, --, --, --],\n         [20, 21, 22, 23]]],\n  mask=[[[False,  True, False, False],\n         [ True,  True,  True,  True],\n         [False, False, False, False]],\n        [[False,  True, False, False],\n         [ True,  True,  True,  True],\n         [False, False, False, False]]],\n  fill_value=999999)"
                    },
                    "execution_count": null
                }
            ]
        },
        {
            "id": "a6c93e16",
            "cell_type": "code",
            "metadata": {},
            "execution_count": null,
            "source": "np.ma.apply_over_axes(np.ma.sum, a, [0,2])",
            "outputs": [
                {
                    "output_type": "execute_result",
                    "metadata": {},
                    "data": {
                        "text/plain": "masked_array(\n  data=[[[46],\n         [--],\n         [124]]],\n  mask=[[[False],\n         [ True],\n         [False]]],\n  fill_value=999999)"
                    },
                    "execution_count": null
                }
            ]
        },
        {
            "id": "17ae1cfd",
            "cell_type": "markdown",
            "source": "Tuple axis arguments to ufuncs are equivalent:\n",
            "metadata": {}
        },
        {
            "id": "cdfd2e45",
            "cell_type": "code",
            "metadata": {},
            "execution_count": null,
            "source": "np.ma.sum(a, axis=(0,2)).reshape((1,-1,1))",
            "outputs": [
                {
                    "output_type": "execute_result",
                    "metadata": {},
                    "data": {
                        "text/plain": "masked_array(\n  data=[[[46],\n         [--],\n         [124]]],\n  mask=[[[False],\n         [ True],\n         [False]]],\n  fill_value=999999)"
                    },
                    "execution_count": null
                }
            ]
        }
    ]
}