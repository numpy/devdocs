{
    "nbformat": 4,
    "nbformat_minor": 5,
    "metadata": {
        "kernelspec": {
            "display_name": "Python",
            "language": "python",
            "name": "python"
        },
        "language_info": {
            "name": "python"
        }
    },
    "cells": [
        {
            "id": "653eefb6",
            "cell_type": "markdown",
            "source": "<div class='alert alert-warning'>\n\nNumPy's interactive examples are experimental and may not always work as expected, with high load times especially on low-resource platforms, and the version of NumPy might not be in sync with the one you are browsing the documentation for. If you encounter any issues, please report them on the [NumPy issue tracker](https://github.com/numpy/numpy/issues).\n\n</div>",
            "metadata": {}
        },
        {
            "id": "cc019820",
            "cell_type": "code",
            "metadata": {},
            "execution_count": null,
            "source": "import numpy as np\nc = np.array([b'\\x81\\xc1\\x81\\xc1\\x81\\xc1', b'@@\\x81\\xc1@@',\n              b'\\x81\\x82\\xc2\\xc1\\xc2\\x82\\x81'])\nc",
            "outputs": [
                {
                    "output_type": "execute_result",
                    "metadata": {},
                    "data": {
                        "text/plain": "array([b'\\x81\\xc1\\x81\\xc1\\x81\\xc1', b'@@\\x81\\xc1@@',\n       b'\\x81\\x82\\xc2\\xc1\\xc2\\x82\\x81'], dtype='|S7')"
                    },
                    "execution_count": null
                }
            ]
        },
        {
            "id": "6050142d",
            "cell_type": "code",
            "metadata": {},
            "execution_count": null,
            "source": "np.strings.decode(c, encoding='cp037')",
            "outputs": [
                {
                    "output_type": "execute_result",
                    "metadata": {},
                    "data": {
                        "text/plain": "array(['aAaAaA', '  aA  ', 'abBABba'], dtype='<U7')"
                    },
                    "execution_count": null
                }
            ]
        }
    ]
}