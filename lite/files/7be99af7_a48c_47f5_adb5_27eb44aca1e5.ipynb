{
    "nbformat": 4,
    "nbformat_minor": 5,
    "metadata": {
        "kernelspec": {
            "display_name": "Python",
            "language": "python",
            "name": "python"
        },
        "language_info": {
            "name": "python"
        }
    },
    "cells": [
        {
            "id": "7b7907ae",
            "cell_type": "markdown",
            "source": "<div class='alert alert-warning'>\n\nNumPy's interactive examples are experimental and may not always work as expected, with high load times especially on low-resource platforms, and the version of NumPy might not be in sync with the one you are browsing the documentation for. If you encounter any issues, please report them on the [NumPy issue tracker](https://github.com/numpy/numpy/issues).\n\n</div>",
            "metadata": {}
        },
        {
            "id": "9ccd1d29",
            "cell_type": "markdown",
            "source": "Draw samples from the distribution:\n",
            "metadata": {}
        },
        {
            "id": "64ba5ffe",
            "cell_type": "code",
            "metadata": {},
            "execution_count": null,
            "source": "n, p = 10, .5  # number of trials, probability of each trial\ns = np.random.binomial(n, p, 1000)",
            "outputs": [
                {
                    "output_type": "execute_result",
                    "metadata": {},
                    "data": {
                        "text/plain": "# result of flipping a coin 10 times, tested 1000 times."
                    },
                    "execution_count": null
                }
            ]
        },
        {
            "id": "40a19ddb",
            "cell_type": "markdown",
            "source": "A real world example. A company drills 9 wild-cat oil exploration\nwells, each with an estimated probability of success of 0.1. All nine\nwells fail. What is the probability of that happening?\n\nLet's do 20,000 trials of the model, and count the number that\ngenerate zero positive results.\n",
            "metadata": {}
        },
        {
            "id": "f64a5d29",
            "cell_type": "code",
            "metadata": {},
            "execution_count": null,
            "source": "sum(np.random.binomial(9, 0.1, 20000) == 0)/20000.",
            "outputs": [
                {
                    "output_type": "execute_result",
                    "metadata": {},
                    "data": {
                        "text/plain": "# answer = 0.38885, or 38%."
                    },
                    "execution_count": null
                }
            ]
        }
    ]
}