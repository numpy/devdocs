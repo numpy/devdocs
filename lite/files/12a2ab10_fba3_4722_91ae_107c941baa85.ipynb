{
    "nbformat": 4,
    "nbformat_minor": 5,
    "metadata": {
        "kernelspec": {
            "display_name": "Python",
            "language": "python",
            "name": "python"
        },
        "language_info": {
            "name": "python"
        }
    },
    "cells": [
        {
            "id": "26dd12ea",
            "cell_type": "markdown",
            "source": "<div class='alert alert-warning'>\n\nNumPy's interactive examples are experimental and may not always work as expected, with high load times especially on low-resource platforms, and the version of NumPy might not be in sync with the one you are browsing the documentation for. If you encounter any issues, please report them on the [NumPy issue tracker](https://github.com/numpy/numpy/issues).\n\n</div>",
            "metadata": {}
        },
        {
            "id": "3b00bf4f",
            "cell_type": "code",
            "metadata": {},
            "execution_count": null,
            "source": "import numpy as np",
            "outputs": []
        },
        {
            "id": "89395627",
            "cell_type": "markdown",
            "source": "Store data to disk, and load it again:\n",
            "metadata": {}
        },
        {
            "id": "b5425106",
            "cell_type": "code",
            "metadata": {},
            "execution_count": null,
            "source": "np.save('/tmp/123', np.array([[1, 2, 3], [4, 5, 6]]))\nnp.load('/tmp/123.npy')",
            "outputs": [
                {
                    "output_type": "execute_result",
                    "metadata": {},
                    "data": {
                        "text/plain": "array([[1, 2, 3],\n       [4, 5, 6]])"
                    },
                    "execution_count": null
                }
            ]
        },
        {
            "id": "1073d2ca",
            "cell_type": "markdown",
            "source": "Store compressed data to disk, and load it again:\n",
            "metadata": {}
        },
        {
            "id": "bdab22fc",
            "cell_type": "code",
            "metadata": {},
            "execution_count": null,
            "source": "a=np.array([[1, 2, 3], [4, 5, 6]])\nb=np.array([1, 2])\nnp.savez('/tmp/123.npz', a=a, b=b)\ndata = np.load('/tmp/123.npz')\ndata['a']",
            "outputs": [
                {
                    "output_type": "execute_result",
                    "metadata": {},
                    "data": {
                        "text/plain": "array([[1, 2, 3],\n       [4, 5, 6]])"
                    },
                    "execution_count": null
                }
            ]
        },
        {
            "id": "d4c23544",
            "cell_type": "code",
            "metadata": {},
            "execution_count": null,
            "source": "data['b']",
            "outputs": [
                {
                    "output_type": "execute_result",
                    "metadata": {},
                    "data": {
                        "text/plain": "array([1, 2])"
                    },
                    "execution_count": null
                }
            ]
        },
        {
            "id": "d983e31b",
            "cell_type": "code",
            "metadata": {},
            "execution_count": null,
            "source": "data.close()",
            "outputs": []
        },
        {
            "id": "2268485f",
            "cell_type": "markdown",
            "source": "Mem-map the stored array, and then access the second row\ndirectly from disk:\n",
            "metadata": {}
        },
        {
            "id": "5c55600f",
            "cell_type": "code",
            "metadata": {},
            "execution_count": null,
            "source": "X = np.load('/tmp/123.npy', mmap_mode='r')\nX[1, :]",
            "outputs": [
                {
                    "output_type": "execute_result",
                    "metadata": {},
                    "data": {
                        "text/plain": "memmap([4, 5, 6])"
                    },
                    "execution_count": null
                }
            ]
        }
    ]
}