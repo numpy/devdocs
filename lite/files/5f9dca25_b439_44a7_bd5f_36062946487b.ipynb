{
    "nbformat": 4,
    "nbformat_minor": 5,
    "metadata": {
        "kernelspec": {
            "display_name": "Python",
            "language": "python",
            "name": "python"
        },
        "language_info": {
            "name": "python"
        }
    },
    "cells": [
        {
            "id": "b0fdaed3",
            "cell_type": "markdown",
            "source": "<div class='alert alert-warning'>\n\nNumPy's interactive examples are experimental and may not always work as expected, with high load times especially on low-resource platforms, and the version of NumPy might not be in sync with the one you are browsing the documentation for. If you encounter any issues, please report them on the [NumPy issue tracker](https://github.com/numpy/numpy/issues).\n\n</div>",
            "metadata": {}
        },
        {
            "id": "1a1244d6",
            "cell_type": "code",
            "metadata": {},
            "execution_count": null,
            "source": "import numpy as np",
            "outputs": []
        },
        {
            "id": "7644367b",
            "cell_type": "markdown",
            "source": "Create a set of indices to access the diagonal of a (4, 4) array:\n",
            "metadata": {}
        },
        {
            "id": "f35ae984",
            "cell_type": "code",
            "metadata": {},
            "execution_count": null,
            "source": "di = np.diag_indices(4)\ndi",
            "outputs": [
                {
                    "output_type": "execute_result",
                    "metadata": {},
                    "data": {
                        "text/plain": "(array([0, 1, 2, 3]), array([0, 1, 2, 3]))"
                    },
                    "execution_count": null
                }
            ]
        },
        {
            "id": "4ea3da1a",
            "cell_type": "code",
            "metadata": {},
            "execution_count": null,
            "source": "a = np.arange(16).reshape(4, 4)\na",
            "outputs": [
                {
                    "output_type": "execute_result",
                    "metadata": {},
                    "data": {
                        "text/plain": "array([[ 0,  1,  2,  3],\n       [ 4,  5,  6,  7],\n       [ 8,  9, 10, 11],\n       [12, 13, 14, 15]])"
                    },
                    "execution_count": null
                }
            ]
        },
        {
            "id": "ac070dfd",
            "cell_type": "code",
            "metadata": {},
            "execution_count": null,
            "source": "a[di] = 100\na",
            "outputs": [
                {
                    "output_type": "execute_result",
                    "metadata": {},
                    "data": {
                        "text/plain": "array([[100,   1,   2,   3],\n       [  4, 100,   6,   7],\n       [  8,   9, 100,  11],\n       [ 12,  13,  14, 100]])"
                    },
                    "execution_count": null
                }
            ]
        },
        {
            "id": "f4ace398",
            "cell_type": "markdown",
            "source": "Now, we create indices to manipulate a 3-D array:\n",
            "metadata": {}
        },
        {
            "id": "8fa86f6d",
            "cell_type": "code",
            "metadata": {},
            "execution_count": null,
            "source": "d3 = np.diag_indices(2, 3)\nd3",
            "outputs": [
                {
                    "output_type": "execute_result",
                    "metadata": {},
                    "data": {
                        "text/plain": "(array([0, 1]), array([0, 1]), array([0, 1]))"
                    },
                    "execution_count": null
                }
            ]
        },
        {
            "id": "404a6c0a",
            "cell_type": "markdown",
            "source": "And use it to set the diagonal of an array of zeros to 1:\n",
            "metadata": {}
        },
        {
            "id": "c790b92b",
            "cell_type": "code",
            "metadata": {},
            "execution_count": null,
            "source": "a = np.zeros((2, 2, 2), dtype=int)\na[d3] = 1\na",
            "outputs": [
                {
                    "output_type": "execute_result",
                    "metadata": {},
                    "data": {
                        "text/plain": "array([[[1, 0],\n        [0, 0]],\n       [[0, 0],\n        [0, 1]]])"
                    },
                    "execution_count": null
                }
            ]
        }
    ]
}