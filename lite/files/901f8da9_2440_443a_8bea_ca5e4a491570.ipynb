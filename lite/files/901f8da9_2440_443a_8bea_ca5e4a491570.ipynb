{
    "nbformat": 4,
    "nbformat_minor": 5,
    "metadata": {
        "kernelspec": {
            "display_name": "Python",
            "language": "python",
            "name": "python"
        },
        "language_info": {
            "name": "python"
        }
    },
    "cells": [
        {
            "id": "a629f4cc",
            "cell_type": "markdown",
            "source": "<div class='alert alert-warning'>\n\nNumPy's interactive examples are experimental and may not always work as expected, with high load times especially on low-resource platforms, and the version of NumPy might not be in sync with the one you are browsing the documentation for. If you encounter any issues, please report them on the [NumPy issue tracker](https://github.com/numpy/numpy/issues).\n\n</div>",
            "metadata": {}
        },
        {
            "id": "55eff119",
            "cell_type": "code",
            "metadata": {},
            "execution_count": null,
            "source": "np.testing.print_assert_equal('Test XYZ of func xyz', [0, 1], [0, 1])\nnp.testing.print_assert_equal('Test XYZ of func xyz', [0, 1], [0, 2])\n",
            "outputs": [
                {
                    "output_type": "execute_result",
                    "metadata": {},
                    "data": {
                        "text/plain": "Traceback (most recent call last):\nAssertionError: Test XYZ of func xyz failed\nACTUAL:\n[0, 1]\nDESIRED:\n[0, 2]"
                    },
                    "execution_count": null
                }
            ]
        }
    ]
}