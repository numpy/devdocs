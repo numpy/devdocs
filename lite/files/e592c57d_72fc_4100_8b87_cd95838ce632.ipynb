{
    "nbformat": 4,
    "nbformat_minor": 5,
    "metadata": {
        "kernelspec": {
            "display_name": "Python",
            "language": "python",
            "name": "python"
        },
        "language_info": {
            "name": "python"
        }
    },
    "cells": [
        {
            "id": "2b135113",
            "cell_type": "markdown",
            "source": "<div class='alert alert-warning'>\n\nNumPy's interactive examples are experimental and may not always work as expected, with high load times especially on low-resource platforms, and the version of NumPy might not be in sync with the one you are browsing the documentation for. If you encounter any issues, please report them on the [NumPy issue tracker](https://github.com/numpy/numpy/issues).\n\n</div>",
            "metadata": {}
        },
        {
            "id": "e724caec",
            "cell_type": "code",
            "metadata": {},
            "execution_count": null,
            "source": "import numpy as np\nnp.fft.fft(np.exp(2j * np.pi * np.arange(8) / 8))",
            "outputs": [
                {
                    "output_type": "execute_result",
                    "metadata": {},
                    "data": {
                        "text/plain": "array([-2.33486982e-16+1.14423775e-17j,  8.00000000e+00-1.25557246e-15j,\n        2.33486982e-16+2.33486982e-16j,  0.00000000e+00+1.22464680e-16j,\n       -1.14423775e-17+2.33486982e-16j,  0.00000000e+00+5.20784380e-16j,\n        1.14423775e-17+1.14423775e-17j,  0.00000000e+00+1.22464680e-16j])"
                    },
                    "execution_count": null
                }
            ]
        },
        {
            "id": "44ccf1ef",
            "cell_type": "markdown",
            "source": "In this example, real input has an FFT which is Hermitian, i.e., symmetric\nin the real part and anti-symmetric in the imaginary part, as described in\nthe `numpy.fft` documentation:\n",
            "metadata": {}
        },
        {
            "id": "4c6be0c3",
            "cell_type": "code",
            "metadata": {},
            "execution_count": null,
            "source": "import matplotlib.pyplot as plt\nt = np.arange(256)\nsp = np.fft.fft(np.sin(t))\nfreq = np.fft.fftfreq(t.shape[-1])\n_ = plt.plot(freq, sp.real, freq, sp.imag)\nplt.show()",
            "outputs": []
        }
    ]
}