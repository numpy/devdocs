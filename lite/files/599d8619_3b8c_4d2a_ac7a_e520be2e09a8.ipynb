{
    "nbformat": 4,
    "nbformat_minor": 5,
    "metadata": {
        "kernelspec": {
            "display_name": "Python",
            "language": "python",
            "name": "python"
        },
        "language_info": {
            "name": "python"
        }
    },
    "cells": [
        {
            "id": "2381ccb3",
            "cell_type": "markdown",
            "source": "<div class='alert alert-warning'>\n\nNumPy's interactive examples are experimental and may not always work as expected, with high load times especially on low-resource platforms, and the version of NumPy might not be in sync with the one you are browsing the documentation for. If you encounter any issues, please report them on the [NumPy issue tracker](https://github.com/numpy/numpy/issues).\n\n</div>",
            "metadata": {}
        },
        {
            "id": "2d3041cf",
            "cell_type": "code",
            "metadata": {},
            "execution_count": null,
            "source": "np.linalg.svdvals([[1, 2, 3, 4, 5],\n                   [1, 4, 9, 16, 25],\n                   [1, 8, 27, 64, 125]])",
            "outputs": [
                {
                    "output_type": "execute_result",
                    "metadata": {},
                    "data": {
                        "text/plain": "array([146.68862757,   5.57510612,   0.60393245])"
                    },
                    "execution_count": null
                }
            ]
        },
        {
            "id": "afc70c89",
            "cell_type": "markdown",
            "source": "Determine the rank of a matrix using singular values:\n",
            "metadata": {}
        },
        {
            "id": "ab912daa",
            "cell_type": "code",
            "metadata": {},
            "execution_count": null,
            "source": "s = np.linalg.svdvals([[1, 2, 3],\n                       [2, 4, 6],\n                       [-1, 1, -1]]); s",
            "outputs": [
                {
                    "output_type": "execute_result",
                    "metadata": {},
                    "data": {
                        "text/plain": "array([8.38434191e+00, 1.64402274e+00, 2.31534378e-16])"
                    },
                    "execution_count": null
                }
            ]
        },
        {
            "id": "e939b478",
            "cell_type": "code",
            "metadata": {},
            "execution_count": null,
            "source": "np.count_nonzero(s > 1e-10)  # Matrix of rank 2",
            "outputs": [
                {
                    "output_type": "execute_result",
                    "metadata": {},
                    "data": {
                        "text/plain": "2"
                    },
                    "execution_count": null
                }
            ]
        }
    ]
}