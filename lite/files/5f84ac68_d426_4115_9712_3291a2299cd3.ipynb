{
    "nbformat": 4,
    "nbformat_minor": 5,
    "metadata": {
        "kernelspec": {
            "display_name": "Python",
            "language": "python",
            "name": "python"
        },
        "language_info": {
            "name": "python"
        }
    },
    "cells": [
        {
            "id": "d44ea59e",
            "cell_type": "markdown",
            "source": "<div class='alert alert-warning'>\n\nNumPy's interactive examples are experimental and may not always work as expected, with high load times especially on low-resource platforms, and the version of NumPy might not be in sync with the one you are browsing the documentation for. If you encounter any issues, please report them on the [NumPy issue tracker](https://github.com/numpy/numpy/issues).\n\n</div>",
            "metadata": {}
        },
        {
            "id": "b9380b73",
            "cell_type": "code",
            "metadata": {},
            "execution_count": null,
            "source": "import numpy as np",
            "outputs": []
        },
        {
            "id": "88da3fcd",
            "cell_type": "code",
            "metadata": {},
            "execution_count": null,
            "source": "np.datetime64('2009-01-01') - np.datetime64('2008-01-01')",
            "outputs": [
                {
                    "output_type": "execute_result",
                    "metadata": {},
                    "data": {
                        "text/plain": "np.timedelta64(366,'D')"
                    },
                    "execution_count": null
                }
            ]
        },
        {
            "id": "64fa3df0",
            "cell_type": "code",
            "metadata": {},
            "execution_count": null,
            "source": "np.datetime64('2009') + np.timedelta64(20, 'D')",
            "outputs": [
                {
                    "output_type": "execute_result",
                    "metadata": {},
                    "data": {
                        "text/plain": "np.datetime64('2009-01-21')"
                    },
                    "execution_count": null
                }
            ]
        },
        {
            "id": "86978567",
            "cell_type": "code",
            "metadata": {},
            "execution_count": null,
            "source": "np.datetime64('2011-06-15T00:00') + np.timedelta64(12, 'h')",
            "outputs": [
                {
                    "output_type": "execute_result",
                    "metadata": {},
                    "data": {
                        "text/plain": "np.datetime64('2011-06-15T12:00')"
                    },
                    "execution_count": null
                }
            ]
        },
        {
            "id": "f8d973e4",
            "cell_type": "code",
            "metadata": {},
            "execution_count": null,
            "source": "np.timedelta64(1,'W') / np.timedelta64(1,'D')",
            "outputs": [
                {
                    "output_type": "execute_result",
                    "metadata": {},
                    "data": {
                        "text/plain": "7.0"
                    },
                    "execution_count": null
                }
            ]
        },
        {
            "id": "f20d4c62",
            "cell_type": "code",
            "metadata": {},
            "execution_count": null,
            "source": "np.timedelta64(1,'W') % np.timedelta64(10,'D')",
            "outputs": [
                {
                    "output_type": "execute_result",
                    "metadata": {},
                    "data": {
                        "text/plain": "np.timedelta64(7,'D')"
                    },
                    "execution_count": null
                }
            ]
        },
        {
            "id": "5feb8c72",
            "cell_type": "code",
            "metadata": {},
            "execution_count": null,
            "source": "np.datetime64('nat') - np.datetime64('2009-01-01')",
            "outputs": [
                {
                    "output_type": "execute_result",
                    "metadata": {},
                    "data": {
                        "text/plain": "np.timedelta64('NaT','D')"
                    },
                    "execution_count": null
                }
            ]
        },
        {
            "id": "4b6cc74e",
            "cell_type": "code",
            "metadata": {},
            "execution_count": null,
            "source": "np.datetime64('2009-01-01') + np.timedelta64('nat')",
            "outputs": [
                {
                    "output_type": "execute_result",
                    "metadata": {},
                    "data": {
                        "text/plain": "np.datetime64('NaT')"
                    },
                    "execution_count": null
                }
            ]
        }
    ]
}