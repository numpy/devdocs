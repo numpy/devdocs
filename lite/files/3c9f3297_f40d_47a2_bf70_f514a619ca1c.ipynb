{
    "nbformat": 4,
    "nbformat_minor": 5,
    "metadata": {
        "kernelspec": {
            "display_name": "Python",
            "language": "python",
            "name": "python"
        },
        "language_info": {
            "name": "python"
        }
    },
    "cells": [
        {
            "id": "f6226536",
            "cell_type": "markdown",
            "source": "<div class='alert alert-warning'>\n\nNumPy's interactive examples are experimental and may not always work as expected, with high load times especially on low-resource platforms, and the version of NumPy might not be in sync with the one you are browsing the documentation for. If you encounter any issues, please report them on the [NumPy issue tracker](https://github.com/numpy/numpy/issues).\n\n</div>",
            "metadata": {}
        },
        {
            "id": "c48cce7e",
            "cell_type": "code",
            "metadata": {},
            "execution_count": null,
            "source": "import numpy as np\nfrom numpy.polynomial.hermite import hermvander2d\nx = np.array([-1, 0, 1])\ny = np.array([-1, 0, 1])\nhermvander2d(x, y, [2, 2])",
            "outputs": [
                {
                    "output_type": "execute_result",
                    "metadata": {},
                    "data": {
                        "text/plain": "array([[ 1., -2.,  2., -2.,  4., -4.,  2., -4.,  4.],\n       [ 1.,  0., -2.,  0.,  0., -0., -2., -0.,  4.],\n       [ 1.,  2.,  2.,  2.,  4.,  4.,  2.,  4.,  4.]])"
                    },
                    "execution_count": null
                }
            ]
        }
    ]
}