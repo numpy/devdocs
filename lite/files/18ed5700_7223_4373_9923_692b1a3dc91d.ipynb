{
    "nbformat": 4,
    "nbformat_minor": 5,
    "metadata": {
        "kernelspec": {
            "display_name": "Python",
            "language": "python",
            "name": "python"
        },
        "language_info": {
            "name": "python"
        }
    },
    "cells": [
        {
            "id": "f47c71ee",
            "cell_type": "markdown",
            "source": "<div class='alert alert-warning'>\n\nNumPy's interactive examples are experimental and may not always work as expected, with high load times especially on low-resource platforms, and the version of NumPy might not be in sync with the one you are browsing the documentation for. If you encounter any issues, please report them on the [NumPy issue tracker](https://github.com/numpy/numpy/issues).\n\n</div>",
            "metadata": {}
        },
        {
            "id": "dc0f0e20",
            "cell_type": "markdown",
            "source": "Manually adding two vectors, using broadcasting:\n",
            "metadata": {}
        },
        {
            "id": "0af8ee44",
            "cell_type": "code",
            "metadata": {},
            "execution_count": null,
            "source": "import numpy as np\nx = np.array([[1], [2], [3]])\ny = np.array([4, 5, 6])\nb = np.broadcast(x, y)",
            "outputs": []
        },
        {
            "id": "9598da7e",
            "cell_type": "code",
            "metadata": {},
            "execution_count": null,
            "source": "out = np.empty(b.shape)\nout.flat = [u+v for (u,v) in b]\nout",
            "outputs": [
                {
                    "output_type": "execute_result",
                    "metadata": {},
                    "data": {
                        "text/plain": "array([[5.,  6.,  7.],\n       [6.,  7.,  8.],\n       [7.,  8.,  9.]])"
                    },
                    "execution_count": null
                }
            ]
        },
        {
            "id": "33f2d422",
            "cell_type": "markdown",
            "source": "Compare against built-in broadcasting:\n",
            "metadata": {}
        },
        {
            "id": "af9ff648",
            "cell_type": "code",
            "metadata": {},
            "execution_count": null,
            "source": "x + y",
            "outputs": [
                {
                    "output_type": "execute_result",
                    "metadata": {},
                    "data": {
                        "text/plain": "array([[5, 6, 7],\n       [6, 7, 8],\n       [7, 8, 9]])"
                    },
                    "execution_count": null
                }
            ]
        }
    ]
}