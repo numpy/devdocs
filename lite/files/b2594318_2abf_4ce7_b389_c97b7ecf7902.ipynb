{
    "nbformat": 4,
    "nbformat_minor": 5,
    "metadata": {
        "kernelspec": {
            "display_name": "Python",
            "language": "python",
            "name": "python"
        },
        "language_info": {
            "name": "python"
        }
    },
    "cells": [
        {
            "id": "d4df21ff",
            "cell_type": "markdown",
            "source": "<div class='alert alert-warning'>\n\nNumPy's interactive examples are experimental and may not always work as expected, with high load times especially on low-resource platforms, and the version of NumPy might not be in sync with the one you are browsing the documentation for. If you encounter any issues, please report them on the [NumPy issue tracker](https://github.com/numpy/numpy/issues).\n\n</div>",
            "metadata": {}
        },
        {
            "id": "2ed1eb57",
            "cell_type": "markdown",
            "source": "To get the necessary information for the npymath library from NumPy:\n",
            "metadata": {}
        },
        {
            "id": "fcc431ae",
            "cell_type": "code",
            "metadata": {},
            "execution_count": null,
            "source": "npymath_info = np.distutils.misc_util.get_info('npymath')\nnpymath_info                                    #doctest: +SKIP",
            "outputs": [
                {
                    "output_type": "execute_result",
                    "metadata": {},
                    "data": {
                        "text/plain": "{'define_macros': [], 'libraries': ['npymath'], 'library_dirs':\n['.../numpy/_core/lib'], 'include_dirs': ['.../numpy/_core/include']}"
                    },
                    "execution_count": null
                }
            ]
        },
        {
            "id": "9354885f",
            "cell_type": "markdown",
            "source": "This info dict can then be used as input to a `Configuration` instance\n```\n\nconfig.add_extension('foo', sources=['foo.c'], extra_info=npymath_info)\n```",
            "metadata": {}
        }
    ]
}