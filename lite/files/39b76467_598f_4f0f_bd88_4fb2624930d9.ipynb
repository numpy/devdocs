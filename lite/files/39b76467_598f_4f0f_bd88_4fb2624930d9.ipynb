{
    "nbformat": 4,
    "nbformat_minor": 5,
    "metadata": {
        "kernelspec": {
            "display_name": "Python",
            "language": "python",
            "name": "python"
        },
        "language_info": {
            "name": "python"
        }
    },
    "cells": [
        {
            "id": "982e045b",
            "cell_type": "markdown",
            "source": "<div class='alert alert-warning'>\n\nNumPy's interactive examples are experimental and may not always work as expected, with high load times especially on low-resource platforms, and the version of NumPy might not be in sync with the one you are browsing the documentation for. If you encounter any issues, please report them on the [NumPy issue tracker](https://github.com/numpy/numpy/issues).\n\n</div>",
            "metadata": {}
        },
        {
            "id": "20cd4021",
            "cell_type": "code",
            "metadata": {},
            "execution_count": null,
            "source": "from numpy.polynomial.laguerre import lagdiv\nlagdiv([  8., -13.,  38., -51.,  36.], [0, 1, 2])",
            "outputs": [
                {
                    "output_type": "execute_result",
                    "metadata": {},
                    "data": {
                        "text/plain": "(array([1., 2., 3.]), array([0.]))"
                    },
                    "execution_count": null
                }
            ]
        },
        {
            "id": "a75728b6",
            "cell_type": "code",
            "metadata": {},
            "execution_count": null,
            "source": "lagdiv([  9., -12.,  38., -51.,  36.], [0, 1, 2])",
            "outputs": [
                {
                    "output_type": "execute_result",
                    "metadata": {},
                    "data": {
                        "text/plain": "(array([1., 2., 3.]), array([1., 1.]))"
                    },
                    "execution_count": null
                }
            ]
        }
    ]
}