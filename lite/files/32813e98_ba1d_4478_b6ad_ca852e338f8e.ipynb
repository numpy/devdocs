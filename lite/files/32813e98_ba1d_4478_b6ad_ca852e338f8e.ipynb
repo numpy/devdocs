{
    "nbformat": 4,
    "nbformat_minor": 5,
    "metadata": {
        "kernelspec": {
            "display_name": "Python",
            "language": "python",
            "name": "python"
        },
        "language_info": {
            "name": "python"
        }
    },
    "cells": [
        {
            "id": "44bfaf11",
            "cell_type": "markdown",
            "source": "<div class='alert alert-warning'>\n\nNumPy's interactive examples are experimental and may not always work as expected, with high load times especially on low-resource platforms, and the version of NumPy might not be in sync with the one you are browsing the documentation for. If you encounter any issues, please report them on the [NumPy issue tracker](https://github.com/numpy/numpy/issues).\n\n</div>",
            "metadata": {}
        },
        {
            "id": "595cdcab",
            "cell_type": "code",
            "metadata": {},
            "execution_count": null,
            "source": "arr = np.arange(24).reshape((2, 3, 4))\nnp.unstack(arr)",
            "outputs": [
                {
                    "output_type": "execute_result",
                    "metadata": {},
                    "data": {
                        "text/plain": "(array([[ 0,  1,  2,  3],\n        [ 4,  5,  6,  7],\n        [ 8,  9, 10, 11]]),\n array([[12, 13, 14, 15],\n        [16, 17, 18, 19],\n        [20, 21, 22, 23]]))"
                    },
                    "execution_count": null
                }
            ]
        },
        {
            "id": "bb221f46",
            "cell_type": "code",
            "metadata": {},
            "execution_count": null,
            "source": "np.unstack(arr, axis=1)",
            "outputs": [
                {
                    "output_type": "execute_result",
                    "metadata": {},
                    "data": {
                        "text/plain": "(array([[ 0,  1,  2,  3],\n        [12, 13, 14, 15]]),\n array([[ 4,  5,  6,  7],\n        [16, 17, 18, 19]]),\n array([[ 8,  9, 10, 11],\n        [20, 21, 22, 23]]))"
                    },
                    "execution_count": null
                }
            ]
        },
        {
            "id": "52347559",
            "cell_type": "code",
            "metadata": {},
            "execution_count": null,
            "source": "arr2 = np.stack(np.unstack(arr, axis=1), axis=1)\narr2.shape",
            "outputs": [
                {
                    "output_type": "execute_result",
                    "metadata": {},
                    "data": {
                        "text/plain": "(2, 3, 4)"
                    },
                    "execution_count": null
                }
            ]
        },
        {
            "id": "efe9fe2f",
            "cell_type": "code",
            "metadata": {},
            "execution_count": null,
            "source": "np.all(arr == arr2)",
            "outputs": [
                {
                    "output_type": "execute_result",
                    "metadata": {},
                    "data": {
                        "text/plain": "np.True_"
                    },
                    "execution_count": null
                }
            ]
        }
    ]
}