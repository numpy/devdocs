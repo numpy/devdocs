{
    "nbformat": 4,
    "nbformat_minor": 5,
    "metadata": {
        "kernelspec": {
            "display_name": "Python",
            "language": "python",
            "name": "python"
        },
        "language_info": {
            "name": "python"
        }
    },
    "cells": [
        {
            "id": "c5248eac",
            "cell_type": "markdown",
            "source": "<div class='alert alert-warning'>\n\nNumPy's interactive examples are experimental and may not always work as expected, with high load times especially on low-resource platforms, and the version of NumPy might not be in sync with the one you are browsing the documentation for. If you encounter any issues, please report them on the [NumPy issue tracker](https://github.com/numpy/numpy/issues).\n\n</div>",
            "metadata": {}
        },
        {
            "id": "cb4e7d9c",
            "cell_type": "code",
            "metadata": {},
            "execution_count": null,
            "source": "import numpy as np\nfrom numpy import linalg as LA\na = np.array([[1, -2j], [2j, 5]])\nLA.eigvalsh(a)",
            "outputs": [
                {
                    "output_type": "execute_result",
                    "metadata": {},
                    "data": {
                        "text/plain": "array([ 0.17157288,  5.82842712]) # may vary"
                    },
                    "execution_count": null
                }
            ]
        },
        {
            "id": "a2e8883b",
            "cell_type": "code",
            "metadata": {},
            "execution_count": null,
            "source": "# demonstrate the treatment of the imaginary part of the diagonal\na = np.array([[5+2j, 9-2j], [0+2j, 2-1j]])\na",
            "outputs": [
                {
                    "output_type": "execute_result",
                    "metadata": {},
                    "data": {
                        "text/plain": "array([[5.+2.j, 9.-2.j],\n       [0.+2.j, 2.-1.j]])"
                    },
                    "execution_count": null
                }
            ]
        },
        {
            "id": "b7b6c18a",
            "cell_type": "code",
            "metadata": {},
            "execution_count": null,
            "source": "# with UPLO='L' this is numerically equivalent to using LA.eigvals()\n# with:\nb = np.array([[5.+0.j, 0.-2.j], [0.+2.j, 2.-0.j]])\nb",
            "outputs": [
                {
                    "output_type": "execute_result",
                    "metadata": {},
                    "data": {
                        "text/plain": "array([[5.+0.j, 0.-2.j],\n       [0.+2.j, 2.+0.j]])"
                    },
                    "execution_count": null
                }
            ]
        },
        {
            "id": "54cff10e",
            "cell_type": "code",
            "metadata": {},
            "execution_count": null,
            "source": "wa = LA.eigvalsh(a)\nwb = LA.eigvals(b)\nwa",
            "outputs": [
                {
                    "output_type": "execute_result",
                    "metadata": {},
                    "data": {
                        "text/plain": "array([1., 6.])"
                    },
                    "execution_count": null
                }
            ]
        },
        {
            "id": "5e239be7",
            "cell_type": "code",
            "metadata": {},
            "execution_count": null,
            "source": "wb",
            "outputs": [
                {
                    "output_type": "execute_result",
                    "metadata": {},
                    "data": {
                        "text/plain": "array([6.+0.j, 1.+0.j])"
                    },
                    "execution_count": null
                }
            ]
        }
    ]
}