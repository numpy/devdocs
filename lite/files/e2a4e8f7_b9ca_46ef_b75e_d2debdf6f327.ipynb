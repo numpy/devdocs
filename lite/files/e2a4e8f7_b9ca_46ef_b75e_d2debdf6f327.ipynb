{
    "nbformat": 4,
    "nbformat_minor": 5,
    "metadata": {
        "kernelspec": {
            "display_name": "Python",
            "language": "python",
            "name": "python"
        },
        "language_info": {
            "name": "python"
        }
    },
    "cells": [
        {
            "id": "02a2f07d",
            "cell_type": "markdown",
            "source": "<div class='alert alert-warning'>\n\nNumPy's interactive examples are experimental and may not always work as expected, with high load times especially on low-resource platforms, and the version of NumPy might not be in sync with the one you are browsing the documentation for. If you encounter any issues, please report them on the [NumPy issue tracker](https://github.com/numpy/numpy/issues).\n\n</div>",
            "metadata": {}
        },
        {
            "id": "82ae8463",
            "cell_type": "code",
            "metadata": {},
            "execution_count": null,
            "source": "import numpy as np\nnp.kron([1,10,100], [5,6,7])",
            "outputs": [
                {
                    "output_type": "execute_result",
                    "metadata": {},
                    "data": {
                        "text/plain": "array([  5,   6,   7, ..., 500, 600, 700])"
                    },
                    "execution_count": null
                }
            ]
        },
        {
            "id": "1a12bd71",
            "cell_type": "code",
            "metadata": {},
            "execution_count": null,
            "source": "np.kron([5,6,7], [1,10,100])",
            "outputs": [
                {
                    "output_type": "execute_result",
                    "metadata": {},
                    "data": {
                        "text/plain": "array([  5,  50, 500, ...,   7,  70, 700])"
                    },
                    "execution_count": null
                }
            ]
        },
        {
            "id": "68627d64",
            "cell_type": "code",
            "metadata": {},
            "execution_count": null,
            "source": "np.kron(np.eye(2), np.ones((2,2)))",
            "outputs": [
                {
                    "output_type": "execute_result",
                    "metadata": {},
                    "data": {
                        "text/plain": "array([[1.,  1.,  0.,  0.],\n       [1.,  1.,  0.,  0.],\n       [0.,  0.,  1.,  1.],\n       [0.,  0.,  1.,  1.]])"
                    },
                    "execution_count": null
                }
            ]
        },
        {
            "id": "03eda588",
            "cell_type": "code",
            "metadata": {},
            "execution_count": null,
            "source": "a = np.arange(100).reshape((2,5,2,5))\nb = np.arange(24).reshape((2,3,4))\nc = np.kron(a,b)\nc.shape",
            "outputs": [
                {
                    "output_type": "execute_result",
                    "metadata": {},
                    "data": {
                        "text/plain": "(2, 10, 6, 20)"
                    },
                    "execution_count": null
                }
            ]
        },
        {
            "id": "fc675574",
            "cell_type": "code",
            "metadata": {},
            "execution_count": null,
            "source": "I = (1,3,0,2)\nJ = (0,2,1)\nJ1 = (0,) + J             # extend to ndim=4\nS1 = (1,) + b.shape\nK = tuple(np.array(I) * np.array(S1) + np.array(J1))\nc[K] == a[I]*b[J]",
            "outputs": [
                {
                    "output_type": "execute_result",
                    "metadata": {},
                    "data": {
                        "text/plain": "True"
                    },
                    "execution_count": null
                }
            ]
        }
    ]
}