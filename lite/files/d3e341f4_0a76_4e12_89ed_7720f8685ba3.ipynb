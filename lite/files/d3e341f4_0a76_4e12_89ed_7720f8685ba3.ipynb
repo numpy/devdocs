{
    "nbformat": 4,
    "nbformat_minor": 5,
    "metadata": {
        "kernelspec": {
            "display_name": "Python",
            "language": "python",
            "name": "python"
        },
        "language_info": {
            "name": "python"
        }
    },
    "cells": [
        {
            "id": "d3e5c77f",
            "cell_type": "markdown",
            "source": "<div class='alert alert-warning'>\n\nNumPy's interactive examples are experimental and may not always work as expected, with high load times especially on low-resource platforms, and the version of NumPy might not be in sync with the one you are browsing the documentation for. If you encounter any issues, please report them on the [NumPy issue tracker](https://github.com/numpy/numpy/issues).\n\n</div>",
            "metadata": {}
        },
        {
            "id": "e2fc1bfe",
            "cell_type": "code",
            "metadata": {},
            "execution_count": null,
            "source": "import numpy as np",
            "outputs": []
        },
        {
            "id": "1384c41c",
            "cell_type": "code",
            "metadata": {},
            "execution_count": null,
            "source": "from numpy.testing import assert_equal\nwith np.printoptions(precision=2):\n    np.array([2.0]) / 3",
            "outputs": [
                {
                    "output_type": "execute_result",
                    "metadata": {},
                    "data": {
                        "text/plain": "array([0.67])"
                    },
                    "execution_count": null
                }
            ]
        },
        {
            "id": "02216ef7",
            "cell_type": "markdown",
            "source": "The `as`-clause of the `with`-statement gives the current print options:\n",
            "metadata": {}
        },
        {
            "id": "4b53a5ff",
            "cell_type": "code",
            "metadata": {},
            "execution_count": null,
            "source": "with np.printoptions(precision=2) as opts:\n     assert_equal(opts, np.get_printoptions())",
            "outputs": []
        }
    ]
}