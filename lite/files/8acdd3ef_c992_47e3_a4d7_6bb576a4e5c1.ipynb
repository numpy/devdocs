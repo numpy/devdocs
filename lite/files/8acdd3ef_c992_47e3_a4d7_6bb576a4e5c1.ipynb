{
    "nbformat": 4,
    "nbformat_minor": 5,
    "metadata": {
        "kernelspec": {
            "display_name": "Python",
            "language": "python",
            "name": "python"
        },
        "language_info": {
            "name": "python"
        }
    },
    "cells": [
        {
            "id": "ab1d5062",
            "cell_type": "markdown",
            "source": "<div class='alert alert-warning'>\n\nNumPy's interactive examples are experimental and may not always work as expected, with high load times especially on low-resource platforms, and the version of NumPy might not be in sync with the one you are browsing the documentation for. If you encounter any issues, please report them on the [NumPy issue tracker](https://github.com/numpy/numpy/issues).\n\n</div>",
            "metadata": {}
        },
        {
            "id": "39874973",
            "cell_type": "code",
            "metadata": {},
            "execution_count": null,
            "source": "import numpy as np\nnp.divmod(np.arange(5), 3)",
            "outputs": [
                {
                    "output_type": "execute_result",
                    "metadata": {},
                    "data": {
                        "text/plain": "(array([0, 0, 0, 1, 1]), array([0, 1, 2, 0, 1]))"
                    },
                    "execution_count": null
                }
            ]
        },
        {
            "id": "02d25be5",
            "cell_type": "markdown",
            "source": "The `divmod` function can be used as a shorthand for ``np.divmod`` on\nndarrays.\n",
            "metadata": {}
        },
        {
            "id": "0f61948f",
            "cell_type": "code",
            "metadata": {},
            "execution_count": null,
            "source": "x = np.arange(5)\ndivmod(x, 3)",
            "outputs": [
                {
                    "output_type": "execute_result",
                    "metadata": {},
                    "data": {
                        "text/plain": "(array([0, 0, 0, 1, 1]), array([0, 1, 2, 0, 1]))"
                    },
                    "execution_count": null
                }
            ]
        }
    ]
}