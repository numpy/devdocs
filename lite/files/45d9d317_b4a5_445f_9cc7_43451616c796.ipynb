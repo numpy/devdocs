{
    "nbformat": 4,
    "nbformat_minor": 5,
    "metadata": {
        "kernelspec": {
            "display_name": "Python",
            "language": "python",
            "name": "python"
        },
        "language_info": {
            "name": "python"
        }
    },
    "cells": [
        {
            "id": "ed81cdd6",
            "cell_type": "markdown",
            "source": "<div class='alert alert-warning'>\n\nNumPy's interactive examples are experimental and may not always work as expected, with high load times especially on low-resource platforms, and the version of NumPy might not be in sync with the one you are browsing the documentation for. If you encounter any issues, please report them on the [NumPy issue tracker](https://github.com/numpy/numpy/issues).\n\n</div>",
            "metadata": {}
        },
        {
            "id": "c1ea4d60",
            "cell_type": "code",
            "metadata": {},
            "execution_count": null,
            "source": "from numpy.polynomial import polynomial as P\nP.polyfromroots((-1,0,1))  # x(x - 1)(x + 1) = x^3 - x",
            "outputs": [
                {
                    "output_type": "execute_result",
                    "metadata": {},
                    "data": {
                        "text/plain": "array([ 0., -1.,  0.,  1.])"
                    },
                    "execution_count": null
                }
            ]
        },
        {
            "id": "222ba66e",
            "cell_type": "code",
            "metadata": {},
            "execution_count": null,
            "source": "j = complex(0,1)\nP.polyfromroots((-j,j))  # complex returned, though values are real",
            "outputs": [
                {
                    "output_type": "execute_result",
                    "metadata": {},
                    "data": {
                        "text/plain": "array([1.+0.j,  0.+0.j,  1.+0.j])"
                    },
                    "execution_count": null
                }
            ]
        }
    ]
}