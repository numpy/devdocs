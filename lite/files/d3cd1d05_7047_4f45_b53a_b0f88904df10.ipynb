{
    "nbformat": 4,
    "nbformat_minor": 5,
    "metadata": {
        "kernelspec": {
            "display_name": "Python",
            "language": "python",
            "name": "python"
        },
        "language_info": {
            "name": "python"
        }
    },
    "cells": [
        {
            "id": "31f319b1",
            "cell_type": "markdown",
            "source": "<div class='alert alert-warning'>\n\nNumPy's interactive examples are experimental and may not always work as expected, with high load times especially on low-resource platforms, and the version of NumPy might not be in sync with the one you are browsing the documentation for. If you encounter any issues, please report them on the [NumPy issue tracker](https://github.com/numpy/numpy/issues).\n\n</div>",
            "metadata": {}
        },
        {
            "id": "9fb172ed",
            "cell_type": "code",
            "metadata": {},
            "execution_count": null,
            "source": "import numpy as np\nx = np.array([1, 2, 4, 7, 0])\nnp.diff(x)",
            "outputs": [
                {
                    "output_type": "execute_result",
                    "metadata": {},
                    "data": {
                        "text/plain": "array([ 1,  2,  3, -7])"
                    },
                    "execution_count": null
                }
            ]
        },
        {
            "id": "4c67e43c",
            "cell_type": "code",
            "metadata": {},
            "execution_count": null,
            "source": "np.diff(x, n=2)",
            "outputs": [
                {
                    "output_type": "execute_result",
                    "metadata": {},
                    "data": {
                        "text/plain": "array([  1,   1, -10])"
                    },
                    "execution_count": null
                }
            ]
        },
        {
            "id": "f65ab4d9",
            "cell_type": "code",
            "metadata": {},
            "execution_count": null,
            "source": "x = np.array([[1, 3, 6, 10], [0, 5, 6, 8]])\nnp.diff(x)",
            "outputs": [
                {
                    "output_type": "execute_result",
                    "metadata": {},
                    "data": {
                        "text/plain": "array([[2, 3, 4],\n       [5, 1, 2]])"
                    },
                    "execution_count": null
                }
            ]
        },
        {
            "id": "53b493d8",
            "cell_type": "code",
            "metadata": {},
            "execution_count": null,
            "source": "np.diff(x, axis=0)",
            "outputs": [
                {
                    "output_type": "execute_result",
                    "metadata": {},
                    "data": {
                        "text/plain": "array([[-1,  2,  0, -2]])"
                    },
                    "execution_count": null
                }
            ]
        },
        {
            "id": "45b40246",
            "cell_type": "code",
            "metadata": {},
            "execution_count": null,
            "source": "x = np.arange('1066-10-13', '1066-10-16', dtype=np.datetime64)\nnp.diff(x)",
            "outputs": [
                {
                    "output_type": "execute_result",
                    "metadata": {},
                    "data": {
                        "text/plain": "array([1, 1], dtype='timedelta64[D]')"
                    },
                    "execution_count": null
                }
            ]
        }
    ]
}