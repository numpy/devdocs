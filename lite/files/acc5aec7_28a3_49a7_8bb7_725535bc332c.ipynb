{
    "nbformat": 4,
    "nbformat_minor": 5,
    "metadata": {
        "kernelspec": {
            "display_name": "Python",
            "language": "python",
            "name": "python"
        },
        "language_info": {
            "name": "python"
        }
    },
    "cells": [
        {
            "id": "ad095eee",
            "cell_type": "markdown",
            "source": "<div class='alert alert-warning'>\n\nNumPy's interactive examples are experimental and may not always work as expected, with high load times especially on low-resource platforms, and the version of NumPy might not be in sync with the one you are browsing the documentation for. If you encounter any issues, please report them on the [NumPy issue tracker](https://github.com/numpy/numpy/issues).\n\n</div>",
            "metadata": {}
        },
        {
            "id": "0c43ad7d",
            "cell_type": "markdown",
            "source": "Shift with a masked array:\n",
            "metadata": {}
        },
        {
            "id": "83caa922",
            "cell_type": "code",
            "metadata": {},
            "execution_count": null,
            "source": "arr = np.ma.array([10, 20, 30], mask=[False, True, False])\nnp.ma.left_shift(arr, 1)",
            "outputs": [
                {
                    "output_type": "execute_result",
                    "metadata": {},
                    "data": {
                        "text/plain": "masked_array(data=[20, --, 60],\n             mask=[False,  True, False],\n       fill_value=999999)"
                    },
                    "execution_count": null
                }
            ]
        },
        {
            "id": "cb3cf226",
            "cell_type": "markdown",
            "source": "Large shift:\n",
            "metadata": {}
        },
        {
            "id": "52eeb074",
            "cell_type": "code",
            "metadata": {},
            "execution_count": null,
            "source": "np.ma.left_shift(10, 10)",
            "outputs": [
                {
                    "output_type": "execute_result",
                    "metadata": {},
                    "data": {
                        "text/plain": "masked_array(data=10240,\n             mask=False,\n       fill_value=999999)"
                    },
                    "execution_count": null
                }
            ]
        },
        {
            "id": "0dc6a675",
            "cell_type": "markdown",
            "source": "Shift with a scalar and an array:\n",
            "metadata": {}
        },
        {
            "id": "8485a8f8",
            "cell_type": "code",
            "metadata": {},
            "execution_count": null,
            "source": "scalar = 10\narr = np.ma.array([1, 2, 3], mask=[False, True, False])\nnp.ma.left_shift(scalar, arr)",
            "outputs": [
                {
                    "output_type": "execute_result",
                    "metadata": {},
                    "data": {
                        "text/plain": "masked_array(data=[20, --, 80],\n             mask=[False,  True, False],\n       fill_value=999999)"
                    },
                    "execution_count": null
                }
            ]
        }
    ]
}