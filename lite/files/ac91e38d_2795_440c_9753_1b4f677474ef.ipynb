{
    "nbformat": 4,
    "nbformat_minor": 5,
    "metadata": {
        "kernelspec": {
            "display_name": "Python",
            "language": "python",
            "name": "python"
        },
        "language_info": {
            "name": "python"
        }
    },
    "cells": [
        {
            "id": "72355a9a",
            "cell_type": "markdown",
            "source": "<div class='alert alert-warning'>\n\nNumPy's interactive examples are experimental and may not always work as expected, with high load times especially on low-resource platforms, and the version of NumPy might not be in sync with the one you are browsing the documentation for. If you encounter any issues, please report them on the [NumPy issue tracker](https://github.com/numpy/numpy/issues).\n\n</div>",
            "metadata": {}
        },
        {
            "id": "41dfbdc9",
            "cell_type": "markdown",
            "source": "`default_rng` is the recommended constructor for the random number class\n`Generator`. Here are several ways we can construct a random \nnumber generator using `default_rng` and the `Generator` class. \n\nHere we use `default_rng` to generate a random float:\n",
            "metadata": {}
        },
        {
            "id": "215b4f8f",
            "cell_type": "code",
            "metadata": {},
            "execution_count": null,
            "source": "import numpy as np\nrng = np.random.default_rng(12345)\nprint(rng)",
            "outputs": [
                {
                    "output_type": "execute_result",
                    "metadata": {},
                    "data": {
                        "text/plain": "Generator(PCG64)"
                    },
                    "execution_count": null
                }
            ]
        },
        {
            "id": "50ec2fad",
            "cell_type": "code",
            "metadata": {},
            "execution_count": null,
            "source": "rfloat = rng.random()\nrfloat",
            "outputs": [
                {
                    "output_type": "execute_result",
                    "metadata": {},
                    "data": {
                        "text/plain": "0.22733602246716966"
                    },
                    "execution_count": null
                }
            ]
        },
        {
            "id": "ebaed288",
            "cell_type": "code",
            "metadata": {},
            "execution_count": null,
            "source": "type(rfloat)",
            "outputs": [
                {
                    "output_type": "execute_result",
                    "metadata": {},
                    "data": {
                        "text/plain": "<class 'float'>"
                    },
                    "execution_count": null
                }
            ]
        },
        {
            "id": "87e8cc56",
            "cell_type": "markdown",
            "source": "Here we use `default_rng` to generate 3 random integers between 0 \n(inclusive) and 10 (exclusive):\n",
            "metadata": {}
        },
        {
            "id": "858780ea",
            "cell_type": "code",
            "metadata": {},
            "execution_count": null,
            "source": "import numpy as np\nrng = np.random.default_rng(12345)\nrints = rng.integers(low=0, high=10, size=3)\nrints",
            "outputs": [
                {
                    "output_type": "execute_result",
                    "metadata": {},
                    "data": {
                        "text/plain": "array([6, 2, 7])"
                    },
                    "execution_count": null
                }
            ]
        },
        {
            "id": "7c5a895b",
            "cell_type": "code",
            "metadata": {},
            "execution_count": null,
            "source": "type(rints[0])",
            "outputs": [
                {
                    "output_type": "execute_result",
                    "metadata": {},
                    "data": {
                        "text/plain": "<class 'numpy.int64'>"
                    },
                    "execution_count": null
                }
            ]
        },
        {
            "id": "b1f5b480",
            "cell_type": "markdown",
            "source": "Here we specify a seed so that we have reproducible results:\n",
            "metadata": {}
        },
        {
            "id": "95d62e63",
            "cell_type": "code",
            "metadata": {},
            "execution_count": null,
            "source": "import numpy as np\nrng = np.random.default_rng(seed=42)\nprint(rng)",
            "outputs": [
                {
                    "output_type": "execute_result",
                    "metadata": {},
                    "data": {
                        "text/plain": "Generator(PCG64)"
                    },
                    "execution_count": null
                }
            ]
        },
        {
            "id": "18829550",
            "cell_type": "code",
            "metadata": {},
            "execution_count": null,
            "source": "arr1 = rng.random((3, 3))\narr1",
            "outputs": [
                {
                    "output_type": "execute_result",
                    "metadata": {},
                    "data": {
                        "text/plain": "array([[0.77395605, 0.43887844, 0.85859792],\n       [0.69736803, 0.09417735, 0.97562235],\n       [0.7611397 , 0.78606431, 0.12811363]])"
                    },
                    "execution_count": null
                }
            ]
        },
        {
            "id": "d0b57d78",
            "cell_type": "markdown",
            "source": "If we exit and restart our Python interpreter, we'll see that we\ngenerate the same random numbers again:\n",
            "metadata": {}
        },
        {
            "id": "4d9f80b4",
            "cell_type": "code",
            "metadata": {},
            "execution_count": null,
            "source": "import numpy as np\nrng = np.random.default_rng(seed=42)\narr2 = rng.random((3, 3))\narr2",
            "outputs": [
                {
                    "output_type": "execute_result",
                    "metadata": {},
                    "data": {
                        "text/plain": "array([[0.77395605, 0.43887844, 0.85859792],\n       [0.69736803, 0.09417735, 0.97562235],\n       [0.7611397 , 0.78606431, 0.12811363]])"
                    },
                    "execution_count": null
                }
            ]
        }
    ]
}