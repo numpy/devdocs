{
    "nbformat": 4,
    "nbformat_minor": 5,
    "metadata": {
        "kernelspec": {
            "display_name": "Python",
            "language": "python",
            "name": "python"
        },
        "language_info": {
            "name": "python"
        }
    },
    "cells": [
        {
            "id": "b97cfcba",
            "cell_type": "markdown",
            "source": "<div class='alert alert-warning'>\n\nNumPy's interactive examples are experimental and may not always work as expected, with high load times especially on low-resource platforms, and the version of NumPy might not be in sync with the one you are browsing the documentation for. If you encounter any issues, please report them on the [NumPy issue tracker](https://github.com/numpy/numpy/issues).\n\n</div>",
            "metadata": {}
        },
        {
            "id": "157863a9",
            "cell_type": "code",
            "metadata": {},
            "execution_count": null,
            "source": "import numpy as np\na = np.array([\"NumPy is a %s library\"])\nnp.strings.mod(a, values=[\"Python\"])",
            "outputs": [
                {
                    "output_type": "execute_result",
                    "metadata": {},
                    "data": {
                        "text/plain": "array(['NumPy is a Python library'], dtype='<U25')"
                    },
                    "execution_count": null
                }
            ]
        },
        {
            "id": "3d4158f1",
            "cell_type": "code",
            "metadata": {},
            "execution_count": null,
            "source": "a = np.array([b'%d bytes', b'%d bits'])\nvalues = np.array([8, 64])\nnp.strings.mod(a, values)",
            "outputs": [
                {
                    "output_type": "execute_result",
                    "metadata": {},
                    "data": {
                        "text/plain": "array([b'8 bytes', b'64 bits'], dtype='|S7')"
                    },
                    "execution_count": null
                }
            ]
        }
    ]
}