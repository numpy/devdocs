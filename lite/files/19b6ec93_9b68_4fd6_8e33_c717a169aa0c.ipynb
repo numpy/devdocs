{
    "nbformat": 4,
    "nbformat_minor": 5,
    "metadata": {
        "kernelspec": {
            "display_name": "Python",
            "language": "python",
            "name": "python"
        },
        "language_info": {
            "name": "python"
        }
    },
    "cells": [
        {
            "id": "5a6f77df",
            "cell_type": "markdown",
            "source": "<div class='alert alert-warning'>\n\nNumPy's interactive examples are experimental and may not always work as expected, with high load times especially on low-resource platforms, and the version of NumPy might not be in sync with the one you are browsing the documentation for. If you encounter any issues, please report them on the [NumPy issue tracker](https://github.com/numpy/numpy/issues).\n\n</div>",
            "metadata": {}
        },
        {
            "id": "390e613b",
            "cell_type": "code",
            "metadata": {},
            "execution_count": null,
            "source": "a = np.linspace(0., 1., 100)\nres = np.testing.assert_array_max_ulp(a, np.arcsin(np.sin(a)))",
            "outputs": []
        }
    ]
}