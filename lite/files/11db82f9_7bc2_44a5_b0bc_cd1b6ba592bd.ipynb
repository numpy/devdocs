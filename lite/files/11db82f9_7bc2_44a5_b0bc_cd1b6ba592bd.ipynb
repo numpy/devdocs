{
    "nbformat": 4,
    "nbformat_minor": 5,
    "metadata": {
        "kernelspec": {
            "display_name": "Python",
            "language": "python",
            "name": "python"
        },
        "language_info": {
            "name": "python"
        }
    },
    "cells": [
        {
            "id": "99e85584",
            "cell_type": "markdown",
            "source": "<div class='alert alert-warning'>\n\nNumPy's interactive examples are experimental and may not always work as expected, with high load times especially on low-resource platforms, and the version of NumPy might not be in sync with the one you are browsing the documentation for. If you encounter any issues, please report them on the [NumPy issue tracker](https://github.com/numpy/numpy/issues).\n\n</div>",
            "metadata": {}
        },
        {
            "id": "821bce6d",
            "cell_type": "code",
            "metadata": {},
            "execution_count": null,
            "source": "import numpy as np\nx = np.arange(10.).reshape(2, 5)\nx",
            "outputs": [
                {
                    "output_type": "execute_result",
                    "metadata": {},
                    "data": {
                        "text/plain": "array([[0., 1., 2., 3., 4.],\n       [5., 6., 7., 8., 9.]])"
                    },
                    "execution_count": null
                }
            ]
        },
        {
            "id": "42307e55",
            "cell_type": "code",
            "metadata": {},
            "execution_count": null,
            "source": "np.ma.asarray(x)",
            "outputs": [
                {
                    "output_type": "execute_result",
                    "metadata": {},
                    "data": {
                        "text/plain": "masked_array(\n  data=[[0., 1., 2., 3., 4.],\n        [5., 6., 7., 8., 9.]],\n  mask=False,\n  fill_value=1e+20)"
                    },
                    "execution_count": null
                }
            ]
        },
        {
            "id": "bba9741d",
            "cell_type": "code",
            "metadata": {},
            "execution_count": null,
            "source": "type(np.ma.asarray(x))",
            "outputs": [
                {
                    "output_type": "execute_result",
                    "metadata": {},
                    "data": {
                        "text/plain": "<class 'numpy.ma.MaskedArray'>"
                    },
                    "execution_count": null
                }
            ]
        }
    ]
}