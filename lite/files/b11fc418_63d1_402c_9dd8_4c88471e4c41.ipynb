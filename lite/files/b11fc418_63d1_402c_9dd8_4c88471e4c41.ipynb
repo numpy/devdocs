{
    "nbformat": 4,
    "nbformat_minor": 5,
    "metadata": {
        "kernelspec": {
            "display_name": "Python",
            "language": "python",
            "name": "python"
        },
        "language_info": {
            "name": "python"
        }
    },
    "cells": [
        {
            "id": "740b2c85",
            "cell_type": "markdown",
            "source": "<div class='alert alert-warning'>\n\nNumPy's interactive examples are experimental and may not always work as expected, with high load times especially on low-resource platforms, and the version of NumPy might not be in sync with the one you are browsing the documentation for. If you encounter any issues, please report them on the [NumPy issue tracker](https://github.com/numpy/numpy/issues).\n\n</div>",
            "metadata": {}
        },
        {
            "id": "ac46d41b",
            "cell_type": "code",
            "metadata": {},
            "execution_count": null,
            "source": "import numpy as np\ndef myfunc(a, b):\n    \"Return a-b if a>b, otherwise return a+b\"\n    if a > b:\n        return a - b\n    else:\n        return a + b",
            "outputs": []
        },
        {
            "id": "7729e320",
            "cell_type": "code",
            "metadata": {},
            "execution_count": null,
            "source": "vfunc = np.vectorize(myfunc)\nvfunc([1, 2, 3, 4], 2)",
            "outputs": [
                {
                    "output_type": "execute_result",
                    "metadata": {},
                    "data": {
                        "text/plain": "array([3, 4, 1, 2])"
                    },
                    "execution_count": null
                }
            ]
        },
        {
            "id": "2668b4b7",
            "cell_type": "markdown",
            "source": "The docstring is taken from the input function to `vectorize` unless it\nis specified:\n",
            "metadata": {}
        },
        {
            "id": "3f9bc108",
            "cell_type": "code",
            "metadata": {},
            "execution_count": null,
            "source": "vfunc.__doc__",
            "outputs": [
                {
                    "output_type": "execute_result",
                    "metadata": {},
                    "data": {
                        "text/plain": "'Return a-b if a>b, otherwise return a+b'"
                    },
                    "execution_count": null
                }
            ]
        },
        {
            "id": "9f3aa243",
            "cell_type": "code",
            "metadata": {},
            "execution_count": null,
            "source": "vfunc = np.vectorize(myfunc, doc='Vectorized `myfunc`')\nvfunc.__doc__",
            "outputs": [
                {
                    "output_type": "execute_result",
                    "metadata": {},
                    "data": {
                        "text/plain": "'Vectorized `myfunc`'"
                    },
                    "execution_count": null
                }
            ]
        },
        {
            "id": "52c2a219",
            "cell_type": "markdown",
            "source": "The output type is determined by evaluating the first element of the input,\nunless it is specified:\n",
            "metadata": {}
        },
        {
            "id": "07d5b58d",
            "cell_type": "code",
            "metadata": {},
            "execution_count": null,
            "source": "out = vfunc([1, 2, 3, 4], 2)\ntype(out[0])",
            "outputs": [
                {
                    "output_type": "execute_result",
                    "metadata": {},
                    "data": {
                        "text/plain": "<class 'numpy.int64'>"
                    },
                    "execution_count": null
                }
            ]
        },
        {
            "id": "884bd632",
            "cell_type": "code",
            "metadata": {},
            "execution_count": null,
            "source": "vfunc = np.vectorize(myfunc, otypes=[float])\nout = vfunc([1, 2, 3, 4], 2)\ntype(out[0])",
            "outputs": [
                {
                    "output_type": "execute_result",
                    "metadata": {},
                    "data": {
                        "text/plain": "<class 'numpy.float64'>"
                    },
                    "execution_count": null
                }
            ]
        },
        {
            "id": "b5f96bce",
            "cell_type": "markdown",
            "source": "The `excluded` argument can be used to prevent vectorizing over certain\narguments.  This can be useful for array-like arguments of a fixed length\nsuch as the coefficients for a polynomial as in `polyval`:\n",
            "metadata": {}
        },
        {
            "id": "c2081f8c",
            "cell_type": "code",
            "metadata": {},
            "execution_count": null,
            "source": "def mypolyval(p, x):\n    _p = list(p)\n    res = _p.pop(0)\n    while _p:\n        res = res*x + _p.pop(0)\n    return res",
            "outputs": []
        },
        {
            "id": "754e0f3f",
            "cell_type": "markdown",
            "source": "Here, we exclude the zeroth argument from vectorization whether it is\npassed by position or keyword.\n",
            "metadata": {}
        },
        {
            "id": "bd2abb3a",
            "cell_type": "code",
            "metadata": {},
            "execution_count": null,
            "source": "vpolyval = np.vectorize(mypolyval, excluded={0, 'p'})\nvpolyval([1, 2, 3], x=[0, 1])",
            "outputs": [
                {
                    "output_type": "execute_result",
                    "metadata": {},
                    "data": {
                        "text/plain": "array([3, 6])"
                    },
                    "execution_count": null
                }
            ]
        },
        {
            "id": "ab4e06f8",
            "cell_type": "code",
            "metadata": {},
            "execution_count": null,
            "source": "vpolyval(p=[1, 2, 3], x=[0, 1])",
            "outputs": [
                {
                    "output_type": "execute_result",
                    "metadata": {},
                    "data": {
                        "text/plain": "array([3, 6])"
                    },
                    "execution_count": null
                }
            ]
        },
        {
            "id": "5f277bff",
            "cell_type": "markdown",
            "source": "The `signature` argument allows for vectorizing functions that act on\nnon-scalar arrays of fixed length. For example, you can use it for a\nvectorized calculation of Pearson correlation coefficient and its p-value:\n",
            "metadata": {}
        },
        {
            "id": "587bf80d",
            "cell_type": "code",
            "metadata": {},
            "execution_count": null,
            "source": "import scipy.stats\npearsonr = np.vectorize(scipy.stats.pearsonr,\n                signature='(n),(n)->(),()')\npearsonr([[0, 1, 2, 3]], [[1, 2, 3, 4], [4, 3, 2, 1]])",
            "outputs": [
                {
                    "output_type": "execute_result",
                    "metadata": {},
                    "data": {
                        "text/plain": "(array([ 1., -1.]), array([ 0.,  0.]))"
                    },
                    "execution_count": null
                }
            ]
        },
        {
            "id": "00ec5283",
            "cell_type": "markdown",
            "source": "Or for a vectorized convolution:\n",
            "metadata": {}
        },
        {
            "id": "ef0dbaa3",
            "cell_type": "code",
            "metadata": {},
            "execution_count": null,
            "source": "convolve = np.vectorize(np.convolve, signature='(n),(m)->(k)')\nconvolve(np.eye(4), [1, 2, 1])",
            "outputs": [
                {
                    "output_type": "execute_result",
                    "metadata": {},
                    "data": {
                        "text/plain": "array([[1., 2., 1., 0., 0., 0.],\n       [0., 1., 2., 1., 0., 0.],\n       [0., 0., 1., 2., 1., 0.],\n       [0., 0., 0., 1., 2., 1.]])"
                    },
                    "execution_count": null
                }
            ]
        },
        {
            "id": "e10263fc",
            "cell_type": "markdown",
            "source": "Decorator syntax is supported.  The decorator can be called as\na function to provide keyword arguments:\n",
            "metadata": {}
        },
        {
            "id": "7279c181",
            "cell_type": "code",
            "metadata": {},
            "execution_count": null,
            "source": "@np.vectorize\ndef identity(x):\n    return x\n\nidentity([0, 1, 2])",
            "outputs": [
                {
                    "output_type": "execute_result",
                    "metadata": {},
                    "data": {
                        "text/plain": "array([0, 1, 2])"
                    },
                    "execution_count": null
                }
            ]
        },
        {
            "id": "214d8e81",
            "cell_type": "code",
            "metadata": {},
            "execution_count": null,
            "source": "@np.vectorize(otypes=[float])\ndef as_float(x):\n    return x\n\nas_float([0, 1, 2])",
            "outputs": [
                {
                    "output_type": "execute_result",
                    "metadata": {},
                    "data": {
                        "text/plain": "array([0., 1., 2.])"
                    },
                    "execution_count": null
                }
            ]
        }
    ]
}