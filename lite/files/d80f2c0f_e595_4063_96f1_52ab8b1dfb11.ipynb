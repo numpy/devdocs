{
    "nbformat": 4,
    "nbformat_minor": 5,
    "metadata": {
        "kernelspec": {
            "display_name": "Python",
            "language": "python",
            "name": "python"
        },
        "language_info": {
            "name": "python"
        }
    },
    "cells": [
        {
            "id": "26deaf3e",
            "cell_type": "markdown",
            "source": "<div class='alert alert-warning'>\n\nNumPy's interactive examples are experimental and may not always work as expected, with high load times especially on low-resource platforms, and the version of NumPy might not be in sync with the one you are browsing the documentation for. If you encounter any issues, please report them on the [NumPy issue tracker](https://github.com/numpy/numpy/issues).\n\n</div>",
            "metadata": {}
        },
        {
            "id": "bac455be",
            "cell_type": "code",
            "metadata": {},
            "execution_count": null,
            "source": "np.char.splitlines(\"first line\\nsecond line\")",
            "outputs": [
                {
                    "output_type": "execute_result",
                    "metadata": {},
                    "data": {
                        "text/plain": "array(list(['first line', 'second line']), dtype=object)"
                    },
                    "execution_count": null
                }
            ]
        },
        {
            "id": "bcab3c73",
            "cell_type": "code",
            "metadata": {},
            "execution_count": null,
            "source": "a = np.array([\"first\\nsecond\", \"third\\nfourth\"])\nnp.char.splitlines(a)",
            "outputs": [
                {
                    "output_type": "execute_result",
                    "metadata": {},
                    "data": {
                        "text/plain": "array([list(['first', 'second']), list(['third', 'fourth'])], dtype=object)"
                    },
                    "execution_count": null
                }
            ]
        }
    ]
}