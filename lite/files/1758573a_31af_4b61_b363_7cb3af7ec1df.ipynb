{
    "nbformat": 4,
    "nbformat_minor": 5,
    "metadata": {
        "kernelspec": {
            "display_name": "Python",
            "language": "python",
            "name": "python"
        },
        "language_info": {
            "name": "python"
        }
    },
    "cells": [
        {
            "id": "af9aff4f",
            "cell_type": "markdown",
            "source": "<div class='alert alert-warning'>\n\nNumPy's interactive examples are experimental and may not always work as expected, with high load times especially on low-resource platforms, and the version of NumPy might not be in sync with the one you are browsing the documentation for. If you encounter any issues, please report them on the [NumPy issue tracker](https://github.com/numpy/numpy/issues).\n\n</div>",
            "metadata": {}
        },
        {
            "id": "dd3d1673",
            "cell_type": "code",
            "metadata": {},
            "execution_count": null,
            "source": "np.random.permutation(10)",
            "outputs": [
                {
                    "output_type": "execute_result",
                    "metadata": {},
                    "data": {
                        "text/plain": "array([1, 7, 4, 3, 0, 9, 2, 5, 8, 6]) # random"
                    },
                    "execution_count": null
                }
            ]
        },
        {
            "id": "6f77f4c4",
            "cell_type": "code",
            "metadata": {},
            "execution_count": null,
            "source": "np.random.permutation([1, 4, 9, 12, 15])",
            "outputs": [
                {
                    "output_type": "execute_result",
                    "metadata": {},
                    "data": {
                        "text/plain": "array([15,  1,  9,  4, 12]) # random"
                    },
                    "execution_count": null
                }
            ]
        },
        {
            "id": "aecc6303",
            "cell_type": "code",
            "metadata": {},
            "execution_count": null,
            "source": "arr = np.arange(9).reshape((3, 3))\nnp.random.permutation(arr)",
            "outputs": [
                {
                    "output_type": "execute_result",
                    "metadata": {},
                    "data": {
                        "text/plain": "array([[6, 7, 8], # random\n       [0, 1, 2],\n       [3, 4, 5]])"
                    },
                    "execution_count": null
                }
            ]
        }
    ]
}