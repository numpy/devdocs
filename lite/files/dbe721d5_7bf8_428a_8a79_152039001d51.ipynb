{
    "nbformat": 4,
    "nbformat_minor": 5,
    "metadata": {
        "kernelspec": {
            "display_name": "Python",
            "language": "python",
            "name": "python"
        },
        "language_info": {
            "name": "python"
        }
    },
    "cells": [
        {
            "id": "3a2b35d1",
            "cell_type": "markdown",
            "source": "<div class='alert alert-warning'>\n\nNumPy's interactive examples are experimental and may not always work as expected, with high load times especially on low-resource platforms, and the version of NumPy might not be in sync with the one you are browsing the documentation for. If you encounter any issues, please report them on the [NumPy issue tracker](https://github.com/numpy/numpy/issues).\n\n</div>",
            "metadata": {}
        },
        {
            "id": "77cbe79f",
            "cell_type": "code",
            "metadata": {},
            "execution_count": null,
            "source": "import numpy as np",
            "outputs": []
        },
        {
            "id": "8cf91183",
            "cell_type": "code",
            "metadata": {},
            "execution_count": null,
            "source": "from numpy.lib import recfunctions as rfn\na = np.zeros(4, dtype=[('a', 'i4'), ('b', 'f4,u2'), ('c', 'f4', 2)])\na",
            "outputs": [
                {
                    "output_type": "execute_result",
                    "metadata": {},
                    "data": {
                        "text/plain": "array([(0, (0., 0), [0., 0.]), (0, (0., 0), [0., 0.]),\n       (0, (0., 0), [0., 0.]), (0, (0., 0), [0., 0.])],\n      dtype=[('a', '<i4'), ('b', [('f0', '<f4'), ('f1', '<u2')]), ('c', '<f4', (2,))])"
                    },
                    "execution_count": null
                }
            ]
        },
        {
            "id": "86ef9dbf",
            "cell_type": "code",
            "metadata": {},
            "execution_count": null,
            "source": "rfn.structured_to_unstructured(a)",
            "outputs": [
                {
                    "output_type": "execute_result",
                    "metadata": {},
                    "data": {
                        "text/plain": "array([[0., 0., 0., 0., 0.],\n       [0., 0., 0., 0., 0.],\n       [0., 0., 0., 0., 0.],\n       [0., 0., 0., 0., 0.]])"
                    },
                    "execution_count": null
                }
            ]
        },
        {
            "id": "ecaea45e",
            "cell_type": "code",
            "metadata": {},
            "execution_count": null,
            "source": "b = np.array([(1, 2, 5), (4, 5, 7), (7, 8 ,11), (10, 11, 12)],\n             dtype=[('x', 'i4'), ('y', 'f4'), ('z', 'f8')])\nnp.mean(rfn.structured_to_unstructured(b[['x', 'z']]), axis=-1)",
            "outputs": [
                {
                    "output_type": "execute_result",
                    "metadata": {},
                    "data": {
                        "text/plain": "array([ 3. ,  5.5,  9. , 11. ])"
                    },
                    "execution_count": null
                }
            ]
        }
    ]
}