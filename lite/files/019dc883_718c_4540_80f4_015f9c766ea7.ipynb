{
    "nbformat": 4,
    "nbformat_minor": 5,
    "metadata": {
        "kernelspec": {
            "display_name": "Python",
            "language": "python",
            "name": "python"
        },
        "language_info": {
            "name": "python"
        }
    },
    "cells": [
        {
            "id": "33f94826",
            "cell_type": "markdown",
            "source": "<div class='alert alert-warning'>\n\nNumPy's interactive examples are experimental and may not always work as expected, with high load times especially on low-resource platforms, and the version of NumPy might not be in sync with the one you are browsing the documentation for. If you encounter any issues, please report them on the [NumPy issue tracker](https://github.com/numpy/numpy/issues).\n\n</div>",
            "metadata": {}
        },
        {
            "id": "05bec35d",
            "cell_type": "code",
            "metadata": {},
            "execution_count": null,
            "source": "import numpy as np\na = np.array([1, 2, 3, 4, 7, 0, 2, 3])\nx = np.ma.masked_where(a < 2, a)\nnp.ma.diff(x)",
            "outputs": [
                {
                    "output_type": "execute_result",
                    "metadata": {},
                    "data": {
                        "text/plain": "masked_array(data=[--, 1, 1, 3, --, --, 1],\n        mask=[ True, False, False, False,  True,  True, False],\n    fill_value=999999)"
                    },
                    "execution_count": null
                }
            ]
        },
        {
            "id": "7242cb31",
            "cell_type": "code",
            "metadata": {},
            "execution_count": null,
            "source": "np.ma.diff(x, n=2)",
            "outputs": [
                {
                    "output_type": "execute_result",
                    "metadata": {},
                    "data": {
                        "text/plain": "masked_array(data=[--, 0, 2, --, --, --],\n            mask=[ True, False, False,  True,  True,  True],\n    fill_value=999999)"
                    },
                    "execution_count": null
                }
            ]
        },
        {
            "id": "07085494",
            "cell_type": "code",
            "metadata": {},
            "execution_count": null,
            "source": "a = np.array([[1, 3, 1, 5, 10], [0, 1, 5, 6, 8]])\nx = np.ma.masked_equal(a, value=1)\nnp.ma.diff(x)",
            "outputs": [
                {
                    "output_type": "execute_result",
                    "metadata": {},
                    "data": {
                        "text/plain": "masked_array(\n    data=[[--, --, --, 5],\n            [--, --, 1, 2]],\n    mask=[[ True,  True,  True, False],\n            [ True,  True, False, False]],\n    fill_value=1)"
                    },
                    "execution_count": null
                }
            ]
        },
        {
            "id": "861dde89",
            "cell_type": "code",
            "metadata": {},
            "execution_count": null,
            "source": "np.ma.diff(x, axis=0)",
            "outputs": [
                {
                    "output_type": "execute_result",
                    "metadata": {},
                    "data": {
                        "text/plain": "masked_array(data=[[--, --, --, 1, -2]],\n        mask=[[ True,  True,  True, False, False]],\n    fill_value=1)"
                    },
                    "execution_count": null
                }
            ]
        }
    ]
}