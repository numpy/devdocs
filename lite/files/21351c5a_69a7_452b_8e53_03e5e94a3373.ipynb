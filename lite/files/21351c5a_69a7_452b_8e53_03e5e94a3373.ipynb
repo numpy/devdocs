{
    "nbformat": 4,
    "nbformat_minor": 5,
    "metadata": {
        "kernelspec": {
            "display_name": "Python",
            "language": "python",
            "name": "python"
        },
        "language_info": {
            "name": "python"
        }
    },
    "cells": [
        {
            "id": "cfdcd468",
            "cell_type": "markdown",
            "source": "<div class='alert alert-warning'>\n\nNumPy's interactive examples are experimental and may not always work as expected, with high load times especially on low-resource platforms, and the version of NumPy might not be in sync with the one you are browsing the documentation for. If you encounter any issues, please report them on the [NumPy issue tracker](https://github.com/numpy/numpy/issues).\n\n</div>",
            "metadata": {}
        },
        {
            "id": "68968cb8",
            "cell_type": "markdown",
            "source": "```\n\n>>> ds = np.lib.npyio.DataSource('/home/guido')\n>>> urlname = 'http://www.google.com/'\n>>> gfile = ds.open('http://www.google.com/')\n>>> ds.abspath(urlname)\n'/home/guido/www.google.com/index.html'\n\n>>> ds = np.lib.npyio.DataSource(None)  # use with temporary file\n>>> ds.open('/home/guido/foobar.txt')\n<open file '/home/guido.foobar.txt', mode 'r' at 0x91d4430>\n>>> ds.abspath('/home/guido/foobar.txt')\n'/tmp/.../home/guido/foobar.txt'\n```",
            "metadata": {}
        }
    ]
}