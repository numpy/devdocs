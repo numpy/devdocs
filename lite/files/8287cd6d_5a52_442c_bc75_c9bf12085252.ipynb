{
    "nbformat": 4,
    "nbformat_minor": 5,
    "metadata": {
        "kernelspec": {
            "display_name": "Python",
            "language": "python",
            "name": "python"
        },
        "language_info": {
            "name": "python"
        }
    },
    "cells": [
        {
            "id": "3f16bb1a",
            "cell_type": "markdown",
            "source": "<div class='alert alert-warning'>\n\nNumPy's interactive examples are experimental and may not always work as expected, with high load times especially on low-resource platforms, and the version of NumPy might not be in sync with the one you are browsing the documentation for. If you encounter any issues, please report them on the [NumPy issue tracker](https://github.com/numpy/numpy/issues).\n\n</div>",
            "metadata": {}
        },
        {
            "id": "82a8f9a7",
            "cell_type": "code",
            "metadata": {},
            "execution_count": null,
            "source": "x = -np.matrix(np.arange(12).reshape((3,4))); x",
            "outputs": [
                {
                    "output_type": "execute_result",
                    "metadata": {},
                    "data": {
                        "text/plain": "matrix([[  0,  -1,  -2,  -3],\n        [ -4,  -5,  -6,  -7],\n        [ -8,  -9, -10, -11]])"
                    },
                    "execution_count": null
                }
            ]
        },
        {
            "id": "0189a5ef",
            "cell_type": "code",
            "metadata": {},
            "execution_count": null,
            "source": "x.argmin()",
            "outputs": [
                {
                    "output_type": "execute_result",
                    "metadata": {},
                    "data": {
                        "text/plain": "11"
                    },
                    "execution_count": null
                }
            ]
        },
        {
            "id": "0442a96a",
            "cell_type": "code",
            "metadata": {},
            "execution_count": null,
            "source": "x.argmin(0)",
            "outputs": [
                {
                    "output_type": "execute_result",
                    "metadata": {},
                    "data": {
                        "text/plain": "matrix([[2, 2, 2, 2]])"
                    },
                    "execution_count": null
                }
            ]
        },
        {
            "id": "23623487",
            "cell_type": "code",
            "metadata": {},
            "execution_count": null,
            "source": "x.argmin(1)",
            "outputs": [
                {
                    "output_type": "execute_result",
                    "metadata": {},
                    "data": {
                        "text/plain": "matrix([[3],\n        [3],\n        [3]])"
                    },
                    "execution_count": null
                }
            ]
        }
    ]
}