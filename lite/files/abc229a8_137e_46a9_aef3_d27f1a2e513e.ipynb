{
    "nbformat": 4,
    "nbformat_minor": 5,
    "metadata": {
        "kernelspec": {
            "display_name": "Python",
            "language": "python",
            "name": "python"
        },
        "language_info": {
            "name": "python"
        }
    },
    "cells": [
        {
            "id": "8cab1288",
            "cell_type": "markdown",
            "source": "<div class='alert alert-warning'>\n\nNumPy's interactive examples are experimental and may not always work as expected, with high load times especially on low-resource platforms, and the version of NumPy might not be in sync with the one you are browsing the documentation for. If you encounter any issues, please report them on the [NumPy issue tracker](https://github.com/numpy/numpy/issues).\n\n</div>",
            "metadata": {}
        },
        {
            "id": "413a07fc",
            "cell_type": "markdown",
            "source": "The most common use of this function is to build a block matrix:\n",
            "metadata": {}
        },
        {
            "id": "3167fc41",
            "cell_type": "code",
            "metadata": {},
            "execution_count": null,
            "source": "import numpy as np\nA = np.eye(2) * 2\nB = np.eye(3) * 3\nnp.block([\n    [A,               np.zeros((2, 3))],\n    [np.ones((3, 2)), B               ]\n])",
            "outputs": [
                {
                    "output_type": "execute_result",
                    "metadata": {},
                    "data": {
                        "text/plain": "array([[2., 0., 0., 0., 0.],\n       [0., 2., 0., 0., 0.],\n       [1., 1., 3., 0., 0.],\n       [1., 1., 0., 3., 0.],\n       [1., 1., 0., 0., 3.]])"
                    },
                    "execution_count": null
                }
            ]
        },
        {
            "id": "06736156",
            "cell_type": "markdown",
            "source": "With a list of depth 1, `block` can be used as `hstack`:\n",
            "metadata": {}
        },
        {
            "id": "d3ac438a",
            "cell_type": "code",
            "metadata": {},
            "execution_count": null,
            "source": "np.block([1, 2, 3])              # hstack([1, 2, 3])",
            "outputs": [
                {
                    "output_type": "execute_result",
                    "metadata": {},
                    "data": {
                        "text/plain": "array([1, 2, 3])"
                    },
                    "execution_count": null
                }
            ]
        },
        {
            "id": "7f19755c",
            "cell_type": "code",
            "metadata": {},
            "execution_count": null,
            "source": "a = np.array([1, 2, 3])\nb = np.array([4, 5, 6])\nnp.block([a, b, 10])             # hstack([a, b, 10])",
            "outputs": [
                {
                    "output_type": "execute_result",
                    "metadata": {},
                    "data": {
                        "text/plain": "array([ 1,  2,  3,  4,  5,  6, 10])"
                    },
                    "execution_count": null
                }
            ]
        },
        {
            "id": "890318db",
            "cell_type": "code",
            "metadata": {},
            "execution_count": null,
            "source": "A = np.ones((2, 2), int)\nB = 2 * A\nnp.block([A, B])                 # hstack([A, B])",
            "outputs": [
                {
                    "output_type": "execute_result",
                    "metadata": {},
                    "data": {
                        "text/plain": "array([[1, 1, 2, 2],\n       [1, 1, 2, 2]])"
                    },
                    "execution_count": null
                }
            ]
        },
        {
            "id": "55cd07a0",
            "cell_type": "markdown",
            "source": "With a list of depth 2, `block` can be used in place of `vstack`:\n",
            "metadata": {}
        },
        {
            "id": "da660a39",
            "cell_type": "code",
            "metadata": {},
            "execution_count": null,
            "source": "a = np.array([1, 2, 3])\nb = np.array([4, 5, 6])\nnp.block([[a], [b]])             # vstack([a, b])",
            "outputs": [
                {
                    "output_type": "execute_result",
                    "metadata": {},
                    "data": {
                        "text/plain": "array([[1, 2, 3],\n       [4, 5, 6]])"
                    },
                    "execution_count": null
                }
            ]
        },
        {
            "id": "015f9c30",
            "cell_type": "code",
            "metadata": {},
            "execution_count": null,
            "source": "A = np.ones((2, 2), int)\nB = 2 * A\nnp.block([[A], [B]])             # vstack([A, B])",
            "outputs": [
                {
                    "output_type": "execute_result",
                    "metadata": {},
                    "data": {
                        "text/plain": "array([[1, 1],\n       [1, 1],\n       [2, 2],\n       [2, 2]])"
                    },
                    "execution_count": null
                }
            ]
        },
        {
            "id": "7421e018",
            "cell_type": "markdown",
            "source": "It can also be used in place of `atleast_1d` and `atleast_2d`:\n",
            "metadata": {}
        },
        {
            "id": "c56cd2fa",
            "cell_type": "code",
            "metadata": {},
            "execution_count": null,
            "source": "a = np.array(0)\nb = np.array([1])\nnp.block([a])                    # atleast_1d(a)",
            "outputs": [
                {
                    "output_type": "execute_result",
                    "metadata": {},
                    "data": {
                        "text/plain": "array([0])"
                    },
                    "execution_count": null
                }
            ]
        },
        {
            "id": "72a0647d",
            "cell_type": "code",
            "metadata": {},
            "execution_count": null,
            "source": "np.block([b])                    # atleast_1d(b)",
            "outputs": [
                {
                    "output_type": "execute_result",
                    "metadata": {},
                    "data": {
                        "text/plain": "array([1])"
                    },
                    "execution_count": null
                }
            ]
        },
        {
            "id": "a6700f83",
            "cell_type": "code",
            "metadata": {},
            "execution_count": null,
            "source": "np.block([[a]])                  # atleast_2d(a)",
            "outputs": [
                {
                    "output_type": "execute_result",
                    "metadata": {},
                    "data": {
                        "text/plain": "array([[0]])"
                    },
                    "execution_count": null
                }
            ]
        },
        {
            "id": "83ae3f71",
            "cell_type": "code",
            "metadata": {},
            "execution_count": null,
            "source": "np.block([[b]])                  # atleast_2d(b)",
            "outputs": [
                {
                    "output_type": "execute_result",
                    "metadata": {},
                    "data": {
                        "text/plain": "array([[1]])"
                    },
                    "execution_count": null
                }
            ]
        }
    ]
}