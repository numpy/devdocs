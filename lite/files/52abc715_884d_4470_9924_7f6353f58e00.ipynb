{
    "nbformat": 4,
    "nbformat_minor": 5,
    "metadata": {
        "kernelspec": {
            "display_name": "Python",
            "language": "python",
            "name": "python"
        },
        "language_info": {
            "name": "python"
        }
    },
    "cells": [
        {
            "id": "c2b6924a",
            "cell_type": "markdown",
            "source": "<div class='alert alert-warning'>\n\nNumPy's interactive examples are experimental and may not always work as expected, with high load times especially on low-resource platforms, and the version of NumPy might not be in sync with the one you are browsing the documentation for. If you encounter any issues, please report them on the [NumPy issue tracker](https://github.com/numpy/numpy/issues).\n\n</div>",
            "metadata": {}
        },
        {
            "id": "9ff05565",
            "cell_type": "code",
            "metadata": {},
            "execution_count": null,
            "source": "x = -np.matrix(np.arange(12).reshape((3,4))); x",
            "outputs": [
                {
                    "output_type": "execute_result",
                    "metadata": {},
                    "data": {
                        "text/plain": "matrix([[  0,  -1,  -2,  -3],\n        [ -4,  -5,  -6,  -7],\n        [ -8,  -9, -10, -11]])"
                    },
                    "execution_count": null
                }
            ]
        },
        {
            "id": "c766d4d8",
            "cell_type": "code",
            "metadata": {},
            "execution_count": null,
            "source": "x.min()",
            "outputs": [
                {
                    "output_type": "execute_result",
                    "metadata": {},
                    "data": {
                        "text/plain": "-11"
                    },
                    "execution_count": null
                }
            ]
        },
        {
            "id": "d2058f2b",
            "cell_type": "code",
            "metadata": {},
            "execution_count": null,
            "source": "x.min(0)",
            "outputs": [
                {
                    "output_type": "execute_result",
                    "metadata": {},
                    "data": {
                        "text/plain": "matrix([[ -8,  -9, -10, -11]])"
                    },
                    "execution_count": null
                }
            ]
        },
        {
            "id": "b3a10508",
            "cell_type": "code",
            "metadata": {},
            "execution_count": null,
            "source": "x.min(1)",
            "outputs": [
                {
                    "output_type": "execute_result",
                    "metadata": {},
                    "data": {
                        "text/plain": "matrix([[ -3],\n        [ -7],\n        [-11]])"
                    },
                    "execution_count": null
                }
            ]
        }
    ]
}