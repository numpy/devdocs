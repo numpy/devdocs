{
    "nbformat": 4,
    "nbformat_minor": 5,
    "metadata": {
        "kernelspec": {
            "display_name": "Python",
            "language": "python",
            "name": "python"
        },
        "language_info": {
            "name": "python"
        }
    },
    "cells": [
        {
            "id": "0274383c",
            "cell_type": "markdown",
            "source": "<div class='alert alert-warning'>\n\nNumPy's interactive examples are experimental and may not always work as expected, with high load times especially on low-resource platforms, and the version of NumPy might not be in sync with the one you are browsing the documentation for. If you encounter any issues, please report them on the [NumPy issue tracker](https://github.com/numpy/numpy/issues).\n\n</div>",
            "metadata": {}
        },
        {
            "id": "46df22e4",
            "cell_type": "markdown",
            "source": "Draw samples from the distribution:\n",
            "metadata": {}
        },
        {
            "id": "b0a9b329",
            "cell_type": "code",
            "metadata": {},
            "execution_count": null,
            "source": "mu, kappa = 0.0, 4.0 # mean and concentration\ns = np.random.vonmises(mu, kappa, 1000)",
            "outputs": []
        },
        {
            "id": "9d0ceb65",
            "cell_type": "markdown",
            "source": "Display the histogram of the samples, along with\nthe probability density function:\n",
            "metadata": {}
        },
        {
            "id": "50dc78b1",
            "cell_type": "code",
            "metadata": {},
            "execution_count": null,
            "source": "import matplotlib.pyplot as plt\nfrom scipy.special import i0  # doctest: +SKIP\nplt.hist(s, 50, density=True)\nx = np.linspace(-np.pi, np.pi, num=51)\ny = np.exp(kappa*np.cos(x-mu))/(2*np.pi*i0(kappa))  # doctest: +SKIP\nplt.plot(x, y, linewidth=2, color='r')  # doctest: +SKIP\nplt.show()",
            "outputs": []
        }
    ]
}