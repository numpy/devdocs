{
    "nbformat": 4,
    "nbformat_minor": 5,
    "metadata": {
        "kernelspec": {
            "display_name": "Python",
            "language": "python",
            "name": "python"
        },
        "language_info": {
            "name": "python"
        }
    },
    "cells": [
        {
            "id": "154b7d8b",
            "cell_type": "markdown",
            "source": "<div class='alert alert-warning'>\n\nNumPy's interactive examples are experimental and may not always work as expected, with high load times especially on low-resource platforms, and the version of NumPy might not be in sync with the one you are browsing the documentation for. If you encounter any issues, please report them on the [NumPy issue tracker](https://github.com/numpy/numpy/issues).\n\n</div>",
            "metadata": {}
        },
        {
            "id": "53b38819",
            "cell_type": "code",
            "metadata": {},
            "execution_count": null,
            "source": "import numpy as np\na = np.array([[1, 2], [3, 4], [5, 6]])\na",
            "outputs": [
                {
                    "output_type": "execute_result",
                    "metadata": {},
                    "data": {
                        "text/plain": "array([[1, 2],\n       [3, 4],\n       [5, 6]])"
                    },
                    "execution_count": null
                }
            ]
        },
        {
            "id": "bd2e3cce",
            "cell_type": "code",
            "metadata": {},
            "execution_count": null,
            "source": "np.compress([0, 1], a, axis=0)",
            "outputs": [
                {
                    "output_type": "execute_result",
                    "metadata": {},
                    "data": {
                        "text/plain": "array([[3, 4]])"
                    },
                    "execution_count": null
                }
            ]
        },
        {
            "id": "5330cbb4",
            "cell_type": "code",
            "metadata": {},
            "execution_count": null,
            "source": "np.compress([False, True, True], a, axis=0)",
            "outputs": [
                {
                    "output_type": "execute_result",
                    "metadata": {},
                    "data": {
                        "text/plain": "array([[3, 4],\n       [5, 6]])"
                    },
                    "execution_count": null
                }
            ]
        },
        {
            "id": "5ee3d4d0",
            "cell_type": "code",
            "metadata": {},
            "execution_count": null,
            "source": "np.compress([False, True], a, axis=1)",
            "outputs": [
                {
                    "output_type": "execute_result",
                    "metadata": {},
                    "data": {
                        "text/plain": "array([[2],\n       [4],\n       [6]])"
                    },
                    "execution_count": null
                }
            ]
        },
        {
            "id": "ac04521b",
            "cell_type": "markdown",
            "source": "Working on the flattened array does not return slices along an axis but\nselects elements.\n",
            "metadata": {}
        },
        {
            "id": "df1d379b",
            "cell_type": "code",
            "metadata": {},
            "execution_count": null,
            "source": "np.compress([False, True], a)",
            "outputs": [
                {
                    "output_type": "execute_result",
                    "metadata": {},
                    "data": {
                        "text/plain": "array([2])"
                    },
                    "execution_count": null
                }
            ]
        }
    ]
}