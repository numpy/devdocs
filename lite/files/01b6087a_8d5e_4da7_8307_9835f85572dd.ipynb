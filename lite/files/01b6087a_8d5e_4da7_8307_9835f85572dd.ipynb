{
    "nbformat": 4,
    "nbformat_minor": 5,
    "metadata": {
        "kernelspec": {
            "display_name": "Python",
            "language": "python",
            "name": "python"
        },
        "language_info": {
            "name": "python"
        }
    },
    "cells": [
        {
            "id": "f28d5e06",
            "cell_type": "markdown",
            "source": "<div class='alert alert-warning'>\n\nNumPy's interactive examples are experimental and may not always work as expected, with high load times especially on low-resource platforms, and the version of NumPy might not be in sync with the one you are browsing the documentation for. If you encounter any issues, please report them on the [NumPy issue tracker](https://github.com/numpy/numpy/issues).\n\n</div>",
            "metadata": {}
        },
        {
            "id": "b4ba3baf",
            "cell_type": "code",
            "metadata": {},
            "execution_count": null,
            "source": "import numpy as np\nnp.linalg._umath_linalg.det.signature",
            "outputs": [
                {
                    "output_type": "execute_result",
                    "metadata": {},
                    "data": {
                        "text/plain": "'(m,m)->()'"
                    },
                    "execution_count": null
                }
            ]
        },
        {
            "id": "4c797a6e",
            "cell_type": "code",
            "metadata": {},
            "execution_count": null,
            "source": "np.matmul.signature",
            "outputs": [
                {
                    "output_type": "execute_result",
                    "metadata": {},
                    "data": {
                        "text/plain": "'(n?,k),(k,m?)->(n?,m?)'"
                    },
                    "execution_count": null
                }
            ]
        },
        {
            "id": "f0ec5559",
            "cell_type": "code",
            "metadata": {},
            "execution_count": null,
            "source": "np.add.signature is None",
            "outputs": [
                {
                    "output_type": "execute_result",
                    "metadata": {},
                    "data": {
                        "text/plain": "True  # equivalent to '(),()->()'"
                    },
                    "execution_count": null
                }
            ]
        }
    ]
}