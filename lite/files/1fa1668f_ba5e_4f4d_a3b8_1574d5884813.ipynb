{
    "nbformat": 4,
    "nbformat_minor": 5,
    "metadata": {
        "kernelspec": {
            "display_name": "Python",
            "language": "python",
            "name": "python"
        },
        "language_info": {
            "name": "python"
        }
    },
    "cells": [
        {
            "id": "97b21432",
            "cell_type": "markdown",
            "source": "<div class='alert alert-warning'>\n\nNumPy's interactive examples are experimental and may not always work as expected, with high load times especially on low-resource platforms, and the version of NumPy might not be in sync with the one you are browsing the documentation for. If you encounter any issues, please report them on the [NumPy issue tracker](https://github.com/numpy/numpy/issues).\n\n</div>",
            "metadata": {}
        },
        {
            "id": "663589d5",
            "cell_type": "code",
            "metadata": {},
            "execution_count": null,
            "source": "import numpy as np\na = np.zeros((3, 3), dtype=int)\na[1, 1] = 1\na",
            "outputs": [
                {
                    "output_type": "execute_result",
                    "metadata": {},
                    "data": {
                        "text/plain": "array([[0, 0, 0],\n       [0, 1, 0],\n       [0, 0, 0]])"
                    },
                    "execution_count": null
                }
            ]
        },
        {
            "id": "e8aa0f93",
            "cell_type": "code",
            "metadata": {},
            "execution_count": null,
            "source": "a = np.ma.masked_equal(a, 1)\na",
            "outputs": [
                {
                    "output_type": "execute_result",
                    "metadata": {},
                    "data": {
                        "text/plain": "masked_array(\n  data=[[0, 0, 0],\n        [0, --, 0],\n        [0, 0, 0]],\n  mask=[[False, False, False],\n        [False,  True, False],\n        [False, False, False]],\n  fill_value=1)"
                    },
                    "execution_count": null
                }
            ]
        },
        {
            "id": "61f0d686",
            "cell_type": "code",
            "metadata": {},
            "execution_count": null,
            "source": "np.ma.mask_rows(a)",
            "outputs": [
                {
                    "output_type": "execute_result",
                    "metadata": {},
                    "data": {
                        "text/plain": "masked_array(\n  data=[[0, 0, 0],\n        [--, --, --],\n        [0, 0, 0]],\n  mask=[[False, False, False],\n        [ True,  True,  True],\n        [False, False, False]],\n  fill_value=1)"
                    },
                    "execution_count": null
                }
            ]
        }
    ]
}