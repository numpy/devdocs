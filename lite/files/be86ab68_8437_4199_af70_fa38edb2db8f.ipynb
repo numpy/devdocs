{
    "nbformat": 4,
    "nbformat_minor": 5,
    "metadata": {
        "kernelspec": {
            "display_name": "Python",
            "language": "python",
            "name": "python"
        },
        "language_info": {
            "name": "python"
        }
    },
    "cells": [
        {
            "id": "64925841",
            "cell_type": "markdown",
            "source": "<div class='alert alert-warning'>\n\nNumPy's interactive examples are experimental and may not always work as expected, with high load times especially on low-resource platforms, and the version of NumPy might not be in sync with the one you are browsing the documentation for. If you encounter any issues, please report them on the [NumPy issue tracker](https://github.com/numpy/numpy/issues).\n\n</div>",
            "metadata": {}
        },
        {
            "id": "1ab52fb6",
            "cell_type": "code",
            "metadata": {},
            "execution_count": null,
            "source": "import numpy as np\nsignal = np.array([1, 2, 3, 4, 3, 2])\nnp.fft.fft(signal)",
            "outputs": [
                {
                    "output_type": "execute_result",
                    "metadata": {},
                    "data": {
                        "text/plain": "array([15.+0.j,  -4.+0.j,   0.+0.j,  -1.-0.j,   0.+0.j,  -4.+0.j]) # may vary"
                    },
                    "execution_count": null
                }
            ]
        },
        {
            "id": "1fd57e1a",
            "cell_type": "code",
            "metadata": {},
            "execution_count": null,
            "source": "np.fft.hfft(signal[:4]) # Input first half of signal",
            "outputs": [
                {
                    "output_type": "execute_result",
                    "metadata": {},
                    "data": {
                        "text/plain": "array([15.,  -4.,   0.,  -1.,   0.,  -4.])"
                    },
                    "execution_count": null
                }
            ]
        },
        {
            "id": "e882a731",
            "cell_type": "code",
            "metadata": {},
            "execution_count": null,
            "source": "np.fft.hfft(signal, 6)  # Input entire signal and truncate",
            "outputs": [
                {
                    "output_type": "execute_result",
                    "metadata": {},
                    "data": {
                        "text/plain": "array([15.,  -4.,   0.,  -1.,   0.,  -4.])"
                    },
                    "execution_count": null
                }
            ]
        },
        {
            "id": "688e8865",
            "cell_type": "code",
            "metadata": {},
            "execution_count": null,
            "source": "signal = np.array([[1, 1.j], [-1.j, 2]])\nnp.conj(signal.T) - signal   # check Hermitian symmetry",
            "outputs": [
                {
                    "output_type": "execute_result",
                    "metadata": {},
                    "data": {
                        "text/plain": "array([[ 0.-0.j,  -0.+0.j], # may vary\n       [ 0.+0.j,  0.-0.j]])"
                    },
                    "execution_count": null
                }
            ]
        },
        {
            "id": "c2c9f842",
            "cell_type": "code",
            "metadata": {},
            "execution_count": null,
            "source": "freq_spectrum = np.fft.hfft(signal)\nfreq_spectrum",
            "outputs": [
                {
                    "output_type": "execute_result",
                    "metadata": {},
                    "data": {
                        "text/plain": "array([[ 1.,  1.],\n       [ 2., -2.]])"
                    },
                    "execution_count": null
                }
            ]
        }
    ]
}