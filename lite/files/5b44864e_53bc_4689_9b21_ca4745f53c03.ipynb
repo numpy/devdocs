{
    "nbformat": 4,
    "nbformat_minor": 5,
    "metadata": {
        "kernelspec": {
            "display_name": "Python",
            "language": "python",
            "name": "python"
        },
        "language_info": {
            "name": "python"
        }
    },
    "cells": [
        {
            "id": "80ef1807",
            "cell_type": "markdown",
            "source": "<div class='alert alert-warning'>\n\nNumPy's interactive examples are experimental and may not always work as expected, with high load times especially on low-resource platforms, and the version of NumPy might not be in sync with the one you are browsing the documentation for. If you encounter any issues, please report them on the [NumPy issue tracker](https://github.com/numpy/numpy/issues).\n\n</div>",
            "metadata": {}
        },
        {
            "id": "643f5f33",
            "cell_type": "code",
            "metadata": {},
            "execution_count": null,
            "source": "import numpy as np",
            "outputs": []
        },
        {
            "id": "be4b127b",
            "cell_type": "code",
            "metadata": {},
            "execution_count": null,
            "source": "type(np.timedelta64(1, 'D').astype(int))",
            "outputs": [
                {
                    "output_type": "execute_result",
                    "metadata": {},
                    "data": {
                        "text/plain": "<class 'numpy.int64'>"
                    },
                    "execution_count": null
                }
            ]
        },
        {
            "id": "1df8aaab",
            "cell_type": "code",
            "metadata": {},
            "execution_count": null,
            "source": "type(np.datetime64('2025-01-01T12:00:00.123456').astype(float))",
            "outputs": [
                {
                    "output_type": "execute_result",
                    "metadata": {},
                    "data": {
                        "text/plain": "<class 'numpy.float64'>"
                    },
                    "execution_count": null
                }
            ]
        },
        {
            "id": "9acb2953",
            "cell_type": "code",
            "metadata": {},
            "execution_count": null,
            "source": "type(np.timedelta64(123, 'ns').astype(str))",
            "outputs": [
                {
                    "output_type": "execute_result",
                    "metadata": {},
                    "data": {
                        "text/plain": "<class 'numpy.str_'>"
                    },
                    "execution_count": null
                }
            ]
        }
    ]
}