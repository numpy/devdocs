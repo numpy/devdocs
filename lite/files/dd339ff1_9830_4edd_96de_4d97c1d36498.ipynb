{
    "nbformat": 4,
    "nbformat_minor": 5,
    "metadata": {
        "kernelspec": {
            "display_name": "Python",
            "language": "python",
            "name": "python"
        },
        "language_info": {
            "name": "python"
        }
    },
    "cells": [
        {
            "id": "c3e6f2c8",
            "cell_type": "markdown",
            "source": "<div class='alert alert-warning'>\n\nNumPy's interactive examples are experimental and may not always work as expected, with high load times especially on low-resource platforms, and the version of NumPy might not be in sync with the one you are browsing the documentation for. If you encounter any issues, please report them on the [NumPy issue tracker](https://github.com/numpy/numpy/issues).\n\n</div>",
            "metadata": {}
        },
        {
            "id": "de858df2",
            "cell_type": "code",
            "metadata": {},
            "execution_count": null,
            "source": "import numpy as np\nx = np.ma.array([[0, 1], [1, 1]], mask=[0, 1, 0, 1])\nnp.ma.corrcoef(x)",
            "outputs": [
                {
                    "output_type": "execute_result",
                    "metadata": {},
                    "data": {
                        "text/plain": "masked_array(\n  data=[[--, --],\n        [--, --]],\n  mask=[[ True,  True],\n        [ True,  True]],\n  fill_value=1e+20,\n  dtype=float64)"
                    },
                    "execution_count": null
                }
            ]
        }
    ]
}