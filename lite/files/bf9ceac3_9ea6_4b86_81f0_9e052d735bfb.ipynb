{
    "nbformat": 4,
    "nbformat_minor": 5,
    "metadata": {
        "kernelspec": {
            "display_name": "Python",
            "language": "python",
            "name": "python"
        },
        "language_info": {
            "name": "python"
        }
    },
    "cells": [
        {
            "id": "190d918b",
            "cell_type": "markdown",
            "source": "<div class='alert alert-warning'>\n\nNumPy's interactive examples are experimental and may not always work as expected, with high load times especially on low-resource platforms, and the version of NumPy might not be in sync with the one you are browsing the documentation for. If you encounter any issues, please report them on the [NumPy issue tracker](https://github.com/numpy/numpy/issues).\n\n</div>",
            "metadata": {}
        },
        {
            "id": "75046214",
            "cell_type": "code",
            "metadata": {},
            "execution_count": null,
            "source": "import numpy.ma as ma\nx = ma.array([1, 2, 3, 4, 5], mask=[0, 1, 0, 0, 1])\nmx = x[:3]\nmx",
            "outputs": [
                {
                    "output_type": "execute_result",
                    "metadata": {},
                    "data": {
                        "text/plain": "masked_array(data=[1, --, 3],\n             mask=[False,  True, False],\n       fill_value=999999)"
                    },
                    "execution_count": null
                }
            ]
        },
        {
            "id": "7fd49b9b",
            "cell_type": "code",
            "metadata": {},
            "execution_count": null,
            "source": "mx[1] = -1\nmx",
            "outputs": [
                {
                    "output_type": "execute_result",
                    "metadata": {},
                    "data": {
                        "text/plain": "masked_array(data=[1, -1, 3],\n             mask=[False, False, False],\n       fill_value=999999)"
                    },
                    "execution_count": null
                }
            ]
        },
        {
            "id": "a4d502d8",
            "cell_type": "code",
            "metadata": {},
            "execution_count": null,
            "source": "x.mask",
            "outputs": [
                {
                    "output_type": "execute_result",
                    "metadata": {},
                    "data": {
                        "text/plain": "array([False, False, False, False,  True])"
                    },
                    "execution_count": null
                }
            ]
        },
        {
            "id": "373bf223",
            "cell_type": "code",
            "metadata": {},
            "execution_count": null,
            "source": "x.data",
            "outputs": [
                {
                    "output_type": "execute_result",
                    "metadata": {},
                    "data": {
                        "text/plain": "array([ 1, -1,  3,  4,  5])"
                    },
                    "execution_count": null
                }
            ]
        }
    ]
}