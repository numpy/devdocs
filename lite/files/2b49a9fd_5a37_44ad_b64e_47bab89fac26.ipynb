{
    "nbformat": 4,
    "nbformat_minor": 5,
    "metadata": {
        "kernelspec": {
            "display_name": "Python",
            "language": "python",
            "name": "python"
        },
        "language_info": {
            "name": "python"
        }
    },
    "cells": [
        {
            "id": "f735be00",
            "cell_type": "markdown",
            "source": "<div class='alert alert-warning'>\n\nNumPy's interactive examples are experimental and may not always work as expected, with high load times especially on low-resource platforms, and the version of NumPy might not be in sync with the one you are browsing the documentation for. If you encounter any issues, please report them on the [NumPy issue tracker](https://github.com/numpy/numpy/issues).\n\n</div>",
            "metadata": {}
        },
        {
            "id": "f7ddc340",
            "cell_type": "markdown",
            "source": "For example suppose the source directory contains fun/foo.dat and\nfun/bar/car.dat:\n",
            "metadata": {}
        },
        {
            "id": "64efb55f",
            "cell_type": "code",
            "metadata": {},
            "execution_count": null,
            "source": "self.add_data_dir('fun')                       #doctest: +SKIP\nself.add_data_dir(('sun', 'fun'))              #doctest: +SKIP\nself.add_data_dir(('gun', '/full/path/to/fun'))#doctest: +SKIP",
            "outputs": []
        },
        {
            "id": "7fe546f4",
            "cell_type": "markdown",
            "source": "Will install data-files to the locations\n```\n\n<package install directory>/\nfun/\nfoo.dat\nbar/\ncar.dat\nsun/\nfoo.dat\nbar/\ncar.dat\ngun/\nfoo.dat\ncar.dat\n```",
            "metadata": {}
        }
    ]
}