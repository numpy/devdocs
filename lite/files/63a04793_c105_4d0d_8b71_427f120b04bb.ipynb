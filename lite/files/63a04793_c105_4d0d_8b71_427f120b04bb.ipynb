{
    "nbformat": 4,
    "nbformat_minor": 5,
    "metadata": {
        "kernelspec": {
            "display_name": "Python",
            "language": "python",
            "name": "python"
        },
        "language_info": {
            "name": "python"
        }
    },
    "cells": [
        {
            "id": "1a893969",
            "cell_type": "markdown",
            "source": "<div class='alert alert-warning'>\n\nNumPy's interactive examples are experimental and may not always work as expected, with high load times especially on low-resource platforms, and the version of NumPy might not be in sync with the one you are browsing the documentation for. If you encounter any issues, please report them on the [NumPy issue tracker](https://github.com/numpy/numpy/issues).\n\n</div>",
            "metadata": {}
        },
        {
            "id": "47fff16f",
            "cell_type": "markdown",
            "source": "When exiting a `numpy.errstate` context manager the bufsize is restored:\n",
            "metadata": {}
        },
        {
            "id": "3fbbb705",
            "cell_type": "code",
            "metadata": {},
            "execution_count": null,
            "source": "import numpy as np\nwith np.errstate():\n    np.setbufsize(4096)\n    print(np.getbufsize())\n",
            "outputs": [
                {
                    "output_type": "execute_result",
                    "metadata": {},
                    "data": {
                        "text/plain": "8192\n4096"
                    },
                    "execution_count": null
                }
            ]
        },
        {
            "id": "6969712e",
            "cell_type": "code",
            "metadata": {},
            "execution_count": null,
            "source": "np.getbufsize()",
            "outputs": [
                {
                    "output_type": "execute_result",
                    "metadata": {},
                    "data": {
                        "text/plain": "8192"
                    },
                    "execution_count": null
                }
            ]
        }
    ]
}