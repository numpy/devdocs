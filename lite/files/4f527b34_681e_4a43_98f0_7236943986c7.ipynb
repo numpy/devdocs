{
    "nbformat": 4,
    "nbformat_minor": 5,
    "metadata": {
        "kernelspec": {
            "display_name": "Python",
            "language": "python",
            "name": "python"
        },
        "language_info": {
            "name": "python"
        }
    },
    "cells": [
        {
            "id": "4f45efa3",
            "cell_type": "markdown",
            "source": "<div class='alert alert-warning'>\n\nNumPy's interactive examples are experimental and may not always work as expected, with high load times especially on low-resource platforms, and the version of NumPy might not be in sync with the one you are browsing the documentation for. If you encounter any issues, please report them on the [NumPy issue tracker](https://github.com/numpy/numpy/issues).\n\n</div>",
            "metadata": {}
        },
        {
            "id": "745d2138",
            "cell_type": "markdown",
            "source": "A 3-dimensional array of size 3 x 3 x 3, summed over each of its\nthree axes:\n",
            "metadata": {}
        },
        {
            "id": "71011dc0",
            "cell_type": "code",
            "metadata": {},
            "execution_count": null,
            "source": "import numpy as np",
            "outputs": []
        },
        {
            "id": "9566863c",
            "cell_type": "code",
            "metadata": {},
            "execution_count": null,
            "source": "x = np.arange(27).reshape((3,3,3))\nx",
            "outputs": [
                {
                    "output_type": "execute_result",
                    "metadata": {},
                    "data": {
                        "text/plain": "array([[[ 0,  1,  2],\n      [ 3,  4,  5],\n      [ 6,  7,  8]],\n      [[ 9, 10, 11],\n      [12, 13, 14],\n      [15, 16, 17]],\n      [[18, 19, 20],\n      [21, 22, 23],\n      [24, 25, 26]]])"
                    },
                    "execution_count": null
                }
            ]
        },
        {
            "id": "348ff01c",
            "cell_type": "code",
            "metadata": {},
            "execution_count": null,
            "source": "x.sum(axis=0)",
            "outputs": [
                {
                    "output_type": "execute_result",
                    "metadata": {},
                    "data": {
                        "text/plain": "array([[27, 30, 33],\n      [36, 39, 42],\n      [45, 48, 51]])"
                    },
                    "execution_count": null
                }
            ]
        },
        {
            "id": "04d5d430",
            "cell_type": "code",
            "metadata": {},
            "execution_count": null,
            "source": "# for sum, axis is the first keyword, so we may omit it,\n# specifying only its value\nx.sum(0), x.sum(1), x.sum(2)",
            "outputs": [
                {
                    "output_type": "execute_result",
                    "metadata": {},
                    "data": {
                        "text/plain": "(array([[27, 30, 33],\n      [36, 39, 42],\n      [45, 48, 51]]),\narray([[ 9, 12, 15],\n      [36, 39, 42],\n      [63, 66, 69]]),\narray([[ 3, 12, 21],\n      [30, 39, 48],\n      [57, 66, 75]]))"
                    },
                    "execution_count": null
                }
            ]
        }
    ]
}