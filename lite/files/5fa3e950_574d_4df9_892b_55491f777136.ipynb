{
    "nbformat": 4,
    "nbformat_minor": 5,
    "metadata": {
        "kernelspec": {
            "display_name": "Python",
            "language": "python",
            "name": "python"
        },
        "language_info": {
            "name": "python"
        }
    },
    "cells": [
        {
            "id": "8eac0689",
            "cell_type": "markdown",
            "source": "<div class='alert alert-warning'>\n\nNumPy's interactive examples are experimental and may not always work as expected, with high load times especially on low-resource platforms, and the version of NumPy might not be in sync with the one you are browsing the documentation for. If you encounter any issues, please report them on the [NumPy issue tracker](https://github.com/numpy/numpy/issues).\n\n</div>",
            "metadata": {}
        },
        {
            "id": "78af7d44",
            "cell_type": "code",
            "metadata": {},
            "execution_count": null,
            "source": "import numpy as np",
            "outputs": []
        },
        {
            "id": "97286dfe",
            "cell_type": "code",
            "metadata": {},
            "execution_count": null,
            "source": "from numpy.lib import recfunctions as rfn\nb = np.array([(1, 2, 5), (4, 5, 7), (7, 8 ,11), (10, 11, 12)],\n             dtype=[('x', 'i4'), ('y', 'f4'), ('z', 'f8')])\nrfn.apply_along_fields(np.mean, b)",
            "outputs": [
                {
                    "output_type": "execute_result",
                    "metadata": {},
                    "data": {
                        "text/plain": "array([ 2.66666667,  5.33333333,  8.66666667, 11.        ])"
                    },
                    "execution_count": null
                }
            ]
        },
        {
            "id": "6340a0e6",
            "cell_type": "code",
            "metadata": {},
            "execution_count": null,
            "source": "rfn.apply_along_fields(np.mean, b[['x', 'z']])",
            "outputs": [
                {
                    "output_type": "execute_result",
                    "metadata": {},
                    "data": {
                        "text/plain": "array([ 3. ,  5.5,  9. , 11. ])"
                    },
                    "execution_count": null
                }
            ]
        }
    ]
}