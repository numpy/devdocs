{
    "nbformat": 4,
    "nbformat_minor": 5,
    "metadata": {
        "kernelspec": {
            "display_name": "Python",
            "language": "python",
            "name": "python"
        },
        "language_info": {
            "name": "python"
        }
    },
    "cells": [
        {
            "id": "e7166df2",
            "cell_type": "markdown",
            "source": "<div class='alert alert-warning'>\n\nNumPy's interactive examples are experimental and may not always work as expected, with high load times especially on low-resource platforms, and the version of NumPy might not be in sync with the one you are browsing the documentation for. If you encounter any issues, please report them on the [NumPy issue tracker](https://github.com/numpy/numpy/issues).\n\n</div>",
            "metadata": {}
        },
        {
            "id": "534aaea4",
            "cell_type": "code",
            "metadata": {},
            "execution_count": null,
            "source": "import numpy as np\ndata = np.arange(12, dtype='float32')\ndata.resize((3,4))",
            "outputs": []
        },
        {
            "id": "a4825283",
            "cell_type": "markdown",
            "source": "This example uses a temporary file so that doctest doesn't write\nfiles to your directory. You would use a 'normal' filename.\n",
            "metadata": {}
        },
        {
            "id": "b95b5adb",
            "cell_type": "code",
            "metadata": {},
            "execution_count": null,
            "source": "from tempfile import mkdtemp\nimport os.path as path\nfilename = path.join(mkdtemp(), 'newfile.dat')",
            "outputs": []
        },
        {
            "id": "b180a180",
            "cell_type": "markdown",
            "source": "Create a memmap with dtype and shape that matches our data:\n",
            "metadata": {}
        },
        {
            "id": "2d09183c",
            "cell_type": "code",
            "metadata": {},
            "execution_count": null,
            "source": "fp = np.memmap(filename, dtype='float32', mode='w+', shape=(3,4))\nfp",
            "outputs": [
                {
                    "output_type": "execute_result",
                    "metadata": {},
                    "data": {
                        "text/plain": "memmap([[0., 0., 0., 0.],\n        [0., 0., 0., 0.],\n        [0., 0., 0., 0.]], dtype=float32)"
                    },
                    "execution_count": null
                }
            ]
        },
        {
            "id": "f59fbe51",
            "cell_type": "markdown",
            "source": "Write data to memmap array:\n",
            "metadata": {}
        },
        {
            "id": "2e7a41dc",
            "cell_type": "code",
            "metadata": {},
            "execution_count": null,
            "source": "fp[:] = data[:]\nfp",
            "outputs": [
                {
                    "output_type": "execute_result",
                    "metadata": {},
                    "data": {
                        "text/plain": "memmap([[  0.,   1.,   2.,   3.],\n        [  4.,   5.,   6.,   7.],\n        [  8.,   9.,  10.,  11.]], dtype=float32)"
                    },
                    "execution_count": null
                }
            ]
        },
        {
            "id": "5e8675b4",
            "cell_type": "code",
            "metadata": {},
            "execution_count": null,
            "source": "fp.filename == path.abspath(filename)",
            "outputs": [
                {
                    "output_type": "execute_result",
                    "metadata": {},
                    "data": {
                        "text/plain": "True"
                    },
                    "execution_count": null
                }
            ]
        },
        {
            "id": "35c1c0f0",
            "cell_type": "markdown",
            "source": "Flushes memory changes to disk in order to read them back\n",
            "metadata": {}
        },
        {
            "id": "ce3f14a3",
            "cell_type": "code",
            "metadata": {},
            "execution_count": null,
            "source": "fp.flush()",
            "outputs": []
        },
        {
            "id": "ddf8c346",
            "cell_type": "markdown",
            "source": "Load the memmap and verify data was stored:\n",
            "metadata": {}
        },
        {
            "id": "a74ae38a",
            "cell_type": "code",
            "metadata": {},
            "execution_count": null,
            "source": "newfp = np.memmap(filename, dtype='float32', mode='r', shape=(3,4))\nnewfp",
            "outputs": [
                {
                    "output_type": "execute_result",
                    "metadata": {},
                    "data": {
                        "text/plain": "memmap([[  0.,   1.,   2.,   3.],\n        [  4.,   5.,   6.,   7.],\n        [  8.,   9.,  10.,  11.]], dtype=float32)"
                    },
                    "execution_count": null
                }
            ]
        },
        {
            "id": "d7eb10da",
            "cell_type": "markdown",
            "source": "Read-only memmap:\n",
            "metadata": {}
        },
        {
            "id": "72318187",
            "cell_type": "code",
            "metadata": {},
            "execution_count": null,
            "source": "fpr = np.memmap(filename, dtype='float32', mode='r', shape=(3,4))\nfpr.flags.writeable",
            "outputs": [
                {
                    "output_type": "execute_result",
                    "metadata": {},
                    "data": {
                        "text/plain": "False"
                    },
                    "execution_count": null
                }
            ]
        },
        {
            "id": "e44f8f2e",
            "cell_type": "markdown",
            "source": "Copy-on-write memmap:\n",
            "metadata": {}
        },
        {
            "id": "7eef0090",
            "cell_type": "code",
            "metadata": {},
            "execution_count": null,
            "source": "fpc = np.memmap(filename, dtype='float32', mode='c', shape=(3,4))\nfpc.flags.writeable",
            "outputs": [
                {
                    "output_type": "execute_result",
                    "metadata": {},
                    "data": {
                        "text/plain": "True"
                    },
                    "execution_count": null
                }
            ]
        },
        {
            "id": "0f35a9b3",
            "cell_type": "markdown",
            "source": "It's possible to assign to copy-on-write array, but values are only\nwritten into the memory copy of the array, and not written to disk:\n",
            "metadata": {}
        },
        {
            "id": "b1678b7d",
            "cell_type": "code",
            "metadata": {},
            "execution_count": null,
            "source": "fpc",
            "outputs": [
                {
                    "output_type": "execute_result",
                    "metadata": {},
                    "data": {
                        "text/plain": "memmap([[  0.,   1.,   2.,   3.],\n        [  4.,   5.,   6.,   7.],\n        [  8.,   9.,  10.,  11.]], dtype=float32)"
                    },
                    "execution_count": null
                }
            ]
        },
        {
            "id": "759cf1de",
            "cell_type": "code",
            "metadata": {},
            "execution_count": null,
            "source": "fpc[0,:] = 0\nfpc",
            "outputs": [
                {
                    "output_type": "execute_result",
                    "metadata": {},
                    "data": {
                        "text/plain": "memmap([[  0.,   0.,   0.,   0.],\n        [  4.,   5.,   6.,   7.],\n        [  8.,   9.,  10.,  11.]], dtype=float32)"
                    },
                    "execution_count": null
                }
            ]
        },
        {
            "id": "970eec49",
            "cell_type": "markdown",
            "source": "File on disk is unchanged:\n",
            "metadata": {}
        },
        {
            "id": "461384e8",
            "cell_type": "code",
            "metadata": {},
            "execution_count": null,
            "source": "fpr",
            "outputs": [
                {
                    "output_type": "execute_result",
                    "metadata": {},
                    "data": {
                        "text/plain": "memmap([[  0.,   1.,   2.,   3.],\n        [  4.,   5.,   6.,   7.],\n        [  8.,   9.,  10.,  11.]], dtype=float32)"
                    },
                    "execution_count": null
                }
            ]
        },
        {
            "id": "75aa624b",
            "cell_type": "markdown",
            "source": "Offset into a memmap:\n",
            "metadata": {}
        },
        {
            "id": "4a76e446",
            "cell_type": "code",
            "metadata": {},
            "execution_count": null,
            "source": "fpo = np.memmap(filename, dtype='float32', mode='r', offset=16)\nfpo",
            "outputs": [
                {
                    "output_type": "execute_result",
                    "metadata": {},
                    "data": {
                        "text/plain": "memmap([  4.,   5.,   6.,   7.,   8.,   9.,  10.,  11.], dtype=float32)"
                    },
                    "execution_count": null
                }
            ]
        }
    ]
}