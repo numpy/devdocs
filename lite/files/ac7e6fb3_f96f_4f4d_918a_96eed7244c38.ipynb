{
    "nbformat": 4,
    "nbformat_minor": 5,
    "metadata": {
        "kernelspec": {
            "display_name": "Python",
            "language": "python",
            "name": "python"
        },
        "language_info": {
            "name": "python"
        }
    },
    "cells": [
        {
            "id": "57bc6c0a",
            "cell_type": "markdown",
            "source": "<div class='alert alert-warning'>\n\nNumPy's interactive examples are experimental and may not always work as expected, with high load times especially on low-resource platforms, and the version of NumPy might not be in sync with the one you are browsing the documentation for. If you encounter any issues, please report them on the [NumPy issue tracker](https://github.com/numpy/numpy/issues).\n\n</div>",
            "metadata": {}
        },
        {
            "id": "d78ed66c",
            "cell_type": "markdown",
            "source": "Draw samples from the distribution:\n\nA real world example. A company drills wild-cat oil\nexploration wells, each with an estimated probability of\nsuccess of 0.1.  What is the probability of having one success\nfor each successive well, that is what is the probability of a\nsingle success after drilling 5 wells, after 6 wells, etc.?\n",
            "metadata": {}
        },
        {
            "id": "b4e9dfd3",
            "cell_type": "code",
            "metadata": {},
            "execution_count": null,
            "source": "s = np.random.negative_binomial(1, 0.1, 100000)\nfor i in range(1, 11): # doctest: +SKIP\n   probability = sum(s<i) / 100000.\n   print(i, \"wells drilled, probability of one success =\", probability)",
            "outputs": []
        }
    ]
}