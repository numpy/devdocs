{
    "nbformat": 4,
    "nbformat_minor": 5,
    "metadata": {
        "kernelspec": {
            "display_name": "Python",
            "language": "python",
            "name": "python"
        },
        "language_info": {
            "name": "python"
        }
    },
    "cells": [
        {
            "id": "08632ec5",
            "cell_type": "markdown",
            "source": "<div class='alert alert-warning'>\n\nNumPy's interactive examples are experimental and may not always work as expected, with high load times especially on low-resource platforms, and the version of NumPy might not be in sync with the one you are browsing the documentation for. If you encounter any issues, please report them on the [NumPy issue tracker](https://github.com/numpy/numpy/issues).\n\n</div>",
            "metadata": {}
        },
        {
            "id": "5b2f7fe9",
            "cell_type": "code",
            "metadata": {},
            "execution_count": null,
            "source": "from numpy.polynomial.hermite import hermdiv\nhermdiv([ 52.,  29.,  52.,   7.,   6.], [0, 1, 2])",
            "outputs": [
                {
                    "output_type": "execute_result",
                    "metadata": {},
                    "data": {
                        "text/plain": "(array([1., 2., 3.]), array([0.]))"
                    },
                    "execution_count": null
                }
            ]
        },
        {
            "id": "88ef1db4",
            "cell_type": "code",
            "metadata": {},
            "execution_count": null,
            "source": "hermdiv([ 54.,  31.,  52.,   7.,   6.], [0, 1, 2])",
            "outputs": [
                {
                    "output_type": "execute_result",
                    "metadata": {},
                    "data": {
                        "text/plain": "(array([1., 2., 3.]), array([2., 2.]))"
                    },
                    "execution_count": null
                }
            ]
        },
        {
            "id": "78378570",
            "cell_type": "code",
            "metadata": {},
            "execution_count": null,
            "source": "hermdiv([ 53.,  30.,  52.,   7.,   6.], [0, 1, 2])",
            "outputs": [
                {
                    "output_type": "execute_result",
                    "metadata": {},
                    "data": {
                        "text/plain": "(array([1., 2., 3.]), array([1., 1.]))"
                    },
                    "execution_count": null
                }
            ]
        }
    ]
}