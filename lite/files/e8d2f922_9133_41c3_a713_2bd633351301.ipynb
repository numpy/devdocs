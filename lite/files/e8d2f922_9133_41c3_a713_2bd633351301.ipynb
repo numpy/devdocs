{
    "nbformat": 4,
    "nbformat_minor": 5,
    "metadata": {
        "kernelspec": {
            "display_name": "Python",
            "language": "python",
            "name": "python"
        },
        "language_info": {
            "name": "python"
        }
    },
    "cells": [
        {
            "id": "a93dbcac",
            "cell_type": "markdown",
            "source": "<div class='alert alert-warning'>\n\nNumPy's interactive examples are experimental and may not always work as expected, with high load times especially on low-resource platforms, and the version of NumPy might not be in sync with the one you are browsing the documentation for. If you encounter any issues, please report them on the [NumPy issue tracker](https://github.com/numpy/numpy/issues).\n\n</div>",
            "metadata": {}
        },
        {
            "id": "3d6101bd",
            "cell_type": "code",
            "metadata": {},
            "execution_count": null,
            "source": "import numpy as np\nfrom io import StringIO   # StringIO behaves like a file object\nc = StringIO(\"0 1\\n2 3\")\nnp.loadtxt(c)",
            "outputs": [
                {
                    "output_type": "execute_result",
                    "metadata": {},
                    "data": {
                        "text/plain": "array([[0., 1.],\n       [2., 3.]])"
                    },
                    "execution_count": null
                }
            ]
        },
        {
            "id": "c029e88e",
            "cell_type": "code",
            "metadata": {},
            "execution_count": null,
            "source": "d = StringIO(\"M 21 72\\nF 35 58\")\nnp.loadtxt(d, dtype={'names': ('gender', 'age', 'weight'),\n                     'formats': ('S1', 'i4', 'f4')})",
            "outputs": [
                {
                    "output_type": "execute_result",
                    "metadata": {},
                    "data": {
                        "text/plain": "array([(b'M', 21, 72.), (b'F', 35, 58.)],\n      dtype=[('gender', 'S1'), ('age', '<i4'), ('weight', '<f4')])"
                    },
                    "execution_count": null
                }
            ]
        },
        {
            "id": "7c1a3842",
            "cell_type": "code",
            "metadata": {},
            "execution_count": null,
            "source": "c = StringIO(\"1,0,2\\n3,0,4\")\nx, y = np.loadtxt(c, delimiter=',', usecols=(0, 2), unpack=True)\nx",
            "outputs": [
                {
                    "output_type": "execute_result",
                    "metadata": {},
                    "data": {
                        "text/plain": "array([1., 3.])"
                    },
                    "execution_count": null
                }
            ]
        },
        {
            "id": "e2179f5e",
            "cell_type": "code",
            "metadata": {},
            "execution_count": null,
            "source": "y",
            "outputs": [
                {
                    "output_type": "execute_result",
                    "metadata": {},
                    "data": {
                        "text/plain": "array([2., 4.])"
                    },
                    "execution_count": null
                }
            ]
        },
        {
            "id": "368265ce",
            "cell_type": "markdown",
            "source": "The `converters` argument is used to specify functions to preprocess the\ntext prior to parsing. `converters` can be a dictionary that maps\npreprocessing functions to each column:\n",
            "metadata": {}
        },
        {
            "id": "01c99143",
            "cell_type": "code",
            "metadata": {},
            "execution_count": null,
            "source": "s = StringIO(\"1.618, 2.296\\n3.141, 4.669\\n\")\nconv = {\n    0: lambda x: np.floor(float(x)),  # conversion fn for column 0\n    1: lambda x: np.ceil(float(x)),  # conversion fn for column 1\n}\nnp.loadtxt(s, delimiter=\",\", converters=conv)",
            "outputs": [
                {
                    "output_type": "execute_result",
                    "metadata": {},
                    "data": {
                        "text/plain": "array([[1., 3.],\n       [3., 5.]])"
                    },
                    "execution_count": null
                }
            ]
        },
        {
            "id": "e6c917e5",
            "cell_type": "markdown",
            "source": "`converters` can be a callable instead of a dictionary, in which case it\nis applied to all columns:\n",
            "metadata": {}
        },
        {
            "id": "b324e7bb",
            "cell_type": "code",
            "metadata": {},
            "execution_count": null,
            "source": "s = StringIO(\"0xDE 0xAD\\n0xC0 0xDE\")\nimport functools\nconv = functools.partial(int, base=16)\nnp.loadtxt(s, converters=conv)",
            "outputs": [
                {
                    "output_type": "execute_result",
                    "metadata": {},
                    "data": {
                        "text/plain": "array([[222., 173.],\n       [192., 222.]])"
                    },
                    "execution_count": null
                }
            ]
        },
        {
            "id": "034bebb8",
            "cell_type": "markdown",
            "source": "This example shows how `converters` can be used to convert a field\nwith a trailing minus sign into a negative number.\n",
            "metadata": {}
        },
        {
            "id": "29f80969",
            "cell_type": "code",
            "metadata": {},
            "execution_count": null,
            "source": "s = StringIO(\"10.01 31.25-\\n19.22 64.31\\n17.57- 63.94\")\ndef conv(fld):\n    return -float(fld[:-1]) if fld.endswith(\"-\") else float(fld)\n\nnp.loadtxt(s, converters=conv)",
            "outputs": [
                {
                    "output_type": "execute_result",
                    "metadata": {},
                    "data": {
                        "text/plain": "array([[ 10.01, -31.25],\n       [ 19.22,  64.31],\n       [-17.57,  63.94]])"
                    },
                    "execution_count": null
                }
            ]
        },
        {
            "id": "f5933401",
            "cell_type": "markdown",
            "source": "Using a callable as the converter can be particularly useful for handling\nvalues with different formatting, e.g. floats with underscores:\n",
            "metadata": {}
        },
        {
            "id": "a539d712",
            "cell_type": "code",
            "metadata": {},
            "execution_count": null,
            "source": "s = StringIO(\"1 2.7 100_000\")\nnp.loadtxt(s, converters=float)",
            "outputs": [
                {
                    "output_type": "execute_result",
                    "metadata": {},
                    "data": {
                        "text/plain": "array([1.e+00, 2.7e+00, 1.e+05])"
                    },
                    "execution_count": null
                }
            ]
        },
        {
            "id": "a50e9be6",
            "cell_type": "markdown",
            "source": "This idea can be extended to automatically handle values specified in\nmany different formats, such as hex values:\n",
            "metadata": {}
        },
        {
            "id": "d967b152",
            "cell_type": "code",
            "metadata": {},
            "execution_count": null,
            "source": "def conv(val):\n    try:\n        return float(val)\n    except ValueError:\n        return float.fromhex(val)\ns = StringIO(\"1, 2.5, 3_000, 0b4, 0x1.4000000000000p+2\")\nnp.loadtxt(s, delimiter=\",\", converters=conv)",
            "outputs": [
                {
                    "output_type": "execute_result",
                    "metadata": {},
                    "data": {
                        "text/plain": "array([1.0e+00, 2.5e+00, 3.0e+03, 1.8e+02, 5.0e+00])"
                    },
                    "execution_count": null
                }
            ]
        },
        {
            "id": "3908ab5c",
            "cell_type": "markdown",
            "source": "Or a format where the ``-`` sign comes after the number:\n",
            "metadata": {}
        },
        {
            "id": "a53b457f",
            "cell_type": "code",
            "metadata": {},
            "execution_count": null,
            "source": "s = StringIO(\"10.01 31.25-\\n19.22 64.31\\n17.57- 63.94\")\nconv = lambda x: -float(x[:-1]) if x.endswith(\"-\") else float(x)\nnp.loadtxt(s, converters=conv)",
            "outputs": [
                {
                    "output_type": "execute_result",
                    "metadata": {},
                    "data": {
                        "text/plain": "array([[ 10.01, -31.25],\n       [ 19.22,  64.31],\n       [-17.57,  63.94]])"
                    },
                    "execution_count": null
                }
            ]
        },
        {
            "id": "6135c0a8",
            "cell_type": "markdown",
            "source": "Support for quoted fields is enabled with the `quotechar` parameter.\nComment and delimiter characters are ignored when they appear within a\nquoted item delineated by `quotechar`:\n",
            "metadata": {}
        },
        {
            "id": "5236e956",
            "cell_type": "code",
            "metadata": {},
            "execution_count": null,
            "source": "s = StringIO('\"alpha, #42\", 10.0\\n\"beta, #64\", 2.0\\n')\ndtype = np.dtype([(\"label\", \"U12\"), (\"value\", float)])\nnp.loadtxt(s, dtype=dtype, delimiter=\",\", quotechar='\"')",
            "outputs": [
                {
                    "output_type": "execute_result",
                    "metadata": {},
                    "data": {
                        "text/plain": "array([('alpha, #42', 10.), ('beta, #64',  2.)],\n      dtype=[('label', '<U12'), ('value', '<f8')])"
                    },
                    "execution_count": null
                }
            ]
        },
        {
            "id": "64c7dfc7",
            "cell_type": "markdown",
            "source": "Quoted fields can be separated by multiple whitespace characters:\n",
            "metadata": {}
        },
        {
            "id": "4ab427da",
            "cell_type": "code",
            "metadata": {},
            "execution_count": null,
            "source": "s = StringIO('\"alpha, #42\"       10.0\\n\"beta, #64\" 2.0\\n')\ndtype = np.dtype([(\"label\", \"U12\"), (\"value\", float)])\nnp.loadtxt(s, dtype=dtype, delimiter=None, quotechar='\"')",
            "outputs": [
                {
                    "output_type": "execute_result",
                    "metadata": {},
                    "data": {
                        "text/plain": "array([('alpha, #42', 10.), ('beta, #64',  2.)],\n      dtype=[('label', '<U12'), ('value', '<f8')])"
                    },
                    "execution_count": null
                }
            ]
        },
        {
            "id": "bbe175e8",
            "cell_type": "markdown",
            "source": "Two consecutive quote characters within a quoted field are treated as a\nsingle escaped character:\n",
            "metadata": {}
        },
        {
            "id": "532e183c",
            "cell_type": "code",
            "metadata": {},
            "execution_count": null,
            "source": "s = StringIO('\"Hello, my name is \"\"Monty\"\"!\"')\nnp.loadtxt(s, dtype=\"U\", delimiter=\",\", quotechar='\"')",
            "outputs": [
                {
                    "output_type": "execute_result",
                    "metadata": {},
                    "data": {
                        "text/plain": "array('Hello, my name is \"Monty\"!', dtype='<U26')"
                    },
                    "execution_count": null
                }
            ]
        },
        {
            "id": "8902ecb1",
            "cell_type": "markdown",
            "source": "Read subset of columns when all rows do not contain equal number of values:\n",
            "metadata": {}
        },
        {
            "id": "8de489af",
            "cell_type": "code",
            "metadata": {},
            "execution_count": null,
            "source": "d = StringIO(\"1 2\\n2 4\\n3 9 12\\n4 16 20\")\nnp.loadtxt(d, usecols=(0, 1))",
            "outputs": [
                {
                    "output_type": "execute_result",
                    "metadata": {},
                    "data": {
                        "text/plain": "array([[ 1.,  2.],\n       [ 2.,  4.],\n       [ 3.,  9.],\n       [ 4., 16.]])"
                    },
                    "execution_count": null
                }
            ]
        }
    ]
}