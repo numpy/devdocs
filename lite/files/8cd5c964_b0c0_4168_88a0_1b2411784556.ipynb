{
    "nbformat": 4,
    "nbformat_minor": 5,
    "metadata": {
        "kernelspec": {
            "display_name": "Python",
            "language": "python",
            "name": "python"
        },
        "language_info": {
            "name": "python"
        }
    },
    "cells": [
        {
            "id": "982a4360",
            "cell_type": "markdown",
            "source": "<div class='alert alert-warning'>\n\nNumPy's interactive examples are experimental and may not always work as expected, with high load times especially on low-resource platforms, and the version of NumPy might not be in sync with the one you are browsing the documentation for. If you encounter any issues, please report them on the [NumPy issue tracker](https://github.com/numpy/numpy/issues).\n\n</div>",
            "metadata": {}
        },
        {
            "id": "9ba8155d",
            "cell_type": "markdown",
            "source": "Basic usage. Note how y is the \"flattened\" version of\n[a[:, 0, :], a[:, 1, 0], a[:, 2, :]] since we specified\nthe first iter's axes as [1]\n",
            "metadata": {}
        },
        {
            "id": "1f668584",
            "cell_type": "code",
            "metadata": {},
            "execution_count": null,
            "source": "import numpy as np\na = np.arange(12).reshape(2, 3, 2)\ni, j = np.nested_iters(a, [[1], [0, 2]], flags=[\"multi_index\"])\nfor x in i:\n     print(i.multi_index)\n     for y in j:\n         print('', j.multi_index, y)",
            "outputs": [
                {
                    "output_type": "execute_result",
                    "metadata": {},
                    "data": {
                        "text/plain": "(0,)\n (0, 0) 0\n (0, 1) 1\n (1, 0) 6\n (1, 1) 7\n(1,)\n (0, 0) 2\n (0, 1) 3\n (1, 0) 8\n (1, 1) 9\n(2,)\n (0, 0) 4\n (0, 1) 5\n (1, 0) 10\n (1, 1) 11"
                    },
                    "execution_count": null
                }
            ]
        }
    ]
}