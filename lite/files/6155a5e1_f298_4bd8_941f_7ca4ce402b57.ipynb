{
    "nbformat": 4,
    "nbformat_minor": 5,
    "metadata": {
        "kernelspec": {
            "display_name": "Python",
            "language": "python",
            "name": "python"
        },
        "language_info": {
            "name": "python"
        }
    },
    "cells": [
        {
            "id": "d3d304a5",
            "cell_type": "markdown",
            "source": "<div class='alert alert-warning'>\n\nNumPy's interactive examples are experimental and may not always work as expected, with high load times especially on low-resource platforms, and the version of NumPy might not be in sync with the one you are browsing the documentation for. If you encounter any issues, please report them on the [NumPy issue tracker](https://github.com/numpy/numpy/issues).\n\n</div>",
            "metadata": {}
        },
        {
            "id": "9a9c9d24",
            "cell_type": "code",
            "metadata": {},
            "execution_count": null,
            "source": "a = b'\\x01\\x02\\x03abc'\nnp.rec.fromstring(a, dtype='u1,u1,u1,S3')",
            "outputs": [
                {
                    "output_type": "execute_result",
                    "metadata": {},
                    "data": {
                        "text/plain": "rec.array([(1, 2, 3, b'abc')],\n        dtype=[('f0', 'u1'), ('f1', 'u1'), ('f2', 'u1'), ('f3', 'S3')])"
                    },
                    "execution_count": null
                }
            ]
        },
        {
            "id": "56d0ba2f",
            "cell_type": "code",
            "metadata": {},
            "execution_count": null,
            "source": "grades_dtype = [('Name', (np.str_, 10)), ('Marks', np.float64),\n                ('GradeLevel', np.int32)]\ngrades_array = np.array([('Sam', 33.3, 3), ('Mike', 44.4, 5),\n                        ('Aadi', 66.6, 6)], dtype=grades_dtype)\nnp.rec.fromstring(grades_array.tobytes(), dtype=grades_dtype)",
            "outputs": [
                {
                    "output_type": "execute_result",
                    "metadata": {},
                    "data": {
                        "text/plain": "rec.array([('Sam', 33.3, 3), ('Mike', 44.4, 5), ('Aadi', 66.6, 6)],\n        dtype=[('Name', '<U10'), ('Marks', '<f8'), ('GradeLevel', '<i4')])"
                    },
                    "execution_count": null
                }
            ]
        },
        {
            "id": "f9001114",
            "cell_type": "code",
            "metadata": {},
            "execution_count": null,
            "source": "s = '\\x01\\x02\\x03abc'\nnp.rec.fromstring(s, dtype='u1,u1,u1,S3')",
            "outputs": [
                {
                    "output_type": "execute_result",
                    "metadata": {},
                    "data": {
                        "text/plain": "Traceback (most recent call last):\n   ...\nTypeError: a bytes-like object is required, not 'str'"
                    },
                    "execution_count": null
                }
            ]
        }
    ]
}