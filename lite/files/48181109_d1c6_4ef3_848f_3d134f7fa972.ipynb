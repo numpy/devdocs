{
    "nbformat": 4,
    "nbformat_minor": 5,
    "metadata": {
        "kernelspec": {
            "display_name": "Python",
            "language": "python",
            "name": "python"
        },
        "language_info": {
            "name": "python"
        }
    },
    "cells": [
        {
            "id": "fcbac962",
            "cell_type": "markdown",
            "source": "<div class='alert alert-warning'>\n\nNumPy's interactive examples are experimental and may not always work as expected, with high load times especially on low-resource platforms, and the version of NumPy might not be in sync with the one you are browsing the documentation for. If you encounter any issues, please report them on the [NumPy issue tracker](https://github.com/numpy/numpy/issues).\n\n</div>",
            "metadata": {}
        },
        {
            "id": "bb1e78f1",
            "cell_type": "code",
            "metadata": {},
            "execution_count": null,
            "source": "arr = np.arange(10)\nnp.random.shuffle(arr)\narr",
            "outputs": [
                {
                    "output_type": "execute_result",
                    "metadata": {},
                    "data": {
                        "text/plain": "[1 7 5 2 9 4 3 6 0 8] # random"
                    },
                    "execution_count": null
                }
            ]
        },
        {
            "id": "b22de75f",
            "cell_type": "markdown",
            "source": "Multi-dimensional arrays are only shuffled along the first axis:\n",
            "metadata": {}
        },
        {
            "id": "16ba6d70",
            "cell_type": "code",
            "metadata": {},
            "execution_count": null,
            "source": "arr = np.arange(9).reshape((3, 3))\nnp.random.shuffle(arr)\narr",
            "outputs": [
                {
                    "output_type": "execute_result",
                    "metadata": {},
                    "data": {
                        "text/plain": "array([[3, 4, 5], # random\n       [6, 7, 8],\n       [0, 1, 2]])"
                    },
                    "execution_count": null
                }
            ]
        }
    ]
}