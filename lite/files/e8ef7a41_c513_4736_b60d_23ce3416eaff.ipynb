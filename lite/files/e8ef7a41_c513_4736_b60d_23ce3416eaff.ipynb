{
    "nbformat": 4,
    "nbformat_minor": 5,
    "metadata": {
        "kernelspec": {
            "display_name": "Python",
            "language": "python",
            "name": "python"
        },
        "language_info": {
            "name": "python"
        }
    },
    "cells": [
        {
            "id": "3d9d15d0",
            "cell_type": "markdown",
            "source": "<div class='alert alert-warning'>\n\nNumPy's interactive examples are experimental and may not always work as expected, with high load times especially on low-resource platforms, and the version of NumPy might not be in sync with the one you are browsing the documentation for. If you encounter any issues, please report them on the [NumPy issue tracker](https://github.com/numpy/numpy/issues).\n\n</div>",
            "metadata": {}
        },
        {
            "id": "dd2a39d5",
            "cell_type": "code",
            "metadata": {},
            "execution_count": null,
            "source": "self.feature_untied([\"SSE2\", \"SSE3\", \"SSE41\"])",
            "outputs": [
                {
                    "output_type": "execute_result",
                    "metadata": {},
                    "data": {
                        "text/plain": "[\"SSE2\", \"SSE3\", \"SSE41\"]\n# assume AVX2 and FMA3 implies each other"
                    },
                    "execution_count": null
                }
            ]
        },
        {
            "id": "96e10a7f",
            "cell_type": "code",
            "metadata": {},
            "execution_count": null,
            "source": "self.feature_untied([\"SSE2\", \"SSE3\", \"SSE41\", \"FMA3\", \"AVX2\"])",
            "outputs": [
                {
                    "output_type": "execute_result",
                    "metadata": {},
                    "data": {
                        "text/plain": "[\"SSE2\", \"SSE3\", \"SSE41\", \"AVX2\"]"
                    },
                    "execution_count": null
                }
            ]
        }
    ]
}