{
    "nbformat": 4,
    "nbformat_minor": 5,
    "metadata": {
        "kernelspec": {
            "display_name": "Python",
            "language": "python",
            "name": "python"
        },
        "language_info": {
            "name": "python"
        }
    },
    "cells": [
        {
            "id": "f9cf1a9c",
            "cell_type": "markdown",
            "source": "<div class='alert alert-warning'>\n\nNumPy's interactive examples are experimental and may not always work as expected, with high load times especially on low-resource platforms, and the version of NumPy might not be in sync with the one you are browsing the documentation for. If you encounter any issues, please report them on the [NumPy issue tracker](https://github.com/numpy/numpy/issues).\n\n</div>",
            "metadata": {}
        },
        {
            "id": "a74533cc",
            "cell_type": "code",
            "metadata": {},
            "execution_count": null,
            "source": "from numpy.polynomial.hermite_e import hermefromroots, hermeval\ncoef = hermefromroots((-1, 0, 1))\nhermeval((-1, 0, 1), coef)",
            "outputs": [
                {
                    "output_type": "execute_result",
                    "metadata": {},
                    "data": {
                        "text/plain": "array([0., 0., 0.])"
                    },
                    "execution_count": null
                }
            ]
        },
        {
            "id": "84ac95b9",
            "cell_type": "code",
            "metadata": {},
            "execution_count": null,
            "source": "coef = hermefromroots((-1j, 1j))\nhermeval((-1j, 1j), coef)",
            "outputs": [
                {
                    "output_type": "execute_result",
                    "metadata": {},
                    "data": {
                        "text/plain": "array([0.+0.j, 0.+0.j])"
                    },
                    "execution_count": null
                }
            ]
        }
    ]
}