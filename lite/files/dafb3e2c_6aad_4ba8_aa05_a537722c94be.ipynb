{
    "nbformat": 4,
    "nbformat_minor": 5,
    "metadata": {
        "kernelspec": {
            "display_name": "Python",
            "language": "python",
            "name": "python"
        },
        "language_info": {
            "name": "python"
        }
    },
    "cells": [
        {
            "id": "db8344aa",
            "cell_type": "markdown",
            "source": "<div class='alert alert-warning'>\n\nNumPy's interactive examples are experimental and may not always work as expected, with high load times especially on low-resource platforms, and the version of NumPy might not be in sync with the one you are browsing the documentation for. If you encounter any issues, please report them on the [NumPy issue tracker](https://github.com/numpy/numpy/issues).\n\n</div>",
            "metadata": {}
        },
        {
            "id": "ba77f89d",
            "cell_type": "code",
            "metadata": {},
            "execution_count": null,
            "source": "import numpy as np\nfrom numpy.lib import recfunctions as rfn\nx = np.array([1, 2,])\nrfn.stack_arrays(x) is x",
            "outputs": [
                {
                    "output_type": "execute_result",
                    "metadata": {},
                    "data": {
                        "text/plain": "True"
                    },
                    "execution_count": null
                }
            ]
        },
        {
            "id": "83bb92d1",
            "cell_type": "code",
            "metadata": {},
            "execution_count": null,
            "source": "z = np.array([('A', 1), ('B', 2)], dtype=[('A', '|S3'), ('B', float)])\nzz = np.array([('a', 10., 100.), ('b', 20., 200.), ('c', 30., 300.)],\n  dtype=[('A', '|S3'), ('B', np.double), ('C', np.double)])\ntest = rfn.stack_arrays((z,zz))\ntest",
            "outputs": [
                {
                    "output_type": "execute_result",
                    "metadata": {},
                    "data": {
                        "text/plain": "masked_array(data=[(b'A', 1.0, --), (b'B', 2.0, --), (b'a', 10.0, 100.0),\n                   (b'b', 20.0, 200.0), (b'c', 30.0, 300.0)],\n             mask=[(False, False,  True), (False, False,  True),\n                   (False, False, False), (False, False, False),\n                   (False, False, False)],\n       fill_value=(b'N/A', 1e+20, 1e+20),\n            dtype=[('A', 'S3'), ('B', '<f8'), ('C', '<f8')])"
                    },
                    "execution_count": null
                }
            ]
        }
    ]
}