{
    "nbformat": 4,
    "nbformat_minor": 5,
    "metadata": {
        "kernelspec": {
            "display_name": "Python",
            "language": "python",
            "name": "python"
        },
        "language_info": {
            "name": "python"
        }
    },
    "cells": [
        {
            "id": "25b77e50",
            "cell_type": "markdown",
            "source": "<div class='alert alert-warning'>\n\nNumPy's interactive examples are experimental and may not always work as expected, with high load times especially on low-resource platforms, and the version of NumPy might not be in sync with the one you are browsing the documentation for. If you encounter any issues, please report them on the [NumPy issue tracker](https://github.com/numpy/numpy/issues).\n\n</div>",
            "metadata": {}
        },
        {
            "id": "3dc3f1cf",
            "cell_type": "code",
            "metadata": {},
            "execution_count": null,
            "source": "from numpy.polynomial import polyutils as pu\npu.trimcoef((0,0,3,0,5,0,0))",
            "outputs": [
                {
                    "output_type": "execute_result",
                    "metadata": {},
                    "data": {
                        "text/plain": "array([0.,  0.,  3.,  0.,  5.])"
                    },
                    "execution_count": null
                }
            ]
        },
        {
            "id": "a4bad126",
            "cell_type": "code",
            "metadata": {},
            "execution_count": null,
            "source": "pu.trimcoef((0,0,1e-3,0,1e-5,0,0),1e-3) # item == tol is trimmed",
            "outputs": [
                {
                    "output_type": "execute_result",
                    "metadata": {},
                    "data": {
                        "text/plain": "array([0.])"
                    },
                    "execution_count": null
                }
            ]
        },
        {
            "id": "f2b09c88",
            "cell_type": "code",
            "metadata": {},
            "execution_count": null,
            "source": "i = complex(0,1) # works for complex\npu.trimcoef((3e-4,1e-3*(1-i),5e-4,2e-5*(1+i)), 1e-3)",
            "outputs": [
                {
                    "output_type": "execute_result",
                    "metadata": {},
                    "data": {
                        "text/plain": "array([0.0003+0.j   , 0.001 -0.001j])"
                    },
                    "execution_count": null
                }
            ]
        }
    ]
}