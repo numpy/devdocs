{
    "nbformat": 4,
    "nbformat_minor": 5,
    "metadata": {
        "kernelspec": {
            "display_name": "Python",
            "language": "python",
            "name": "python"
        },
        "language_info": {
            "name": "python"
        }
    },
    "cells": [
        {
            "id": "6ceda784",
            "cell_type": "markdown",
            "source": "<div class='alert alert-warning'>\n\nNumPy's interactive examples are experimental and may not always work as expected, with high load times especially on low-resource platforms, and the version of NumPy might not be in sync with the one you are browsing the documentation for. If you encounter any issues, please report them on the [NumPy issue tracker](https://github.com/numpy/numpy/issues).\n\n</div>",
            "metadata": {}
        },
        {
            "id": "e199fd7a",
            "cell_type": "code",
            "metadata": {},
            "execution_count": null,
            "source": "import numpy as np",
            "outputs": []
        },
        {
            "id": "5ac1d493",
            "cell_type": "markdown",
            "source": "Create an array with negative values masked:\n",
            "metadata": {}
        },
        {
            "id": "33891db4",
            "cell_type": "code",
            "metadata": {},
            "execution_count": null,
            "source": "import numpy as np\nx = np.array([[1, -1, 0], [2, -1, 3], [7, 4, -1]])\nmasked_x = np.ma.masked_array(x, mask=x < 0)\nmasked_x",
            "outputs": [
                {
                    "output_type": "execute_result",
                    "metadata": {},
                    "data": {
                        "text/plain": "masked_array(\n  data=[[1, --, 0],\n        [2, --, 3],\n        [7, 4, --]],\n  mask=[[False,  True, False],\n        [False,  True, False],\n        [False, False,  True]],\n  fill_value=999999)"
                    },
                    "execution_count": null
                }
            ]
        },
        {
            "id": "794713d1",
            "cell_type": "markdown",
            "source": "Compress the masked array into a 1-D array of non-masked values:\n",
            "metadata": {}
        },
        {
            "id": "c83f2191",
            "cell_type": "code",
            "metadata": {},
            "execution_count": null,
            "source": "np.ma.compressed(masked_x)",
            "outputs": [
                {
                    "output_type": "execute_result",
                    "metadata": {},
                    "data": {
                        "text/plain": "array([1, 0, 2, 3, 7, 4])"
                    },
                    "execution_count": null
                }
            ]
        }
    ]
}