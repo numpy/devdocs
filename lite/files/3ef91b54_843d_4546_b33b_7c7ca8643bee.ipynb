{
    "nbformat": 4,
    "nbformat_minor": 5,
    "metadata": {
        "kernelspec": {
            "display_name": "Python",
            "language": "python",
            "name": "python"
        },
        "language_info": {
            "name": "python"
        }
    },
    "cells": [
        {
            "id": "ed1cff57",
            "cell_type": "markdown",
            "source": "<div class='alert alert-warning'>\n\nNumPy's interactive examples are experimental and may not always work as expected, with high load times especially on low-resource platforms, and the version of NumPy might not be in sync with the one you are browsing the documentation for. If you encounter any issues, please report them on the [NumPy issue tracker](https://github.com/numpy/numpy/issues).\n\n</div>",
            "metadata": {}
        },
        {
            "id": "9fea8440",
            "cell_type": "markdown",
            "source": "Rotate a set of vectors from Y to X along Z.\n",
            "metadata": {}
        },
        {
            "id": "13deb444",
            "cell_type": "code",
            "metadata": {},
            "execution_count": null,
            "source": "a = np.array([[0., 1., 0.],\n              [-1., 0., 0.],\n              [0., 0., 1.]])\nv = np.array([[1., 0., 0.],\n              [0., 1., 0.],\n              [0., 0., 1.],\n              [0., 6., 8.]])\nnp.matvec(a, v)",
            "outputs": [
                {
                    "output_type": "execute_result",
                    "metadata": {},
                    "data": {
                        "text/plain": "array([[ 0., -1.,  0.],\n       [ 1.,  0.,  0.],\n       [ 0.,  0.,  1.],\n       [ 6.,  0.,  8.]])"
                    },
                    "execution_count": null
                }
            ]
        }
    ]
}