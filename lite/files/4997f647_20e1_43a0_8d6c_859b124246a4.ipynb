{
    "nbformat": 4,
    "nbformat_minor": 5,
    "metadata": {
        "kernelspec": {
            "display_name": "Python",
            "language": "python",
            "name": "python"
        },
        "language_info": {
            "name": "python"
        }
    },
    "cells": [
        {
            "id": "2bda4ecd",
            "cell_type": "markdown",
            "source": "<div class='alert alert-warning'>\n\nNumPy's interactive examples are experimental and may not always work as expected, with high load times especially on low-resource platforms, and the version of NumPy might not be in sync with the one you are browsing the documentation for. If you encounter any issues, please report them on the [NumPy issue tracker](https://github.com/numpy/numpy/issues).\n\n</div>",
            "metadata": {}
        },
        {
            "id": "a8664496",
            "cell_type": "code",
            "metadata": {},
            "execution_count": null,
            "source": "import numpy as np\na = np.arange(9).reshape((3,3))\na = np.ma.array(a)\na[1, 0] = np.ma.masked\na[1, 2] = np.ma.masked\na[2, 1] = np.ma.masked\na",
            "outputs": [
                {
                    "output_type": "execute_result",
                    "metadata": {},
                    "data": {
                        "text/plain": "masked_array(\n  data=[[0, 1, 2],\n        [--, 4, --],\n        [6, --, 8]],\n  mask=[[False, False, False],\n        [ True, False,  True],\n        [False,  True, False]],\n  fill_value=999999)"
                    },
                    "execution_count": null
                }
            ]
        },
        {
            "id": "6d3ae361",
            "cell_type": "code",
            "metadata": {},
            "execution_count": null,
            "source": "np.ma.count_masked(a)",
            "outputs": [
                {
                    "output_type": "execute_result",
                    "metadata": {},
                    "data": {
                        "text/plain": "3"
                    },
                    "execution_count": null
                }
            ]
        },
        {
            "id": "da171306",
            "cell_type": "markdown",
            "source": "When the `axis` keyword is used an array is returned.\n",
            "metadata": {}
        },
        {
            "id": "fb36a9d3",
            "cell_type": "code",
            "metadata": {},
            "execution_count": null,
            "source": "np.ma.count_masked(a, axis=0)",
            "outputs": [
                {
                    "output_type": "execute_result",
                    "metadata": {},
                    "data": {
                        "text/plain": "array([1, 1, 1])"
                    },
                    "execution_count": null
                }
            ]
        },
        {
            "id": "58a01111",
            "cell_type": "code",
            "metadata": {},
            "execution_count": null,
            "source": "np.ma.count_masked(a, axis=1)",
            "outputs": [
                {
                    "output_type": "execute_result",
                    "metadata": {},
                    "data": {
                        "text/plain": "array([0, 2, 1])"
                    },
                    "execution_count": null
                }
            ]
        }
    ]
}