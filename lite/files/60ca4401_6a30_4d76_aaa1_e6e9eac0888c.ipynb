{
    "nbformat": 4,
    "nbformat_minor": 5,
    "metadata": {
        "kernelspec": {
            "display_name": "Python",
            "language": "python",
            "name": "python"
        },
        "language_info": {
            "name": "python"
        }
    },
    "cells": [
        {
            "id": "f383f460",
            "cell_type": "markdown",
            "source": "<div class='alert alert-warning'>\n\nNumPy's interactive examples are experimental and may not always work as expected, with high load times especially on low-resource platforms, and the version of NumPy might not be in sync with the one you are browsing the documentation for. If you encounter any issues, please report them on the [NumPy issue tracker](https://github.com/numpy/numpy/issues).\n\n</div>",
            "metadata": {}
        },
        {
            "id": "e7150ca4",
            "cell_type": "code",
            "metadata": {},
            "execution_count": null,
            "source": "import numpy as np\nnp.rec.format_parser(['<f8', '<i4'], ['col1', 'col2'],\n                     ['T1', 'T2']).dtype",
            "outputs": [
                {
                    "output_type": "execute_result",
                    "metadata": {},
                    "data": {
                        "text/plain": "dtype([(('T1', 'col1'), '<f8'), (('T2', 'col2'), '<i4')])"
                    },
                    "execution_count": null
                }
            ]
        },
        {
            "id": "77b598a3",
            "cell_type": "markdown",
            "source": "`names` and/or `titles` can be empty lists. If `titles` is an empty list,\ntitles will simply not appear. If `names` is empty, default field names\nwill be used.\n",
            "metadata": {}
        },
        {
            "id": "88693b27",
            "cell_type": "code",
            "metadata": {},
            "execution_count": null,
            "source": "np.rec.format_parser(['f8', 'i4', 'a5'], ['col1', 'col2', 'col3'],\n                     []).dtype",
            "outputs": [
                {
                    "output_type": "execute_result",
                    "metadata": {},
                    "data": {
                        "text/plain": "dtype([('col1', '<f8'), ('col2', '<i4'), ('col3', '<S5')])"
                    },
                    "execution_count": null
                }
            ]
        },
        {
            "id": "33fa410b",
            "cell_type": "code",
            "metadata": {},
            "execution_count": null,
            "source": "np.rec.format_parser(['<f8', '<i4', '<a5'], [], []).dtype",
            "outputs": [
                {
                    "output_type": "execute_result",
                    "metadata": {},
                    "data": {
                        "text/plain": "dtype([('f0', '<f8'), ('f1', '<i4'), ('f2', 'S5')])"
                    },
                    "execution_count": null
                }
            ]
        }
    ]
}