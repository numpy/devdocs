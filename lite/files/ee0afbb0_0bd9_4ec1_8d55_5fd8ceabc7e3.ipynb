{
    "nbformat": 4,
    "nbformat_minor": 5,
    "metadata": {
        "kernelspec": {
            "display_name": "Python",
            "language": "python",
            "name": "python"
        },
        "language_info": {
            "name": "python"
        }
    },
    "cells": [
        {
            "id": "cc8c556a",
            "cell_type": "markdown",
            "source": "<div class='alert alert-warning'>\n\nNumPy's interactive examples are experimental and may not always work as expected, with high load times especially on low-resource platforms, and the version of NumPy might not be in sync with the one you are browsing the documentation for. If you encounter any issues, please report them on the [NumPy issue tracker](https://github.com/numpy/numpy/issues).\n\n</div>",
            "metadata": {}
        },
        {
            "id": "f9f84a99",
            "cell_type": "code",
            "metadata": {},
            "execution_count": null,
            "source": "import numpy as np\niterable = (x*x for x in range(5))\nnp.fromiter(iterable, float)",
            "outputs": [
                {
                    "output_type": "execute_result",
                    "metadata": {},
                    "data": {
                        "text/plain": "array([  0.,   1.,   4.,   9.,  16.])"
                    },
                    "execution_count": null
                }
            ]
        },
        {
            "id": "4614aa8b",
            "cell_type": "markdown",
            "source": "A carefully constructed subarray dtype will lead to higher dimensional\nresults:\n",
            "metadata": {}
        },
        {
            "id": "a994e886",
            "cell_type": "code",
            "metadata": {},
            "execution_count": null,
            "source": "iterable = ((x+1, x+2) for x in range(5))\nnp.fromiter(iterable, dtype=np.dtype((int, 2)))",
            "outputs": [
                {
                    "output_type": "execute_result",
                    "metadata": {},
                    "data": {
                        "text/plain": "array([[1, 2],\n       [2, 3],\n       [3, 4],\n       [4, 5],\n       [5, 6]])"
                    },
                    "execution_count": null
                }
            ]
        }
    ]
}