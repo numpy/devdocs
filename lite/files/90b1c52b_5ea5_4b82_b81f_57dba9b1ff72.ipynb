{
    "nbformat": 4,
    "nbformat_minor": 5,
    "metadata": {
        "kernelspec": {
            "display_name": "Python",
            "language": "python",
            "name": "python"
        },
        "language_info": {
            "name": "python"
        }
    },
    "cells": [
        {
            "id": "923d7b86",
            "cell_type": "markdown",
            "source": "<div class='alert alert-warning'>\n\nNumPy's interactive examples are experimental and may not always work as expected, with high load times especially on low-resource platforms, and the version of NumPy might not be in sync with the one you are browsing the documentation for. If you encounter any issues, please report them on the [NumPy issue tracker](https://github.com/numpy/numpy/issues).\n\n</div>",
            "metadata": {}
        },
        {
            "id": "b7a03474",
            "cell_type": "code",
            "metadata": {},
            "execution_count": null,
            "source": "import numpy as np\nnp.set_printoptions(precision=4)",
            "outputs": []
        },
        {
            "id": "54347a1e",
            "cell_type": "code",
            "metadata": {},
            "execution_count": null,
            "source": "np.emath.logn(2, [4, 8])",
            "outputs": [
                {
                    "output_type": "execute_result",
                    "metadata": {},
                    "data": {
                        "text/plain": "array([2., 3.])"
                    },
                    "execution_count": null
                }
            ]
        },
        {
            "id": "afe97813",
            "cell_type": "code",
            "metadata": {},
            "execution_count": null,
            "source": "np.emath.logn(2, [-4, -8, 8])",
            "outputs": [
                {
                    "output_type": "execute_result",
                    "metadata": {},
                    "data": {
                        "text/plain": "array([2.+4.5324j, 3.+4.5324j, 3.+0.j    ])"
                    },
                    "execution_count": null
                }
            ]
        }
    ]
}