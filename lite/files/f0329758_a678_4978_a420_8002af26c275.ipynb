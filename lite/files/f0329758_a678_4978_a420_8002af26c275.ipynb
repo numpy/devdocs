{
    "nbformat": 4,
    "nbformat_minor": 5,
    "metadata": {
        "kernelspec": {
            "display_name": "Python",
            "language": "python",
            "name": "python"
        },
        "language_info": {
            "name": "python"
        }
    },
    "cells": [
        {
            "id": "5c2f5ca8",
            "cell_type": "markdown",
            "source": "<div class='alert alert-warning'>\n\nNumPy's interactive examples are experimental and may not always work as expected, with high load times especially on low-resource platforms, and the version of NumPy might not be in sync with the one you are browsing the documentation for. If you encounter any issues, please report them on the [NumPy issue tracker](https://github.com/numpy/numpy/issues).\n\n</div>",
            "metadata": {}
        },
        {
            "id": "3c0e6e59",
            "cell_type": "code",
            "metadata": {},
            "execution_count": null,
            "source": "import numpy as np\nnp.ldexp(5, np.arange(4))",
            "outputs": [
                {
                    "output_type": "execute_result",
                    "metadata": {},
                    "data": {
                        "text/plain": "array([ 5., 10., 20., 40.], dtype=float16)"
                    },
                    "execution_count": null
                }
            ]
        },
        {
            "id": "63c3d9d6",
            "cell_type": "code",
            "metadata": {},
            "execution_count": null,
            "source": "x = np.arange(6)\nnp.ldexp(*np.frexp(x))",
            "outputs": [
                {
                    "output_type": "execute_result",
                    "metadata": {},
                    "data": {
                        "text/plain": "array([ 0.,  1.,  2.,  3.,  4.,  5.])"
                    },
                    "execution_count": null
                }
            ]
        }
    ]
}