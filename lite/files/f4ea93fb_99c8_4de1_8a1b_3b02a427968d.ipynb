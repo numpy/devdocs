{
    "nbformat": 4,
    "nbformat_minor": 5,
    "metadata": {
        "kernelspec": {
            "display_name": "Python",
            "language": "python",
            "name": "python"
        },
        "language_info": {
            "name": "python"
        }
    },
    "cells": [
        {
            "id": "5ea680a4",
            "cell_type": "markdown",
            "source": "<div class='alert alert-warning'>\n\nNumPy's interactive examples are experimental and may not always work as expected, with high load times especially on low-resource platforms, and the version of NumPy might not be in sync with the one you are browsing the documentation for. If you encounter any issues, please report them on the [NumPy issue tracker](https://github.com/numpy/numpy/issues).\n\n</div>",
            "metadata": {}
        },
        {
            "id": "e918b7c0",
            "cell_type": "code",
            "metadata": {},
            "execution_count": null,
            "source": "import numpy as np",
            "outputs": []
        },
        {
            "id": "f2d61b41",
            "cell_type": "code",
            "metadata": {},
            "execution_count": null,
            "source": "np.array([0, 1577836800], dtype='datetime64[s]')",
            "outputs": [
                {
                    "output_type": "execute_result",
                    "metadata": {},
                    "data": {
                        "text/plain": "array(['1970-01-01T00:00:00', '2020-01-01T00:00:00'],\n      dtype='datetime64[s]')"
                    },
                    "execution_count": null
                }
            ]
        },
        {
            "id": "c6dfa34e",
            "cell_type": "code",
            "metadata": {},
            "execution_count": null,
            "source": "np.array([0, 1577836800000]).astype('datetime64[ms]')",
            "outputs": [
                {
                    "output_type": "execute_result",
                    "metadata": {},
                    "data": {
                        "text/plain": "array(['1970-01-01T00:00:00.000', '2020-01-01T00:00:00.000'],\n      dtype='datetime64[ms]')"
                    },
                    "execution_count": null
                }
            ]
        }
    ]
}