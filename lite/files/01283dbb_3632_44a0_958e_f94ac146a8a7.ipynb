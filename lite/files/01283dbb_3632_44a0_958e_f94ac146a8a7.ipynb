{
    "nbformat": 4,
    "nbformat_minor": 5,
    "metadata": {
        "kernelspec": {
            "display_name": "Python",
            "language": "python",
            "name": "python"
        },
        "language_info": {
            "name": "python"
        }
    },
    "cells": [
        {
            "id": "c0be5a61",
            "cell_type": "markdown",
            "source": "<div class='alert alert-warning'>\n\nNumPy's interactive examples are experimental and may not always work as expected, with high load times especially on low-resource platforms, and the version of NumPy might not be in sync with the one you are browsing the documentation for. If you encounter any issues, please report them on the [NumPy issue tracker](https://github.com/numpy/numpy/issues).\n\n</div>",
            "metadata": {}
        },
        {
            "id": "42c0f5bf",
            "cell_type": "code",
            "metadata": {},
            "execution_count": null,
            "source": "import numpy as np\nnp.maximum([2, 3, 4], [1, 5, 2])",
            "outputs": [
                {
                    "output_type": "execute_result",
                    "metadata": {},
                    "data": {
                        "text/plain": "array([2, 5, 4])"
                    },
                    "execution_count": null
                }
            ]
        },
        {
            "id": "b5e11fca",
            "cell_type": "code",
            "metadata": {},
            "execution_count": null,
            "source": "np.maximum(np.eye(2), [0.5, 2]) # broadcasting",
            "outputs": [
                {
                    "output_type": "execute_result",
                    "metadata": {},
                    "data": {
                        "text/plain": "array([[ 1. ,  2. ],\n       [ 0.5,  2. ]])"
                    },
                    "execution_count": null
                }
            ]
        },
        {
            "id": "b4a02663",
            "cell_type": "code",
            "metadata": {},
            "execution_count": null,
            "source": "np.maximum([np.nan, 0, np.nan], [0, np.nan, np.nan])",
            "outputs": [
                {
                    "output_type": "execute_result",
                    "metadata": {},
                    "data": {
                        "text/plain": "array([nan, nan, nan])"
                    },
                    "execution_count": null
                }
            ]
        },
        {
            "id": "9239fa1d",
            "cell_type": "code",
            "metadata": {},
            "execution_count": null,
            "source": "np.maximum(np.inf, 1)",
            "outputs": [
                {
                    "output_type": "execute_result",
                    "metadata": {},
                    "data": {
                        "text/plain": "inf"
                    },
                    "execution_count": null
                }
            ]
        }
    ]
}