{
    "nbformat": 4,
    "nbformat_minor": 5,
    "metadata": {
        "kernelspec": {
            "display_name": "Python",
            "language": "python",
            "name": "python"
        },
        "language_info": {
            "name": "python"
        }
    },
    "cells": [
        {
            "id": "fb96a832",
            "cell_type": "markdown",
            "source": "<div class='alert alert-warning'>\n\nNumPy's interactive examples are experimental and may not always work as expected, with high load times especially on low-resource platforms, and the version of NumPy might not be in sync with the one you are browsing the documentation for. If you encounter any issues, please report them on the [NumPy issue tracker](https://github.com/numpy/numpy/issues).\n\n</div>",
            "metadata": {}
        },
        {
            "id": "ab2c979a",
            "cell_type": "code",
            "metadata": {},
            "execution_count": null,
            "source": "import numpy as np\nnp.matrix_transpose([[1, 2], [3, 4]])",
            "outputs": [
                {
                    "output_type": "execute_result",
                    "metadata": {},
                    "data": {
                        "text/plain": "array([[1, 3],\n       [2, 4]])"
                    },
                    "execution_count": null
                }
            ]
        },
        {
            "id": "f3bf8536",
            "cell_type": "code",
            "metadata": {},
            "execution_count": null,
            "source": "np.matrix_transpose([[[1, 2], [3, 4]], [[5, 6], [7, 8]]])",
            "outputs": [
                {
                    "output_type": "execute_result",
                    "metadata": {},
                    "data": {
                        "text/plain": "array([[[1, 3],\n        [2, 4]],\n       [[5, 7],\n        [6, 8]]])"
                    },
                    "execution_count": null
                }
            ]
        }
    ]
}