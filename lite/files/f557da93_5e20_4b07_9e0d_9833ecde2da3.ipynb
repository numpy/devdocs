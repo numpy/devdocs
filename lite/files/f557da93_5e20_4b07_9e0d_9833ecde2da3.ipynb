{
    "nbformat": 4,
    "nbformat_minor": 5,
    "metadata": {
        "kernelspec": {
            "display_name": "Python",
            "language": "python",
            "name": "python"
        },
        "language_info": {
            "name": "python"
        }
    },
    "cells": [
        {
            "id": "d50d8a0c",
            "cell_type": "markdown",
            "source": "<div class='alert alert-warning'>\n\nNumPy's interactive examples are experimental and may not always work as expected, with high load times especially on low-resource platforms, and the version of NumPy might not be in sync with the one you are browsing the documentation for. If you encounter any issues, please report them on the [NumPy issue tracker](https://github.com/numpy/numpy/issues).\n\n</div>",
            "metadata": {}
        },
        {
            "id": "28e8438c",
            "cell_type": "markdown",
            "source": "Here is how we might write an ``iter_add`` function, using the\nPython iterator protocol:\n",
            "metadata": {}
        },
        {
            "id": "cb8efe0f",
            "cell_type": "code",
            "metadata": {},
            "execution_count": null,
            "source": "import numpy as np",
            "outputs": []
        },
        {
            "id": "8cddac65",
            "cell_type": "code",
            "metadata": {},
            "execution_count": null,
            "source": "def iter_add_py(x, y, out=None):\n    addop = np.add\n    it = np.nditer([x, y, out], [],\n                [['readonly'], ['readonly'], ['writeonly','allocate']])\n    with it:\n        for (a, b, c) in it:\n            addop(a, b, out=c)\n        return it.operands[2]",
            "outputs": []
        },
        {
            "id": "0b2e3fb0",
            "cell_type": "markdown",
            "source": "Here is the same function, but following the C-style pattern:\n",
            "metadata": {}
        },
        {
            "id": "bb541a3d",
            "cell_type": "code",
            "metadata": {},
            "execution_count": null,
            "source": "def iter_add(x, y, out=None):\n   addop = np.add\n   it = np.nditer([x, y, out], [],\n               [['readonly'], ['readonly'], ['writeonly','allocate']])\n   with it:\n       while not it.finished:\n           addop(it[0], it[1], out=it[2])\n           it.iternext()\n       return it.operands[2]",
            "outputs": []
        },
        {
            "id": "db10019c",
            "cell_type": "markdown",
            "source": "Here is an example outer product function:\n",
            "metadata": {}
        },
        {
            "id": "39017079",
            "cell_type": "code",
            "metadata": {},
            "execution_count": null,
            "source": "def outer_it(x, y, out=None):\n    mulop = np.multiply\n    it = np.nditer([x, y, out], ['external_loop'],\n            [['readonly'], ['readonly'], ['writeonly', 'allocate']],\n            op_axes=[list(range(x.ndim)) + [-1] * y.ndim,\n                     [-1] * x.ndim + list(range(y.ndim)),\n                     None])\n    with it:\n        for (a, b, c) in it:\n            mulop(a, b, out=c)\n        return it.operands[2]",
            "outputs": []
        },
        {
            "id": "49f9881e",
            "cell_type": "code",
            "metadata": {},
            "execution_count": null,
            "source": "a = np.arange(2)+1\nb = np.arange(3)+1\nouter_it(a,b)",
            "outputs": [
                {
                    "output_type": "execute_result",
                    "metadata": {},
                    "data": {
                        "text/plain": "array([[1, 2, 3],\n       [2, 4, 6]])"
                    },
                    "execution_count": null
                }
            ]
        },
        {
            "id": "8bb2abe6",
            "cell_type": "markdown",
            "source": "Here is an example function which operates like a \"lambda\" ufunc:\n",
            "metadata": {}
        },
        {
            "id": "1992e332",
            "cell_type": "code",
            "metadata": {},
            "execution_count": null,
            "source": "def luf(lamdaexpr, *args, **kwargs):\n   '''luf(lambdaexpr, op1, ..., opn, out=None, order='K', casting='safe', buffersize=0)'''\n   nargs = len(args)\n   op = (kwargs.get('out',None),) + args\n   it = np.nditer(op, ['buffered','external_loop'],\n           [['writeonly','allocate','no_broadcast']] +\n                           [['readonly','nbo','aligned']]*nargs,\n           order=kwargs.get('order','K'),\n           casting=kwargs.get('casting','safe'),\n           buffersize=kwargs.get('buffersize',0))\n   while not it.finished:\n       it[0] = lamdaexpr(*it[1:])\n       it.iternext()\n   return it.operands[0]",
            "outputs": []
        },
        {
            "id": "3f613c91",
            "cell_type": "code",
            "metadata": {},
            "execution_count": null,
            "source": "a = np.arange(5)\nb = np.ones(5)\nluf(lambda i,j:i*i + j/2, a, b)",
            "outputs": [
                {
                    "output_type": "execute_result",
                    "metadata": {},
                    "data": {
                        "text/plain": "array([  0.5,   1.5,   4.5,   9.5,  16.5])"
                    },
                    "execution_count": null
                }
            ]
        },
        {
            "id": "748352af",
            "cell_type": "markdown",
            "source": "If operand flags ``\"writeonly\"`` or ``\"readwrite\"`` are used the\noperands may be views into the original data with the\n`WRITEBACKIFCOPY` flag. In this case `nditer` must be used as a\ncontext manager or the `nditer.close` method must be called before\nusing the result. The temporary data will be written back to the\noriginal data when the :meth:`~object.__exit__` function is called\nbut not before:\n",
            "metadata": {}
        },
        {
            "id": "2cd10c87",
            "cell_type": "code",
            "metadata": {},
            "execution_count": null,
            "source": "a = np.arange(6, dtype='i4')[::-2]\nwith np.nditer(a, [],\n       [['writeonly', 'updateifcopy']],\n       casting='unsafe',\n       op_dtypes=[np.dtype('f4')]) as i:\n   x = i.operands[0]\n   x[:] = [-1, -2, -3]\n   # a still unchanged here\na, x",
            "outputs": [
                {
                    "output_type": "execute_result",
                    "metadata": {},
                    "data": {
                        "text/plain": "(array([-1, -2, -3], dtype=int32), array([-1., -2., -3.], dtype=float32))"
                    },
                    "execution_count": null
                }
            ]
        },
        {
            "id": "25a2d607",
            "cell_type": "markdown",
            "source": "It is important to note that once the iterator is exited, dangling\nreferences (like `x` in the example) may or may not share data with\nthe original data `a`. If writeback semantics were active, i.e. if\n`x.base.flags.writebackifcopy` is `True`, then exiting the iterator\nwill sever the connection between `x` and `a`, writing to `x` will\nno longer write to `a`. If writeback semantics are not active, then\n`x.data` will still point at some part of `a.data`, and writing to\none will affect the other.\n\nContext management and the `close` method appeared in version 1.15.0.",
            "metadata": {}
        }
    ]
}