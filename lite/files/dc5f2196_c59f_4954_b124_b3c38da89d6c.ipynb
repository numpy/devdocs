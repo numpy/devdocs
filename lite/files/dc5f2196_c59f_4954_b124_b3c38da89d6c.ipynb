{
    "nbformat": 4,
    "nbformat_minor": 5,
    "metadata": {
        "kernelspec": {
            "display_name": "Python",
            "language": "python",
            "name": "python"
        },
        "language_info": {
            "name": "python"
        }
    },
    "cells": [
        {
            "id": "eb37352a",
            "cell_type": "markdown",
            "source": "<div class='alert alert-warning'>\n\nNumPy's interactive examples are experimental and may not always work as expected, with high load times especially on low-resource platforms, and the version of NumPy might not be in sync with the one you are browsing the documentation for. If you encounter any issues, please report them on the [NumPy issue tracker](https://github.com/numpy/numpy/issues).\n\n</div>",
            "metadata": {}
        },
        {
            "id": "0a8a1837",
            "cell_type": "code",
            "metadata": {},
            "execution_count": null,
            "source": "import numpy as np",
            "outputs": []
        },
        {
            "id": "a7e165b0",
            "cell_type": "markdown",
            "source": "Dimensions as individual arguments\n",
            "metadata": {}
        },
        {
            "id": "570a513a",
            "cell_type": "code",
            "metadata": {},
            "execution_count": null,
            "source": "for index in np.ndindex(3, 2, 1):\n    print(index)",
            "outputs": [
                {
                    "output_type": "execute_result",
                    "metadata": {},
                    "data": {
                        "text/plain": "(0, 0, 0)\n(0, 1, 0)\n(1, 0, 0)\n(1, 1, 0)\n(2, 0, 0)\n(2, 1, 0)"
                    },
                    "execution_count": null
                }
            ]
        },
        {
            "id": "3a6ff4e6",
            "cell_type": "markdown",
            "source": "Same dimensions - but in a tuple ``(3, 2, 1)``\n",
            "metadata": {}
        },
        {
            "id": "3679dcd6",
            "cell_type": "code",
            "metadata": {},
            "execution_count": null,
            "source": "for index in np.ndindex((3, 2, 1)):\n    print(index)",
            "outputs": [
                {
                    "output_type": "execute_result",
                    "metadata": {},
                    "data": {
                        "text/plain": "(0, 0, 0)\n(0, 1, 0)\n(1, 0, 0)\n(1, 1, 0)\n(2, 0, 0)\n(2, 1, 0)"
                    },
                    "execution_count": null
                }
            ]
        }
    ]
}