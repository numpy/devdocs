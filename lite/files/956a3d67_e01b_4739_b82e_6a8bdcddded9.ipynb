{
    "nbformat": 4,
    "nbformat_minor": 5,
    "metadata": {
        "kernelspec": {
            "display_name": "Python",
            "language": "python",
            "name": "python"
        },
        "language_info": {
            "name": "python"
        }
    },
    "cells": [
        {
            "id": "c2d7a7b5",
            "cell_type": "markdown",
            "source": "<div class='alert alert-warning'>\n\nNumPy's interactive examples are experimental and may not always work as expected, with high load times especially on low-resource platforms, and the version of NumPy might not be in sync with the one you are browsing the documentation for. If you encounter any issues, please report them on the [NumPy issue tracker](https://github.com/numpy/numpy/issues).\n\n</div>",
            "metadata": {}
        },
        {
            "id": "419ed409",
            "cell_type": "code",
            "metadata": {},
            "execution_count": null,
            "source": "import numpy as np\narr = np.array([[3,6,6],[4,5,1]])\nnp.ravel_multi_index(arr, (7,6))",
            "outputs": [
                {
                    "output_type": "execute_result",
                    "metadata": {},
                    "data": {
                        "text/plain": "array([22, 41, 37])"
                    },
                    "execution_count": null
                }
            ]
        },
        {
            "id": "18d0aafd",
            "cell_type": "code",
            "metadata": {},
            "execution_count": null,
            "source": "np.ravel_multi_index(arr, (7,6), order='F')",
            "outputs": [
                {
                    "output_type": "execute_result",
                    "metadata": {},
                    "data": {
                        "text/plain": "array([31, 41, 13])"
                    },
                    "execution_count": null
                }
            ]
        },
        {
            "id": "d6e64d49",
            "cell_type": "code",
            "metadata": {},
            "execution_count": null,
            "source": "np.ravel_multi_index(arr, (4,6), mode='clip')",
            "outputs": [
                {
                    "output_type": "execute_result",
                    "metadata": {},
                    "data": {
                        "text/plain": "array([22, 23, 19])"
                    },
                    "execution_count": null
                }
            ]
        },
        {
            "id": "b898247a",
            "cell_type": "code",
            "metadata": {},
            "execution_count": null,
            "source": "np.ravel_multi_index(arr, (4,4), mode=('clip','wrap'))",
            "outputs": [
                {
                    "output_type": "execute_result",
                    "metadata": {},
                    "data": {
                        "text/plain": "array([12, 13, 13])"
                    },
                    "execution_count": null
                }
            ]
        },
        {
            "id": "9b7e842d",
            "cell_type": "code",
            "metadata": {},
            "execution_count": null,
            "source": "np.ravel_multi_index((3,1,4,1), (6,7,8,9))",
            "outputs": [
                {
                    "output_type": "execute_result",
                    "metadata": {},
                    "data": {
                        "text/plain": "1621"
                    },
                    "execution_count": null
                }
            ]
        }
    ]
}