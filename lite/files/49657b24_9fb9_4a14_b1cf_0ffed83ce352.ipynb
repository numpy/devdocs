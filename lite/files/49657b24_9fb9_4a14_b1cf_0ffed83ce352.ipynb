{
    "nbformat": 4,
    "nbformat_minor": 5,
    "metadata": {
        "kernelspec": {
            "display_name": "Python",
            "language": "python",
            "name": "python"
        },
        "language_info": {
            "name": "python"
        }
    },
    "cells": [
        {
            "id": "42d9d729",
            "cell_type": "markdown",
            "source": "<div class='alert alert-warning'>\n\nNumPy's interactive examples are experimental and may not always work as expected, with high load times especially on low-resource platforms, and the version of NumPy might not be in sync with the one you are browsing the documentation for. If you encounter any issues, please report them on the [NumPy issue tracker](https://github.com/numpy/numpy/issues).\n\n</div>",
            "metadata": {}
        },
        {
            "id": "7987f6e4",
            "cell_type": "code",
            "metadata": {},
            "execution_count": null,
            "source": "import numpy as np\ns = b'hello world'\nnp.frombuffer(s, dtype='S1', count=5, offset=6)",
            "outputs": [
                {
                    "output_type": "execute_result",
                    "metadata": {},
                    "data": {
                        "text/plain": "array([b'w', b'o', b'r', b'l', b'd'], dtype='|S1')"
                    },
                    "execution_count": null
                }
            ]
        },
        {
            "id": "a4a8d7a6",
            "cell_type": "code",
            "metadata": {},
            "execution_count": null,
            "source": "np.frombuffer(b'\\x01\\x02', dtype=np.uint8)",
            "outputs": [
                {
                    "output_type": "execute_result",
                    "metadata": {},
                    "data": {
                        "text/plain": "array([1, 2], dtype=uint8)"
                    },
                    "execution_count": null
                }
            ]
        },
        {
            "id": "e06609b4",
            "cell_type": "code",
            "metadata": {},
            "execution_count": null,
            "source": "np.frombuffer(b'\\x01\\x02\\x03\\x04\\x05', dtype=np.uint8, count=3)",
            "outputs": [
                {
                    "output_type": "execute_result",
                    "metadata": {},
                    "data": {
                        "text/plain": "array([1, 2, 3], dtype=uint8)"
                    },
                    "execution_count": null
                }
            ]
        }
    ]
}