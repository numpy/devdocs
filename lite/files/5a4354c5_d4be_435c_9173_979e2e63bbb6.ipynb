{
    "nbformat": 4,
    "nbformat_minor": 5,
    "metadata": {
        "kernelspec": {
            "display_name": "Python",
            "language": "python",
            "name": "python"
        },
        "language_info": {
            "name": "python"
        }
    },
    "cells": [
        {
            "id": "2ac10d3e",
            "cell_type": "markdown",
            "source": "<div class='alert alert-warning'>\n\nNumPy's interactive examples are experimental and may not always work as expected, with high load times especially on low-resource platforms, and the version of NumPy might not be in sync with the one you are browsing the documentation for. If you encounter any issues, please report them on the [NumPy issue tracker](https://github.com/numpy/numpy/issues).\n\n</div>",
            "metadata": {}
        },
        {
            "id": "23fe2a12",
            "cell_type": "code",
            "metadata": {},
            "execution_count": null,
            "source": "import numpy as np",
            "outputs": []
        },
        {
            "id": "0bfa1837",
            "cell_type": "code",
            "metadata": {},
            "execution_count": null,
            "source": "def square(a, out=None):\n    it = np.nditer([a, out],\n            flags = ['external_loop', 'buffered'],\n            op_flags = [['readonly'],\n                        ['writeonly', 'allocate', 'no_broadcast']])\n    with it:\n        for x, y in it:\n            y[...] = x*x\n        return it.operands[1]\n",
            "outputs": []
        },
        {
            "id": "0f5fdc36",
            "cell_type": "code",
            "metadata": {},
            "execution_count": null,
            "source": "square([1,2,3])",
            "outputs": [
                {
                    "output_type": "execute_result",
                    "metadata": {},
                    "data": {
                        "text/plain": "array([1, 4, 9])"
                    },
                    "execution_count": null
                }
            ]
        },
        {
            "id": "abf380bf",
            "cell_type": "code",
            "metadata": {},
            "execution_count": null,
            "source": "b = np.zeros((3,))\nsquare([1,2,3], out=b)",
            "outputs": [
                {
                    "output_type": "execute_result",
                    "metadata": {},
                    "data": {
                        "text/plain": "array([1.,  4.,  9.])"
                    },
                    "execution_count": null
                }
            ]
        },
        {
            "id": "461bb717",
            "cell_type": "code",
            "metadata": {},
            "execution_count": null,
            "source": "b",
            "outputs": [
                {
                    "output_type": "execute_result",
                    "metadata": {},
                    "data": {
                        "text/plain": "array([1.,  4.,  9.])"
                    },
                    "execution_count": null
                }
            ]
        },
        {
            "id": "f6e7544f",
            "cell_type": "code",
            "metadata": {},
            "execution_count": null,
            "source": "square(np.arange(6).reshape(2,3), out=b)",
            "outputs": [
                {
                    "output_type": "execute_result",
                    "metadata": {},
                    "data": {
                        "text/plain": "Traceback (most recent call last):\n  ...\nValueError: non-broadcastable output operand with shape (3,) doesn't\nmatch the broadcast shape (2,3)"
                    },
                    "execution_count": null
                }
            ]
        }
    ]
}