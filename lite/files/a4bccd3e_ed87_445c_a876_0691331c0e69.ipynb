{
    "nbformat": 4,
    "nbformat_minor": 5,
    "metadata": {
        "kernelspec": {
            "display_name": "Python",
            "language": "python",
            "name": "python"
        },
        "language_info": {
            "name": "python"
        }
    },
    "cells": [
        {
            "id": "07e1d85b",
            "cell_type": "markdown",
            "source": "<div class='alert alert-warning'>\n\nNumPy's interactive examples are experimental and may not always work as expected, with high load times especially on low-resource platforms, and the version of NumPy might not be in sync with the one you are browsing the documentation for. If you encounter any issues, please report them on the [NumPy issue tracker](https://github.com/numpy/numpy/issues).\n\n</div>",
            "metadata": {}
        },
        {
            "id": "c0362e28",
            "cell_type": "code",
            "metadata": {},
            "execution_count": null,
            "source": "import numpy as np\nimport numpy.ma as ma\na = np.eye(3, 3)\na",
            "outputs": [
                {
                    "output_type": "execute_result",
                    "metadata": {},
                    "data": {
                        "text/plain": "array([[ 1.,  0.,  0.],\n       [ 0.,  1.,  0.],\n       [ 0.,  0.,  1.]])"
                    },
                    "execution_count": null
                }
            ]
        },
        {
            "id": "aceac472",
            "cell_type": "code",
            "metadata": {},
            "execution_count": null,
            "source": "m = ma.masked_values(a, 0)\nm",
            "outputs": [
                {
                    "output_type": "execute_result",
                    "metadata": {},
                    "data": {
                        "text/plain": "masked_array(\n  data=[[1.0, --, --],\n        [--, 1.0, --],\n        [--, --, 1.0]],\n  mask=[[False,  True,  True],\n        [ True, False,  True],\n        [ True,  True, False]],\n  fill_value=0.0)"
                    },
                    "execution_count": null
                }
            ]
        },
        {
            "id": "5685b6e7",
            "cell_type": "code",
            "metadata": {},
            "execution_count": null,
            "source": "ma.isMaskedArray(a)",
            "outputs": [
                {
                    "output_type": "execute_result",
                    "metadata": {},
                    "data": {
                        "text/plain": "False"
                    },
                    "execution_count": null
                }
            ]
        },
        {
            "id": "5fb0ed34",
            "cell_type": "code",
            "metadata": {},
            "execution_count": null,
            "source": "ma.isMaskedArray(m)",
            "outputs": [
                {
                    "output_type": "execute_result",
                    "metadata": {},
                    "data": {
                        "text/plain": "True"
                    },
                    "execution_count": null
                }
            ]
        },
        {
            "id": "8f481cde",
            "cell_type": "code",
            "metadata": {},
            "execution_count": null,
            "source": "ma.isMaskedArray([0, 1, 2])",
            "outputs": [
                {
                    "output_type": "execute_result",
                    "metadata": {},
                    "data": {
                        "text/plain": "False"
                    },
                    "execution_count": null
                }
            ]
        }
    ]
}