{
    "nbformat": 4,
    "nbformat_minor": 5,
    "metadata": {
        "kernelspec": {
            "display_name": "Python",
            "language": "python",
            "name": "python"
        },
        "language_info": {
            "name": "python"
        }
    },
    "cells": [
        {
            "id": "9e98e3e8",
            "cell_type": "markdown",
            "source": "<div class='alert alert-warning'>\n\nNumPy's interactive examples are experimental and may not always work as expected, with high load times especially on low-resource platforms, and the version of NumPy might not be in sync with the one you are browsing the documentation for. If you encounter any issues, please report them on the [NumPy issue tracker](https://github.com/numpy/numpy/issues).\n\n</div>",
            "metadata": {}
        },
        {
            "id": "57ca8fd1",
            "cell_type": "code",
            "metadata": {},
            "execution_count": null,
            "source": "from numpy.lib import NumpyVersion\nif NumpyVersion(np.__version__) < '1.7.0':\n    print('skip')\n# skip",
            "outputs": []
        },
        {
            "id": "07c77e83",
            "cell_type": "code",
            "metadata": {},
            "execution_count": null,
            "source": "NumpyVersion('1.7')  # raises ValueError, add \".0\"",
            "outputs": [
                {
                    "output_type": "execute_result",
                    "metadata": {},
                    "data": {
                        "text/plain": "Traceback (most recent call last):\n    ...\nValueError: Not a valid numpy version string"
                    },
                    "execution_count": null
                }
            ]
        }
    ]
}