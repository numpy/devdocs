{
    "nbformat": 4,
    "nbformat_minor": 5,
    "metadata": {
        "kernelspec": {
            "display_name": "Python",
            "language": "python",
            "name": "python"
        },
        "language_info": {
            "name": "python"
        }
    },
    "cells": [
        {
            "id": "95bccdc1",
            "cell_type": "markdown",
            "source": "<div class='alert alert-warning'>\n\nNumPy's interactive examples are experimental and may not always work as expected, with high load times especially on low-resource platforms, and the version of NumPy might not be in sync with the one you are browsing the documentation for. If you encounter any issues, please report them on the [NumPy issue tracker](https://github.com/numpy/numpy/issues).\n\n</div>",
            "metadata": {}
        },
        {
            "id": "4ef60b44",
            "cell_type": "code",
            "metadata": {},
            "execution_count": null,
            "source": "from numpy.polynomial.hermite_e import hermeint\nhermeint([1, 2, 3]) # integrate once, value 0 at 0.",
            "outputs": [
                {
                    "output_type": "execute_result",
                    "metadata": {},
                    "data": {
                        "text/plain": "array([1., 1., 1., 1.])"
                    },
                    "execution_count": null
                }
            ]
        },
        {
            "id": "6f418112",
            "cell_type": "code",
            "metadata": {},
            "execution_count": null,
            "source": "hermeint([1, 2, 3], m=2) # integrate twice, value & deriv 0 at 0",
            "outputs": [
                {
                    "output_type": "execute_result",
                    "metadata": {},
                    "data": {
                        "text/plain": "array([-0.25      ,  1.        ,  0.5       ,  0.33333333,  0.25      ]) # may vary"
                    },
                    "execution_count": null
                }
            ]
        },
        {
            "id": "74bdbd6d",
            "cell_type": "code",
            "metadata": {},
            "execution_count": null,
            "source": "hermeint([1, 2, 3], k=1) # integrate once, value 1 at 0.",
            "outputs": [
                {
                    "output_type": "execute_result",
                    "metadata": {},
                    "data": {
                        "text/plain": "array([2., 1., 1., 1.])"
                    },
                    "execution_count": null
                }
            ]
        },
        {
            "id": "32d252c2",
            "cell_type": "code",
            "metadata": {},
            "execution_count": null,
            "source": "hermeint([1, 2, 3], lbnd=-1) # integrate once, value 0 at -1",
            "outputs": [
                {
                    "output_type": "execute_result",
                    "metadata": {},
                    "data": {
                        "text/plain": "array([-1.,  1.,  1.,  1.])"
                    },
                    "execution_count": null
                }
            ]
        },
        {
            "id": "7f2bf6b5",
            "cell_type": "code",
            "metadata": {},
            "execution_count": null,
            "source": "hermeint([1, 2, 3], m=2, k=[1, 2], lbnd=-1)",
            "outputs": [
                {
                    "output_type": "execute_result",
                    "metadata": {},
                    "data": {
                        "text/plain": "array([ 1.83333333,  0.        ,  0.5       ,  0.33333333,  0.25      ]) # may vary"
                    },
                    "execution_count": null
                }
            ]
        }
    ]
}