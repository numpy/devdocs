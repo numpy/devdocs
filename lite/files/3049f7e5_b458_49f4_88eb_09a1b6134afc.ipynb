{
    "nbformat": 4,
    "nbformat_minor": 5,
    "metadata": {
        "kernelspec": {
            "display_name": "Python",
            "language": "python",
            "name": "python"
        },
        "language_info": {
            "name": "python"
        }
    },
    "cells": [
        {
            "id": "6918955f",
            "cell_type": "markdown",
            "source": "<div class='alert alert-warning'>\n\nNumPy's interactive examples are experimental and may not always work as expected, with high load times especially on low-resource platforms, and the version of NumPy might not be in sync with the one you are browsing the documentation for. If you encounter any issues, please report them on the [NumPy issue tracker](https://github.com/numpy/numpy/issues).\n\n</div>",
            "metadata": {}
        },
        {
            "id": "abe6d92e",
            "cell_type": "code",
            "metadata": {},
            "execution_count": null,
            "source": "import numpy as np\nnp.sort_complex([5, 3, 6, 2, 1])",
            "outputs": [
                {
                    "output_type": "execute_result",
                    "metadata": {},
                    "data": {
                        "text/plain": "array([1.+0.j, 2.+0.j, 3.+0.j, 5.+0.j, 6.+0.j])"
                    },
                    "execution_count": null
                }
            ]
        },
        {
            "id": "f5851fec",
            "cell_type": "code",
            "metadata": {},
            "execution_count": null,
            "source": "np.sort_complex([1 + 2j, 2 - 1j, 3 - 2j, 3 - 3j, 3 + 5j])",
            "outputs": [
                {
                    "output_type": "execute_result",
                    "metadata": {},
                    "data": {
                        "text/plain": "array([1.+2.j,  2.-1.j,  3.-3.j,  3.-2.j,  3.+5.j])"
                    },
                    "execution_count": null
                }
            ]
        }
    ]
}