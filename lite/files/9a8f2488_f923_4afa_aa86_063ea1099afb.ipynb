{
    "nbformat": 4,
    "nbformat_minor": 5,
    "metadata": {
        "kernelspec": {
            "display_name": "Python",
            "language": "python",
            "name": "python"
        },
        "language_info": {
            "name": "python"
        }
    },
    "cells": [
        {
            "id": "85ea007d",
            "cell_type": "markdown",
            "source": "<div class='alert alert-warning'>\n\nNumPy's interactive examples are experimental and may not always work as expected, with high load times especially on low-resource platforms, and the version of NumPy might not be in sync with the one you are browsing the documentation for. If you encounter any issues, please report them on the [NumPy issue tracker](https://github.com/numpy/numpy/issues).\n\n</div>",
            "metadata": {}
        },
        {
            "id": "0afc893c",
            "cell_type": "code",
            "metadata": {},
            "execution_count": null,
            "source": "import numpy as np\nimport numpy.ma as ma\nx = [11.2, -3.973, 0.801, -1.41]\nmask = [0, 0, 0, 1]\nmasked_x = ma.masked_array(x, mask)\nmasked_x",
            "outputs": [
                {
                    "output_type": "execute_result",
                    "metadata": {},
                    "data": {
                        "text/plain": "masked_array(data=[11.2, -3.973, 0.801, --],\n         mask=[False, False, False,  True],\n   fill_value=1e+20)"
                    },
                    "execution_count": null
                }
            ]
        },
        {
            "id": "b5174b9d",
            "cell_type": "code",
            "metadata": {},
            "execution_count": null,
            "source": "ma.power(masked_x, 2)",
            "outputs": [
                {
                    "output_type": "execute_result",
                    "metadata": {},
                    "data": {
                        "text/plain": "masked_array(data=[125.43999999999998, 15.784728999999999,\n               0.6416010000000001, --],\n         mask=[False, False, False,  True],\n   fill_value=1e+20)"
                    },
                    "execution_count": null
                }
            ]
        },
        {
            "id": "d0b48eab",
            "cell_type": "code",
            "metadata": {},
            "execution_count": null,
            "source": "y = [-0.5, 2, 0, 17]\nmasked_y = ma.masked_array(y, mask)\nmasked_y",
            "outputs": [
                {
                    "output_type": "execute_result",
                    "metadata": {},
                    "data": {
                        "text/plain": "masked_array(data=[-0.5, 2.0, 0.0, --],\n         mask=[False, False, False,  True],\n   fill_value=1e+20)"
                    },
                    "execution_count": null
                }
            ]
        },
        {
            "id": "24b04460",
            "cell_type": "code",
            "metadata": {},
            "execution_count": null,
            "source": "ma.power(masked_x, masked_y)",
            "outputs": [
                {
                    "output_type": "execute_result",
                    "metadata": {},
                    "data": {
                        "text/plain": "masked_array(data=[0.2988071523335984, 15.784728999999999, 1.0, --],\n         mask=[False, False, False,  True],\n   fill_value=1e+20)"
                    },
                    "execution_count": null
                }
            ]
        }
    ]
}