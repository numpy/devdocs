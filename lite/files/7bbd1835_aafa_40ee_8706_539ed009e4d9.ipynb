{
    "nbformat": 4,
    "nbformat_minor": 5,
    "metadata": {
        "kernelspec": {
            "display_name": "Python",
            "language": "python",
            "name": "python"
        },
        "language_info": {
            "name": "python"
        }
    },
    "cells": [
        {
            "id": "6a3d412e",
            "cell_type": "markdown",
            "source": "<div class='alert alert-warning'>\n\nNumPy's interactive examples are experimental and may not always work as expected, with high load times especially on low-resource platforms, and the version of NumPy might not be in sync with the one you are browsing the documentation for. If you encounter any issues, please report them on the [NumPy issue tracker](https://github.com/numpy/numpy/issues).\n\n</div>",
            "metadata": {}
        },
        {
            "id": "4f239e00",
            "cell_type": "code",
            "metadata": {},
            "execution_count": null,
            "source": "import numpy as np",
            "outputs": []
        },
        {
            "id": "f57b94e3",
            "cell_type": "markdown",
            "source": "Create a 4 by 4 array\n",
            "metadata": {}
        },
        {
            "id": "3abaf049",
            "cell_type": "code",
            "metadata": {},
            "execution_count": null,
            "source": "a = np.arange(16).reshape(4, 4)\na",
            "outputs": [
                {
                    "output_type": "execute_result",
                    "metadata": {},
                    "data": {
                        "text/plain": "array([[ 0,  1,  2,  3],\n       [ 4,  5,  6,  7],\n       [ 8,  9, 10, 11],\n       [12, 13, 14, 15]])"
                    },
                    "execution_count": null
                }
            ]
        },
        {
            "id": "c8793b9d",
            "cell_type": "markdown",
            "source": "Pass the array to get the indices of the upper triangular elements.\n",
            "metadata": {}
        },
        {
            "id": "b48ec4e0",
            "cell_type": "code",
            "metadata": {},
            "execution_count": null,
            "source": "triui = np.triu_indices_from(a)\ntriui",
            "outputs": [
                {
                    "output_type": "execute_result",
                    "metadata": {},
                    "data": {
                        "text/plain": "(array([0, 0, 0, 0, 1, 1, 1, 2, 2, 3]), array([0, 1, 2, 3, 1, 2, 3, 2, 3, 3]))"
                    },
                    "execution_count": null
                }
            ]
        },
        {
            "id": "84ed900b",
            "cell_type": "code",
            "metadata": {},
            "execution_count": null,
            "source": "a[triui]",
            "outputs": [
                {
                    "output_type": "execute_result",
                    "metadata": {},
                    "data": {
                        "text/plain": "array([ 0,  1,  2,  3,  5,  6,  7, 10, 11, 15])"
                    },
                    "execution_count": null
                }
            ]
        },
        {
            "id": "6d245273",
            "cell_type": "markdown",
            "source": "This is syntactic sugar for triu_indices().\n",
            "metadata": {}
        },
        {
            "id": "33631886",
            "cell_type": "code",
            "metadata": {},
            "execution_count": null,
            "source": "np.triu_indices(a.shape[0])",
            "outputs": [
                {
                    "output_type": "execute_result",
                    "metadata": {},
                    "data": {
                        "text/plain": "(array([0, 0, 0, 0, 1, 1, 1, 2, 2, 3]), array([0, 1, 2, 3, 1, 2, 3, 2, 3, 3]))"
                    },
                    "execution_count": null
                }
            ]
        },
        {
            "id": "ddf758d4",
            "cell_type": "markdown",
            "source": "Use the `k` parameter to return the indices for the upper triangular array\nfrom the k-th diagonal.\n",
            "metadata": {}
        },
        {
            "id": "f023a60e",
            "cell_type": "code",
            "metadata": {},
            "execution_count": null,
            "source": "triuim1 = np.triu_indices_from(a, k=1)\na[triuim1]",
            "outputs": [
                {
                    "output_type": "execute_result",
                    "metadata": {},
                    "data": {
                        "text/plain": "array([ 1,  2,  3,  6,  7, 11])"
                    },
                    "execution_count": null
                }
            ]
        }
    ]
}