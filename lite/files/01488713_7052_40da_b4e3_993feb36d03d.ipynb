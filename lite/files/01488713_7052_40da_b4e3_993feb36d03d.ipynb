{
    "nbformat": 4,
    "nbformat_minor": 5,
    "metadata": {
        "kernelspec": {
            "display_name": "Python",
            "language": "python",
            "name": "python"
        },
        "language_info": {
            "name": "python"
        }
    },
    "cells": [
        {
            "id": "5be2ca4f",
            "cell_type": "markdown",
            "source": "<div class='alert alert-warning'>\n\nNumPy's interactive examples are experimental and may not always work as expected, with high load times especially on low-resource platforms, and the version of NumPy might not be in sync with the one you are browsing the documentation for. If you encounter any issues, please report them on the [NumPy issue tracker](https://github.com/numpy/numpy/issues).\n\n</div>",
            "metadata": {}
        },
        {
            "id": "9ba9c16e",
            "cell_type": "markdown",
            "source": "An example from Glantz[1], pp 47-40:\n\nTwo groups, children of diabetics (25 people) and children from people\nwithout diabetes (25 controls). Fasting blood glucose was measured,\ncase group had a mean value of 86.1, controls had a mean value of\n82.2. Standard deviations were 2.09 and 2.49 respectively. Are these\ndata consistent with the null hypothesis that the parents diabetic\nstatus does not affect their children's blood glucose levels?\nCalculating the F statistic from the data gives a value of 36.01.\n\nDraw samples from the distribution:\n",
            "metadata": {}
        },
        {
            "id": "020d7357",
            "cell_type": "code",
            "metadata": {},
            "execution_count": null,
            "source": "dfnum = 1. # between group degrees of freedom\ndfden = 48. # within groups degrees of freedom\ns = np.random.f(dfnum, dfden, 1000)",
            "outputs": []
        },
        {
            "id": "b65941a3",
            "cell_type": "markdown",
            "source": "The lower bound for the top 1% of the samples is :\n",
            "metadata": {}
        },
        {
            "id": "b642803b",
            "cell_type": "code",
            "metadata": {},
            "execution_count": null,
            "source": "np.sort(s)[-10]",
            "outputs": [
                {
                    "output_type": "execute_result",
                    "metadata": {},
                    "data": {
                        "text/plain": "7.61988120985 # random"
                    },
                    "execution_count": null
                }
            ]
        },
        {
            "id": "43b82d33",
            "cell_type": "markdown",
            "source": "So there is about a 1% chance that the F statistic will exceed 7.62,\nthe measured value is 36, so the null hypothesis is rejected at the 1%\nlevel.",
            "metadata": {}
        }
    ]
}