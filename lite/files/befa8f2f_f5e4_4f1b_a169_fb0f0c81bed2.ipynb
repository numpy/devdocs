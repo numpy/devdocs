{
    "nbformat": 4,
    "nbformat_minor": 5,
    "metadata": {
        "kernelspec": {
            "display_name": "Python",
            "language": "python",
            "name": "python"
        },
        "language_info": {
            "name": "python"
        }
    },
    "cells": [
        {
            "id": "208f4c45",
            "cell_type": "markdown",
            "source": "<div class='alert alert-warning'>\n\nNumPy's interactive examples are experimental and may not always work as expected, with high load times especially on low-resource platforms, and the version of NumPy might not be in sync with the one you are browsing the documentation for. If you encounter any issues, please report them on the [NumPy issue tracker](https://github.com/numpy/numpy/issues).\n\n</div>",
            "metadata": {}
        },
        {
            "id": "00a5931f",
            "cell_type": "markdown",
            "source": "Draw samples from the distribution:\n",
            "metadata": {}
        },
        {
            "id": "52377b9e",
            "cell_type": "code",
            "metadata": {},
            "execution_count": null,
            "source": "a = .6\nrng = np.random.default_rng()\ns = rng.logseries(a, 10000)\nimport matplotlib.pyplot as plt\nbins = np.arange(-.5, max(s) + .5 )\ncount, bins, _ = plt.hist(s, bins=bins, label='Sample count')",
            "outputs": []
        },
        {
            "id": "2917ea8b",
            "cell_type": "markdown",
            "source": "Plot against the distribution:\n",
            "metadata": {}
        },
        {
            "id": "fe015d5f",
            "cell_type": "code",
            "metadata": {},
            "execution_count": null,
            "source": "def logseries(k, p):\n    return -p**k/(k*np.log(1-p))\ncentres = np.arange(1, max(s) + 1)\nplt.plot(centres, logseries(centres, a) * s.size, 'r', label='logseries PMF')\nplt.legend()\nplt.show()",
            "outputs": []
        }
    ]
}