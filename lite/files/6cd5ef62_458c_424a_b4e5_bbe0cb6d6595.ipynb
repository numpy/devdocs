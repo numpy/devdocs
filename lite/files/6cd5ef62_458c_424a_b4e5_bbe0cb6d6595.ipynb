{
    "nbformat": 4,
    "nbformat_minor": 5,
    "metadata": {
        "kernelspec": {
            "display_name": "Python",
            "language": "python",
            "name": "python"
        },
        "language_info": {
            "name": "python"
        }
    },
    "cells": [
        {
            "id": "ffdb22bb",
            "cell_type": "markdown",
            "source": "<div class='alert alert-warning'>\n\nNumPy's interactive examples are experimental and may not always work as expected, with high load times especially on low-resource platforms, and the version of NumPy might not be in sync with the one you are browsing the documentation for. If you encounter any issues, please report them on the [NumPy issue tracker](https://github.com/numpy/numpy/issues).\n\n</div>",
            "metadata": {}
        },
        {
            "id": "bede409d",
            "cell_type": "code",
            "metadata": {},
            "execution_count": null,
            "source": "import numpy as np\nimport numpy.ma as ma\na = np.arange(5, dtype=float)\na[2] = np.nan\na[3] = np.inf\na",
            "outputs": [
                {
                    "output_type": "execute_result",
                    "metadata": {},
                    "data": {
                        "text/plain": "array([ 0.,  1., nan, inf,  4.])"
                    },
                    "execution_count": null
                }
            ]
        },
        {
            "id": "0179af26",
            "cell_type": "code",
            "metadata": {},
            "execution_count": null,
            "source": "ma.masked_invalid(a)",
            "outputs": [
                {
                    "output_type": "execute_result",
                    "metadata": {},
                    "data": {
                        "text/plain": "masked_array(data=[0.0, 1.0, --, --, 4.0],\n             mask=[False, False,  True,  True, False],\n       fill_value=1e+20)"
                    },
                    "execution_count": null
                }
            ]
        }
    ]
}