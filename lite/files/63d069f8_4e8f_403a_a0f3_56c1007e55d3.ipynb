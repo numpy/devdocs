{
    "nbformat": 4,
    "nbformat_minor": 5,
    "metadata": {
        "kernelspec": {
            "display_name": "Python",
            "language": "python",
            "name": "python"
        },
        "language_info": {
            "name": "python"
        }
    },
    "cells": [
        {
            "id": "e7e3e3e7",
            "cell_type": "markdown",
            "source": "<div class='alert alert-warning'>\n\nNumPy's interactive examples are experimental and may not always work as expected, with high load times especially on low-resource platforms, and the version of NumPy might not be in sync with the one you are browsing the documentation for. If you encounter any issues, please report them on the [NumPy issue tracker](https://github.com/numpy/numpy/issues).\n\n</div>",
            "metadata": {}
        },
        {
            "id": "0ce22ad1",
            "cell_type": "code",
            "metadata": {},
            "execution_count": null,
            "source": "import numpy as np\na = np.array([7, 1, 7, 7, 1, 5, 7, 2, 3, 2, 6, 2, 3, 0])\np = np.partition(a, 4)\np",
            "outputs": [
                {
                    "output_type": "execute_result",
                    "metadata": {},
                    "data": {
                        "text/plain": "array([0, 1, 2, 1, 2, 5, 2, 3, 3, 6, 7, 7, 7, 7]) # may vary"
                    },
                    "execution_count": null
                }
            ]
        },
        {
            "id": "612372d3",
            "cell_type": "markdown",
            "source": "``p[4]`` is 2;  all elements in ``p[:4]`` are less than or equal\nto ``p[4]``, and all elements in ``p[5:]`` are greater than or\nequal to ``p[4]``.  The partition is\n```\n\n[0, 1, 2, 1], [2], [5, 2, 3, 3, 6, 7, 7, 7, 7]\n\n```\nThe next example shows the use of multiple values passed to `kth`.\n",
            "metadata": {}
        },
        {
            "id": "06227e8b",
            "cell_type": "code",
            "metadata": {},
            "execution_count": null,
            "source": "p2 = np.partition(a, (4, 8))\np2",
            "outputs": [
                {
                    "output_type": "execute_result",
                    "metadata": {},
                    "data": {
                        "text/plain": "array([0, 1, 2, 1, 2, 3, 3, 2, 5, 6, 7, 7, 7, 7])"
                    },
                    "execution_count": null
                }
            ]
        },
        {
            "id": "ac242f90",
            "cell_type": "markdown",
            "source": "``p2[4]`` is 2  and ``p2[8]`` is 5.  All elements in ``p2[:4]``\nare less than or equal to ``p2[4]``, all elements in ``p2[5:8]``\nare greater than or equal to ``p2[4]`` and less than or equal to\n``p2[8]``, and all elements in ``p2[9:]`` are greater than or\nequal to ``p2[8]``.  The partition is\n```\n\n[0, 1, 2, 1], [2], [3, 3, 2], [5], [6, 7, 7, 7, 7]\n```",
            "metadata": {}
        }
    ]
}