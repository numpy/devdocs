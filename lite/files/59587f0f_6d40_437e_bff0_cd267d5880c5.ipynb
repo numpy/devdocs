{
    "nbformat": 4,
    "nbformat_minor": 5,
    "metadata": {
        "kernelspec": {
            "display_name": "Python",
            "language": "python",
            "name": "python"
        },
        "language_info": {
            "name": "python"
        }
    },
    "cells": [
        {
            "id": "7c141fd5",
            "cell_type": "markdown",
            "source": "<div class='alert alert-warning'>\n\nNumPy's interactive examples are experimental and may not always work as expected, with high load times especially on low-resource platforms, and the version of NumPy might not be in sync with the one you are browsing the documentation for. If you encounter any issues, please report them on the [NumPy issue tracker](https://github.com/numpy/numpy/issues).\n\n</div>",
            "metadata": {}
        },
        {
            "id": "877ccbd2",
            "cell_type": "markdown",
            "source": "Callback upon error:\n",
            "metadata": {}
        },
        {
            "id": "d250685f",
            "cell_type": "code",
            "metadata": {},
            "execution_count": null,
            "source": "def err_handler(type, flag):\n    print(\"Floating point error (%s), with flag %s\" % (type, flag))\n",
            "outputs": []
        },
        {
            "id": "76cd282d",
            "cell_type": "code",
            "metadata": {},
            "execution_count": null,
            "source": "import numpy as np",
            "outputs": []
        },
        {
            "id": "b16d7d55",
            "cell_type": "code",
            "metadata": {},
            "execution_count": null,
            "source": "orig_handler = np.seterrcall(err_handler)\norig_err = np.seterr(all='call')",
            "outputs": []
        },
        {
            "id": "25fed100",
            "cell_type": "code",
            "metadata": {},
            "execution_count": null,
            "source": "np.array([1, 2, 3]) / 0.0",
            "outputs": [
                {
                    "output_type": "execute_result",
                    "metadata": {},
                    "data": {
                        "text/plain": "Floating point error (divide by zero), with flag 1\narray([inf, inf, inf])"
                    },
                    "execution_count": null
                }
            ]
        },
        {
            "id": "5ffb3230",
            "cell_type": "code",
            "metadata": {},
            "execution_count": null,
            "source": "np.seterrcall(orig_handler)",
            "outputs": [
                {
                    "output_type": "execute_result",
                    "metadata": {},
                    "data": {
                        "text/plain": "<function err_handler at 0x...>"
                    },
                    "execution_count": null
                }
            ]
        },
        {
            "id": "0efdda05",
            "cell_type": "code",
            "metadata": {},
            "execution_count": null,
            "source": "np.seterr(**orig_err)",
            "outputs": [
                {
                    "output_type": "execute_result",
                    "metadata": {},
                    "data": {
                        "text/plain": "{'divide': 'call', 'over': 'call', 'under': 'call', 'invalid': 'call'}"
                    },
                    "execution_count": null
                }
            ]
        },
        {
            "id": "d06d46f6",
            "cell_type": "markdown",
            "source": "Log error message:\n",
            "metadata": {}
        },
        {
            "id": "6a3c0422",
            "cell_type": "code",
            "metadata": {},
            "execution_count": null,
            "source": "class Log:\n    def write(self, msg):\n        print(\"LOG: %s\" % msg)\n",
            "outputs": []
        },
        {
            "id": "a841a4f6",
            "cell_type": "code",
            "metadata": {},
            "execution_count": null,
            "source": "log = Log()\nsaved_handler = np.seterrcall(log)\nsave_err = np.seterr(all='log')",
            "outputs": []
        },
        {
            "id": "09903544",
            "cell_type": "code",
            "metadata": {},
            "execution_count": null,
            "source": "np.array([1, 2, 3]) / 0.0",
            "outputs": [
                {
                    "output_type": "execute_result",
                    "metadata": {},
                    "data": {
                        "text/plain": "LOG: Warning: divide by zero encountered in divide\narray([inf, inf, inf])"
                    },
                    "execution_count": null
                }
            ]
        },
        {
            "id": "66eb55ed",
            "cell_type": "code",
            "metadata": {},
            "execution_count": null,
            "source": "np.seterrcall(orig_handler)",
            "outputs": [
                {
                    "output_type": "execute_result",
                    "metadata": {},
                    "data": {
                        "text/plain": "<numpy.Log object at 0x...>"
                    },
                    "execution_count": null
                }
            ]
        },
        {
            "id": "7edd5e68",
            "cell_type": "code",
            "metadata": {},
            "execution_count": null,
            "source": "np.seterr(**orig_err)",
            "outputs": [
                {
                    "output_type": "execute_result",
                    "metadata": {},
                    "data": {
                        "text/plain": "{'divide': 'log', 'over': 'log', 'under': 'log', 'invalid': 'log'}"
                    },
                    "execution_count": null
                }
            ]
        }
    ]
}