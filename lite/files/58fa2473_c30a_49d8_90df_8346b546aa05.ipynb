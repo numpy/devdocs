{
    "nbformat": 4,
    "nbformat_minor": 5,
    "metadata": {
        "kernelspec": {
            "display_name": "Python",
            "language": "python",
            "name": "python"
        },
        "language_info": {
            "name": "python"
        }
    },
    "cells": [
        {
            "id": "4c45795e",
            "cell_type": "markdown",
            "source": "<div class='alert alert-warning'>\n\nNumPy's interactive examples are experimental and may not always work as expected, with high load times especially on low-resource platforms, and the version of NumPy might not be in sync with the one you are browsing the documentation for. If you encounter any issues, please report them on the [NumPy issue tracker](https://github.com/numpy/numpy/issues).\n\n</div>",
            "metadata": {}
        },
        {
            "id": "aef76099",
            "cell_type": "code",
            "metadata": {},
            "execution_count": null,
            "source": "import numpy as np\ny = np.array([[3, 1, 7],\n              [2, 0, 0],\n              [8, 5, 9]])\ny",
            "outputs": [
                {
                    "output_type": "execute_result",
                    "metadata": {},
                    "data": {
                        "text/plain": "array([[3, 1, 7],\n       [2, 0, 0],\n       [8, 5, 9]])"
                    },
                    "execution_count": null
                }
            ]
        },
        {
            "id": "e60adc96",
            "cell_type": "code",
            "metadata": {},
            "execution_count": null,
            "source": "y.flags",
            "outputs": [
                {
                    "output_type": "execute_result",
                    "metadata": {},
                    "data": {
                        "text/plain": "  C_CONTIGUOUS : True\n  F_CONTIGUOUS : False\n  OWNDATA : True\n  WRITEABLE : True\n  ALIGNED : True\n  WRITEBACKIFCOPY : False"
                    },
                    "execution_count": null
                }
            ]
        },
        {
            "id": "b3779c70",
            "cell_type": "code",
            "metadata": {},
            "execution_count": null,
            "source": "y.setflags(write=0, align=0)\ny.flags",
            "outputs": [
                {
                    "output_type": "execute_result",
                    "metadata": {},
                    "data": {
                        "text/plain": "  C_CONTIGUOUS : True\n  F_CONTIGUOUS : False\n  OWNDATA : True\n  WRITEABLE : False\n  ALIGNED : False\n  WRITEBACKIFCOPY : False"
                    },
                    "execution_count": null
                }
            ]
        },
        {
            "id": "62181157",
            "cell_type": "code",
            "metadata": {},
            "execution_count": null,
            "source": "y.setflags(uic=1)",
            "outputs": [
                {
                    "output_type": "execute_result",
                    "metadata": {},
                    "data": {
                        "text/plain": "Traceback (most recent call last):\n  File \"<stdin>\", line 1, in <module>\nValueError: cannot set WRITEBACKIFCOPY flag to True"
                    },
                    "execution_count": null
                }
            ]
        }
    ]
}