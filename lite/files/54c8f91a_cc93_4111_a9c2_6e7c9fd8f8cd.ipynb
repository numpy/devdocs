{
    "nbformat": 4,
    "nbformat_minor": 5,
    "metadata": {
        "kernelspec": {
            "display_name": "Python",
            "language": "python",
            "name": "python"
        },
        "language_info": {
            "name": "python"
        }
    },
    "cells": [
        {
            "id": "22bafd88",
            "cell_type": "markdown",
            "source": "<div class='alert alert-warning'>\n\nNumPy's interactive examples are experimental and may not always work as expected, with high load times especially on low-resource platforms, and the version of NumPy might not be in sync with the one you are browsing the documentation for. If you encounter any issues, please report them on the [NumPy issue tracker](https://github.com/numpy/numpy/issues).\n\n</div>",
            "metadata": {}
        },
        {
            "id": "46006e87",
            "cell_type": "code",
            "metadata": {},
            "execution_count": null,
            "source": "import numpy as np\nnp.atleast_1d(1.0)",
            "outputs": [
                {
                    "output_type": "execute_result",
                    "metadata": {},
                    "data": {
                        "text/plain": "array([1.])"
                    },
                    "execution_count": null
                }
            ]
        },
        {
            "id": "873dd24d",
            "cell_type": "code",
            "metadata": {},
            "execution_count": null,
            "source": "x = np.arange(9.0).reshape(3,3)\nnp.atleast_1d(x)",
            "outputs": [
                {
                    "output_type": "execute_result",
                    "metadata": {},
                    "data": {
                        "text/plain": "array([[0., 1., 2.],\n       [3., 4., 5.],\n       [6., 7., 8.]])"
                    },
                    "execution_count": null
                }
            ]
        },
        {
            "id": "8342f200",
            "cell_type": "code",
            "metadata": {},
            "execution_count": null,
            "source": "np.atleast_1d(x) is x",
            "outputs": [
                {
                    "output_type": "execute_result",
                    "metadata": {},
                    "data": {
                        "text/plain": "True"
                    },
                    "execution_count": null
                }
            ]
        },
        {
            "id": "5416677f",
            "cell_type": "code",
            "metadata": {},
            "execution_count": null,
            "source": "np.atleast_1d(1, [3, 4])",
            "outputs": [
                {
                    "output_type": "execute_result",
                    "metadata": {},
                    "data": {
                        "text/plain": "(array([1]), array([3, 4]))"
                    },
                    "execution_count": null
                }
            ]
        }
    ]
}