{
    "nbformat": 4,
    "nbformat_minor": 5,
    "metadata": {
        "kernelspec": {
            "display_name": "Python",
            "language": "python",
            "name": "python"
        },
        "language_info": {
            "name": "python"
        }
    },
    "cells": [
        {
            "id": "689afdfe",
            "cell_type": "markdown",
            "source": "<div class='alert alert-warning'>\n\nNumPy's interactive examples are experimental and may not always work as expected, with high load times especially on low-resource platforms, and the version of NumPy might not be in sync with the one you are browsing the documentation for. If you encounter any issues, please report them on the [NumPy issue tracker](https://github.com/numpy/numpy/issues).\n\n</div>",
            "metadata": {}
        },
        {
            "id": "e2f8770e",
            "cell_type": "code",
            "metadata": {},
            "execution_count": null,
            "source": "import numpy as np\nchoices = [[0, 1, 2, 3], [10, 11, 12, 13],\n  [20, 21, 22, 23], [30, 31, 32, 33]]\nnp.choose([2, 3, 1, 0], choices\n# the first element of the result will be the first element of the\n# third (2+1) \"array\" in choices, namely, 20; the second element\n# will be the second element of the fourth (3+1) choice array, i.e.,\n# 31, etc.\n)",
            "outputs": [
                {
                    "output_type": "execute_result",
                    "metadata": {},
                    "data": {
                        "text/plain": "array([20, 31, 12,  3])"
                    },
                    "execution_count": null
                }
            ]
        },
        {
            "id": "26859eac",
            "cell_type": "code",
            "metadata": {},
            "execution_count": null,
            "source": "np.choose([2, 4, 1, 0], choices, mode='clip') # 4 goes to 3 (4-1)",
            "outputs": [
                {
                    "output_type": "execute_result",
                    "metadata": {},
                    "data": {
                        "text/plain": "array([20, 31, 12,  3])"
                    },
                    "execution_count": null
                }
            ]
        },
        {
            "id": "1fe8dd64",
            "cell_type": "code",
            "metadata": {},
            "execution_count": null,
            "source": "# because there are 4 choice arrays\nnp.choose([2, 4, 1, 0], choices, mode='wrap') # 4 goes to (4 mod 4)",
            "outputs": [
                {
                    "output_type": "execute_result",
                    "metadata": {},
                    "data": {
                        "text/plain": "array([20,  1, 12,  3])"
                    },
                    "execution_count": null
                }
            ]
        },
        {
            "id": "4289df54",
            "cell_type": "code",
            "metadata": {},
            "execution_count": null,
            "source": "# i.e., 0",
            "outputs": []
        },
        {
            "id": "a744cd09",
            "cell_type": "markdown",
            "source": "A couple examples illustrating how choose broadcasts:\n",
            "metadata": {}
        },
        {
            "id": "7527cb88",
            "cell_type": "code",
            "metadata": {},
            "execution_count": null,
            "source": "a = [[1, 0, 1], [0, 1, 0], [1, 0, 1]]\nchoices = [-10, 10]\nnp.choose(a, choices)",
            "outputs": [
                {
                    "output_type": "execute_result",
                    "metadata": {},
                    "data": {
                        "text/plain": "array([[ 10, -10,  10],\n       [-10,  10, -10],\n       [ 10, -10,  10]])"
                    },
                    "execution_count": null
                }
            ]
        },
        {
            "id": "7f2249c8",
            "cell_type": "code",
            "metadata": {},
            "execution_count": null,
            "source": "# With thanks to Anne Archibald\na = np.array([0, 1]).reshape((2,1,1))\nc1 = np.array([1, 2, 3]).reshape((1,3,1))\nc2 = np.array([-1, -2, -3, -4, -5]).reshape((1,1,5))\nnp.choose(a, (c1, c2)) # result is 2x3x5, res[0,:,:]=c1, res[1,:,:]=c2",
            "outputs": [
                {
                    "output_type": "execute_result",
                    "metadata": {},
                    "data": {
                        "text/plain": "array([[[ 1,  1,  1,  1,  1],\n        [ 2,  2,  2,  2,  2],\n        [ 3,  3,  3,  3,  3]],\n       [[-1, -2, -3, -4, -5],\n        [-1, -2, -3, -4, -5],\n        [-1, -2, -3, -4, -5]]])"
                    },
                    "execution_count": null
                }
            ]
        }
    ]
}