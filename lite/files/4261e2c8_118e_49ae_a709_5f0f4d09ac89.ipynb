{
    "nbformat": 4,
    "nbformat_minor": 5,
    "metadata": {
        "kernelspec": {
            "display_name": "Python",
            "language": "python",
            "name": "python"
        },
        "language_info": {
            "name": "python"
        }
    },
    "cells": [
        {
            "id": "f5034cbd",
            "cell_type": "markdown",
            "source": "<div class='alert alert-warning'>\n\nNumPy's interactive examples are experimental and may not always work as expected, with high load times especially on low-resource platforms, and the version of NumPy might not be in sync with the one you are browsing the documentation for. If you encounter any issues, please report them on the [NumPy issue tracker](https://github.com/numpy/numpy/issues).\n\n</div>",
            "metadata": {}
        },
        {
            "id": "0283b09b",
            "cell_type": "code",
            "metadata": {},
            "execution_count": null,
            "source": "import numpy as np\nimport numpy.ma as ma\nx = ma.array(np.eye(3))\nx",
            "outputs": [
                {
                    "output_type": "execute_result",
                    "metadata": {},
                    "data": {
                        "text/plain": "masked_array(\n  data=[[1., 0., 0.],\n        [0., 1., 0.],\n        [0., 0., 1.]],\n  mask=False,\n  fill_value=1e+20)"
                    },
                    "execution_count": null
                }
            ]
        },
        {
            "id": "08894733",
            "cell_type": "code",
            "metadata": {},
            "execution_count": null,
            "source": "x.nonzero()",
            "outputs": [
                {
                    "output_type": "execute_result",
                    "metadata": {},
                    "data": {
                        "text/plain": "(array([0, 1, 2]), array([0, 1, 2]))"
                    },
                    "execution_count": null
                }
            ]
        },
        {
            "id": "67139804",
            "cell_type": "markdown",
            "source": "Masked elements are ignored.\n",
            "metadata": {}
        },
        {
            "id": "5a3b392a",
            "cell_type": "code",
            "metadata": {},
            "execution_count": null,
            "source": "x[1, 1] = ma.masked\nx",
            "outputs": [
                {
                    "output_type": "execute_result",
                    "metadata": {},
                    "data": {
                        "text/plain": "masked_array(\n  data=[[1.0, 0.0, 0.0],\n        [0.0, --, 0.0],\n        [0.0, 0.0, 1.0]],\n  mask=[[False, False, False],\n        [False,  True, False],\n        [False, False, False]],\n  fill_value=1e+20)"
                    },
                    "execution_count": null
                }
            ]
        },
        {
            "id": "8027ca1e",
            "cell_type": "code",
            "metadata": {},
            "execution_count": null,
            "source": "x.nonzero()",
            "outputs": [
                {
                    "output_type": "execute_result",
                    "metadata": {},
                    "data": {
                        "text/plain": "(array([0, 2]), array([0, 2]))"
                    },
                    "execution_count": null
                }
            ]
        },
        {
            "id": "3b4211c5",
            "cell_type": "markdown",
            "source": "Indices can also be grouped by element.\n",
            "metadata": {}
        },
        {
            "id": "591276d1",
            "cell_type": "code",
            "metadata": {},
            "execution_count": null,
            "source": "np.transpose(x.nonzero())",
            "outputs": [
                {
                    "output_type": "execute_result",
                    "metadata": {},
                    "data": {
                        "text/plain": "array([[0, 0],\n       [2, 2]])"
                    },
                    "execution_count": null
                }
            ]
        },
        {
            "id": "52d541e8",
            "cell_type": "markdown",
            "source": "A common use for ``nonzero`` is to find the indices of an array, where\na condition is True.  Given an array `a`, the condition `a` > 3 is a\nboolean array and since False is interpreted as 0, ma.nonzero(a > 3)\nyields the indices of the `a` where the condition is true.\n",
            "metadata": {}
        },
        {
            "id": "81c6840e",
            "cell_type": "code",
            "metadata": {},
            "execution_count": null,
            "source": "a = ma.array([[1,2,3],[4,5,6],[7,8,9]])\na > 3",
            "outputs": [
                {
                    "output_type": "execute_result",
                    "metadata": {},
                    "data": {
                        "text/plain": "masked_array(\n  data=[[False, False, False],\n        [ True,  True,  True],\n        [ True,  True,  True]],\n  mask=False,\n  fill_value=True)"
                    },
                    "execution_count": null
                }
            ]
        },
        {
            "id": "8534cd8a",
            "cell_type": "code",
            "metadata": {},
            "execution_count": null,
            "source": "ma.nonzero(a > 3)",
            "outputs": [
                {
                    "output_type": "execute_result",
                    "metadata": {},
                    "data": {
                        "text/plain": "(array([1, 1, 1, 2, 2, 2]), array([0, 1, 2, 0, 1, 2]))"
                    },
                    "execution_count": null
                }
            ]
        },
        {
            "id": "384598e9",
            "cell_type": "markdown",
            "source": "The ``nonzero`` method of the condition array can also be called.\n",
            "metadata": {}
        },
        {
            "id": "a690555e",
            "cell_type": "code",
            "metadata": {},
            "execution_count": null,
            "source": "(a > 3).nonzero()",
            "outputs": [
                {
                    "output_type": "execute_result",
                    "metadata": {},
                    "data": {
                        "text/plain": "(array([1, 1, 1, 2, 2, 2]), array([0, 1, 2, 0, 1, 2]))"
                    },
                    "execution_count": null
                }
            ]
        }
    ]
}