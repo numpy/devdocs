{
    "nbformat": 4,
    "nbformat_minor": 5,
    "metadata": {
        "kernelspec": {
            "display_name": "Python",
            "language": "python",
            "name": "python"
        },
        "language_info": {
            "name": "python"
        }
    },
    "cells": [
        {
            "id": "0b66fc64",
            "cell_type": "markdown",
            "source": "<div class='alert alert-warning'>\n\nNumPy's interactive examples are experimental and may not always work as expected, with high load times especially on low-resource platforms, and the version of NumPy might not be in sync with the one you are browsing the documentation for. If you encounter any issues, please report them on the [NumPy issue tracker](https://github.com/numpy/numpy/issues).\n\n</div>",
            "metadata": {}
        },
        {
            "id": "f166ea39",
            "cell_type": "code",
            "metadata": {},
            "execution_count": null,
            "source": "import numpy as np\nnp.linspace(2.0, 3.0, num=5)",
            "outputs": [
                {
                    "output_type": "execute_result",
                    "metadata": {},
                    "data": {
                        "text/plain": "array([2.  , 2.25, 2.5 , 2.75, 3.  ])"
                    },
                    "execution_count": null
                }
            ]
        },
        {
            "id": "0ead37d4",
            "cell_type": "code",
            "metadata": {},
            "execution_count": null,
            "source": "np.linspace(2.0, 3.0, num=5, endpoint=False)",
            "outputs": [
                {
                    "output_type": "execute_result",
                    "metadata": {},
                    "data": {
                        "text/plain": "array([2. ,  2.2,  2.4,  2.6,  2.8])"
                    },
                    "execution_count": null
                }
            ]
        },
        {
            "id": "0f6849f3",
            "cell_type": "code",
            "metadata": {},
            "execution_count": null,
            "source": "np.linspace(2.0, 3.0, num=5, retstep=True)",
            "outputs": [
                {
                    "output_type": "execute_result",
                    "metadata": {},
                    "data": {
                        "text/plain": "(array([2.  ,  2.25,  2.5 ,  2.75,  3.  ]), 0.25)"
                    },
                    "execution_count": null
                }
            ]
        },
        {
            "id": "eef4ebfd",
            "cell_type": "markdown",
            "source": "Graphical illustration:\n",
            "metadata": {}
        },
        {
            "id": "b0789be8",
            "cell_type": "code",
            "metadata": {},
            "execution_count": null,
            "source": "import matplotlib.pyplot as plt\nN = 8\ny = np.zeros(N)\nx1 = np.linspace(0, 10, N, endpoint=True)\nx2 = np.linspace(0, 10, N, endpoint=False)\nplt.plot(x1, y, 'o')",
            "outputs": [
                {
                    "output_type": "execute_result",
                    "metadata": {},
                    "data": {
                        "text/plain": "[<matplotlib.lines.Line2D object at 0x...>]"
                    },
                    "execution_count": null
                }
            ]
        },
        {
            "id": "fad20b5a",
            "cell_type": "code",
            "metadata": {},
            "execution_count": null,
            "source": "plt.plot(x2, y + 0.5, 'o')",
            "outputs": [
                {
                    "output_type": "execute_result",
                    "metadata": {},
                    "data": {
                        "text/plain": "[<matplotlib.lines.Line2D object at 0x...>]"
                    },
                    "execution_count": null
                }
            ]
        },
        {
            "id": "4b4568fa",
            "cell_type": "code",
            "metadata": {},
            "execution_count": null,
            "source": "plt.ylim([-0.5, 1])",
            "outputs": [
                {
                    "output_type": "execute_result",
                    "metadata": {},
                    "data": {
                        "text/plain": "(-0.5, 1)"
                    },
                    "execution_count": null
                }
            ]
        },
        {
            "id": "a51e9cf1",
            "cell_type": "code",
            "metadata": {},
            "execution_count": null,
            "source": "plt.show()",
            "outputs": []
        }
    ]
}