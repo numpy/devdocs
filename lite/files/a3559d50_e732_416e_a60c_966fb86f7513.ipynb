{
    "nbformat": 4,
    "nbformat_minor": 5,
    "metadata": {
        "kernelspec": {
            "display_name": "Python",
            "language": "python",
            "name": "python"
        },
        "language_info": {
            "name": "python"
        }
    },
    "cells": [
        {
            "id": "44846c7a",
            "cell_type": "markdown",
            "source": "<div class='alert alert-warning'>\n\nNumPy's interactive examples are experimental and may not always work as expected, with high load times especially on low-resource platforms, and the version of NumPy might not be in sync with the one you are browsing the documentation for. If you encounter any issues, please report them on the [NumPy issue tracker](https://github.com/numpy/numpy/issues).\n\n</div>",
            "metadata": {}
        },
        {
            "id": "4fd97ef9",
            "cell_type": "markdown",
            "source": "For 2-D arrays it is the matrix product:\n",
            "metadata": {}
        },
        {
            "id": "4a5847f5",
            "cell_type": "code",
            "metadata": {},
            "execution_count": null,
            "source": "a = np.array([[1, 0],\n              [0, 1]])\nb = np.array([[4, 1],\n              [2, 2]])\nnp.linalg.matmul(a, b)",
            "outputs": [
                {
                    "output_type": "execute_result",
                    "metadata": {},
                    "data": {
                        "text/plain": "array([[4, 1],\n       [2, 2]])"
                    },
                    "execution_count": null
                }
            ]
        },
        {
            "id": "fad9fa00",
            "cell_type": "markdown",
            "source": "For 2-D mixed with 1-D, the result is the usual.\n",
            "metadata": {}
        },
        {
            "id": "bec969ec",
            "cell_type": "code",
            "metadata": {},
            "execution_count": null,
            "source": "a = np.array([[1, 0],\n              [0, 1]])\nb = np.array([1, 2])\nnp.linalg.matmul(a, b)",
            "outputs": [
                {
                    "output_type": "execute_result",
                    "metadata": {},
                    "data": {
                        "text/plain": "array([1, 2])"
                    },
                    "execution_count": null
                }
            ]
        },
        {
            "id": "624ca1df",
            "cell_type": "code",
            "metadata": {},
            "execution_count": null,
            "source": "np.linalg.matmul(b, a)",
            "outputs": [
                {
                    "output_type": "execute_result",
                    "metadata": {},
                    "data": {
                        "text/plain": "array([1, 2])"
                    },
                    "execution_count": null
                }
            ]
        },
        {
            "id": "50ab2086",
            "cell_type": "markdown",
            "source": "Broadcasting is conventional for stacks of arrays\n",
            "metadata": {}
        },
        {
            "id": "f4c1c2d8",
            "cell_type": "code",
            "metadata": {},
            "execution_count": null,
            "source": "a = np.arange(2 * 2 * 4).reshape((2, 2, 4))\nb = np.arange(2 * 2 * 4).reshape((2, 4, 2))\nnp.linalg.matmul(a,b).shape",
            "outputs": [
                {
                    "output_type": "execute_result",
                    "metadata": {},
                    "data": {
                        "text/plain": "(2, 2, 2)"
                    },
                    "execution_count": null
                }
            ]
        },
        {
            "id": "6b286725",
            "cell_type": "code",
            "metadata": {},
            "execution_count": null,
            "source": "np.linalg.matmul(a, b)[0, 1, 1]",
            "outputs": [
                {
                    "output_type": "execute_result",
                    "metadata": {},
                    "data": {
                        "text/plain": "98"
                    },
                    "execution_count": null
                }
            ]
        },
        {
            "id": "5078a12a",
            "cell_type": "code",
            "metadata": {},
            "execution_count": null,
            "source": "sum(a[0, 1, :] * b[0 , :, 1])",
            "outputs": [
                {
                    "output_type": "execute_result",
                    "metadata": {},
                    "data": {
                        "text/plain": "98"
                    },
                    "execution_count": null
                }
            ]
        },
        {
            "id": "bceecbc7",
            "cell_type": "markdown",
            "source": "Vector, vector returns the scalar inner product, but neither argument\nis complex-conjugated:\n",
            "metadata": {}
        },
        {
            "id": "ee3d91da",
            "cell_type": "code",
            "metadata": {},
            "execution_count": null,
            "source": "np.linalg.matmul([2j, 3j], [2j, 3j])",
            "outputs": [
                {
                    "output_type": "execute_result",
                    "metadata": {},
                    "data": {
                        "text/plain": "(-13+0j)"
                    },
                    "execution_count": null
                }
            ]
        },
        {
            "id": "4fdff853",
            "cell_type": "markdown",
            "source": "Scalar multiplication raises an error.\n",
            "metadata": {}
        },
        {
            "id": "1f7b7fa3",
            "cell_type": "code",
            "metadata": {},
            "execution_count": null,
            "source": "np.linalg.matmul([1,2], 3)\n",
            "outputs": [
                {
                    "output_type": "execute_result",
                    "metadata": {},
                    "data": {
                        "text/plain": "Traceback (most recent call last):\nValueError: matmul: Input operand 1 does not have enough dimensions ..."
                    },
                    "execution_count": null
                }
            ]
        }
    ]
}