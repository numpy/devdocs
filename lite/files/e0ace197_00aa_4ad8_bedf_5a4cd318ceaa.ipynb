{
    "nbformat": 4,
    "nbformat_minor": 5,
    "metadata": {
        "kernelspec": {
            "display_name": "Python",
            "language": "python",
            "name": "python"
        },
        "language_info": {
            "name": "python"
        }
    },
    "cells": [
        {
            "id": "d528cfa5",
            "cell_type": "markdown",
            "source": "<div class='alert alert-warning'>\n\nNumPy's interactive examples are experimental and may not always work as expected, with high load times especially on low-resource platforms, and the version of NumPy might not be in sync with the one you are browsing the documentation for. If you encounter any issues, please report them on the [NumPy issue tracker](https://github.com/numpy/numpy/issues).\n\n</div>",
            "metadata": {}
        },
        {
            "id": "d4f745a4",
            "cell_type": "code",
            "metadata": {},
            "execution_count": null,
            "source": "import numpy as np\narr = [[1, 2], [3, 4]]\nmask = [[0, 1], [0, 0]]\nx = np.ma.array(arr, mask=mask)\nnp.ma.compress_nd(x, axis=0)",
            "outputs": [
                {
                    "output_type": "execute_result",
                    "metadata": {},
                    "data": {
                        "text/plain": "array([[3, 4]])"
                    },
                    "execution_count": null
                }
            ]
        },
        {
            "id": "3e37f34e",
            "cell_type": "code",
            "metadata": {},
            "execution_count": null,
            "source": "np.ma.compress_nd(x, axis=1)",
            "outputs": [
                {
                    "output_type": "execute_result",
                    "metadata": {},
                    "data": {
                        "text/plain": "array([[1],\n       [3]])"
                    },
                    "execution_count": null
                }
            ]
        },
        {
            "id": "a6d7b8f5",
            "cell_type": "code",
            "metadata": {},
            "execution_count": null,
            "source": "np.ma.compress_nd(x)",
            "outputs": [
                {
                    "output_type": "execute_result",
                    "metadata": {},
                    "data": {
                        "text/plain": "array([[3]])"
                    },
                    "execution_count": null
                }
            ]
        }
    ]
}