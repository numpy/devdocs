{
    "nbformat": 4,
    "nbformat_minor": 5,
    "metadata": {
        "kernelspec": {
            "display_name": "Python",
            "language": "python",
            "name": "python"
        },
        "language_info": {
            "name": "python"
        }
    },
    "cells": [
        {
            "id": "3a16475f",
            "cell_type": "markdown",
            "source": "<div class='alert alert-warning'>\n\nNumPy's interactive examples are experimental and may not always work as expected, with high load times especially on low-resource platforms, and the version of NumPy might not be in sync with the one you are browsing the documentation for. If you encounter any issues, please report them on the [NumPy issue tracker](https://github.com/numpy/numpy/issues).\n\n</div>",
            "metadata": {}
        },
        {
            "id": "97ccaf8b",
            "cell_type": "code",
            "metadata": {},
            "execution_count": null,
            "source": "import numpy as np",
            "outputs": []
        },
        {
            "id": "26f40091",
            "cell_type": "code",
            "metadata": {},
            "execution_count": null,
            "source": "a = np.arange(24).reshape(2,3,4)\nit = np.nditer([a, None], flags=['reduce_ok',\n                                 'buffered', 'delay_bufalloc'],\n            op_flags=[['readonly'], ['readwrite', 'allocate']],\n            op_axes=[None, [0,1,-1]])\nwith it:\n    it.operands[1][...] = 0\n    it.reset()\n    for x, y in it:\n        y[...] += x\n    result = it.operands[1]\n\nresult",
            "outputs": [
                {
                    "output_type": "execute_result",
                    "metadata": {},
                    "data": {
                        "text/plain": "array([[ 6, 22, 38],\n       [54, 70, 86]])"
                    },
                    "execution_count": null
                }
            ]
        }
    ]
}