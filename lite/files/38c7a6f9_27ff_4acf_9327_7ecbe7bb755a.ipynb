{
    "nbformat": 4,
    "nbformat_minor": 5,
    "metadata": {
        "kernelspec": {
            "display_name": "Python",
            "language": "python",
            "name": "python"
        },
        "language_info": {
            "name": "python"
        }
    },
    "cells": [
        {
            "id": "7fd13db4",
            "cell_type": "markdown",
            "source": "<div class='alert alert-warning'>\n\nNumPy's interactive examples are experimental and may not always work as expected, with high load times especially on low-resource platforms, and the version of NumPy might not be in sync with the one you are browsing the documentation for. If you encounter any issues, please report them on the [NumPy issue tracker](https://github.com/numpy/numpy/issues).\n\n</div>",
            "metadata": {}
        },
        {
            "id": "7c51dbb1",
            "cell_type": "markdown",
            "source": "A simple ISO date:\n",
            "metadata": {}
        },
        {
            "id": "25812c80",
            "cell_type": "code",
            "metadata": {},
            "execution_count": null,
            "source": "import numpy as np",
            "outputs": []
        },
        {
            "id": "49f71b0a",
            "cell_type": "code",
            "metadata": {},
            "execution_count": null,
            "source": "np.datetime64('2005-02-25')",
            "outputs": [
                {
                    "output_type": "execute_result",
                    "metadata": {},
                    "data": {
                        "text/plain": "np.datetime64('2005-02-25')"
                    },
                    "execution_count": null
                }
            ]
        },
        {
            "id": "23a09f9a",
            "cell_type": "markdown",
            "source": "From an integer and a date unit, 1 year since the UNIX epoch:\n",
            "metadata": {}
        },
        {
            "id": "c661a598",
            "cell_type": "code",
            "metadata": {},
            "execution_count": null,
            "source": "np.datetime64(1, 'Y')",
            "outputs": [
                {
                    "output_type": "execute_result",
                    "metadata": {},
                    "data": {
                        "text/plain": "np.datetime64('1971')"
                    },
                    "execution_count": null
                }
            ]
        },
        {
            "id": "934f06fb",
            "cell_type": "markdown",
            "source": "Using months for the unit:\n",
            "metadata": {}
        },
        {
            "id": "9bd6bf65",
            "cell_type": "code",
            "metadata": {},
            "execution_count": null,
            "source": "np.datetime64('2005-02')",
            "outputs": [
                {
                    "output_type": "execute_result",
                    "metadata": {},
                    "data": {
                        "text/plain": "np.datetime64('2005-02')"
                    },
                    "execution_count": null
                }
            ]
        },
        {
            "id": "639ec1a3",
            "cell_type": "markdown",
            "source": "Specifying just the month, but forcing a 'days' unit:\n",
            "metadata": {}
        },
        {
            "id": "47f313c1",
            "cell_type": "code",
            "metadata": {},
            "execution_count": null,
            "source": "np.datetime64('2005-02', 'D')",
            "outputs": [
                {
                    "output_type": "execute_result",
                    "metadata": {},
                    "data": {
                        "text/plain": "np.datetime64('2005-02-01')"
                    },
                    "execution_count": null
                }
            ]
        },
        {
            "id": "31b3e1ac",
            "cell_type": "markdown",
            "source": "From a date and time:\n",
            "metadata": {}
        },
        {
            "id": "e2b62952",
            "cell_type": "code",
            "metadata": {},
            "execution_count": null,
            "source": "np.datetime64('2005-02-25T03:30')",
            "outputs": [
                {
                    "output_type": "execute_result",
                    "metadata": {},
                    "data": {
                        "text/plain": "np.datetime64('2005-02-25T03:30')"
                    },
                    "execution_count": null
                }
            ]
        },
        {
            "id": "0bcaa672",
            "cell_type": "markdown",
            "source": "NAT (not a time):\n",
            "metadata": {}
        },
        {
            "id": "6058122a",
            "cell_type": "code",
            "metadata": {},
            "execution_count": null,
            "source": "np.datetime64('nat')",
            "outputs": [
                {
                    "output_type": "execute_result",
                    "metadata": {},
                    "data": {
                        "text/plain": "np.datetime64('NaT')"
                    },
                    "execution_count": null
                }
            ]
        },
        {
            "id": "2bc90567",
            "cell_type": "markdown",
            "source": "The current time (UTC, default second precision):\n",
            "metadata": {}
        },
        {
            "id": "e6f5419b",
            "cell_type": "code",
            "metadata": {},
            "execution_count": null,
            "source": "np.datetime64('now')",
            "outputs": [
                {
                    "output_type": "execute_result",
                    "metadata": {},
                    "data": {
                        "text/plain": "np.datetime64('2025-08-05T02:22:14')  # result will depend on the current time"
                    },
                    "execution_count": null
                }
            ]
        },
        {
            "id": "da68c087",
            "cell_type": "code",
            "metadata": {},
            "execution_count": null,
            "source": "np.datetime64('now', 'D')",
            "outputs": [
                {
                    "output_type": "execute_result",
                    "metadata": {},
                    "data": {
                        "text/plain": "np.datetime64('2025-08-05')"
                    },
                    "execution_count": null
                }
            ]
        },
        {
            "id": "ef3dee4e",
            "cell_type": "code",
            "metadata": {},
            "execution_count": null,
            "source": "np.datetime64('now', 'ms')",
            "outputs": [
                {
                    "output_type": "execute_result",
                    "metadata": {},
                    "data": {
                        "text/plain": "np.datetime64('2025-08-05T02:22:14.000')"
                    },
                    "execution_count": null
                }
            ]
        },
        {
            "id": "5ad234e7",
            "cell_type": "markdown",
            "source": "The current date:\n",
            "metadata": {}
        },
        {
            "id": "3f768605",
            "cell_type": "code",
            "metadata": {},
            "execution_count": null,
            "source": "np.datetime64('today')",
            "outputs": [
                {
                    "output_type": "execute_result",
                    "metadata": {},
                    "data": {
                        "text/plain": "np.datetime64('2025-08-05')  # result will depend on the current date"
                    },
                    "execution_count": null
                }
            ]
        }
    ]
}