{
    "nbformat": 4,
    "nbformat_minor": 5,
    "metadata": {
        "kernelspec": {
            "display_name": "Python",
            "language": "python",
            "name": "python"
        },
        "language_info": {
            "name": "python"
        }
    },
    "cells": [
        {
            "id": "34cd6c06",
            "cell_type": "markdown",
            "source": "<div class='alert alert-warning'>\n\nNumPy's interactive examples are experimental and may not always work as expected, with high load times especially on low-resource platforms, and the version of NumPy might not be in sync with the one you are browsing the documentation for. If you encounter any issues, please report them on the [NumPy issue tracker](https://github.com/numpy/numpy/issues).\n\n</div>",
            "metadata": {}
        },
        {
            "id": "41fba1b7",
            "cell_type": "code",
            "metadata": {},
            "execution_count": null,
            "source": "import numpy as np\na = np.array([1+2j, 3+4j, 5+6j])\na.imag",
            "outputs": [
                {
                    "output_type": "execute_result",
                    "metadata": {},
                    "data": {
                        "text/plain": "array([2.,  4.,  6.])"
                    },
                    "execution_count": null
                }
            ]
        },
        {
            "id": "49f3ae1a",
            "cell_type": "code",
            "metadata": {},
            "execution_count": null,
            "source": "a.imag = np.array([8, 10, 12])\na",
            "outputs": [
                {
                    "output_type": "execute_result",
                    "metadata": {},
                    "data": {
                        "text/plain": "array([1. +8.j,  3.+10.j,  5.+12.j])"
                    },
                    "execution_count": null
                }
            ]
        },
        {
            "id": "eea330c6",
            "cell_type": "code",
            "metadata": {},
            "execution_count": null,
            "source": "np.imag(1 + 1j)",
            "outputs": [
                {
                    "output_type": "execute_result",
                    "metadata": {},
                    "data": {
                        "text/plain": "1.0"
                    },
                    "execution_count": null
                }
            ]
        }
    ]
}