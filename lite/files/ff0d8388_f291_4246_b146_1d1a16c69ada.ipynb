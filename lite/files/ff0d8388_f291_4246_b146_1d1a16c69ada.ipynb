{
    "nbformat": 4,
    "nbformat_minor": 5,
    "metadata": {
        "kernelspec": {
            "display_name": "Python",
            "language": "python",
            "name": "python"
        },
        "language_info": {
            "name": "python"
        }
    },
    "cells": [
        {
            "id": "c1e3a947",
            "cell_type": "markdown",
            "source": "<div class='alert alert-warning'>\n\nNumPy's interactive examples are experimental and may not always work as expected, with high load times especially on low-resource platforms, and the version of NumPy might not be in sync with the one you are browsing the documentation for. If you encounter any issues, please report them on the [NumPy issue tracker](https://github.com/numpy/numpy/issues).\n\n</div>",
            "metadata": {}
        },
        {
            "id": "7bb4b745",
            "cell_type": "code",
            "metadata": {},
            "execution_count": null,
            "source": "m = np.matrix('[1, 2; 3, 4]'); m",
            "outputs": [
                {
                    "output_type": "execute_result",
                    "metadata": {},
                    "data": {
                        "text/plain": "matrix([[1, 2],\n        [3, 4]])"
                    },
                    "execution_count": null
                }
            ]
        },
        {
            "id": "bc8dc0b0",
            "cell_type": "code",
            "metadata": {},
            "execution_count": null,
            "source": "m.getI()",
            "outputs": [
                {
                    "output_type": "execute_result",
                    "metadata": {},
                    "data": {
                        "text/plain": "matrix([[-2. ,  1. ],\n        [ 1.5, -0.5]])"
                    },
                    "execution_count": null
                }
            ]
        },
        {
            "id": "c616388a",
            "cell_type": "code",
            "metadata": {},
            "execution_count": null,
            "source": "m.getI() * m",
            "outputs": [
                {
                    "output_type": "execute_result",
                    "metadata": {},
                    "data": {
                        "text/plain": "matrix([[ 1.,  0.], # may vary\n        [ 0.,  1.]])"
                    },
                    "execution_count": null
                }
            ]
        }
    ]
}