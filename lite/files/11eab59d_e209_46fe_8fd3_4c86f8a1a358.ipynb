{
    "nbformat": 4,
    "nbformat_minor": 5,
    "metadata": {
        "kernelspec": {
            "display_name": "Python",
            "language": "python",
            "name": "python"
        },
        "language_info": {
            "name": "python"
        }
    },
    "cells": [
        {
            "id": "b9a86d4d",
            "cell_type": "markdown",
            "source": "<div class='alert alert-warning'>\n\nNumPy's interactive examples are experimental and may not always work as expected, with high load times especially on low-resource platforms, and the version of NumPy might not be in sync with the one you are browsing the documentation for. If you encounter any issues, please report them on the [NumPy issue tracker](https://github.com/numpy/numpy/issues).\n\n</div>",
            "metadata": {}
        },
        {
            "id": "cea35e4c",
            "cell_type": "code",
            "metadata": {},
            "execution_count": null,
            "source": "import numpy as np\ns = np.array(['foo', 'bar'])\ns",
            "outputs": [
                {
                    "output_type": "execute_result",
                    "metadata": {},
                    "data": {
                        "text/plain": "array(['foo', 'bar'], dtype='<U3')"
                    },
                    "execution_count": null
                }
            ]
        },
        {
            "id": "21395433",
            "cell_type": "code",
            "metadata": {},
            "execution_count": null,
            "source": "np.strings.startswith(s, 'fo')",
            "outputs": [
                {
                    "output_type": "execute_result",
                    "metadata": {},
                    "data": {
                        "text/plain": "array([True,  False])"
                    },
                    "execution_count": null
                }
            ]
        },
        {
            "id": "94d97e34",
            "cell_type": "code",
            "metadata": {},
            "execution_count": null,
            "source": "np.strings.startswith(s, 'o', start=1, end=2)",
            "outputs": [
                {
                    "output_type": "execute_result",
                    "metadata": {},
                    "data": {
                        "text/plain": "array([True,  False])"
                    },
                    "execution_count": null
                }
            ]
        }
    ]
}