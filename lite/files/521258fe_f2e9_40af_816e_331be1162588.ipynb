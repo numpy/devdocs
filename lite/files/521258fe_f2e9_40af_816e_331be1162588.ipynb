{
    "nbformat": 4,
    "nbformat_minor": 5,
    "metadata": {
        "kernelspec": {
            "display_name": "Python",
            "language": "python",
            "name": "python"
        },
        "language_info": {
            "name": "python"
        }
    },
    "cells": [
        {
            "id": "774530be",
            "cell_type": "markdown",
            "source": "<div class='alert alert-warning'>\n\nNumPy's interactive examples are experimental and may not always work as expected, with high load times especially on low-resource platforms, and the version of NumPy might not be in sync with the one you are browsing the documentation for. If you encounter any issues, please report them on the [NumPy issue tracker](https://github.com/numpy/numpy/issues).\n\n</div>",
            "metadata": {}
        },
        {
            "id": "ba90764c",
            "cell_type": "code",
            "metadata": {},
            "execution_count": null,
            "source": "import numpy as np\nnp.fmax([2, 3, 4], [1, 5, 2])",
            "outputs": [
                {
                    "output_type": "execute_result",
                    "metadata": {},
                    "data": {
                        "text/plain": "array([ 2,  5,  4])"
                    },
                    "execution_count": null
                }
            ]
        },
        {
            "id": "80f8aa6b",
            "cell_type": "code",
            "metadata": {},
            "execution_count": null,
            "source": "np.fmax(np.eye(2), [0.5, 2])",
            "outputs": [
                {
                    "output_type": "execute_result",
                    "metadata": {},
                    "data": {
                        "text/plain": "array([[ 1. ,  2. ],\n       [ 0.5,  2. ]])"
                    },
                    "execution_count": null
                }
            ]
        },
        {
            "id": "de28c45b",
            "cell_type": "code",
            "metadata": {},
            "execution_count": null,
            "source": "np.fmax([np.nan, 0, np.nan],[0, np.nan, np.nan])",
            "outputs": [
                {
                    "output_type": "execute_result",
                    "metadata": {},
                    "data": {
                        "text/plain": "array([ 0.,  0., nan])"
                    },
                    "execution_count": null
                }
            ]
        }
    ]
}