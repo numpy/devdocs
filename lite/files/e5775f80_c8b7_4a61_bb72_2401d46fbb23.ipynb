{
    "nbformat": 4,
    "nbformat_minor": 5,
    "metadata": {
        "kernelspec": {
            "display_name": "Python",
            "language": "python",
            "name": "python"
        },
        "language_info": {
            "name": "python"
        }
    },
    "cells": [
        {
            "id": "a97e0f4c",
            "cell_type": "markdown",
            "source": "<div class='alert alert-warning'>\n\nNumPy's interactive examples are experimental and may not always work as expected, with high load times especially on low-resource platforms, and the version of NumPy might not be in sync with the one you are browsing the documentation for. If you encounter any issues, please report them on the [NumPy issue tracker](https://github.com/numpy/numpy/issues).\n\n</div>",
            "metadata": {}
        },
        {
            "id": "778bf331",
            "cell_type": "code",
            "metadata": {},
            "execution_count": null,
            "source": "import numpy as np\nm = np.array([[1,2],[3,4]], int)\nm",
            "outputs": [
                {
                    "output_type": "execute_result",
                    "metadata": {},
                    "data": {
                        "text/plain": "array([[1, 2],\n       [3, 4]])"
                    },
                    "execution_count": null
                }
            ]
        },
        {
            "id": "df5ff5a4",
            "cell_type": "code",
            "metadata": {},
            "execution_count": null,
            "source": "np.rot90(m)",
            "outputs": [
                {
                    "output_type": "execute_result",
                    "metadata": {},
                    "data": {
                        "text/plain": "array([[2, 4],\n       [1, 3]])"
                    },
                    "execution_count": null
                }
            ]
        },
        {
            "id": "9d290c4f",
            "cell_type": "code",
            "metadata": {},
            "execution_count": null,
            "source": "np.rot90(m, 2)",
            "outputs": [
                {
                    "output_type": "execute_result",
                    "metadata": {},
                    "data": {
                        "text/plain": "array([[4, 3],\n       [2, 1]])"
                    },
                    "execution_count": null
                }
            ]
        },
        {
            "id": "5b7453f1",
            "cell_type": "code",
            "metadata": {},
            "execution_count": null,
            "source": "m = np.arange(8).reshape((2,2,2))\nnp.rot90(m, 1, (1,2))",
            "outputs": [
                {
                    "output_type": "execute_result",
                    "metadata": {},
                    "data": {
                        "text/plain": "array([[[1, 3],\n        [0, 2]],\n       [[5, 7],\n        [4, 6]]])"
                    },
                    "execution_count": null
                }
            ]
        }
    ]
}