{
    "nbformat": 4,
    "nbformat_minor": 5,
    "metadata": {
        "kernelspec": {
            "display_name": "Python",
            "language": "python",
            "name": "python"
        },
        "language_info": {
            "name": "python"
        }
    },
    "cells": [
        {
            "id": "b5387881",
            "cell_type": "markdown",
            "source": "<div class='alert alert-warning'>\n\nNumPy's interactive examples are experimental and may not always work as expected, with high load times especially on low-resource platforms, and the version of NumPy might not be in sync with the one you are browsing the documentation for. If you encounter any issues, please report them on the [NumPy issue tracker](https://github.com/numpy/numpy/issues).\n\n</div>",
            "metadata": {}
        },
        {
            "id": "7648c2b1",
            "cell_type": "code",
            "metadata": {},
            "execution_count": null,
            "source": "import numpy as np\nfrom numpy.polynomial import polynomial as P\nx = np.asarray([-1, 2, 1])\ny = np.asarray([1, -2, -3])\nz = np.asarray([2, 2, 5])\nl, m, n = [2, 2, 1]\ndeg = [l, m, n]\nV = P.polyvander3d(x=x, y=y, z=z, deg=deg)\nV",
            "outputs": [
                {
                    "output_type": "execute_result",
                    "metadata": {},
                    "data": {
                        "text/plain": "array([[  1.,   2.,   1.,   2.,   1.,   2.,  -1.,  -2.,  -1.,\n         -2.,  -1.,  -2.,   1.,   2.,   1.,   2.,   1.,   2.],\n       [  1.,   2.,  -2.,  -4.,   4.,   8.,   2.,   4.,  -4.,\n         -8.,   8.,  16.,   4.,   8.,  -8., -16.,  16.,  32.],\n       [  1.,   5.,  -3., -15.,   9.,  45.,   1.,   5.,  -3.,\n        -15.,   9.,  45.,   1.,   5.,  -3., -15.,   9.,  45.]])"
                    },
                    "execution_count": null
                }
            ]
        },
        {
            "id": "b1dff320",
            "cell_type": "markdown",
            "source": "We can verify the columns for any ``0 <= i <= l``, ``0 <= j <= m``,\nand ``0 <= k <= n``\n",
            "metadata": {}
        },
        {
            "id": "f18c83e8",
            "cell_type": "code",
            "metadata": {},
            "execution_count": null,
            "source": "i, j, k = 2, 1, 0\nV[:, (m+1)*(n+1)*i + (n+1)*j + k] == x**i * y**j * z**k",
            "outputs": [
                {
                    "output_type": "execute_result",
                    "metadata": {},
                    "data": {
                        "text/plain": "array([ True,  True,  True])"
                    },
                    "execution_count": null
                }
            ]
        }
    ]
}