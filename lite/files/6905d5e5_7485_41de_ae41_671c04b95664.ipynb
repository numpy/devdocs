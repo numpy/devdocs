{
    "nbformat": 4,
    "nbformat_minor": 5,
    "metadata": {
        "kernelspec": {
            "display_name": "Python",
            "language": "python",
            "name": "python"
        },
        "language_info": {
            "name": "python"
        }
    },
    "cells": [
        {
            "id": "0f213238",
            "cell_type": "markdown",
            "source": "<div class='alert alert-warning'>\n\nNumPy's interactive examples are experimental and may not always work as expected, with high load times especially on low-resource platforms, and the version of NumPy might not be in sync with the one you are browsing the documentation for. If you encounter any issues, please report them on the [NumPy issue tracker](https://github.com/numpy/numpy/issues).\n\n</div>",
            "metadata": {}
        },
        {
            "id": "6249ccc7",
            "cell_type": "code",
            "metadata": {},
            "execution_count": null,
            "source": "import numpy as np\nx = np.array([0.2, 6.4, 3.0, 1.6])\nbins = np.array([0.0, 1.0, 2.5, 4.0, 10.0])\ninds = np.digitize(x, bins)\ninds",
            "outputs": [
                {
                    "output_type": "execute_result",
                    "metadata": {},
                    "data": {
                        "text/plain": "array([1, 4, 3, 2])"
                    },
                    "execution_count": null
                }
            ]
        },
        {
            "id": "d25ee17d",
            "cell_type": "code",
            "metadata": {},
            "execution_count": null,
            "source": "for n in range(x.size):\n  print(bins[inds[n]-1], \"<=\", x[n], \"<\", bins[inds[n]])\n",
            "outputs": [
                {
                    "output_type": "execute_result",
                    "metadata": {},
                    "data": {
                        "text/plain": "0.0 <= 0.2 < 1.0\n4.0 <= 6.4 < 10.0\n2.5 <= 3.0 < 4.0\n1.0 <= 1.6 < 2.5"
                    },
                    "execution_count": null
                }
            ]
        },
        {
            "id": "c7bb6d5b",
            "cell_type": "code",
            "metadata": {},
            "execution_count": null,
            "source": "x = np.array([1.2, 10.0, 12.4, 15.5, 20.])\nbins = np.array([0, 5, 10, 15, 20])\nnp.digitize(x,bins,right=True)",
            "outputs": [
                {
                    "output_type": "execute_result",
                    "metadata": {},
                    "data": {
                        "text/plain": "array([1, 2, 3, 4, 4])"
                    },
                    "execution_count": null
                }
            ]
        },
        {
            "id": "d090b090",
            "cell_type": "code",
            "metadata": {},
            "execution_count": null,
            "source": "np.digitize(x,bins,right=False)",
            "outputs": [
                {
                    "output_type": "execute_result",
                    "metadata": {},
                    "data": {
                        "text/plain": "array([1, 3, 3, 4, 5])"
                    },
                    "execution_count": null
                }
            ]
        }
    ]
}