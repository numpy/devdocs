{
    "nbformat": 4,
    "nbformat_minor": 5,
    "metadata": {
        "kernelspec": {
            "display_name": "Python",
            "language": "python",
            "name": "python"
        },
        "language_info": {
            "name": "python"
        }
    },
    "cells": [
        {
            "id": "8a2f333a",
            "cell_type": "markdown",
            "source": "<div class='alert alert-warning'>\n\nNumPy's interactive examples are experimental and may not always work as expected, with high load times especially on low-resource platforms, and the version of NumPy might not be in sync with the one you are browsing the documentation for. If you encounter any issues, please report them on the [NumPy issue tracker](https://github.com/numpy/numpy/issues).\n\n</div>",
            "metadata": {}
        },
        {
            "id": "012c3684",
            "cell_type": "code",
            "metadata": {},
            "execution_count": null,
            "source": "import numpy as np\nx = np.ma.array(np.arange(9.).reshape(3, 3), mask=[[0, 1, 0],\n                                                   [1, 0, 1],\n                                                   [0, 1, 0]])\nx",
            "outputs": [
                {
                    "output_type": "execute_result",
                    "metadata": {},
                    "data": {
                        "text/plain": "masked_array(\n  data=[[0.0, --, 2.0],\n        [--, 4.0, --],\n        [6.0, --, 8.0]],\n  mask=[[False,  True, False],\n        [ True, False,  True],\n        [False,  True, False]],\n  fill_value=1e+20)"
                    },
                    "execution_count": null
                }
            ]
        },
        {
            "id": "d99c4b25",
            "cell_type": "code",
            "metadata": {},
            "execution_count": null,
            "source": "np.ma.where(x > 5, x, -3.1416)",
            "outputs": [
                {
                    "output_type": "execute_result",
                    "metadata": {},
                    "data": {
                        "text/plain": "masked_array(\n  data=[[-3.1416, --, -3.1416],\n        [--, -3.1416, --],\n        [6.0, --, 8.0]],\n  mask=[[False,  True, False],\n        [ True, False,  True],\n        [False,  True, False]],\n  fill_value=1e+20)"
                    },
                    "execution_count": null
                }
            ]
        }
    ]
}