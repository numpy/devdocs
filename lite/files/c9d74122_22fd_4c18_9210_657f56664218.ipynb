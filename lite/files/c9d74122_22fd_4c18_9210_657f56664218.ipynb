{
    "nbformat": 4,
    "nbformat_minor": 5,
    "metadata": {
        "kernelspec": {
            "display_name": "Python",
            "language": "python",
            "name": "python"
        },
        "language_info": {
            "name": "python"
        }
    },
    "cells": [
        {
            "id": "a72b6e0c",
            "cell_type": "markdown",
            "source": "<div class='alert alert-warning'>\n\nNumPy's interactive examples are experimental and may not always work as expected, with high load times especially on low-resource platforms, and the version of NumPy might not be in sync with the one you are browsing the documentation for. If you encounter any issues, please report them on the [NumPy issue tracker](https://github.com/numpy/numpy/issues).\n\n</div>",
            "metadata": {}
        },
        {
            "id": "64b97ac0",
            "cell_type": "code",
            "metadata": {},
            "execution_count": null,
            "source": "x = np.array([1., 1e-10, 1e-20])\neps = np.finfo(x.dtype).eps\nnp.testing.assert_array_almost_equal_nulp(x, x*eps/2 + x)",
            "outputs": []
        },
        {
            "id": "3c70cc1a",
            "cell_type": "code",
            "metadata": {},
            "execution_count": null,
            "source": "np.testing.assert_array_almost_equal_nulp(x, x*eps + x)",
            "outputs": [
                {
                    "output_type": "execute_result",
                    "metadata": {},
                    "data": {
                        "text/plain": "Traceback (most recent call last):\n  ...\nAssertionError: Arrays are not equal to 1 ULP (max is 2)"
                    },
                    "execution_count": null
                }
            ]
        }
    ]
}