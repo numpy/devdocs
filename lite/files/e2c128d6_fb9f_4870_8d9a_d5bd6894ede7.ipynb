{
    "nbformat": 4,
    "nbformat_minor": 5,
    "metadata": {
        "kernelspec": {
            "display_name": "Python",
            "language": "python",
            "name": "python"
        },
        "language_info": {
            "name": "python"
        }
    },
    "cells": [
        {
            "id": "475c7c89",
            "cell_type": "markdown",
            "source": "<div class='alert alert-warning'>\n\nNumPy's interactive examples are experimental and may not always work as expected, with high load times especially on low-resource platforms, and the version of NumPy might not be in sync with the one you are browsing the documentation for. If you encounter any issues, please report them on the [NumPy issue tracker](https://github.com/numpy/numpy/issues).\n\n</div>",
            "metadata": {}
        },
        {
            "id": "fcf0fb3b",
            "cell_type": "code",
            "metadata": {},
            "execution_count": null,
            "source": "from numpy.polynomial.laguerre import lagval3d\nc = [[[1, 2], [3, 4]], [[5, 6], [7, 8]]]\nlagval3d(1, 1, 2, c)",
            "outputs": [
                {
                    "output_type": "execute_result",
                    "metadata": {},
                    "data": {
                        "text/plain": "-1.0"
                    },
                    "execution_count": null
                }
            ]
        }
    ]
}