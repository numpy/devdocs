{
    "nbformat": 4,
    "nbformat_minor": 5,
    "metadata": {
        "kernelspec": {
            "display_name": "Python",
            "language": "python",
            "name": "python"
        },
        "language_info": {
            "name": "python"
        }
    },
    "cells": [
        {
            "id": "538efa36",
            "cell_type": "markdown",
            "source": "<div class='alert alert-warning'>\n\nNumPy's interactive examples are experimental and may not always work as expected, with high load times especially on low-resource platforms, and the version of NumPy might not be in sync with the one you are browsing the documentation for. If you encounter any issues, please report them on the [NumPy issue tracker](https://github.com/numpy/numpy/issues).\n\n</div>",
            "metadata": {}
        },
        {
            "id": "6c9e1ca9",
            "cell_type": "code",
            "metadata": {},
            "execution_count": null,
            "source": "import numpy as np\nfor dt in [np.int32, np.int64, np.float64, np.complex128]:\n    np.ma.array([0, 1], dtype=dt).get_fill_value()\n",
            "outputs": [
                {
                    "output_type": "execute_result",
                    "metadata": {},
                    "data": {
                        "text/plain": "np.int64(999999)\nnp.int64(999999)\nnp.float64(1e+20)\nnp.complex128(1e+20+0j)"
                    },
                    "execution_count": null
                }
            ]
        },
        {
            "id": "4862c758",
            "cell_type": "code",
            "metadata": {},
            "execution_count": null,
            "source": "x = np.ma.array([0, 1.], fill_value=-np.inf)\nx.fill_value",
            "outputs": [
                {
                    "output_type": "execute_result",
                    "metadata": {},
                    "data": {
                        "text/plain": "np.float64(-inf)"
                    },
                    "execution_count": null
                }
            ]
        },
        {
            "id": "d87ef57e",
            "cell_type": "code",
            "metadata": {},
            "execution_count": null,
            "source": "x.fill_value = np.pi\nx.fill_value",
            "outputs": [
                {
                    "output_type": "execute_result",
                    "metadata": {},
                    "data": {
                        "text/plain": "np.float64(3.1415926535897931)"
                    },
                    "execution_count": null
                }
            ]
        },
        {
            "id": "7f2e78b4",
            "cell_type": "markdown",
            "source": "Reset to default:\n",
            "metadata": {}
        },
        {
            "id": "9e826dde",
            "cell_type": "code",
            "metadata": {},
            "execution_count": null,
            "source": "x.fill_value = None\nx.fill_value",
            "outputs": [
                {
                    "output_type": "execute_result",
                    "metadata": {},
                    "data": {
                        "text/plain": "np.float64(1e+20)"
                    },
                    "execution_count": null
                }
            ]
        }
    ]
}