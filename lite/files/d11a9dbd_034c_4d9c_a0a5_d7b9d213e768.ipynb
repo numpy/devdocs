{
    "nbformat": 4,
    "nbformat_minor": 5,
    "metadata": {
        "kernelspec": {
            "display_name": "Python",
            "language": "python",
            "name": "python"
        },
        "language_info": {
            "name": "python"
        }
    },
    "cells": [
        {
            "id": "e2078ecd",
            "cell_type": "markdown",
            "source": "<div class='alert alert-warning'>\n\nNumPy's interactive examples are experimental and may not always work as expected, with high load times especially on low-resource platforms, and the version of NumPy might not be in sync with the one you are browsing the documentation for. If you encounter any issues, please report them on the [NumPy issue tracker](https://github.com/numpy/numpy/issues).\n\n</div>",
            "metadata": {}
        },
        {
            "id": "30b76835",
            "cell_type": "code",
            "metadata": {},
            "execution_count": null,
            "source": "import numpy as np",
            "outputs": []
        },
        {
            "id": "bb2b9d80",
            "cell_type": "code",
            "metadata": {},
            "execution_count": null,
            "source": "dt = np.dtype('uint32')   # 32-bit unsigned integer\ndt = np.dtype('float64')  # 64-bit floating-point number",
            "outputs": []
        }
    ]
}