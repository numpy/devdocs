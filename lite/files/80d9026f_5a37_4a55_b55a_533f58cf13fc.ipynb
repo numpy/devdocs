{
    "nbformat": 4,
    "nbformat_minor": 5,
    "metadata": {
        "kernelspec": {
            "display_name": "Python",
            "language": "python",
            "name": "python"
        },
        "language_info": {
            "name": "python"
        }
    },
    "cells": [
        {
            "id": "2f1a112f",
            "cell_type": "markdown",
            "source": "<div class='alert alert-warning'>\n\nNumPy's interactive examples are experimental and may not always work as expected, with high load times especially on low-resource platforms, and the version of NumPy might not be in sync with the one you are browsing the documentation for. If you encounter any issues, please report them on the [NumPy issue tracker](https://github.com/numpy/numpy/issues).\n\n</div>",
            "metadata": {}
        },
        {
            "id": "934eb3c7",
            "cell_type": "code",
            "metadata": {},
            "execution_count": null,
            "source": "import numpy as np\nfrom numpy.lib import recfunctions as rfn\nrfn.get_names_flat(np.empty((1,), dtype=[('A', int)]).dtype) is None",
            "outputs": [
                {
                    "output_type": "execute_result",
                    "metadata": {},
                    "data": {
                        "text/plain": "False"
                    },
                    "execution_count": null
                }
            ]
        },
        {
            "id": "20a06b03",
            "cell_type": "code",
            "metadata": {},
            "execution_count": null,
            "source": "rfn.get_names_flat(np.empty((1,), dtype=[('A',int), ('B', str)]).dtype)",
            "outputs": [
                {
                    "output_type": "execute_result",
                    "metadata": {},
                    "data": {
                        "text/plain": "('A', 'B')"
                    },
                    "execution_count": null
                }
            ]
        },
        {
            "id": "09d0b550",
            "cell_type": "code",
            "metadata": {},
            "execution_count": null,
            "source": "adtype = np.dtype([('a', int), ('b', [('ba', int), ('bb', int)])])\nrfn.get_names_flat(adtype)",
            "outputs": [
                {
                    "output_type": "execute_result",
                    "metadata": {},
                    "data": {
                        "text/plain": "('a', 'b', 'ba', 'bb')"
                    },
                    "execution_count": null
                }
            ]
        }
    ]
}