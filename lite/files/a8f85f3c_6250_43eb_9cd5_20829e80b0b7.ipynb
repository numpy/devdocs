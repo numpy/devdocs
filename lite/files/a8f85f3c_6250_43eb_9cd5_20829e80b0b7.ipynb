{
    "nbformat": 4,
    "nbformat_minor": 5,
    "metadata": {
        "kernelspec": {
            "display_name": "Python",
            "language": "python",
            "name": "python"
        },
        "language_info": {
            "name": "python"
        }
    },
    "cells": [
        {
            "id": "29d1319f",
            "cell_type": "markdown",
            "source": "<div class='alert alert-warning'>\n\nNumPy's interactive examples are experimental and may not always work as expected, with high load times especially on low-resource platforms, and the version of NumPy might not be in sync with the one you are browsing the documentation for. If you encounter any issues, please report them on the [NumPy issue tracker](https://github.com/numpy/numpy/issues).\n\n</div>",
            "metadata": {}
        },
        {
            "id": "a4f02628",
            "cell_type": "code",
            "metadata": {},
            "execution_count": null,
            "source": "import numpy as np\na = np.array(['aAaAaA', 'abBABba'])\nnp.strings.rsplit(a, 'A')  # doctest: +SKIP",
            "outputs": [
                {
                    "output_type": "execute_result",
                    "metadata": {},
                    "data": {
                        "text/plain": "array([list(['a', 'a', 'a', '']),  # doctest: +SKIP\n       list(['abB', 'Bba'])], dtype=object)  # doctest: +SKIP"
                    },
                    "execution_count": null
                }
            ]
        }
    ]
}