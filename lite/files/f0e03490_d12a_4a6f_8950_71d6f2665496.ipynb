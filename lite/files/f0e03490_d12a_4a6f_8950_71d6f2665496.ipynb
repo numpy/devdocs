{
    "nbformat": 4,
    "nbformat_minor": 5,
    "metadata": {
        "kernelspec": {
            "display_name": "Python",
            "language": "python",
            "name": "python"
        },
        "language_info": {
            "name": "python"
        }
    },
    "cells": [
        {
            "id": "4f02c94d",
            "cell_type": "markdown",
            "source": "<div class='alert alert-warning'>\n\nNumPy's interactive examples are experimental and may not always work as expected, with high load times especially on low-resource platforms, and the version of NumPy might not be in sync with the one you are browsing the documentation for. If you encounter any issues, please report them on the [NumPy issue tracker](https://github.com/numpy/numpy/issues).\n\n</div>",
            "metadata": {}
        },
        {
            "id": "97075d04",
            "cell_type": "code",
            "metadata": {},
            "execution_count": null,
            "source": "import numpy as np\na = np.array([[1, 2], [3, 4]])\na",
            "outputs": [
                {
                    "output_type": "execute_result",
                    "metadata": {},
                    "data": {
                        "text/plain": "array([[1, 2],\n       [3, 4]])"
                    },
                    "execution_count": null
                }
            ]
        },
        {
            "id": "65a7dff4",
            "cell_type": "code",
            "metadata": {},
            "execution_count": null,
            "source": "a.transpose()",
            "outputs": [
                {
                    "output_type": "execute_result",
                    "metadata": {},
                    "data": {
                        "text/plain": "array([[1, 3],\n       [2, 4]])"
                    },
                    "execution_count": null
                }
            ]
        },
        {
            "id": "8fa3e288",
            "cell_type": "code",
            "metadata": {},
            "execution_count": null,
            "source": "a.transpose((1, 0))",
            "outputs": [
                {
                    "output_type": "execute_result",
                    "metadata": {},
                    "data": {
                        "text/plain": "array([[1, 3],\n       [2, 4]])"
                    },
                    "execution_count": null
                }
            ]
        },
        {
            "id": "4dd4ed94",
            "cell_type": "code",
            "metadata": {},
            "execution_count": null,
            "source": "a.transpose(1, 0)",
            "outputs": [
                {
                    "output_type": "execute_result",
                    "metadata": {},
                    "data": {
                        "text/plain": "array([[1, 3],\n       [2, 4]])"
                    },
                    "execution_count": null
                }
            ]
        },
        {
            "id": "8ac0d532",
            "cell_type": "code",
            "metadata": {},
            "execution_count": null,
            "source": "a = np.array([1, 2, 3, 4])\na",
            "outputs": [
                {
                    "output_type": "execute_result",
                    "metadata": {},
                    "data": {
                        "text/plain": "array([1, 2, 3, 4])"
                    },
                    "execution_count": null
                }
            ]
        },
        {
            "id": "17bbd26c",
            "cell_type": "code",
            "metadata": {},
            "execution_count": null,
            "source": "a.transpose()",
            "outputs": [
                {
                    "output_type": "execute_result",
                    "metadata": {},
                    "data": {
                        "text/plain": "array([1, 2, 3, 4])"
                    },
                    "execution_count": null
                }
            ]
        }
    ]
}