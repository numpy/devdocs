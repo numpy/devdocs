{
    "nbformat": 4,
    "nbformat_minor": 5,
    "metadata": {
        "kernelspec": {
            "display_name": "Python",
            "language": "python",
            "name": "python"
        },
        "language_info": {
            "name": "python"
        }
    },
    "cells": [
        {
            "id": "9d813fab",
            "cell_type": "markdown",
            "source": "<div class='alert alert-warning'>\n\nNumPy's interactive examples are experimental and may not always work as expected, with high load times especially on low-resource platforms, and the version of NumPy might not be in sync with the one you are browsing the documentation for. If you encounter any issues, please report them on the [NumPy issue tracker](https://github.com/numpy/numpy/issues).\n\n</div>",
            "metadata": {}
        },
        {
            "id": "e12c7f66",
            "cell_type": "markdown",
            "source": "A 2-dimensional array of size 2 x 3, composed of 4-byte integer\nelements:\n",
            "metadata": {}
        },
        {
            "id": "2f1ef7ff",
            "cell_type": "code",
            "metadata": {},
            "execution_count": null,
            "source": "import numpy as np",
            "outputs": []
        },
        {
            "id": "7b27992d",
            "cell_type": "code",
            "metadata": {},
            "execution_count": null,
            "source": "x = np.array([[1, 2, 3], [4, 5, 6]], np.int32)\ntype(x)",
            "outputs": [
                {
                    "output_type": "execute_result",
                    "metadata": {},
                    "data": {
                        "text/plain": "<class 'numpy.ndarray'>"
                    },
                    "execution_count": null
                }
            ]
        },
        {
            "id": "8ff2963c",
            "cell_type": "code",
            "metadata": {},
            "execution_count": null,
            "source": "x.shape",
            "outputs": [
                {
                    "output_type": "execute_result",
                    "metadata": {},
                    "data": {
                        "text/plain": "(2, 3)"
                    },
                    "execution_count": null
                }
            ]
        },
        {
            "id": "0771a43f",
            "cell_type": "code",
            "metadata": {},
            "execution_count": null,
            "source": "x.dtype",
            "outputs": [
                {
                    "output_type": "execute_result",
                    "metadata": {},
                    "data": {
                        "text/plain": "dtype('int32')"
                    },
                    "execution_count": null
                }
            ]
        },
        {
            "id": "3214e65d",
            "cell_type": "markdown",
            "source": "The array can be indexed using Python container-like syntax:\n",
            "metadata": {}
        },
        {
            "id": "36f494e8",
            "cell_type": "code",
            "metadata": {},
            "execution_count": null,
            "source": "# The element of x in the *second* row, *third* column, namely, 6.\nx[1, 2]",
            "outputs": [
                {
                    "output_type": "execute_result",
                    "metadata": {},
                    "data": {
                        "text/plain": "   6"
                    },
                    "execution_count": null
                }
            ]
        },
        {
            "id": "27ae8a24",
            "cell_type": "markdown",
            "source": "For example :ref:`slicing <arrays.indexing>` can produce views of\nthe array:\n",
            "metadata": {}
        },
        {
            "id": "f372f224",
            "cell_type": "code",
            "metadata": {},
            "execution_count": null,
            "source": "y = x[:,1]\ny",
            "outputs": [
                {
                    "output_type": "execute_result",
                    "metadata": {},
                    "data": {
                        "text/plain": "array([2, 5], dtype=int32)"
                    },
                    "execution_count": null
                }
            ]
        },
        {
            "id": "ec5ca07b",
            "cell_type": "code",
            "metadata": {},
            "execution_count": null,
            "source": "y[0] = 9 # this also changes the corresponding element in x\ny",
            "outputs": [
                {
                    "output_type": "execute_result",
                    "metadata": {},
                    "data": {
                        "text/plain": "array([9, 5], dtype=int32)"
                    },
                    "execution_count": null
                }
            ]
        },
        {
            "id": "89c20001",
            "cell_type": "code",
            "metadata": {},
            "execution_count": null,
            "source": "x",
            "outputs": [
                {
                    "output_type": "execute_result",
                    "metadata": {},
                    "data": {
                        "text/plain": "array([[1, 9, 3],\n       [4, 5, 6]], dtype=int32)"
                    },
                    "execution_count": null
                }
            ]
        }
    ]
}