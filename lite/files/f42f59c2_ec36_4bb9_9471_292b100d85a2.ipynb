{
    "nbformat": 4,
    "nbformat_minor": 5,
    "metadata": {
        "kernelspec": {
            "display_name": "Python",
            "language": "python",
            "name": "python"
        },
        "language_info": {
            "name": "python"
        }
    },
    "cells": [
        {
            "id": "8e5c1477",
            "cell_type": "markdown",
            "source": "<div class='alert alert-warning'>\n\nNumPy's interactive examples are experimental and may not always work as expected, with high load times especially on low-resource platforms, and the version of NumPy might not be in sync with the one you are browsing the documentation for. If you encounter any issues, please report them on the [NumPy issue tracker](https://github.com/numpy/numpy/issues).\n\n</div>",
            "metadata": {}
        },
        {
            "id": "4bbd6ad2",
            "cell_type": "code",
            "metadata": {},
            "execution_count": null,
            "source": "import numpy as np\nimport numpy.ma as ma\nx = ma.array(np.arange(9).reshape(3, 3), mask=[[1, 0, 0],\n                                               [1, 0, 0],\n                                               [0, 0, 0]])\nx.filled()",
            "outputs": [
                {
                    "output_type": "execute_result",
                    "metadata": {},
                    "data": {
                        "text/plain": "array([[999999,      1,      2],\n       [999999,      4,      5],\n       [     6,      7,      8]])"
                    },
                    "execution_count": null
                }
            ]
        },
        {
            "id": "8af1071e",
            "cell_type": "code",
            "metadata": {},
            "execution_count": null,
            "source": "x.filled(fill_value=333)",
            "outputs": [
                {
                    "output_type": "execute_result",
                    "metadata": {},
                    "data": {
                        "text/plain": "array([[333,   1,   2],\n       [333,   4,   5],\n       [  6,   7,   8]])"
                    },
                    "execution_count": null
                }
            ]
        },
        {
            "id": "b54ea4f1",
            "cell_type": "code",
            "metadata": {},
            "execution_count": null,
            "source": "x.filled(fill_value=np.arange(3))",
            "outputs": [
                {
                    "output_type": "execute_result",
                    "metadata": {},
                    "data": {
                        "text/plain": "array([[0, 1, 2],\n       [0, 4, 5],\n       [6, 7, 8]])"
                    },
                    "execution_count": null
                }
            ]
        }
    ]
}