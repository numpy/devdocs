{
    "nbformat": 4,
    "nbformat_minor": 5,
    "metadata": {
        "kernelspec": {
            "display_name": "Python",
            "language": "python",
            "name": "python"
        },
        "language_info": {
            "name": "python"
        }
    },
    "cells": [
        {
            "id": "480dad05",
            "cell_type": "markdown",
            "source": "<div class='alert alert-warning'>\n\nNumPy's interactive examples are experimental and may not always work as expected, with high load times especially on low-resource platforms, and the version of NumPy might not be in sync with the one you are browsing the documentation for. If you encounter any issues, please report them on the [NumPy issue tracker](https://github.com/numpy/numpy/issues).\n\n</div>",
            "metadata": {}
        },
        {
            "id": "f7d3edad",
            "cell_type": "code",
            "metadata": {},
            "execution_count": null,
            "source": "from tempfile import TemporaryFile\na = np.empty(10,dtype='f8,i4,a5')\na[5] = (0.5,10,'abcde')\n\nfd=TemporaryFile()\na = a.view(a.dtype.newbyteorder('<'))\na.tofile(fd)\n\n_ = fd.seek(0)\nr=np.rec.fromfile(fd, formats='f8,i4,a5', shape=10,\nbyteorder='<')\nprint(r[5])",
            "outputs": [
                {
                    "output_type": "execute_result",
                    "metadata": {},
                    "data": {
                        "text/plain": "(0.5, 10, b'abcde')"
                    },
                    "execution_count": null
                }
            ]
        },
        {
            "id": "6f6cd3f5",
            "cell_type": "code",
            "metadata": {},
            "execution_count": null,
            "source": "r.shape",
            "outputs": [
                {
                    "output_type": "execute_result",
                    "metadata": {},
                    "data": {
                        "text/plain": "(10,)"
                    },
                    "execution_count": null
                }
            ]
        }
    ]
}