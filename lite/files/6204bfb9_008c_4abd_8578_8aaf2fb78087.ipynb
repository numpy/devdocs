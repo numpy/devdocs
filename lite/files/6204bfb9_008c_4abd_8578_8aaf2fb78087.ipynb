{
    "nbformat": 4,
    "nbformat_minor": 5,
    "metadata": {
        "kernelspec": {
            "display_name": "Python",
            "language": "python",
            "name": "python"
        },
        "language_info": {
            "name": "python"
        }
    },
    "cells": [
        {
            "id": "08429973",
            "cell_type": "markdown",
            "source": "<div class='alert alert-warning'>\n\nNumPy's interactive examples are experimental and may not always work as expected, with high load times especially on low-resource platforms, and the version of NumPy might not be in sync with the one you are browsing the documentation for. If you encounter any issues, please report them on the [NumPy issue tracker](https://github.com/numpy/numpy/issues).\n\n</div>",
            "metadata": {}
        },
        {
            "id": "26689b79",
            "cell_type": "code",
            "metadata": {},
            "execution_count": null,
            "source": "import numpy as np\nrng = np.random.default_rng()\nx = np.arange(0, 15).reshape(3, 5)\nx #doctest: +SKIP",
            "outputs": [
                {
                    "output_type": "execute_result",
                    "metadata": {},
                    "data": {
                        "text/plain": "array([[ 0,  1,  2,  3,  4],\n       [ 5,  6,  7,  8,  9],\n       [10, 11, 12, 13, 14]])"
                    },
                    "execution_count": null
                }
            ]
        },
        {
            "id": "3ad01466",
            "cell_type": "code",
            "metadata": {},
            "execution_count": null,
            "source": "y = rng.permuted(x, axis=1, out=x)\nx #doctest: +SKIP",
            "outputs": [
                {
                    "output_type": "execute_result",
                    "metadata": {},
                    "data": {
                        "text/plain": "array([[ 1,  0,  2,  4,  3],  # random\n       [ 6,  7,  8,  9,  5],\n       [10, 14, 11, 13, 12]])"
                    },
                    "execution_count": null
                }
            ]
        },
        {
            "id": "f241bec3",
            "cell_type": "markdown",
            "source": "Note that when ``out`` is given, the return value is ``out``:\n",
            "metadata": {}
        },
        {
            "id": "758b3b40",
            "cell_type": "code",
            "metadata": {},
            "execution_count": null,
            "source": "y is x",
            "outputs": [
                {
                    "output_type": "execute_result",
                    "metadata": {},
                    "data": {
                        "text/plain": "True"
                    },
                    "execution_count": null
                }
            ]
        }
    ]
}