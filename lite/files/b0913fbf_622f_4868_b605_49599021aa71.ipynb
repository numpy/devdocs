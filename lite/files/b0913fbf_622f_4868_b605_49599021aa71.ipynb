{
    "nbformat": 4,
    "nbformat_minor": 5,
    "metadata": {
        "kernelspec": {
            "display_name": "Python",
            "language": "python",
            "name": "python"
        },
        "language_info": {
            "name": "python"
        }
    },
    "cells": [
        {
            "id": "73839384",
            "cell_type": "markdown",
            "source": "<div class='alert alert-warning'>\n\nNumPy's interactive examples are experimental and may not always work as expected, with high load times especially on low-resource platforms, and the version of NumPy might not be in sync with the one you are browsing the documentation for. If you encounter any issues, please report them on the [NumPy issue tracker](https://github.com/numpy/numpy/issues).\n\n</div>",
            "metadata": {}
        },
        {
            "id": "1610fb2a",
            "cell_type": "markdown",
            "source": "Fit a line, ``y = mx + c``, through some noisy data-points:\n",
            "metadata": {}
        },
        {
            "id": "155eda3b",
            "cell_type": "code",
            "metadata": {},
            "execution_count": null,
            "source": "import numpy as np\nx = np.array([0, 1, 2, 3])\ny = np.array([-1, 0.2, 0.9, 2.1])",
            "outputs": []
        },
        {
            "id": "2a45cb5c",
            "cell_type": "markdown",
            "source": "By examining the coefficients, we see that the line should have a\ngradient of roughly 1 and cut the y-axis at, more or less, -1.\n\nWe can rewrite the line equation as ``y = Ap``, where ``A = [[x 1]]``\nand ``p = [[m], [c]]``.  Now use `lstsq` to solve for `p`:\n",
            "metadata": {}
        },
        {
            "id": "8a1dee28",
            "cell_type": "code",
            "metadata": {},
            "execution_count": null,
            "source": "A = np.vstack([x, np.ones(len(x))]).T\nA",
            "outputs": [
                {
                    "output_type": "execute_result",
                    "metadata": {},
                    "data": {
                        "text/plain": "array([[ 0.,  1.],\n       [ 1.,  1.],\n       [ 2.,  1.],\n       [ 3.,  1.]])"
                    },
                    "execution_count": null
                }
            ]
        },
        {
            "id": "1c1a083c",
            "cell_type": "code",
            "metadata": {},
            "execution_count": null,
            "source": "m, c = np.linalg.lstsq(A, y)[0]\nm, c",
            "outputs": [
                {
                    "output_type": "execute_result",
                    "metadata": {},
                    "data": {
                        "text/plain": "(1.0 -0.95) # may vary"
                    },
                    "execution_count": null
                }
            ]
        },
        {
            "id": "fdbd0967",
            "cell_type": "markdown",
            "source": "Plot the data along with the fitted line:\n",
            "metadata": {}
        },
        {
            "id": "d7980672",
            "cell_type": "code",
            "metadata": {},
            "execution_count": null,
            "source": "import matplotlib.pyplot as plt\n_ = plt.plot(x, y, 'o', label='Original data', markersize=10)\n_ = plt.plot(x, m*x + c, 'r', label='Fitted line')\n_ = plt.legend()\nplt.show()",
            "outputs": []
        }
    ]
}