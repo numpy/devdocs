{
    "nbformat": 4,
    "nbformat_minor": 5,
    "metadata": {
        "kernelspec": {
            "display_name": "Python",
            "language": "python",
            "name": "python"
        },
        "language_info": {
            "name": "python"
        }
    },
    "cells": [
        {
            "id": "8904369a",
            "cell_type": "markdown",
            "source": "<div class='alert alert-warning'>\n\nNumPy's interactive examples are experimental and may not always work as expected, with high load times especially on low-resource platforms, and the version of NumPy might not be in sync with the one you are browsing the documentation for. If you encounter any issues, please report them on the [NumPy issue tracker](https://github.com/numpy/numpy/issues).\n\n</div>",
            "metadata": {}
        },
        {
            "id": "eb1e8bbf",
            "cell_type": "markdown",
            "source": "All the dates for one month:\n",
            "metadata": {}
        },
        {
            "id": "6677a794",
            "cell_type": "code",
            "metadata": {},
            "execution_count": null,
            "source": "import numpy as np",
            "outputs": []
        },
        {
            "id": "05f6c013",
            "cell_type": "code",
            "metadata": {},
            "execution_count": null,
            "source": "np.arange('2005-02', '2005-03', dtype='datetime64[D]')",
            "outputs": [
                {
                    "output_type": "execute_result",
                    "metadata": {},
                    "data": {
                        "text/plain": "array(['2005-02-01', '2005-02-02', '2005-02-03', '2005-02-04',\n       '2005-02-05', '2005-02-06', '2005-02-07', '2005-02-08',\n       '2005-02-09', '2005-02-10', '2005-02-11', '2005-02-12',\n       '2005-02-13', '2005-02-14', '2005-02-15', '2005-02-16',\n       '2005-02-17', '2005-02-18', '2005-02-19', '2005-02-20',\n       '2005-02-21', '2005-02-22', '2005-02-23', '2005-02-24',\n       '2005-02-25', '2005-02-26', '2005-02-27', '2005-02-28'],\n      dtype='datetime64[D]')"
                    },
                    "execution_count": null
                }
            ]
        }
    ]
}