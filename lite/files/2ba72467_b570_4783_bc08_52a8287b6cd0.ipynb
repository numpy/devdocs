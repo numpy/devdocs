{
    "nbformat": 4,
    "nbformat_minor": 5,
    "metadata": {
        "kernelspec": {
            "display_name": "Python",
            "language": "python",
            "name": "python"
        },
        "language_info": {
            "name": "python"
        }
    },
    "cells": [
        {
            "id": "9c4c4477",
            "cell_type": "markdown",
            "source": "<div class='alert alert-warning'>\n\nNumPy's interactive examples are experimental and may not always work as expected, with high load times especially on low-resource platforms, and the version of NumPy might not be in sync with the one you are browsing the documentation for. If you encounter any issues, please report them on the [NumPy issue tracker](https://github.com/numpy/numpy/issues).\n\n</div>",
            "metadata": {}
        },
        {
            "id": "eafe0c7e",
            "cell_type": "code",
            "metadata": {},
            "execution_count": null,
            "source": "import numpy as np",
            "outputs": []
        },
        {
            "id": "2760401d",
            "cell_type": "markdown",
            "source": "Print sine of one angle:\n",
            "metadata": {}
        },
        {
            "id": "66f5d4b8",
            "cell_type": "code",
            "metadata": {},
            "execution_count": null,
            "source": "np.sin(np.pi/2.)",
            "outputs": [
                {
                    "output_type": "execute_result",
                    "metadata": {},
                    "data": {
                        "text/plain": "1.0"
                    },
                    "execution_count": null
                }
            ]
        },
        {
            "id": "217e90fd",
            "cell_type": "markdown",
            "source": "Print sines of an array of angles given in degrees:\n",
            "metadata": {}
        },
        {
            "id": "37519bdf",
            "cell_type": "code",
            "metadata": {},
            "execution_count": null,
            "source": "np.sin(np.array((0., 30., 45., 60., 90.)) * np.pi / 180. )",
            "outputs": [
                {
                    "output_type": "execute_result",
                    "metadata": {},
                    "data": {
                        "text/plain": "array([ 0.        ,  0.5       ,  0.70710678,  0.8660254 ,  1.        ])"
                    },
                    "execution_count": null
                }
            ]
        },
        {
            "id": "3f44b68a",
            "cell_type": "markdown",
            "source": "Plot the sine function:\n",
            "metadata": {}
        },
        {
            "id": "2011e39d",
            "cell_type": "code",
            "metadata": {},
            "execution_count": null,
            "source": "import matplotlib.pylab as plt\nx = np.linspace(-np.pi, np.pi, 201)\nplt.plot(x, np.sin(x))\nplt.xlabel('Angle [rad]')\nplt.ylabel('sin(x)')\nplt.axis('tight')\nplt.show()",
            "outputs": []
        }
    ]
}