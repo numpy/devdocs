{
    "nbformat": 4,
    "nbformat_minor": 5,
    "metadata": {
        "kernelspec": {
            "display_name": "Python",
            "language": "python",
            "name": "python"
        },
        "language_info": {
            "name": "python"
        }
    },
    "cells": [
        {
            "id": "c194eef8",
            "cell_type": "markdown",
            "source": "<div class='alert alert-warning'>\n\nNumPy's interactive examples are experimental and may not always work as expected, with high load times especially on low-resource platforms, and the version of NumPy might not be in sync with the one you are browsing the documentation for. If you encounter any issues, please report them on the [NumPy issue tracker](https://github.com/numpy/numpy/issues).\n\n</div>",
            "metadata": {}
        },
        {
            "id": "1dee6393",
            "cell_type": "code",
            "metadata": {},
            "execution_count": null,
            "source": "import numpy as np\na = ([1,2,3], [4,5,6])                         # a is array-like\nnp.empty_like(a)",
            "outputs": [
                {
                    "output_type": "execute_result",
                    "metadata": {},
                    "data": {
                        "text/plain": "array([[-1073741821, -1073741821,           3],    # uninitialized\n       [          0,           0, -1073741821]])"
                    },
                    "execution_count": null
                }
            ]
        },
        {
            "id": "bc6a8116",
            "cell_type": "code",
            "metadata": {},
            "execution_count": null,
            "source": "a = np.array([[1., 2., 3.],[4.,5.,6.]])\nnp.empty_like(a)",
            "outputs": [
                {
                    "output_type": "execute_result",
                    "metadata": {},
                    "data": {
                        "text/plain": "array([[ -2.00000715e+000,   1.48219694e-323,  -2.00000572e+000], # uninitialized\n       [  4.38791518e-305,  -2.00000715e+000,   4.17269252e-309]])"
                    },
                    "execution_count": null
                }
            ]
        }
    ]
}