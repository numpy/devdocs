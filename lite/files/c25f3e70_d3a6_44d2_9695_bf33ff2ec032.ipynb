{
    "nbformat": 4,
    "nbformat_minor": 5,
    "metadata": {
        "kernelspec": {
            "display_name": "Python",
            "language": "python",
            "name": "python"
        },
        "language_info": {
            "name": "python"
        }
    },
    "cells": [
        {
            "id": "9cff3887",
            "cell_type": "markdown",
            "source": "<div class='alert alert-warning'>\n\nNumPy's interactive examples are experimental and may not always work as expected, with high load times especially on low-resource platforms, and the version of NumPy might not be in sync with the one you are browsing the documentation for. If you encounter any issues, please report them on the [NumPy issue tracker](https://github.com/numpy/numpy/issues).\n\n</div>",
            "metadata": {}
        },
        {
            "id": "90eb9e28",
            "cell_type": "code",
            "metadata": {},
            "execution_count": null,
            "source": "import numpy.matlib\nnp.matlib.empty((2, 2))    # filled with random data",
            "outputs": [
                {
                    "output_type": "execute_result",
                    "metadata": {},
                    "data": {
                        "text/plain": "matrix([[  6.76425276e-320,   9.79033856e-307], # random\n        [  7.39337286e-309,   3.22135945e-309]])"
                    },
                    "execution_count": null
                }
            ]
        },
        {
            "id": "a9348eaa",
            "cell_type": "code",
            "metadata": {},
            "execution_count": null,
            "source": "np.matlib.empty((2, 2), dtype=int)",
            "outputs": [
                {
                    "output_type": "execute_result",
                    "metadata": {},
                    "data": {
                        "text/plain": "matrix([[ 6600475,        0], # random\n        [ 6586976, 22740995]])"
                    },
                    "execution_count": null
                }
            ]
        }
    ]
}