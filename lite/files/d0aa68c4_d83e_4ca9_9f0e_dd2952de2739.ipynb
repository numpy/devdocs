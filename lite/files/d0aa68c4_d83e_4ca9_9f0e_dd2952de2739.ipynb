{
    "nbformat": 4,
    "nbformat_minor": 5,
    "metadata": {
        "kernelspec": {
            "display_name": "Python",
            "language": "python",
            "name": "python"
        },
        "language_info": {
            "name": "python"
        }
    },
    "cells": [
        {
            "id": "1d6b6dfa",
            "cell_type": "markdown",
            "source": "<div class='alert alert-warning'>\n\nNumPy's interactive examples are experimental and may not always work as expected, with high load times especially on low-resource platforms, and the version of NumPy might not be in sync with the one you are browsing the documentation for. If you encounter any issues, please report them on the [NumPy issue tracker](https://github.com/numpy/numpy/issues).\n\n</div>",
            "metadata": {}
        },
        {
            "id": "d78a3c42",
            "cell_type": "code",
            "metadata": {},
            "execution_count": null,
            "source": "import numpy as np\nx = np.array([1, 2, 2.5])\nx",
            "outputs": [
                {
                    "output_type": "execute_result",
                    "metadata": {},
                    "data": {
                        "text/plain": "array([1. ,  2. ,  2.5])"
                    },
                    "execution_count": null
                }
            ]
        },
        {
            "id": "c64129a9",
            "cell_type": "code",
            "metadata": {},
            "execution_count": null,
            "source": "x.astype(int)",
            "outputs": [
                {
                    "output_type": "execute_result",
                    "metadata": {},
                    "data": {
                        "text/plain": "array([1, 2, 2])"
                    },
                    "execution_count": null
                }
            ]
        },
        {
            "id": "93057934",
            "cell_type": "code",
            "metadata": {},
            "execution_count": null,
            "source": "x.astype(int, casting=\"same_value\")\n",
            "outputs": [
                {
                    "output_type": "execute_result",
                    "metadata": {},
                    "data": {
                        "text/plain": "Traceback (most recent call last):\nValueError: could not cast 'same_value' double to long"
                    },
                    "execution_count": null
                }
            ]
        },
        {
            "id": "70a879b0",
            "cell_type": "code",
            "metadata": {},
            "execution_count": null,
            "source": "x[:2].astype(int, casting=\"same_value\")",
            "outputs": [
                {
                    "output_type": "execute_result",
                    "metadata": {},
                    "data": {
                        "text/plain": "array([1, 2])"
                    },
                    "execution_count": null
                }
            ]
        }
    ]
}