{
    "nbformat": 4,
    "nbformat_minor": 5,
    "metadata": {
        "kernelspec": {
            "display_name": "Python",
            "language": "python",
            "name": "python"
        },
        "language_info": {
            "name": "python"
        }
    },
    "cells": [
        {
            "id": "4250ffa7",
            "cell_type": "markdown",
            "source": "<div class='alert alert-warning'>\n\nNumPy's interactive examples are experimental and may not always work as expected, with high load times especially on low-resource platforms, and the version of NumPy might not be in sync with the one you are browsing the documentation for. If you encounter any issues, please report them on the [NumPy issue tracker](https://github.com/numpy/numpy/issues).\n\n</div>",
            "metadata": {}
        },
        {
            "id": "ea95ba5b",
            "cell_type": "code",
            "metadata": {},
            "execution_count": null,
            "source": "import numpy as np",
            "outputs": []
        },
        {
            "id": "3af5c2ea",
            "cell_type": "code",
            "metadata": {},
            "execution_count": null,
            "source": "a = np.arange(6).reshape(2,3) - 3\nfor x in np.nditer(a, op_flags=['readonly','copy'],\n                op_dtypes=['complex128']):\n    print(np.sqrt(x), end=' ')\n",
            "outputs": [
                {
                    "output_type": "execute_result",
                    "metadata": {},
                    "data": {
                        "text/plain": "1.7320508075688772j 1.4142135623730951j 1j 0j (1+0j) (1.4142135623730951+0j)"
                    },
                    "execution_count": null
                }
            ]
        },
        {
            "id": "aa707ef7",
            "cell_type": "code",
            "metadata": {},
            "execution_count": null,
            "source": "for x in np.nditer(a, flags=['buffered'], op_dtypes=['complex128']):\n    print(np.sqrt(x), end=' ')\n",
            "outputs": [
                {
                    "output_type": "execute_result",
                    "metadata": {},
                    "data": {
                        "text/plain": "1.7320508075688772j 1.4142135623730951j 1j 0j (1+0j) (1.4142135623730951+0j)"
                    },
                    "execution_count": null
                }
            ]
        }
    ]
}