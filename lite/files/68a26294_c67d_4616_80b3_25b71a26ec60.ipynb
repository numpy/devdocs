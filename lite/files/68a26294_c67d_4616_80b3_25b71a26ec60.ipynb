{
    "nbformat": 4,
    "nbformat_minor": 5,
    "metadata": {
        "kernelspec": {
            "display_name": "Python",
            "language": "python",
            "name": "python"
        },
        "language_info": {
            "name": "python"
        }
    },
    "cells": [
        {
            "id": "4e7b2a59",
            "cell_type": "markdown",
            "source": "<div class='alert alert-warning'>\n\nNumPy's interactive examples are experimental and may not always work as expected, with high load times especially on low-resource platforms, and the version of NumPy might not be in sync with the one you are browsing the documentation for. If you encounter any issues, please report them on the [NumPy issue tracker](https://github.com/numpy/numpy/issues).\n\n</div>",
            "metadata": {}
        },
        {
            "id": "c35fba4a",
            "cell_type": "code",
            "metadata": {},
            "execution_count": null,
            "source": "import numpy as np\ndef my_func(a):\n    \"\"\"Average first and last element of a 1-D array\"\"\"\n    return (a[0] + a[-1]) * 0.5\nb = np.array([[1,2,3], [4,5,6], [7,8,9]])\nnp.apply_along_axis(my_func, 0, b)",
            "outputs": [
                {
                    "output_type": "execute_result",
                    "metadata": {},
                    "data": {
                        "text/plain": "array([4., 5., 6.])"
                    },
                    "execution_count": null
                }
            ]
        },
        {
            "id": "492e0d5a",
            "cell_type": "code",
            "metadata": {},
            "execution_count": null,
            "source": "np.apply_along_axis(my_func, 1, b)",
            "outputs": [
                {
                    "output_type": "execute_result",
                    "metadata": {},
                    "data": {
                        "text/plain": "array([2.,  5.,  8.])"
                    },
                    "execution_count": null
                }
            ]
        },
        {
            "id": "94a197ec",
            "cell_type": "markdown",
            "source": "For a function that returns a 1D array, the number of dimensions in\n`outarr` is the same as `arr`.\n",
            "metadata": {}
        },
        {
            "id": "2bcf38aa",
            "cell_type": "code",
            "metadata": {},
            "execution_count": null,
            "source": "b = np.array([[8,1,7], [4,3,9], [5,2,6]])\nnp.apply_along_axis(sorted, 1, b)",
            "outputs": [
                {
                    "output_type": "execute_result",
                    "metadata": {},
                    "data": {
                        "text/plain": "array([[1, 7, 8],\n       [3, 4, 9],\n       [2, 5, 6]])"
                    },
                    "execution_count": null
                }
            ]
        },
        {
            "id": "3e7cff40",
            "cell_type": "markdown",
            "source": "For a function that returns a higher dimensional array, those dimensions\nare inserted in place of the `axis` dimension.\n",
            "metadata": {}
        },
        {
            "id": "e4dc0760",
            "cell_type": "code",
            "metadata": {},
            "execution_count": null,
            "source": "b = np.array([[1,2,3], [4,5,6], [7,8,9]])\nnp.apply_along_axis(np.diag, -1, b)",
            "outputs": [
                {
                    "output_type": "execute_result",
                    "metadata": {},
                    "data": {
                        "text/plain": "array([[[1, 0, 0],\n        [0, 2, 0],\n        [0, 0, 3]],\n       [[4, 0, 0],\n        [0, 5, 0],\n        [0, 0, 6]],\n       [[7, 0, 0],\n        [0, 8, 0],\n        [0, 0, 9]]])"
                    },
                    "execution_count": null
                }
            ]
        }
    ]
}