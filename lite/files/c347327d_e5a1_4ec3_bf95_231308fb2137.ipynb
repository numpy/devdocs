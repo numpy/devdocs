{
    "nbformat": 4,
    "nbformat_minor": 5,
    "metadata": {
        "kernelspec": {
            "display_name": "Python",
            "language": "python",
            "name": "python"
        },
        "language_info": {
            "name": "python"
        }
    },
    "cells": [
        {
            "id": "1d709f57",
            "cell_type": "markdown",
            "source": "<div class='alert alert-warning'>\n\nNumPy's interactive examples are experimental and may not always work as expected, with high load times especially on low-resource platforms, and the version of NumPy might not be in sync with the one you are browsing the documentation for. If you encounter any issues, please report them on the [NumPy issue tracker](https://github.com/numpy/numpy/issues).\n\n</div>",
            "metadata": {}
        },
        {
            "id": "5e386e8d",
            "cell_type": "markdown",
            "source": "Draw samples and plot the distribution:\n",
            "metadata": {}
        },
        {
            "id": "4994aa26",
            "cell_type": "code",
            "metadata": {},
            "execution_count": null,
            "source": "import matplotlib.pyplot as plt\ns = np.random.standard_cauchy(1000000)\ns = s[(s>-25) & (s<25)]  # truncate distribution so it plots well\nplt.hist(s, bins=100)\nplt.show()",
            "outputs": []
        }
    ]
}