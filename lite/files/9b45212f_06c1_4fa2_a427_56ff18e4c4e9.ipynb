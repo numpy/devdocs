{
    "nbformat": 4,
    "nbformat_minor": 5,
    "metadata": {
        "kernelspec": {
            "display_name": "Python",
            "language": "python",
            "name": "python"
        },
        "language_info": {
            "name": "python"
        }
    },
    "cells": [
        {
            "id": "6c698e19",
            "cell_type": "markdown",
            "source": "<div class='alert alert-warning'>\n\nNumPy's interactive examples are experimental and may not always work as expected, with high load times especially on low-resource platforms, and the version of NumPy might not be in sync with the one you are browsing the documentation for. If you encounter any issues, please report them on the [NumPy issue tracker](https://github.com/numpy/numpy/issues).\n\n</div>",
            "metadata": {}
        },
        {
            "id": "7c80e886",
            "cell_type": "code",
            "metadata": {},
            "execution_count": null,
            "source": "import numpy as np\na = np.array([[1, 2], [3, 4]])\nnp.var(a)",
            "outputs": [
                {
                    "output_type": "execute_result",
                    "metadata": {},
                    "data": {
                        "text/plain": "1.25"
                    },
                    "execution_count": null
                }
            ]
        },
        {
            "id": "89b77263",
            "cell_type": "code",
            "metadata": {},
            "execution_count": null,
            "source": "np.var(a, axis=0)",
            "outputs": [
                {
                    "output_type": "execute_result",
                    "metadata": {},
                    "data": {
                        "text/plain": "array([1.,  1.])"
                    },
                    "execution_count": null
                }
            ]
        },
        {
            "id": "0720e0ee",
            "cell_type": "code",
            "metadata": {},
            "execution_count": null,
            "source": "np.var(a, axis=1)",
            "outputs": [
                {
                    "output_type": "execute_result",
                    "metadata": {},
                    "data": {
                        "text/plain": "array([0.25,  0.25])"
                    },
                    "execution_count": null
                }
            ]
        },
        {
            "id": "bcbfb151",
            "cell_type": "markdown",
            "source": "In single precision, var() can be inaccurate:\n",
            "metadata": {}
        },
        {
            "id": "fab73de8",
            "cell_type": "code",
            "metadata": {},
            "execution_count": null,
            "source": "a = np.zeros((2, 512*512), dtype=np.float32)\na[0, :] = 1.0\na[1, :] = 0.1\nnp.var(a)",
            "outputs": [
                {
                    "output_type": "execute_result",
                    "metadata": {},
                    "data": {
                        "text/plain": "np.float32(0.20250003)"
                    },
                    "execution_count": null
                }
            ]
        },
        {
            "id": "afcc8e06",
            "cell_type": "markdown",
            "source": "Computing the variance in float64 is more accurate:\n",
            "metadata": {}
        },
        {
            "id": "f2c3d0de",
            "cell_type": "code",
            "metadata": {},
            "execution_count": null,
            "source": "np.var(a, dtype=np.float64)",
            "outputs": [
                {
                    "output_type": "execute_result",
                    "metadata": {},
                    "data": {
                        "text/plain": "0.20249999932944759 # may vary"
                    },
                    "execution_count": null
                }
            ]
        },
        {
            "id": "d5915fde",
            "cell_type": "code",
            "metadata": {},
            "execution_count": null,
            "source": "((1-0.55)**2 + (0.1-0.55)**2)/2",
            "outputs": [
                {
                    "output_type": "execute_result",
                    "metadata": {},
                    "data": {
                        "text/plain": "0.2025"
                    },
                    "execution_count": null
                }
            ]
        },
        {
            "id": "97714731",
            "cell_type": "markdown",
            "source": "Specifying a where argument:\n",
            "metadata": {}
        },
        {
            "id": "8faa6fdf",
            "cell_type": "code",
            "metadata": {},
            "execution_count": null,
            "source": "a = np.array([[14, 8, 11, 10], [7, 9, 10, 11], [10, 15, 5, 10]])\nnp.var(a)",
            "outputs": [
                {
                    "output_type": "execute_result",
                    "metadata": {},
                    "data": {
                        "text/plain": "6.833333333333333 # may vary"
                    },
                    "execution_count": null
                }
            ]
        },
        {
            "id": "208e8b5f",
            "cell_type": "code",
            "metadata": {},
            "execution_count": null,
            "source": "np.var(a, where=[[True], [True], [False]])",
            "outputs": [
                {
                    "output_type": "execute_result",
                    "metadata": {},
                    "data": {
                        "text/plain": "4.0"
                    },
                    "execution_count": null
                }
            ]
        },
        {
            "id": "e02ebf85",
            "cell_type": "markdown",
            "source": "Using the mean keyword to save computation time:\n",
            "metadata": {}
        },
        {
            "id": "f19d0e98",
            "cell_type": "code",
            "metadata": {},
            "execution_count": null,
            "source": "import numpy as np\nfrom timeit import timeit\n\na = np.array([[14, 8, 11, 10], [7, 9, 10, 11], [10, 15, 5, 10]])\nmean = np.mean(a, axis=1, keepdims=True)\n\ng = globals()\nn = 10000\nt1 = timeit(\"var = np.var(a, axis=1, mean=mean)\", globals=g, number=n)\nt2 = timeit(\"var = np.var(a, axis=1)\", globals=g, number=n)\nprint(f'Percentage execution time saved {100*(t2-t1)/t2:.0f}%')",
            "outputs": [
                {
                    "output_type": "execute_result",
                    "metadata": {},
                    "data": {
                        "text/plain": "#doctest: +SKIP\nPercentage execution time saved 32%"
                    },
                    "execution_count": null
                }
            ]
        }
    ]
}