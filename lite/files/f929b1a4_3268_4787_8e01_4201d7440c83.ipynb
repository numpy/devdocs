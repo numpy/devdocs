{
    "nbformat": 4,
    "nbformat_minor": 5,
    "metadata": {
        "kernelspec": {
            "display_name": "Python",
            "language": "python",
            "name": "python"
        },
        "language_info": {
            "name": "python"
        }
    },
    "cells": [
        {
            "id": "2ba741f3",
            "cell_type": "markdown",
            "source": "<div class='alert alert-warning'>\n\nNumPy's interactive examples are experimental and may not always work as expected, with high load times especially on low-resource platforms, and the version of NumPy might not be in sync with the one you are browsing the documentation for. If you encounter any issues, please report them on the [NumPy issue tracker](https://github.com/numpy/numpy/issues).\n\n</div>",
            "metadata": {}
        },
        {
            "id": "aada5d08",
            "cell_type": "code",
            "metadata": {},
            "execution_count": null,
            "source": "import numpy as np\nx = np.arange(1, 7).reshape(2, 3)\nx",
            "outputs": [
                {
                    "output_type": "execute_result",
                    "metadata": {},
                    "data": {
                        "text/plain": "array([[1, 2, 3],\n       [4, 5, 6]])"
                    },
                    "execution_count": null
                }
            ]
        },
        {
            "id": "f25520cb",
            "cell_type": "code",
            "metadata": {},
            "execution_count": null,
            "source": "x.flat[3]",
            "outputs": [
                {
                    "output_type": "execute_result",
                    "metadata": {},
                    "data": {
                        "text/plain": "4"
                    },
                    "execution_count": null
                }
            ]
        },
        {
            "id": "af7eb067",
            "cell_type": "code",
            "metadata": {},
            "execution_count": null,
            "source": "x.T",
            "outputs": [
                {
                    "output_type": "execute_result",
                    "metadata": {},
                    "data": {
                        "text/plain": "array([[1, 4],\n       [2, 5],\n       [3, 6]])"
                    },
                    "execution_count": null
                }
            ]
        },
        {
            "id": "46b906c9",
            "cell_type": "code",
            "metadata": {},
            "execution_count": null,
            "source": "x.T.flat[3]",
            "outputs": [
                {
                    "output_type": "execute_result",
                    "metadata": {},
                    "data": {
                        "text/plain": "5"
                    },
                    "execution_count": null
                }
            ]
        },
        {
            "id": "c1f82b15",
            "cell_type": "code",
            "metadata": {},
            "execution_count": null,
            "source": "type(x.flat)",
            "outputs": [
                {
                    "output_type": "execute_result",
                    "metadata": {},
                    "data": {
                        "text/plain": "<class 'numpy.flatiter'>"
                    },
                    "execution_count": null
                }
            ]
        },
        {
            "id": "4c232374",
            "cell_type": "markdown",
            "source": "An assignment example:\n",
            "metadata": {}
        },
        {
            "id": "20e30cfb",
            "cell_type": "code",
            "metadata": {},
            "execution_count": null,
            "source": "x.flat = 3; x",
            "outputs": [
                {
                    "output_type": "execute_result",
                    "metadata": {},
                    "data": {
                        "text/plain": "array([[3, 3, 3],\n       [3, 3, 3]])"
                    },
                    "execution_count": null
                }
            ]
        },
        {
            "id": "ca3e85eb",
            "cell_type": "code",
            "metadata": {},
            "execution_count": null,
            "source": "x.flat[[1,4]] = 1; x",
            "outputs": [
                {
                    "output_type": "execute_result",
                    "metadata": {},
                    "data": {
                        "text/plain": "array([[3, 1, 3],\n       [3, 1, 3]])"
                    },
                    "execution_count": null
                }
            ]
        }
    ]
}