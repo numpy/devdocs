{
    "nbformat": 4,
    "nbformat_minor": 5,
    "metadata": {
        "kernelspec": {
            "display_name": "Python",
            "language": "python",
            "name": "python"
        },
        "language_info": {
            "name": "python"
        }
    },
    "cells": [
        {
            "id": "ec37b34b",
            "cell_type": "markdown",
            "source": "<div class='alert alert-warning'>\n\nNumPy's interactive examples are experimental and may not always work as expected, with high load times especially on low-resource platforms, and the version of NumPy might not be in sync with the one you are browsing the documentation for. If you encounter any issues, please report them on the [NumPy issue tracker](https://github.com/numpy/numpy/issues).\n\n</div>",
            "metadata": {}
        },
        {
            "id": "10e9c690",
            "cell_type": "markdown",
            "source": "Assume a company has 10000 customer support agents and the time \nbetween customer calls is exponentially distributed and that the \naverage time between customer calls is 4 minutes.\n",
            "metadata": {}
        },
        {
            "id": "108be878",
            "cell_type": "code",
            "metadata": {},
            "execution_count": null,
            "source": "scale, size = 4, 10000\nrng = np.random.default_rng()\ntime_between_calls = rng.exponential(scale=scale, size=size)",
            "outputs": []
        },
        {
            "id": "2d138b47",
            "cell_type": "markdown",
            "source": "What is the probability that a customer will call in the next \n4 to 5 minutes? \n",
            "metadata": {}
        },
        {
            "id": "96ae1ee0",
            "cell_type": "code",
            "metadata": {},
            "execution_count": null,
            "source": "x = ((time_between_calls < 5).sum())/size\ny = ((time_between_calls < 4).sum())/size\nx - y",
            "outputs": [
                {
                    "output_type": "execute_result",
                    "metadata": {},
                    "data": {
                        "text/plain": "0.08  # may vary"
                    },
                    "execution_count": null
                }
            ]
        },
        {
            "id": "1c093317",
            "cell_type": "markdown",
            "source": "The corresponding distribution can be visualized as follows:\n",
            "metadata": {}
        },
        {
            "id": "26ad2b60",
            "cell_type": "code",
            "metadata": {},
            "execution_count": null,
            "source": "import matplotlib.pyplot as plt\nscale, size = 4, 10000\nrng = np.random.default_rng()\nsample = rng.exponential(scale=scale, size=size)\ncount, bins, _ = plt.hist(sample, 30, density=True)\nplt.plot(bins, scale**(-1)*np.exp(-scale**-1*bins), linewidth=2, color='r')\nplt.show()",
            "outputs": []
        }
    ]
}