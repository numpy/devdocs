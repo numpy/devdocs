{
    "nbformat": 4,
    "nbformat_minor": 5,
    "metadata": {
        "kernelspec": {
            "display_name": "Python",
            "language": "python",
            "name": "python"
        },
        "language_info": {
            "name": "python"
        }
    },
    "cells": [
        {
            "id": "8adb71dc",
            "cell_type": "markdown",
            "source": "<div class='alert alert-warning'>\n\nNumPy's interactive examples are experimental and may not always work as expected, with high load times especially on low-resource platforms, and the version of NumPy might not be in sync with the one you are browsing the documentation for. If you encounter any issues, please report them on the [NumPy issue tracker](https://github.com/numpy/numpy/issues).\n\n</div>",
            "metadata": {}
        },
        {
            "id": "0b15693e",
            "cell_type": "code",
            "metadata": {},
            "execution_count": null,
            "source": "import numpy as np",
            "outputs": []
        },
        {
            "id": "6e293863",
            "cell_type": "markdown",
            "source": "We've seen that 13 is represented by ``00001101``.\nThe invert or bit-wise NOT of 13 is then:\n",
            "metadata": {}
        },
        {
            "id": "e3e023e1",
            "cell_type": "code",
            "metadata": {},
            "execution_count": null,
            "source": "x = np.invert(np.array(13, dtype=np.uint8))\nx",
            "outputs": [
                {
                    "output_type": "execute_result",
                    "metadata": {},
                    "data": {
                        "text/plain": "np.uint8(242)"
                    },
                    "execution_count": null
                }
            ]
        },
        {
            "id": "0f5b88a6",
            "cell_type": "code",
            "metadata": {},
            "execution_count": null,
            "source": "np.binary_repr(x, width=8)",
            "outputs": [
                {
                    "output_type": "execute_result",
                    "metadata": {},
                    "data": {
                        "text/plain": "'11110010'"
                    },
                    "execution_count": null
                }
            ]
        },
        {
            "id": "5012060b",
            "cell_type": "markdown",
            "source": "The result depends on the bit-width:\n",
            "metadata": {}
        },
        {
            "id": "0d8e1623",
            "cell_type": "code",
            "metadata": {},
            "execution_count": null,
            "source": "x = np.invert(np.array(13, dtype=np.uint16))\nx",
            "outputs": [
                {
                    "output_type": "execute_result",
                    "metadata": {},
                    "data": {
                        "text/plain": "np.uint16(65522)"
                    },
                    "execution_count": null
                }
            ]
        },
        {
            "id": "90ab66e7",
            "cell_type": "code",
            "metadata": {},
            "execution_count": null,
            "source": "np.binary_repr(x, width=16)",
            "outputs": [
                {
                    "output_type": "execute_result",
                    "metadata": {},
                    "data": {
                        "text/plain": "'1111111111110010'"
                    },
                    "execution_count": null
                }
            ]
        },
        {
            "id": "e86fbf84",
            "cell_type": "markdown",
            "source": "When using signed integer types, the result is the bit-wise NOT of\nthe unsigned type, interpreted as a signed integer:\n",
            "metadata": {}
        },
        {
            "id": "f31e87b9",
            "cell_type": "code",
            "metadata": {},
            "execution_count": null,
            "source": "np.invert(np.array([13], dtype=np.int8))",
            "outputs": [
                {
                    "output_type": "execute_result",
                    "metadata": {},
                    "data": {
                        "text/plain": "array([-14], dtype=int8)"
                    },
                    "execution_count": null
                }
            ]
        },
        {
            "id": "5460998f",
            "cell_type": "code",
            "metadata": {},
            "execution_count": null,
            "source": "np.binary_repr(-14, width=8)",
            "outputs": [
                {
                    "output_type": "execute_result",
                    "metadata": {},
                    "data": {
                        "text/plain": "'11110010'"
                    },
                    "execution_count": null
                }
            ]
        },
        {
            "id": "0cee58e0",
            "cell_type": "markdown",
            "source": "Booleans are accepted as well:\n",
            "metadata": {}
        },
        {
            "id": "849e5cf1",
            "cell_type": "code",
            "metadata": {},
            "execution_count": null,
            "source": "np.invert(np.array([True, False]))",
            "outputs": [
                {
                    "output_type": "execute_result",
                    "metadata": {},
                    "data": {
                        "text/plain": "array([False,  True])"
                    },
                    "execution_count": null
                }
            ]
        },
        {
            "id": "8a50b3e9",
            "cell_type": "markdown",
            "source": "The ``~`` operator can be used as a shorthand for ``np.invert`` on\nndarrays.\n",
            "metadata": {}
        },
        {
            "id": "76070fbc",
            "cell_type": "code",
            "metadata": {},
            "execution_count": null,
            "source": "x1 = np.array([True, False])\n~x1",
            "outputs": [
                {
                    "output_type": "execute_result",
                    "metadata": {},
                    "data": {
                        "text/plain": "array([False,  True])"
                    },
                    "execution_count": null
                }
            ]
        }
    ]
}