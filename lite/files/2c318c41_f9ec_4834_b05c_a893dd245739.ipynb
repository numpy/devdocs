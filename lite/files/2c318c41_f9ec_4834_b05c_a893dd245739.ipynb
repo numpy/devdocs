{
    "nbformat": 4,
    "nbformat_minor": 5,
    "metadata": {
        "kernelspec": {
            "display_name": "Python",
            "language": "python",
            "name": "python"
        },
        "language_info": {
            "name": "python"
        }
    },
    "cells": [
        {
            "id": "8dd6fb7f",
            "cell_type": "markdown",
            "source": "<div class='alert alert-warning'>\n\nNumPy's interactive examples are experimental and may not always work as expected, with high load times especially on low-resource platforms, and the version of NumPy might not be in sync with the one you are browsing the documentation for. If you encounter any issues, please report them on the [NumPy issue tracker](https://github.com/numpy/numpy/issues).\n\n</div>",
            "metadata": {}
        },
        {
            "id": "95b64494",
            "cell_type": "code",
            "metadata": {},
            "execution_count": null,
            "source": "from numpy.polynomial.laguerre import lagroots, lagfromroots\ncoef = lagfromroots([0, 1, 2])\ncoef",
            "outputs": [
                {
                    "output_type": "execute_result",
                    "metadata": {},
                    "data": {
                        "text/plain": "array([  2.,  -8.,  12.,  -6.])"
                    },
                    "execution_count": null
                }
            ]
        },
        {
            "id": "31fde111",
            "cell_type": "code",
            "metadata": {},
            "execution_count": null,
            "source": "lagroots(coef)",
            "outputs": [
                {
                    "output_type": "execute_result",
                    "metadata": {},
                    "data": {
                        "text/plain": "array([-4.4408921e-16,  1.0000000e+00,  2.0000000e+00])"
                    },
                    "execution_count": null
                }
            ]
        }
    ]
}