{
    "nbformat": 4,
    "nbformat_minor": 5,
    "metadata": {
        "kernelspec": {
            "display_name": "Python",
            "language": "python",
            "name": "python"
        },
        "language_info": {
            "name": "python"
        }
    },
    "cells": [
        {
            "id": "f19f22bf",
            "cell_type": "markdown",
            "source": "<div class='alert alert-warning'>\n\nNumPy's interactive examples are experimental and may not always work as expected, with high load times especially on low-resource platforms, and the version of NumPy might not be in sync with the one you are browsing the documentation for. If you encounter any issues, please report them on the [NumPy issue tracker](https://github.com/numpy/numpy/issues).\n\n</div>",
            "metadata": {}
        },
        {
            "id": "38bc1d89",
            "cell_type": "code",
            "metadata": {},
            "execution_count": null,
            "source": "import numpy as np\nnp.binary_repr(10)",
            "outputs": [
                {
                    "output_type": "execute_result",
                    "metadata": {},
                    "data": {
                        "text/plain": "'1010'"
                    },
                    "execution_count": null
                }
            ]
        },
        {
            "id": "b2ac8a2c",
            "cell_type": "code",
            "metadata": {},
            "execution_count": null,
            "source": "np.right_shift(10, 1)",
            "outputs": [
                {
                    "output_type": "execute_result",
                    "metadata": {},
                    "data": {
                        "text/plain": "5"
                    },
                    "execution_count": null
                }
            ]
        },
        {
            "id": "09d6140c",
            "cell_type": "code",
            "metadata": {},
            "execution_count": null,
            "source": "np.binary_repr(5)",
            "outputs": [
                {
                    "output_type": "execute_result",
                    "metadata": {},
                    "data": {
                        "text/plain": "'101'"
                    },
                    "execution_count": null
                }
            ]
        },
        {
            "id": "1d485538",
            "cell_type": "code",
            "metadata": {},
            "execution_count": null,
            "source": "np.right_shift(10, [1,2,3])",
            "outputs": [
                {
                    "output_type": "execute_result",
                    "metadata": {},
                    "data": {
                        "text/plain": "array([5, 2, 1])"
                    },
                    "execution_count": null
                }
            ]
        },
        {
            "id": "cf89c155",
            "cell_type": "markdown",
            "source": "The ``>>`` operator can be used as a shorthand for ``np.right_shift`` on\nndarrays.\n",
            "metadata": {}
        },
        {
            "id": "094421f8",
            "cell_type": "code",
            "metadata": {},
            "execution_count": null,
            "source": "x1 = 10\nx2 = np.array([1,2,3])\nx1 >> x2",
            "outputs": [
                {
                    "output_type": "execute_result",
                    "metadata": {},
                    "data": {
                        "text/plain": "array([5, 2, 1])"
                    },
                    "execution_count": null
                }
            ]
        }
    ]
}