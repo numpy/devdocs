{
    "nbformat": 4,
    "nbformat_minor": 5,
    "metadata": {
        "kernelspec": {
            "display_name": "Python",
            "language": "python",
            "name": "python"
        },
        "language_info": {
            "name": "python"
        }
    },
    "cells": [
        {
            "id": "b3abcd39",
            "cell_type": "markdown",
            "source": "<div class='alert alert-warning'>\n\nNumPy's interactive examples are experimental and may not always work as expected, with high load times especially on low-resource platforms, and the version of NumPy might not be in sync with the one you are browsing the documentation for. If you encounter any issues, please report them on the [NumPy issue tracker](https://github.com/numpy/numpy/issues).\n\n</div>",
            "metadata": {}
        },
        {
            "id": "b252db50",
            "cell_type": "markdown",
            "source": "Output a 3x8000 array:\n",
            "metadata": {}
        },
        {
            "id": "a3b9af71",
            "cell_type": "code",
            "metadata": {},
            "execution_count": null,
            "source": "n = np.random.standard_exponential((3, 8000))",
            "outputs": []
        }
    ]
}