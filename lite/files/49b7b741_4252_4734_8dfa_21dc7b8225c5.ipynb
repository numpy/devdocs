{
    "nbformat": 4,
    "nbformat_minor": 5,
    "metadata": {
        "kernelspec": {
            "display_name": "Python",
            "language": "python",
            "name": "python"
        },
        "language_info": {
            "name": "python"
        }
    },
    "cells": [
        {
            "id": "f757835e",
            "cell_type": "markdown",
            "source": "<div class='alert alert-warning'>\n\nNumPy's interactive examples are experimental and may not always work as expected, with high load times especially on low-resource platforms, and the version of NumPy might not be in sync with the one you are browsing the documentation for. If you encounter any issues, please report them on the [NumPy issue tracker](https://github.com/numpy/numpy/issues).\n\n</div>",
            "metadata": {}
        },
        {
            "id": "07e6fb24",
            "cell_type": "code",
            "metadata": {},
            "execution_count": null,
            "source": "import numpy as np\nfrom numpy.polynomial import polyutils as pu\nold_domain = (-1,1)\nnew_domain = (0,2*np.pi)\nx = np.linspace(-1,1,6); x",
            "outputs": [
                {
                    "output_type": "execute_result",
                    "metadata": {},
                    "data": {
                        "text/plain": "array([-1. , -0.6, -0.2,  0.2,  0.6,  1. ])"
                    },
                    "execution_count": null
                }
            ]
        },
        {
            "id": "a60c112c",
            "cell_type": "code",
            "metadata": {},
            "execution_count": null,
            "source": "x_out = pu.mapdomain(x, old_domain, new_domain); x_out",
            "outputs": [
                {
                    "output_type": "execute_result",
                    "metadata": {},
                    "data": {
                        "text/plain": "array([ 0.        ,  1.25663706,  2.51327412,  3.76991118,  5.02654825, # may vary\n        6.28318531])"
                    },
                    "execution_count": null
                }
            ]
        },
        {
            "id": "d925314e",
            "cell_type": "code",
            "metadata": {},
            "execution_count": null,
            "source": "x - pu.mapdomain(x_out, new_domain, old_domain)",
            "outputs": [
                {
                    "output_type": "execute_result",
                    "metadata": {},
                    "data": {
                        "text/plain": "array([0., 0., 0., 0., 0., 0.])"
                    },
                    "execution_count": null
                }
            ]
        },
        {
            "id": "3b269f60",
            "cell_type": "markdown",
            "source": "Also works for complex numbers (and thus can be used to map any line in\nthe complex plane to any other line therein).\n",
            "metadata": {}
        },
        {
            "id": "2dd73fb4",
            "cell_type": "code",
            "metadata": {},
            "execution_count": null,
            "source": "i = complex(0,1)\nold = (-1 - i, 1 + i)\nnew = (-1 + i, 1 - i)\nz = np.linspace(old[0], old[1], 6); z",
            "outputs": [
                {
                    "output_type": "execute_result",
                    "metadata": {},
                    "data": {
                        "text/plain": "array([-1. -1.j , -0.6-0.6j, -0.2-0.2j,  0.2+0.2j,  0.6+0.6j,  1. +1.j ])"
                    },
                    "execution_count": null
                }
            ]
        },
        {
            "id": "09e3a258",
            "cell_type": "code",
            "metadata": {},
            "execution_count": null,
            "source": "new_z = pu.mapdomain(z, old, new); new_z",
            "outputs": [
                {
                    "output_type": "execute_result",
                    "metadata": {},
                    "data": {
                        "text/plain": "array([-1.0+1.j , -0.6+0.6j, -0.2+0.2j,  0.2-0.2j,  0.6-0.6j,  1.0-1.j ]) # may vary"
                    },
                    "execution_count": null
                }
            ]
        }
    ]
}