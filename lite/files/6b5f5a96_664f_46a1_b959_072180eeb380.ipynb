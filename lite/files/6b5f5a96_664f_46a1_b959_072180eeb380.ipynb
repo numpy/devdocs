{
    "nbformat": 4,
    "nbformat_minor": 5,
    "metadata": {
        "kernelspec": {
            "display_name": "Python",
            "language": "python",
            "name": "python"
        },
        "language_info": {
            "name": "python"
        }
    },
    "cells": [
        {
            "id": "3d988a2f",
            "cell_type": "markdown",
            "source": "<div class='alert alert-warning'>\n\nNumPy's interactive examples are experimental and may not always work as expected, with high load times especially on low-resource platforms, and the version of NumPy might not be in sync with the one you are browsing the documentation for. If you encounter any issues, please report them on the [NumPy issue tracker](https://github.com/numpy/numpy/issues).\n\n</div>",
            "metadata": {}
        },
        {
            "id": "88ab5804",
            "cell_type": "markdown",
            "source": "Retrieve dispatch information for functions named 'add' or 'sub' and\ndata types 'float64' or 'float32':\n",
            "metadata": {}
        },
        {
            "id": "68684e35",
            "cell_type": "code",
            "metadata": {},
            "execution_count": null,
            "source": "import numpy as np\ndict = np.lib.introspect.opt_func_info(\n    func_name=\"add|abs\", signature=\"float64|complex64\"\n)\nimport json\nprint(json.dumps(dict, indent=2))   # may vary (architecture)",
            "outputs": [
                {
                    "output_type": "execute_result",
                    "metadata": {},
                    "data": {
                        "text/plain": "    {\n      \"absolute\": {\n        \"dd\": {\n          \"current\": \"SSE41\",\n          \"available\": \"SSE41 baseline(SSE SSE2 SSE3)\"\n        },\n        \"Ff\": {\n          \"current\": \"FMA3__AVX2\",\n          \"available\": \"AVX512F FMA3__AVX2 baseline(SSE SSE2 SSE3)\"\n        },\n        \"Dd\": {\n          \"current\": \"FMA3__AVX2\",\n          \"available\": \"AVX512F FMA3__AVX2 baseline(SSE SSE2 SSE3)\"\n        }\n      },\n      \"add\": {\n        \"ddd\": {\n          \"current\": \"FMA3__AVX2\",\n          \"available\": \"FMA3__AVX2 baseline(SSE SSE2 SSE3)\"\n        },\n        \"FFF\": {\n          \"current\": \"FMA3__AVX2\",\n          \"available\": \"FMA3__AVX2 baseline(SSE SSE2 SSE3)\"\n        }\n      }\n    }"
                    },
                    "execution_count": null
                }
            ]
        }
    ]
}