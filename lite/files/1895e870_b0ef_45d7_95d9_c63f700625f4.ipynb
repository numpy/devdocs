{
    "nbformat": 4,
    "nbformat_minor": 5,
    "metadata": {
        "kernelspec": {
            "display_name": "Python",
            "language": "python",
            "name": "python"
        },
        "language_info": {
            "name": "python"
        }
    },
    "cells": [
        {
            "id": "3ec44018",
            "cell_type": "markdown",
            "source": "<div class='alert alert-warning'>\n\nNumPy's interactive examples are experimental and may not always work as expected, with high load times especially on low-resource platforms, and the version of NumPy might not be in sync with the one you are browsing the documentation for. If you encounter any issues, please report them on the [NumPy issue tracker](https://github.com/numpy/numpy/issues).\n\n</div>",
            "metadata": {}
        },
        {
            "id": "df231960",
            "cell_type": "code",
            "metadata": {},
            "execution_count": null,
            "source": "import numpy as np\nnp.round([0.37, 1.64])",
            "outputs": [
                {
                    "output_type": "execute_result",
                    "metadata": {},
                    "data": {
                        "text/plain": "array([0., 2.])"
                    },
                    "execution_count": null
                }
            ]
        },
        {
            "id": "5c80fb89",
            "cell_type": "code",
            "metadata": {},
            "execution_count": null,
            "source": "np.round([0.37, 1.64], decimals=1)",
            "outputs": [
                {
                    "output_type": "execute_result",
                    "metadata": {},
                    "data": {
                        "text/plain": "array([0.4, 1.6])"
                    },
                    "execution_count": null
                }
            ]
        },
        {
            "id": "253a470a",
            "cell_type": "code",
            "metadata": {},
            "execution_count": null,
            "source": "np.round([.5, 1.5, 2.5, 3.5, 4.5]) # rounds to nearest even value",
            "outputs": [
                {
                    "output_type": "execute_result",
                    "metadata": {},
                    "data": {
                        "text/plain": "array([0., 2., 2., 4., 4.])"
                    },
                    "execution_count": null
                }
            ]
        },
        {
            "id": "591186f0",
            "cell_type": "code",
            "metadata": {},
            "execution_count": null,
            "source": "np.round([1,2,3,11], decimals=1) # ndarray of ints is returned",
            "outputs": [
                {
                    "output_type": "execute_result",
                    "metadata": {},
                    "data": {
                        "text/plain": "array([ 1,  2,  3, 11])"
                    },
                    "execution_count": null
                }
            ]
        },
        {
            "id": "9e5b6894",
            "cell_type": "code",
            "metadata": {},
            "execution_count": null,
            "source": "np.round([1,2,3,11], decimals=-1)",
            "outputs": [
                {
                    "output_type": "execute_result",
                    "metadata": {},
                    "data": {
                        "text/plain": "array([ 0,  0,  0, 10])"
                    },
                    "execution_count": null
                }
            ]
        }
    ]
}