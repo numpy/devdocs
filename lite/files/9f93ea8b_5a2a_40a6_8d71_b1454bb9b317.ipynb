{
    "nbformat": 4,
    "nbformat_minor": 5,
    "metadata": {
        "kernelspec": {
            "display_name": "Python",
            "language": "python",
            "name": "python"
        },
        "language_info": {
            "name": "python"
        }
    },
    "cells": [
        {
            "id": "4a713d28",
            "cell_type": "markdown",
            "source": "<div class='alert alert-warning'>\n\nNumPy's interactive examples are experimental and may not always work as expected, with high load times especially on low-resource platforms, and the version of NumPy might not be in sync with the one you are browsing the documentation for. If you encounter any issues, please report them on the [NumPy issue tracker](https://github.com/numpy/numpy/issues).\n\n</div>",
            "metadata": {}
        },
        {
            "id": "de675cb3",
            "cell_type": "code",
            "metadata": {},
            "execution_count": null,
            "source": "import numpy as np\na = np.array([[1, 2], [3, 4]])\na",
            "outputs": [
                {
                    "output_type": "execute_result",
                    "metadata": {},
                    "data": {
                        "text/plain": "array([[1, 2],\n       [3, 4]])"
                    },
                    "execution_count": null
                }
            ]
        },
        {
            "id": "529bd7c5",
            "cell_type": "code",
            "metadata": {},
            "execution_count": null,
            "source": "a.transpose()",
            "outputs": [
                {
                    "output_type": "execute_result",
                    "metadata": {},
                    "data": {
                        "text/plain": "array([[1, 3],\n       [2, 4]])"
                    },
                    "execution_count": null
                }
            ]
        },
        {
            "id": "5d5e1825",
            "cell_type": "code",
            "metadata": {},
            "execution_count": null,
            "source": "a.transpose((1, 0))",
            "outputs": [
                {
                    "output_type": "execute_result",
                    "metadata": {},
                    "data": {
                        "text/plain": "array([[1, 3],\n       [2, 4]])"
                    },
                    "execution_count": null
                }
            ]
        },
        {
            "id": "713830da",
            "cell_type": "code",
            "metadata": {},
            "execution_count": null,
            "source": "a.transpose(1, 0)",
            "outputs": [
                {
                    "output_type": "execute_result",
                    "metadata": {},
                    "data": {
                        "text/plain": "array([[1, 3],\n       [2, 4]])"
                    },
                    "execution_count": null
                }
            ]
        },
        {
            "id": "8a9ad6c7",
            "cell_type": "code",
            "metadata": {},
            "execution_count": null,
            "source": "a = np.array([1, 2, 3, 4])\na",
            "outputs": [
                {
                    "output_type": "execute_result",
                    "metadata": {},
                    "data": {
                        "text/plain": "array([1, 2, 3, 4])"
                    },
                    "execution_count": null
                }
            ]
        },
        {
            "id": "11140cb2",
            "cell_type": "code",
            "metadata": {},
            "execution_count": null,
            "source": "a.transpose()",
            "outputs": [
                {
                    "output_type": "execute_result",
                    "metadata": {},
                    "data": {
                        "text/plain": "array([1, 2, 3, 4])"
                    },
                    "execution_count": null
                }
            ]
        }
    ]
}