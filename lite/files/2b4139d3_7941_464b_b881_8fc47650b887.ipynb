{
    "nbformat": 4,
    "nbformat_minor": 5,
    "metadata": {
        "kernelspec": {
            "display_name": "Python",
            "language": "python",
            "name": "python"
        },
        "language_info": {
            "name": "python"
        }
    },
    "cells": [
        {
            "id": "4159f626",
            "cell_type": "markdown",
            "source": "<div class='alert alert-warning'>\n\nNumPy's interactive examples are experimental and may not always work as expected, with high load times especially on low-resource platforms, and the version of NumPy might not be in sync with the one you are browsing the documentation for. If you encounter any issues, please report them on the [NumPy issue tracker](https://github.com/numpy/numpy/issues).\n\n</div>",
            "metadata": {}
        },
        {
            "id": "8aa863e8",
            "cell_type": "code",
            "metadata": {},
            "execution_count": null,
            "source": "np.info(np.polyval) # doctest: +SKIP",
            "outputs": [
                {
                    "output_type": "execute_result",
                    "metadata": {},
                    "data": {
                        "text/plain": "   polyval(p, x)\n     Evaluate the polynomial p at x.\n     ..."
                    },
                    "execution_count": null
                }
            ]
        },
        {
            "id": "72204e48",
            "cell_type": "markdown",
            "source": "When using a string for `object` it is possible to get multiple results.\n",
            "metadata": {}
        },
        {
            "id": "7ddfaa1b",
            "cell_type": "code",
            "metadata": {},
            "execution_count": null,
            "source": "np.info('fft') # doctest: +SKIP\n\n",
            "outputs": [
                {
                    "output_type": "execute_result",
                    "metadata": {},
                    "data": {
                        "text/plain": "     *** Found in numpy ***\nCore FFT routines\n     *** Found in numpy.fft ***\n fft(a, n=None, axis=-1)\n     *** Repeat reference found in numpy.fft.fftpack ***\n     *** Total of 3 references found. ***"
                    },
                    "execution_count": null
                }
            ]
        },
        {
            "id": "6e64a8f3",
            "cell_type": "markdown",
            "source": "When the argument is an array, information about the array is printed.\n",
            "metadata": {}
        },
        {
            "id": "f9f52cce",
            "cell_type": "code",
            "metadata": {},
            "execution_count": null,
            "source": "a = np.array([[1 + 2j, 3, -4], [-5j, 6, 0]], dtype=np.complex64)\nnp.info(a)",
            "outputs": [
                {
                    "output_type": "execute_result",
                    "metadata": {},
                    "data": {
                        "text/plain": "class:  ndarray\nshape:  (2, 3)\nstrides:  (24, 8)\nitemsize:  8\naligned:  True\ncontiguous:  True\nfortran:  False\ndata pointer: 0x562b6e0d2860  # may vary\nbyteorder:  little\nbyteswap:  False\ntype: complex64"
                    },
                    "execution_count": null
                }
            ]
        }
    ]
}