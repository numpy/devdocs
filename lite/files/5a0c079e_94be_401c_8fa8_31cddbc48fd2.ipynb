{
    "nbformat": 4,
    "nbformat_minor": 5,
    "metadata": {
        "kernelspec": {
            "display_name": "Python",
            "language": "python",
            "name": "python"
        },
        "language_info": {
            "name": "python"
        }
    },
    "cells": [
        {
            "id": "451fecc2",
            "cell_type": "markdown",
            "source": "<div class='alert alert-warning'>\n\nNumPy's interactive examples are experimental and may not always work as expected, with high load times especially on low-resource platforms, and the version of NumPy might not be in sync with the one you are browsing the documentation for. If you encounter any issues, please report them on the [NumPy issue tracker](https://github.com/numpy/numpy/issues).\n\n</div>",
            "metadata": {}
        },
        {
            "id": "ef323891",
            "cell_type": "code",
            "metadata": {},
            "execution_count": null,
            "source": "import numpy as np",
            "outputs": []
        },
        {
            "id": "40aa4fb0",
            "cell_type": "code",
            "metadata": {},
            "execution_count": null,
            "source": "a = np.arange(24).reshape(2,3,4)\nb = np.array(0)\nwith np.nditer([a, b], flags=['reduce_ok'],\n                    op_flags=[['readonly'], ['readwrite']]) as it:\n    for x,y in it:\n        y[...] += x\n\nb",
            "outputs": [
                {
                    "output_type": "execute_result",
                    "metadata": {},
                    "data": {
                        "text/plain": "array(276)"
                    },
                    "execution_count": null
                }
            ]
        },
        {
            "id": "b1968bb7",
            "cell_type": "code",
            "metadata": {},
            "execution_count": null,
            "source": "np.sum(a)",
            "outputs": [
                {
                    "output_type": "execute_result",
                    "metadata": {},
                    "data": {
                        "text/plain": "276"
                    },
                    "execution_count": null
                }
            ]
        }
    ]
}