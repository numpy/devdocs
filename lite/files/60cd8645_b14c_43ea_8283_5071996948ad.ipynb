{
    "nbformat": 4,
    "nbformat_minor": 5,
    "metadata": {
        "kernelspec": {
            "display_name": "Python",
            "language": "python",
            "name": "python"
        },
        "language_info": {
            "name": "python"
        }
    },
    "cells": [
        {
            "id": "e13371b1",
            "cell_type": "markdown",
            "source": "<div class='alert alert-warning'>\n\nNumPy's interactive examples are experimental and may not always work as expected, with high load times especially on low-resource platforms, and the version of NumPy might not be in sync with the one you are browsing the documentation for. If you encounter any issues, please report them on the [NumPy issue tracker](https://github.com/numpy/numpy/issues).\n\n</div>",
            "metadata": {}
        },
        {
            "id": "e1a99f45",
            "cell_type": "code",
            "metadata": {},
            "execution_count": null,
            "source": "import numpy as np\nx = np.array([[0, 1], [2, 3]], dtype='<u2')\nx.tobytes()",
            "outputs": [
                {
                    "output_type": "execute_result",
                    "metadata": {},
                    "data": {
                        "text/plain": "b'\\x00\\x00\\x01\\x00\\x02\\x00\\x03\\x00'"
                    },
                    "execution_count": null
                }
            ]
        },
        {
            "id": "0a8aed61",
            "cell_type": "code",
            "metadata": {},
            "execution_count": null,
            "source": "x.tobytes('C') == x.tobytes()",
            "outputs": [
                {
                    "output_type": "execute_result",
                    "metadata": {},
                    "data": {
                        "text/plain": "True"
                    },
                    "execution_count": null
                }
            ]
        },
        {
            "id": "6246c9a0",
            "cell_type": "code",
            "metadata": {},
            "execution_count": null,
            "source": "x.tobytes('F')",
            "outputs": [
                {
                    "output_type": "execute_result",
                    "metadata": {},
                    "data": {
                        "text/plain": "b'\\x00\\x00\\x02\\x00\\x01\\x00\\x03\\x00'"
                    },
                    "execution_count": null
                }
            ]
        }
    ]
}