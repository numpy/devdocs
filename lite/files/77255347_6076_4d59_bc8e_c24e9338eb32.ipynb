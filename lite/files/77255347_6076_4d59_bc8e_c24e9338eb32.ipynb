{
    "nbformat": 4,
    "nbformat_minor": 5,
    "metadata": {
        "kernelspec": {
            "display_name": "Python",
            "language": "python",
            "name": "python"
        },
        "language_info": {
            "name": "python"
        }
    },
    "cells": [
        {
            "id": "621db10d",
            "cell_type": "markdown",
            "source": "<div class='alert alert-warning'>\n\nNumPy's interactive examples are experimental and may not always work as expected, with high load times especially on low-resource platforms, and the version of NumPy might not be in sync with the one you are browsing the documentation for. If you encounter any issues, please report them on the [NumPy issue tracker](https://github.com/numpy/numpy/issues).\n\n</div>",
            "metadata": {}
        },
        {
            "id": "b9c48589",
            "cell_type": "code",
            "metadata": {},
            "execution_count": null,
            "source": "import numpy as np\na = np.array([[1,4],[3,1]])\nnp.sort(a)                # sort along the last axis",
            "outputs": [
                {
                    "output_type": "execute_result",
                    "metadata": {},
                    "data": {
                        "text/plain": "array([[1, 4],\n       [1, 3]])"
                    },
                    "execution_count": null
                }
            ]
        },
        {
            "id": "3e6739e6",
            "cell_type": "code",
            "metadata": {},
            "execution_count": null,
            "source": "np.sort(a, axis=None)     # sort the flattened array",
            "outputs": [
                {
                    "output_type": "execute_result",
                    "metadata": {},
                    "data": {
                        "text/plain": "array([1, 1, 3, 4])"
                    },
                    "execution_count": null
                }
            ]
        },
        {
            "id": "4be69155",
            "cell_type": "code",
            "metadata": {},
            "execution_count": null,
            "source": "np.sort(a, axis=0)        # sort along the first axis",
            "outputs": [
                {
                    "output_type": "execute_result",
                    "metadata": {},
                    "data": {
                        "text/plain": "array([[1, 1],\n       [3, 4]])"
                    },
                    "execution_count": null
                }
            ]
        },
        {
            "id": "44dc863c",
            "cell_type": "markdown",
            "source": "Use the `order` keyword to specify a field to use when sorting a\nstructured array:\n",
            "metadata": {}
        },
        {
            "id": "7aa1df04",
            "cell_type": "code",
            "metadata": {},
            "execution_count": null,
            "source": "dtype = [('name', 'S10'), ('height', float), ('age', int)]\nvalues = [('Arthur', 1.8, 41), ('Lancelot', 1.9, 38),\n          ('Galahad', 1.7, 38)]\na = np.array(values, dtype=dtype)       # create a structured array\nnp.sort(a, order='height')                        # doctest: +SKIP",
            "outputs": [
                {
                    "output_type": "execute_result",
                    "metadata": {},
                    "data": {
                        "text/plain": "array([('Galahad', 1.7, 38), ('Arthur', 1.8, 41),\n       ('Lancelot', 1.8999999999999999, 38)],\n      dtype=[('name', '|S10'), ('height', '<f8'), ('age', '<i4')])"
                    },
                    "execution_count": null
                }
            ]
        },
        {
            "id": "62419c7e",
            "cell_type": "markdown",
            "source": "Sort by age, then height if ages are equal:\n",
            "metadata": {}
        },
        {
            "id": "8adc696c",
            "cell_type": "code",
            "metadata": {},
            "execution_count": null,
            "source": "np.sort(a, order=['age', 'height'])               # doctest: +SKIP",
            "outputs": [
                {
                    "output_type": "execute_result",
                    "metadata": {},
                    "data": {
                        "text/plain": "array([('Galahad', 1.7, 38), ('Lancelot', 1.8999999999999999, 38),\n       ('Arthur', 1.8, 41)],\n      dtype=[('name', '|S10'), ('height', '<f8'), ('age', '<i4')])"
                    },
                    "execution_count": null
                }
            ]
        }
    ]
}