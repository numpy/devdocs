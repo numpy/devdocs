{
    "nbformat": 4,
    "nbformat_minor": 5,
    "metadata": {
        "kernelspec": {
            "display_name": "Python",
            "language": "python",
            "name": "python"
        },
        "language_info": {
            "name": "python"
        }
    },
    "cells": [
        {
            "id": "484ce12f",
            "cell_type": "markdown",
            "source": "<div class='alert alert-warning'>\n\nNumPy's interactive examples are experimental and may not always work as expected, with high load times especially on low-resource platforms, and the version of NumPy might not be in sync with the one you are browsing the documentation for. If you encounter any issues, please report them on the [NumPy issue tracker](https://github.com/numpy/numpy/issues).\n\n</div>",
            "metadata": {}
        },
        {
            "id": "c065fad0",
            "cell_type": "markdown",
            "source": "Draw samples from the distribution:\n",
            "metadata": {}
        },
        {
            "id": "c5f66c78",
            "cell_type": "code",
            "metadata": {},
            "execution_count": null,
            "source": "a = 5. # shape\ns = np.random.weibull(a, 1000)",
            "outputs": []
        },
        {
            "id": "015e2219",
            "cell_type": "markdown",
            "source": "Display the histogram of the samples, along with\nthe probability density function:\n",
            "metadata": {}
        },
        {
            "id": "bfaa4945",
            "cell_type": "code",
            "metadata": {},
            "execution_count": null,
            "source": "import matplotlib.pyplot as plt\nx = np.arange(1,100.)/50.\ndef weib(x,n,a):\n    return (a / n) * (x / n)**(a - 1) * np.exp(-(x / n)**a)",
            "outputs": []
        },
        {
            "id": "5d7371b9",
            "cell_type": "code",
            "metadata": {},
            "execution_count": null,
            "source": "count, bins, ignored = plt.hist(np.random.weibull(5.,1000))\nx = np.arange(1,100.)/50.\nscale = count.max()/weib(x, 1., 5.).max()\nplt.plot(x, weib(x, 1., 5.)*scale)\nplt.show()",
            "outputs": []
        }
    ]
}