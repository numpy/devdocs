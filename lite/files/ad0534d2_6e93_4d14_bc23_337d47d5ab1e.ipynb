{
    "nbformat": 4,
    "nbformat_minor": 5,
    "metadata": {
        "kernelspec": {
            "display_name": "Python",
            "language": "python",
            "name": "python"
        },
        "language_info": {
            "name": "python"
        }
    },
    "cells": [
        {
            "id": "ecdbeec8",
            "cell_type": "markdown",
            "source": "<div class='alert alert-warning'>\n\nNumPy's interactive examples are experimental and may not always work as expected, with high load times especially on low-resource platforms, and the version of NumPy might not be in sync with the one you are browsing the documentation for. If you encounter any issues, please report them on the [NumPy issue tracker](https://github.com/numpy/numpy/issues).\n\n</div>",
            "metadata": {}
        },
        {
            "id": "fe7a0396",
            "cell_type": "code",
            "metadata": {},
            "execution_count": null,
            "source": "import numpy as np\nnp.logical_not(3)",
            "outputs": [
                {
                    "output_type": "execute_result",
                    "metadata": {},
                    "data": {
                        "text/plain": "False"
                    },
                    "execution_count": null
                }
            ]
        },
        {
            "id": "5a0e1c4d",
            "cell_type": "code",
            "metadata": {},
            "execution_count": null,
            "source": "np.logical_not([True, False, 0, 1])",
            "outputs": [
                {
                    "output_type": "execute_result",
                    "metadata": {},
                    "data": {
                        "text/plain": "array([False,  True,  True, False])"
                    },
                    "execution_count": null
                }
            ]
        },
        {
            "id": "ee92d8b5",
            "cell_type": "code",
            "metadata": {},
            "execution_count": null,
            "source": "x = np.arange(5)\nnp.logical_not(x<3)",
            "outputs": [
                {
                    "output_type": "execute_result",
                    "metadata": {},
                    "data": {
                        "text/plain": "array([False, False, False,  True,  True])"
                    },
                    "execution_count": null
                }
            ]
        }
    ]
}