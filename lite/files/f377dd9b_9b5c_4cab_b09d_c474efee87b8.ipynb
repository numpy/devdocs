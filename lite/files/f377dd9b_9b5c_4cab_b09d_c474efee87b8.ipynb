{
    "nbformat": 4,
    "nbformat_minor": 5,
    "metadata": {
        "kernelspec": {
            "display_name": "Python",
            "language": "python",
            "name": "python"
        },
        "language_info": {
            "name": "python"
        }
    },
    "cells": [
        {
            "id": "b14444f4",
            "cell_type": "markdown",
            "source": "<div class='alert alert-warning'>\n\nNumPy's interactive examples are experimental and may not always work as expected, with high load times especially on low-resource platforms, and the version of NumPy might not be in sync with the one you are browsing the documentation for. If you encounter any issues, please report them on the [NumPy issue tracker](https://github.com/numpy/numpy/issues).\n\n</div>",
            "metadata": {}
        },
        {
            "id": "827a0d0e",
            "cell_type": "code",
            "metadata": {},
            "execution_count": null,
            "source": "import numpy as np",
            "outputs": []
        },
        {
            "id": "5291c488",
            "cell_type": "markdown",
            "source": "Convert a list into an array. If all elements are finite, then\n``asarray_chkfinite`` is identical to ``asarray``.\n",
            "metadata": {}
        },
        {
            "id": "a87a6eef",
            "cell_type": "code",
            "metadata": {},
            "execution_count": null,
            "source": "a = [1, 2]\nnp.asarray_chkfinite(a, dtype=float)",
            "outputs": [
                {
                    "output_type": "execute_result",
                    "metadata": {},
                    "data": {
                        "text/plain": "array([1., 2.])"
                    },
                    "execution_count": null
                }
            ]
        },
        {
            "id": "bc3625ed",
            "cell_type": "markdown",
            "source": "Raises ValueError if array_like contains Nans or Infs.\n",
            "metadata": {}
        },
        {
            "id": "986ea535",
            "cell_type": "code",
            "metadata": {},
            "execution_count": null,
            "source": "a = [1, 2, np.inf]\ntry:\n    np.asarray_chkfinite(a)\nexcept ValueError:\n    print('ValueError')\n",
            "outputs": [
                {
                    "output_type": "execute_result",
                    "metadata": {},
                    "data": {
                        "text/plain": "ValueError"
                    },
                    "execution_count": null
                }
            ]
        }
    ]
}