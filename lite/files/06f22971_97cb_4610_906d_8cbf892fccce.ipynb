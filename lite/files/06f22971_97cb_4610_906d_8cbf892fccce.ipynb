{
    "nbformat": 4,
    "nbformat_minor": 5,
    "metadata": {
        "kernelspec": {
            "display_name": "Python",
            "language": "python",
            "name": "python"
        },
        "language_info": {
            "name": "python"
        }
    },
    "cells": [
        {
            "id": "61156162",
            "cell_type": "markdown",
            "source": "<div class='alert alert-warning'>\n\nNumPy's interactive examples are experimental and may not always work as expected, with high load times especially on low-resource platforms, and the version of NumPy might not be in sync with the one you are browsing the documentation for. If you encounter any issues, please report them on the [NumPy issue tracker](https://github.com/numpy/numpy/issues).\n\n</div>",
            "metadata": {}
        },
        {
            "id": "ef20078b",
            "cell_type": "code",
            "metadata": {},
            "execution_count": null,
            "source": "import numpy as np\na = np.ma.array([1e10, 1e-7, 42.0], mask=[0, 0, 1])\na",
            "outputs": [
                {
                    "output_type": "execute_result",
                    "metadata": {},
                    "data": {
                        "text/plain": "masked_array(data=[10000000000.0, 1e-07, --],\n             mask=[False, False,  True],\n       fill_value=1e+20)"
                    },
                    "execution_count": null
                }
            ]
        },
        {
            "id": "e83c0402",
            "cell_type": "code",
            "metadata": {},
            "execution_count": null,
            "source": "b = np.array([1e10, 1e-7, -42.0])\nb",
            "outputs": [
                {
                    "output_type": "execute_result",
                    "metadata": {},
                    "data": {
                        "text/plain": "array([  1.00000000e+10,   1.00000000e-07,  -4.20000000e+01])"
                    },
                    "execution_count": null
                }
            ]
        },
        {
            "id": "0836a4e7",
            "cell_type": "code",
            "metadata": {},
            "execution_count": null,
            "source": "np.ma.allequal(a, b, fill_value=False)",
            "outputs": [
                {
                    "output_type": "execute_result",
                    "metadata": {},
                    "data": {
                        "text/plain": "False"
                    },
                    "execution_count": null
                }
            ]
        },
        {
            "id": "b4000105",
            "cell_type": "code",
            "metadata": {},
            "execution_count": null,
            "source": "np.ma.allequal(a, b)",
            "outputs": [
                {
                    "output_type": "execute_result",
                    "metadata": {},
                    "data": {
                        "text/plain": "True"
                    },
                    "execution_count": null
                }
            ]
        }
    ]
}