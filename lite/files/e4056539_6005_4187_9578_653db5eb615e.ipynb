{
    "nbformat": 4,
    "nbformat_minor": 5,
    "metadata": {
        "kernelspec": {
            "display_name": "Python",
            "language": "python",
            "name": "python"
        },
        "language_info": {
            "name": "python"
        }
    },
    "cells": [
        {
            "id": "ab77e486",
            "cell_type": "markdown",
            "source": "<div class='alert alert-warning'>\n\nNumPy's interactive examples are experimental and may not always work as expected, with high load times especially on low-resource platforms, and the version of NumPy might not be in sync with the one you are browsing the documentation for. If you encounter any issues, please report them on the [NumPy issue tracker](https://github.com/numpy/numpy/issues).\n\n</div>",
            "metadata": {}
        },
        {
            "id": "f4bf64ed",
            "cell_type": "code",
            "metadata": {},
            "execution_count": null,
            "source": "import numpy as np\nx = np.arange(6).reshape(2, 3)\nfl = x.flat\ntype(fl)",
            "outputs": [
                {
                    "output_type": "execute_result",
                    "metadata": {},
                    "data": {
                        "text/plain": "<class 'numpy.flatiter'>"
                    },
                    "execution_count": null
                }
            ]
        },
        {
            "id": "f45cc330",
            "cell_type": "code",
            "metadata": {},
            "execution_count": null,
            "source": "for item in fl:\n    print(item)\n",
            "outputs": [
                {
                    "output_type": "execute_result",
                    "metadata": {},
                    "data": {
                        "text/plain": "0\n1\n2\n3\n4\n5"
                    },
                    "execution_count": null
                }
            ]
        },
        {
            "id": "26ef37be",
            "cell_type": "code",
            "metadata": {},
            "execution_count": null,
            "source": "fl[2:4]",
            "outputs": [
                {
                    "output_type": "execute_result",
                    "metadata": {},
                    "data": {
                        "text/plain": "array([2, 3])"
                    },
                    "execution_count": null
                }
            ]
        }
    ]
}