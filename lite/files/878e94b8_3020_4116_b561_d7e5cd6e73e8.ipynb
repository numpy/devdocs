{
    "nbformat": 4,
    "nbformat_minor": 5,
    "metadata": {
        "kernelspec": {
            "display_name": "Python",
            "language": "python",
            "name": "python"
        },
        "language_info": {
            "name": "python"
        }
    },
    "cells": [
        {
            "id": "bb121712",
            "cell_type": "markdown",
            "source": "<div class='alert alert-warning'>\n\nNumPy's interactive examples are experimental and may not always work as expected, with high load times especially on low-resource platforms, and the version of NumPy might not be in sync with the one you are browsing the documentation for. If you encounter any issues, please report them on the [NumPy issue tracker](https://github.com/numpy/numpy/issues).\n\n</div>",
            "metadata": {}
        },
        {
            "id": "651799e4",
            "cell_type": "code",
            "metadata": {},
            "execution_count": null,
            "source": "from typing import Any\nimport numpy as np",
            "outputs": []
        },
        {
            "id": "248cd6dd",
            "cell_type": "code",
            "metadata": {},
            "execution_count": null,
            "source": "np.signedinteger[Any]",
            "outputs": [
                {
                    "output_type": "execute_result",
                    "metadata": {},
                    "data": {
                        "text/plain": "numpy.signedinteger[typing.Any]"
                    },
                    "execution_count": null
                }
            ]
        }
    ]
}