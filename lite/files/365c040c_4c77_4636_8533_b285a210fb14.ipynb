{
    "nbformat": 4,
    "nbformat_minor": 5,
    "metadata": {
        "kernelspec": {
            "display_name": "Python",
            "language": "python",
            "name": "python"
        },
        "language_info": {
            "name": "python"
        }
    },
    "cells": [
        {
            "id": "7e7498e1",
            "cell_type": "markdown",
            "source": "<div class='alert alert-warning'>\n\nNumPy's interactive examples are experimental and may not always work as expected, with high load times especially on low-resource platforms, and the version of NumPy might not be in sync with the one you are browsing the documentation for. If you encounter any issues, please report them on the [NumPy issue tracker](https://github.com/numpy/numpy/issues).\n\n</div>",
            "metadata": {}
        },
        {
            "id": "ef2025e0",
            "cell_type": "code",
            "metadata": {},
            "execution_count": null,
            "source": "import numpy as np\ndt_25s = np.dtype('timedelta64[25s]')\nnp.datetime_data(dt_25s)",
            "outputs": [
                {
                    "output_type": "execute_result",
                    "metadata": {},
                    "data": {
                        "text/plain": "('s', 25)"
                    },
                    "execution_count": null
                }
            ]
        },
        {
            "id": "dee21ea9",
            "cell_type": "code",
            "metadata": {},
            "execution_count": null,
            "source": "np.array(10, dt_25s).astype('timedelta64[s]')",
            "outputs": [
                {
                    "output_type": "execute_result",
                    "metadata": {},
                    "data": {
                        "text/plain": "array(250, dtype='timedelta64[s]')"
                    },
                    "execution_count": null
                }
            ]
        },
        {
            "id": "85f37063",
            "cell_type": "markdown",
            "source": "The result can be used to construct a datetime that uses the same units\nas a timedelta\n",
            "metadata": {}
        },
        {
            "id": "a024bb27",
            "cell_type": "code",
            "metadata": {},
            "execution_count": null,
            "source": "np.datetime64('2010', np.datetime_data(dt_25s))",
            "outputs": [
                {
                    "output_type": "execute_result",
                    "metadata": {},
                    "data": {
                        "text/plain": "np.datetime64('2010-01-01T00:00:00','25s')"
                    },
                    "execution_count": null
                }
            ]
        }
    ]
}