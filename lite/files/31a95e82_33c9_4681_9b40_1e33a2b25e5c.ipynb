{
    "nbformat": 4,
    "nbformat_minor": 5,
    "metadata": {
        "kernelspec": {
            "display_name": "Python",
            "language": "python",
            "name": "python"
        },
        "language_info": {
            "name": "python"
        }
    },
    "cells": [
        {
            "id": "3d2cd025",
            "cell_type": "markdown",
            "source": "<div class='alert alert-warning'>\n\nNumPy's interactive examples are experimental and may not always work as expected, with high load times especially on low-resource platforms, and the version of NumPy might not be in sync with the one you are browsing the documentation for. If you encounter any issues, please report them on the [NumPy issue tracker](https://github.com/numpy/numpy/issues).\n\n</div>",
            "metadata": {}
        },
        {
            "id": "bb1adeeb",
            "cell_type": "code",
            "metadata": {},
            "execution_count": null,
            "source": "import numpy as np\nnp.greater_equal([4, 2, 1], [2, 2, 2])",
            "outputs": [
                {
                    "output_type": "execute_result",
                    "metadata": {},
                    "data": {
                        "text/plain": "array([ True, True, False])"
                    },
                    "execution_count": null
                }
            ]
        },
        {
            "id": "0955be45",
            "cell_type": "markdown",
            "source": "The ``>=`` operator can be used as a shorthand for ``np.greater_equal``\non ndarrays.\n",
            "metadata": {}
        },
        {
            "id": "12bb18ef",
            "cell_type": "code",
            "metadata": {},
            "execution_count": null,
            "source": "a = np.array([4, 2, 1])\nb = np.array([2, 2, 2])\na >= b",
            "outputs": [
                {
                    "output_type": "execute_result",
                    "metadata": {},
                    "data": {
                        "text/plain": "array([ True,  True, False])"
                    },
                    "execution_count": null
                }
            ]
        }
    ]
}