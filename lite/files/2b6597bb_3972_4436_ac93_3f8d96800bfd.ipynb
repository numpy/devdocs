{
    "nbformat": 4,
    "nbformat_minor": 5,
    "metadata": {
        "kernelspec": {
            "display_name": "Python",
            "language": "python",
            "name": "python"
        },
        "language_info": {
            "name": "python"
        }
    },
    "cells": [
        {
            "id": "5ad06ca0",
            "cell_type": "markdown",
            "source": "<div class='alert alert-warning'>\n\nNumPy's interactive examples are experimental and may not always work as expected, with high load times especially on low-resource platforms, and the version of NumPy might not be in sync with the one you are browsing the documentation for. If you encounter any issues, please report them on the [NumPy issue tracker](https://github.com/numpy/numpy/issues).\n\n</div>",
            "metadata": {}
        },
        {
            "id": "376920ee",
            "cell_type": "code",
            "metadata": {},
            "execution_count": null,
            "source": "import numpy as np\na = np.array([\"That is a mango\", \"Monkeys eat mangos\"])\nnp.strings.replace(a, 'mango', 'banana')",
            "outputs": [
                {
                    "output_type": "execute_result",
                    "metadata": {},
                    "data": {
                        "text/plain": "array(['That is a banana', 'Monkeys eat bananas'], dtype='<U19')"
                    },
                    "execution_count": null
                }
            ]
        },
        {
            "id": "6833264f",
            "cell_type": "code",
            "metadata": {},
            "execution_count": null,
            "source": "a = np.array([\"The dish is fresh\", \"This is it\"])\nnp.strings.replace(a, 'is', 'was')",
            "outputs": [
                {
                    "output_type": "execute_result",
                    "metadata": {},
                    "data": {
                        "text/plain": "array(['The dwash was fresh', 'Thwas was it'], dtype='<U19')"
                    },
                    "execution_count": null
                }
            ]
        }
    ]
}