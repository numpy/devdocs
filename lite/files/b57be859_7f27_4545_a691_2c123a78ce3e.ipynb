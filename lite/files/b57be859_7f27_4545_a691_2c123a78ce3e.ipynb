{
    "nbformat": 4,
    "nbformat_minor": 5,
    "metadata": {
        "kernelspec": {
            "display_name": "Python",
            "language": "python",
            "name": "python"
        },
        "language_info": {
            "name": "python"
        }
    },
    "cells": [
        {
            "id": "e5fa3cf2",
            "cell_type": "markdown",
            "source": "<div class='alert alert-warning'>\n\nNumPy's interactive examples are experimental and may not always work as expected, with high load times especially on low-resource platforms, and the version of NumPy might not be in sync with the one you are browsing the documentation for. If you encounter any issues, please report them on the [NumPy issue tracker](https://github.com/numpy/numpy/issues).\n\n</div>",
            "metadata": {}
        },
        {
            "id": "abff4b0b",
            "cell_type": "code",
            "metadata": {},
            "execution_count": null,
            "source": "import numpy as np",
            "outputs": []
        },
        {
            "id": "c4a51e3c",
            "cell_type": "code",
            "metadata": {},
            "execution_count": null,
            "source": "a = np.datetime64(\"0000-01-01\", \"us\")\nb = np.datetime64(\"1600-01-01\", \"us\")\nb - a",
            "outputs": [
                {
                    "output_type": "execute_result",
                    "metadata": {},
                    "data": {
                        "text/plain": "numpy.timedelta64(50491123200000000,'us')"
                    },
                    "execution_count": null
                }
            ]
        },
        {
            "id": "6460fd94",
            "cell_type": "markdown",
            "source": "The computed results, `50491123200` seconds, are obtained as the elapsed\nnumber of days (`584388`) times `86400` seconds; this is the number of\nseconds of a clock in sync with the Earth's rotation. The exact value in SI\nseconds can only be estimated, e.g., using data published in [Measurement of\nthe Earth's rotation: 720 BC to AD 2015, 2016, Royal Society's Proceedings\nA 472, by Stephenson et.al.](https://doi.org/10.1098/rspa.2016.0404). A\nsensible estimate is `50491112870 ± 90` seconds, with a difference of 10330\nseconds.",
            "metadata": {}
        }
    ]
}