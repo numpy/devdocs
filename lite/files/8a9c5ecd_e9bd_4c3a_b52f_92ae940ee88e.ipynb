{
    "nbformat": 4,
    "nbformat_minor": 5,
    "metadata": {
        "kernelspec": {
            "display_name": "Python",
            "language": "python",
            "name": "python"
        },
        "language_info": {
            "name": "python"
        }
    },
    "cells": [
        {
            "id": "57d5a7cd",
            "cell_type": "markdown",
            "source": "<div class='alert alert-warning'>\n\nNumPy's interactive examples are experimental and may not always work as expected, with high load times especially on low-resource platforms, and the version of NumPy might not be in sync with the one you are browsing the documentation for. If you encounter any issues, please report them on the [NumPy issue tracker](https://github.com/numpy/numpy/issues).\n\n</div>",
            "metadata": {}
        },
        {
            "id": "5c8dca5d",
            "cell_type": "code",
            "metadata": {},
            "execution_count": null,
            "source": "import numpy as np\nnp.atleast_2d(3.0)",
            "outputs": [
                {
                    "output_type": "execute_result",
                    "metadata": {},
                    "data": {
                        "text/plain": "array([[3.]])"
                    },
                    "execution_count": null
                }
            ]
        },
        {
            "id": "6b2054fa",
            "cell_type": "code",
            "metadata": {},
            "execution_count": null,
            "source": "x = np.arange(3.0)\nnp.atleast_2d(x)",
            "outputs": [
                {
                    "output_type": "execute_result",
                    "metadata": {},
                    "data": {
                        "text/plain": "array([[0., 1., 2.]])"
                    },
                    "execution_count": null
                }
            ]
        },
        {
            "id": "3706d94e",
            "cell_type": "code",
            "metadata": {},
            "execution_count": null,
            "source": "np.atleast_2d(x).base is x",
            "outputs": [
                {
                    "output_type": "execute_result",
                    "metadata": {},
                    "data": {
                        "text/plain": "True"
                    },
                    "execution_count": null
                }
            ]
        },
        {
            "id": "12520c8a",
            "cell_type": "code",
            "metadata": {},
            "execution_count": null,
            "source": "np.atleast_2d(1, [1, 2], [[1, 2]])",
            "outputs": [
                {
                    "output_type": "execute_result",
                    "metadata": {},
                    "data": {
                        "text/plain": "(array([[1]]), array([[1, 2]]), array([[1, 2]]))"
                    },
                    "execution_count": null
                }
            ]
        }
    ]
}