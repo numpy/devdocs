{
    "nbformat": 4,
    "nbformat_minor": 5,
    "metadata": {
        "kernelspec": {
            "display_name": "Python",
            "language": "python",
            "name": "python"
        },
        "language_info": {
            "name": "python"
        }
    },
    "cells": [
        {
            "id": "8be99037",
            "cell_type": "markdown",
            "source": "<div class='alert alert-warning'>\n\nNumPy's interactive examples are experimental and may not always work as expected, with high load times especially on low-resource platforms, and the version of NumPy might not be in sync with the one you are browsing the documentation for. If you encounter any issues, please report them on the [NumPy issue tracker](https://github.com/numpy/numpy/issues).\n\n</div>",
            "metadata": {}
        },
        {
            "id": "ba2bd543",
            "cell_type": "code",
            "metadata": {},
            "execution_count": null,
            "source": "import numpy as np",
            "outputs": []
        },
        {
            "id": "ea52b8a6",
            "cell_type": "markdown",
            "source": "Construct the polynomial $x^2 + 2x + 3$:\n",
            "metadata": {}
        },
        {
            "id": "6adc6ef7",
            "cell_type": "code",
            "metadata": {},
            "execution_count": null,
            "source": "import numpy as np",
            "outputs": []
        },
        {
            "id": "92da2185",
            "cell_type": "code",
            "metadata": {},
            "execution_count": null,
            "source": "p = np.poly1d([1, 2, 3])\nprint(np.poly1d(p))",
            "outputs": [
                {
                    "output_type": "execute_result",
                    "metadata": {},
                    "data": {
                        "text/plain": "   2\n1 x + 2 x + 3"
                    },
                    "execution_count": null
                }
            ]
        },
        {
            "id": "b121ac81",
            "cell_type": "markdown",
            "source": "Evaluate the polynomial at $x = 0.5$:\n",
            "metadata": {}
        },
        {
            "id": "ee32dbbc",
            "cell_type": "code",
            "metadata": {},
            "execution_count": null,
            "source": "p(0.5)",
            "outputs": [
                {
                    "output_type": "execute_result",
                    "metadata": {},
                    "data": {
                        "text/plain": "4.25"
                    },
                    "execution_count": null
                }
            ]
        },
        {
            "id": "0f3f8b1d",
            "cell_type": "markdown",
            "source": "Find the roots:\n",
            "metadata": {}
        },
        {
            "id": "39e1846e",
            "cell_type": "code",
            "metadata": {},
            "execution_count": null,
            "source": "p.r",
            "outputs": [
                {
                    "output_type": "execute_result",
                    "metadata": {},
                    "data": {
                        "text/plain": "array([-1.+1.41421356j, -1.-1.41421356j])"
                    },
                    "execution_count": null
                }
            ]
        },
        {
            "id": "25ace122",
            "cell_type": "code",
            "metadata": {},
            "execution_count": null,
            "source": "p(p.r)",
            "outputs": [
                {
                    "output_type": "execute_result",
                    "metadata": {},
                    "data": {
                        "text/plain": "array([ -4.44089210e-16+0.j,  -4.44089210e-16+0.j]) # may vary"
                    },
                    "execution_count": null
                }
            ]
        },
        {
            "id": "7145c715",
            "cell_type": "markdown",
            "source": "These numbers in the previous line represent (0, 0) to machine precision\n\nShow the coefficients:\n",
            "metadata": {}
        },
        {
            "id": "124039e0",
            "cell_type": "code",
            "metadata": {},
            "execution_count": null,
            "source": "p.c",
            "outputs": [
                {
                    "output_type": "execute_result",
                    "metadata": {},
                    "data": {
                        "text/plain": "array([1, 2, 3])"
                    },
                    "execution_count": null
                }
            ]
        },
        {
            "id": "49be7371",
            "cell_type": "markdown",
            "source": "Display the order (the leading zero-coefficients are removed):\n",
            "metadata": {}
        },
        {
            "id": "47cd49c8",
            "cell_type": "code",
            "metadata": {},
            "execution_count": null,
            "source": "p.order",
            "outputs": [
                {
                    "output_type": "execute_result",
                    "metadata": {},
                    "data": {
                        "text/plain": "2"
                    },
                    "execution_count": null
                }
            ]
        },
        {
            "id": "61325cec",
            "cell_type": "markdown",
            "source": "Show the coefficient of the k-th power in the polynomial\n(which is equivalent to ``p.c[-(i+1)]``):\n",
            "metadata": {}
        },
        {
            "id": "e2a25d2e",
            "cell_type": "code",
            "metadata": {},
            "execution_count": null,
            "source": "p[1]",
            "outputs": [
                {
                    "output_type": "execute_result",
                    "metadata": {},
                    "data": {
                        "text/plain": "2"
                    },
                    "execution_count": null
                }
            ]
        },
        {
            "id": "e30867ec",
            "cell_type": "markdown",
            "source": "Polynomials can be added, subtracted, multiplied, and divided\n(returns quotient and remainder):\n",
            "metadata": {}
        },
        {
            "id": "86bfef0c",
            "cell_type": "code",
            "metadata": {},
            "execution_count": null,
            "source": "p * p",
            "outputs": [
                {
                    "output_type": "execute_result",
                    "metadata": {},
                    "data": {
                        "text/plain": "poly1d([ 1,  4, 10, 12,  9])"
                    },
                    "execution_count": null
                }
            ]
        },
        {
            "id": "1d7926cb",
            "cell_type": "code",
            "metadata": {},
            "execution_count": null,
            "source": "(p**3 + 4) / p",
            "outputs": [
                {
                    "output_type": "execute_result",
                    "metadata": {},
                    "data": {
                        "text/plain": "(poly1d([ 1.,  4., 10., 12.,  9.]), poly1d([4.]))"
                    },
                    "execution_count": null
                }
            ]
        },
        {
            "id": "b552f466",
            "cell_type": "markdown",
            "source": "``asarray(p)`` gives the coefficient array, so polynomials can be\nused in all functions that accept arrays:\n",
            "metadata": {}
        },
        {
            "id": "1eb03d43",
            "cell_type": "code",
            "metadata": {},
            "execution_count": null,
            "source": "p**2 # square of polynomial",
            "outputs": [
                {
                    "output_type": "execute_result",
                    "metadata": {},
                    "data": {
                        "text/plain": "poly1d([ 1,  4, 10, 12,  9])"
                    },
                    "execution_count": null
                }
            ]
        },
        {
            "id": "a8c1dbd1",
            "cell_type": "code",
            "metadata": {},
            "execution_count": null,
            "source": "np.square(p) # square of individual coefficients",
            "outputs": [
                {
                    "output_type": "execute_result",
                    "metadata": {},
                    "data": {
                        "text/plain": "array([1, 4, 9])"
                    },
                    "execution_count": null
                }
            ]
        },
        {
            "id": "083c6d4f",
            "cell_type": "markdown",
            "source": "The variable used in the string representation of `p` can be modified,\nusing the `variable` parameter:\n",
            "metadata": {}
        },
        {
            "id": "e94b096a",
            "cell_type": "code",
            "metadata": {},
            "execution_count": null,
            "source": "p = np.poly1d([1,2,3], variable='z')\nprint(p)",
            "outputs": [
                {
                    "output_type": "execute_result",
                    "metadata": {},
                    "data": {
                        "text/plain": "   2\n1 z + 2 z + 3"
                    },
                    "execution_count": null
                }
            ]
        },
        {
            "id": "90c9ebc7",
            "cell_type": "markdown",
            "source": "Construct a polynomial from its roots:\n",
            "metadata": {}
        },
        {
            "id": "3465b048",
            "cell_type": "code",
            "metadata": {},
            "execution_count": null,
            "source": "np.poly1d([1, 2], True)",
            "outputs": [
                {
                    "output_type": "execute_result",
                    "metadata": {},
                    "data": {
                        "text/plain": "poly1d([ 1., -3.,  2.])"
                    },
                    "execution_count": null
                }
            ]
        },
        {
            "id": "e292f32f",
            "cell_type": "markdown",
            "source": "This is the same polynomial as obtained by:\n",
            "metadata": {}
        },
        {
            "id": "86403527",
            "cell_type": "code",
            "metadata": {},
            "execution_count": null,
            "source": "np.poly1d([1, -1]) * np.poly1d([1, -2])",
            "outputs": [
                {
                    "output_type": "execute_result",
                    "metadata": {},
                    "data": {
                        "text/plain": "poly1d([ 1, -3,  2])"
                    },
                    "execution_count": null
                }
            ]
        }
    ]
}