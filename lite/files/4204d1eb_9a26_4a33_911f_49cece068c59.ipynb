{
    "nbformat": 4,
    "nbformat_minor": 5,
    "metadata": {
        "kernelspec": {
            "display_name": "Python",
            "language": "python",
            "name": "python"
        },
        "language_info": {
            "name": "python"
        }
    },
    "cells": [
        {
            "id": "3cbd5944",
            "cell_type": "markdown",
            "source": "<div class='alert alert-warning'>\n\nNumPy's interactive examples are experimental and may not always work as expected, with high load times especially on low-resource platforms, and the version of NumPy might not be in sync with the one you are browsing the documentation for. If you encounter any issues, please report them on the [NumPy issue tracker](https://github.com/numpy/numpy/issues).\n\n</div>",
            "metadata": {}
        },
        {
            "id": "701bf7dc",
            "cell_type": "code",
            "metadata": {},
            "execution_count": null,
            "source": "from numpy.polynomial import polynomial as P\nc1 = (1, 2, 3)\nc2 = (3, 2, 1)\nsum = P.polyadd(c1,c2); sum",
            "outputs": [
                {
                    "output_type": "execute_result",
                    "metadata": {},
                    "data": {
                        "text/plain": "array([4.,  4.,  4.])"
                    },
                    "execution_count": null
                }
            ]
        },
        {
            "id": "617eabdf",
            "cell_type": "code",
            "metadata": {},
            "execution_count": null,
            "source": "P.polyval(2, sum)  # 4 + 4(2) + 4(2**2)",
            "outputs": [
                {
                    "output_type": "execute_result",
                    "metadata": {},
                    "data": {
                        "text/plain": "28.0"
                    },
                    "execution_count": null
                }
            ]
        }
    ]
}