{
    "nbformat": 4,
    "nbformat_minor": 5,
    "metadata": {
        "kernelspec": {
            "display_name": "Python",
            "language": "python",
            "name": "python"
        },
        "language_info": {
            "name": "python"
        }
    },
    "cells": [
        {
            "id": "e2f74d23",
            "cell_type": "markdown",
            "source": "<div class='alert alert-warning'>\n\nNumPy's interactive examples are experimental and may not always work as expected, with high load times especially on low-resource platforms, and the version of NumPy might not be in sync with the one you are browsing the documentation for. If you encounter any issues, please report them on the [NumPy issue tracker](https://github.com/numpy/numpy/issues).\n\n</div>",
            "metadata": {}
        },
        {
            "id": "57196706",
            "cell_type": "code",
            "metadata": {},
            "execution_count": null,
            "source": "import numpy.polynomial.legendre as L\nL.legfromroots((-1,0,1)) # x^3 - x relative to the standard basis",
            "outputs": [
                {
                    "output_type": "execute_result",
                    "metadata": {},
                    "data": {
                        "text/plain": "array([ 0. , -0.4,  0. ,  0.4])"
                    },
                    "execution_count": null
                }
            ]
        },
        {
            "id": "8e810b2e",
            "cell_type": "code",
            "metadata": {},
            "execution_count": null,
            "source": "j = complex(0,1)\nL.legfromroots((-j,j)) # x^2 + 1 relative to the standard basis",
            "outputs": [
                {
                    "output_type": "execute_result",
                    "metadata": {},
                    "data": {
                        "text/plain": "array([ 1.33333333+0.j,  0.00000000+0.j,  0.66666667+0.j]) # may vary"
                    },
                    "execution_count": null
                }
            ]
        }
    ]
}