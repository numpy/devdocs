{
    "nbformat": 4,
    "nbformat_minor": 5,
    "metadata": {
        "kernelspec": {
            "display_name": "Python",
            "language": "python",
            "name": "python"
        },
        "language_info": {
            "name": "python"
        }
    },
    "cells": [
        {
            "id": "d1f20c4c",
            "cell_type": "markdown",
            "source": "<div class='alert alert-warning'>\n\nNumPy's interactive examples are experimental and may not always work as expected, with high load times especially on low-resource platforms, and the version of NumPy might not be in sync with the one you are browsing the documentation for. If you encounter any issues, please report them on the [NumPy issue tracker](https://github.com/numpy/numpy/issues).\n\n</div>",
            "metadata": {}
        },
        {
            "id": "7ebbf3bc",
            "cell_type": "code",
            "metadata": {},
            "execution_count": null,
            "source": "r=np.rec.fromrecords([(456,'dbe',1.2),(2,'de',1.3)],\nnames='col1,col2,col3')\nprint(r[0])",
            "outputs": [
                {
                    "output_type": "execute_result",
                    "metadata": {},
                    "data": {
                        "text/plain": "(456, 'dbe', 1.2)"
                    },
                    "execution_count": null
                }
            ]
        },
        {
            "id": "4149f740",
            "cell_type": "code",
            "metadata": {},
            "execution_count": null,
            "source": "r.col1",
            "outputs": [
                {
                    "output_type": "execute_result",
                    "metadata": {},
                    "data": {
                        "text/plain": "array([456,   2])"
                    },
                    "execution_count": null
                }
            ]
        },
        {
            "id": "955edec9",
            "cell_type": "code",
            "metadata": {},
            "execution_count": null,
            "source": "r.col2",
            "outputs": [
                {
                    "output_type": "execute_result",
                    "metadata": {},
                    "data": {
                        "text/plain": "array(['dbe', 'de'], dtype='<U3')"
                    },
                    "execution_count": null
                }
            ]
        },
        {
            "id": "0865ed52",
            "cell_type": "code",
            "metadata": {},
            "execution_count": null,
            "source": "import pickle\npickle.loads(pickle.dumps(r))",
            "outputs": [
                {
                    "output_type": "execute_result",
                    "metadata": {},
                    "data": {
                        "text/plain": "rec.array([(456, 'dbe', 1.2), (  2, 'de', 1.3)],\n          dtype=[('col1', '<i8'), ('col2', '<U3'), ('col3', '<f8')])"
                    },
                    "execution_count": null
                }
            ]
        }
    ]
}