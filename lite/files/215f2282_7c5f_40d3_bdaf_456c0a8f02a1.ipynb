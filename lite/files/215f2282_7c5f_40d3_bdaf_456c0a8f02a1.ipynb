{
    "nbformat": 4,
    "nbformat_minor": 5,
    "metadata": {
        "kernelspec": {
            "display_name": "Python",
            "language": "python",
            "name": "python"
        },
        "language_info": {
            "name": "python"
        }
    },
    "cells": [
        {
            "id": "9e170773",
            "cell_type": "markdown",
            "source": "<div class='alert alert-warning'>\n\nNumPy's interactive examples are experimental and may not always work as expected, with high load times especially on low-resource platforms, and the version of NumPy might not be in sync with the one you are browsing the documentation for. If you encounter any issues, please report them on the [NumPy issue tracker](https://github.com/numpy/numpy/issues).\n\n</div>",
            "metadata": {}
        },
        {
            "id": "8d5c0021",
            "cell_type": "code",
            "metadata": {},
            "execution_count": null,
            "source": "import numpy as np",
            "outputs": []
        },
        {
            "id": "a87deeb4",
            "cell_type": "code",
            "metadata": {},
            "execution_count": null,
            "source": "a = np.arange(6).reshape(2,3)\nit = np.nditer(a, flags=['f_index'])\nwhile not it.finished:\n    print(\"%d <%d>\" % (it[0], it.index), end=' ')\n    is_not_finished = it.iternext()\n",
            "outputs": [
                {
                    "output_type": "execute_result",
                    "metadata": {},
                    "data": {
                        "text/plain": "0 <0> 1 <2> 2 <4> 3 <1> 4 <3> 5 <5>"
                    },
                    "execution_count": null
                }
            ]
        },
        {
            "id": "671e39cd",
            "cell_type": "code",
            "metadata": {},
            "execution_count": null,
            "source": "it = np.nditer(a, flags=['multi_index'])\nwhile not it.finished:\n    print(\"%d <%s>\" % (it[0], it.multi_index), end=' ')\n    is_not_finished = it.iternext()\n",
            "outputs": [
                {
                    "output_type": "execute_result",
                    "metadata": {},
                    "data": {
                        "text/plain": "0 <(0, 0)> 1 <(0, 1)> 2 <(0, 2)> 3 <(1, 0)> 4 <(1, 1)> 5 <(1, 2)>"
                    },
                    "execution_count": null
                }
            ]
        },
        {
            "id": "75a2a48d",
            "cell_type": "code",
            "metadata": {},
            "execution_count": null,
            "source": "with np.nditer(a, flags=['multi_index'], op_flags=['writeonly']) as it:\n    while not it.finished:\n        it[0] = it.multi_index[1] - it.multi_index[0]\n        is_not_finished = it.iternext()\n\na",
            "outputs": [
                {
                    "output_type": "execute_result",
                    "metadata": {},
                    "data": {
                        "text/plain": "array([[ 0,  1,  2],\n       [-1,  0,  1]])"
                    },
                    "execution_count": null
                }
            ]
        }
    ]
}