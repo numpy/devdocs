{
    "nbformat": 4,
    "nbformat_minor": 5,
    "metadata": {
        "kernelspec": {
            "display_name": "Python",
            "language": "python",
            "name": "python"
        },
        "language_info": {
            "name": "python"
        }
    },
    "cells": [
        {
            "id": "42c2f304",
            "cell_type": "markdown",
            "source": "<div class='alert alert-warning'>\n\nNumPy's interactive examples are experimental and may not always work as expected, with high load times especially on low-resource platforms, and the version of NumPy might not be in sync with the one you are browsing the documentation for. If you encounter any issues, please report them on the [NumPy issue tracker](https://github.com/numpy/numpy/issues).\n\n</div>",
            "metadata": {}
        },
        {
            "id": "3695a6af",
            "cell_type": "code",
            "metadata": {},
            "execution_count": null,
            "source": "import numpy as np\nprob1 = np.log2(1e-50)\nprob2 = np.log2(2.5e-50)\nprob12 = np.logaddexp2(prob1, prob2)\nprob1, prob2, prob12",
            "outputs": [
                {
                    "output_type": "execute_result",
                    "metadata": {},
                    "data": {
                        "text/plain": "(-166.09640474436813, -164.77447664948076, -164.28904982231052)"
                    },
                    "execution_count": null
                }
            ]
        },
        {
            "id": "28ef8681",
            "cell_type": "code",
            "metadata": {},
            "execution_count": null,
            "source": "2**prob12",
            "outputs": [
                {
                    "output_type": "execute_result",
                    "metadata": {},
                    "data": {
                        "text/plain": "3.4999999999999914e-50"
                    },
                    "execution_count": null
                }
            ]
        }
    ]
}