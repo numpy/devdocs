{
    "nbformat": 4,
    "nbformat_minor": 5,
    "metadata": {
        "kernelspec": {
            "display_name": "Python",
            "language": "python",
            "name": "python"
        },
        "language_info": {
            "name": "python"
        }
    },
    "cells": [
        {
            "id": "dab66b81",
            "cell_type": "markdown",
            "source": "<div class='alert alert-warning'>\n\nNumPy's interactive examples are experimental and may not always work as expected, with high load times especially on low-resource platforms, and the version of NumPy might not be in sync with the one you are browsing the documentation for. If you encounter any issues, please report them on the [NumPy issue tracker](https://github.com/numpy/numpy/issues).\n\n</div>",
            "metadata": {}
        },
        {
            "id": "80514276",
            "cell_type": "code",
            "metadata": {},
            "execution_count": null,
            "source": "import numpy.ma as ma\nx = [[-1., 2.5], [4., -2.], [3., 0.]]\nmask = [[0, 0], [1, 0], [1, 0]]\nmasked_x = ma.masked_array(x, mask)\nmasked_x",
            "outputs": [
                {
                    "output_type": "execute_result",
                    "metadata": {},
                    "data": {
                        "text/plain": "masked_array(\n  data=[[-1.0, 2.5],\n        [--, -2.0],\n        [--, 0.0]],\n  mask=[[False, False],\n        [ True, False],\n        [ True, False]],\n  fill_value=1e+20)"
                    },
                    "execution_count": null
                }
            ]
        },
        {
            "id": "a3a7ad2a",
            "cell_type": "code",
            "metadata": {},
            "execution_count": null,
            "source": "ma.max(masked_x)",
            "outputs": [
                {
                    "output_type": "execute_result",
                    "metadata": {},
                    "data": {
                        "text/plain": "2.5"
                    },
                    "execution_count": null
                }
            ]
        },
        {
            "id": "4086e9fb",
            "cell_type": "code",
            "metadata": {},
            "execution_count": null,
            "source": "ma.max(masked_x, axis=0)",
            "outputs": [
                {
                    "output_type": "execute_result",
                    "metadata": {},
                    "data": {
                        "text/plain": "masked_array(data=[-1.0, 2.5],\n             mask=[False, False],\n       fill_value=1e+20)"
                    },
                    "execution_count": null
                }
            ]
        },
        {
            "id": "562d0c81",
            "cell_type": "code",
            "metadata": {},
            "execution_count": null,
            "source": "ma.max(masked_x, axis=1, keepdims=True)",
            "outputs": [
                {
                    "output_type": "execute_result",
                    "metadata": {},
                    "data": {
                        "text/plain": "masked_array(\n  data=[[2.5],\n        [-2.0],\n        [0.0]],\n  mask=[[False],\n        [False],\n        [False]],\n  fill_value=1e+20)"
                    },
                    "execution_count": null
                }
            ]
        },
        {
            "id": "c110fa68",
            "cell_type": "code",
            "metadata": {},
            "execution_count": null,
            "source": "mask = [[1, 1], [1, 1], [1, 1]]\nmasked_x = ma.masked_array(x, mask)\nma.max(masked_x, axis=1)",
            "outputs": [
                {
                    "output_type": "execute_result",
                    "metadata": {},
                    "data": {
                        "text/plain": "masked_array(data=[--, --, --],\n             mask=[ True,  True,  True],\n       fill_value=1e+20,\n            dtype=float64)"
                    },
                    "execution_count": null
                }
            ]
        }
    ]
}