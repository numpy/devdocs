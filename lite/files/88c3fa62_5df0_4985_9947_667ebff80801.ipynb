{
    "nbformat": 4,
    "nbformat_minor": 5,
    "metadata": {
        "kernelspec": {
            "display_name": "Python",
            "language": "python",
            "name": "python"
        },
        "language_info": {
            "name": "python"
        }
    },
    "cells": [
        {
            "id": "224384a2",
            "cell_type": "markdown",
            "source": "<div class='alert alert-warning'>\n\nNumPy's interactive examples are experimental and may not always work as expected, with high load times especially on low-resource platforms, and the version of NumPy might not be in sync with the one you are browsing the documentation for. If you encounter any issues, please report them on the [NumPy issue tracker](https://github.com/numpy/numpy/issues).\n\n</div>",
            "metadata": {}
        },
        {
            "id": "0084e3b7",
            "cell_type": "markdown",
            "source": "Project a vector along X and Y.\n",
            "metadata": {}
        },
        {
            "id": "e32ba31e",
            "cell_type": "code",
            "metadata": {},
            "execution_count": null,
            "source": "v = np.array([0., 4., 2.])\na = np.array([[1., 0., 0.],\n              [0., 1., 0.],\n              [0., 0., 0.]])\nnp.vecmat(v, a)",
            "outputs": [
                {
                    "output_type": "execute_result",
                    "metadata": {},
                    "data": {
                        "text/plain": "array([ 0.,  4., 0.])"
                    },
                    "execution_count": null
                }
            ]
        }
    ]
}