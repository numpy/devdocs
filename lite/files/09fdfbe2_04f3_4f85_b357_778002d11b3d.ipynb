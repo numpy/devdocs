{
    "nbformat": 4,
    "nbformat_minor": 5,
    "metadata": {
        "kernelspec": {
            "display_name": "Python",
            "language": "python",
            "name": "python"
        },
        "language_info": {
            "name": "python"
        }
    },
    "cells": [
        {
            "id": "b03b5351",
            "cell_type": "markdown",
            "source": "<div class='alert alert-warning'>\n\nNumPy's interactive examples are experimental and may not always work as expected, with high load times especially on low-resource platforms, and the version of NumPy might not be in sync with the one you are browsing the documentation for. If you encounter any issues, please report them on the [NumPy issue tracker](https://github.com/numpy/numpy/issues).\n\n</div>",
            "metadata": {}
        },
        {
            "id": "b9b2051e",
            "cell_type": "code",
            "metadata": {},
            "execution_count": null,
            "source": "import numpy as np\nnp.base_repr(5)",
            "outputs": [
                {
                    "output_type": "execute_result",
                    "metadata": {},
                    "data": {
                        "text/plain": "'101'"
                    },
                    "execution_count": null
                }
            ]
        },
        {
            "id": "84eae9b9",
            "cell_type": "code",
            "metadata": {},
            "execution_count": null,
            "source": "np.base_repr(6, 5)",
            "outputs": [
                {
                    "output_type": "execute_result",
                    "metadata": {},
                    "data": {
                        "text/plain": "'11'"
                    },
                    "execution_count": null
                }
            ]
        },
        {
            "id": "97583d4a",
            "cell_type": "code",
            "metadata": {},
            "execution_count": null,
            "source": "np.base_repr(7, base=5, padding=3)",
            "outputs": [
                {
                    "output_type": "execute_result",
                    "metadata": {},
                    "data": {
                        "text/plain": "'00012'"
                    },
                    "execution_count": null
                }
            ]
        },
        {
            "id": "066e3fb7",
            "cell_type": "code",
            "metadata": {},
            "execution_count": null,
            "source": "np.base_repr(10, base=16)",
            "outputs": [
                {
                    "output_type": "execute_result",
                    "metadata": {},
                    "data": {
                        "text/plain": "'A'"
                    },
                    "execution_count": null
                }
            ]
        },
        {
            "id": "6503ea1d",
            "cell_type": "code",
            "metadata": {},
            "execution_count": null,
            "source": "np.base_repr(32, base=16)",
            "outputs": [
                {
                    "output_type": "execute_result",
                    "metadata": {},
                    "data": {
                        "text/plain": "'20'"
                    },
                    "execution_count": null
                }
            ]
        }
    ]
}