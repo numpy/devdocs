{
    "nbformat": 4,
    "nbformat_minor": 5,
    "metadata": {
        "kernelspec": {
            "display_name": "Python",
            "language": "python",
            "name": "python"
        },
        "language_info": {
            "name": "python"
        }
    },
    "cells": [
        {
            "id": "991c3a59",
            "cell_type": "markdown",
            "source": "<div class='alert alert-warning'>\n\nNumPy's interactive examples are experimental and may not always work as expected, with high load times especially on low-resource platforms, and the version of NumPy might not be in sync with the one you are browsing the documentation for. If you encounter any issues, please report them on the [NumPy issue tracker](https://github.com/numpy/numpy/issues).\n\n</div>",
            "metadata": {}
        },
        {
            "id": "88cfbb42",
            "cell_type": "code",
            "metadata": {},
            "execution_count": null,
            "source": "import numpy as np\nrng = np.random.default_rng()\narrays = [rng.normal(size=(3,4)) for _ in range(10)]\nnp.stack(arrays, axis=0).shape",
            "outputs": [
                {
                    "output_type": "execute_result",
                    "metadata": {},
                    "data": {
                        "text/plain": "(10, 3, 4)"
                    },
                    "execution_count": null
                }
            ]
        },
        {
            "id": "f4f47b17",
            "cell_type": "code",
            "metadata": {},
            "execution_count": null,
            "source": "np.stack(arrays, axis=1).shape",
            "outputs": [
                {
                    "output_type": "execute_result",
                    "metadata": {},
                    "data": {
                        "text/plain": "(3, 10, 4)"
                    },
                    "execution_count": null
                }
            ]
        },
        {
            "id": "a4940341",
            "cell_type": "code",
            "metadata": {},
            "execution_count": null,
            "source": "np.stack(arrays, axis=2).shape",
            "outputs": [
                {
                    "output_type": "execute_result",
                    "metadata": {},
                    "data": {
                        "text/plain": "(3, 4, 10)"
                    },
                    "execution_count": null
                }
            ]
        },
        {
            "id": "fdc5b8ba",
            "cell_type": "code",
            "metadata": {},
            "execution_count": null,
            "source": "a = np.array([1, 2, 3])\nb = np.array([4, 5, 6])\nnp.stack((a, b))",
            "outputs": [
                {
                    "output_type": "execute_result",
                    "metadata": {},
                    "data": {
                        "text/plain": "array([[1, 2, 3],\n       [4, 5, 6]])"
                    },
                    "execution_count": null
                }
            ]
        },
        {
            "id": "863a3cdb",
            "cell_type": "code",
            "metadata": {},
            "execution_count": null,
            "source": "np.stack((a, b), axis=-1)",
            "outputs": [
                {
                    "output_type": "execute_result",
                    "metadata": {},
                    "data": {
                        "text/plain": "array([[1, 4],\n       [2, 5],\n       [3, 6]])"
                    },
                    "execution_count": null
                }
            ]
        }
    ]
}