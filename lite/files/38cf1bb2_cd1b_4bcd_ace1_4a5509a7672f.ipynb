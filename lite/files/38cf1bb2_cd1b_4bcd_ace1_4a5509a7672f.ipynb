{
    "nbformat": 4,
    "nbformat_minor": 5,
    "metadata": {
        "kernelspec": {
            "display_name": "Python",
            "language": "python",
            "name": "python"
        },
        "language_info": {
            "name": "python"
        }
    },
    "cells": [
        {
            "id": "678658c6",
            "cell_type": "markdown",
            "source": "<div class='alert alert-warning'>\n\nNumPy's interactive examples are experimental and may not always work as expected, with high load times especially on low-resource platforms, and the version of NumPy might not be in sync with the one you are browsing the documentation for. If you encounter any issues, please report them on the [NumPy issue tracker](https://github.com/numpy/numpy/issues).\n\n</div>",
            "metadata": {}
        },
        {
            "id": "50888427",
            "cell_type": "code",
            "metadata": {},
            "execution_count": null,
            "source": "from numpy.polynomial.laguerre import laggauss\nlaggauss(2)",
            "outputs": [
                {
                    "output_type": "execute_result",
                    "metadata": {},
                    "data": {
                        "text/plain": "(array([0.58578644, 3.41421356]), array([0.85355339, 0.14644661]))"
                    },
                    "execution_count": null
                }
            ]
        }
    ]
}