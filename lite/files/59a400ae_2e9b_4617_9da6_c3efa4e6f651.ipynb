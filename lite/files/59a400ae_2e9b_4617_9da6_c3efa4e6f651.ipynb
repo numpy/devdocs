{
    "nbformat": 4,
    "nbformat_minor": 5,
    "metadata": {
        "kernelspec": {
            "display_name": "Python",
            "language": "python",
            "name": "python"
        },
        "language_info": {
            "name": "python"
        }
    },
    "cells": [
        {
            "id": "2a2f3d16",
            "cell_type": "markdown",
            "source": "<div class='alert alert-warning'>\n\nNumPy's interactive examples are experimental and may not always work as expected, with high load times especially on low-resource platforms, and the version of NumPy might not be in sync with the one you are browsing the documentation for. If you encounter any issues, please report them on the [NumPy issue tracker](https://github.com/numpy/numpy/issues).\n\n</div>",
            "metadata": {}
        },
        {
            "id": "a613d7c6",
            "cell_type": "code",
            "metadata": {},
            "execution_count": null,
            "source": "import numpy as np\nA = np.arange(8).reshape((2,2,2))\nA",
            "outputs": [
                {
                    "output_type": "execute_result",
                    "metadata": {},
                    "data": {
                        "text/plain": "array([[[0, 1],\n        [2, 3]],\n       [[4, 5],\n        [6, 7]]])"
                    },
                    "execution_count": null
                }
            ]
        },
        {
            "id": "e788697f",
            "cell_type": "code",
            "metadata": {},
            "execution_count": null,
            "source": "np.flip(A, 0)",
            "outputs": [
                {
                    "output_type": "execute_result",
                    "metadata": {},
                    "data": {
                        "text/plain": "array([[[4, 5],\n        [6, 7]],\n       [[0, 1],\n        [2, 3]]])"
                    },
                    "execution_count": null
                }
            ]
        },
        {
            "id": "6507feef",
            "cell_type": "code",
            "metadata": {},
            "execution_count": null,
            "source": "np.flip(A, 1)",
            "outputs": [
                {
                    "output_type": "execute_result",
                    "metadata": {},
                    "data": {
                        "text/plain": "array([[[2, 3],\n        [0, 1]],\n       [[6, 7],\n        [4, 5]]])"
                    },
                    "execution_count": null
                }
            ]
        },
        {
            "id": "a0ef1b91",
            "cell_type": "code",
            "metadata": {},
            "execution_count": null,
            "source": "np.flip(A)",
            "outputs": [
                {
                    "output_type": "execute_result",
                    "metadata": {},
                    "data": {
                        "text/plain": "array([[[7, 6],\n        [5, 4]],\n       [[3, 2],\n        [1, 0]]])"
                    },
                    "execution_count": null
                }
            ]
        },
        {
            "id": "a629e2d4",
            "cell_type": "code",
            "metadata": {},
            "execution_count": null,
            "source": "np.flip(A, (0, 2))",
            "outputs": [
                {
                    "output_type": "execute_result",
                    "metadata": {},
                    "data": {
                        "text/plain": "array([[[5, 4],\n        [7, 6]],\n       [[1, 0],\n        [3, 2]]])"
                    },
                    "execution_count": null
                }
            ]
        },
        {
            "id": "54e156d0",
            "cell_type": "code",
            "metadata": {},
            "execution_count": null,
            "source": "rng = np.random.default_rng()\nA = rng.normal(size=(3,4,5))\nnp.all(np.flip(A,2) == A[:,:,::-1,...])",
            "outputs": [
                {
                    "output_type": "execute_result",
                    "metadata": {},
                    "data": {
                        "text/plain": "True"
                    },
                    "execution_count": null
                }
            ]
        }
    ]
}