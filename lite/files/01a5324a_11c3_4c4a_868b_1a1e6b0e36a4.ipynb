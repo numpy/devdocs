{
    "nbformat": 4,
    "nbformat_minor": 5,
    "metadata": {
        "kernelspec": {
            "display_name": "Python",
            "language": "python",
            "name": "python"
        },
        "language_info": {
            "name": "python"
        }
    },
    "cells": [
        {
            "id": "bbc12ebf",
            "cell_type": "markdown",
            "source": "<div class='alert alert-warning'>\n\nNumPy's interactive examples are experimental and may not always work as expected, with high load times especially on low-resource platforms, and the version of NumPy might not be in sync with the one you are browsing the documentation for. If you encounter any issues, please report them on the [NumPy issue tracker](https://github.com/numpy/numpy/issues).\n\n</div>",
            "metadata": {}
        },
        {
            "id": "4da06977",
            "cell_type": "code",
            "metadata": {},
            "execution_count": null,
            "source": "import numpy as np\nnp.nancumprod(1)",
            "outputs": [
                {
                    "output_type": "execute_result",
                    "metadata": {},
                    "data": {
                        "text/plain": "array([1])"
                    },
                    "execution_count": null
                }
            ]
        },
        {
            "id": "eaac30be",
            "cell_type": "code",
            "metadata": {},
            "execution_count": null,
            "source": "np.nancumprod([1])",
            "outputs": [
                {
                    "output_type": "execute_result",
                    "metadata": {},
                    "data": {
                        "text/plain": "array([1])"
                    },
                    "execution_count": null
                }
            ]
        },
        {
            "id": "2dbcffe0",
            "cell_type": "code",
            "metadata": {},
            "execution_count": null,
            "source": "np.nancumprod([1, np.nan])",
            "outputs": [
                {
                    "output_type": "execute_result",
                    "metadata": {},
                    "data": {
                        "text/plain": "array([1.,  1.])"
                    },
                    "execution_count": null
                }
            ]
        },
        {
            "id": "cd119f88",
            "cell_type": "code",
            "metadata": {},
            "execution_count": null,
            "source": "a = np.array([[1, 2], [3, np.nan]])\nnp.nancumprod(a)",
            "outputs": [
                {
                    "output_type": "execute_result",
                    "metadata": {},
                    "data": {
                        "text/plain": "array([1.,  2.,  6.,  6.])"
                    },
                    "execution_count": null
                }
            ]
        },
        {
            "id": "a2f6c134",
            "cell_type": "code",
            "metadata": {},
            "execution_count": null,
            "source": "np.nancumprod(a, axis=0)",
            "outputs": [
                {
                    "output_type": "execute_result",
                    "metadata": {},
                    "data": {
                        "text/plain": "array([[1.,  2.],\n       [3.,  2.]])"
                    },
                    "execution_count": null
                }
            ]
        },
        {
            "id": "9eafb210",
            "cell_type": "code",
            "metadata": {},
            "execution_count": null,
            "source": "np.nancumprod(a, axis=1)",
            "outputs": [
                {
                    "output_type": "execute_result",
                    "metadata": {},
                    "data": {
                        "text/plain": "array([[1.,  2.],\n       [3.,  3.]])"
                    },
                    "execution_count": null
                }
            ]
        }
    ]
}