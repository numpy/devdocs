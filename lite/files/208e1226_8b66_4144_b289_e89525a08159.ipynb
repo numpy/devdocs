{
    "nbformat": 4,
    "nbformat_minor": 5,
    "metadata": {
        "kernelspec": {
            "display_name": "Python",
            "language": "python",
            "name": "python"
        },
        "language_info": {
            "name": "python"
        }
    },
    "cells": [
        {
            "id": "61113ec2",
            "cell_type": "markdown",
            "source": "<div class='alert alert-warning'>\n\nNumPy's interactive examples are experimental and may not always work as expected, with high load times especially on low-resource platforms, and the version of NumPy might not be in sync with the one you are browsing the documentation for. If you encounter any issues, please report them on the [NumPy issue tracker](https://github.com/numpy/numpy/issues).\n\n</div>",
            "metadata": {}
        },
        {
            "id": "975c02b1",
            "cell_type": "code",
            "metadata": {},
            "execution_count": null,
            "source": "from numpy.polynomial import chebyshev as C\nc1 = (1,2,3)\nc2 = (3,2,1)\nC.chebsub(c1,c2)",
            "outputs": [
                {
                    "output_type": "execute_result",
                    "metadata": {},
                    "data": {
                        "text/plain": "array([-2.,  0.,  2.])"
                    },
                    "execution_count": null
                }
            ]
        },
        {
            "id": "43f77da0",
            "cell_type": "code",
            "metadata": {},
            "execution_count": null,
            "source": "C.chebsub(c2,c1) # -C.chebsub(c1,c2)",
            "outputs": [
                {
                    "output_type": "execute_result",
                    "metadata": {},
                    "data": {
                        "text/plain": "array([ 2.,  0., -2.])"
                    },
                    "execution_count": null
                }
            ]
        }
    ]
}