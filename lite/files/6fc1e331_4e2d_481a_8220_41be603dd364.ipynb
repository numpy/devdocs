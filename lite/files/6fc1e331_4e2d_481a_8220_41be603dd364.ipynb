{
    "nbformat": 4,
    "nbformat_minor": 5,
    "metadata": {
        "kernelspec": {
            "display_name": "Python",
            "language": "python",
            "name": "python"
        },
        "language_info": {
            "name": "python"
        }
    },
    "cells": [
        {
            "id": "7c693101",
            "cell_type": "markdown",
            "source": "<div class='alert alert-warning'>\n\nNumPy's interactive examples are experimental and may not always work as expected, with high load times especially on low-resource platforms, and the version of NumPy might not be in sync with the one you are browsing the documentation for. If you encounter any issues, please report them on the [NumPy issue tracker](https://github.com/numpy/numpy/issues).\n\n</div>",
            "metadata": {}
        },
        {
            "id": "6d386cc0",
            "cell_type": "code",
            "metadata": {},
            "execution_count": null,
            "source": "import numpy as np\nnp.format_float_scientific(np.float32(np.pi))",
            "outputs": [
                {
                    "output_type": "execute_result",
                    "metadata": {},
                    "data": {
                        "text/plain": "'3.1415927e+00'"
                    },
                    "execution_count": null
                }
            ]
        },
        {
            "id": "95bb6348",
            "cell_type": "code",
            "metadata": {},
            "execution_count": null,
            "source": "s = np.float32(1.23e24)\nnp.format_float_scientific(s, unique=False, precision=15)",
            "outputs": [
                {
                    "output_type": "execute_result",
                    "metadata": {},
                    "data": {
                        "text/plain": "'1.230000071797338e+24'"
                    },
                    "execution_count": null
                }
            ]
        },
        {
            "id": "4c2e5ef7",
            "cell_type": "code",
            "metadata": {},
            "execution_count": null,
            "source": "np.format_float_scientific(s, exp_digits=4)",
            "outputs": [
                {
                    "output_type": "execute_result",
                    "metadata": {},
                    "data": {
                        "text/plain": "'1.23e+0024'"
                    },
                    "execution_count": null
                }
            ]
        }
    ]
}