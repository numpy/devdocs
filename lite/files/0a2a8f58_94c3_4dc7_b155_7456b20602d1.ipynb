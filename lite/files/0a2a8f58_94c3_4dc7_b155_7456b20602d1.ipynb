{
    "nbformat": 4,
    "nbformat_minor": 5,
    "metadata": {
        "kernelspec": {
            "display_name": "Python",
            "language": "python",
            "name": "python"
        },
        "language_info": {
            "name": "python"
        }
    },
    "cells": [
        {
            "id": "6f27aae6",
            "cell_type": "markdown",
            "source": "<div class='alert alert-warning'>\n\nNumPy's interactive examples are experimental and may not always work as expected, with high load times especially on low-resource platforms, and the version of NumPy might not be in sync with the one you are browsing the documentation for. If you encounter any issues, please report them on the [NumPy issue tracker](https://github.com/numpy/numpy/issues).\n\n</div>",
            "metadata": {}
        },
        {
            "id": "3dc9c881",
            "cell_type": "code",
            "metadata": {},
            "execution_count": null,
            "source": "import numpy as np",
            "outputs": []
        },
        {
            "id": "b63ae907",
            "cell_type": "code",
            "metadata": {},
            "execution_count": null,
            "source": "type(np.datetime64('NaT').item())",
            "outputs": [
                {
                    "output_type": "execute_result",
                    "metadata": {},
                    "data": {
                        "text/plain": "<class 'NoneType'>"
                    },
                    "execution_count": null
                }
            ]
        },
        {
            "id": "a464f68b",
            "cell_type": "code",
            "metadata": {},
            "execution_count": null,
            "source": "type(np.timedelta64('NaT').item())",
            "outputs": [
                {
                    "output_type": "execute_result",
                    "metadata": {},
                    "data": {
                        "text/plain": "<class 'NoneType'>"
                    },
                    "execution_count": null
                }
            ]
        },
        {
            "id": "7881aa36",
            "cell_type": "code",
            "metadata": {},
            "execution_count": null,
            "source": "type(np.timedelta64(123, 'ns').item())",
            "outputs": [
                {
                    "output_type": "execute_result",
                    "metadata": {},
                    "data": {
                        "text/plain": "<class 'int'>"
                    },
                    "execution_count": null
                }
            ]
        },
        {
            "id": "420d7b07",
            "cell_type": "code",
            "metadata": {},
            "execution_count": null,
            "source": "type(np.datetime64('2025-01-01T12:00:00.123456').item())",
            "outputs": [
                {
                    "output_type": "execute_result",
                    "metadata": {},
                    "data": {
                        "text/plain": "<class 'datetime.datetime'>"
                    },
                    "execution_count": null
                }
            ]
        },
        {
            "id": "6d645f08",
            "cell_type": "code",
            "metadata": {},
            "execution_count": null,
            "source": "type(np.timedelta64(10, 'D').item())",
            "outputs": [
                {
                    "output_type": "execute_result",
                    "metadata": {},
                    "data": {
                        "text/plain": "<class 'datetime.timedelta'>"
                    },
                    "execution_count": null
                }
            ]
        }
    ]
}