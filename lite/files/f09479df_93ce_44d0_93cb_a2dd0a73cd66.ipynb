{
    "nbformat": 4,
    "nbformat_minor": 5,
    "metadata": {
        "kernelspec": {
            "display_name": "Python",
            "language": "python",
            "name": "python"
        },
        "language_info": {
            "name": "python"
        }
    },
    "cells": [
        {
            "id": "da67dcd7",
            "cell_type": "markdown",
            "source": "<div class='alert alert-warning'>\n\nNumPy's interactive examples are experimental and may not always work as expected, with high load times especially on low-resource platforms, and the version of NumPy might not be in sync with the one you are browsing the documentation for. If you encounter any issues, please report them on the [NumPy issue tracker](https://github.com/numpy/numpy/issues).\n\n</div>",
            "metadata": {}
        },
        {
            "id": "0024210c",
            "cell_type": "code",
            "metadata": {},
            "execution_count": null,
            "source": "import numpy as np",
            "outputs": []
        },
        {
            "id": "0819c64a",
            "cell_type": "code",
            "metadata": {},
            "execution_count": null,
            "source": "a = np.arange(6).reshape(2,3)\nfor x in np.nditer(a.T):\n    print(x, end=' ')\n",
            "outputs": [
                {
                    "output_type": "execute_result",
                    "metadata": {},
                    "data": {
                        "text/plain": "0 1 2 3 4 5"
                    },
                    "execution_count": null
                }
            ]
        },
        {
            "id": "e0355952",
            "cell_type": "code",
            "metadata": {},
            "execution_count": null,
            "source": "for x in np.nditer(a.T.copy(order='C')):\n    print(x, end=' ')\n",
            "outputs": [
                {
                    "output_type": "execute_result",
                    "metadata": {},
                    "data": {
                        "text/plain": "0 3 1 4 2 5"
                    },
                    "execution_count": null
                }
            ]
        }
    ]
}