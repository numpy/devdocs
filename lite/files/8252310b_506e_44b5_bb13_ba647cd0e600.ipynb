{
    "nbformat": 4,
    "nbformat_minor": 5,
    "metadata": {
        "kernelspec": {
            "display_name": "Python",
            "language": "python",
            "name": "python"
        },
        "language_info": {
            "name": "python"
        }
    },
    "cells": [
        {
            "id": "42e958d6",
            "cell_type": "markdown",
            "source": "<div class='alert alert-warning'>\n\nNumPy's interactive examples are experimental and may not always work as expected, with high load times especially on low-resource platforms, and the version of NumPy might not be in sync with the one you are browsing the documentation for. If you encounter any issues, please report them on the [NumPy issue tracker](https://github.com/numpy/numpy/issues).\n\n</div>",
            "metadata": {}
        },
        {
            "id": "78622032",
            "cell_type": "code",
            "metadata": {},
            "execution_count": null,
            "source": "import numpy as np\na = np.eye(4*6).reshape((4, 6, 8, 3))\nainv = np.linalg.tensorinv(a, ind=2)\nainv.shape",
            "outputs": [
                {
                    "output_type": "execute_result",
                    "metadata": {},
                    "data": {
                        "text/plain": "(8, 3, 4, 6)"
                    },
                    "execution_count": null
                }
            ]
        },
        {
            "id": "274f91e6",
            "cell_type": "code",
            "metadata": {},
            "execution_count": null,
            "source": "rng = np.random.default_rng()\nb = rng.normal(size=(4, 6))\nnp.allclose(np.tensordot(ainv, b), np.linalg.tensorsolve(a, b))",
            "outputs": [
                {
                    "output_type": "execute_result",
                    "metadata": {},
                    "data": {
                        "text/plain": "True"
                    },
                    "execution_count": null
                }
            ]
        },
        {
            "id": "848c5b6f",
            "cell_type": "code",
            "metadata": {},
            "execution_count": null,
            "source": "a = np.eye(4*6).reshape((24, 8, 3))\nainv = np.linalg.tensorinv(a, ind=1)\nainv.shape",
            "outputs": [
                {
                    "output_type": "execute_result",
                    "metadata": {},
                    "data": {
                        "text/plain": "(8, 3, 24)"
                    },
                    "execution_count": null
                }
            ]
        },
        {
            "id": "0b21fa55",
            "cell_type": "code",
            "metadata": {},
            "execution_count": null,
            "source": "rng = np.random.default_rng()\nb = rng.normal(size=24)\nnp.allclose(np.tensordot(ainv, b, 1), np.linalg.tensorsolve(a, b))",
            "outputs": [
                {
                    "output_type": "execute_result",
                    "metadata": {},
                    "data": {
                        "text/plain": "True"
                    },
                    "execution_count": null
                }
            ]
        }
    ]
}