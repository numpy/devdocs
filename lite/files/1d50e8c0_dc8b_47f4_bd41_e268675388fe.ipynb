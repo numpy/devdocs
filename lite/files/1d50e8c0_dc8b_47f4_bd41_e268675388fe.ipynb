{
    "nbformat": 4,
    "nbformat_minor": 5,
    "metadata": {
        "kernelspec": {
            "display_name": "Python",
            "language": "python",
            "name": "python"
        },
        "language_info": {
            "name": "python"
        }
    },
    "cells": [
        {
            "id": "9c4d6585",
            "cell_type": "markdown",
            "source": "<div class='alert alert-warning'>\n\nNumPy's interactive examples are experimental and may not always work as expected, with high load times especially on low-resource platforms, and the version of NumPy might not be in sync with the one you are browsing the documentation for. If you encounter any issues, please report them on the [NumPy issue tracker](https://github.com/numpy/numpy/issues).\n\n</div>",
            "metadata": {}
        },
        {
            "id": "e274ff27",
            "cell_type": "code",
            "metadata": {},
            "execution_count": null,
            "source": "import numpy as np\nc = np.array(['a1b c', '1bca', 'bca1']); c",
            "outputs": [
                {
                    "output_type": "execute_result",
                    "metadata": {},
                    "data": {
                        "text/plain": "array(['a1b c', '1bca', 'bca1'], dtype='<U5')"
                    },
                    "execution_count": null
                }
            ]
        },
        {
            "id": "3fd02697",
            "cell_type": "code",
            "metadata": {},
            "execution_count": null,
            "source": "np.strings.upper(c)",
            "outputs": [
                {
                    "output_type": "execute_result",
                    "metadata": {},
                    "data": {
                        "text/plain": "array(['A1B C', '1BCA', 'BCA1'], dtype='<U5')"
                    },
                    "execution_count": null
                }
            ]
        }
    ]
}