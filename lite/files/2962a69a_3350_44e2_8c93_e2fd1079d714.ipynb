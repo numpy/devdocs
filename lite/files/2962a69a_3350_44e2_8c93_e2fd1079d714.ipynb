{
    "nbformat": 4,
    "nbformat_minor": 5,
    "metadata": {
        "kernelspec": {
            "display_name": "Python",
            "language": "python",
            "name": "python"
        },
        "language_info": {
            "name": "python"
        }
    },
    "cells": [
        {
            "id": "93d273d8",
            "cell_type": "markdown",
            "source": "<div class='alert alert-warning'>\n\nNumPy's interactive examples are experimental and may not always work as expected, with high load times especially on low-resource platforms, and the version of NumPy might not be in sync with the one you are browsing the documentation for. If you encounter any issues, please report them on the [NumPy issue tracker](https://github.com/numpy/numpy/issues).\n\n</div>",
            "metadata": {}
        },
        {
            "id": "180af1ef",
            "cell_type": "code",
            "metadata": {},
            "execution_count": null,
            "source": "from numpy import ogrid\nogrid[-1:1:5j]",
            "outputs": [
                {
                    "output_type": "execute_result",
                    "metadata": {},
                    "data": {
                        "text/plain": "array([-1. , -0.5,  0. ,  0.5,  1. ])"
                    },
                    "execution_count": null
                }
            ]
        },
        {
            "id": "c65d1c2e",
            "cell_type": "code",
            "metadata": {},
            "execution_count": null,
            "source": "ogrid[0:5, 0:5]",
            "outputs": [
                {
                    "output_type": "execute_result",
                    "metadata": {},
                    "data": {
                        "text/plain": "(array([[0],\n        [1],\n        [2],\n        [3],\n        [4]]),\n array([[0, 1, 2, 3, 4]]))"
                    },
                    "execution_count": null
                }
            ]
        }
    ]
}