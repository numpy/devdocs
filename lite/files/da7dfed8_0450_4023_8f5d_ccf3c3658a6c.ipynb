{
    "nbformat": 4,
    "nbformat_minor": 5,
    "metadata": {
        "kernelspec": {
            "display_name": "Python",
            "language": "python",
            "name": "python"
        },
        "language_info": {
            "name": "python"
        }
    },
    "cells": [
        {
            "id": "59b31471",
            "cell_type": "markdown",
            "source": "<div class='alert alert-warning'>\n\nNumPy's interactive examples are experimental and may not always work as expected, with high load times especially on low-resource platforms, and the version of NumPy might not be in sync with the one you are browsing the documentation for. If you encounter any issues, please report them on the [NumPy issue tracker](https://github.com/numpy/numpy/issues).\n\n</div>",
            "metadata": {}
        },
        {
            "id": "07bb1106",
            "cell_type": "markdown",
            "source": "    .. code-block:: python\n\n        >>> import numpy as np\n        >>> import numpy.typing as npt\n\n        >>> def as_array(a: npt.ArrayLike) -> np.ndarray:\n        ...     return np.array(a)\n\n\n.. data:: DTypeLike\n    :value: typing.Union[...]\n\n    A `~typing.Union` representing objects that can be coerced\n    into a `~numpy.dtype`.\n\n    Among others this includes the likes of:\n\n    * :class:`type` objects.\n    * Character codes or the names of :class:`type` objects.\n    * Objects with the ``.dtype`` attribute.\n\n    .. versionadded:: 1.20\n\n    .. admonition:: See Also\n\n        :ref:`Specifying and constructing data types <arrays.dtypes.constructing>`\n            A comprehensive overview of all objects that can be coerced\n            into data types.\n\n    .. rubric:: Examples\n\n    .. code-block:: python\n\n        >>> import numpy as np\n        >>> import numpy.typing as npt\n\n        >>> def as_dtype(d: npt.DTypeLike) -> np.dtype:\n        ...     return np.dtype(d)\n\n\n.. data:: NDArray\n    :value: numpy.ndarray[tuple[typing.Any, ...], numpy.dtype[~_ScalarT]]\n\n    A `np.ndarray[tuple[Any, ...], np.dtype[ScalarT]] <numpy.ndarray>`\n    type alias :term:`generic <generic type>` w.r.t. its\n    `dtype.type <numpy.dtype.type>`.\n\n    Can be used during runtime for typing arrays with a given dtype\n    and unspecified shape.\n\n    .. versionadded:: 1.21\n\n    .. rubric:: Examples\n\n    .. code-block:: python\n\n        >>> import numpy as np\n        >>> import numpy.typing as npt\n\n        >>> print(npt.NDArray)\n        numpy.ndarray[tuple[typing.Any, ...], numpy.dtype[~_ScalarT]]\n\n        >>> print(npt.NDArray[np.float64])\n        numpy.ndarray[tuple[typing.Any, ...], numpy.dtype[numpy.float64]]\n\n        >>> NDArrayInt = npt.NDArray[np.int_]\n        >>> a: NDArrayInt = np.arange(10)\n\n        >>> def func(a: npt.ArrayLike) -> npt.NDArray[Any]:\n        ...     return np.array(a)\n\n\n.. autoclass:: numpy.typing.NBitBase",
            "metadata": {}
        }
    ]
}