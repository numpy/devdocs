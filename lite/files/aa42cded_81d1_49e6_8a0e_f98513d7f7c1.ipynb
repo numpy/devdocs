{
    "nbformat": 4,
    "nbformat_minor": 5,
    "metadata": {
        "kernelspec": {
            "display_name": "Python",
            "language": "python",
            "name": "python"
        },
        "language_info": {
            "name": "python"
        }
    },
    "cells": [
        {
            "id": "7e6ca92b",
            "cell_type": "markdown",
            "source": "<div class='alert alert-warning'>\n\nNumPy's interactive examples are experimental and may not always work as expected, with high load times especially on low-resource platforms, and the version of NumPy might not be in sync with the one you are browsing the documentation for. If you encounter any issues, please report them on the [NumPy issue tracker](https://github.com/numpy/numpy/issues).\n\n</div>",
            "metadata": {}
        },
        {
            "id": "30ccaf63",
            "cell_type": "markdown",
            "source": "Use frompyfunc to add broadcasting to the Python function ``oct``:\n",
            "metadata": {}
        },
        {
            "id": "bff03d88",
            "cell_type": "code",
            "metadata": {},
            "execution_count": null,
            "source": "import numpy as np\noct_array = np.frompyfunc(oct, 1, 1)\noct_array(np.array((10, 30, 100)))",
            "outputs": [
                {
                    "output_type": "execute_result",
                    "metadata": {},
                    "data": {
                        "text/plain": "array(['0o12', '0o36', '0o144'], dtype=object)"
                    },
                    "execution_count": null
                }
            ]
        },
        {
            "id": "4c811b92",
            "cell_type": "code",
            "metadata": {},
            "execution_count": null,
            "source": "np.array((oct(10), oct(30), oct(100))) # for comparison",
            "outputs": [
                {
                    "output_type": "execute_result",
                    "metadata": {},
                    "data": {
                        "text/plain": "array(['0o12', '0o36', '0o144'], dtype='<U5')"
                    },
                    "execution_count": null
                }
            ]
        }
    ]
}