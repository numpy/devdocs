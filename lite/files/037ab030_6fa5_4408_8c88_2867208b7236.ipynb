{
    "nbformat": 4,
    "nbformat_minor": 5,
    "metadata": {
        "kernelspec": {
            "display_name": "Python",
            "language": "python",
            "name": "python"
        },
        "language_info": {
            "name": "python"
        }
    },
    "cells": [
        {
            "id": "f34eebbe",
            "cell_type": "markdown",
            "source": "<div class='alert alert-warning'>\n\nNumPy's interactive examples are experimental and may not always work as expected, with high load times especially on low-resource platforms, and the version of NumPy might not be in sync with the one you are browsing the documentation for. If you encounter any issues, please report them on the [NumPy issue tracker](https://github.com/numpy/numpy/issues).\n\n</div>",
            "metadata": {}
        },
        {
            "id": "3f25edfd",
            "cell_type": "code",
            "metadata": {},
            "execution_count": null,
            "source": "import numpy as np\nfrom numpy import linalg as LA\na = np.array([[1, -2j], [2j, 5]])\na",
            "outputs": [
                {
                    "output_type": "execute_result",
                    "metadata": {},
                    "data": {
                        "text/plain": "array([[ 1.+0.j, -0.-2.j],\n       [ 0.+2.j,  5.+0.j]])"
                    },
                    "execution_count": null
                }
            ]
        },
        {
            "id": "a5fa71ff",
            "cell_type": "code",
            "metadata": {},
            "execution_count": null,
            "source": "eigenvalues, eigenvectors = LA.eigh(a)\neigenvalues",
            "outputs": [
                {
                    "output_type": "execute_result",
                    "metadata": {},
                    "data": {
                        "text/plain": "array([0.17157288, 5.82842712])"
                    },
                    "execution_count": null
                }
            ]
        },
        {
            "id": "400cf83c",
            "cell_type": "code",
            "metadata": {},
            "execution_count": null,
            "source": "eigenvectors",
            "outputs": [
                {
                    "output_type": "execute_result",
                    "metadata": {},
                    "data": {
                        "text/plain": "array([[-0.92387953+0.j        , -0.38268343+0.j        ], # may vary\n       [ 0.        +0.38268343j,  0.        -0.92387953j]])"
                    },
                    "execution_count": null
                }
            ]
        },
        {
            "id": "9523ab1c",
            "cell_type": "code",
            "metadata": {},
            "execution_count": null,
            "source": "(np.dot(a, eigenvectors[:, 0]) -\neigenvalues[0] * eigenvectors[:, 0])  # verify 1st eigenval/vec pair",
            "outputs": [
                {
                    "output_type": "execute_result",
                    "metadata": {},
                    "data": {
                        "text/plain": "array([5.55111512e-17+0.0000000e+00j, 0.00000000e+00+1.2490009e-16j])"
                    },
                    "execution_count": null
                }
            ]
        },
        {
            "id": "62abe149",
            "cell_type": "code",
            "metadata": {},
            "execution_count": null,
            "source": "(np.dot(a, eigenvectors[:, 1]) -\neigenvalues[1] * eigenvectors[:, 1])  # verify 2nd eigenval/vec pair",
            "outputs": [
                {
                    "output_type": "execute_result",
                    "metadata": {},
                    "data": {
                        "text/plain": "array([0.+0.j, 0.+0.j])"
                    },
                    "execution_count": null
                }
            ]
        },
        {
            "id": "e79fb382",
            "cell_type": "code",
            "metadata": {},
            "execution_count": null,
            "source": "A = np.matrix(a) # what happens if input is a matrix object\nA",
            "outputs": [
                {
                    "output_type": "execute_result",
                    "metadata": {},
                    "data": {
                        "text/plain": "matrix([[ 1.+0.j, -0.-2.j],\n        [ 0.+2.j,  5.+0.j]])"
                    },
                    "execution_count": null
                }
            ]
        },
        {
            "id": "bf30a72a",
            "cell_type": "code",
            "metadata": {},
            "execution_count": null,
            "source": "eigenvalues, eigenvectors = LA.eigh(A)\neigenvalues",
            "outputs": [
                {
                    "output_type": "execute_result",
                    "metadata": {},
                    "data": {
                        "text/plain": "array([0.17157288, 5.82842712])"
                    },
                    "execution_count": null
                }
            ]
        },
        {
            "id": "d141127a",
            "cell_type": "code",
            "metadata": {},
            "execution_count": null,
            "source": "eigenvectors",
            "outputs": [
                {
                    "output_type": "execute_result",
                    "metadata": {},
                    "data": {
                        "text/plain": "matrix([[-0.92387953+0.j        , -0.38268343+0.j        ], # may vary\n        [ 0.        +0.38268343j,  0.        -0.92387953j]])"
                    },
                    "execution_count": null
                }
            ]
        },
        {
            "id": "2fddd6cb",
            "cell_type": "code",
            "metadata": {},
            "execution_count": null,
            "source": "# demonstrate the treatment of the imaginary part of the diagonal\na = np.array([[5+2j, 9-2j], [0+2j, 2-1j]])\na",
            "outputs": [
                {
                    "output_type": "execute_result",
                    "metadata": {},
                    "data": {
                        "text/plain": "array([[5.+2.j, 9.-2.j],\n       [0.+2.j, 2.-1.j]])"
                    },
                    "execution_count": null
                }
            ]
        },
        {
            "id": "6c1b6f8d",
            "cell_type": "code",
            "metadata": {},
            "execution_count": null,
            "source": "# with UPLO='L' this is numerically equivalent to using LA.eig() with:\nb = np.array([[5.+0.j, 0.-2.j], [0.+2.j, 2.-0.j]])\nb",
            "outputs": [
                {
                    "output_type": "execute_result",
                    "metadata": {},
                    "data": {
                        "text/plain": "array([[5.+0.j, 0.-2.j],\n       [0.+2.j, 2.+0.j]])"
                    },
                    "execution_count": null
                }
            ]
        },
        {
            "id": "c8f32f85",
            "cell_type": "code",
            "metadata": {},
            "execution_count": null,
            "source": "wa, va = LA.eigh(a)\nwb, vb = LA.eig(b)\nwa",
            "outputs": [
                {
                    "output_type": "execute_result",
                    "metadata": {},
                    "data": {
                        "text/plain": "array([1., 6.])"
                    },
                    "execution_count": null
                }
            ]
        },
        {
            "id": "6456f22e",
            "cell_type": "code",
            "metadata": {},
            "execution_count": null,
            "source": "wb",
            "outputs": [
                {
                    "output_type": "execute_result",
                    "metadata": {},
                    "data": {
                        "text/plain": "array([6.+0.j, 1.+0.j])"
                    },
                    "execution_count": null
                }
            ]
        },
        {
            "id": "b4493a97",
            "cell_type": "code",
            "metadata": {},
            "execution_count": null,
            "source": "va",
            "outputs": [
                {
                    "output_type": "execute_result",
                    "metadata": {},
                    "data": {
                        "text/plain": "array([[-0.4472136 +0.j        , -0.89442719+0.j        ], # may vary\n       [ 0.        +0.89442719j,  0.        -0.4472136j ]])"
                    },
                    "execution_count": null
                }
            ]
        },
        {
            "id": "e6f1a06c",
            "cell_type": "code",
            "metadata": {},
            "execution_count": null,
            "source": "vb",
            "outputs": [
                {
                    "output_type": "execute_result",
                    "metadata": {},
                    "data": {
                        "text/plain": "array([[ 0.89442719+0.j       , -0.        +0.4472136j],\n       [-0.        +0.4472136j,  0.89442719+0.j       ]])"
                    },
                    "execution_count": null
                }
            ]
        }
    ]
}