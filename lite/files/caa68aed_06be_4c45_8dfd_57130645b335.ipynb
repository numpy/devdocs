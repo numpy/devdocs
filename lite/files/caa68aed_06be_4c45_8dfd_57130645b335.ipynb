{
    "nbformat": 4,
    "nbformat_minor": 5,
    "metadata": {
        "kernelspec": {
            "display_name": "Python",
            "language": "python",
            "name": "python"
        },
        "language_info": {
            "name": "python"
        }
    },
    "cells": [
        {
            "id": "6d651c57",
            "cell_type": "markdown",
            "source": "<div class='alert alert-warning'>\n\nNumPy's interactive examples are experimental and may not always work as expected, with high load times especially on low-resource platforms, and the version of NumPy might not be in sync with the one you are browsing the documentation for. If you encounter any issues, please report them on the [NumPy issue tracker](https://github.com/numpy/numpy/issues).\n\n</div>",
            "metadata": {}
        },
        {
            "id": "680c4d59",
            "cell_type": "code",
            "metadata": {},
            "execution_count": null,
            "source": "x = np.matrix(np.arange(12).reshape((3,4))); x",
            "outputs": [
                {
                    "output_type": "execute_result",
                    "metadata": {},
                    "data": {
                        "text/plain": "matrix([[ 0,  1,  2,  3],\n        [ 4,  5,  6,  7],\n        [ 8,  9, 10, 11]])"
                    },
                    "execution_count": null
                }
            ]
        },
        {
            "id": "e7feaeaf",
            "cell_type": "code",
            "metadata": {},
            "execution_count": null,
            "source": "y = x[0]; y",
            "outputs": [
                {
                    "output_type": "execute_result",
                    "metadata": {},
                    "data": {
                        "text/plain": "matrix([[0, 1, 2, 3]])"
                    },
                    "execution_count": null
                }
            ]
        },
        {
            "id": "2c649cb4",
            "cell_type": "code",
            "metadata": {},
            "execution_count": null,
            "source": "(x == y)",
            "outputs": [
                {
                    "output_type": "execute_result",
                    "metadata": {},
                    "data": {
                        "text/plain": "matrix([[ True,  True,  True,  True],\n        [False, False, False, False],\n        [False, False, False, False]])"
                    },
                    "execution_count": null
                }
            ]
        },
        {
            "id": "c48a6801",
            "cell_type": "code",
            "metadata": {},
            "execution_count": null,
            "source": "(x == y).all()",
            "outputs": [
                {
                    "output_type": "execute_result",
                    "metadata": {},
                    "data": {
                        "text/plain": "False"
                    },
                    "execution_count": null
                }
            ]
        },
        {
            "id": "c40c58e7",
            "cell_type": "code",
            "metadata": {},
            "execution_count": null,
            "source": "(x == y).all(0)",
            "outputs": [
                {
                    "output_type": "execute_result",
                    "metadata": {},
                    "data": {
                        "text/plain": "matrix([[False, False, False, False]])"
                    },
                    "execution_count": null
                }
            ]
        },
        {
            "id": "8faa9653",
            "cell_type": "code",
            "metadata": {},
            "execution_count": null,
            "source": "(x == y).all(1)",
            "outputs": [
                {
                    "output_type": "execute_result",
                    "metadata": {},
                    "data": {
                        "text/plain": "matrix([[ True],\n        [False],\n        [False]])"
                    },
                    "execution_count": null
                }
            ]
        }
    ]
}