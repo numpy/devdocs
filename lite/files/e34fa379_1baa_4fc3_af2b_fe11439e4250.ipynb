{
    "nbformat": 4,
    "nbformat_minor": 5,
    "metadata": {
        "kernelspec": {
            "display_name": "Python",
            "language": "python",
            "name": "python"
        },
        "language_info": {
            "name": "python"
        }
    },
    "cells": [
        {
            "id": "fe602aab",
            "cell_type": "markdown",
            "source": "<div class='alert alert-warning'>\n\nNumPy's interactive examples are experimental and may not always work as expected, with high load times especially on low-resource platforms, and the version of NumPy might not be in sync with the one you are browsing the documentation for. If you encounter any issues, please report them on the [NumPy issue tracker](https://github.com/numpy/numpy/issues).\n\n</div>",
            "metadata": {}
        },
        {
            "id": "8c421ece",
            "cell_type": "code",
            "metadata": {},
            "execution_count": null,
            "source": "rng = np.random.default_rng()\nrng.permutation(10)",
            "outputs": [
                {
                    "output_type": "execute_result",
                    "metadata": {},
                    "data": {
                        "text/plain": "array([1, 7, 4, 3, 0, 9, 2, 5, 8, 6]) # random"
                    },
                    "execution_count": null
                }
            ]
        },
        {
            "id": "faf81f91",
            "cell_type": "code",
            "metadata": {},
            "execution_count": null,
            "source": "rng.permutation([1, 4, 9, 12, 15])",
            "outputs": [
                {
                    "output_type": "execute_result",
                    "metadata": {},
                    "data": {
                        "text/plain": "array([15,  1,  9,  4, 12]) # random"
                    },
                    "execution_count": null
                }
            ]
        },
        {
            "id": "096632e2",
            "cell_type": "code",
            "metadata": {},
            "execution_count": null,
            "source": "arr = np.arange(9).reshape((3, 3))\nrng.permutation(arr)",
            "outputs": [
                {
                    "output_type": "execute_result",
                    "metadata": {},
                    "data": {
                        "text/plain": "array([[6, 7, 8], # random\n       [0, 1, 2],\n       [3, 4, 5]])"
                    },
                    "execution_count": null
                }
            ]
        },
        {
            "id": "5e8ca0e2",
            "cell_type": "code",
            "metadata": {},
            "execution_count": null,
            "source": "rng.permutation(\"abc\")",
            "outputs": [
                {
                    "output_type": "execute_result",
                    "metadata": {},
                    "data": {
                        "text/plain": "Traceback (most recent call last):\n    ...\nnumpy.exceptions.AxisError: axis 0 is out of bounds for array of dimension 0"
                    },
                    "execution_count": null
                }
            ]
        },
        {
            "id": "fbb3ee6d",
            "cell_type": "code",
            "metadata": {},
            "execution_count": null,
            "source": "arr = np.arange(9).reshape((3, 3))\nrng.permutation(arr, axis=1)",
            "outputs": [
                {
                    "output_type": "execute_result",
                    "metadata": {},
                    "data": {
                        "text/plain": "array([[0, 2, 1], # random\n       [3, 5, 4],\n       [6, 8, 7]])"
                    },
                    "execution_count": null
                }
            ]
        }
    ]
}