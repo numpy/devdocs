{
    "nbformat": 4,
    "nbformat_minor": 5,
    "metadata": {
        "kernelspec": {
            "display_name": "Python",
            "language": "python",
            "name": "python"
        },
        "language_info": {
            "name": "python"
        }
    },
    "cells": [
        {
            "id": "f1304069",
            "cell_type": "markdown",
            "source": "<div class='alert alert-warning'>\n\nNumPy's interactive examples are experimental and may not always work as expected, with high load times especially on low-resource platforms, and the version of NumPy might not be in sync with the one you are browsing the documentation for. If you encounter any issues, please report them on the [NumPy issue tracker](https://github.com/numpy/numpy/issues).\n\n</div>",
            "metadata": {}
        },
        {
            "id": "f2c27ec3",
            "cell_type": "code",
            "metadata": {},
            "execution_count": null,
            "source": "import numpy as np\nfrom numpy import linalg as LA\na = np.arange(9) - 4\na",
            "outputs": [
                {
                    "output_type": "execute_result",
                    "metadata": {},
                    "data": {
                        "text/plain": "array([-4, -3, -2, ...,  2,  3,  4])"
                    },
                    "execution_count": null
                }
            ]
        },
        {
            "id": "efc8beaa",
            "cell_type": "code",
            "metadata": {},
            "execution_count": null,
            "source": "b = a.reshape((3, 3))\nb",
            "outputs": [
                {
                    "output_type": "execute_result",
                    "metadata": {},
                    "data": {
                        "text/plain": "array([[-4, -3, -2],\n       [-1,  0,  1],\n       [ 2,  3,  4]])"
                    },
                    "execution_count": null
                }
            ]
        },
        {
            "id": "d6181a25",
            "cell_type": "code",
            "metadata": {},
            "execution_count": null,
            "source": "LA.norm(a)",
            "outputs": [
                {
                    "output_type": "execute_result",
                    "metadata": {},
                    "data": {
                        "text/plain": "7.745966692414834"
                    },
                    "execution_count": null
                }
            ]
        },
        {
            "id": "925f14ab",
            "cell_type": "code",
            "metadata": {},
            "execution_count": null,
            "source": "LA.norm(b)",
            "outputs": [
                {
                    "output_type": "execute_result",
                    "metadata": {},
                    "data": {
                        "text/plain": "7.745966692414834"
                    },
                    "execution_count": null
                }
            ]
        },
        {
            "id": "3f7d4f92",
            "cell_type": "code",
            "metadata": {},
            "execution_count": null,
            "source": "LA.norm(b, 'fro')",
            "outputs": [
                {
                    "output_type": "execute_result",
                    "metadata": {},
                    "data": {
                        "text/plain": "7.745966692414834"
                    },
                    "execution_count": null
                }
            ]
        },
        {
            "id": "f70d9089",
            "cell_type": "code",
            "metadata": {},
            "execution_count": null,
            "source": "LA.norm(a, np.inf)",
            "outputs": [
                {
                    "output_type": "execute_result",
                    "metadata": {},
                    "data": {
                        "text/plain": "4.0"
                    },
                    "execution_count": null
                }
            ]
        },
        {
            "id": "b9f06bf0",
            "cell_type": "code",
            "metadata": {},
            "execution_count": null,
            "source": "LA.norm(b, np.inf)",
            "outputs": [
                {
                    "output_type": "execute_result",
                    "metadata": {},
                    "data": {
                        "text/plain": "9.0"
                    },
                    "execution_count": null
                }
            ]
        },
        {
            "id": "9203a13b",
            "cell_type": "code",
            "metadata": {},
            "execution_count": null,
            "source": "LA.norm(a, -np.inf)",
            "outputs": [
                {
                    "output_type": "execute_result",
                    "metadata": {},
                    "data": {
                        "text/plain": "0.0"
                    },
                    "execution_count": null
                }
            ]
        },
        {
            "id": "56b32546",
            "cell_type": "code",
            "metadata": {},
            "execution_count": null,
            "source": "LA.norm(b, -np.inf)",
            "outputs": [
                {
                    "output_type": "execute_result",
                    "metadata": {},
                    "data": {
                        "text/plain": "2.0"
                    },
                    "execution_count": null
                }
            ]
        },
        {
            "id": "379fa367",
            "cell_type": "code",
            "metadata": {},
            "execution_count": null,
            "source": "LA.norm(a, 1)",
            "outputs": [
                {
                    "output_type": "execute_result",
                    "metadata": {},
                    "data": {
                        "text/plain": "20.0"
                    },
                    "execution_count": null
                }
            ]
        },
        {
            "id": "ea924aed",
            "cell_type": "code",
            "metadata": {},
            "execution_count": null,
            "source": "LA.norm(b, 1)",
            "outputs": [
                {
                    "output_type": "execute_result",
                    "metadata": {},
                    "data": {
                        "text/plain": "7.0"
                    },
                    "execution_count": null
                }
            ]
        },
        {
            "id": "795de178",
            "cell_type": "code",
            "metadata": {},
            "execution_count": null,
            "source": "LA.norm(a, -1)",
            "outputs": [
                {
                    "output_type": "execute_result",
                    "metadata": {},
                    "data": {
                        "text/plain": "-4.6566128774142013e-010"
                    },
                    "execution_count": null
                }
            ]
        },
        {
            "id": "af88a49d",
            "cell_type": "code",
            "metadata": {},
            "execution_count": null,
            "source": "LA.norm(b, -1)",
            "outputs": [
                {
                    "output_type": "execute_result",
                    "metadata": {},
                    "data": {
                        "text/plain": "6.0"
                    },
                    "execution_count": null
                }
            ]
        },
        {
            "id": "e6831d14",
            "cell_type": "code",
            "metadata": {},
            "execution_count": null,
            "source": "LA.norm(a, 2)",
            "outputs": [
                {
                    "output_type": "execute_result",
                    "metadata": {},
                    "data": {
                        "text/plain": "7.745966692414834"
                    },
                    "execution_count": null
                }
            ]
        },
        {
            "id": "9d07a1a4",
            "cell_type": "code",
            "metadata": {},
            "execution_count": null,
            "source": "LA.norm(b, 2)",
            "outputs": [
                {
                    "output_type": "execute_result",
                    "metadata": {},
                    "data": {
                        "text/plain": "7.3484692283495345"
                    },
                    "execution_count": null
                }
            ]
        },
        {
            "id": "f91e1c51",
            "cell_type": "code",
            "metadata": {},
            "execution_count": null,
            "source": "LA.norm(a, -2)",
            "outputs": [
                {
                    "output_type": "execute_result",
                    "metadata": {},
                    "data": {
                        "text/plain": "0.0"
                    },
                    "execution_count": null
                }
            ]
        },
        {
            "id": "599a6ac5",
            "cell_type": "code",
            "metadata": {},
            "execution_count": null,
            "source": "LA.norm(b, -2)",
            "outputs": [
                {
                    "output_type": "execute_result",
                    "metadata": {},
                    "data": {
                        "text/plain": "1.8570331885190563e-016 # may vary"
                    },
                    "execution_count": null
                }
            ]
        },
        {
            "id": "ec1c254b",
            "cell_type": "code",
            "metadata": {},
            "execution_count": null,
            "source": "LA.norm(a, 3)",
            "outputs": [
                {
                    "output_type": "execute_result",
                    "metadata": {},
                    "data": {
                        "text/plain": "5.8480354764257312 # may vary"
                    },
                    "execution_count": null
                }
            ]
        },
        {
            "id": "0a9a06d3",
            "cell_type": "code",
            "metadata": {},
            "execution_count": null,
            "source": "LA.norm(a, -3)",
            "outputs": [
                {
                    "output_type": "execute_result",
                    "metadata": {},
                    "data": {
                        "text/plain": "0.0"
                    },
                    "execution_count": null
                }
            ]
        },
        {
            "id": "aac73223",
            "cell_type": "markdown",
            "source": "Using the `axis` argument to compute vector norms:\n",
            "metadata": {}
        },
        {
            "id": "86046615",
            "cell_type": "code",
            "metadata": {},
            "execution_count": null,
            "source": "c = np.array([[ 1, 2, 3],\n              [-1, 1, 4]])\nLA.norm(c, axis=0)",
            "outputs": [
                {
                    "output_type": "execute_result",
                    "metadata": {},
                    "data": {
                        "text/plain": "array([ 1.41421356,  2.23606798,  5.        ])"
                    },
                    "execution_count": null
                }
            ]
        },
        {
            "id": "e5b484eb",
            "cell_type": "code",
            "metadata": {},
            "execution_count": null,
            "source": "LA.norm(c, axis=1)",
            "outputs": [
                {
                    "output_type": "execute_result",
                    "metadata": {},
                    "data": {
                        "text/plain": "array([ 3.74165739,  4.24264069])"
                    },
                    "execution_count": null
                }
            ]
        },
        {
            "id": "38536ac6",
            "cell_type": "code",
            "metadata": {},
            "execution_count": null,
            "source": "LA.norm(c, ord=1, axis=1)",
            "outputs": [
                {
                    "output_type": "execute_result",
                    "metadata": {},
                    "data": {
                        "text/plain": "array([ 6.,  6.])"
                    },
                    "execution_count": null
                }
            ]
        },
        {
            "id": "8f690ebf",
            "cell_type": "markdown",
            "source": "Using the `axis` argument to compute matrix norms:\n",
            "metadata": {}
        },
        {
            "id": "1c904c33",
            "cell_type": "code",
            "metadata": {},
            "execution_count": null,
            "source": "m = np.arange(8).reshape(2,2,2)\nLA.norm(m, axis=(1,2))",
            "outputs": [
                {
                    "output_type": "execute_result",
                    "metadata": {},
                    "data": {
                        "text/plain": "array([  3.74165739,  11.22497216])"
                    },
                    "execution_count": null
                }
            ]
        },
        {
            "id": "9aa43482",
            "cell_type": "code",
            "metadata": {},
            "execution_count": null,
            "source": "LA.norm(m[0, :, :]), LA.norm(m[1, :, :])",
            "outputs": [
                {
                    "output_type": "execute_result",
                    "metadata": {},
                    "data": {
                        "text/plain": "(3.7416573867739413, 11.224972160321824)"
                    },
                    "execution_count": null
                }
            ]
        }
    ]
}