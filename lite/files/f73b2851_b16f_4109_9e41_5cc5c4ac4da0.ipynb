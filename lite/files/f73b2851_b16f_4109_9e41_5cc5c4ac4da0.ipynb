{
    "nbformat": 4,
    "nbformat_minor": 5,
    "metadata": {
        "kernelspec": {
            "display_name": "Python",
            "language": "python",
            "name": "python"
        },
        "language_info": {
            "name": "python"
        }
    },
    "cells": [
        {
            "id": "3ba81588",
            "cell_type": "markdown",
            "source": "<div class='alert alert-warning'>\n\nNumPy's interactive examples are experimental and may not always work as expected, with high load times especially on low-resource platforms, and the version of NumPy might not be in sync with the one you are browsing the documentation for. If you encounter any issues, please report them on the [NumPy issue tracker](https://github.com/numpy/numpy/issues).\n\n</div>",
            "metadata": {}
        },
        {
            "id": "ab7da3d3",
            "cell_type": "code",
            "metadata": {},
            "execution_count": null,
            "source": "from numpy.polynomial.laguerre import lagval\ncoef = [1, 2, 3]\nlagval(1, coef)",
            "outputs": [
                {
                    "output_type": "execute_result",
                    "metadata": {},
                    "data": {
                        "text/plain": "-0.5"
                    },
                    "execution_count": null
                }
            ]
        },
        {
            "id": "667e6e18",
            "cell_type": "code",
            "metadata": {},
            "execution_count": null,
            "source": "lagval([[1, 2],[3, 4]], coef)",
            "outputs": [
                {
                    "output_type": "execute_result",
                    "metadata": {},
                    "data": {
                        "text/plain": "array([[-0.5, -4. ],\n       [-4.5, -2. ]])"
                    },
                    "execution_count": null
                }
            ]
        }
    ]
}