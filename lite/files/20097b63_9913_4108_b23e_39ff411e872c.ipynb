{
    "nbformat": 4,
    "nbformat_minor": 5,
    "metadata": {
        "kernelspec": {
            "display_name": "Python",
            "language": "python",
            "name": "python"
        },
        "language_info": {
            "name": "python"
        }
    },
    "cells": [
        {
            "id": "b3448707",
            "cell_type": "markdown",
            "source": "<div class='alert alert-warning'>\n\nNumPy's interactive examples are experimental and may not always work as expected, with high load times especially on low-resource platforms, and the version of NumPy might not be in sync with the one you are browsing the documentation for. If you encounter any issues, please report them on the [NumPy issue tracker](https://github.com/numpy/numpy/issues).\n\n</div>",
            "metadata": {}
        },
        {
            "id": "45d9efd4",
            "cell_type": "markdown",
            "source": "Draw samples from the distribution:\n",
            "metadata": {}
        },
        {
            "id": "0ee4f508",
            "cell_type": "code",
            "metadata": {},
            "execution_count": null,
            "source": "loc, scale = 10, 1\ns = np.random.logistic(loc, scale, 10000)\nimport matplotlib.pyplot as plt\ncount, bins, ignored = plt.hist(s, bins=50)",
            "outputs": []
        },
        {
            "id": "dcbfe6f1",
            "cell_type": "markdown",
            "source": "#   plot against distribution\n",
            "metadata": {}
        },
        {
            "id": "74ed14e0",
            "cell_type": "code",
            "metadata": {},
            "execution_count": null,
            "source": "def logist(x, loc, scale):\n    return np.exp((loc-x)/scale)/(scale*(1+np.exp((loc-x)/scale))**2)\nlgst_val = logist(bins, loc, scale)\nplt.plot(bins, lgst_val * count.max() / lgst_val.max())\nplt.show()",
            "outputs": []
        }
    ]
}