{
    "nbformat": 4,
    "nbformat_minor": 5,
    "metadata": {
        "kernelspec": {
            "display_name": "Python",
            "language": "python",
            "name": "python"
        },
        "language_info": {
            "name": "python"
        }
    },
    "cells": [
        {
            "id": "e524928b",
            "cell_type": "markdown",
            "source": "<div class='alert alert-warning'>\n\nNumPy's interactive examples are experimental and may not always work as expected, with high load times especially on low-resource platforms, and the version of NumPy might not be in sync with the one you are browsing the documentation for. If you encounter any issues, please report them on the [NumPy issue tracker](https://github.com/numpy/numpy/issues).\n\n</div>",
            "metadata": {}
        },
        {
            "id": "bbcbd27e",
            "cell_type": "code",
            "metadata": {},
            "execution_count": null,
            "source": "import numpy as np\na = np.array([[1, 2], [3, 4]])\na",
            "outputs": [
                {
                    "output_type": "execute_result",
                    "metadata": {},
                    "data": {
                        "text/plain": "array([[1, 2],\n       [3, 4]])"
                    },
                    "execution_count": null
                }
            ]
        },
        {
            "id": "c6a448cf",
            "cell_type": "code",
            "metadata": {},
            "execution_count": null,
            "source": "a.transpose()",
            "outputs": [
                {
                    "output_type": "execute_result",
                    "metadata": {},
                    "data": {
                        "text/plain": "array([[1, 3],\n       [2, 4]])"
                    },
                    "execution_count": null
                }
            ]
        },
        {
            "id": "d6b72f2d",
            "cell_type": "code",
            "metadata": {},
            "execution_count": null,
            "source": "a.transpose((1, 0))",
            "outputs": [
                {
                    "output_type": "execute_result",
                    "metadata": {},
                    "data": {
                        "text/plain": "array([[1, 3],\n       [2, 4]])"
                    },
                    "execution_count": null
                }
            ]
        },
        {
            "id": "a581801d",
            "cell_type": "code",
            "metadata": {},
            "execution_count": null,
            "source": "a.transpose(1, 0)",
            "outputs": [
                {
                    "output_type": "execute_result",
                    "metadata": {},
                    "data": {
                        "text/plain": "array([[1, 3],\n       [2, 4]])"
                    },
                    "execution_count": null
                }
            ]
        },
        {
            "id": "15305f76",
            "cell_type": "code",
            "metadata": {},
            "execution_count": null,
            "source": "a = np.array([1, 2, 3, 4])\na",
            "outputs": [
                {
                    "output_type": "execute_result",
                    "metadata": {},
                    "data": {
                        "text/plain": "array([1, 2, 3, 4])"
                    },
                    "execution_count": null
                }
            ]
        },
        {
            "id": "b30e646f",
            "cell_type": "code",
            "metadata": {},
            "execution_count": null,
            "source": "a.transpose()",
            "outputs": [
                {
                    "output_type": "execute_result",
                    "metadata": {},
                    "data": {
                        "text/plain": "array([1, 2, 3, 4])"
                    },
                    "execution_count": null
                }
            ]
        }
    ]
}