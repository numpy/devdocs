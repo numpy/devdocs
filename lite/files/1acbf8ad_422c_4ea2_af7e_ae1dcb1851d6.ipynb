{
    "nbformat": 4,
    "nbformat_minor": 5,
    "metadata": {
        "kernelspec": {
            "display_name": "Python",
            "language": "python",
            "name": "python"
        },
        "language_info": {
            "name": "python"
        }
    },
    "cells": [
        {
            "id": "ca1e2446",
            "cell_type": "markdown",
            "source": "<div class='alert alert-warning'>\n\nNumPy's interactive examples are experimental and may not always work as expected, with high load times especially on low-resource platforms, and the version of NumPy might not be in sync with the one you are browsing the documentation for. If you encounter any issues, please report them on the [NumPy issue tracker](https://github.com/numpy/numpy/issues).\n\n</div>",
            "metadata": {}
        },
        {
            "id": "167e46f8",
            "cell_type": "markdown",
            "source": "Draw samples from the distribution:\n",
            "metadata": {}
        },
        {
            "id": "a02af52b",
            "cell_type": "code",
            "metadata": {},
            "execution_count": null,
            "source": "a, m = 3., 2.  # shape and mode\ns = (np.random.pareto(a, 1000) + 1) * m",
            "outputs": []
        },
        {
            "id": "8bbe1c99",
            "cell_type": "markdown",
            "source": "Display the histogram of the samples, along with the probability\ndensity function:\n",
            "metadata": {}
        },
        {
            "id": "a55159fd",
            "cell_type": "code",
            "metadata": {},
            "execution_count": null,
            "source": "import matplotlib.pyplot as plt\ncount, bins, _ = plt.hist(s, 100, density=True)\nfit = a*m**a / bins**(a+1)\nplt.plot(bins, max(count)*fit/max(fit), linewidth=2, color='r')\nplt.show()",
            "outputs": []
        }
    ]
}