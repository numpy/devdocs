{
    "nbformat": 4,
    "nbformat_minor": 5,
    "metadata": {
        "kernelspec": {
            "display_name": "Python",
            "language": "python",
            "name": "python"
        },
        "language_info": {
            "name": "python"
        }
    },
    "cells": [
        {
            "id": "20fca60a",
            "cell_type": "markdown",
            "source": "<div class='alert alert-warning'>\n\nNumPy's interactive examples are experimental and may not always work as expected, with high load times especially on low-resource platforms, and the version of NumPy might not be in sync with the one you are browsing the documentation for. If you encounter any issues, please report them on the [NumPy issue tracker](https://github.com/numpy/numpy/issues).\n\n</div>",
            "metadata": {}
        },
        {
            "id": "7f0c158f",
            "cell_type": "markdown",
            "source": "Data type containing field ``col1`` (10-character string at\nbyte position 0), ``col2`` (32-bit float at byte position 10),\nand ``col3`` (integers at byte position 14):\n",
            "metadata": {}
        },
        {
            "id": "0196760c",
            "cell_type": "code",
            "metadata": {},
            "execution_count": null,
            "source": "import numpy as np",
            "outputs": []
        },
        {
            "id": "1ac2940f",
            "cell_type": "code",
            "metadata": {},
            "execution_count": null,
            "source": "dt = np.dtype({'col1': ('U10', 0), 'col2': (np.float32, 10),\n               'col3': (int, 14)})",
            "outputs": []
        }
    ]
}