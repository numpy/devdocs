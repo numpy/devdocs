{
    "nbformat": 4,
    "nbformat_minor": 5,
    "metadata": {
        "kernelspec": {
            "display_name": "Python",
            "language": "python",
            "name": "python"
        },
        "language_info": {
            "name": "python"
        }
    },
    "cells": [
        {
            "id": "81d6f1bb",
            "cell_type": "markdown",
            "source": "<div class='alert alert-warning'>\n\nNumPy's interactive examples are experimental and may not always work as expected, with high load times especially on low-resource platforms, and the version of NumPy might not be in sync with the one you are browsing the documentation for. If you encounter any issues, please report them on the [NumPy issue tracker](https://github.com/numpy/numpy/issues).\n\n</div>",
            "metadata": {}
        },
        {
            "id": "2f2e5ddc",
            "cell_type": "code",
            "metadata": {},
            "execution_count": null,
            "source": "import numpy as np\nnp.isclose([1e10,1e-7], [1.00001e10,1e-8])",
            "outputs": [
                {
                    "output_type": "execute_result",
                    "metadata": {},
                    "data": {
                        "text/plain": "array([ True, False])"
                    },
                    "execution_count": null
                }
            ]
        },
        {
            "id": "1c1571f7",
            "cell_type": "code",
            "metadata": {},
            "execution_count": null,
            "source": "np.isclose([1e10,1e-8], [1.00001e10,1e-9])",
            "outputs": [
                {
                    "output_type": "execute_result",
                    "metadata": {},
                    "data": {
                        "text/plain": "array([ True, True])"
                    },
                    "execution_count": null
                }
            ]
        },
        {
            "id": "bf3dbfa5",
            "cell_type": "code",
            "metadata": {},
            "execution_count": null,
            "source": "np.isclose([1e10,1e-8], [1.0001e10,1e-9])",
            "outputs": [
                {
                    "output_type": "execute_result",
                    "metadata": {},
                    "data": {
                        "text/plain": "array([False,  True])"
                    },
                    "execution_count": null
                }
            ]
        },
        {
            "id": "96832de2",
            "cell_type": "code",
            "metadata": {},
            "execution_count": null,
            "source": "np.isclose([1.0, np.nan], [1.0, np.nan])",
            "outputs": [
                {
                    "output_type": "execute_result",
                    "metadata": {},
                    "data": {
                        "text/plain": "array([ True, False])"
                    },
                    "execution_count": null
                }
            ]
        },
        {
            "id": "8838e691",
            "cell_type": "code",
            "metadata": {},
            "execution_count": null,
            "source": "np.isclose([1.0, np.nan], [1.0, np.nan], equal_nan=True)",
            "outputs": [
                {
                    "output_type": "execute_result",
                    "metadata": {},
                    "data": {
                        "text/plain": "array([ True, True])"
                    },
                    "execution_count": null
                }
            ]
        },
        {
            "id": "0262b35c",
            "cell_type": "code",
            "metadata": {},
            "execution_count": null,
            "source": "np.isclose([1e-8, 1e-7], [0.0, 0.0])",
            "outputs": [
                {
                    "output_type": "execute_result",
                    "metadata": {},
                    "data": {
                        "text/plain": "array([ True, False])"
                    },
                    "execution_count": null
                }
            ]
        },
        {
            "id": "dcf249ce",
            "cell_type": "code",
            "metadata": {},
            "execution_count": null,
            "source": "np.isclose([1e-100, 1e-7], [0.0, 0.0], atol=0.0)",
            "outputs": [
                {
                    "output_type": "execute_result",
                    "metadata": {},
                    "data": {
                        "text/plain": "array([False, False])"
                    },
                    "execution_count": null
                }
            ]
        },
        {
            "id": "cd1c546c",
            "cell_type": "code",
            "metadata": {},
            "execution_count": null,
            "source": "np.isclose([1e-10, 1e-10], [1e-20, 0.0])",
            "outputs": [
                {
                    "output_type": "execute_result",
                    "metadata": {},
                    "data": {
                        "text/plain": "array([ True,  True])"
                    },
                    "execution_count": null
                }
            ]
        },
        {
            "id": "f803769e",
            "cell_type": "code",
            "metadata": {},
            "execution_count": null,
            "source": "np.isclose([1e-10, 1e-10], [1e-20, 0.999999e-10], atol=0.0)",
            "outputs": [
                {
                    "output_type": "execute_result",
                    "metadata": {},
                    "data": {
                        "text/plain": "array([False,  True])"
                    },
                    "execution_count": null
                }
            ]
        }
    ]
}