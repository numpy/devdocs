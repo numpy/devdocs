{
    "nbformat": 4,
    "nbformat_minor": 5,
    "metadata": {
        "kernelspec": {
            "display_name": "Python",
            "language": "python",
            "name": "python"
        },
        "language_info": {
            "name": "python"
        }
    },
    "cells": [
        {
            "id": "64778b98",
            "cell_type": "markdown",
            "source": "<div class='alert alert-warning'>\n\nNumPy's interactive examples are experimental and may not always work as expected, with high load times especially on low-resource platforms, and the version of NumPy might not be in sync with the one you are browsing the documentation for. If you encounter any issues, please report them on the [NumPy issue tracker](https://github.com/numpy/numpy/issues).\n\n</div>",
            "metadata": {}
        },
        {
            "id": "63c49316",
            "cell_type": "code",
            "metadata": {},
            "execution_count": null,
            "source": "import numpy as np\nx = np.arange(10)\nnp.roll(x, 2)",
            "outputs": [
                {
                    "output_type": "execute_result",
                    "metadata": {},
                    "data": {
                        "text/plain": "array([8, 9, 0, 1, 2, 3, 4, 5, 6, 7])"
                    },
                    "execution_count": null
                }
            ]
        },
        {
            "id": "1206f9da",
            "cell_type": "code",
            "metadata": {},
            "execution_count": null,
            "source": "np.roll(x, -2)",
            "outputs": [
                {
                    "output_type": "execute_result",
                    "metadata": {},
                    "data": {
                        "text/plain": "array([2, 3, 4, 5, 6, 7, 8, 9, 0, 1])"
                    },
                    "execution_count": null
                }
            ]
        },
        {
            "id": "396f35e8",
            "cell_type": "code",
            "metadata": {},
            "execution_count": null,
            "source": "x2 = np.reshape(x, (2, 5))\nx2",
            "outputs": [
                {
                    "output_type": "execute_result",
                    "metadata": {},
                    "data": {
                        "text/plain": "array([[0, 1, 2, 3, 4],\n       [5, 6, 7, 8, 9]])"
                    },
                    "execution_count": null
                }
            ]
        },
        {
            "id": "46971824",
            "cell_type": "code",
            "metadata": {},
            "execution_count": null,
            "source": "np.roll(x2, 1)",
            "outputs": [
                {
                    "output_type": "execute_result",
                    "metadata": {},
                    "data": {
                        "text/plain": "array([[9, 0, 1, 2, 3],\n       [4, 5, 6, 7, 8]])"
                    },
                    "execution_count": null
                }
            ]
        },
        {
            "id": "49ede4d0",
            "cell_type": "code",
            "metadata": {},
            "execution_count": null,
            "source": "np.roll(x2, -1)",
            "outputs": [
                {
                    "output_type": "execute_result",
                    "metadata": {},
                    "data": {
                        "text/plain": "array([[1, 2, 3, 4, 5],\n       [6, 7, 8, 9, 0]])"
                    },
                    "execution_count": null
                }
            ]
        },
        {
            "id": "2e4d4692",
            "cell_type": "code",
            "metadata": {},
            "execution_count": null,
            "source": "np.roll(x2, 1, axis=0)",
            "outputs": [
                {
                    "output_type": "execute_result",
                    "metadata": {},
                    "data": {
                        "text/plain": "array([[5, 6, 7, 8, 9],\n       [0, 1, 2, 3, 4]])"
                    },
                    "execution_count": null
                }
            ]
        },
        {
            "id": "9abf8855",
            "cell_type": "code",
            "metadata": {},
            "execution_count": null,
            "source": "np.roll(x2, -1, axis=0)",
            "outputs": [
                {
                    "output_type": "execute_result",
                    "metadata": {},
                    "data": {
                        "text/plain": "array([[5, 6, 7, 8, 9],\n       [0, 1, 2, 3, 4]])"
                    },
                    "execution_count": null
                }
            ]
        },
        {
            "id": "148f4509",
            "cell_type": "code",
            "metadata": {},
            "execution_count": null,
            "source": "np.roll(x2, 1, axis=1)",
            "outputs": [
                {
                    "output_type": "execute_result",
                    "metadata": {},
                    "data": {
                        "text/plain": "array([[4, 0, 1, 2, 3],\n       [9, 5, 6, 7, 8]])"
                    },
                    "execution_count": null
                }
            ]
        },
        {
            "id": "1d0c2cc8",
            "cell_type": "code",
            "metadata": {},
            "execution_count": null,
            "source": "np.roll(x2, -1, axis=1)",
            "outputs": [
                {
                    "output_type": "execute_result",
                    "metadata": {},
                    "data": {
                        "text/plain": "array([[1, 2, 3, 4, 0],\n       [6, 7, 8, 9, 5]])"
                    },
                    "execution_count": null
                }
            ]
        },
        {
            "id": "e77452a1",
            "cell_type": "code",
            "metadata": {},
            "execution_count": null,
            "source": "np.roll(x2, (1, 1), axis=(1, 0))",
            "outputs": [
                {
                    "output_type": "execute_result",
                    "metadata": {},
                    "data": {
                        "text/plain": "array([[9, 5, 6, 7, 8],\n       [4, 0, 1, 2, 3]])"
                    },
                    "execution_count": null
                }
            ]
        },
        {
            "id": "019960dc",
            "cell_type": "code",
            "metadata": {},
            "execution_count": null,
            "source": "np.roll(x2, (2, 1), axis=(1, 0))",
            "outputs": [
                {
                    "output_type": "execute_result",
                    "metadata": {},
                    "data": {
                        "text/plain": "array([[8, 9, 5, 6, 7],\n       [3, 4, 0, 1, 2]])"
                    },
                    "execution_count": null
                }
            ]
        }
    ]
}