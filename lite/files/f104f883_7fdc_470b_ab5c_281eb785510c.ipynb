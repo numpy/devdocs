{
    "nbformat": 4,
    "nbformat_minor": 5,
    "metadata": {
        "kernelspec": {
            "display_name": "Python",
            "language": "python",
            "name": "python"
        },
        "language_info": {
            "name": "python"
        }
    },
    "cells": [
        {
            "id": "51946aa5",
            "cell_type": "markdown",
            "source": "<div class='alert alert-warning'>\n\nNumPy's interactive examples are experimental and may not always work as expected, with high load times especially on low-resource platforms, and the version of NumPy might not be in sync with the one you are browsing the documentation for. If you encounter any issues, please report them on the [NumPy issue tracker](https://github.com/numpy/numpy/issues).\n\n</div>",
            "metadata": {}
        },
        {
            "id": "86a4b014",
            "cell_type": "code",
            "metadata": {},
            "execution_count": null,
            "source": "import numpy as np",
            "outputs": []
        },
        {
            "id": "03ed8e03",
            "cell_type": "markdown",
            "source": "Beginning with an array of integers from 0 to 5 (inclusive),\nelements less than ``3`` are negated, elements greater than ``3``\nare squared, and elements not meeting either of these conditions\n(exactly ``3``) are replaced with a `default` value of ``42``.\n",
            "metadata": {}
        },
        {
            "id": "84a01b15",
            "cell_type": "code",
            "metadata": {},
            "execution_count": null,
            "source": "x = np.arange(6)\ncondlist = [x<3, x>3]\nchoicelist = [-x, x**2]\nnp.select(condlist, choicelist, 42)",
            "outputs": [
                {
                    "output_type": "execute_result",
                    "metadata": {},
                    "data": {
                        "text/plain": "array([ 0,  -1,  -2, 42, 16, 25])"
                    },
                    "execution_count": null
                }
            ]
        },
        {
            "id": "d304769d",
            "cell_type": "markdown",
            "source": "When multiple conditions are satisfied, the first one encountered in\n`condlist` is used.\n",
            "metadata": {}
        },
        {
            "id": "6f6d773b",
            "cell_type": "code",
            "metadata": {},
            "execution_count": null,
            "source": "condlist = [x<=4, x>3]\nchoicelist = [x, x**2]\nnp.select(condlist, choicelist, 55)",
            "outputs": [
                {
                    "output_type": "execute_result",
                    "metadata": {},
                    "data": {
                        "text/plain": "array([ 0,  1,  2,  3,  4, 25])"
                    },
                    "execution_count": null
                }
            ]
        }
    ]
}