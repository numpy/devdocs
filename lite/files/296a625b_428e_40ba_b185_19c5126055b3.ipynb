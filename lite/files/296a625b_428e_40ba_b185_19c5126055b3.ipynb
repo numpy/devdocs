{
    "nbformat": 4,
    "nbformat_minor": 5,
    "metadata": {
        "kernelspec": {
            "display_name": "Python",
            "language": "python",
            "name": "python"
        },
        "language_info": {
            "name": "python"
        }
    },
    "cells": [
        {
            "id": "59b22e80",
            "cell_type": "markdown",
            "source": "<div class='alert alert-warning'>\n\nNumPy's interactive examples are experimental and may not always work as expected, with high load times especially on low-resource platforms, and the version of NumPy might not be in sync with the one you are browsing the documentation for. If you encounter any issues, please report them on the [NumPy issue tracker](https://github.com/numpy/numpy/issues).\n\n</div>",
            "metadata": {}
        },
        {
            "id": "8be76385",
            "cell_type": "code",
            "metadata": {},
            "execution_count": null,
            "source": "import numpy as np\na = np.array([[1, 2], [3, np.nan]])\nnp.nanmax(a)",
            "outputs": [
                {
                    "output_type": "execute_result",
                    "metadata": {},
                    "data": {
                        "text/plain": "3.0"
                    },
                    "execution_count": null
                }
            ]
        },
        {
            "id": "31a1ea69",
            "cell_type": "code",
            "metadata": {},
            "execution_count": null,
            "source": "np.nanmax(a, axis=0)",
            "outputs": [
                {
                    "output_type": "execute_result",
                    "metadata": {},
                    "data": {
                        "text/plain": "array([3.,  2.])"
                    },
                    "execution_count": null
                }
            ]
        },
        {
            "id": "f577c6e7",
            "cell_type": "code",
            "metadata": {},
            "execution_count": null,
            "source": "np.nanmax(a, axis=1)",
            "outputs": [
                {
                    "output_type": "execute_result",
                    "metadata": {},
                    "data": {
                        "text/plain": "array([2.,  3.])"
                    },
                    "execution_count": null
                }
            ]
        },
        {
            "id": "78831bfd",
            "cell_type": "markdown",
            "source": "When positive infinity and negative infinity are present:\n",
            "metadata": {}
        },
        {
            "id": "57f20167",
            "cell_type": "code",
            "metadata": {},
            "execution_count": null,
            "source": "np.nanmax([1, 2, np.nan, -np.inf])",
            "outputs": [
                {
                    "output_type": "execute_result",
                    "metadata": {},
                    "data": {
                        "text/plain": "2.0"
                    },
                    "execution_count": null
                }
            ]
        },
        {
            "id": "51b7a8ff",
            "cell_type": "code",
            "metadata": {},
            "execution_count": null,
            "source": "np.nanmax([1, 2, np.nan, np.inf])",
            "outputs": [
                {
                    "output_type": "execute_result",
                    "metadata": {},
                    "data": {
                        "text/plain": "inf"
                    },
                    "execution_count": null
                }
            ]
        }
    ]
}