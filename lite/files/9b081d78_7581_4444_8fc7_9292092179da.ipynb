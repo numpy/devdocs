{
    "nbformat": 4,
    "nbformat_minor": 5,
    "metadata": {
        "kernelspec": {
            "display_name": "Python",
            "language": "python",
            "name": "python"
        },
        "language_info": {
            "name": "python"
        }
    },
    "cells": [
        {
            "id": "0bc51175",
            "cell_type": "markdown",
            "source": "<div class='alert alert-warning'>\n\nNumPy's interactive examples are experimental and may not always work as expected, with high load times especially on low-resource platforms, and the version of NumPy might not be in sync with the one you are browsing the documentation for. If you encounter any issues, please report them on the [NumPy issue tracker](https://github.com/numpy/numpy/issues).\n\n</div>",
            "metadata": {}
        },
        {
            "id": "72f17fae",
            "cell_type": "code",
            "metadata": {},
            "execution_count": null,
            "source": "import numpy as np\nx = np.ma.array([1,2,3,4,5], mask=[0,0,1,0,1], fill_value=-999)\nx.filled()",
            "outputs": [
                {
                    "output_type": "execute_result",
                    "metadata": {},
                    "data": {
                        "text/plain": "array([   1,    2, -999,    4, -999])"
                    },
                    "execution_count": null
                }
            ]
        },
        {
            "id": "bc07b7d6",
            "cell_type": "code",
            "metadata": {},
            "execution_count": null,
            "source": "x.filled(fill_value=1000)",
            "outputs": [
                {
                    "output_type": "execute_result",
                    "metadata": {},
                    "data": {
                        "text/plain": "array([   1,    2, 1000,    4, 1000])"
                    },
                    "execution_count": null
                }
            ]
        },
        {
            "id": "21f1ee33",
            "cell_type": "code",
            "metadata": {},
            "execution_count": null,
            "source": "type(x.filled())",
            "outputs": [
                {
                    "output_type": "execute_result",
                    "metadata": {},
                    "data": {
                        "text/plain": "<class 'numpy.ndarray'>"
                    },
                    "execution_count": null
                }
            ]
        },
        {
            "id": "8b5d19a6",
            "cell_type": "markdown",
            "source": "Subclassing is preserved. This means that if, e.g., the data part of\nthe masked array is a recarray, `filled` returns a recarray:\n",
            "metadata": {}
        },
        {
            "id": "7b3e862e",
            "cell_type": "code",
            "metadata": {},
            "execution_count": null,
            "source": "x = np.array([(-1, 2), (-3, 4)], dtype='i8,i8').view(np.recarray)\nm = np.ma.array(x, mask=[(True, False), (False, True)])\nm.filled()",
            "outputs": [
                {
                    "output_type": "execute_result",
                    "metadata": {},
                    "data": {
                        "text/plain": "rec.array([(999999,      2), (    -3, 999999)],\n          dtype=[('f0', '<i8'), ('f1', '<i8')])"
                    },
                    "execution_count": null
                }
            ]
        }
    ]
}